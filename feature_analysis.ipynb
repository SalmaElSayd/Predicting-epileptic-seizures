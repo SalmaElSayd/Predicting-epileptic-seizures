{
 "metadata": {
  "language_info": {
   "codemirror_mode": {
    "name": "ipython",
    "version": 3
   },
   "file_extension": ".py",
   "mimetype": "text/x-python",
   "name": "python",
   "nbconvert_exporter": "python",
   "pygments_lexer": "ipython3",
   "version": "3.7.3"
  },
  "orig_nbformat": 2,
  "kernelspec": {
   "name": "python37364bittfgpucondac099bc5da9054a33945af826af1262b9",
   "display_name": "Python 3.7.3 64-bit ('tf-gpu': conda)"
  },
  "metadata": {
   "interpreter": {
    "hash": "4b3fe4e430614ae3e36b8912aa67966595d32d796c9f5e46d3c96e8e35c078a4"
   }
  }
 },
 "nbformat": 4,
 "nbformat_minor": 2,
 "cells": [
  {
   "cell_type": "code",
   "execution_count": 136,
   "metadata": {},
   "outputs": [],
   "source": [
    "import os\n",
    "import glob\n",
    "import re\n",
    "import numpy as np\n",
    "import numpy.fft as fft\n",
    "import mne\n",
    "import matplotlib.pyplot as plt\n",
    "from scipy import stats, signal\n",
    "from numpy import save, load\n",
    "import pandas as pd\n",
    "import sklearn\n",
    "from sklearn.svm import SVC"
   ]
  },
  {
   "cell_type": "code",
   "execution_count": 137,
   "metadata": {},
   "outputs": [
    {
     "output_type": "execute_result",
     "data": {
      "text/plain": [
       "array([1, 2, 3, 4, 5, 6, 7, 8, 9])"
      ]
     },
     "metadata": {},
     "execution_count": 137
    }
   ],
   "source": [
    "np.arange(1, 10)"
   ]
  },
  {
   "cell_type": "code",
   "execution_count": 138,
   "metadata": {},
   "outputs": [],
   "source": [
    "def read_patient(subject_id):\n",
    "    # subject_id=1\n",
    "    base_path = \"min10/\"\n",
    "    X=load('min10/data_chb01/features_{}_00.npy'.format(subject_id))\n",
    "    y=load('min10/data_chb01/targets_{}_00.npy'.format(subject_id))\n",
    "    edf_file_names = sorted(glob.glob(os.path.join(base_path, \"data_chb{:02d}/*.npy\".format(subject_id))))\n",
    "    files=len(edf_file_names)\n",
    "    print(files)\n",
    "    print(X.shape)\n",
    "    start=1\n",
    "    for fileno in range(start, files//2):\n",
    "        print(fileno)\n",
    "        X=np.concatenate((X, load('min10/data_chb{:02d}/features_{}_{:02d}.npy'.format(subject_id, subject_id,   fileno))))\n",
    "        y=np.concatenate((y, load('min10/data_chb{:02d}/targets_{}_{:02d}.npy'.format(subject_id,subject_id,     fileno))))\n",
    "    return X,y\n"
   ]
  },
  {
   "cell_type": "code",
   "execution_count": 139,
   "metadata": {},
   "outputs": [
    {
     "output_type": "stream",
     "name": "stdout",
     "text": [
      "72\n(408, 208)\n"
     ]
    }
   ],
   "source": [
    "X,y=read_patients(2,3, 'features/')"
   ]
  },
  {
   "cell_type": "code",
   "execution_count": 140,
   "metadata": {},
   "outputs": [
    {
     "output_type": "execute_result",
     "data": {
      "text/plain": [
       "((13018, 208), (13018,))"
      ]
     },
     "metadata": {},
     "execution_count": 140
    }
   ],
   "source": [
    "X.shape, y.shape"
   ]
  },
  {
   "cell_type": "code",
   "execution_count": 141,
   "metadata": {},
   "outputs": [
    {
     "output_type": "stream",
     "name": "stdout",
     "text": [
      "['FP1-F7-0', 'FP1-F7-1', 'FP1-F7-2', 'FP1-F7-3', 'FP1-F7-4', 'FP1-F7-5', 'FP1-F7-6', 'FP1-F7-7', 'FP1-F7-8', 'F7-T7-0', 'F7-T7-1', 'F7-T7-2', 'F7-T7-3', 'F7-T7-4', 'F7-T7-5', 'F7-T7-6', 'F7-T7-7', 'F7-T7-8', 'T7-P7-0', 'T7-P7-1', 'T7-P7-2', 'T7-P7-3', 'T7-P7-4', 'T7-P7-5', 'T7-P7-6', 'T7-P7-7', 'T7-P7-8', 'P7-O1-0', 'P7-O1-1', 'P7-O1-2', 'P7-O1-3', 'P7-O1-4', 'P7-O1-5', 'P7-O1-6', 'P7-O1-7', 'P7-O1-8', 'FP1-F3-0', 'FP1-F3-1', 'FP1-F3-2', 'FP1-F3-3', 'FP1-F3-4', 'FP1-F3-5', 'FP1-F3-6', 'FP1-F3-7', 'FP1-F3-8', 'F3-C3-0', 'F3-C3-1', 'F3-C3-2', 'F3-C3-3', 'F3-C3-4', 'F3-C3-5', 'F3-C3-6', 'F3-C3-7', 'F3-C3-8', 'C3-P3-0', 'C3-P3-1', 'C3-P3-2', 'C3-P3-3', 'C3-P3-4', 'C3-P3-5', 'C3-P3-6', 'C3-P3-7', 'C3-P3-8', 'P3-O1-0', 'P3-O1-1', 'P3-O1-2', 'P3-O1-3', 'P3-O1-4', 'P3-O1-5', 'P3-O1-6', 'P3-O1-7', 'P3-O1-8', 'FP2-F4-0', 'FP2-F4-1', 'FP2-F4-2', 'FP2-F4-3', 'FP2-F4-4', 'FP2-F4-5', 'FP2-F4-6', 'FP2-F4-7', 'FP2-F4-8', 'F4-C4-0', 'F4-C4-1', 'F4-C4-2', 'F4-C4-3', 'F4-C4-4', 'F4-C4-5', 'F4-C4-6', 'F4-C4-7', 'F4-C4-8', 'C4-P4-0', 'C4-P4-1', 'C4-P4-2', 'C4-P4-3', 'C4-P4-4', 'C4-P4-5', 'C4-P4-6', 'C4-P4-7', 'C4-P4-8', 'P4-O2-0', 'P4-O2-1', 'P4-O2-2', 'P4-O2-3', 'P4-O2-4', 'P4-O2-5', 'P4-O2-6', 'P4-O2-7', 'P4-O2-8', 'FP2-F8-0', 'FP2-F8-1', 'FP2-F8-2', 'FP2-F8-3', 'FP2-F8-4', 'FP2-F8-5', 'FP2-F8-6', 'FP2-F8-7', 'FP2-F8-8', 'F8-T8-0', 'F8-T8-1', 'F8-T8-2', 'F8-T8-3', 'F8-T8-4', 'F8-T8-5', 'F8-T8-6', 'F8-T8-7', 'F8-T8-8', 'T8-P8-0-0', 'T8-P8-0-1', 'T8-P8-0-2', 'T8-P8-0-3', 'T8-P8-0-4', 'T8-P8-0-5', 'T8-P8-0-6', 'T8-P8-0-7', 'T8-P8-0-8', 'P8-O2-0', 'P8-O2-1', 'P8-O2-2', 'P8-O2-3', 'P8-O2-4', 'P8-O2-5', 'P8-O2-6', 'P8-O2-7', 'P8-O2-8', 'FZ-CZ-0', 'FZ-CZ-1', 'FZ-CZ-2', 'FZ-CZ-3', 'FZ-CZ-4', 'FZ-CZ-5', 'FZ-CZ-6', 'FZ-CZ-7', 'FZ-CZ-8', 'CZ-PZ-0', 'CZ-PZ-1', 'CZ-PZ-2', 'CZ-PZ-3', 'CZ-PZ-4', 'CZ-PZ-5', 'CZ-PZ-6', 'CZ-PZ-7', 'CZ-PZ-8', 'P7-T7-0', 'P7-T7-1', 'P7-T7-2', 'P7-T7-3', 'P7-T7-4', 'P7-T7-5', 'P7-T7-6', 'P7-T7-7', 'P7-T7-8', 'T7-FT9-0', 'T7-FT9-1', 'T7-FT9-2', 'T7-FT9-3', 'T7-FT9-4', 'T7-FT9-5', 'T7-FT9-6', 'T7-FT9-7', 'T7-FT9-8', 'FT9-FT10-0', 'FT9-FT10-1', 'FT9-FT10-2', 'FT9-FT10-3', 'FT9-FT10-4', 'FT9-FT10-5', 'FT9-FT10-6', 'FT9-FT10-7', 'FT9-FT10-8', 'FT10-T8-0', 'FT10-T8-1', 'FT10-T8-2', 'FT10-T8-3', 'FT10-T8-4', 'FT10-T8-5', 'FT10-T8-6', 'FT10-T8-7', 'FT10-T8-8', 'T8-P8-1-0', 'T8-P8-1-1', 'T8-P8-1-2', 'T8-P8-1-3', 'T8-P8-1-4', 'T8-P8-1-5', 'T8-P8-1-6', 'T8-P8-1-7', 'T8-P8-1-8', 'patient']\n"
     ]
    }
   ],
   "source": [
    "channel_order= {'FP1-F7':0, 'F7-T7':1, 'T7-P7':2, 'P7-O1':3, 'FP1-F3':4, 'F3-C3':5, 'C3-P3':6, 'P3-O1':7, 'FP2-F4':8, 'F4-C4':9, 'C4-P4':10, 'P4-O2':11, 'FP2-F8':12, 'F8-T8':13, 'T8-P8-0':14, 'P8-O2':15, 'FZ-CZ':16, 'CZ-PZ':17, 'P7-T7':18, 'T7-FT9':19, 'FT9-FT10':20, 'FT10-T8':21 ,'T8-P8-1':22 }\n",
    "col_names=[]\n",
    "for ch in channel_order:\n",
    "    # print(ch)\n",
    "    for i in range(0,9):\n",
    "        col_names.append(str(ch)+'-'+str(i))\n",
    "col_names.append('patient')\n",
    "print(col_names)"
   ]
  },
  {
   "cell_type": "code",
   "execution_count": 142,
   "metadata": {},
   "outputs": [
    {
     "output_type": "execute_result",
     "data": {
      "text/plain": [
       "(13018, 209)"
      ]
     },
     "metadata": {},
     "execution_count": 142
    }
   ],
   "source": [
    "df=pd.DataFrame(data=X, columns=col_names)\n",
    "df['target']=y\n",
    "df=df.dropna()\n",
    "df.shape"
   ]
  },
  {
   "cell_type": "code",
   "execution_count": 143,
   "metadata": {},
   "outputs": [],
   "source": [
    "df=df[(df['target']!=3)]"
   ]
  },
  {
   "cell_type": "code",
   "execution_count": 144,
   "metadata": {},
   "outputs": [],
   "source": [
    "from scipy.stats.stats import pearsonr\n",
    "coefs=np.zeros(207)\n",
    "p_vals=np.zeros(207)\n",
    "for i in range(0,207):\n",
    "    (coefs[i], p_vals[i])=pearsonr(df[col_names[i]], df['target'])"
   ]
  },
  {
   "cell_type": "code",
   "execution_count": 145,
   "metadata": {},
   "outputs": [
    {
     "output_type": "execute_result",
     "data": {
      "text/plain": [
       "(107, 6)"
      ]
     },
     "metadata": {},
     "execution_count": 145
    }
   ],
   "source": [
    "np.argmax(coefs), np.argmin(p_vals)"
   ]
  },
  {
   "cell_type": "code",
   "execution_count": 146,
   "metadata": {},
   "outputs": [
    {
     "output_type": "execute_result",
     "data": {
      "text/plain": [
       "       corr01            p01    feature\n",
       "0   -0.128907   7.740412e-48   FP1-F7-0\n",
       "1   -0.173240   1.708974e-85   FP1-F7-1\n",
       "2   -0.107872   6.151836e-34   FP1-F7-2\n",
       "3   -0.143646   4.381435e-59   FP1-F7-3\n",
       "5   -0.044234   6.772802e-07   FP1-F7-5\n",
       "..        ...            ...        ...\n",
       "202  0.055899   3.392034e-10  T8-P8-1-4\n",
       "203 -0.052819   2.971652e-09  T8-P8-1-5\n",
       "204  0.246336  1.471067e-173  T8-P8-1-6\n",
       "205  0.263578  2.547763e-199  T8-P8-1-7\n",
       "206  0.017567   4.860507e-02  T8-P8-1-8\n",
       "\n",
       "[192 rows x 3 columns]"
      ],
      "text/html": "<div>\n<style scoped>\n    .dataframe tbody tr th:only-of-type {\n        vertical-align: middle;\n    }\n\n    .dataframe tbody tr th {\n        vertical-align: top;\n    }\n\n    .dataframe thead th {\n        text-align: right;\n    }\n</style>\n<table border=\"1\" class=\"dataframe\">\n  <thead>\n    <tr style=\"text-align: right;\">\n      <th></th>\n      <th>corr01</th>\n      <th>p01</th>\n      <th>feature</th>\n    </tr>\n  </thead>\n  <tbody>\n    <tr>\n      <th>0</th>\n      <td>-0.128907</td>\n      <td>7.740412e-48</td>\n      <td>FP1-F7-0</td>\n    </tr>\n    <tr>\n      <th>1</th>\n      <td>-0.173240</td>\n      <td>1.708974e-85</td>\n      <td>FP1-F7-1</td>\n    </tr>\n    <tr>\n      <th>2</th>\n      <td>-0.107872</td>\n      <td>6.151836e-34</td>\n      <td>FP1-F7-2</td>\n    </tr>\n    <tr>\n      <th>3</th>\n      <td>-0.143646</td>\n      <td>4.381435e-59</td>\n      <td>FP1-F7-3</td>\n    </tr>\n    <tr>\n      <th>5</th>\n      <td>-0.044234</td>\n      <td>6.772802e-07</td>\n      <td>FP1-F7-5</td>\n    </tr>\n    <tr>\n      <th>...</th>\n      <td>...</td>\n      <td>...</td>\n      <td>...</td>\n    </tr>\n    <tr>\n      <th>202</th>\n      <td>0.055899</td>\n      <td>3.392034e-10</td>\n      <td>T8-P8-1-4</td>\n    </tr>\n    <tr>\n      <th>203</th>\n      <td>-0.052819</td>\n      <td>2.971652e-09</td>\n      <td>T8-P8-1-5</td>\n    </tr>\n    <tr>\n      <th>204</th>\n      <td>0.246336</td>\n      <td>1.471067e-173</td>\n      <td>T8-P8-1-6</td>\n    </tr>\n    <tr>\n      <th>205</th>\n      <td>0.263578</td>\n      <td>2.547763e-199</td>\n      <td>T8-P8-1-7</td>\n    </tr>\n    <tr>\n      <th>206</th>\n      <td>0.017567</td>\n      <td>4.860507e-02</td>\n      <td>T8-P8-1-8</td>\n    </tr>\n  </tbody>\n</table>\n<p>192 rows × 3 columns</p>\n</div>"
     },
     "metadata": {},
     "execution_count": 146
    }
   ],
   "source": [
    "corr_df=pd.DataFrame(data={'corr01':coefs,'p01': p_vals})\n",
    "corr_df['feature']=col_names[:-1]\n",
    "corr_df[corr_df['p01']<0.05]"
   ]
  },
  {
   "cell_type": "code",
   "execution_count": 147,
   "metadata": {},
   "outputs": [
    {
     "output_type": "execute_result",
     "data": {
      "text/plain": [
       "       corr01            p01     feature\n",
       "107  0.610408   0.000000e+00     P4-O2-8\n",
       "35   0.595723   0.000000e+00     P7-O1-8\n",
       "98   0.594710   0.000000e+00     C4-P4-8\n",
       "143  0.573800   0.000000e+00     P8-O2-8\n",
       "116  0.571192   0.000000e+00    FP2-F8-8\n",
       "179  0.568081   0.000000e+00    T7-FT9-8\n",
       "44   0.533156   0.000000e+00    FP1-F3-8\n",
       "53   0.530325   0.000000e+00     F3-C3-8\n",
       "188  0.503084   0.000000e+00  FT9-FT10-8\n",
       "8    0.475325   0.000000e+00    FP1-F7-8\n",
       "170  0.423427   0.000000e+00     P7-T7-8\n",
       "26   0.423413   0.000000e+00     T7-P7-8\n",
       "42   0.399981   0.000000e+00    FP1-F3-6\n",
       "51   0.398601   0.000000e+00     F3-C3-6\n",
       "17   0.397075   0.000000e+00     F7-T7-8\n",
       "168  0.396929   0.000000e+00     P7-T7-6\n",
       "24   0.396882   0.000000e+00     T7-P7-6\n",
       "152  0.396144   0.000000e+00     FZ-CZ-8\n",
       "71   0.388472   0.000000e+00     P3-O1-8\n",
       "60   0.385482   0.000000e+00     C3-P3-6\n",
       "123  0.371772   0.000000e+00     F8-T8-6\n",
       "33   0.360310   0.000000e+00     P7-O1-6\n",
       "15   0.352099   0.000000e+00     F7-T7-6\n",
       "96   0.347396   0.000000e+00     C4-P4-6\n",
       "6    0.343454   0.000000e+00    FP1-F7-6\n",
       "186  0.334916   0.000000e+00  FT9-FT10-6\n",
       "125  0.321998  6.750783e-302     F8-T8-8\n",
       "160  0.320335  1.232652e-298     CZ-PZ-7\n",
       "105  0.319383  8.889469e-297     P4-O2-6\n",
       "114  0.313164  8.242694e-285    FP2-F8-6\n",
       "141  0.311922  1.875455e-282     P8-O2-6\n",
       "78   0.264687  4.799263e-201    FP2-F4-6\n",
       "133  0.263653  1.947124e-199   T8-P8-0-7\n",
       "205  0.263578  2.547763e-199   T8-P8-1-7\n",
       "62   0.255416  7.036254e-187     C3-P3-8\n",
       "69   0.247543  2.679685e-175     P3-O1-6\n",
       "204  0.246336  1.471067e-173   T8-P8-1-6\n",
       "132  0.245451  2.731983e-172   T8-P8-0-6\n",
       "150  0.221381  1.011802e-139     FZ-CZ-6\n",
       "157  0.217619  5.747911e-135     CZ-PZ-4"
      ],
      "text/html": "<div>\n<style scoped>\n    .dataframe tbody tr th:only-of-type {\n        vertical-align: middle;\n    }\n\n    .dataframe tbody tr th {\n        vertical-align: top;\n    }\n\n    .dataframe thead th {\n        text-align: right;\n    }\n</style>\n<table border=\"1\" class=\"dataframe\">\n  <thead>\n    <tr style=\"text-align: right;\">\n      <th></th>\n      <th>corr01</th>\n      <th>p01</th>\n      <th>feature</th>\n    </tr>\n  </thead>\n  <tbody>\n    <tr>\n      <th>107</th>\n      <td>0.610408</td>\n      <td>0.000000e+00</td>\n      <td>P4-O2-8</td>\n    </tr>\n    <tr>\n      <th>35</th>\n      <td>0.595723</td>\n      <td>0.000000e+00</td>\n      <td>P7-O1-8</td>\n    </tr>\n    <tr>\n      <th>98</th>\n      <td>0.594710</td>\n      <td>0.000000e+00</td>\n      <td>C4-P4-8</td>\n    </tr>\n    <tr>\n      <th>143</th>\n      <td>0.573800</td>\n      <td>0.000000e+00</td>\n      <td>P8-O2-8</td>\n    </tr>\n    <tr>\n      <th>116</th>\n      <td>0.571192</td>\n      <td>0.000000e+00</td>\n      <td>FP2-F8-8</td>\n    </tr>\n    <tr>\n      <th>179</th>\n      <td>0.568081</td>\n      <td>0.000000e+00</td>\n      <td>T7-FT9-8</td>\n    </tr>\n    <tr>\n      <th>44</th>\n      <td>0.533156</td>\n      <td>0.000000e+00</td>\n      <td>FP1-F3-8</td>\n    </tr>\n    <tr>\n      <th>53</th>\n      <td>0.530325</td>\n      <td>0.000000e+00</td>\n      <td>F3-C3-8</td>\n    </tr>\n    <tr>\n      <th>188</th>\n      <td>0.503084</td>\n      <td>0.000000e+00</td>\n      <td>FT9-FT10-8</td>\n    </tr>\n    <tr>\n      <th>8</th>\n      <td>0.475325</td>\n      <td>0.000000e+00</td>\n      <td>FP1-F7-8</td>\n    </tr>\n    <tr>\n      <th>170</th>\n      <td>0.423427</td>\n      <td>0.000000e+00</td>\n      <td>P7-T7-8</td>\n    </tr>\n    <tr>\n      <th>26</th>\n      <td>0.423413</td>\n      <td>0.000000e+00</td>\n      <td>T7-P7-8</td>\n    </tr>\n    <tr>\n      <th>42</th>\n      <td>0.399981</td>\n      <td>0.000000e+00</td>\n      <td>FP1-F3-6</td>\n    </tr>\n    <tr>\n      <th>51</th>\n      <td>0.398601</td>\n      <td>0.000000e+00</td>\n      <td>F3-C3-6</td>\n    </tr>\n    <tr>\n      <th>17</th>\n      <td>0.397075</td>\n      <td>0.000000e+00</td>\n      <td>F7-T7-8</td>\n    </tr>\n    <tr>\n      <th>168</th>\n      <td>0.396929</td>\n      <td>0.000000e+00</td>\n      <td>P7-T7-6</td>\n    </tr>\n    <tr>\n      <th>24</th>\n      <td>0.396882</td>\n      <td>0.000000e+00</td>\n      <td>T7-P7-6</td>\n    </tr>\n    <tr>\n      <th>152</th>\n      <td>0.396144</td>\n      <td>0.000000e+00</td>\n      <td>FZ-CZ-8</td>\n    </tr>\n    <tr>\n      <th>71</th>\n      <td>0.388472</td>\n      <td>0.000000e+00</td>\n      <td>P3-O1-8</td>\n    </tr>\n    <tr>\n      <th>60</th>\n      <td>0.385482</td>\n      <td>0.000000e+00</td>\n      <td>C3-P3-6</td>\n    </tr>\n    <tr>\n      <th>123</th>\n      <td>0.371772</td>\n      <td>0.000000e+00</td>\n      <td>F8-T8-6</td>\n    </tr>\n    <tr>\n      <th>33</th>\n      <td>0.360310</td>\n      <td>0.000000e+00</td>\n      <td>P7-O1-6</td>\n    </tr>\n    <tr>\n      <th>15</th>\n      <td>0.352099</td>\n      <td>0.000000e+00</td>\n      <td>F7-T7-6</td>\n    </tr>\n    <tr>\n      <th>96</th>\n      <td>0.347396</td>\n      <td>0.000000e+00</td>\n      <td>C4-P4-6</td>\n    </tr>\n    <tr>\n      <th>6</th>\n      <td>0.343454</td>\n      <td>0.000000e+00</td>\n      <td>FP1-F7-6</td>\n    </tr>\n    <tr>\n      <th>186</th>\n      <td>0.334916</td>\n      <td>0.000000e+00</td>\n      <td>FT9-FT10-6</td>\n    </tr>\n    <tr>\n      <th>125</th>\n      <td>0.321998</td>\n      <td>6.750783e-302</td>\n      <td>F8-T8-8</td>\n    </tr>\n    <tr>\n      <th>160</th>\n      <td>0.320335</td>\n      <td>1.232652e-298</td>\n      <td>CZ-PZ-7</td>\n    </tr>\n    <tr>\n      <th>105</th>\n      <td>0.319383</td>\n      <td>8.889469e-297</td>\n      <td>P4-O2-6</td>\n    </tr>\n    <tr>\n      <th>114</th>\n      <td>0.313164</td>\n      <td>8.242694e-285</td>\n      <td>FP2-F8-6</td>\n    </tr>\n    <tr>\n      <th>141</th>\n      <td>0.311922</td>\n      <td>1.875455e-282</td>\n      <td>P8-O2-6</td>\n    </tr>\n    <tr>\n      <th>78</th>\n      <td>0.264687</td>\n      <td>4.799263e-201</td>\n      <td>FP2-F4-6</td>\n    </tr>\n    <tr>\n      <th>133</th>\n      <td>0.263653</td>\n      <td>1.947124e-199</td>\n      <td>T8-P8-0-7</td>\n    </tr>\n    <tr>\n      <th>205</th>\n      <td>0.263578</td>\n      <td>2.547763e-199</td>\n      <td>T8-P8-1-7</td>\n    </tr>\n    <tr>\n      <th>62</th>\n      <td>0.255416</td>\n      <td>7.036254e-187</td>\n      <td>C3-P3-8</td>\n    </tr>\n    <tr>\n      <th>69</th>\n      <td>0.247543</td>\n      <td>2.679685e-175</td>\n      <td>P3-O1-6</td>\n    </tr>\n    <tr>\n      <th>204</th>\n      <td>0.246336</td>\n      <td>1.471067e-173</td>\n      <td>T8-P8-1-6</td>\n    </tr>\n    <tr>\n      <th>132</th>\n      <td>0.245451</td>\n      <td>2.731983e-172</td>\n      <td>T8-P8-0-6</td>\n    </tr>\n    <tr>\n      <th>150</th>\n      <td>0.221381</td>\n      <td>1.011802e-139</td>\n      <td>FZ-CZ-6</td>\n    </tr>\n    <tr>\n      <th>157</th>\n      <td>0.217619</td>\n      <td>5.747911e-135</td>\n      <td>CZ-PZ-4</td>\n    </tr>\n  </tbody>\n</table>\n</div>"
     },
     "metadata": {},
     "execution_count": 147
    }
   ],
   "source": [
    "corr_df.nlargest(40, ['corr01'])"
   ]
  },
  {
   "cell_type": "code",
   "execution_count": 148,
   "metadata": {},
   "outputs": [
    {
     "output_type": "execute_result",
     "data": {
      "text/plain": [
       "       corr01            p01     feature\n",
       "156 -0.259488  4.975209e-193     CZ-PZ-3\n",
       "153 -0.234823  1.896826e-157     CZ-PZ-0\n",
       "147 -0.218445  5.288289e-136     FZ-CZ-3\n",
       "57  -0.214620  3.068379e-131     C3-P3-3\n",
       "163 -0.205764  1.455308e-120     P7-T7-1\n",
       "19  -0.205615  2.182816e-120     T7-P7-1\n",
       "37  -0.193911  4.916354e-107    FP1-F3-1\n",
       "48  -0.190158  6.228862e-103     F3-C3-3\n",
       "144 -0.189315  5.066851e-102     FZ-CZ-0\n",
       "54  -0.187269  7.859195e-100     C3-P3-0\n",
       "28  -0.187165   1.013020e-99     P7-O1-1\n",
       "181 -0.185966   1.890150e-98  FT9-FT10-1\n",
       "10  -0.181202   1.741998e-93     F7-T7-1\n",
       "109 -0.174137   2.246488e-86    FP2-F8-1\n",
       "1   -0.173240   1.708974e-85    FP1-F7-1\n",
       "84  -0.172921   3.508579e-85     F4-C4-3\n",
       "118 -0.169042   1.970109e-81     F8-T8-1\n",
       "45  -0.165975   1.565206e-78     F3-C3-0\n",
       "46  -0.164868   1.689734e-77     F3-C3-1\n",
       "66  -0.164325   5.397848e-77     P3-O1-3\n",
       "155 -0.162778   1.442956e-75     CZ-PZ-2\n",
       "56  -0.160013   4.717407e-73     C3-P3-2\n",
       "91  -0.156494   6.441908e-70     C4-P4-1\n",
       "39  -0.154361   4.725703e-68    FP1-F3-3\n",
       "93  -0.152653   1.407488e-66     C4-P4-3\n",
       "100 -0.150968   3.859431e-65     P4-O2-1\n",
       "136 -0.148469   4.872788e-63     P8-O2-1\n",
       "3   -0.143646   4.381435e-59    FP1-F7-3\n",
       "180 -0.141914   1.067531e-57  FT9-FT10-0\n",
       "81  -0.141319   3.165236e-57     F4-C4-0"
      ],
      "text/html": "<div>\n<style scoped>\n    .dataframe tbody tr th:only-of-type {\n        vertical-align: middle;\n    }\n\n    .dataframe tbody tr th {\n        vertical-align: top;\n    }\n\n    .dataframe thead th {\n        text-align: right;\n    }\n</style>\n<table border=\"1\" class=\"dataframe\">\n  <thead>\n    <tr style=\"text-align: right;\">\n      <th></th>\n      <th>corr01</th>\n      <th>p01</th>\n      <th>feature</th>\n    </tr>\n  </thead>\n  <tbody>\n    <tr>\n      <th>156</th>\n      <td>-0.259488</td>\n      <td>4.975209e-193</td>\n      <td>CZ-PZ-3</td>\n    </tr>\n    <tr>\n      <th>153</th>\n      <td>-0.234823</td>\n      <td>1.896826e-157</td>\n      <td>CZ-PZ-0</td>\n    </tr>\n    <tr>\n      <th>147</th>\n      <td>-0.218445</td>\n      <td>5.288289e-136</td>\n      <td>FZ-CZ-3</td>\n    </tr>\n    <tr>\n      <th>57</th>\n      <td>-0.214620</td>\n      <td>3.068379e-131</td>\n      <td>C3-P3-3</td>\n    </tr>\n    <tr>\n      <th>163</th>\n      <td>-0.205764</td>\n      <td>1.455308e-120</td>\n      <td>P7-T7-1</td>\n    </tr>\n    <tr>\n      <th>19</th>\n      <td>-0.205615</td>\n      <td>2.182816e-120</td>\n      <td>T7-P7-1</td>\n    </tr>\n    <tr>\n      <th>37</th>\n      <td>-0.193911</td>\n      <td>4.916354e-107</td>\n      <td>FP1-F3-1</td>\n    </tr>\n    <tr>\n      <th>48</th>\n      <td>-0.190158</td>\n      <td>6.228862e-103</td>\n      <td>F3-C3-3</td>\n    </tr>\n    <tr>\n      <th>144</th>\n      <td>-0.189315</td>\n      <td>5.066851e-102</td>\n      <td>FZ-CZ-0</td>\n    </tr>\n    <tr>\n      <th>54</th>\n      <td>-0.187269</td>\n      <td>7.859195e-100</td>\n      <td>C3-P3-0</td>\n    </tr>\n    <tr>\n      <th>28</th>\n      <td>-0.187165</td>\n      <td>1.013020e-99</td>\n      <td>P7-O1-1</td>\n    </tr>\n    <tr>\n      <th>181</th>\n      <td>-0.185966</td>\n      <td>1.890150e-98</td>\n      <td>FT9-FT10-1</td>\n    </tr>\n    <tr>\n      <th>10</th>\n      <td>-0.181202</td>\n      <td>1.741998e-93</td>\n      <td>F7-T7-1</td>\n    </tr>\n    <tr>\n      <th>109</th>\n      <td>-0.174137</td>\n      <td>2.246488e-86</td>\n      <td>FP2-F8-1</td>\n    </tr>\n    <tr>\n      <th>1</th>\n      <td>-0.173240</td>\n      <td>1.708974e-85</td>\n      <td>FP1-F7-1</td>\n    </tr>\n    <tr>\n      <th>84</th>\n      <td>-0.172921</td>\n      <td>3.508579e-85</td>\n      <td>F4-C4-3</td>\n    </tr>\n    <tr>\n      <th>118</th>\n      <td>-0.169042</td>\n      <td>1.970109e-81</td>\n      <td>F8-T8-1</td>\n    </tr>\n    <tr>\n      <th>45</th>\n      <td>-0.165975</td>\n      <td>1.565206e-78</td>\n      <td>F3-C3-0</td>\n    </tr>\n    <tr>\n      <th>46</th>\n      <td>-0.164868</td>\n      <td>1.689734e-77</td>\n      <td>F3-C3-1</td>\n    </tr>\n    <tr>\n      <th>66</th>\n      <td>-0.164325</td>\n      <td>5.397848e-77</td>\n      <td>P3-O1-3</td>\n    </tr>\n    <tr>\n      <th>155</th>\n      <td>-0.162778</td>\n      <td>1.442956e-75</td>\n      <td>CZ-PZ-2</td>\n    </tr>\n    <tr>\n      <th>56</th>\n      <td>-0.160013</td>\n      <td>4.717407e-73</td>\n      <td>C3-P3-2</td>\n    </tr>\n    <tr>\n      <th>91</th>\n      <td>-0.156494</td>\n      <td>6.441908e-70</td>\n      <td>C4-P4-1</td>\n    </tr>\n    <tr>\n      <th>39</th>\n      <td>-0.154361</td>\n      <td>4.725703e-68</td>\n      <td>FP1-F3-3</td>\n    </tr>\n    <tr>\n      <th>93</th>\n      <td>-0.152653</td>\n      <td>1.407488e-66</td>\n      <td>C4-P4-3</td>\n    </tr>\n    <tr>\n      <th>100</th>\n      <td>-0.150968</td>\n      <td>3.859431e-65</td>\n      <td>P4-O2-1</td>\n    </tr>\n    <tr>\n      <th>136</th>\n      <td>-0.148469</td>\n      <td>4.872788e-63</td>\n      <td>P8-O2-1</td>\n    </tr>\n    <tr>\n      <th>3</th>\n      <td>-0.143646</td>\n      <td>4.381435e-59</td>\n      <td>FP1-F7-3</td>\n    </tr>\n    <tr>\n      <th>180</th>\n      <td>-0.141914</td>\n      <td>1.067531e-57</td>\n      <td>FT9-FT10-0</td>\n    </tr>\n    <tr>\n      <th>81</th>\n      <td>-0.141319</td>\n      <td>3.165236e-57</td>\n      <td>F4-C4-0</td>\n    </tr>\n  </tbody>\n</table>\n</div>"
     },
     "metadata": {},
     "execution_count": 148
    }
   ],
   "source": [
    "corr_df.nsmallest(30, ['corr01'])"
   ]
  },
  {
   "cell_type": "code",
   "execution_count": 149,
   "metadata": {},
   "outputs": [
    {
     "output_type": "execute_result",
     "data": {
      "text/plain": [
       "       corr01            p01   feature\n",
       "107  0.610408   0.000000e+00   P4-O2-8\n",
       "35   0.595723   0.000000e+00   P7-O1-8\n",
       "98   0.594710   0.000000e+00   C4-P4-8\n",
       "143  0.573800   0.000000e+00   P8-O2-8\n",
       "116  0.571192   0.000000e+00  FP2-F8-8\n",
       "..        ...            ...       ...\n",
       "163 -0.205764  1.455308e-120   P7-T7-1\n",
       "57  -0.214620  3.068379e-131   C3-P3-3\n",
       "147 -0.218445  5.288289e-136   FZ-CZ-3\n",
       "153 -0.234823  1.896826e-157   CZ-PZ-0\n",
       "156 -0.259488  4.975209e-193   CZ-PZ-3\n",
       "\n",
       "[207 rows x 3 columns]"
      ],
      "text/html": "<div>\n<style scoped>\n    .dataframe tbody tr th:only-of-type {\n        vertical-align: middle;\n    }\n\n    .dataframe tbody tr th {\n        vertical-align: top;\n    }\n\n    .dataframe thead th {\n        text-align: right;\n    }\n</style>\n<table border=\"1\" class=\"dataframe\">\n  <thead>\n    <tr style=\"text-align: right;\">\n      <th></th>\n      <th>corr01</th>\n      <th>p01</th>\n      <th>feature</th>\n    </tr>\n  </thead>\n  <tbody>\n    <tr>\n      <th>107</th>\n      <td>0.610408</td>\n      <td>0.000000e+00</td>\n      <td>P4-O2-8</td>\n    </tr>\n    <tr>\n      <th>35</th>\n      <td>0.595723</td>\n      <td>0.000000e+00</td>\n      <td>P7-O1-8</td>\n    </tr>\n    <tr>\n      <th>98</th>\n      <td>0.594710</td>\n      <td>0.000000e+00</td>\n      <td>C4-P4-8</td>\n    </tr>\n    <tr>\n      <th>143</th>\n      <td>0.573800</td>\n      <td>0.000000e+00</td>\n      <td>P8-O2-8</td>\n    </tr>\n    <tr>\n      <th>116</th>\n      <td>0.571192</td>\n      <td>0.000000e+00</td>\n      <td>FP2-F8-8</td>\n    </tr>\n    <tr>\n      <th>...</th>\n      <td>...</td>\n      <td>...</td>\n      <td>...</td>\n    </tr>\n    <tr>\n      <th>163</th>\n      <td>-0.205764</td>\n      <td>1.455308e-120</td>\n      <td>P7-T7-1</td>\n    </tr>\n    <tr>\n      <th>57</th>\n      <td>-0.214620</td>\n      <td>3.068379e-131</td>\n      <td>C3-P3-3</td>\n    </tr>\n    <tr>\n      <th>147</th>\n      <td>-0.218445</td>\n      <td>5.288289e-136</td>\n      <td>FZ-CZ-3</td>\n    </tr>\n    <tr>\n      <th>153</th>\n      <td>-0.234823</td>\n      <td>1.896826e-157</td>\n      <td>CZ-PZ-0</td>\n    </tr>\n    <tr>\n      <th>156</th>\n      <td>-0.259488</td>\n      <td>4.975209e-193</td>\n      <td>CZ-PZ-3</td>\n    </tr>\n  </tbody>\n</table>\n<p>207 rows × 3 columns</p>\n</div>"
     },
     "metadata": {},
     "execution_count": 149
    }
   ],
   "source": [
    "corr_df=corr_df.sort_values('corr01', ascending=False)\n",
    "corr_df"
   ]
  },
  {
   "cell_type": "code",
   "execution_count": null,
   "metadata": {},
   "outputs": [],
   "source": [
    "grid_df.to_csv(r'grid_search.csv')"
   ]
  },
  {
   "cell_type": "code",
   "execution_count": 84,
   "metadata": {},
   "outputs": [
    {
     "output_type": "execute_result",
     "data": {
      "text/plain": [
       "47      F3-C3-2\n",
       "65      P3-O1-2\n",
       "29      P7-O1-2\n",
       "48      F3-C3-3\n",
       "164     P7-T7-2\n",
       "         ...   \n",
       "78     FP2-F4-6\n",
       "80     FP2-F4-8\n",
       "2      FP1-F7-2\n",
       "77     FP2-F4-5\n",
       "76     FP2-F4-4\n",
       "Name: feature, Length: 207, dtype: object"
      ]
     },
     "metadata": {},
     "execution_count": 84
    }
   ],
   "source": [
    "corr_df['feature']"
   ]
  },
  {
   "cell_type": "code",
   "execution_count": 85,
   "metadata": {},
   "outputs": [
    {
     "output_type": "execute_result",
     "data": {
      "text/plain": [
       "feature   F3-C3-2   P3-O1-2   P7-O1-2   F3-C3-3   P7-T7-2   T7-P7-2   P3-O1-3  \\\n",
       "0        0.930633  0.822941  0.565681  1.975643  0.767464  0.767464  2.020501   \n",
       "1        0.944644  0.822464  0.588373  2.256453  0.817389  0.817389  2.099589   \n",
       "2        1.005725  0.755330  0.693867  2.537391  0.795642  0.795642  2.017942   \n",
       "3        0.897233  0.734125  0.621030  2.070829  0.664712  0.664712  2.203984   \n",
       "4        1.167659  0.725621  0.643493  1.701107  1.239763  1.239763  2.198303   \n",
       "...           ...       ...       ...       ...       ...       ...       ...   \n",
       "14572    0.682462  0.697292  0.550103  1.621111  0.507717  0.507717  1.979153   \n",
       "14573    0.694258  0.659297  0.548741  1.733127  0.571982  0.571982  1.933833   \n",
       "14574    0.754740  0.725180  0.647252  1.814148  0.601103  0.601103  1.809154   \n",
       "14575    0.680372  0.791564  0.697842  1.803425  0.562883  0.562883  2.216992   \n",
       "14576    0.734146  0.670739  0.606443  1.878392  0.507281  0.507281  2.092295   \n",
       "\n",
       "feature   FZ-CZ-2   F8-T8-2   P7-T7-3  ...   FP1-F7-3      CZ-PZ-8  \\\n",
       "0        0.922018  2.593229  2.026237  ...  11.113483    30.212417   \n",
       "1        1.082254  2.013219  2.162400  ...  11.635523    26.164239   \n",
       "2        1.084726  1.367920  1.804190  ...   9.847975    21.692061   \n",
       "3        0.838089  1.643205  1.516540  ...   7.499085    19.284328   \n",
       "4        0.989205  3.611138  2.524845  ...  12.209982    36.224937   \n",
       "...           ...       ...       ...  ...        ...          ...   \n",
       "14572    1.042357  0.885445  1.796431  ...   1.927700   967.407725   \n",
       "14573    1.001961  0.851418  1.770358  ...   1.300381  1055.595557   \n",
       "14574    0.801546  0.719815  1.444173  ...   1.671109   986.620917   \n",
       "14575    0.802544  0.483032  1.205672  ...   1.881431  1073.768412   \n",
       "14576    0.766150  0.526664  1.342943  ...   1.481664  1142.163064   \n",
       "\n",
       "feature     CZ-PZ-4    FP1-F3-4    FP2-F4-1    FP2-F4-6    FP2-F4-8  \\\n",
       "0          9.509009  460.576569  185.230988  153.009369  834.308265   \n",
       "1          7.921816  517.882019  184.683868  159.239899  916.972032   \n",
       "2          6.137328  320.266724  108.013680   83.900970  533.061094   \n",
       "3          5.126681  187.052170   91.145386   64.401649  355.087003   \n",
       "4         10.890305  138.007599   49.599998   42.035198  234.592996   \n",
       "...             ...         ...         ...         ...         ...   \n",
       "14572    112.776039    7.420779    7.059189   38.153008   73.124627   \n",
       "14573    127.472321    9.705343    7.657333   39.721512   75.633780   \n",
       "14574    139.782654   21.472988    9.820520   38.469189   83.369867   \n",
       "14575    103.645889   22.058796   11.026934   43.046490   90.274166   \n",
       "14576    153.675980   13.302948   10.152565   44.781071   86.797431   \n",
       "\n",
       "feature   FP1-F7-2   FP2-F4-5    FP2-F4-4  \n",
       "0        10.275364  42.965191  406.118134  \n",
       "1        10.569725  44.596828  475.158691  \n",
       "2         9.570168  24.854679  279.845703  \n",
       "3         6.070765  16.468584  158.311935  \n",
       "4        11.789531  10.751387  103.478966  \n",
       "...            ...        ...         ...  \n",
       "14572     2.425752   5.873767   15.246887  \n",
       "14573     0.536385   6.216688   16.398058  \n",
       "14574     0.642153   6.075457   22.542147  \n",
       "14575     0.651625   7.100677   22.456596  \n",
       "14576     0.505589   7.797352   17.559452  \n",
       "\n",
       "[12600 rows x 207 columns]"
      ],
      "text/html": "<div>\n<style scoped>\n    .dataframe tbody tr th:only-of-type {\n        vertical-align: middle;\n    }\n\n    .dataframe tbody tr th {\n        vertical-align: top;\n    }\n\n    .dataframe thead th {\n        text-align: right;\n    }\n</style>\n<table border=\"1\" class=\"dataframe\">\n  <thead>\n    <tr style=\"text-align: right;\">\n      <th>feature</th>\n      <th>F3-C3-2</th>\n      <th>P3-O1-2</th>\n      <th>P7-O1-2</th>\n      <th>F3-C3-3</th>\n      <th>P7-T7-2</th>\n      <th>T7-P7-2</th>\n      <th>P3-O1-3</th>\n      <th>FZ-CZ-2</th>\n      <th>F8-T8-2</th>\n      <th>P7-T7-3</th>\n      <th>...</th>\n      <th>FP1-F7-3</th>\n      <th>CZ-PZ-8</th>\n      <th>CZ-PZ-4</th>\n      <th>FP1-F3-4</th>\n      <th>FP2-F4-1</th>\n      <th>FP2-F4-6</th>\n      <th>FP2-F4-8</th>\n      <th>FP1-F7-2</th>\n      <th>FP2-F4-5</th>\n      <th>FP2-F4-4</th>\n    </tr>\n  </thead>\n  <tbody>\n    <tr>\n      <th>0</th>\n      <td>0.930633</td>\n      <td>0.822941</td>\n      <td>0.565681</td>\n      <td>1.975643</td>\n      <td>0.767464</td>\n      <td>0.767464</td>\n      <td>2.020501</td>\n      <td>0.922018</td>\n      <td>2.593229</td>\n      <td>2.026237</td>\n      <td>...</td>\n      <td>11.113483</td>\n      <td>30.212417</td>\n      <td>9.509009</td>\n      <td>460.576569</td>\n      <td>185.230988</td>\n      <td>153.009369</td>\n      <td>834.308265</td>\n      <td>10.275364</td>\n      <td>42.965191</td>\n      <td>406.118134</td>\n    </tr>\n    <tr>\n      <th>1</th>\n      <td>0.944644</td>\n      <td>0.822464</td>\n      <td>0.588373</td>\n      <td>2.256453</td>\n      <td>0.817389</td>\n      <td>0.817389</td>\n      <td>2.099589</td>\n      <td>1.082254</td>\n      <td>2.013219</td>\n      <td>2.162400</td>\n      <td>...</td>\n      <td>11.635523</td>\n      <td>26.164239</td>\n      <td>7.921816</td>\n      <td>517.882019</td>\n      <td>184.683868</td>\n      <td>159.239899</td>\n      <td>916.972032</td>\n      <td>10.569725</td>\n      <td>44.596828</td>\n      <td>475.158691</td>\n    </tr>\n    <tr>\n      <th>2</th>\n      <td>1.005725</td>\n      <td>0.755330</td>\n      <td>0.693867</td>\n      <td>2.537391</td>\n      <td>0.795642</td>\n      <td>0.795642</td>\n      <td>2.017942</td>\n      <td>1.084726</td>\n      <td>1.367920</td>\n      <td>1.804190</td>\n      <td>...</td>\n      <td>9.847975</td>\n      <td>21.692061</td>\n      <td>6.137328</td>\n      <td>320.266724</td>\n      <td>108.013680</td>\n      <td>83.900970</td>\n      <td>533.061094</td>\n      <td>9.570168</td>\n      <td>24.854679</td>\n      <td>279.845703</td>\n    </tr>\n    <tr>\n      <th>3</th>\n      <td>0.897233</td>\n      <td>0.734125</td>\n      <td>0.621030</td>\n      <td>2.070829</td>\n      <td>0.664712</td>\n      <td>0.664712</td>\n      <td>2.203984</td>\n      <td>0.838089</td>\n      <td>1.643205</td>\n      <td>1.516540</td>\n      <td>...</td>\n      <td>7.499085</td>\n      <td>19.284328</td>\n      <td>5.126681</td>\n      <td>187.052170</td>\n      <td>91.145386</td>\n      <td>64.401649</td>\n      <td>355.087003</td>\n      <td>6.070765</td>\n      <td>16.468584</td>\n      <td>158.311935</td>\n    </tr>\n    <tr>\n      <th>4</th>\n      <td>1.167659</td>\n      <td>0.725621</td>\n      <td>0.643493</td>\n      <td>1.701107</td>\n      <td>1.239763</td>\n      <td>1.239763</td>\n      <td>2.198303</td>\n      <td>0.989205</td>\n      <td>3.611138</td>\n      <td>2.524845</td>\n      <td>...</td>\n      <td>12.209982</td>\n      <td>36.224937</td>\n      <td>10.890305</td>\n      <td>138.007599</td>\n      <td>49.599998</td>\n      <td>42.035198</td>\n      <td>234.592996</td>\n      <td>11.789531</td>\n      <td>10.751387</td>\n      <td>103.478966</td>\n    </tr>\n    <tr>\n      <th>...</th>\n      <td>...</td>\n      <td>...</td>\n      <td>...</td>\n      <td>...</td>\n      <td>...</td>\n      <td>...</td>\n      <td>...</td>\n      <td>...</td>\n      <td>...</td>\n      <td>...</td>\n      <td>...</td>\n      <td>...</td>\n      <td>...</td>\n      <td>...</td>\n      <td>...</td>\n      <td>...</td>\n      <td>...</td>\n      <td>...</td>\n      <td>...</td>\n      <td>...</td>\n      <td>...</td>\n    </tr>\n    <tr>\n      <th>14572</th>\n      <td>0.682462</td>\n      <td>0.697292</td>\n      <td>0.550103</td>\n      <td>1.621111</td>\n      <td>0.507717</td>\n      <td>0.507717</td>\n      <td>1.979153</td>\n      <td>1.042357</td>\n      <td>0.885445</td>\n      <td>1.796431</td>\n      <td>...</td>\n      <td>1.927700</td>\n      <td>967.407725</td>\n      <td>112.776039</td>\n      <td>7.420779</td>\n      <td>7.059189</td>\n      <td>38.153008</td>\n      <td>73.124627</td>\n      <td>2.425752</td>\n      <td>5.873767</td>\n      <td>15.246887</td>\n    </tr>\n    <tr>\n      <th>14573</th>\n      <td>0.694258</td>\n      <td>0.659297</td>\n      <td>0.548741</td>\n      <td>1.733127</td>\n      <td>0.571982</td>\n      <td>0.571982</td>\n      <td>1.933833</td>\n      <td>1.001961</td>\n      <td>0.851418</td>\n      <td>1.770358</td>\n      <td>...</td>\n      <td>1.300381</td>\n      <td>1055.595557</td>\n      <td>127.472321</td>\n      <td>9.705343</td>\n      <td>7.657333</td>\n      <td>39.721512</td>\n      <td>75.633780</td>\n      <td>0.536385</td>\n      <td>6.216688</td>\n      <td>16.398058</td>\n    </tr>\n    <tr>\n      <th>14574</th>\n      <td>0.754740</td>\n      <td>0.725180</td>\n      <td>0.647252</td>\n      <td>1.814148</td>\n      <td>0.601103</td>\n      <td>0.601103</td>\n      <td>1.809154</td>\n      <td>0.801546</td>\n      <td>0.719815</td>\n      <td>1.444173</td>\n      <td>...</td>\n      <td>1.671109</td>\n      <td>986.620917</td>\n      <td>139.782654</td>\n      <td>21.472988</td>\n      <td>9.820520</td>\n      <td>38.469189</td>\n      <td>83.369867</td>\n      <td>0.642153</td>\n      <td>6.075457</td>\n      <td>22.542147</td>\n    </tr>\n    <tr>\n      <th>14575</th>\n      <td>0.680372</td>\n      <td>0.791564</td>\n      <td>0.697842</td>\n      <td>1.803425</td>\n      <td>0.562883</td>\n      <td>0.562883</td>\n      <td>2.216992</td>\n      <td>0.802544</td>\n      <td>0.483032</td>\n      <td>1.205672</td>\n      <td>...</td>\n      <td>1.881431</td>\n      <td>1073.768412</td>\n      <td>103.645889</td>\n      <td>22.058796</td>\n      <td>11.026934</td>\n      <td>43.046490</td>\n      <td>90.274166</td>\n      <td>0.651625</td>\n      <td>7.100677</td>\n      <td>22.456596</td>\n    </tr>\n    <tr>\n      <th>14576</th>\n      <td>0.734146</td>\n      <td>0.670739</td>\n      <td>0.606443</td>\n      <td>1.878392</td>\n      <td>0.507281</td>\n      <td>0.507281</td>\n      <td>2.092295</td>\n      <td>0.766150</td>\n      <td>0.526664</td>\n      <td>1.342943</td>\n      <td>...</td>\n      <td>1.481664</td>\n      <td>1142.163064</td>\n      <td>153.675980</td>\n      <td>13.302948</td>\n      <td>10.152565</td>\n      <td>44.781071</td>\n      <td>86.797431</td>\n      <td>0.505589</td>\n      <td>7.797352</td>\n      <td>17.559452</td>\n    </tr>\n  </tbody>\n</table>\n<p>12600 rows × 207 columns</p>\n</div>"
     },
     "metadata": {},
     "execution_count": 85
    }
   ],
   "source": [
    "df=df.reindex(columns=corr_df['feature'])\n",
    "df\n"
   ]
  },
  {
   "cell_type": "code",
   "execution_count": 105,
   "metadata": {},
   "outputs": [],
   "source": [
    "from scipy.stats.stats import pearsonr\n",
    "\n",
    "def order_correlation(data, target):\n",
    "    df=pd.DataFrame(data=X, columns=col_names)\n",
    "    df['target']=target\n",
    "    df=df.dropna()\n",
    "    df=df[(df['target']!=3)]\n",
    "    coefs=np.zeros(len(df.columns)-2)\n",
    "    p_vals=np.zeros(len(df.columns)-2)\n",
    "    for i in range(0,len(df.columns)-2):\n",
    "        (coefs[i], p_vals[i])=pearsonr(df[df.columns[i]], df['target'])\n",
    "    corr_df=pd.DataFrame(data={'corr01':coefs,'p01': p_vals})\n",
    "    corr_df['feature']=df.columns[:-2]\n",
    "    corr_df=corr_df.sort_values('corr01', ascending=False)\n",
    "    return np.append(corr_df['feature'], 'patient')\n",
    "\n",
    "    \n"
   ]
  },
  {
   "cell_type": "code",
   "execution_count": 106,
   "metadata": {},
   "outputs": [
    {
     "output_type": "execute_result",
     "data": {
      "text/plain": [
       "array(['F3-C3-2', 'P3-O1-2', 'P7-O1-2', 'F3-C3-3', 'P7-T7-2', 'T7-P7-2',\n",
       "       'P3-O1-3', 'FZ-CZ-2', 'F8-T8-2', 'P7-T7-3', 'F8-T8-3', 'T7-P7-3',\n",
       "       'P7-O1-3', 'FP2-F4-0', 'FT9-FT10-3', 'F7-T7-2', 'FP1-F3-0',\n",
       "       'C3-P3-2', 'F4-C4-2', 'T7-FT9-2', 'F3-C3-0', 'FZ-CZ-3', 'C4-P4-2',\n",
       "       'FZ-CZ-0', 'FT9-FT10-2', 'F7-T7-3', 'P4-O2-2', 'FT10-T8-2',\n",
       "       'F8-T8-0', 'C3-P3-3', 'T7-FT9-3', 'FP2-F8-0', 'P4-O2-3',\n",
       "       'FP2-F4-3', 'CZ-PZ-2', 'F4-C4-3', 'FP1-F3-3', 'T8-P8-1-2',\n",
       "       'T8-P8-0-2', 'F4-C4-0', 'FT10-T8-3', 'T8-P8-1-3', 'T8-P8-0-3',\n",
       "       'C4-P4-3', 'C3-P3-0', 'FP1-F7-0', 'P3-O1-0', 'P8-O2-2',\n",
       "       'FT9-FT10-0', 'C4-P4-0', 'F7-T7-0', 'FP2-F8-3', 'P4-O2-0',\n",
       "       'P8-O2-3', 'CZ-PZ-0', 'CZ-PZ-3', 'P7-O1-0', 'P7-T7-0', 'T7-P7-0',\n",
       "       'T8-P8-1-0', 'T8-P8-0-0', 'T7-FT9-0', 'FT10-T8-0', 'P7-O1-6',\n",
       "       'P7-O1-8', 'P7-O1-5', 'P7-O1-7', 'FP1-F7-6', 'FP2-F8-6', 'P7-T7-6',\n",
       "       'T7-P7-6', 'P7-O1-1', 'T7-FT9-6', 'P7-O1-4', 'P7-T7-5', 'T7-P7-5',\n",
       "       'T7-FT9-5', 'F7-T7-6', 'FP2-F8-5', 'FT10-T8-6', 'FP1-F3-6',\n",
       "       'FP1-F7-5', 'FT9-FT10-1', 'F7-T7-5', 'FZ-CZ-1', 'F8-T8-4',\n",
       "       'FZ-CZ-7', 'T7-FT9-8', 'FT9-FT10-7', 'P7-T7-8', 'FT10-T8-8',\n",
       "       'T7-P7-8', 'FP1-F3-5', 'FT10-T8-4', 'FP2-F8-8', 'P3-O1-1',\n",
       "       'F8-T8-7', 'P3-O1-7', 'T8-P8-1-7', 'T8-P8-0-7', 'F7-T7-8',\n",
       "       'FT10-T8-7', 'FT9-FT10-8', 'F8-T8-8', 'FZ-CZ-4', 'FP1-F7-8',\n",
       "       'T8-P8-1-6', 'T8-P8-0-6', 'FT9-FT10-6', 'F3-C3-7', 'FT9-FT10-4',\n",
       "       'FZ-CZ-8', 'P3-O1-4', 'FP1-F3-8', 'C4-P4-5', 'F8-T8-1', 'P8-O2-0',\n",
       "       'C3-P3-7', 'FT9-FT10-5', 'FZ-CZ-6', 'F4-C4-7', 'F8-T8-6',\n",
       "       'C4-P4-6', 'T8-P8-1-5', 'F8-T8-5', 'T8-P8-0-5', 'FT10-T8-5',\n",
       "       'P3-O1-8', 'T7-FT9-1', 'C4-P4-8', 'FZ-CZ-5', 'P4-O2-4', 'F7-T7-7',\n",
       "       'FT10-T8-1', 'FP1-F7-7', 'T8-P8-1-8', 'FP2-F8-7', 'T8-P8-0-8',\n",
       "       'P7-T7-1', 'T7-P7-1', 'FP1-F3-7', 'F3-C3-1', 'P3-O1-6', 'P8-O2-1',\n",
       "       'P3-O1-5', 'C4-P4-1', 'P8-O2-7', 'C4-P4-7', 'FP2-F4-2', 'P4-O2-7',\n",
       "       'FP2-F8-1', 'C3-P3-1', 'F3-C3-8', 'C4-P4-4', 'F4-C4-1', 'P7-T7-7',\n",
       "       'T7-P7-7', 'T7-FT9-7', 'T8-P8-0-4', 'T8-P8-1-4', 'F3-C3-6',\n",
       "       'P4-O2-1', 'T8-P8-1-1', 'T8-P8-0-1', 'T7-FT9-4', 'P7-T7-4',\n",
       "       'F3-C3-4', 'T7-P7-4', 'FP2-F8-4', 'P8-O2-4', 'FP2-F4-7', 'F3-C3-5',\n",
       "       'F4-C4-8', 'C3-P3-4', 'C3-P3-8', 'P4-O2-8', 'F7-T7-1', 'F4-C4-4',\n",
       "       'CZ-PZ-1', 'F7-T7-4', 'P4-O2-5', 'C3-P3-6', 'P4-O2-6', 'F4-C4-6',\n",
       "       'C3-P3-5', 'FP1-F3-2', 'P8-O2-8', 'FP1-F7-1', 'F4-C4-5', 'P8-O2-6',\n",
       "       'FP2-F8-2', 'CZ-PZ-7', 'P8-O2-5', 'CZ-PZ-5', 'CZ-PZ-6', 'FP1-F7-4',\n",
       "       'FP1-F3-1', 'FP1-F7-3', 'CZ-PZ-8', 'CZ-PZ-4', 'FP1-F3-4',\n",
       "       'FP2-F4-1', 'FP2-F4-6', 'FP2-F4-8', 'FP1-F7-2', 'FP2-F4-5',\n",
       "       'FP2-F4-4', 'patient'], dtype=object)"
      ]
     },
     "metadata": {},
     "execution_count": 106
    }
   ],
   "source": [
    "ft=order_correlation(X, y)\n",
    "ft"
   ]
  },
  {
   "cell_type": "code",
   "execution_count": 110,
   "metadata": {},
   "outputs": [
    {
     "output_type": "execute_result",
     "data": {
      "text/plain": [
       "0        0.930633\n",
       "1        0.944644\n",
       "2        1.005725\n",
       "3        0.897233\n",
       "4        1.167659\n",
       "           ...   \n",
       "14572    0.682462\n",
       "14573    0.694258\n",
       "14574    0.754740\n",
       "14575    0.680372\n",
       "14576    0.734146\n",
       "Name: F3-C3-2, Length: 14577, dtype: float64"
      ]
     },
     "metadata": {},
     "execution_count": 110
    }
   ],
   "source": [
    "newdf=pd.DataFrame(data=X, columns=col_names)\n",
    "newdf\n"
   ]
  },
  {
   "cell_type": "code",
   "execution_count": null,
   "metadata": {},
   "outputs": [],
   "source": []
  },
  {
   "cell_type": "code",
   "execution_count": 113,
   "metadata": {},
   "outputs": [
    {
     "output_type": "execute_result",
     "data": {
      "text/plain": [
       "        F3-C3-2   P3-O1-2   P7-O1-2   F3-C3-3   P7-T7-2   T7-P7-2   P3-O1-3  \\\n",
       "0      0.930633  0.822941  0.565681  1.975643  0.767464  0.767464  2.020501   \n",
       "1      0.944644  0.822464  0.588373  2.256453  0.817389  0.817389  2.099589   \n",
       "2      1.005725  0.755330  0.693867  2.537391  0.795642  0.795642  2.017942   \n",
       "3      0.897233  0.734125  0.621030  2.070829  0.664712  0.664712  2.203984   \n",
       "4      1.167659  0.725621  0.643493  1.701107  1.239763  1.239763  2.198303   \n",
       "...         ...       ...       ...       ...       ...       ...       ...   \n",
       "14572  0.682462  0.697292  0.550103  1.621111  0.507717  0.507717  1.979153   \n",
       "14573  0.694258  0.659297  0.548741  1.733127  0.571982  0.571982  1.933833   \n",
       "14574  0.754740  0.725180  0.647252  1.814148  0.601103  0.601103  1.809154   \n",
       "14575  0.680372  0.791564  0.697842  1.803425  0.562883  0.562883  2.216992   \n",
       "14576  0.734146  0.670739  0.606443  1.878392  0.507281  0.507281  2.092295   \n",
       "\n",
       "        FZ-CZ-2   F8-T8-2   P7-T7-3  ...      CZ-PZ-8     CZ-PZ-4    FP1-F3-4  \\\n",
       "0      0.922018  2.593229  2.026237  ...    30.212417    9.509009  460.576569   \n",
       "1      1.082254  2.013219  2.162400  ...    26.164239    7.921816  517.882019   \n",
       "2      1.084726  1.367920  1.804190  ...    21.692061    6.137328  320.266724   \n",
       "3      0.838089  1.643205  1.516540  ...    19.284328    5.126681  187.052170   \n",
       "4      0.989205  3.611138  2.524845  ...    36.224937   10.890305  138.007599   \n",
       "...         ...       ...       ...  ...          ...         ...         ...   \n",
       "14572  1.042357  0.885445  1.796431  ...   967.407725  112.776039    7.420779   \n",
       "14573  1.001961  0.851418  1.770358  ...  1055.595557  127.472321    9.705343   \n",
       "14574  0.801546  0.719815  1.444173  ...   986.620917  139.782654   21.472988   \n",
       "14575  0.802544  0.483032  1.205672  ...  1073.768412  103.645889   22.058796   \n",
       "14576  0.766150  0.526664  1.342943  ...  1142.163064  153.675980   13.302948   \n",
       "\n",
       "         FP2-F4-1    FP2-F4-6    FP2-F4-8   FP1-F7-2   FP2-F4-5    FP2-F4-4  \\\n",
       "0      185.230988  153.009369  834.308265  10.275364  42.965191  406.118134   \n",
       "1      184.683868  159.239899  916.972032  10.569725  44.596828  475.158691   \n",
       "2      108.013680   83.900970  533.061094   9.570168  24.854679  279.845703   \n",
       "3       91.145386   64.401649  355.087003   6.070765  16.468584  158.311935   \n",
       "4       49.599998   42.035198  234.592996  11.789531  10.751387  103.478966   \n",
       "...           ...         ...         ...        ...        ...         ...   \n",
       "14572    7.059189   38.153008   73.124627   2.425752   5.873767   15.246887   \n",
       "14573    7.657333   39.721512   75.633780   0.536385   6.216688   16.398058   \n",
       "14574    9.820520   38.469189   83.369867   0.642153   6.075457   22.542147   \n",
       "14575   11.026934   43.046490   90.274166   0.651625   7.100677   22.456596   \n",
       "14576   10.152565   44.781071   86.797431   0.505589   7.797352   17.559452   \n",
       "\n",
       "       patient  \n",
       "0          1.0  \n",
       "1          1.0  \n",
       "2          1.0  \n",
       "3          1.0  \n",
       "4          1.0  \n",
       "...        ...  \n",
       "14572      1.0  \n",
       "14573      1.0  \n",
       "14574      1.0  \n",
       "14575      1.0  \n",
       "14576      1.0  \n",
       "\n",
       "[14577 rows x 208 columns]"
      ],
      "text/html": "<div>\n<style scoped>\n    .dataframe tbody tr th:only-of-type {\n        vertical-align: middle;\n    }\n\n    .dataframe tbody tr th {\n        vertical-align: top;\n    }\n\n    .dataframe thead th {\n        text-align: right;\n    }\n</style>\n<table border=\"1\" class=\"dataframe\">\n  <thead>\n    <tr style=\"text-align: right;\">\n      <th></th>\n      <th>F3-C3-2</th>\n      <th>P3-O1-2</th>\n      <th>P7-O1-2</th>\n      <th>F3-C3-3</th>\n      <th>P7-T7-2</th>\n      <th>T7-P7-2</th>\n      <th>P3-O1-3</th>\n      <th>FZ-CZ-2</th>\n      <th>F8-T8-2</th>\n      <th>P7-T7-3</th>\n      <th>...</th>\n      <th>CZ-PZ-8</th>\n      <th>CZ-PZ-4</th>\n      <th>FP1-F3-4</th>\n      <th>FP2-F4-1</th>\n      <th>FP2-F4-6</th>\n      <th>FP2-F4-8</th>\n      <th>FP1-F7-2</th>\n      <th>FP2-F4-5</th>\n      <th>FP2-F4-4</th>\n      <th>patient</th>\n    </tr>\n  </thead>\n  <tbody>\n    <tr>\n      <th>0</th>\n      <td>0.930633</td>\n      <td>0.822941</td>\n      <td>0.565681</td>\n      <td>1.975643</td>\n      <td>0.767464</td>\n      <td>0.767464</td>\n      <td>2.020501</td>\n      <td>0.922018</td>\n      <td>2.593229</td>\n      <td>2.026237</td>\n      <td>...</td>\n      <td>30.212417</td>\n      <td>9.509009</td>\n      <td>460.576569</td>\n      <td>185.230988</td>\n      <td>153.009369</td>\n      <td>834.308265</td>\n      <td>10.275364</td>\n      <td>42.965191</td>\n      <td>406.118134</td>\n      <td>1.0</td>\n    </tr>\n    <tr>\n      <th>1</th>\n      <td>0.944644</td>\n      <td>0.822464</td>\n      <td>0.588373</td>\n      <td>2.256453</td>\n      <td>0.817389</td>\n      <td>0.817389</td>\n      <td>2.099589</td>\n      <td>1.082254</td>\n      <td>2.013219</td>\n      <td>2.162400</td>\n      <td>...</td>\n      <td>26.164239</td>\n      <td>7.921816</td>\n      <td>517.882019</td>\n      <td>184.683868</td>\n      <td>159.239899</td>\n      <td>916.972032</td>\n      <td>10.569725</td>\n      <td>44.596828</td>\n      <td>475.158691</td>\n      <td>1.0</td>\n    </tr>\n    <tr>\n      <th>2</th>\n      <td>1.005725</td>\n      <td>0.755330</td>\n      <td>0.693867</td>\n      <td>2.537391</td>\n      <td>0.795642</td>\n      <td>0.795642</td>\n      <td>2.017942</td>\n      <td>1.084726</td>\n      <td>1.367920</td>\n      <td>1.804190</td>\n      <td>...</td>\n      <td>21.692061</td>\n      <td>6.137328</td>\n      <td>320.266724</td>\n      <td>108.013680</td>\n      <td>83.900970</td>\n      <td>533.061094</td>\n      <td>9.570168</td>\n      <td>24.854679</td>\n      <td>279.845703</td>\n      <td>1.0</td>\n    </tr>\n    <tr>\n      <th>3</th>\n      <td>0.897233</td>\n      <td>0.734125</td>\n      <td>0.621030</td>\n      <td>2.070829</td>\n      <td>0.664712</td>\n      <td>0.664712</td>\n      <td>2.203984</td>\n      <td>0.838089</td>\n      <td>1.643205</td>\n      <td>1.516540</td>\n      <td>...</td>\n      <td>19.284328</td>\n      <td>5.126681</td>\n      <td>187.052170</td>\n      <td>91.145386</td>\n      <td>64.401649</td>\n      <td>355.087003</td>\n      <td>6.070765</td>\n      <td>16.468584</td>\n      <td>158.311935</td>\n      <td>1.0</td>\n    </tr>\n    <tr>\n      <th>4</th>\n      <td>1.167659</td>\n      <td>0.725621</td>\n      <td>0.643493</td>\n      <td>1.701107</td>\n      <td>1.239763</td>\n      <td>1.239763</td>\n      <td>2.198303</td>\n      <td>0.989205</td>\n      <td>3.611138</td>\n      <td>2.524845</td>\n      <td>...</td>\n      <td>36.224937</td>\n      <td>10.890305</td>\n      <td>138.007599</td>\n      <td>49.599998</td>\n      <td>42.035198</td>\n      <td>234.592996</td>\n      <td>11.789531</td>\n      <td>10.751387</td>\n      <td>103.478966</td>\n      <td>1.0</td>\n    </tr>\n    <tr>\n      <th>...</th>\n      <td>...</td>\n      <td>...</td>\n      <td>...</td>\n      <td>...</td>\n      <td>...</td>\n      <td>...</td>\n      <td>...</td>\n      <td>...</td>\n      <td>...</td>\n      <td>...</td>\n      <td>...</td>\n      <td>...</td>\n      <td>...</td>\n      <td>...</td>\n      <td>...</td>\n      <td>...</td>\n      <td>...</td>\n      <td>...</td>\n      <td>...</td>\n      <td>...</td>\n      <td>...</td>\n    </tr>\n    <tr>\n      <th>14572</th>\n      <td>0.682462</td>\n      <td>0.697292</td>\n      <td>0.550103</td>\n      <td>1.621111</td>\n      <td>0.507717</td>\n      <td>0.507717</td>\n      <td>1.979153</td>\n      <td>1.042357</td>\n      <td>0.885445</td>\n      <td>1.796431</td>\n      <td>...</td>\n      <td>967.407725</td>\n      <td>112.776039</td>\n      <td>7.420779</td>\n      <td>7.059189</td>\n      <td>38.153008</td>\n      <td>73.124627</td>\n      <td>2.425752</td>\n      <td>5.873767</td>\n      <td>15.246887</td>\n      <td>1.0</td>\n    </tr>\n    <tr>\n      <th>14573</th>\n      <td>0.694258</td>\n      <td>0.659297</td>\n      <td>0.548741</td>\n      <td>1.733127</td>\n      <td>0.571982</td>\n      <td>0.571982</td>\n      <td>1.933833</td>\n      <td>1.001961</td>\n      <td>0.851418</td>\n      <td>1.770358</td>\n      <td>...</td>\n      <td>1055.595557</td>\n      <td>127.472321</td>\n      <td>9.705343</td>\n      <td>7.657333</td>\n      <td>39.721512</td>\n      <td>75.633780</td>\n      <td>0.536385</td>\n      <td>6.216688</td>\n      <td>16.398058</td>\n      <td>1.0</td>\n    </tr>\n    <tr>\n      <th>14574</th>\n      <td>0.754740</td>\n      <td>0.725180</td>\n      <td>0.647252</td>\n      <td>1.814148</td>\n      <td>0.601103</td>\n      <td>0.601103</td>\n      <td>1.809154</td>\n      <td>0.801546</td>\n      <td>0.719815</td>\n      <td>1.444173</td>\n      <td>...</td>\n      <td>986.620917</td>\n      <td>139.782654</td>\n      <td>21.472988</td>\n      <td>9.820520</td>\n      <td>38.469189</td>\n      <td>83.369867</td>\n      <td>0.642153</td>\n      <td>6.075457</td>\n      <td>22.542147</td>\n      <td>1.0</td>\n    </tr>\n    <tr>\n      <th>14575</th>\n      <td>0.680372</td>\n      <td>0.791564</td>\n      <td>0.697842</td>\n      <td>1.803425</td>\n      <td>0.562883</td>\n      <td>0.562883</td>\n      <td>2.216992</td>\n      <td>0.802544</td>\n      <td>0.483032</td>\n      <td>1.205672</td>\n      <td>...</td>\n      <td>1073.768412</td>\n      <td>103.645889</td>\n      <td>22.058796</td>\n      <td>11.026934</td>\n      <td>43.046490</td>\n      <td>90.274166</td>\n      <td>0.651625</td>\n      <td>7.100677</td>\n      <td>22.456596</td>\n      <td>1.0</td>\n    </tr>\n    <tr>\n      <th>14576</th>\n      <td>0.734146</td>\n      <td>0.670739</td>\n      <td>0.606443</td>\n      <td>1.878392</td>\n      <td>0.507281</td>\n      <td>0.507281</td>\n      <td>2.092295</td>\n      <td>0.766150</td>\n      <td>0.526664</td>\n      <td>1.342943</td>\n      <td>...</td>\n      <td>1142.163064</td>\n      <td>153.675980</td>\n      <td>13.302948</td>\n      <td>10.152565</td>\n      <td>44.781071</td>\n      <td>86.797431</td>\n      <td>0.505589</td>\n      <td>7.797352</td>\n      <td>17.559452</td>\n      <td>1.0</td>\n    </tr>\n  </tbody>\n</table>\n<p>14577 rows × 208 columns</p>\n</div>"
     },
     "metadata": {},
     "execution_count": 113
    }
   ],
   "source": [
    "newdf=newdf.reindex(columns=ft)\n",
    "newdf\n"
   ]
  },
  {
   "cell_type": "code",
   "execution_count": 114,
   "metadata": {},
   "outputs": [
    {
     "output_type": "execute_result",
     "data": {
      "text/plain": [
       "array([[  0.93063259,   0.82294136,   0.56568092, ...,  42.96519089,\n",
       "        406.11813354,   1.        ],\n",
       "       [  0.94464397,   0.82246417,   0.58837289, ...,  44.59682846,\n",
       "        475.15869141,   1.        ],\n",
       "       [  1.00572491,   0.75532961,   0.69386739, ...,  24.85467911,\n",
       "        279.84570312,   1.        ],\n",
       "       ...,\n",
       "       [  0.7547397 ,   0.72518027,   0.64725196, ...,   6.07545662,\n",
       "         22.54214668,   1.        ],\n",
       "       [  0.68037152,   0.79156435,   0.69784164, ...,   7.10067654,\n",
       "         22.45659637,   1.        ],\n",
       "       [  0.73414552,   0.67073917,   0.60644311, ...,   7.79735184,\n",
       "         17.55945206,   1.        ]])"
      ]
     },
     "metadata": {},
     "execution_count": 114
    }
   ],
   "source": [
    "np.array(newdf)"
   ]
  },
  {
   "cell_type": "code",
   "execution_count": 129,
   "metadata": {},
   "outputs": [],
   "source": [
    "def read_patients(start_id, end_id, base_path):\n",
    "    subject_id=1\n",
    "    # base_path = \"sum_only/\"\n",
    "    # edf_file_names = sorted(glob.glob(os.path.join(base_path, \"data_chb01/*.npy\".format(subject_id))))\n",
    "    # files=len(edf_file_names)\n",
    "    X=load(base_path+'data_chb01/features_{}_00.npy'.format(subject_id))\n",
    "    y=load(base_path+'data_chb01/targets_{}_00.npy'.format(subject_id))\n",
    "    for subject_id in range(start_id, end_id):\n",
    "        edf_file_names = sorted(glob.glob(os.path.join(base_path, \"data_chb{:02d}/*.npy\".format(subject_id))))\n",
    "        files=len(edf_file_names)\n",
    "        print(files)\n",
    "        print(X.shape)\n",
    "        start=0\n",
    "        if subject_id==1:\n",
    "            start=1\n",
    "        for fileno in range(start, files//2):\n",
    "            X=np.concatenate((X, load(base_path+'data_chb{:02d}/features_{}_{:02d}.npy'.format(subject_id, subject_id, fileno))))\n",
    "            y=np.concatenate((y, load(base_path+'data_chb{:02d}/targets_{}_{:02d}.npy'.format(subject_id,subject_id, fileno))))\n",
    "    return X,y\n"
   ]
  },
  {
   "cell_type": "code",
   "execution_count": 149,
   "metadata": {},
   "outputs": [
    {
     "output_type": "stream",
     "name": "stdout",
     "text": [
      "84\n(408, 3)\n72\n(14577, 3)\n76\n(27187, 3)\n84\n(40755, 3)\n"
     ]
    }
   ],
   "source": [
    "X2, y2=read_patients(1,5)"
   ]
  },
  {
   "cell_type": "code",
   "execution_count": 189,
   "metadata": {},
   "outputs": [],
   "source": [
    "df2=pd.DataFrame(data=X2, columns=['sum', 'rms', 'patient'])\n",
    "df2['target']=y2\n",
    "df2=df2.dropna()\n",
    "df2\n",
    "df2=df2[(df2['target']!=3)]"
   ]
  },
  {
   "cell_type": "code",
   "execution_count": 190,
   "metadata": {},
   "outputs": [],
   "source": [
    "# plt.scatter(df2.index, df2['sum'], c=df2['target'])"
   ]
  },
  {
   "cell_type": "code",
   "execution_count": 191,
   "metadata": {},
   "outputs": [
    {
     "output_type": "error",
     "ename": "IndexError",
     "evalue": "index 4 is out of bounds for axis 0 with size 4",
     "traceback": [
      "\u001b[1;31m---------------------------------------------------------------------------\u001b[0m",
      "\u001b[1;31mIndexError\u001b[0m                                Traceback (most recent call last)",
      "\u001b[1;32m<ipython-input-191-13f252f4459a>\u001b[0m in \u001b[0;36m<module>\u001b[1;34m\u001b[0m\n\u001b[0;32m      3\u001b[0m \u001b[0mp_vals2\u001b[0m\u001b[1;33m=\u001b[0m\u001b[0mnp\u001b[0m\u001b[1;33m.\u001b[0m\u001b[0mzeros\u001b[0m\u001b[1;33m(\u001b[0m\u001b[1;36m6\u001b[0m\u001b[1;33m)\u001b[0m\u001b[1;33m\u001b[0m\u001b[1;33m\u001b[0m\u001b[0m\n\u001b[0;32m      4\u001b[0m \u001b[1;32mfor\u001b[0m \u001b[0mi\u001b[0m \u001b[1;32min\u001b[0m \u001b[0mrange\u001b[0m\u001b[1;33m(\u001b[0m\u001b[1;36m0\u001b[0m\u001b[1;33m,\u001b[0m\u001b[1;36m6\u001b[0m\u001b[1;33m)\u001b[0m\u001b[1;33m:\u001b[0m\u001b[1;33m\u001b[0m\u001b[1;33m\u001b[0m\u001b[0m\n\u001b[1;32m----> 5\u001b[1;33m     \u001b[1;33m(\u001b[0m\u001b[0mcoefs2\u001b[0m\u001b[1;33m[\u001b[0m\u001b[0mi\u001b[0m\u001b[1;33m]\u001b[0m\u001b[1;33m,\u001b[0m \u001b[0mp_vals2\u001b[0m\u001b[1;33m[\u001b[0m\u001b[0mi\u001b[0m\u001b[1;33m]\u001b[0m\u001b[1;33m)\u001b[0m\u001b[1;33m=\u001b[0m\u001b[0mpearsonr\u001b[0m\u001b[1;33m(\u001b[0m\u001b[0mdf2\u001b[0m\u001b[1;33m[\u001b[0m\u001b[0mdf2\u001b[0m\u001b[1;33m.\u001b[0m\u001b[0mcolumns\u001b[0m\u001b[1;33m[\u001b[0m\u001b[0mi\u001b[0m\u001b[1;33m]\u001b[0m\u001b[1;33m]\u001b[0m\u001b[1;33m,\u001b[0m \u001b[0mdf2\u001b[0m\u001b[1;33m[\u001b[0m\u001b[1;34m'patient'\u001b[0m\u001b[1;33m]\u001b[0m\u001b[1;33m)\u001b[0m\u001b[1;33m\u001b[0m\u001b[1;33m\u001b[0m\u001b[0m\n\u001b[0m\u001b[0;32m      6\u001b[0m \u001b[0mcoefs2\u001b[0m\u001b[1;33m\u001b[0m\u001b[1;33m\u001b[0m\u001b[0m\n",
      "\u001b[1;32m~\\anaconda3\\envs\\tf-gpu\\lib\\site-packages\\pandas\\core\\indexes\\base.py\u001b[0m in \u001b[0;36m__getitem__\u001b[1;34m(self, key)\u001b[0m\n\u001b[0;32m   4295\u001b[0m         \u001b[1;32mif\u001b[0m \u001b[0mis_scalar\u001b[0m\u001b[1;33m(\u001b[0m\u001b[0mkey\u001b[0m\u001b[1;33m)\u001b[0m\u001b[1;33m:\u001b[0m\u001b[1;33m\u001b[0m\u001b[1;33m\u001b[0m\u001b[0m\n\u001b[0;32m   4296\u001b[0m             \u001b[0mkey\u001b[0m \u001b[1;33m=\u001b[0m \u001b[0mcom\u001b[0m\u001b[1;33m.\u001b[0m\u001b[0mcast_scalar_indexer\u001b[0m\u001b[1;33m(\u001b[0m\u001b[0mkey\u001b[0m\u001b[1;33m,\u001b[0m \u001b[0mwarn_float\u001b[0m\u001b[1;33m=\u001b[0m\u001b[1;32mTrue\u001b[0m\u001b[1;33m)\u001b[0m\u001b[1;33m\u001b[0m\u001b[1;33m\u001b[0m\u001b[0m\n\u001b[1;32m-> 4297\u001b[1;33m             \u001b[1;32mreturn\u001b[0m \u001b[0mgetitem\u001b[0m\u001b[1;33m(\u001b[0m\u001b[0mkey\u001b[0m\u001b[1;33m)\u001b[0m\u001b[1;33m\u001b[0m\u001b[1;33m\u001b[0m\u001b[0m\n\u001b[0m\u001b[0;32m   4298\u001b[0m \u001b[1;33m\u001b[0m\u001b[0m\n\u001b[0;32m   4299\u001b[0m         \u001b[1;32mif\u001b[0m \u001b[0misinstance\u001b[0m\u001b[1;33m(\u001b[0m\u001b[0mkey\u001b[0m\u001b[1;33m,\u001b[0m \u001b[0mslice\u001b[0m\u001b[1;33m)\u001b[0m\u001b[1;33m:\u001b[0m\u001b[1;33m\u001b[0m\u001b[1;33m\u001b[0m\u001b[0m\n",
      "\u001b[1;31mIndexError\u001b[0m: index 4 is out of bounds for axis 0 with size 4"
     ]
    }
   ],
   "source": [
    "# from scipy.stats.stats import pearsonr\n",
    "# coefs2=np.zeros(6)\n",
    "# p_vals2=np.zeros(6)\n",
    "# for i in range(0,6):\n",
    "#     (coefs2[i], p_vals2[i])=pearsonr(df2[df2.columns[i]], df2['patient'])\n",
    "# coefs2"
   ]
  },
  {
   "cell_type": "code",
   "execution_count": 164,
   "metadata": {},
   "outputs": [],
   "source": [
    "# corr_df2=pd.DataFrame(data={'corr01':coefs2,'p01': p_vals2})\n",
    "# corr_df2['feature']=df2.columns[:-2]\n",
    "# corr_df2"
   ]
  },
  {
   "cell_type": "code",
   "execution_count": 165,
   "metadata": {},
   "outputs": [],
   "source": [
    "# corr_df2=pd.DataFrame(data={'corr01':coefs2,'p01': p_vals2})\n",
    "# corr_df2['feature']=df2.columns[:-2]\n",
    "# corr_df2"
   ]
  },
  {
   "cell_type": "code",
   "execution_count": 192,
   "metadata": {},
   "outputs": [
    {
     "output_type": "stream",
     "name": "stdout",
     "text": [
      "[341725.9808489427, 330571.7973419133, 183551.2078667481, 32665309.98580303]\n"
     ]
    }
   ],
   "source": [
    "mean_sums=[]\n",
    "df[\"mean_sum\"]=0\n",
    "for patient in pd.unique(df2['patient']):\n",
    "    # patdf=df[df[207]==patient]\n",
    "    # df2[\"mean_sum\"][df2['patient']==patient]=np.mean(df2['sum'][(df2['patient']==patient)&(df2['target']==0)])\n",
    "    mean_sum=np.mean(df2['sum'][(df2['patient']==patient)&(df2['target']==0)])\n",
    "    # df2.where(df2['patient']!=patient, mean_sums[int(patient)])\n",
    "    mean_sums.append(mean_sum)\n",
    "print(mean_sums)"
   ]
  },
  {
   "cell_type": "code",
   "execution_count": 193,
   "metadata": {},
   "outputs": [
    {
     "output_type": "execute_result",
     "data": {
      "text/plain": [
       "                sum        rms  patient  target\n",
       "0      1.220569e+05   7.405896      1.0       0\n",
       "1      1.198049e+05   7.694022      1.0       0\n",
       "2      8.168956e+04   6.464692      1.0       0\n",
       "3      6.076234e+04   6.407615      1.0       0\n",
       "4      4.856459e+04   6.165314      1.0       0\n",
       "...             ...        ...      ...     ...\n",
       "97778  2.012290e+05   9.106253      4.0       0\n",
       "97779  1.079467e+05   4.606265      4.0       0\n",
       "97780  1.853029e+05   7.797244      4.0       0\n",
       "97781  3.900796e+05  15.548586      4.0       0\n",
       "97782  1.032303e+06  44.509548      4.0       0\n",
       "\n",
       "[91264 rows x 4 columns]"
      ],
      "text/html": "<div>\n<style scoped>\n    .dataframe tbody tr th:only-of-type {\n        vertical-align: middle;\n    }\n\n    .dataframe tbody tr th {\n        vertical-align: top;\n    }\n\n    .dataframe thead th {\n        text-align: right;\n    }\n</style>\n<table border=\"1\" class=\"dataframe\">\n  <thead>\n    <tr style=\"text-align: right;\">\n      <th></th>\n      <th>sum</th>\n      <th>rms</th>\n      <th>patient</th>\n      <th>target</th>\n    </tr>\n  </thead>\n  <tbody>\n    <tr>\n      <th>0</th>\n      <td>1.220569e+05</td>\n      <td>7.405896</td>\n      <td>1.0</td>\n      <td>0</td>\n    </tr>\n    <tr>\n      <th>1</th>\n      <td>1.198049e+05</td>\n      <td>7.694022</td>\n      <td>1.0</td>\n      <td>0</td>\n    </tr>\n    <tr>\n      <th>2</th>\n      <td>8.168956e+04</td>\n      <td>6.464692</td>\n      <td>1.0</td>\n      <td>0</td>\n    </tr>\n    <tr>\n      <th>3</th>\n      <td>6.076234e+04</td>\n      <td>6.407615</td>\n      <td>1.0</td>\n      <td>0</td>\n    </tr>\n    <tr>\n      <th>4</th>\n      <td>4.856459e+04</td>\n      <td>6.165314</td>\n      <td>1.0</td>\n      <td>0</td>\n    </tr>\n    <tr>\n      <th>...</th>\n      <td>...</td>\n      <td>...</td>\n      <td>...</td>\n      <td>...</td>\n    </tr>\n    <tr>\n      <th>97778</th>\n      <td>2.012290e+05</td>\n      <td>9.106253</td>\n      <td>4.0</td>\n      <td>0</td>\n    </tr>\n    <tr>\n      <th>97779</th>\n      <td>1.079467e+05</td>\n      <td>4.606265</td>\n      <td>4.0</td>\n      <td>0</td>\n    </tr>\n    <tr>\n      <th>97780</th>\n      <td>1.853029e+05</td>\n      <td>7.797244</td>\n      <td>4.0</td>\n      <td>0</td>\n    </tr>\n    <tr>\n      <th>97781</th>\n      <td>3.900796e+05</td>\n      <td>15.548586</td>\n      <td>4.0</td>\n      <td>0</td>\n    </tr>\n    <tr>\n      <th>97782</th>\n      <td>1.032303e+06</td>\n      <td>44.509548</td>\n      <td>4.0</td>\n      <td>0</td>\n    </tr>\n  </tbody>\n</table>\n<p>91264 rows × 4 columns</p>\n</div>"
     },
     "metadata": {},
     "execution_count": 193
    }
   ],
   "source": [
    "df2"
   ]
  },
  {
   "cell_type": "code",
   "execution_count": 194,
   "metadata": {},
   "outputs": [
    {
     "output_type": "execute_result",
     "data": {
      "text/plain": [
       "                sum        rms  patient           new  target\n",
       "0      1.220569e+05   7.405896      1.0  3.417260e+05       0\n",
       "1      1.198049e+05   7.694022      1.0  3.417260e+05       0\n",
       "2      8.168956e+04   6.464692      1.0  3.417260e+05       0\n",
       "3      6.076234e+04   6.407615      1.0  3.417260e+05       0\n",
       "4      4.856459e+04   6.165314      1.0  3.417260e+05       0\n",
       "...             ...        ...      ...           ...     ...\n",
       "97778  2.012290e+05   9.106253      4.0  3.266531e+07       0\n",
       "97779  1.079467e+05   4.606265      4.0  3.266531e+07       0\n",
       "97780  1.853029e+05   7.797244      4.0  3.266531e+07       0\n",
       "97781  3.900796e+05  15.548586      4.0  3.266531e+07       0\n",
       "97782  1.032303e+06  44.509548      4.0  3.266531e+07       0\n",
       "\n",
       "[91264 rows x 5 columns]"
      ],
      "text/html": "<div>\n<style scoped>\n    .dataframe tbody tr th:only-of-type {\n        vertical-align: middle;\n    }\n\n    .dataframe tbody tr th {\n        vertical-align: top;\n    }\n\n    .dataframe thead th {\n        text-align: right;\n    }\n</style>\n<table border=\"1\" class=\"dataframe\">\n  <thead>\n    <tr style=\"text-align: right;\">\n      <th></th>\n      <th>sum</th>\n      <th>rms</th>\n      <th>patient</th>\n      <th>new</th>\n      <th>target</th>\n    </tr>\n  </thead>\n  <tbody>\n    <tr>\n      <th>0</th>\n      <td>1.220569e+05</td>\n      <td>7.405896</td>\n      <td>1.0</td>\n      <td>3.417260e+05</td>\n      <td>0</td>\n    </tr>\n    <tr>\n      <th>1</th>\n      <td>1.198049e+05</td>\n      <td>7.694022</td>\n      <td>1.0</td>\n      <td>3.417260e+05</td>\n      <td>0</td>\n    </tr>\n    <tr>\n      <th>2</th>\n      <td>8.168956e+04</td>\n      <td>6.464692</td>\n      <td>1.0</td>\n      <td>3.417260e+05</td>\n      <td>0</td>\n    </tr>\n    <tr>\n      <th>3</th>\n      <td>6.076234e+04</td>\n      <td>6.407615</td>\n      <td>1.0</td>\n      <td>3.417260e+05</td>\n      <td>0</td>\n    </tr>\n    <tr>\n      <th>4</th>\n      <td>4.856459e+04</td>\n      <td>6.165314</td>\n      <td>1.0</td>\n      <td>3.417260e+05</td>\n      <td>0</td>\n    </tr>\n    <tr>\n      <th>...</th>\n      <td>...</td>\n      <td>...</td>\n      <td>...</td>\n      <td>...</td>\n      <td>...</td>\n    </tr>\n    <tr>\n      <th>97778</th>\n      <td>2.012290e+05</td>\n      <td>9.106253</td>\n      <td>4.0</td>\n      <td>3.266531e+07</td>\n      <td>0</td>\n    </tr>\n    <tr>\n      <th>97779</th>\n      <td>1.079467e+05</td>\n      <td>4.606265</td>\n      <td>4.0</td>\n      <td>3.266531e+07</td>\n      <td>0</td>\n    </tr>\n    <tr>\n      <th>97780</th>\n      <td>1.853029e+05</td>\n      <td>7.797244</td>\n      <td>4.0</td>\n      <td>3.266531e+07</td>\n      <td>0</td>\n    </tr>\n    <tr>\n      <th>97781</th>\n      <td>3.900796e+05</td>\n      <td>15.548586</td>\n      <td>4.0</td>\n      <td>3.266531e+07</td>\n      <td>0</td>\n    </tr>\n    <tr>\n      <th>97782</th>\n      <td>1.032303e+06</td>\n      <td>44.509548</td>\n      <td>4.0</td>\n      <td>3.266531e+07</td>\n      <td>0</td>\n    </tr>\n  </tbody>\n</table>\n<p>91264 rows × 5 columns</p>\n</div>"
     },
     "metadata": {},
     "execution_count": 194
    }
   ],
   "source": [
    "  df2['new']=0\n",
    "for patient in pd.unique(df2['patient']):\n",
    "    df2['new'].where(df2['patient']!=patient, mean_sums[int(patient-1)], inplace=True)\n",
    "\n",
    "    # df2['new']=df2['sum']/df2[\"mean_sum\"]\n",
    "\n",
    "df2=df2.reindex(columns= ['sum', 'rms', 'patient', 'new', 'target'])\n",
    "df2"
   ]
  },
  {
   "cell_type": "code",
   "execution_count": 195,
   "metadata": {},
   "outputs": [
    {
     "output_type": "execute_result",
     "data": {
      "text/plain": [
       "array([0.03115819, 0.04265447, 1.        , 0.88707379])"
      ]
     },
     "metadata": {},
     "execution_count": 195
    }
   ],
   "source": [
    "from scipy.stats.stats import pearsonr\n",
    "coefs2=np.zeros(4)\n",
    "p_vals2=np.zeros(4)\n",
    "# df21=df2[df2[pati]]\n",
    "for i in range(0,4):\n",
    "    (coefs2[i], p_vals2[i])=pearsonr(df2[df2.columns[i]], df2['patient'])\n",
    "coefs2"
   ]
  },
  {
   "cell_type": "code",
   "execution_count": null,
   "metadata": {},
   "outputs": [],
   "source": [
    "corr_df2=pd.DataFrame(data={'corr01':coefs2,'p01': p_vals2})\n",
    "corr_df2['feature']=df2.columns[:-2]\n",
    "corr_df2"
   ]
  },
  {
   "cell_type": "code",
   "execution_count": 206,
   "metadata": {},
   "outputs": [
    {
     "output_type": "error",
     "ename": "AttributeError",
     "evalue": "'numpy.ndarray' object has no attribute 'remove'",
     "traceback": [
      "\u001b[1;31m---------------------------------------------------------------------------\u001b[0m",
      "\u001b[1;31mAttributeError\u001b[0m                            Traceback (most recent call last)",
      "\u001b[1;32m<ipython-input-206-e7da22ae7902>\u001b[0m in \u001b[0;36m<module>\u001b[1;34m\u001b[0m\n\u001b[0;32m      1\u001b[0m \u001b[0ma\u001b[0m\u001b[1;33m=\u001b[0m\u001b[0mnp\u001b[0m\u001b[1;33m.\u001b[0m\u001b[0marray\u001b[0m\u001b[1;33m(\u001b[0m\u001b[0mdf2\u001b[0m\u001b[1;33m.\u001b[0m\u001b[0mcolumns\u001b[0m\u001b[1;33m)\u001b[0m\u001b[1;33m\u001b[0m\u001b[1;33m\u001b[0m\u001b[0m\n\u001b[1;32m----> 2\u001b[1;33m \u001b[0ma\u001b[0m\u001b[1;33m.\u001b[0m\u001b[0mremove\u001b[0m\u001b[1;33m(\u001b[0m\u001b[1;34m'target'\u001b[0m\u001b[1;33m)\u001b[0m\u001b[1;33m\u001b[0m\u001b[1;33m\u001b[0m\u001b[0m\n\u001b[0m",
      "\u001b[1;31mAttributeError\u001b[0m: 'numpy.ndarray' object has no attribute 'remove'"
     ]
    }
   ],
   "source": [
    "a=np.array(df2.columns)\n",
    "('target')"
   ]
  }
 ]
}