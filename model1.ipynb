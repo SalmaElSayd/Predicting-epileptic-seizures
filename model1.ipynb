{
 "metadata": {
  "language_info": {
   "codemirror_mode": {
    "name": "ipython",
    "version": 3
   },
   "file_extension": ".py",
   "mimetype": "text/x-python",
   "name": "python",
   "nbconvert_exporter": "python",
   "pygments_lexer": "ipython3",
   "version": "3.7.3"
  },
  "orig_nbformat": 2,
  "kernelspec": {
   "name": "python37364bittfgpucondac099bc5da9054a33945af826af1262b9",
   "display_name": "Python 3.7.3 64-bit ('tf-gpu': conda)"
  },
  "metadata": {
   "interpreter": {
    "hash": "4b3fe4e430614ae3e36b8912aa67966595d32d796c9f5e46d3c96e8e35c078a4"
   }
  }
 },
 "nbformat": 4,
 "nbformat_minor": 2,
 "cells": [
  {
   "cell_type": "code",
   "execution_count": 1,
   "metadata": {},
   "outputs": [],
   "source": [
    "import os\n",
    "import glob\n",
    "import re\n",
    "import numpy as np\n",
    "import numpy.fft as fft\n",
    "import mne\n",
    "import matplotlib.pyplot as plt\n",
    "from scipy import stats, signal\n",
    "from numpy import save, load\n",
    "import pandas as pd\n",
    "from sklearn.svm import SVC"
   ]
  },
  {
   "source": [
    "### read dataset X and Y"
   ],
   "cell_type": "markdown",
   "metadata": {}
  },
  {
   "cell_type": "code",
   "execution_count": 2,
   "metadata": {},
   "outputs": [
    {
     "output_type": "stream",
     "name": "stdout",
     "text": [
      "(408, 208)\n"
     ]
    }
   ],
   "source": [
    "subject_id=1\n",
    "base_path = \"features/\"\n",
    "edf_file_names = sorted(glob.glob(os.path.join(base_path, \"data_chb01/*.npy\".format(subject_id))))\n",
    "files=len(edf_file_names)\n",
    "X=load('features/data_chb01/features_{}_00.npy'.format(subject_id))\n",
    "y=load('features/data_chb01/targets_{}_00.npy'.format(subject_id))\n",
    "print(X.shape)\n",
    "for fileno in range(1, files//2):\n",
    "    X=np.concatenate((X, load('features/data_chb01/features_{}_{:02d}.npy'.format(subject_id, fileno))))\n",
    "    y=np.concatenate((y, load('features/data_chb01/targets_{}_{:02d}.npy'.format(subject_id, fileno))))\n"
   ]
  },
  {
   "cell_type": "code",
   "execution_count": 3,
   "metadata": {},
   "outputs": [
    {
     "output_type": "execute_result",
     "data": {
      "text/plain": [
       "((14584, 208), (14584,))"
      ]
     },
     "metadata": {},
     "execution_count": 3
    }
   ],
   "source": [
    "X.shape, y.shape"
   ]
  },
  {
   "cell_type": "code",
   "execution_count": 4,
   "metadata": {},
   "outputs": [],
   "source": [
    "df=pd.DataFrame(data=X)"
   ]
  },
  {
   "cell_type": "code",
   "execution_count": 5,
   "metadata": {},
   "outputs": [],
   "source": [
    "df['target']=y"
   ]
  },
  {
   "cell_type": "code",
   "execution_count": 6,
   "metadata": {},
   "outputs": [
    {
     "output_type": "execute_result",
     "data": {
      "text/plain": [
       "(14584, 209)"
      ]
     },
     "metadata": {},
     "execution_count": 6
    }
   ],
   "source": [
    "df.shape"
   ]
  },
  {
   "cell_type": "code",
   "execution_count": 20,
   "metadata": {},
   "outputs": [
    {
     "output_type": "execute_result",
     "data": {
      "text/plain": [
       "(13163, 209)"
      ]
     },
     "metadata": {},
     "execution_count": 20
    }
   ],
   "source": [
    "df.dropna()\n",
    "df.shape"
   ]
  },
  {
   "cell_type": "code",
   "execution_count": 16,
   "metadata": {},
   "outputs": [
    {
     "output_type": "execute_result",
     "data": {
      "text/plain": [
       "             0         1         2         3         4         5         6  \\\n",
       "767   0.504019  0.161749  0.036241  0.087788  0.117071  0.010672  0.075750   \n",
       "768   0.397320  0.131061  0.041063  0.131679  0.127953  0.018591  0.123891   \n",
       "769   0.032970  0.067123  0.011638  0.045629  0.222607  0.082048  0.388199   \n",
       "770   0.013406  0.067360  0.010145  0.044625  0.228867  0.084977  0.397326   \n",
       "771   0.131704  0.184924  0.037553  0.238695  0.201855  0.023583  0.158190   \n",
       "...        ...       ...       ...       ...       ...       ...       ...   \n",
       "9151  0.024826  0.082295  0.049787  0.065915  0.295219  0.086339  0.333806   \n",
       "9152  0.014045  0.083170  0.027623  0.031817  0.319929  0.085996  0.365671   \n",
       "9153  0.022369  0.120699  0.032243  0.047050  0.325650  0.063891  0.319887   \n",
       "9154  0.034451  0.159178  0.060282  0.076829  0.325747  0.056455  0.239840   \n",
       "9155  0.045098  0.168443  0.068901  0.114206  0.328712  0.044413  0.193135   \n",
       "\n",
       "             7           8         9  ...       199       200       201  \\\n",
       "767   0.006710   35.378636  0.340825  ...  0.282103  0.070293  0.147826   \n",
       "768   0.028443   41.653349  0.137482  ...  0.261818  0.062877  0.153241   \n",
       "769   0.149785  359.949214  0.022584  ...  0.168848  0.029229  0.121630   \n",
       "770   0.153293  342.790860  0.017106  ...  0.153139  0.030927  0.122526   \n",
       "771   0.023495   23.179371  0.198627  ...  0.184617  0.045994  0.168155   \n",
       "...        ...         ...       ...  ...       ...       ...       ...   \n",
       "9151  0.061814   56.292130  0.102190  ...  0.048700  0.042667  0.101418   \n",
       "9152  0.071750   75.450678  0.065839  ...  0.056387  0.047088  0.089704   \n",
       "9153  0.068213   45.941663  0.062855  ...  0.053789  0.052068  0.111783   \n",
       "9154  0.047217   27.680383  0.085372  ...  0.045370  0.047184  0.114786   \n",
       "9155  0.037093   23.489932  0.123299  ...  0.048632  0.049617  0.117277   \n",
       "\n",
       "           202       203       204       205        206  207  target  \n",
       "767   0.065048  0.009173  0.059392  0.005359  22.022274  1.0       3  \n",
       "768   0.082529  0.013847  0.073221  0.010040  24.051126  1.0       3  \n",
       "769   0.179059  0.042258  0.250080  0.064458  80.585204  1.0       3  \n",
       "770   0.180385  0.046731  0.282134  0.073164  88.751985  1.0       3  \n",
       "771   0.154820  0.037461  0.221824  0.067128  31.520675  1.0       3  \n",
       "...        ...       ...       ...       ...        ...  ...     ...  \n",
       "9151  0.115535  0.100833  0.517067  0.014999  97.952720  1.0       3  \n",
       "9152  0.125709  0.098840  0.507692  0.015631  98.250833  1.0       3  \n",
       "9153  0.115940  0.098990  0.508954  0.013975  97.544856  1.0       3  \n",
       "9154  0.107574  0.100771  0.512889  0.013147  94.074203  1.0       3  \n",
       "9155  0.105903  0.097607  0.498269  0.012862  97.610233  1.0       3  \n",
       "\n",
       "[1421 rows x 209 columns]"
      ],
      "text/html": "<div>\n<style scoped>\n    .dataframe tbody tr th:only-of-type {\n        vertical-align: middle;\n    }\n\n    .dataframe tbody tr th {\n        vertical-align: top;\n    }\n\n    .dataframe thead th {\n        text-align: right;\n    }\n</style>\n<table border=\"1\" class=\"dataframe\">\n  <thead>\n    <tr style=\"text-align: right;\">\n      <th></th>\n      <th>0</th>\n      <th>1</th>\n      <th>2</th>\n      <th>3</th>\n      <th>4</th>\n      <th>5</th>\n      <th>6</th>\n      <th>7</th>\n      <th>8</th>\n      <th>9</th>\n      <th>...</th>\n      <th>199</th>\n      <th>200</th>\n      <th>201</th>\n      <th>202</th>\n      <th>203</th>\n      <th>204</th>\n      <th>205</th>\n      <th>206</th>\n      <th>207</th>\n      <th>target</th>\n    </tr>\n  </thead>\n  <tbody>\n    <tr>\n      <th>767</th>\n      <td>0.504019</td>\n      <td>0.161749</td>\n      <td>0.036241</td>\n      <td>0.087788</td>\n      <td>0.117071</td>\n      <td>0.010672</td>\n      <td>0.075750</td>\n      <td>0.006710</td>\n      <td>35.378636</td>\n      <td>0.340825</td>\n      <td>...</td>\n      <td>0.282103</td>\n      <td>0.070293</td>\n      <td>0.147826</td>\n      <td>0.065048</td>\n      <td>0.009173</td>\n      <td>0.059392</td>\n      <td>0.005359</td>\n      <td>22.022274</td>\n      <td>1.0</td>\n      <td>3</td>\n    </tr>\n    <tr>\n      <th>768</th>\n      <td>0.397320</td>\n      <td>0.131061</td>\n      <td>0.041063</td>\n      <td>0.131679</td>\n      <td>0.127953</td>\n      <td>0.018591</td>\n      <td>0.123891</td>\n      <td>0.028443</td>\n      <td>41.653349</td>\n      <td>0.137482</td>\n      <td>...</td>\n      <td>0.261818</td>\n      <td>0.062877</td>\n      <td>0.153241</td>\n      <td>0.082529</td>\n      <td>0.013847</td>\n      <td>0.073221</td>\n      <td>0.010040</td>\n      <td>24.051126</td>\n      <td>1.0</td>\n      <td>3</td>\n    </tr>\n    <tr>\n      <th>769</th>\n      <td>0.032970</td>\n      <td>0.067123</td>\n      <td>0.011638</td>\n      <td>0.045629</td>\n      <td>0.222607</td>\n      <td>0.082048</td>\n      <td>0.388199</td>\n      <td>0.149785</td>\n      <td>359.949214</td>\n      <td>0.022584</td>\n      <td>...</td>\n      <td>0.168848</td>\n      <td>0.029229</td>\n      <td>0.121630</td>\n      <td>0.179059</td>\n      <td>0.042258</td>\n      <td>0.250080</td>\n      <td>0.064458</td>\n      <td>80.585204</td>\n      <td>1.0</td>\n      <td>3</td>\n    </tr>\n    <tr>\n      <th>770</th>\n      <td>0.013406</td>\n      <td>0.067360</td>\n      <td>0.010145</td>\n      <td>0.044625</td>\n      <td>0.228867</td>\n      <td>0.084977</td>\n      <td>0.397326</td>\n      <td>0.153293</td>\n      <td>342.790860</td>\n      <td>0.017106</td>\n      <td>...</td>\n      <td>0.153139</td>\n      <td>0.030927</td>\n      <td>0.122526</td>\n      <td>0.180385</td>\n      <td>0.046731</td>\n      <td>0.282134</td>\n      <td>0.073164</td>\n      <td>88.751985</td>\n      <td>1.0</td>\n      <td>3</td>\n    </tr>\n    <tr>\n      <th>771</th>\n      <td>0.131704</td>\n      <td>0.184924</td>\n      <td>0.037553</td>\n      <td>0.238695</td>\n      <td>0.201855</td>\n      <td>0.023583</td>\n      <td>0.158190</td>\n      <td>0.023495</td>\n      <td>23.179371</td>\n      <td>0.198627</td>\n      <td>...</td>\n      <td>0.184617</td>\n      <td>0.045994</td>\n      <td>0.168155</td>\n      <td>0.154820</td>\n      <td>0.037461</td>\n      <td>0.221824</td>\n      <td>0.067128</td>\n      <td>31.520675</td>\n      <td>1.0</td>\n      <td>3</td>\n    </tr>\n    <tr>\n      <th>...</th>\n      <td>...</td>\n      <td>...</td>\n      <td>...</td>\n      <td>...</td>\n      <td>...</td>\n      <td>...</td>\n      <td>...</td>\n      <td>...</td>\n      <td>...</td>\n      <td>...</td>\n      <td>...</td>\n      <td>...</td>\n      <td>...</td>\n      <td>...</td>\n      <td>...</td>\n      <td>...</td>\n      <td>...</td>\n      <td>...</td>\n      <td>...</td>\n      <td>...</td>\n      <td>...</td>\n    </tr>\n    <tr>\n      <th>9151</th>\n      <td>0.024826</td>\n      <td>0.082295</td>\n      <td>0.049787</td>\n      <td>0.065915</td>\n      <td>0.295219</td>\n      <td>0.086339</td>\n      <td>0.333806</td>\n      <td>0.061814</td>\n      <td>56.292130</td>\n      <td>0.102190</td>\n      <td>...</td>\n      <td>0.048700</td>\n      <td>0.042667</td>\n      <td>0.101418</td>\n      <td>0.115535</td>\n      <td>0.100833</td>\n      <td>0.517067</td>\n      <td>0.014999</td>\n      <td>97.952720</td>\n      <td>1.0</td>\n      <td>3</td>\n    </tr>\n    <tr>\n      <th>9152</th>\n      <td>0.014045</td>\n      <td>0.083170</td>\n      <td>0.027623</td>\n      <td>0.031817</td>\n      <td>0.319929</td>\n      <td>0.085996</td>\n      <td>0.365671</td>\n      <td>0.071750</td>\n      <td>75.450678</td>\n      <td>0.065839</td>\n      <td>...</td>\n      <td>0.056387</td>\n      <td>0.047088</td>\n      <td>0.089704</td>\n      <td>0.125709</td>\n      <td>0.098840</td>\n      <td>0.507692</td>\n      <td>0.015631</td>\n      <td>98.250833</td>\n      <td>1.0</td>\n      <td>3</td>\n    </tr>\n    <tr>\n      <th>9153</th>\n      <td>0.022369</td>\n      <td>0.120699</td>\n      <td>0.032243</td>\n      <td>0.047050</td>\n      <td>0.325650</td>\n      <td>0.063891</td>\n      <td>0.319887</td>\n      <td>0.068213</td>\n      <td>45.941663</td>\n      <td>0.062855</td>\n      <td>...</td>\n      <td>0.053789</td>\n      <td>0.052068</td>\n      <td>0.111783</td>\n      <td>0.115940</td>\n      <td>0.098990</td>\n      <td>0.508954</td>\n      <td>0.013975</td>\n      <td>97.544856</td>\n      <td>1.0</td>\n      <td>3</td>\n    </tr>\n    <tr>\n      <th>9154</th>\n      <td>0.034451</td>\n      <td>0.159178</td>\n      <td>0.060282</td>\n      <td>0.076829</td>\n      <td>0.325747</td>\n      <td>0.056455</td>\n      <td>0.239840</td>\n      <td>0.047217</td>\n      <td>27.680383</td>\n      <td>0.085372</td>\n      <td>...</td>\n      <td>0.045370</td>\n      <td>0.047184</td>\n      <td>0.114786</td>\n      <td>0.107574</td>\n      <td>0.100771</td>\n      <td>0.512889</td>\n      <td>0.013147</td>\n      <td>94.074203</td>\n      <td>1.0</td>\n      <td>3</td>\n    </tr>\n    <tr>\n      <th>9155</th>\n      <td>0.045098</td>\n      <td>0.168443</td>\n      <td>0.068901</td>\n      <td>0.114206</td>\n      <td>0.328712</td>\n      <td>0.044413</td>\n      <td>0.193135</td>\n      <td>0.037093</td>\n      <td>23.489932</td>\n      <td>0.123299</td>\n      <td>...</td>\n      <td>0.048632</td>\n      <td>0.049617</td>\n      <td>0.117277</td>\n      <td>0.105903</td>\n      <td>0.097607</td>\n      <td>0.498269</td>\n      <td>0.012862</td>\n      <td>97.610233</td>\n      <td>1.0</td>\n      <td>3</td>\n    </tr>\n  </tbody>\n</table>\n<p>1421 rows × 209 columns</p>\n</div>"
     },
     "metadata": {},
     "execution_count": 16
    }
   ],
   "source": [
    "df[(df['target']==3) | (df['target']==1)]"
   ]
  },
  {
   "cell_type": "code",
   "execution_count": 19,
   "metadata": {},
   "outputs": [],
   "source": [
    "df=df[(df['target']==2) | (df['target']==0)]\n",
    "#discard discarded values"
   ]
  },
  {
   "cell_type": "code",
   "execution_count": 18,
   "metadata": {},
   "outputs": [
    {
     "output_type": "execute_result",
     "data": {
      "text/plain": [
       "(14584, 209)"
      ]
     },
     "metadata": {},
     "execution_count": 18
    }
   ],
   "source": [
    "df.shape"
   ]
  },
  {
   "source": [
    "### train test split"
   ],
   "cell_type": "markdown",
   "metadata": {}
  },
  {
   "cell_type": "code",
   "execution_count": 35,
   "metadata": {},
   "outputs": [
    {
     "output_type": "execute_result",
     "data": {
      "text/plain": [
       "((12188, 209), (975, 209))"
      ]
     },
     "metadata": {},
     "execution_count": 35
    }
   ],
   "source": [
    "df_interictal=df[df['target']==0]\n",
    "df_preictal=df[df['target']==2]\n",
    "df_interictal.shape, df_preictal.shape"
   ]
  },
  {
   "cell_type": "code",
   "execution_count": 39,
   "metadata": {},
   "outputs": [
    {
     "output_type": "execute_result",
     "data": {
      "text/plain": [
       "0        0\n",
       "1        0\n",
       "2        0\n",
       "3        0\n",
       "4        0\n",
       "        ..\n",
       "14579    0\n",
       "14580    0\n",
       "14581    0\n",
       "14582    0\n",
       "14583    0\n",
       "Name: target, Length: 12188, dtype: int64"
      ]
     },
     "metadata": {},
     "execution_count": 39
    }
   ],
   "source": [
    "df_interictal['target']"
   ]
  },
  {
   "cell_type": "code",
   "execution_count": 40,
   "metadata": {},
   "outputs": [],
   "source": [
    "X_interictal=np.array(df_interictal[df.columns[:-1]])\n",
    "y_interictal=np.array(df_interictal['target'])\n",
    "X_preictal  =np.array(df_preictal[df.columns[:-1]])\n",
    "y_preictal  =np.array(df_preictal['target'])"
   ]
  },
  {
   "cell_type": "code",
   "execution_count": 42,
   "metadata": {},
   "outputs": [
    {
     "output_type": "stream",
     "name": "stdout",
     "text": [
      "(12188, 208)\n(12188,)\n(975, 208)\n(975,)\n"
     ]
    }
   ],
   "source": [
    "print(X_interictal.shape)\n",
    "print(y_interictal.shape)\n",
    "print(X_preictal.shape)\n",
    "print(y_preictal.shape)"
   ]
  },
  {
   "cell_type": "code",
   "execution_count": null,
   "metadata": {},
   "outputs": [],
   "source": [
    "df_preictal[:-1]"
   ]
  },
  {
   "cell_type": "code",
   "execution_count": 24,
   "metadata": {},
   "outputs": [],
   "source": [
    "from sklearn.model_selection import train_test_split\n"
   ]
  },
  {
   "cell_type": "code",
   "execution_count": 43,
   "metadata": {},
   "outputs": [],
   "source": [
    "X_interictal_train, X_interictal_test, y_interictal_train, y_interictal_test =train_test_split(X_interictal,y_interictal,test_size=0.1, random_state=42)\n",
    "X_preictal_train, X_preictal_test, y_preictal_train, y_preictal_test=train_test_split(X_preictal, y_preictal,test_size=0.1, random_state=42)"
   ]
  },
  {
   "cell_type": "code",
   "execution_count": 46,
   "metadata": {},
   "outputs": [],
   "source": [
    "X_train = np.concatenate((X_interictal_train, X_preictal_train))\n",
    "X_test = np.concatenate((X_interictal_test, X_preictal_test))\n",
    "y_train = np.concatenate((y_interictal_train, y_preictal_train))\n",
    "y_test = np.concatenate((y_interictal_test, y_preictal_test))"
   ]
  },
  {
   "cell_type": "code",
   "execution_count": 47,
   "metadata": {},
   "outputs": [
    {
     "output_type": "stream",
     "name": "stdout",
     "text": [
      "(11846, 208)\n(1317, 208)\n(11846,)\n(1317,)\n"
     ]
    }
   ],
   "source": [
    "print(X_train.shape)\n",
    "print(X_test.shape)\n",
    "print(y_train.shape)\n",
    "print(y_test.shape)"
   ]
  },
  {
   "source": [
    "### training the model"
   ],
   "cell_type": "markdown",
   "metadata": {}
  },
  {
   "cell_type": "code",
   "execution_count": 48,
   "metadata": {},
   "outputs": [
    {
     "output_type": "stream",
     "name": "stdout",
     "text": [
      "**SVM Results:**\nTraining Accuracy: 92%\nTesting Accuracy: 92%\n"
     ]
    }
   ],
   "source": [
    "clf = SVC()\n",
    "clf.fit(X_train, y_train)\n",
    "trainAcc = clf.score(X_train, y_train)\n",
    "testAcc = clf.score(X_test, y_test)\n",
    "print(\"**SVM Results:**\")\n",
    "print(\"Training Accuracy: %d\"%(trainAcc*100)+\"%\")\n",
    "print(\"Testing Accuracy: %d\"%(testAcc *100)+\"%\")"
   ]
  },
  {
   "cell_type": "code",
   "execution_count": null,
   "metadata": {},
   "outputs": [],
   "source": []
  }
 ]
}