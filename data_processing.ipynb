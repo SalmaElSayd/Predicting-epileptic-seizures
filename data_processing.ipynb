{
 "cells": [
  {
   "cell_type": "markdown",
   "source": [
    "## Steps\n",
    "1. read data\n",
    "2. time differential\n",
    "3. PSD (using welch)\n",
    "4. extract features\n",
    "5. match labels (target)\n",
    "6. add patient id"
   ],
   "metadata": {}
  },
  {
   "cell_type": "code",
   "execution_count": 1,
   "source": [
    "import os\r\n",
    "import glob\r\n",
    "import re\r\n",
    "import numpy as np\r\n",
    "import numpy.fft as fft\r\n",
    "import mne\r\n",
    "import matplotlib.pyplot as plt\r\n",
    "from scipy import stats, signal\r\n",
    "from numpy import save, load\r\n",
    "import pandas as pd"
   ],
   "outputs": [],
   "metadata": {}
  },
  {
   "cell_type": "code",
   "execution_count": 2,
   "source": [
    "# subject_id = 23\r\n",
    "# base_path = \"physionet.org/files/chbmit/1.0.0/\"\r\n",
    "# edf_file_names = sorted(glob.glob(os.path.join(base_path, \"chb{:02d}/*.edf\".format(subject_id))))\r\n",
    "# summary_file = os.path.join(base_path, \"chb{:02d}/chb{:02d}-summary.txt\".format(subject_id, subject_id))\r\n",
    "\r\n",
    "\r\n",
    "# summary_content = open(summary_file,'r').read()"
   ],
   "outputs": [],
   "metadata": {}
  },
  {
   "cell_type": "code",
   "execution_count": 2,
   "source": [
    "def extract_data_and_labels(edf_filename, summary_text):\r\n",
    "    folder, basename = os.path.split(edf_filename)\r\n",
    "    \r\n",
    "    edf = mne.io.read_raw_edf(edf_filename,stim_channel=None)\r\n",
    "    # X = edf.get_data().astype(np.float32) * 1e6 # to mV\r\n",
    "    X= shuffle_channels(edf).astype(np.float32)\r\n",
    "    print (X.shape)\r\n",
    "    y = np.zeros(X.shape[1], dtype=np.int64)\r\n",
    "    i_text_start = summary_text.index(basename)\r\n",
    "\r\n",
    "    if 'File Name' in summary_text[i_text_start:]:\r\n",
    "        i_text_stop = summary_text.index('File Name', i_text_start)\r\n",
    "    else:\r\n",
    "        i_text_stop = len(summary_text)\r\n",
    "    assert i_text_stop > i_text_start\r\n",
    "\r\n",
    "    file_text = summary_text[i_text_start:i_text_stop]\r\n",
    "    # print(file_text)\r\n",
    "    num_seizures = int(re.search(r\"Number of Seizures in File: ([0-9]*)\", file_text).group(1))\r\n",
    "    \r\n",
    "    # if 'Seizure ' in file_text:\r\n",
    "    if num_seizures>0:\r\n",
    "        for sez in range(1, num_seizures+1):\r\n",
    "            # print(re.search(rf\"Seizure[\\s]*[{str(sez)}]* Start Time:[\\s]* ([0-9]*) seconds\", file_text))\r\n",
    "            start_sec = int(re.search(rf\"Seizure[\\s]*[{str(sez)}]* Start Time:[\\s]* ([0-9]*) seconds\", file_text).group(1))\r\n",
    "            print(start_sec)\r\n",
    "            end_sec = int(re.search(rf\"Seizure[\\s]*[{str(sez)}]* End Time:[\\s]* ([0-9]*) seconds\", file_text).group(1))\r\n",
    "            print(end_sec)\r\n",
    "            i_seizure_start = int(round(start_sec * edf.info['sfreq']))\r\n",
    "            i_seizure_stop = int(round((end_sec + 1) * edf.info['sfreq']))\r\n",
    "            y[i_seizure_start:i_seizure_stop] = 1\r\n",
    "    assert X.shape[1] == len(y)\r\n",
    "    return X,y"
   ],
   "outputs": [],
   "metadata": {}
  },
  {
   "cell_type": "code",
   "execution_count": 3,
   "source": [
    "channel_order= {'FP1-F7':0, 'F7-T7':1, 'T7-P7':2, 'P7-O1':3, 'FP1-F3':4, 'F3-C3':5, 'C3-P3':6, 'P3-O1':7, 'FP2-F4':8, 'F4-C4':9, 'C4-P4':10, 'P4-O2':11, 'FP2-F8':12, 'F8-T8':13, 'T8-P8-0':14, 'P8-O2':15, 'FZ-CZ':16, 'CZ-PZ':17, 'P7-T7':18, 'T7-FT9':19, 'FT9-FT10':20, 'FT10-T8':21 ,'T8-P8-1':22 }\r\n",
    "def shuffle_channels(data):\r\n",
    "    channels=data.ch_names\r\n",
    "    d=data.get_data().astype(np.float32) * 1e6 \r\n",
    "    res= [0]*23\r\n",
    "    # res=np.zeros_like(res)\r\n",
    "    i=0\r\n",
    "    for ch in channels:\r\n",
    "        if channel_order.get(ch)!=None:\r\n",
    "            idx=channel_order[ch]\r\n",
    "            res[idx]=np.array(d[i])\r\n",
    "        i+=1\r\n",
    "    r=np.zeros_like(res)\r\n",
    "    for i in range(0,23):\r\n",
    "        r[i]=res[i]\r\n",
    "    return r"
   ],
   "outputs": [],
   "metadata": {}
  },
  {
   "cell_type": "code",
   "execution_count": 5,
   "source": [
    "# X_23 = []\r\n",
    "# y_23 = []\r\n",
    "# for edf_file_name in edf_file_names:\r\n",
    "#     X, y = extract_data_and_labels(edf_file_name, summary_content)\r\n",
    "#     X_23.append(X)\r\n",
    "#     y_23.append(y)"
   ],
   "outputs": [],
   "metadata": {
    "tags": []
   }
  },
  {
   "cell_type": "code",
   "execution_count": 6,
   "source": [
    "# len(X_23)"
   ],
   "outputs": [],
   "metadata": {}
  },
  {
   "cell_type": "code",
   "execution_count": 7,
   "source": [
    "def time_differential(x_series):\r\n",
    "    a=[]\r\n",
    "    for ch in x_series:\r\n",
    "        c=np.zeros_like(ch)\r\n",
    "        for i in range (1,len(ch)):\r\n",
    "            c[i]=ch[i]-ch[i-1]\r\n",
    "        a.append(c)\r\n",
    "    return np.array(a)\r\n",
    "\r\n",
    "    "
   ],
   "outputs": [],
   "metadata": {}
  },
  {
   "cell_type": "code",
   "execution_count": 8,
   "source": [
    "label_dict ={0: 'interictal', 1: 'ictal', 2: 'preictal', 3: 'dismiss'}"
   ],
   "outputs": [],
   "metadata": {}
  },
  {
   "cell_type": "code",
   "execution_count": 5,
   "source": [
    "def label_series(labels, preictalmins):\r\n",
    "    interictal=60*60*256\r\n",
    "    preictal=preictalmins*60*256\r\n",
    "    # interictal=4\r\n",
    "    # preictal=2\r\n",
    "    seizure_starts=[]\r\n",
    "    seizure_ends=[]\r\n",
    "    if labels[0]==1:\r\n",
    "        seizure_starts.append(0)\r\n",
    "    for i in range(1,len(labels)):\r\n",
    "        if labels[i]==1 and labels[i-1]==0:\r\n",
    "            seizure_starts.append(i)\r\n",
    "        if labels[i]==0 and labels[i-1]==1:\r\n",
    "            seizure_ends.append(i)\r\n",
    "    # print(seizure_starts)\r\n",
    "    # print(seizure_ends)\r\n",
    "    for point in seizure_starts:\r\n",
    "        # print(point)\r\n",
    "        for j in range(max(0, point-preictal), point):\r\n",
    "            if labels[j]!=1:\r\n",
    "                labels[j]=2\r\n",
    "        for k in range(max(0, point-interictal), point):\r\n",
    "            if labels[k]==0:\r\n",
    "                labels[k]=3\r\n",
    "    for point in seizure_ends:\r\n",
    "        for j in range(point, min(interictal+ point, len(labels))):\r\n",
    "            if labels[j]==0:\r\n",
    "                labels[j]=3\r\n",
    "    return labels\r\n",
    "        \r\n",
    "\r\n",
    "           \r\n",
    "\r\n"
   ],
   "outputs": [],
   "metadata": {}
  },
  {
   "cell_type": "code",
   "execution_count": 5,
   "source": [
    "def check_channel_match(channels):\r\n",
    "    i=0\r\n",
    "    for ch in channels:\r\n",
    "        if channel_order.get(ch)==None or channel_order[ch]!=i:\r\n",
    "            return False\r\n",
    "        i+=1\r\n",
    "    return True\r\n"
   ],
   "outputs": [],
   "metadata": {}
  },
  {
   "cell_type": "code",
   "execution_count": 6,
   "source": [
    "def extract_frequency(freqs, psd, start, end):\r\n",
    "    start_idx=np.where(np.isclose(freqs, start))[0][0]\r\n",
    "    if end==-1:\r\n",
    "        end_idx=-1\r\n",
    "    else:\r\n",
    "        end_idx=np.where(np.isclose(freqs, end))[0][0]\r\n",
    "    return psd[start_idx:end_idx].sum()\r\n"
   ],
   "outputs": [],
   "metadata": {}
  },
  {
   "cell_type": "code",
   "execution_count": 7,
   "source": [
    "def set_frequency(freqs, psd, start, end, value):\r\n",
    "    start_idx=np.where(np.isclose(freqs, start))[0][0]\r\n",
    "    if end==-1:\r\n",
    "        end_idx=-1\r\n",
    "    else:\r\n",
    "        end_idx=np.where(np.isclose(freqs, end))[0][0]    \r\n",
    "    psd[start_idx:end_idx]=value"
   ],
   "outputs": [],
   "metadata": {}
  },
  {
   "cell_type": "code",
   "execution_count": 13,
   "source": [
    "from scipy.stats.stats import pearsonr\r\n",
    "\r\n",
    "def order_correlation(data, target):\r\n",
    "    df=pd.DataFrame(data=data, columns=generate_column_names())\r\n",
    "    df['target']=target\r\n",
    "    df=df.dropna()\r\n",
    "    df=df[(df['target']!=3)]\r\n",
    "    coefs=np.zeros(len(df.columns)-1)\r\n",
    "    p_vals=np.zeros(len(df.columns)-1)\r\n",
    "    for i in range(0,len(df.columns)-1):\r\n",
    "        (coefs[i], p_vals[i])=pearsonr(df[df.columns[i]], df['target'])\r\n",
    "    corr_df=pd.DataFrame(data={'corr01':coefs,'p01': p_vals})\r\n",
    "    corr_df['feature']=df.columns[:-1]\r\n",
    "    corr_df=corr_df.sort_values('corr01', ascending=False)\r\n",
    "    return corr_df['feature']"
   ],
   "outputs": [],
   "metadata": {}
  },
  {
   "cell_type": "code",
   "execution_count": 14,
   "source": [
    "def generate_column_names():\r\n",
    "    channel_order= {'FP1-F7':0, 'F7-T7':1, 'T7-P7':2, 'P7-O1':3, 'FP1-F3':4, 'F3-C3':5, 'C3-P3':6, 'P3-O1':7, 'FP2-F4':8, 'F4-C4':9, 'C4-P4':10, 'P4-O2':11, 'FP2-F8':12, 'F8-T8':13, 'T8-P8-0':14, 'P8-O2':15, 'FZ-CZ':16, 'CZ-PZ':17, 'P7-T7':18, 'T7-FT9':19, 'FT9-FT10':20, 'FT10-T8':21 ,'T8-P8-1':22 }\r\n",
    "    col_names=[]\r\n",
    "    for ch in channel_order:\r\n",
    "        # print(ch)\r\n",
    "        for i in range(0,9):\r\n",
    "            col_names.append(str(ch)+'-'+str(i))\r\n",
    "    col_names.append('rms')\r\n",
    "    col_names.append('sum')\r\n",
    "    # col_names.append('patient')\r\n",
    "    return col_names"
   ],
   "outputs": [],
   "metadata": {}
  },
  {
   "cell_type": "code",
   "execution_count": 15,
   "source": [
    "# patient_no=1#################\r\n",
    "\r\n",
    "# for patient_no in range(1,6):\r\n",
    "#     subject_id = patient_no\r\n",
    "#     base_path = \"physionet.org/files/chbmit/1.0.0/\"\r\n",
    "#     edf_file_names = sorted(glob.glob(os.path.join(base_path, \"chb{:02d}/*.edf\".format(subject_id))))\r\n",
    "#     summary_file = os.path.join(base_path, \"chb{:02d}/chb{:02d}-summary.txt\".format(subject_id, subject_id))\r\n",
    "\r\n",
    "\r\n",
    "#     summary_content = open(summary_file,'r').read()\r\n",
    "\r\n",
    "#     X_all = []\r\n",
    "#     y_all = []\r\n",
    "#     for edf_file_name in edf_file_names:\r\n",
    "#         X, y = extract_data_and_labels(edf_file_name, summary_content)\r\n",
    "#         X_all.append(X)\r\n",
    "#         y_all.append(y)\r\n",
    "\r\n",
    "#     window_size=int(256*20)\r\n",
    "#     for filno in range(0,len(X_all)):###################\r\n",
    "#         recording=X_all[filno]####################\r\n",
    "#         discarded=0\r\n",
    "#         wins=recording.shape[1]//window_size\r\n",
    "#         print('file: {} , shape: {} '.format(filno,recording.shape))\r\n",
    "#         y=label_series(y_all[filno], 10)#############################33333\r\n",
    "#         datapoints_in=[] #for each file\r\n",
    "#         targets=[]\r\n",
    "#         i=0\r\n",
    "#         while i+window_size<recording.shape[1]:\r\n",
    "#             # n_channels=recording.shape[0]\r\n",
    "#             n_channels=23\r\n",
    "#             # features=np.zeros(n_channels*9+1)\r\n",
    "#             features=np.zeros(3)\r\n",
    "#             features[2]=patient_no\r\n",
    "#             recording.shape\r\n",
    "#             window=time_differential(recording[:,int(i):int(i+window_size)])\r\n",
    "#             # window=recording[:,int(i):int(i+window_size)]\r\n",
    "#             freqs, psd = signal.periodogram(window, fs=256)\r\n",
    "#             features[0]=psd.sum()\r\n",
    "#             features[1]=np.sqrt(np.mean(psd**2))\r\n",
    "#             target_range=np.array(y[int(i):int(i+window_size)])\r\n",
    "\r\n",
    "#             if np.all(target_range == target_range[0]):\r\n",
    "#                 target=target_range[0]\r\n",
    "#                 targets.append(target)\r\n",
    "#                 datapoints_in.append(features)\r\n",
    "#             else:\r\n",
    "#                 discarded+=1               \r\n",
    "#             i+=(window_size/2)\r\n",
    "#         # dp=np.array(datapoints_in)\r\n",
    "#         # D:\\salma\\UNI\\Sem8\\WS\\unnormalized\r\n",
    "#         save(os.path.join('sum_only','data_chb{:02d}/features_{}_{:02d}'.format(patient_no, patient_no, filno)), datapoints_in)\r\n",
    "#         save(os.path.join('sum_only','data_chb{:02d}/targets_{}_{:02d}'.format(patient_no,patient_no, filno)) , targets)\r\n",
    "#         print('total number of windows: {} , number of windows discarded: {} '.format(i/(window_size/2), discarded))\r\n",
    "        \r\n",
    "\r\n"
   ],
   "outputs": [],
   "metadata": {
    "tags": []
   }
  },
  {
   "cell_type": "markdown",
   "source": [
    "- Channel 1: FP1-F7  ----0\n",
    "- Channel 2: F7-T7   ----1\n",
    "- Channel 3: T7-P7   ----2\n",
    "- Channel 4: P7-O1   ----3\n",
    "- Channel 5: -\n",
    "- Channel 6: FP1-F3  ----4\n",
    "- Channel 7: F3-C3   ----5\n",
    "- Channel 8: C3-P3   ----6\n",
    "- Channel 9: P3-O1   ----7\n",
    "- Channel 10: -\n",
    "- Channel 11: FZ-CZ   ----16\n",
    "- Channel 12: CZ-PZ   ----17\n",
    "- Channel 13: -\n",
    "- Channel 14: FP2-F4   ----8\n",
    "- Channel 15: F4-C4   ----9\n",
    "- Channel 16: C4-P4  ----10\n",
    "- Channel 17: P4-O2   ----11\n",
    "- Channel 18: -\n",
    "- Channel 19: FP2-F8   ----12\n",
    "- Channel 20: F8-T8   ----13\n",
    "- Channel 21: T8-P8   ----14\n",
    "- Channel 22: P8-O2   ----15\n",
    "- Channel 23: -\n",
    "- Channel 24: P7-T7   ----18\n",
    "- Channel 25: T7-FT9   ----19\n",
    "- Channel 26: FT9-FT10   ----20\n",
    "- Channel 27: FT10-T8   ----21\n",
    "- Channel 28: T8-P8   ----22\n"
   ],
   "metadata": {}
  },
  {
   "cell_type": "code",
   "execution_count": 56,
   "source": [
    "patient_no=1#################\r\n",
    "\r\n",
    "for patient_no in range(1,6):\r\n",
    "    subject_id = patient_no\r\n",
    "    base_path = \"physionet.org/files/chbmit/1.0.0/\"\r\n",
    "    edf_file_names = sorted(glob.glob(os.path.join(base_path, \"chb{:02d}/*.edf\".format(subject_id))))\r\n",
    "    summary_file = os.path.join(base_path, \"chb{:02d}/chb{:02d}-summary.txt\".format(subject_id, subject_id))\r\n",
    "\r\n",
    "\r\n",
    "    summary_content = open(summary_file,'r').read()\r\n",
    "\r\n",
    "    X_all = []\r\n",
    "    y_all = []\r\n",
    "    for edf_file_name in edf_file_names:\r\n",
    "        X, y = extract_data_and_labels(edf_file_name, summary_content)\r\n",
    "        X_all.append(X)\r\n",
    "        y_all.append(y)\r\n",
    "\r\n",
    "    window_size=int(256*20)\r\n",
    "    for filno in range(0,len(X_all)):###################\r\n",
    "        recording=X_all[filno]####################\r\n",
    "        discarded=0\r\n",
    "        wins=recording.shape[1]//window_size\r\n",
    "        print('file: {} , shape: {} '.format(filno,recording.shape))\r\n",
    "        y=label_series(y_all[filno], 10)#############################33333\r\n",
    "        datapoints_in=[] #for each file\r\n",
    "        targets=[]\r\n",
    "        i=0\r\n",
    "        while i+window_size<recording.shape[1]:\r\n",
    "            # n_channels=recording.shape[0]\r\n",
    "            n_channels=23\r\n",
    "            features=np.zeros(n_channels*9+2)\r\n",
    "            # features[-1]=patient_no\r\n",
    "            recording.shape\r\n",
    "            window=time_differential(recording[:,int(i):int(i+window_size)])\r\n",
    "            # window=recording[:,int(i):int(i+window_size)]\r\n",
    "            freqs, psd = signal.periodogram(window, fs=256)\r\n",
    "            features[-1]=psd.sum()\r\n",
    "            features[-2]=np.sqrt(np.mean(psd**2))\r\n",
    "            #removing electric noise\r\n",
    "            # psd[:,57:64]=0\r\n",
    "            # psd[:,117:124]=0\r\n",
    "            target_range=np.array(y[int(i):int(i+window_size)])\r\n",
    "            for chi in range (0, n_channels):\r\n",
    "                set_frequency(freqs, psd[chi],57,64, 0)\r\n",
    "                set_frequency(freqs, psd[chi],117,124, 0)\r\n",
    "                # alpha=np.sum(psd[chi,8:14])\r\n",
    "                alpha =extract_frequency(freqs, psd[chi],8,14)\r\n",
    "                # beta=np.sum(psd[chi,13:31])\r\n",
    "                beta = extract_frequency(freqs, psd[chi],13,31)\r\n",
    "                # delta=np.sum(psd[chi,1:5])\r\n",
    "                delta =extract_frequency(freqs, psd[chi],0.5,5)\r\n",
    "                # theta=np.sum(psd[chi, 4:9])\r\n",
    "                theta =extract_frequency(freqs, psd[chi],4,9)\r\n",
    "                # gamma0=np.sum(psd[chi,30:48])\r\n",
    "                gamma0=extract_frequency(freqs, psd[chi],30,48)\r\n",
    "                # gamma1=np.sum(psd[chi,53:76])\r\n",
    "                gamma1=extract_frequency(freqs, psd[chi],53,76)\r\n",
    "                # gamma2=np.sum(psd[chi,75:98])\r\n",
    "                gamma2=extract_frequency(freqs, psd[chi],75,98)\r\n",
    "                # gamma3=np.sum(psd[chi,103:])\r\n",
    "                gamma3=extract_frequency(freqs, psd[chi],103,-1)\r\n",
    "                features[chi*9:(1+chi)*9-1]=[alpha,beta,delta,theta,gamma0,gamma1,gamma2,gamma3]\r\n",
    "                # total_power=np.sum(features[chi*9:(1+chi)*9-1])\r\n",
    "                total_power=np.sum(psd[chi])\r\n",
    "                features[chi*9:(1+chi)*9-1] /= total_power\r\n",
    "                features[(1+chi)*9-1]=total_power\r\n",
    "            if np.all(target_range == target_range[0]):\r\n",
    "                target=target_range[0]\r\n",
    "                targets.append(target)\r\n",
    "                datapoints_in.append(features)\r\n",
    "            else:\r\n",
    "                discarded+=1               \r\n",
    "            i+=(window_size/2)\r\n",
    "        # dp=np.array(datapoints_in)\r\n",
    "        # D:\\salma\\UNI\\Sem8\\WS\\unnormalized\r\n",
    "        ft=order_correlation(datapoints_in, targets)\r\n",
    "        newdf=pd.DataFrame(data=datapoints_in, columns=generate_column_names())\r\n",
    "        newdf=newdf.reindex(columns=ft)\r\n",
    "        newdf[\"patient\"]=patient_no\r\n",
    "        # mean_sum=np.mean(newdf['rms'][newdf['target']==0])\r\n",
    "        \r\n",
    "        \r\n",
    "        datapoints_in=np.array(newdf)\r\n",
    "        save(os.path.join('features_sorted','data_chb{:02d}/features_{}_{:02d}'.format(patient_no, patient_no, filno)), datapoints_in)\r\n",
    "        save(os.path.join('features_sorted','data_chb{:02d}/targets_{}_{:02d}'.format(patient_no,patient_no, filno)) , targets)\r\n",
    "        print('total number of windows: {} , number of windows discarded: {} '.format(i/(window_size/2), discarded))\r\n",
    "        \r\n",
    "\r\n"
   ],
   "outputs": [
    {
     "output_type": "stream",
     "name": "stdout",
     "text": [
      "Extracting EDF parameters from d:\\salma\\UNI\\Sem8\\WS\\physionet.org\\files\\chbmit\\1.0.0\\chb05\\chb05_20.edf...\n",
      "EDF file detected\n",
      "Setting channel info structure...\n",
      "Creating raw.info structure...\n",
      "<ipython-input-39-0a23d589a01a>:4: RuntimeWarning: Channel names are not unique, found duplicates for: {'T8-P8'}. Applying running numbers for duplicates.\n",
      "  edf = mne.io.read_raw_edf(edf_filename,stim_channel=None)\n",
      "(23, 921600)\n",
      "Extracting EDF parameters from d:\\salma\\UNI\\Sem8\\WS\\physionet.org\\files\\chbmit\\1.0.0\\chb05\\chb05_21.edf...\n",
      "EDF file detected\n",
      "Setting channel info structure...\n",
      "Creating raw.info structure...\n",
      "<ipython-input-39-0a23d589a01a>:4: RuntimeWarning: Channel names are not unique, found duplicates for: {'T8-P8'}. Applying running numbers for duplicates.\n",
      "  edf = mne.io.read_raw_edf(edf_filename,stim_channel=None)\n",
      "(23, 921600)\n",
      "Extracting EDF parameters from d:\\salma\\UNI\\Sem8\\WS\\physionet.org\\files\\chbmit\\1.0.0\\chb05\\chb05_22.edf...\n",
      "EDF file detected\n",
      "Setting channel info structure...\n",
      "Creating raw.info structure...\n",
      "<ipython-input-39-0a23d589a01a>:4: RuntimeWarning: Channel names are not unique, found duplicates for: {'T8-P8'}. Applying running numbers for duplicates.\n",
      "  edf = mne.io.read_raw_edf(edf_filename,stim_channel=None)\n",
      "(23, 921600)\n",
      "2348\n",
      "2465\n",
      "Extracting EDF parameters from d:\\salma\\UNI\\Sem8\\WS\\physionet.org\\files\\chbmit\\1.0.0\\chb05\\chb05_23.edf...\n",
      "EDF file detected\n",
      "Setting channel info structure...\n",
      "Creating raw.info structure...\n",
      "<ipython-input-39-0a23d589a01a>:4: RuntimeWarning: Channel names are not unique, found duplicates for: {'T8-P8'}. Applying running numbers for duplicates.\n",
      "  edf = mne.io.read_raw_edf(edf_filename,stim_channel=None)\n",
      "(23, 921600)\n",
      "Extracting EDF parameters from d:\\salma\\UNI\\Sem8\\WS\\physionet.org\\files\\chbmit\\1.0.0\\chb05\\chb05_24.edf...\n",
      "EDF file detected\n",
      "Setting channel info structure...\n",
      "Creating raw.info structure...\n",
      "<ipython-input-39-0a23d589a01a>:4: RuntimeWarning: Channel names are not unique, found duplicates for: {'T8-P8'}. Applying running numbers for duplicates.\n",
      "  edf = mne.io.read_raw_edf(edf_filename,stim_channel=None)\n",
      "(23, 921600)\n",
      "Extracting EDF parameters from d:\\salma\\UNI\\Sem8\\WS\\physionet.org\\files\\chbmit\\1.0.0\\chb05\\chb05_25.edf...\n",
      "EDF file detected\n",
      "Setting channel info structure...\n",
      "Creating raw.info structure...\n",
      "<ipython-input-39-0a23d589a01a>:4: RuntimeWarning: Channel names are not unique, found duplicates for: {'T8-P8'}. Applying running numbers for duplicates.\n",
      "  edf = mne.io.read_raw_edf(edf_filename,stim_channel=None)\n",
      "(23, 921600)\n",
      "Extracting EDF parameters from d:\\salma\\UNI\\Sem8\\WS\\physionet.org\\files\\chbmit\\1.0.0\\chb05\\chb05_26.edf...\n",
      "EDF file detected\n",
      "Setting channel info structure...\n",
      "Creating raw.info structure...\n",
      "<ipython-input-39-0a23d589a01a>:4: RuntimeWarning: Channel names are not unique, found duplicates for: {'T8-P8'}. Applying running numbers for duplicates.\n",
      "  edf = mne.io.read_raw_edf(edf_filename,stim_channel=None)\n",
      "(23, 921600)\n",
      "Extracting EDF parameters from d:\\salma\\UNI\\Sem8\\WS\\physionet.org\\files\\chbmit\\1.0.0\\chb05\\chb05_27.edf...\n",
      "EDF file detected\n",
      "Setting channel info structure...\n",
      "Creating raw.info structure...\n",
      "<ipython-input-39-0a23d589a01a>:4: RuntimeWarning: Channel names are not unique, found duplicates for: {'T8-P8'}. Applying running numbers for duplicates.\n",
      "  edf = mne.io.read_raw_edf(edf_filename,stim_channel=None)\n",
      "(23, 921600)\n",
      "Extracting EDF parameters from d:\\salma\\UNI\\Sem8\\WS\\physionet.org\\files\\chbmit\\1.0.0\\chb05\\chb05_28.edf...\n",
      "EDF file detected\n",
      "Setting channel info structure...\n",
      "Creating raw.info structure...\n",
      "<ipython-input-39-0a23d589a01a>:4: RuntimeWarning: Channel names are not unique, found duplicates for: {'T8-P8'}. Applying running numbers for duplicates.\n",
      "  edf = mne.io.read_raw_edf(edf_filename,stim_channel=None)\n",
      "(23, 921600)\n",
      "Extracting EDF parameters from d:\\salma\\UNI\\Sem8\\WS\\physionet.org\\files\\chbmit\\1.0.0\\chb05\\chb05_29.edf...\n",
      "EDF file detected\n",
      "Setting channel info structure...\n",
      "Creating raw.info structure...\n",
      "<ipython-input-39-0a23d589a01a>:4: RuntimeWarning: Channel names are not unique, found duplicates for: {'T8-P8'}. Applying running numbers for duplicates.\n",
      "  edf = mne.io.read_raw_edf(edf_filename,stim_channel=None)\n",
      "(23, 921600)\n",
      "Extracting EDF parameters from d:\\salma\\UNI\\Sem8\\WS\\physionet.org\\files\\chbmit\\1.0.0\\chb05\\chb05_30.edf...\n",
      "EDF file detected\n",
      "Setting channel info structure...\n",
      "Creating raw.info structure...\n",
      "<ipython-input-39-0a23d589a01a>:4: RuntimeWarning: Channel names are not unique, found duplicates for: {'T8-P8'}. Applying running numbers for duplicates.\n",
      "  edf = mne.io.read_raw_edf(edf_filename,stim_channel=None)\n",
      "(23, 921600)\n",
      "Extracting EDF parameters from d:\\salma\\UNI\\Sem8\\WS\\physionet.org\\files\\chbmit\\1.0.0\\chb05\\chb05_31.edf...\n",
      "EDF file detected\n",
      "Setting channel info structure...\n",
      "Creating raw.info structure...\n",
      "<ipython-input-39-0a23d589a01a>:4: RuntimeWarning: Channel names are not unique, found duplicates for: {'T8-P8'}. Applying running numbers for duplicates.\n",
      "  edf = mne.io.read_raw_edf(edf_filename,stim_channel=None)\n",
      "(23, 921600)\n",
      "Extracting EDF parameters from d:\\salma\\UNI\\Sem8\\WS\\physionet.org\\files\\chbmit\\1.0.0\\chb05\\chb05_32.edf...\n",
      "EDF file detected\n",
      "Setting channel info structure...\n",
      "Creating raw.info structure...\n",
      "<ipython-input-39-0a23d589a01a>:4: RuntimeWarning: Channel names are not unique, found duplicates for: {'T8-P8'}. Applying running numbers for duplicates.\n",
      "  edf = mne.io.read_raw_edf(edf_filename,stim_channel=None)\n",
      "(23, 921600)\n",
      "Extracting EDF parameters from d:\\salma\\UNI\\Sem8\\WS\\physionet.org\\files\\chbmit\\1.0.0\\chb05\\chb05_33.edf...\n",
      "EDF file detected\n",
      "Setting channel info structure...\n",
      "Creating raw.info structure...\n",
      "<ipython-input-39-0a23d589a01a>:4: RuntimeWarning: Channel names are not unique, found duplicates for: {'T8-P8'}. Applying running numbers for duplicates.\n",
      "  edf = mne.io.read_raw_edf(edf_filename,stim_channel=None)\n",
      "(23, 921600)\n",
      "Extracting EDF parameters from d:\\salma\\UNI\\Sem8\\WS\\physionet.org\\files\\chbmit\\1.0.0\\chb05\\chb05_34.edf...\n",
      "EDF file detected\n",
      "Setting channel info structure...\n",
      "Creating raw.info structure...\n",
      "<ipython-input-39-0a23d589a01a>:4: RuntimeWarning: Channel names are not unique, found duplicates for: {'T8-P8'}. Applying running numbers for duplicates.\n",
      "  edf = mne.io.read_raw_edf(edf_filename,stim_channel=None)\n",
      "(23, 921600)\n",
      "Extracting EDF parameters from d:\\salma\\UNI\\Sem8\\WS\\physionet.org\\files\\chbmit\\1.0.0\\chb05\\chb05_35.edf...\n",
      "EDF file detected\n",
      "Setting channel info structure...\n",
      "Creating raw.info structure...\n",
      "<ipython-input-39-0a23d589a01a>:4: RuntimeWarning: Channel names are not unique, found duplicates for: {'T8-P8'}. Applying running numbers for duplicates.\n",
      "  edf = mne.io.read_raw_edf(edf_filename,stim_channel=None)\n",
      "(23, 921600)\n",
      "Extracting EDF parameters from d:\\salma\\UNI\\Sem8\\WS\\physionet.org\\files\\chbmit\\1.0.0\\chb05\\chb05_36.edf...\n",
      "EDF file detected\n",
      "Setting channel info structure...\n",
      "Creating raw.info structure...\n",
      "<ipython-input-39-0a23d589a01a>:4: RuntimeWarning: Channel names are not unique, found duplicates for: {'T8-P8'}. Applying running numbers for duplicates.\n",
      "  edf = mne.io.read_raw_edf(edf_filename,stim_channel=None)\n",
      "(23, 921600)\n",
      "Extracting EDF parameters from d:\\salma\\UNI\\Sem8\\WS\\physionet.org\\files\\chbmit\\1.0.0\\chb05\\chb05_37.edf...\n",
      "EDF file detected\n",
      "Setting channel info structure...\n",
      "Creating raw.info structure...\n",
      "<ipython-input-39-0a23d589a01a>:4: RuntimeWarning: Channel names are not unique, found duplicates for: {'T8-P8'}. Applying running numbers for duplicates.\n",
      "  edf = mne.io.read_raw_edf(edf_filename,stim_channel=None)\n",
      "(23, 921600)\n",
      "Extracting EDF parameters from d:\\salma\\UNI\\Sem8\\WS\\physionet.org\\files\\chbmit\\1.0.0\\chb05\\chb05_38.edf...\n",
      "EDF file detected\n",
      "Setting channel info structure...\n",
      "Creating raw.info structure...\n",
      "<ipython-input-39-0a23d589a01a>:4: RuntimeWarning: Channel names are not unique, found duplicates for: {'T8-P8'}. Applying running numbers for duplicates.\n",
      "  edf = mne.io.read_raw_edf(edf_filename,stim_channel=None)\n",
      "(23, 921600)\n",
      "Extracting EDF parameters from d:\\salma\\UNI\\Sem8\\WS\\physionet.org\\files\\chbmit\\1.0.0\\chb05\\chb05_39.edf...\n",
      "EDF file detected\n",
      "Setting channel info structure...\n",
      "Creating raw.info structure...\n",
      "<ipython-input-39-0a23d589a01a>:4: RuntimeWarning: Channel names are not unique, found duplicates for: {'T8-P8'}. Applying running numbers for duplicates.\n",
      "  edf = mne.io.read_raw_edf(edf_filename,stim_channel=None)\n",
      "(23, 921600)\n",
      "file: 0 , shape: (23, 924160) \n",
      "C:\\Users\\salma\\anaconda3\\envs\\tf-gpu\\lib\\site-packages\\scipy\\stats\\stats.py:3913: PearsonRConstantInputWarning: An input array is constant; the correlation coefficent is not defined.\n",
      "  warnings.warn(PearsonRConstantInputWarning())\n",
      "total number of windows: 359.0 , number of windows discarded: 0 \n",
      "file: 1 , shape: (23, 921600) \n",
      "C:\\Users\\salma\\anaconda3\\envs\\tf-gpu\\lib\\site-packages\\scipy\\stats\\stats.py:3913: PearsonRConstantInputWarning: An input array is constant; the correlation coefficent is not defined.\n",
      "  warnings.warn(PearsonRConstantInputWarning())\n",
      "total number of windows: 358.0 , number of windows discarded: 0 \n",
      "file: 2 , shape: (23, 921600) \n",
      "C:\\Users\\salma\\anaconda3\\envs\\tf-gpu\\lib\\site-packages\\scipy\\stats\\stats.py:3913: PearsonRConstantInputWarning: An input array is constant; the correlation coefficent is not defined.\n",
      "  warnings.warn(PearsonRConstantInputWarning())\n",
      "total number of windows: 358.0 , number of windows discarded: 0 \n",
      "file: 3 , shape: (23, 921600) \n",
      "C:\\Users\\salma\\anaconda3\\envs\\tf-gpu\\lib\\site-packages\\scipy\\stats\\stats.py:3913: PearsonRConstantInputWarning: An input array is constant; the correlation coefficent is not defined.\n",
      "  warnings.warn(PearsonRConstantInputWarning())\n",
      "total number of windows: 358.0 , number of windows discarded: 0 \n",
      "file: 4 , shape: (23, 921600) \n",
      "C:\\Users\\salma\\anaconda3\\envs\\tf-gpu\\lib\\site-packages\\scipy\\stats\\stats.py:3913: PearsonRConstantInputWarning: An input array is constant; the correlation coefficent is not defined.\n",
      "  warnings.warn(PearsonRConstantInputWarning())\n",
      "total number of windows: 358.0 , number of windows discarded: 0 \n",
      "file: 5 , shape: (23, 921600) \n",
      "total number of windows: 358.0 , number of windows discarded: 4 \n",
      "file: 6 , shape: (23, 921600) \n",
      "C:\\Users\\salma\\anaconda3\\envs\\tf-gpu\\lib\\site-packages\\scipy\\stats\\stats.py:3913: PearsonRConstantInputWarning: An input array is constant; the correlation coefficent is not defined.\n",
      "  warnings.warn(PearsonRConstantInputWarning())\n",
      "total number of windows: 358.0 , number of windows discarded: 0 \n",
      "file: 7 , shape: (23, 921600) \n",
      "C:\\Users\\salma\\anaconda3\\envs\\tf-gpu\\lib\\site-packages\\scipy\\stats\\stats.py:3913: PearsonRConstantInputWarning: An input array is constant; the correlation coefficent is not defined.\n",
      "  warnings.warn(PearsonRConstantInputWarning())\n",
      "total number of windows: 358.0 , number of windows discarded: 0 \n",
      "file: 8 , shape: (23, 921600) \n",
      "C:\\Users\\salma\\anaconda3\\envs\\tf-gpu\\lib\\site-packages\\scipy\\stats\\stats.py:3913: PearsonRConstantInputWarning: An input array is constant; the correlation coefficent is not defined.\n",
      "  warnings.warn(PearsonRConstantInputWarning())\n",
      "total number of windows: 358.0 , number of windows discarded: 0 \n",
      "file: 9 , shape: (23, 932864) \n",
      "C:\\Users\\salma\\anaconda3\\envs\\tf-gpu\\lib\\site-packages\\scipy\\stats\\stats.py:3913: PearsonRConstantInputWarning: An input array is constant; the correlation coefficent is not defined.\n",
      "  warnings.warn(PearsonRConstantInputWarning())\n",
      "total number of windows: 363.0 , number of windows discarded: 0 \n",
      "file: 10 , shape: (23, 1025024) \n",
      "C:\\Users\\salma\\anaconda3\\envs\\tf-gpu\\lib\\site-packages\\scipy\\stats\\stats.py:3913: PearsonRConstantInputWarning: An input array is constant; the correlation coefficent is not defined.\n",
      "  warnings.warn(PearsonRConstantInputWarning())\n",
      "total number of windows: 399.0 , number of windows discarded: 0 \n",
      "file: 11 , shape: (23, 1187840) \n",
      "C:\\Users\\salma\\anaconda3\\envs\\tf-gpu\\lib\\site-packages\\scipy\\stats\\stats.py:3913: PearsonRConstantInputWarning: An input array is constant; the correlation coefficent is not defined.\n",
      "  warnings.warn(PearsonRConstantInputWarning())\n",
      "total number of windows: 462.0 , number of windows discarded: 0 \n",
      "file: 12 , shape: (23, 924672) \n",
      "total number of windows: 360.0 , number of windows discarded: 6 \n",
      "file: 13 , shape: (23, 994816) \n",
      "C:\\Users\\salma\\anaconda3\\envs\\tf-gpu\\lib\\site-packages\\scipy\\stats\\stats.py:3913: PearsonRConstantInputWarning: An input array is constant; the correlation coefficent is not defined.\n",
      "  warnings.warn(PearsonRConstantInputWarning())\n",
      "total number of windows: 387.0 , number of windows discarded: 0 \n",
      "file: 14 , shape: (23, 1188608) \n",
      "C:\\Users\\salma\\anaconda3\\envs\\tf-gpu\\lib\\site-packages\\scipy\\stats\\stats.py:3913: PearsonRConstantInputWarning: An input array is constant; the correlation coefficent is not defined.\n",
      "  warnings.warn(PearsonRConstantInputWarning())\n",
      "total number of windows: 463.0 , number of windows discarded: 0 \n",
      "file: 15 , shape: (23, 921600) \n",
      "total number of windows: 358.0 , number of windows discarded: 6 \n",
      "file: 16 , shape: (23, 921600) \n",
      "total number of windows: 358.0 , number of windows discarded: 6 \n",
      "file: 17 , shape: (23, 921600) \n",
      "C:\\Users\\salma\\anaconda3\\envs\\tf-gpu\\lib\\site-packages\\scipy\\stats\\stats.py:3913: PearsonRConstantInputWarning: An input array is constant; the correlation coefficent is not defined.\n",
      "  warnings.warn(PearsonRConstantInputWarning())\n",
      "total number of windows: 358.0 , number of windows discarded: 0 \n",
      "file: 18 , shape: (23, 921600) \n",
      "C:\\Users\\salma\\anaconda3\\envs\\tf-gpu\\lib\\site-packages\\scipy\\stats\\stats.py:3913: PearsonRConstantInputWarning: An input array is constant; the correlation coefficent is not defined.\n",
      "  warnings.warn(PearsonRConstantInputWarning())\n",
      "total number of windows: 358.0 , number of windows discarded: 0 \n",
      "file: 19 , shape: (23, 921600) \n",
      "C:\\Users\\salma\\anaconda3\\envs\\tf-gpu\\lib\\site-packages\\scipy\\stats\\stats.py:3913: PearsonRConstantInputWarning: An input array is constant; the correlation coefficent is not defined.\n",
      "  warnings.warn(PearsonRConstantInputWarning())\n",
      "total number of windows: 358.0 , number of windows discarded: 0 \n",
      "file: 20 , shape: (23, 921600) \n",
      "C:\\Users\\salma\\anaconda3\\envs\\tf-gpu\\lib\\site-packages\\scipy\\stats\\stats.py:3913: PearsonRConstantInputWarning: An input array is constant; the correlation coefficent is not defined.\n",
      "  warnings.warn(PearsonRConstantInputWarning())\n",
      "total number of windows: 358.0 , number of windows discarded: 0 \n",
      "file: 21 , shape: (23, 921600) \n",
      "total number of windows: 358.0 , number of windows discarded: 6 \n",
      "file: 22 , shape: (23, 921600) \n",
      "C:\\Users\\salma\\anaconda3\\envs\\tf-gpu\\lib\\site-packages\\scipy\\stats\\stats.py:3913: PearsonRConstantInputWarning: An input array is constant; the correlation coefficent is not defined.\n",
      "  warnings.warn(PearsonRConstantInputWarning())\n",
      "total number of windows: 358.0 , number of windows discarded: 0 \n",
      "file: 23 , shape: (23, 921600) \n",
      "C:\\Users\\salma\\anaconda3\\envs\\tf-gpu\\lib\\site-packages\\scipy\\stats\\stats.py:3913: PearsonRConstantInputWarning: An input array is constant; the correlation coefficent is not defined.\n",
      "  warnings.warn(PearsonRConstantInputWarning())\n",
      "total number of windows: 358.0 , number of windows discarded: 0 \n",
      "file: 24 , shape: (23, 921600) \n",
      "C:\\Users\\salma\\anaconda3\\envs\\tf-gpu\\lib\\site-packages\\scipy\\stats\\stats.py:3913: PearsonRConstantInputWarning: An input array is constant; the correlation coefficent is not defined.\n",
      "  warnings.warn(PearsonRConstantInputWarning())\n",
      "total number of windows: 358.0 , number of windows discarded: 0 \n",
      "file: 25 , shape: (23, 921600) \n",
      "C:\\Users\\salma\\anaconda3\\envs\\tf-gpu\\lib\\site-packages\\scipy\\stats\\stats.py:3913: PearsonRConstantInputWarning: An input array is constant; the correlation coefficent is not defined.\n",
      "  warnings.warn(PearsonRConstantInputWarning())\n",
      "total number of windows: 358.0 , number of windows discarded: 0 \n",
      "file: 26 , shape: (23, 921600) \n",
      "C:\\Users\\salma\\anaconda3\\envs\\tf-gpu\\lib\\site-packages\\scipy\\stats\\stats.py:3913: PearsonRConstantInputWarning: An input array is constant; the correlation coefficent is not defined.\n",
      "  warnings.warn(PearsonRConstantInputWarning())\n",
      "total number of windows: 358.0 , number of windows discarded: 0 \n",
      "file: 27 , shape: (23, 921600) \n",
      "C:\\Users\\salma\\anaconda3\\envs\\tf-gpu\\lib\\site-packages\\scipy\\stats\\stats.py:3913: PearsonRConstantInputWarning: An input array is constant; the correlation coefficent is not defined.\n",
      "  warnings.warn(PearsonRConstantInputWarning())\n",
      "total number of windows: 358.0 , number of windows discarded: 0 \n",
      "file: 28 , shape: (23, 921600) \n",
      "C:\\Users\\salma\\anaconda3\\envs\\tf-gpu\\lib\\site-packages\\scipy\\stats\\stats.py:3913: PearsonRConstantInputWarning: An input array is constant; the correlation coefficent is not defined.\n",
      "  warnings.warn(PearsonRConstantInputWarning())\n",
      "total number of windows: 358.0 , number of windows discarded: 0 \n",
      "file: 29 , shape: (23, 921600) \n",
      "C:\\Users\\salma\\anaconda3\\envs\\tf-gpu\\lib\\site-packages\\scipy\\stats\\stats.py:3913: PearsonRConstantInputWarning: An input array is constant; the correlation coefficent is not defined.\n",
      "  warnings.warn(PearsonRConstantInputWarning())\n",
      "total number of windows: 358.0 , number of windows discarded: 0 \n",
      "file: 30 , shape: (23, 921600) \n",
      "C:\\Users\\salma\\anaconda3\\envs\\tf-gpu\\lib\\site-packages\\scipy\\stats\\stats.py:3913: PearsonRConstantInputWarning: An input array is constant; the correlation coefficent is not defined.\n",
      "  warnings.warn(PearsonRConstantInputWarning())\n",
      "total number of windows: 358.0 , number of windows discarded: 0 \n",
      "file: 31 , shape: (23, 921600) \n",
      "C:\\Users\\salma\\anaconda3\\envs\\tf-gpu\\lib\\site-packages\\scipy\\stats\\stats.py:3913: PearsonRConstantInputWarning: An input array is constant; the correlation coefficent is not defined.\n",
      "  warnings.warn(PearsonRConstantInputWarning())\n",
      "total number of windows: 358.0 , number of windows discarded: 0 \n",
      "file: 32 , shape: (23, 921600) \n",
      "C:\\Users\\salma\\anaconda3\\envs\\tf-gpu\\lib\\site-packages\\scipy\\stats\\stats.py:3913: PearsonRConstantInputWarning: An input array is constant; the correlation coefficent is not defined.\n",
      "  warnings.warn(PearsonRConstantInputWarning())\n",
      "total number of windows: 358.0 , number of windows discarded: 0 \n",
      "file: 33 , shape: (23, 921600) \n",
      "C:\\Users\\salma\\anaconda3\\envs\\tf-gpu\\lib\\site-packages\\scipy\\stats\\stats.py:3913: PearsonRConstantInputWarning: An input array is constant; the correlation coefficent is not defined.\n",
      "  warnings.warn(PearsonRConstantInputWarning())\n",
      "total number of windows: 358.0 , number of windows discarded: 0 \n",
      "file: 34 , shape: (23, 921600) \n",
      "C:\\Users\\salma\\anaconda3\\envs\\tf-gpu\\lib\\site-packages\\scipy\\stats\\stats.py:3913: PearsonRConstantInputWarning: An input array is constant; the correlation coefficent is not defined.\n",
      "  warnings.warn(PearsonRConstantInputWarning())\n",
      "total number of windows: 358.0 , number of windows discarded: 0 \n",
      "file: 35 , shape: (23, 921600) \n",
      "C:\\Users\\salma\\anaconda3\\envs\\tf-gpu\\lib\\site-packages\\scipy\\stats\\stats.py:3913: PearsonRConstantInputWarning: An input array is constant; the correlation coefficent is not defined.\n",
      "  warnings.warn(PearsonRConstantInputWarning())\n",
      "total number of windows: 358.0 , number of windows discarded: 0 \n",
      "file: 36 , shape: (23, 921600) \n",
      "C:\\Users\\salma\\anaconda3\\envs\\tf-gpu\\lib\\site-packages\\scipy\\stats\\stats.py:3913: PearsonRConstantInputWarning: An input array is constant; the correlation coefficent is not defined.\n",
      "  warnings.warn(PearsonRConstantInputWarning())\n",
      "total number of windows: 358.0 , number of windows discarded: 0 \n",
      "file: 37 , shape: (23, 921600) \n",
      "C:\\Users\\salma\\anaconda3\\envs\\tf-gpu\\lib\\site-packages\\scipy\\stats\\stats.py:3913: PearsonRConstantInputWarning: An input array is constant; the correlation coefficent is not defined.\n",
      "  warnings.warn(PearsonRConstantInputWarning())\n",
      "total number of windows: 358.0 , number of windows discarded: 0 \n",
      "file: 38 , shape: (23, 921600) \n",
      "total number of windows: 358.0 , number of windows discarded: 0 \n",
      "C:\\Users\\salma\\anaconda3\\envs\\tf-gpu\\lib\\site-packages\\scipy\\stats\\stats.py:3913: PearsonRConstantInputWarning: An input array is constant; the correlation coefficent is not defined.\n",
      "  warnings.warn(PearsonRConstantInputWarning())\n"
     ]
    }
   ],
   "metadata": {
    "tags": [
     "outputPrepend"
    ]
   }
  },
  {
   "cell_type": "markdown",
   "source": [
    "## features_notwelch\n",
    "- 10 minutes preictal interval\n",
    "- differentiation\n",
    "- using plain vanilla psd"
   ],
   "metadata": {}
  },
  {
   "cell_type": "code",
   "execution_count": 16,
   "source": [
    "patient_no=1#################\r\n",
    "\r\n",
    "for patient_no in range(13,20):\r\n",
    "    subject_id = patient_no\r\n",
    "    base_path = \"physionet.org/files/chbmit/1.0.0/\"\r\n",
    "    edf_file_names = sorted(glob.glob(os.path.join(base_path, \"chb{:02d}/*.edf\".format(subject_id))))\r\n",
    "    summary_file = os.path.join(base_path, \"chb{:02d}/chb{:02d}-summary.txt\".format(subject_id, subject_id))\r\n",
    "\r\n",
    "\r\n",
    "    summary_content = open(summary_file,'r').read()\r\n",
    "\r\n",
    "    X_all = []\r\n",
    "    y_all = []\r\n",
    "    for edf_file_name in edf_file_names:\r\n",
    "        X, y = extract_data_and_labels(edf_file_name, summary_content)\r\n",
    "        X_all.append(X)\r\n",
    "        y_all.append(y)\r\n",
    "\r\n",
    "    window_size=int(256*20)\r\n",
    "    for filno in range(0,len(X_all)):###################\r\n",
    "        recording=X_all[filno]####################\r\n",
    "        discarded=0\r\n",
    "        wins=recording.shape[1]//window_size\r\n",
    "        print('file: {} , shape: {} '.format(filno,recording.shape))\r\n",
    "        y=label_series(y_all[filno], 10)#############################33333\r\n",
    "        datapoints_in=[] #for each file\r\n",
    "        targets=[]\r\n",
    "        i=0\r\n",
    "        while i+window_size<recording.shape[1]:\r\n",
    "            # n_channels=recording.shape[0]\r\n",
    "            n_channels=23\r\n",
    "            features=np.zeros(n_channels*9+1)\r\n",
    "            features[-1]=patient_no\r\n",
    "            recording.shape\r\n",
    "            window=time_differential(recording[:,int(i):int(i+window_size)])\r\n",
    "            # window=recording[:,int(i):int(i+window_size)]\r\n",
    "            freqs, psd = signal.periodogram(window, fs=256)\r\n",
    "            # features[-2]=psd.sum()\r\n",
    "            # features[-3]=np.sqrt(np.mean(psd**2))\r\n",
    "            #removing electric noise\r\n",
    "            # psd[:,57:64]=0\r\n",
    "            # psd[:,117:124]=0\r\n",
    "            target_range=np.array(y[int(i):int(i+window_size)])\r\n",
    "            for chi in range (0, n_channels):\r\n",
    "                set_frequency(freqs, psd[chi],57,64, 0)\r\n",
    "                set_frequency(freqs, psd[chi],117,124, 0)\r\n",
    "                # alpha=np.sum(psd[chi,8:14])\r\n",
    "                alpha =extract_frequency(freqs, psd[chi],8,14)\r\n",
    "                # beta=np.sum(psd[chi,13:31])\r\n",
    "                beta = extract_frequency(freqs, psd[chi],13,31)\r\n",
    "                # delta=np.sum(psd[chi,1:5])\r\n",
    "                delta =extract_frequency(freqs, psd[chi],0.5,5)\r\n",
    "                # theta=np.sum(psd[chi, 4:9])\r\n",
    "                theta =extract_frequency(freqs, psd[chi],4,9)\r\n",
    "                # gamma0=np.sum(psd[chi,30:48])\r\n",
    "                gamma0=extract_frequency(freqs, psd[chi],30,48)\r\n",
    "                # gamma1=np.sum(psd[chi,53:76])\r\n",
    "                gamma1=extract_frequency(freqs, psd[chi],53,76)\r\n",
    "                # gamma2=np.sum(psd[chi,75:98])\r\n",
    "                gamma2=extract_frequency(freqs, psd[chi],75,98)\r\n",
    "                # gamma3=np.sum(psd[chi,103:])\r\n",
    "                gamma3=extract_frequency(freqs, psd[chi],103,-1)\r\n",
    "                features[chi*9:(1+chi)*9-1]=[alpha,beta,delta,theta,gamma0,gamma1,gamma2,gamma3]\r\n",
    "                # total_power=np.sum(features[chi*9:(1+chi)*9-1])\r\n",
    "                total_power=np.sum(psd[chi])\r\n",
    "                features[chi*9:(1+chi)*9-1] /= total_power\r\n",
    "                features[(1+chi)*9-1]=total_power\r\n",
    "            if np.all(target_range == target_range[0]):\r\n",
    "                target=target_range[0]\r\n",
    "                targets.append(target)\r\n",
    "                datapoints_in.append(features)\r\n",
    "            else:\r\n",
    "                discarded+=1               \r\n",
    "            i+=(window_size/2)\r\n",
    "        # dp=np.array(datapoints_in)\r\n",
    "        # D:\\salma\\UNI\\Sem8\\WS\\unnormalized\r\n",
    "        \r\n",
    "        save(os.path.join('features_notwelch','data_chb{:02d}/features_{}_{:02d}'.format(patient_no, patient_no, filno)), datapoints_in)\r\n",
    "        save(os.path.join('features_notwelch','data_chb{:02d}/targets_{}_{:02d}'.format(patient_no,patient_no, filno)) , targets)\r\n",
    "        print('total number of windows: {} , number of windows discarded: {} '.format(i/(window_size/2), discarded))\r\n",
    "        \r\n",
    "\r\n"
   ],
   "outputs": [
    {
     "output_type": "stream",
     "name": "stdout",
     "text": [
      "following channels:\n",
      "--0, --1, --2, --3, --4\n",
      "  edf = mne.io.read_raw_edf(edf_filename,stim_channel=None)\n",
      "(23, 921600)\n",
      "Extracting EDF parameters from d:\\salma\\UNI\\Sem8\\WS\\physionet.org\\files\\chbmit\\1.0.0\\chb19\\chb19_03.edf...\n",
      "EDF file detected\n",
      "Setting channel info structure...\n",
      "Creating raw.info structure...\n",
      "<ipython-input-3-0a23d589a01a>:4: RuntimeWarning: Channel names are not unique, found duplicates for: {'-', 'T8-P8'}. Applying running numbers for duplicates.\n",
      "  edf = mne.io.read_raw_edf(edf_filename,stim_channel=None)\n",
      "<ipython-input-3-0a23d589a01a>:4: RuntimeWarning: Scaling factor is not defined in following channels:\n",
      "--0, --1, --2, --3, --4\n",
      "  edf = mne.io.read_raw_edf(edf_filename,stim_channel=None)\n",
      "(23, 921600)\n",
      "Extracting EDF parameters from d:\\salma\\UNI\\Sem8\\WS\\physionet.org\\files\\chbmit\\1.0.0\\chb19\\chb19_04.edf...\n",
      "EDF file detected\n",
      "Setting channel info structure...\n",
      "Creating raw.info structure...\n",
      "<ipython-input-3-0a23d589a01a>:4: RuntimeWarning: Channel names are not unique, found duplicates for: {'-', 'T8-P8'}. Applying running numbers for duplicates.\n",
      "  edf = mne.io.read_raw_edf(edf_filename,stim_channel=None)\n",
      "<ipython-input-3-0a23d589a01a>:4: RuntimeWarning: Scaling factor is not defined in following channels:\n",
      "--0, --1, --2, --3, --4\n",
      "  edf = mne.io.read_raw_edf(edf_filename,stim_channel=None)\n",
      "(23, 921600)\n",
      "Extracting EDF parameters from d:\\salma\\UNI\\Sem8\\WS\\physionet.org\\files\\chbmit\\1.0.0\\chb19\\chb19_05.edf...\n",
      "EDF file detected\n",
      "Setting channel info structure...\n",
      "Creating raw.info structure...\n",
      "<ipython-input-3-0a23d589a01a>:4: RuntimeWarning: Channel names are not unique, found duplicates for: {'-', 'T8-P8'}. Applying running numbers for duplicates.\n",
      "  edf = mne.io.read_raw_edf(edf_filename,stim_channel=None)\n",
      "<ipython-input-3-0a23d589a01a>:4: RuntimeWarning: Scaling factor is not defined in following channels:\n",
      "--0, --1, --2, --3, --4\n",
      "  edf = mne.io.read_raw_edf(edf_filename,stim_channel=None)\n",
      "(23, 921600)\n",
      "Extracting EDF parameters from d:\\salma\\UNI\\Sem8\\WS\\physionet.org\\files\\chbmit\\1.0.0\\chb19\\chb19_06.edf...\n",
      "EDF file detected\n",
      "Setting channel info structure...\n",
      "Creating raw.info structure...\n",
      "<ipython-input-3-0a23d589a01a>:4: RuntimeWarning: Channel names are not unique, found duplicates for: {'-', 'T8-P8'}. Applying running numbers for duplicates.\n",
      "  edf = mne.io.read_raw_edf(edf_filename,stim_channel=None)\n",
      "<ipython-input-3-0a23d589a01a>:4: RuntimeWarning: Scaling factor is not defined in following channels:\n",
      "--0, --1, --2, --3, --4\n",
      "  edf = mne.io.read_raw_edf(edf_filename,stim_channel=None)\n",
      "(23, 921600)\n",
      "Extracting EDF parameters from d:\\salma\\UNI\\Sem8\\WS\\physionet.org\\files\\chbmit\\1.0.0\\chb19\\chb19_07.edf...\n",
      "EDF file detected\n",
      "Setting channel info structure...\n",
      "Creating raw.info structure...\n",
      "<ipython-input-3-0a23d589a01a>:4: RuntimeWarning: Channel names are not unique, found duplicates for: {'-', 'T8-P8'}. Applying running numbers for duplicates.\n",
      "  edf = mne.io.read_raw_edf(edf_filename,stim_channel=None)\n",
      "<ipython-input-3-0a23d589a01a>:4: RuntimeWarning: Scaling factor is not defined in following channels:\n",
      "--0, --1, --2, --3, --4\n",
      "  edf = mne.io.read_raw_edf(edf_filename,stim_channel=None)\n",
      "(23, 921600)\n",
      "Extracting EDF parameters from d:\\salma\\UNI\\Sem8\\WS\\physionet.org\\files\\chbmit\\1.0.0\\chb19\\chb19_08.edf...\n",
      "EDF file detected\n",
      "Setting channel info structure...\n",
      "Creating raw.info structure...\n",
      "<ipython-input-3-0a23d589a01a>:4: RuntimeWarning: Channel names are not unique, found duplicates for: {'-', 'T8-P8'}. Applying running numbers for duplicates.\n",
      "  edf = mne.io.read_raw_edf(edf_filename,stim_channel=None)\n",
      "<ipython-input-3-0a23d589a01a>:4: RuntimeWarning: Scaling factor is not defined in following channels:\n",
      "--0, --1, --2, --3, --4\n",
      "  edf = mne.io.read_raw_edf(edf_filename,stim_channel=None)\n",
      "(23, 921600)\n",
      "Extracting EDF parameters from d:\\salma\\UNI\\Sem8\\WS\\physionet.org\\files\\chbmit\\1.0.0\\chb19\\chb19_09.edf...\n",
      "EDF file detected\n",
      "Setting channel info structure...\n",
      "Creating raw.info structure...\n",
      "<ipython-input-3-0a23d589a01a>:4: RuntimeWarning: Channel names are not unique, found duplicates for: {'-', 'T8-P8'}. Applying running numbers for duplicates.\n",
      "  edf = mne.io.read_raw_edf(edf_filename,stim_channel=None)\n",
      "<ipython-input-3-0a23d589a01a>:4: RuntimeWarning: Scaling factor is not defined in following channels:\n",
      "--0, --1, --2, --3, --4\n",
      "  edf = mne.io.read_raw_edf(edf_filename,stim_channel=None)\n",
      "(23, 921600)\n",
      "Extracting EDF parameters from d:\\salma\\UNI\\Sem8\\WS\\physionet.org\\files\\chbmit\\1.0.0\\chb19\\chb19_10.edf...\n",
      "EDF file detected\n",
      "Setting channel info structure...\n",
      "Creating raw.info structure...\n",
      "<ipython-input-3-0a23d589a01a>:4: RuntimeWarning: Channel names are not unique, found duplicates for: {'-', 'T8-P8'}. Applying running numbers for duplicates.\n",
      "  edf = mne.io.read_raw_edf(edf_filename,stim_channel=None)\n",
      "<ipython-input-3-0a23d589a01a>:4: RuntimeWarning: Scaling factor is not defined in following channels:\n",
      "--0, --1, --2, --3, --4\n",
      "  edf = mne.io.read_raw_edf(edf_filename,stim_channel=None)\n",
      "(23, 921600)\n",
      "Extracting EDF parameters from d:\\salma\\UNI\\Sem8\\WS\\physionet.org\\files\\chbmit\\1.0.0\\chb19\\chb19_11.edf...\n",
      "EDF file detected\n",
      "Setting channel info structure...\n",
      "Creating raw.info structure...\n",
      "<ipython-input-3-0a23d589a01a>:4: RuntimeWarning: Channel names are not unique, found duplicates for: {'-', 'T8-P8'}. Applying running numbers for duplicates.\n",
      "  edf = mne.io.read_raw_edf(edf_filename,stim_channel=None)\n",
      "<ipython-input-3-0a23d589a01a>:4: RuntimeWarning: Scaling factor is not defined in following channels:\n",
      "--0, --1, --2, --3, --4\n",
      "  edf = mne.io.read_raw_edf(edf_filename,stim_channel=None)\n",
      "(23, 921600)\n",
      "Extracting EDF parameters from d:\\salma\\UNI\\Sem8\\WS\\physionet.org\\files\\chbmit\\1.0.0\\chb19\\chb19_12.edf...\n",
      "EDF file detected\n",
      "Setting channel info structure...\n",
      "Creating raw.info structure...\n",
      "<ipython-input-3-0a23d589a01a>:4: RuntimeWarning: Channel names are not unique, found duplicates for: {'-', 'T8-P8'}. Applying running numbers for duplicates.\n",
      "  edf = mne.io.read_raw_edf(edf_filename,stim_channel=None)\n",
      "<ipython-input-3-0a23d589a01a>:4: RuntimeWarning: Scaling factor is not defined in following channels:\n",
      "--0, --1, --2, --3, --4\n",
      "  edf = mne.io.read_raw_edf(edf_filename,stim_channel=None)\n",
      "(23, 921600)\n",
      "Extracting EDF parameters from d:\\salma\\UNI\\Sem8\\WS\\physionet.org\\files\\chbmit\\1.0.0\\chb19\\chb19_13.edf...\n",
      "EDF file detected\n",
      "Setting channel info structure...\n",
      "Creating raw.info structure...\n",
      "<ipython-input-3-0a23d589a01a>:4: RuntimeWarning: Channel names are not unique, found duplicates for: {'-', 'T8-P8'}. Applying running numbers for duplicates.\n",
      "  edf = mne.io.read_raw_edf(edf_filename,stim_channel=None)\n",
      "<ipython-input-3-0a23d589a01a>:4: RuntimeWarning: Scaling factor is not defined in following channels:\n",
      "--0, --1, --2, --3, --4\n",
      "  edf = mne.io.read_raw_edf(edf_filename,stim_channel=None)\n",
      "(23, 921600)\n",
      "Extracting EDF parameters from d:\\salma\\UNI\\Sem8\\WS\\physionet.org\\files\\chbmit\\1.0.0\\chb19\\chb19_14.edf...\n",
      "EDF file detected\n",
      "Setting channel info structure...\n",
      "Creating raw.info structure...\n",
      "<ipython-input-3-0a23d589a01a>:4: RuntimeWarning: Channel names are not unique, found duplicates for: {'-', 'T8-P8'}. Applying running numbers for duplicates.\n",
      "  edf = mne.io.read_raw_edf(edf_filename,stim_channel=None)\n",
      "<ipython-input-3-0a23d589a01a>:4: RuntimeWarning: Scaling factor is not defined in following channels:\n",
      "--0, --1, --2, --3, --4\n",
      "  edf = mne.io.read_raw_edf(edf_filename,stim_channel=None)\n",
      "(23, 921600)\n",
      "Extracting EDF parameters from d:\\salma\\UNI\\Sem8\\WS\\physionet.org\\files\\chbmit\\1.0.0\\chb19\\chb19_15.edf...\n",
      "EDF file detected\n",
      "Setting channel info structure...\n",
      "Creating raw.info structure...\n",
      "<ipython-input-3-0a23d589a01a>:4: RuntimeWarning: Channel names are not unique, found duplicates for: {'-', 'T8-P8'}. Applying running numbers for duplicates.\n",
      "  edf = mne.io.read_raw_edf(edf_filename,stim_channel=None)\n",
      "<ipython-input-3-0a23d589a01a>:4: RuntimeWarning: Scaling factor is not defined in following channels:\n",
      "--0, --1, --2, --3, --4\n",
      "  edf = mne.io.read_raw_edf(edf_filename,stim_channel=None)\n",
      "(23, 921600)\n",
      "Extracting EDF parameters from d:\\salma\\UNI\\Sem8\\WS\\physionet.org\\files\\chbmit\\1.0.0\\chb19\\chb19_16.edf...\n",
      "EDF file detected\n",
      "Setting channel info structure...\n",
      "Creating raw.info structure...\n",
      "<ipython-input-3-0a23d589a01a>:4: RuntimeWarning: Channel names are not unique, found duplicates for: {'-', 'T8-P8'}. Applying running numbers for duplicates.\n",
      "  edf = mne.io.read_raw_edf(edf_filename,stim_channel=None)\n",
      "<ipython-input-3-0a23d589a01a>:4: RuntimeWarning: Scaling factor is not defined in following channels:\n",
      "--0, --1, --2, --3, --4\n",
      "  edf = mne.io.read_raw_edf(edf_filename,stim_channel=None)\n",
      "(23, 921600)\n",
      "Extracting EDF parameters from d:\\salma\\UNI\\Sem8\\WS\\physionet.org\\files\\chbmit\\1.0.0\\chb19\\chb19_17.edf...\n",
      "EDF file detected\n",
      "Setting channel info structure...\n",
      "Creating raw.info structure...\n",
      "<ipython-input-3-0a23d589a01a>:4: RuntimeWarning: Channel names are not unique, found duplicates for: {'-', 'T8-P8'}. Applying running numbers for duplicates.\n",
      "  edf = mne.io.read_raw_edf(edf_filename,stim_channel=None)\n",
      "<ipython-input-3-0a23d589a01a>:4: RuntimeWarning: Scaling factor is not defined in following channels:\n",
      "--0, --1, --2, --3, --4\n",
      "  edf = mne.io.read_raw_edf(edf_filename,stim_channel=None)\n",
      "(23, 921600)\n",
      "Extracting EDF parameters from d:\\salma\\UNI\\Sem8\\WS\\physionet.org\\files\\chbmit\\1.0.0\\chb19\\chb19_18.edf...\n",
      "EDF file detected\n",
      "Setting channel info structure...\n",
      "Creating raw.info structure...\n",
      "<ipython-input-3-0a23d589a01a>:4: RuntimeWarning: Channel names are not unique, found duplicates for: {'-', 'T8-P8'}. Applying running numbers for duplicates.\n",
      "  edf = mne.io.read_raw_edf(edf_filename,stim_channel=None)\n",
      "<ipython-input-3-0a23d589a01a>:4: RuntimeWarning: Scaling factor is not defined in following channels:\n",
      "--0, --1, --2, --3, --4\n",
      "  edf = mne.io.read_raw_edf(edf_filename,stim_channel=None)\n",
      "(23, 921600)\n",
      "Extracting EDF parameters from d:\\salma\\UNI\\Sem8\\WS\\physionet.org\\files\\chbmit\\1.0.0\\chb19\\chb19_19.edf...\n",
      "EDF file detected\n",
      "Setting channel info structure...\n",
      "Creating raw.info structure...\n",
      "<ipython-input-3-0a23d589a01a>:4: RuntimeWarning: Channel names are not unique, found duplicates for: {'-', 'T8-P8'}. Applying running numbers for duplicates.\n",
      "  edf = mne.io.read_raw_edf(edf_filename,stim_channel=None)\n",
      "<ipython-input-3-0a23d589a01a>:4: RuntimeWarning: Scaling factor is not defined in following channels:\n",
      "--0, --1, --2, --3, --4\n",
      "  edf = mne.io.read_raw_edf(edf_filename,stim_channel=None)\n",
      "(23, 921600)\n",
      "Extracting EDF parameters from d:\\salma\\UNI\\Sem8\\WS\\physionet.org\\files\\chbmit\\1.0.0\\chb19\\chb19_20.edf...\n",
      "EDF file detected\n",
      "Setting channel info structure...\n",
      "Creating raw.info structure...\n",
      "<ipython-input-3-0a23d589a01a>:4: RuntimeWarning: Channel names are not unique, found duplicates for: {'-', 'T8-P8'}. Applying running numbers for duplicates.\n",
      "  edf = mne.io.read_raw_edf(edf_filename,stim_channel=None)\n",
      "<ipython-input-3-0a23d589a01a>:4: RuntimeWarning: Scaling factor is not defined in following channels:\n",
      "--0, --1, --2, --3, --4\n",
      "  edf = mne.io.read_raw_edf(edf_filename,stim_channel=None)\n",
      "(23, 921600)\n",
      "Extracting EDF parameters from d:\\salma\\UNI\\Sem8\\WS\\physionet.org\\files\\chbmit\\1.0.0\\chb19\\chb19_21.edf...\n",
      "EDF file detected\n",
      "Setting channel info structure...\n",
      "Creating raw.info structure...\n",
      "<ipython-input-3-0a23d589a01a>:4: RuntimeWarning: Channel names are not unique, found duplicates for: {'-', 'T8-P8'}. Applying running numbers for duplicates.\n",
      "  edf = mne.io.read_raw_edf(edf_filename,stim_channel=None)\n",
      "<ipython-input-3-0a23d589a01a>:4: RuntimeWarning: Scaling factor is not defined in following channels:\n",
      "--0, --1, --2, --3, --4\n",
      "  edf = mne.io.read_raw_edf(edf_filename,stim_channel=None)\n",
      "(23, 921600)\n",
      "Extracting EDF parameters from d:\\salma\\UNI\\Sem8\\WS\\physionet.org\\files\\chbmit\\1.0.0\\chb19\\chb19_22.edf...\n",
      "EDF file detected\n",
      "Setting channel info structure...\n",
      "Creating raw.info structure...\n",
      "<ipython-input-3-0a23d589a01a>:4: RuntimeWarning: Channel names are not unique, found duplicates for: {'-', 'T8-P8'}. Applying running numbers for duplicates.\n",
      "  edf = mne.io.read_raw_edf(edf_filename,stim_channel=None)\n",
      "<ipython-input-3-0a23d589a01a>:4: RuntimeWarning: Scaling factor is not defined in following channels:\n",
      "--0, --1, --2, --3, --4\n",
      "  edf = mne.io.read_raw_edf(edf_filename,stim_channel=None)\n",
      "(23, 921600)\n",
      "Extracting EDF parameters from d:\\salma\\UNI\\Sem8\\WS\\physionet.org\\files\\chbmit\\1.0.0\\chb19\\chb19_23.edf...\n",
      "EDF file detected\n",
      "Setting channel info structure...\n",
      "Creating raw.info structure...\n",
      "<ipython-input-3-0a23d589a01a>:4: RuntimeWarning: Channel names are not unique, found duplicates for: {'-', 'T8-P8'}. Applying running numbers for duplicates.\n",
      "  edf = mne.io.read_raw_edf(edf_filename,stim_channel=None)\n",
      "<ipython-input-3-0a23d589a01a>:4: RuntimeWarning: Scaling factor is not defined in following channels:\n",
      "--0, --1, --2, --3, --4\n",
      "  edf = mne.io.read_raw_edf(edf_filename,stim_channel=None)\n",
      "(23, 921600)\n",
      "Extracting EDF parameters from d:\\salma\\UNI\\Sem8\\WS\\physionet.org\\files\\chbmit\\1.0.0\\chb19\\chb19_24.edf...\n",
      "EDF file detected\n",
      "Setting channel info structure...\n",
      "Creating raw.info structure...\n",
      "<ipython-input-3-0a23d589a01a>:4: RuntimeWarning: Channel names are not unique, found duplicates for: {'-', 'T8-P8'}. Applying running numbers for duplicates.\n",
      "  edf = mne.io.read_raw_edf(edf_filename,stim_channel=None)\n",
      "<ipython-input-3-0a23d589a01a>:4: RuntimeWarning: Scaling factor is not defined in following channels:\n",
      "--0, --1, --2, --3, --4\n",
      "  edf = mne.io.read_raw_edf(edf_filename,stim_channel=None)\n",
      "(23, 921600)\n",
      "Extracting EDF parameters from d:\\salma\\UNI\\Sem8\\WS\\physionet.org\\files\\chbmit\\1.0.0\\chb19\\chb19_25.edf...\n",
      "EDF file detected\n",
      "Setting channel info structure...\n",
      "Creating raw.info structure...\n",
      "<ipython-input-3-0a23d589a01a>:4: RuntimeWarning: Channel names are not unique, found duplicates for: {'-', 'T8-P8'}. Applying running numbers for duplicates.\n",
      "  edf = mne.io.read_raw_edf(edf_filename,stim_channel=None)\n",
      "<ipython-input-3-0a23d589a01a>:4: RuntimeWarning: Scaling factor is not defined in following channels:\n",
      "--0, --1, --2, --3, --4\n",
      "  edf = mne.io.read_raw_edf(edf_filename,stim_channel=None)\n",
      "(23, 921600)\n",
      "Extracting EDF parameters from d:\\salma\\UNI\\Sem8\\WS\\physionet.org\\files\\chbmit\\1.0.0\\chb19\\chb19_26.edf...\n",
      "EDF file detected\n",
      "Setting channel info structure...\n",
      "Creating raw.info structure...\n",
      "<ipython-input-3-0a23d589a01a>:4: RuntimeWarning: Channel names are not unique, found duplicates for: {'-', 'T8-P8'}. Applying running numbers for duplicates.\n",
      "  edf = mne.io.read_raw_edf(edf_filename,stim_channel=None)\n",
      "<ipython-input-3-0a23d589a01a>:4: RuntimeWarning: Scaling factor is not defined in following channels:\n",
      "--0, --1, --2, --3, --4\n",
      "  edf = mne.io.read_raw_edf(edf_filename,stim_channel=None)\n",
      "(23, 921600)\n",
      "Extracting EDF parameters from d:\\salma\\UNI\\Sem8\\WS\\physionet.org\\files\\chbmit\\1.0.0\\chb19\\chb19_27.edf...\n",
      "EDF file detected\n",
      "Setting channel info structure...\n",
      "Creating raw.info structure...\n",
      "<ipython-input-3-0a23d589a01a>:4: RuntimeWarning: Channel names are not unique, found duplicates for: {'-', 'T8-P8'}. Applying running numbers for duplicates.\n",
      "  edf = mne.io.read_raw_edf(edf_filename,stim_channel=None)\n",
      "<ipython-input-3-0a23d589a01a>:4: RuntimeWarning: Scaling factor is not defined in following channels:\n",
      "--0, --1, --2, --3, --4\n",
      "  edf = mne.io.read_raw_edf(edf_filename,stim_channel=None)\n",
      "(23, 921600)\n",
      "Extracting EDF parameters from d:\\salma\\UNI\\Sem8\\WS\\physionet.org\\files\\chbmit\\1.0.0\\chb19\\chb19_28.edf...\n",
      "EDF file detected\n",
      "Setting channel info structure...\n",
      "Creating raw.info structure...\n",
      "<ipython-input-3-0a23d589a01a>:4: RuntimeWarning: Channel names are not unique, found duplicates for: {'-', 'T8-P8'}. Applying running numbers for duplicates.\n",
      "  edf = mne.io.read_raw_edf(edf_filename,stim_channel=None)\n",
      "<ipython-input-3-0a23d589a01a>:4: RuntimeWarning: Scaling factor is not defined in following channels:\n",
      "--0, --1, --2, --3, --4\n",
      "  edf = mne.io.read_raw_edf(edf_filename,stim_channel=None)\n",
      "(23, 924672)\n",
      "299\n",
      "377\n",
      "Extracting EDF parameters from d:\\salma\\UNI\\Sem8\\WS\\physionet.org\\files\\chbmit\\1.0.0\\chb19\\chb19_29.edf...\n",
      "EDF file detected\n",
      "Setting channel info structure...\n",
      "Creating raw.info structure...\n",
      "<ipython-input-3-0a23d589a01a>:4: RuntimeWarning: Channel names are not unique, found duplicates for: {'-', 'T8-P8'}. Applying running numbers for duplicates.\n",
      "  edf = mne.io.read_raw_edf(edf_filename,stim_channel=None)\n",
      "<ipython-input-3-0a23d589a01a>:4: RuntimeWarning: Scaling factor is not defined in following channels:\n",
      "--0, --1, --2, --3, --4\n",
      "  edf = mne.io.read_raw_edf(edf_filename,stim_channel=None)\n",
      "(23, 921600)\n",
      "2964\n",
      "3041\n",
      "Extracting EDF parameters from d:\\salma\\UNI\\Sem8\\WS\\physionet.org\\files\\chbmit\\1.0.0\\chb19\\chb19_30.edf...\n",
      "EDF file detected\n",
      "Setting channel info structure...\n",
      "Creating raw.info structure...\n",
      "<ipython-input-3-0a23d589a01a>:4: RuntimeWarning: Channel names are not unique, found duplicates for: {'-', 'T8-P8'}. Applying running numbers for duplicates.\n",
      "  edf = mne.io.read_raw_edf(edf_filename,stim_channel=None)\n",
      "<ipython-input-3-0a23d589a01a>:4: RuntimeWarning: Scaling factor is not defined in following channels:\n",
      "--0, --1, --2, --3, --4\n",
      "  edf = mne.io.read_raw_edf(edf_filename,stim_channel=None)\n",
      "(23, 853504)\n",
      "3159\n",
      "3240\n",
      "file: 0 , shape: (23, 921600) \n",
      "total number of windows: 358.0 , number of windows discarded: 0 \n",
      "file: 1 , shape: (23, 921600) \n",
      "total number of windows: 358.0 , number of windows discarded: 0 \n",
      "file: 2 , shape: (23, 921600) \n",
      "total number of windows: 358.0 , number of windows discarded: 0 \n",
      "file: 3 , shape: (23, 921600) \n",
      "total number of windows: 358.0 , number of windows discarded: 0 \n",
      "file: 4 , shape: (23, 921600) \n",
      "total number of windows: 358.0 , number of windows discarded: 0 \n",
      "file: 5 , shape: (23, 921600) \n",
      "total number of windows: 358.0 , number of windows discarded: 0 \n",
      "file: 6 , shape: (23, 921600) \n",
      "total number of windows: 358.0 , number of windows discarded: 0 \n",
      "file: 7 , shape: (23, 921600) \n",
      "total number of windows: 358.0 , number of windows discarded: 0 \n",
      "file: 8 , shape: (23, 921600) \n",
      "total number of windows: 358.0 , number of windows discarded: 0 \n",
      "file: 9 , shape: (23, 921600) \n",
      "total number of windows: 358.0 , number of windows discarded: 0 \n",
      "file: 10 , shape: (23, 921600) \n",
      "total number of windows: 358.0 , number of windows discarded: 0 \n",
      "file: 11 , shape: (23, 921600) \n",
      "total number of windows: 358.0 , number of windows discarded: 0 \n",
      "file: 12 , shape: (23, 921600) \n",
      "total number of windows: 358.0 , number of windows discarded: 0 \n",
      "file: 13 , shape: (23, 921600) \n",
      "total number of windows: 358.0 , number of windows discarded: 0 \n",
      "file: 14 , shape: (23, 921600) \n",
      "total number of windows: 358.0 , number of windows discarded: 0 \n",
      "file: 15 , shape: (23, 921600) \n",
      "total number of windows: 358.0 , number of windows discarded: 0 \n",
      "file: 16 , shape: (23, 921600) \n",
      "total number of windows: 358.0 , number of windows discarded: 0 \n",
      "file: 17 , shape: (23, 921600) \n",
      "total number of windows: 358.0 , number of windows discarded: 0 \n",
      "file: 18 , shape: (23, 921600) \n",
      "total number of windows: 358.0 , number of windows discarded: 0 \n",
      "file: 19 , shape: (23, 921600) \n",
      "total number of windows: 358.0 , number of windows discarded: 0 \n",
      "file: 20 , shape: (23, 921600) \n",
      "total number of windows: 358.0 , number of windows discarded: 0 \n",
      "file: 21 , shape: (23, 921600) \n",
      "total number of windows: 358.0 , number of windows discarded: 0 \n",
      "file: 22 , shape: (23, 921600) \n",
      "total number of windows: 358.0 , number of windows discarded: 0 \n",
      "file: 23 , shape: (23, 921600) \n",
      "total number of windows: 358.0 , number of windows discarded: 0 \n",
      "file: 24 , shape: (23, 921600) \n",
      "total number of windows: 358.0 , number of windows discarded: 0 \n",
      "file: 25 , shape: (23, 921600) \n",
      "total number of windows: 358.0 , number of windows discarded: 0 \n",
      "file: 26 , shape: (23, 924672) \n",
      "total number of windows: 360.0 , number of windows discarded: 4 \n",
      "file: 27 , shape: (23, 921600) \n",
      "total number of windows: 358.0 , number of windows discarded: 6 \n",
      "file: 28 , shape: (23, 853504) \n",
      "total number of windows: 332.0 , number of windows discarded: 6 \n"
     ]
    }
   ],
   "metadata": {
    "tags": [
     "outputPrepend"
    ]
   }
  },
  {
   "cell_type": "markdown",
   "source": [
    "## sum_only"
   ],
   "metadata": {}
  },
  {
   "cell_type": "code",
   "execution_count": 16,
   "source": [
    "patient_no=1#################\r\n",
    "\r\n",
    "for patient_no in (2,4,5,9,11,12,15,17):\r\n",
    "    subject_id = patient_no\r\n",
    "    base_path = \"physionet.org/files/chbmit/1.0.0/\"\r\n",
    "    edf_file_names = sorted(glob.glob(os.path.join(base_path, \"chb{:02d}/*.edf\".format(subject_id))))\r\n",
    "    summary_file = os.path.join(base_path, \"chb{:02d}/chb{:02d}-summary.txt\".format(subject_id, subject_id))\r\n",
    "\r\n",
    "\r\n",
    "    summary_content = open(summary_file,'r').read()\r\n",
    "\r\n",
    "    X_all = []\r\n",
    "    y_all = []\r\n",
    "    for edf_file_name in edf_file_names:\r\n",
    "        X, y = extract_data_and_labels(edf_file_name, summary_content)\r\n",
    "        X_all.append(X)\r\n",
    "        y_all.append(y)\r\n",
    "\r\n",
    "    window_size=int(256*10)\r\n",
    "    for filno in range(0,len(X_all)):###################\r\n",
    "        recording=X_all[filno]####################\r\n",
    "        discarded=0\r\n",
    "        wins=recording.shape[1]//window_size\r\n",
    "        print('file: {} , shape: {} '.format(filno,recording.shape))\r\n",
    "        y=label_series(y_all[filno], 10)#############################33333\r\n",
    "        datapoints_in=[] #for each file\r\n",
    "        targets=[]\r\n",
    "        i=0\r\n",
    "        while i+window_size<recording.shape[1]:\r\n",
    "            # n_channels=recording.shape[0]\r\n",
    "            n_channels=23\r\n",
    "            features=np.zeros(3)\r\n",
    "            # features[-1]=patient_no\r\n",
    "            recording.shape\r\n",
    "            window=time_differential(recording[:,int(i):int(i+window_size)])\r\n",
    "            # window=recording[:,int(i):int(i+window_size)]\r\n",
    "            freqs, psd = signal.periodogram(window, fs=256)\r\n",
    "            features[0]=psd.sum()\r\n",
    "            features[1]=np.sqrt(np.mean(psd**2))\r\n",
    "            features[2]=patient_no\r\n",
    "            #removing electric noise\r\n",
    "            # psd[:,57:64]=0\r\n",
    "            # psd[:,117:124]=0\r\n",
    "            target_range=np.array(y[int(i):int(i+window_size)])\r\n",
    "           \r\n",
    "            if np.all(target_range == target_range[0]):\r\n",
    "                target=target_range[0]\r\n",
    "                targets.append(target)\r\n",
    "                datapoints_in.append(features)\r\n",
    "            else:\r\n",
    "                discarded+=1               \r\n",
    "            i+=(window_size/2)\r\n",
    "        # dp=np.array(datapoints_in)\r\n",
    "        # D:\\salma\\UNI\\Sem8\\WS\\unnormalized\r\n",
    "        \r\n",
    "        # mean_sum=np.mean(newdf['rms'][newdf['target']==0])\r\n",
    "        \r\n",
    "        \r\n",
    "        save(os.path.join('sum_10','data_chb{:02d}/features_{}_{:02d}'.format(patient_no, patient_no, filno)), datapoints_in)\r\n",
    "        save(os.path.join('sum_10','data_chb{:02d}/targets_{}_{:02d}'.format(patient_no,patient_no, filno)) , targets)\r\n",
    "        print('total number of windows: {} , number of windows discarded: {} '.format(i/(window_size/2), discarded))\r\n",
    "        \r\n",
    "\r\n"
   ],
   "outputs": [
    {
     "output_type": "stream",
     "name": "stdout",
     "text": [
      "timeWarning: Scaling factor is not defined in following channels:\n",
      "--0, --1, --2, --3, --4, --5\n",
      "  edf = mne.io.read_raw_edf(edf_filename,stim_channel=None)\n",
      "(23, 921600)\n",
      "263\n",
      "318\n",
      "843\n",
      "1020\n",
      "1524\n",
      "1595\n",
      "2179\n",
      "2250\n",
      "3428\n",
      "3460\n",
      "Extracting EDF parameters from d:\\salma\\UNI\\Sem8\\WS\\physionet.org\\files\\chbmit\\1.0.0\\chb15\\chb15_61.edf...\n",
      "EDF file detected\n",
      "Setting channel info structure...\n",
      "Creating raw.info structure...\n",
      "<ipython-input-3-0a23d589a01a>:4: RuntimeWarning: Channel names are not unique, found duplicates for: {'T8-P8', '-'}. Applying running numbers for duplicates.\n",
      "  edf = mne.io.read_raw_edf(edf_filename,stim_channel=None)\n",
      "<ipython-input-3-0a23d589a01a>:4: RuntimeWarning: Scaling factor is not defined in following channels:\n",
      "--0, --1, --2, --3, --4, --5\n",
      "  edf = mne.io.read_raw_edf(edf_filename,stim_channel=None)\n",
      "(23, 921600)\n",
      "Extracting EDF parameters from d:\\salma\\UNI\\Sem8\\WS\\physionet.org\\files\\chbmit\\1.0.0\\chb15\\chb15_62.edf...\n",
      "EDF file detected\n",
      "Setting channel info structure...\n",
      "Creating raw.info structure...\n",
      "<ipython-input-3-0a23d589a01a>:4: RuntimeWarning: Channel names are not unique, found duplicates for: {'T8-P8', '-'}. Applying running numbers for duplicates.\n",
      "  edf = mne.io.read_raw_edf(edf_filename,stim_channel=None)\n",
      "<ipython-input-3-0a23d589a01a>:4: RuntimeWarning: Scaling factor is not defined in following channels:\n",
      "--0, --1, --2, --3, --4, --5\n",
      "  edf = mne.io.read_raw_edf(edf_filename,stim_channel=None)\n",
      "(23, 921600)\n",
      "751\n",
      "859\n",
      "Extracting EDF parameters from d:\\salma\\UNI\\Sem8\\WS\\physionet.org\\files\\chbmit\\1.0.0\\chb15\\chb15_63.edf...\n",
      "EDF file detected\n",
      "Setting channel info structure...\n",
      "Creating raw.info structure...\n",
      "<ipython-input-3-0a23d589a01a>:4: RuntimeWarning: Channel names are not unique, found duplicates for: {'T8-P8', '-'}. Applying running numbers for duplicates.\n",
      "  edf = mne.io.read_raw_edf(edf_filename,stim_channel=None)\n",
      "<ipython-input-3-0a23d589a01a>:4: RuntimeWarning: Scaling factor is not defined in following channels:\n",
      "--0, --1, --2, --3, --4, --5\n",
      "  edf = mne.io.read_raw_edf(edf_filename,stim_channel=None)\n",
      "(23, 921600)\n",
      "file: 0 , shape: (23, 921600) \n",
      "total number of windows: 718.0 , number of windows discarded: 0 \n",
      "file: 1 , shape: (23, 921600) \n",
      "total number of windows: 718.0 , number of windows discarded: 0 \n",
      "file: 2 , shape: (23, 921600) \n",
      "total number of windows: 718.0 , number of windows discarded: 0 \n",
      "file: 3 , shape: (23, 921600) \n",
      "total number of windows: 718.0 , number of windows discarded: 0 \n",
      "file: 4 , shape: (23, 921600) \n",
      "total number of windows: 718.0 , number of windows discarded: 4 \n",
      "file: 5 , shape: (23, 921600) \n",
      "total number of windows: 718.0 , number of windows discarded: 0 \n",
      "file: 6 , shape: (23, 921600) \n",
      "total number of windows: 718.0 , number of windows discarded: 0 \n",
      "file: 7 , shape: (23, 921600) \n",
      "total number of windows: 718.0 , number of windows discarded: 0 \n",
      "file: 8 , shape: (23, 921600) \n",
      "total number of windows: 718.0 , number of windows discarded: 6 \n",
      "file: 9 , shape: (23, 921600) \n",
      "total number of windows: 718.0 , number of windows discarded: 0 \n",
      "file: 10 , shape: (23, 921600) \n",
      "total number of windows: 718.0 , number of windows discarded: 0 \n",
      "file: 11 , shape: (23, 921600) \n",
      "total number of windows: 718.0 , number of windows discarded: 0 \n",
      "file: 12 , shape: (23, 921600) \n",
      "total number of windows: 718.0 , number of windows discarded: 0 \n",
      "file: 13 , shape: (23, 921600) \n",
      "total number of windows: 718.0 , number of windows discarded: 6 \n",
      "file: 14 , shape: (23, 921600) \n",
      "total number of windows: 718.0 , number of windows discarded: 0 \n",
      "file: 15 , shape: (23, 921600) \n",
      "total number of windows: 718.0 , number of windows discarded: 4 \n",
      "file: 16 , shape: (23, 921600) \n",
      "total number of windows: 718.0 , number of windows discarded: 0 \n",
      "file: 17 , shape: (23, 921600) \n",
      "total number of windows: 718.0 , number of windows discarded: 6 \n",
      "file: 18 , shape: (23, 921600) \n",
      "total number of windows: 718.0 , number of windows discarded: 4 \n",
      "file: 19 , shape: (23, 921600) \n",
      "total number of windows: 718.0 , number of windows discarded: 0 \n",
      "file: 20 , shape: (23, 921600) \n",
      "total number of windows: 718.0 , number of windows discarded: 6 \n",
      "file: 21 , shape: (23, 921600) \n",
      "total number of windows: 718.0 , number of windows discarded: 0 \n",
      "file: 22 , shape: (23, 921600) \n",
      "total number of windows: 718.0 , number of windows discarded: 0 \n",
      "file: 23 , shape: (23, 921600) \n",
      "total number of windows: 718.0 , number of windows discarded: 6 \n",
      "file: 24 , shape: (23, 921600) \n",
      "total number of windows: 718.0 , number of windows discarded: 0 \n",
      "file: 25 , shape: (23, 921600) \n",
      "total number of windows: 718.0 , number of windows discarded: 0 \n",
      "file: 26 , shape: (23, 921600) \n",
      "total number of windows: 718.0 , number of windows discarded: 0 \n",
      "file: 27 , shape: (23, 921600) \n",
      "total number of windows: 718.0 , number of windows discarded: 0 \n",
      "file: 28 , shape: (23, 921600) \n",
      "total number of windows: 718.0 , number of windows discarded: 17 \n",
      "file: 29 , shape: (23, 921600) \n",
      "total number of windows: 718.0 , number of windows discarded: 0 \n",
      "file: 30 , shape: (23, 921600) \n",
      "total number of windows: 718.0 , number of windows discarded: 5 \n",
      "file: 31 , shape: (23, 928000) \n",
      "total number of windows: 723.0 , number of windows discarded: 6 \n",
      "file: 32 , shape: (23, 921600) \n",
      "total number of windows: 718.0 , number of windows discarded: 0 \n",
      "file: 33 , shape: (23, 921600) \n",
      "total number of windows: 718.0 , number of windows discarded: 0 \n",
      "file: 34 , shape: (23, 923904) \n",
      "total number of windows: 720.0 , number of windows discarded: 5 \n",
      "file: 35 , shape: (23, 921600) \n",
      "total number of windows: 718.0 , number of windows discarded: 22 \n",
      "file: 36 , shape: (23, 921600) \n",
      "total number of windows: 718.0 , number of windows discarded: 0 \n",
      "file: 37 , shape: (23, 921600) \n",
      "total number of windows: 718.0 , number of windows discarded: 5 \n",
      "file: 38 , shape: (23, 921600) \n",
      "total number of windows: 718.0 , number of windows discarded: 0 \n",
      "Extracting EDF parameters from d:\\salma\\UNI\\Sem8\\WS\\physionet.org\\files\\chbmit\\1.0.0\\chb17\\chb17a_03.edf...\n",
      "EDF file detected\n",
      "Setting channel info structure...\n",
      "Creating raw.info structure...\n",
      "<ipython-input-3-0a23d589a01a>:4: RuntimeWarning: Channel names are not unique, found duplicates for: {'T8-P8', '-'}. Applying running numbers for duplicates.\n",
      "  edf = mne.io.read_raw_edf(edf_filename,stim_channel=None)\n",
      "<ipython-input-3-0a23d589a01a>:4: RuntimeWarning: Scaling factor is not defined in following channels:\n",
      "--0, --1, --2, --3, --4\n",
      "  edf = mne.io.read_raw_edf(edf_filename,stim_channel=None)\n",
      "(23, 921600)\n",
      "2282\n",
      "2372\n",
      "Extracting EDF parameters from d:\\salma\\UNI\\Sem8\\WS\\physionet.org\\files\\chbmit\\1.0.0\\chb17\\chb17a_04.edf...\n",
      "EDF file detected\n",
      "Setting channel info structure...\n",
      "Creating raw.info structure...\n",
      "<ipython-input-3-0a23d589a01a>:4: RuntimeWarning: Channel names are not unique, found duplicates for: {'T8-P8', '-'}. Applying running numbers for duplicates.\n",
      "  edf = mne.io.read_raw_edf(edf_filename,stim_channel=None)\n",
      "<ipython-input-3-0a23d589a01a>:4: RuntimeWarning: Scaling factor is not defined in following channels:\n",
      "--0, --1, --2, --3, --4\n",
      "  edf = mne.io.read_raw_edf(edf_filename,stim_channel=None)\n",
      "(23, 921600)\n",
      "3025\n",
      "3140\n",
      "Extracting EDF parameters from d:\\salma\\UNI\\Sem8\\WS\\physionet.org\\files\\chbmit\\1.0.0\\chb17\\chb17a_05.edf...\n",
      "EDF file detected\n",
      "Setting channel info structure...\n",
      "Creating raw.info structure...\n",
      "<ipython-input-3-0a23d589a01a>:4: RuntimeWarning: Channel names are not unique, found duplicates for: {'T8-P8', '-'}. Applying running numbers for duplicates.\n",
      "  edf = mne.io.read_raw_edf(edf_filename,stim_channel=None)\n",
      "<ipython-input-3-0a23d589a01a>:4: RuntimeWarning: Scaling factor is not defined in following channels:\n",
      "--0, --1, --2, --3, --4\n",
      "  edf = mne.io.read_raw_edf(edf_filename,stim_channel=None)\n",
      "(23, 921600)\n",
      "Extracting EDF parameters from d:\\salma\\UNI\\Sem8\\WS\\physionet.org\\files\\chbmit\\1.0.0\\chb17\\chb17a_06.edf...\n",
      "EDF file detected\n",
      "Setting channel info structure...\n",
      "Creating raw.info structure...\n",
      "<ipython-input-3-0a23d589a01a>:4: RuntimeWarning: Channel names are not unique, found duplicates for: {'T8-P8', '-'}. Applying running numbers for duplicates.\n",
      "  edf = mne.io.read_raw_edf(edf_filename,stim_channel=None)\n",
      "<ipython-input-3-0a23d589a01a>:4: RuntimeWarning: Scaling factor is not defined in following channels:\n",
      "--0, --1, --2, --3, --4\n",
      "  edf = mne.io.read_raw_edf(edf_filename,stim_channel=None)\n",
      "(23, 921600)\n",
      "Extracting EDF parameters from d:\\salma\\UNI\\Sem8\\WS\\physionet.org\\files\\chbmit\\1.0.0\\chb17\\chb17a_08.edf...\n",
      "EDF file detected\n",
      "Setting channel info structure...\n",
      "Creating raw.info structure...\n",
      "<ipython-input-3-0a23d589a01a>:4: RuntimeWarning: Channel names are not unique, found duplicates for: {'T8-P8', '-'}. Applying running numbers for duplicates.\n",
      "  edf = mne.io.read_raw_edf(edf_filename,stim_channel=None)\n",
      "<ipython-input-3-0a23d589a01a>:4: RuntimeWarning: Scaling factor is not defined in following channels:\n",
      "--0, --1, --2, --3, --4\n",
      "  edf = mne.io.read_raw_edf(edf_filename,stim_channel=None)\n",
      "(23, 921600)\n",
      "Extracting EDF parameters from d:\\salma\\UNI\\Sem8\\WS\\physionet.org\\files\\chbmit\\1.0.0\\chb17\\chb17b_57.edf...\n",
      "EDF file detected\n",
      "Setting channel info structure...\n",
      "Creating raw.info structure...\n",
      "<ipython-input-3-0a23d589a01a>:4: RuntimeWarning: Channel names are not unique, found duplicates for: {'T8-P8', '-'}. Applying running numbers for duplicates.\n",
      "  edf = mne.io.read_raw_edf(edf_filename,stim_channel=None)\n",
      "<ipython-input-3-0a23d589a01a>:4: RuntimeWarning: Scaling factor is not defined in following channels:\n",
      "--0, --1, --2, --3, --4\n",
      "  edf = mne.io.read_raw_edf(edf_filename,stim_channel=None)\n",
      "(23, 921600)\n",
      "Extracting EDF parameters from d:\\salma\\UNI\\Sem8\\WS\\physionet.org\\files\\chbmit\\1.0.0\\chb17\\chb17b_58.edf...\n",
      "EDF file detected\n",
      "Setting channel info structure...\n",
      "Creating raw.info structure...\n",
      "<ipython-input-3-0a23d589a01a>:4: RuntimeWarning: Channel names are not unique, found duplicates for: {'T8-P8', '-'}. Applying running numbers for duplicates.\n",
      "  edf = mne.io.read_raw_edf(edf_filename,stim_channel=None)\n",
      "<ipython-input-3-0a23d589a01a>:4: RuntimeWarning: Scaling factor is not defined in following channels:\n",
      "--0, --1, --2, --3, --4\n",
      "  edf = mne.io.read_raw_edf(edf_filename,stim_channel=None)\n",
      "(23, 921600)\n",
      "Extracting EDF parameters from d:\\salma\\UNI\\Sem8\\WS\\physionet.org\\files\\chbmit\\1.0.0\\chb17\\chb17b_59.edf...\n",
      "EDF file detected\n",
      "Setting channel info structure...\n",
      "Creating raw.info structure...\n",
      "<ipython-input-3-0a23d589a01a>:4: RuntimeWarning: Channel names are not unique, found duplicates for: {'T8-P8', '-'}. Applying running numbers for duplicates.\n",
      "  edf = mne.io.read_raw_edf(edf_filename,stim_channel=None)\n",
      "<ipython-input-3-0a23d589a01a>:4: RuntimeWarning: Scaling factor is not defined in following channels:\n",
      "--0, --1, --2, --3, --4\n",
      "  edf = mne.io.read_raw_edf(edf_filename,stim_channel=None)\n",
      "(23, 921600)\n",
      "Extracting EDF parameters from d:\\salma\\UNI\\Sem8\\WS\\physionet.org\\files\\chbmit\\1.0.0\\chb17\\chb17b_60.edf...\n",
      "EDF file detected\n",
      "Setting channel info structure...\n",
      "Creating raw.info structure...\n",
      "<ipython-input-3-0a23d589a01a>:4: RuntimeWarning: Channel names are not unique, found duplicates for: {'T8-P8', '-'}. Applying running numbers for duplicates.\n",
      "  edf = mne.io.read_raw_edf(edf_filename,stim_channel=None)\n",
      "<ipython-input-3-0a23d589a01a>:4: RuntimeWarning: Scaling factor is not defined in following channels:\n",
      "--0, --1, --2, --3, --4\n",
      "  edf = mne.io.read_raw_edf(edf_filename,stim_channel=None)\n",
      "(23, 921600)\n",
      "Extracting EDF parameters from d:\\salma\\UNI\\Sem8\\WS\\physionet.org\\files\\chbmit\\1.0.0\\chb17\\chb17b_63.edf...\n",
      "EDF file detected\n",
      "Setting channel info structure...\n",
      "Creating raw.info structure...\n",
      "<ipython-input-3-0a23d589a01a>:4: RuntimeWarning: Channel names are not unique, found duplicates for: {'T8-P8', '-'}. Applying running numbers for duplicates.\n",
      "  edf = mne.io.read_raw_edf(edf_filename,stim_channel=None)\n",
      "<ipython-input-3-0a23d589a01a>:4: RuntimeWarning: Scaling factor is not defined in following channels:\n",
      "--0, --1, --2, --3, --4\n",
      "  edf = mne.io.read_raw_edf(edf_filename,stim_channel=None)\n",
      "(23, 927744)\n",
      "3136\n",
      "3224\n",
      "Extracting EDF parameters from d:\\salma\\UNI\\Sem8\\WS\\physionet.org\\files\\chbmit\\1.0.0\\chb17\\chb17b_67.edf...\n",
      "EDF file detected\n",
      "Setting channel info structure...\n",
      "Creating raw.info structure...\n",
      "<ipython-input-3-0a23d589a01a>:4: RuntimeWarning: Channel names are not unique, found duplicates for: {'T8-P8', '-'}. Applying running numbers for duplicates.\n",
      "  edf = mne.io.read_raw_edf(edf_filename,stim_channel=None)\n",
      "<ipython-input-3-0a23d589a01a>:4: RuntimeWarning: Scaling factor is not defined in following channels:\n",
      "--0, --1, --2, --3, --4\n",
      "  edf = mne.io.read_raw_edf(edf_filename,stim_channel=None)\n",
      "(23, 921600)\n",
      "Extracting EDF parameters from d:\\salma\\UNI\\Sem8\\WS\\physionet.org\\files\\chbmit\\1.0.0\\chb17\\chb17b_68.edf...\n",
      "EDF file detected\n",
      "Setting channel info structure...\n",
      "Creating raw.info structure...\n",
      "<ipython-input-3-0a23d589a01a>:4: RuntimeWarning: Channel names are not unique, found duplicates for: {'T8-P8', '-'}. Applying running numbers for duplicates.\n",
      "  edf = mne.io.read_raw_edf(edf_filename,stim_channel=None)\n",
      "<ipython-input-3-0a23d589a01a>:4: RuntimeWarning: Scaling factor is not defined in following channels:\n",
      "--0, --1, --2, --3, --4\n",
      "  edf = mne.io.read_raw_edf(edf_filename,stim_channel=None)\n",
      "(23, 921600)\n",
      "Extracting EDF parameters from d:\\salma\\UNI\\Sem8\\WS\\physionet.org\\files\\chbmit\\1.0.0\\chb17\\chb17b_69.edf...\n",
      "EDF file detected\n",
      "Setting channel info structure...\n",
      "Creating raw.info structure...\n",
      "<ipython-input-3-0a23d589a01a>:4: RuntimeWarning: Channel names are not unique, found duplicates for: {'T8-P8', '-'}. Applying running numbers for duplicates.\n",
      "  edf = mne.io.read_raw_edf(edf_filename,stim_channel=None)\n",
      "<ipython-input-3-0a23d589a01a>:4: RuntimeWarning: Scaling factor is not defined in following channels:\n",
      "--0, --1, --2, --3, --4\n",
      "  edf = mne.io.read_raw_edf(edf_filename,stim_channel=None)\n",
      "(23, 921600)\n",
      "Extracting EDF parameters from d:\\salma\\UNI\\Sem8\\WS\\physionet.org\\files\\chbmit\\1.0.0\\chb17\\chb17c_02.edf...\n",
      "EDF file detected\n",
      "Setting channel info structure...\n",
      "Creating raw.info structure...\n",
      "<ipython-input-3-0a23d589a01a>:4: RuntimeWarning: Channel names are not unique, found duplicates for: {'T8-P8', '-'}. Applying running numbers for duplicates.\n",
      "  edf = mne.io.read_raw_edf(edf_filename,stim_channel=None)\n",
      "<ipython-input-3-0a23d589a01a>:4: RuntimeWarning: Scaling factor is not defined in following channels:\n",
      "--0, --1, --2, --3, --4\n",
      "  edf = mne.io.read_raw_edf(edf_filename,stim_channel=None)\n",
      "(23, 921600)\n",
      "Extracting EDF parameters from d:\\salma\\UNI\\Sem8\\WS\\physionet.org\\files\\chbmit\\1.0.0\\chb17\\chb17c_03.edf...\n",
      "EDF file detected\n",
      "Setting channel info structure...\n",
      "Creating raw.info structure...\n",
      "<ipython-input-3-0a23d589a01a>:4: RuntimeWarning: Channel names are not unique, found duplicates for: {'T8-P8', '-'}. Applying running numbers for duplicates.\n",
      "  edf = mne.io.read_raw_edf(edf_filename,stim_channel=None)\n",
      "<ipython-input-3-0a23d589a01a>:4: RuntimeWarning: Scaling factor is not defined in following channels:\n",
      "--0, --1, --2, --3, --4\n",
      "  edf = mne.io.read_raw_edf(edf_filename,stim_channel=None)\n",
      "(23, 921600)\n",
      "Extracting EDF parameters from d:\\salma\\UNI\\Sem8\\WS\\physionet.org\\files\\chbmit\\1.0.0\\chb17\\chb17c_04.edf...\n",
      "EDF file detected\n",
      "Setting channel info structure...\n",
      "Creating raw.info structure...\n",
      "<ipython-input-3-0a23d589a01a>:4: RuntimeWarning: Channel names are not unique, found duplicates for: {'T8-P8', '-'}. Applying running numbers for duplicates.\n",
      "  edf = mne.io.read_raw_edf(edf_filename,stim_channel=None)\n",
      "<ipython-input-3-0a23d589a01a>:4: RuntimeWarning: Scaling factor is not defined in following channels:\n",
      "--0, --1, --2, --3, --4\n",
      "  edf = mne.io.read_raw_edf(edf_filename,stim_channel=None)\n",
      "(23, 921600)\n",
      "Extracting EDF parameters from d:\\salma\\UNI\\Sem8\\WS\\physionet.org\\files\\chbmit\\1.0.0\\chb17\\chb17c_05.edf...\n",
      "EDF file detected\n",
      "Setting channel info structure...\n",
      "Creating raw.info structure...\n",
      "<ipython-input-3-0a23d589a01a>:4: RuntimeWarning: Channel names are not unique, found duplicates for: {'T8-P8', '-'}. Applying running numbers for duplicates.\n",
      "  edf = mne.io.read_raw_edf(edf_filename,stim_channel=None)\n",
      "<ipython-input-3-0a23d589a01a>:4: RuntimeWarning: Scaling factor is not defined in following channels:\n",
      "--0, --1, --2, --3, --4\n",
      "  edf = mne.io.read_raw_edf(edf_filename,stim_channel=None)\n",
      "(23, 921600)\n",
      "Extracting EDF parameters from d:\\salma\\UNI\\Sem8\\WS\\physionet.org\\files\\chbmit\\1.0.0\\chb17\\chb17c_06.edf...\n",
      "EDF file detected\n",
      "Setting channel info structure...\n",
      "Creating raw.info structure...\n",
      "<ipython-input-3-0a23d589a01a>:4: RuntimeWarning: Channel names are not unique, found duplicates for: {'T8-P8', '-'}. Applying running numbers for duplicates.\n",
      "  edf = mne.io.read_raw_edf(edf_filename,stim_channel=None)\n",
      "<ipython-input-3-0a23d589a01a>:4: RuntimeWarning: Scaling factor is not defined in following channels:\n",
      "--0, --1, --2, --3, --4\n",
      "  edf = mne.io.read_raw_edf(edf_filename,stim_channel=None)\n",
      "(23, 921600)\n",
      "Extracting EDF parameters from d:\\salma\\UNI\\Sem8\\WS\\physionet.org\\files\\chbmit\\1.0.0\\chb17\\chb17c_07.edf...\n",
      "EDF file detected\n",
      "Setting channel info structure...\n",
      "Creating raw.info structure...\n",
      "<ipython-input-3-0a23d589a01a>:4: RuntimeWarning: Channel names are not unique, found duplicates for: {'T8-P8', '-'}. Applying running numbers for duplicates.\n",
      "  edf = mne.io.read_raw_edf(edf_filename,stim_channel=None)\n",
      "<ipython-input-3-0a23d589a01a>:4: RuntimeWarning: Scaling factor is not defined in following channels:\n",
      "--0, --1, --2, --3, --4\n",
      "  edf = mne.io.read_raw_edf(edf_filename,stim_channel=None)\n",
      "(23, 921600)\n",
      "Extracting EDF parameters from d:\\salma\\UNI\\Sem8\\WS\\physionet.org\\files\\chbmit\\1.0.0\\chb17\\chb17c_08.edf...\n",
      "EDF file detected\n",
      "Setting channel info structure...\n",
      "Creating raw.info structure...\n",
      "<ipython-input-3-0a23d589a01a>:4: RuntimeWarning: Channel names are not unique, found duplicates for: {'T8-P8', '-'}. Applying running numbers for duplicates.\n",
      "  edf = mne.io.read_raw_edf(edf_filename,stim_channel=None)\n",
      "<ipython-input-3-0a23d589a01a>:4: RuntimeWarning: Scaling factor is not defined in following channels:\n",
      "--0, --1, --2, --3, --4\n",
      "  edf = mne.io.read_raw_edf(edf_filename,stim_channel=None)\n",
      "(23, 921600)\n",
      "file: 0 , shape: (23, 921600) \n",
      "total number of windows: 718.0 , number of windows discarded: 6 \n",
      "file: 1 , shape: (23, 921600) \n",
      "total number of windows: 718.0 , number of windows discarded: 4 \n",
      "file: 2 , shape: (23, 921600) \n",
      "total number of windows: 718.0 , number of windows discarded: 0 \n",
      "file: 3 , shape: (23, 921600) \n",
      "total number of windows: 718.0 , number of windows discarded: 0 \n",
      "file: 4 , shape: (23, 921600) \n",
      "total number of windows: 718.0 , number of windows discarded: 0 \n",
      "file: 5 , shape: (23, 921600) \n",
      "total number of windows: 718.0 , number of windows discarded: 0 \n",
      "file: 6 , shape: (23, 921600) \n",
      "total number of windows: 718.0 , number of windows discarded: 0 \n",
      "file: 7 , shape: (23, 921600) \n",
      "total number of windows: 718.0 , number of windows discarded: 0 \n",
      "file: 8 , shape: (23, 921600) \n",
      "total number of windows: 718.0 , number of windows discarded: 0 \n",
      "file: 9 , shape: (23, 927744) \n",
      "total number of windows: 723.0 , number of windows discarded: 5 \n",
      "file: 10 , shape: (23, 921600) \n",
      "total number of windows: 718.0 , number of windows discarded: 0 \n",
      "file: 11 , shape: (23, 921600) \n",
      "total number of windows: 718.0 , number of windows discarded: 0 \n",
      "file: 12 , shape: (23, 921600) \n",
      "total number of windows: 718.0 , number of windows discarded: 0 \n",
      "file: 13 , shape: (23, 921600) \n",
      "total number of windows: 718.0 , number of windows discarded: 0 \n",
      "file: 14 , shape: (23, 921600) \n",
      "total number of windows: 718.0 , number of windows discarded: 0 \n",
      "file: 15 , shape: (23, 921600) \n",
      "total number of windows: 718.0 , number of windows discarded: 0 \n",
      "file: 16 , shape: (23, 921600) \n",
      "total number of windows: 718.0 , number of windows discarded: 0 \n",
      "file: 17 , shape: (23, 921600) \n",
      "total number of windows: 718.0 , number of windows discarded: 0 \n",
      "file: 18 , shape: (23, 921600) \n",
      "total number of windows: 718.0 , number of windows discarded: 0 \n",
      "file: 19 , shape: (23, 921600) \n",
      "total number of windows: 718.0 , number of windows discarded: 0 \n"
     ]
    }
   ],
   "metadata": {
    "tags": [
     "outputPrepend"
    ]
   }
  },
  {
   "cell_type": "markdown",
   "source": [
    "## raw"
   ],
   "metadata": {}
  },
  {
   "cell_type": "code",
   "execution_count": null,
   "source": [],
   "outputs": [],
   "metadata": {}
  },
  {
   "cell_type": "code",
   "execution_count": 6,
   "source": [
    "patient_no=1#################\r\n",
    "\r\n",
    "for patient_no in range(9,25):\r\n",
    "    subject_id = patient_no\r\n",
    "    base_path = \"physionet.org/files/chbmit/1.0.0/\"\r\n",
    "    edf_file_names = sorted(glob.glob(os.path.join(base_path, \"chb{:02d}/*.edf\".format(subject_id))))\r\n",
    "    summary_file = os.path.join(base_path, \"chb{:02d}/chb{:02d}-summary.txt\".format(subject_id, subject_id))\r\n",
    "\r\n",
    "\r\n",
    "    summary_content = open(summary_file,'r').read()\r\n",
    "\r\n",
    "    X_all = []\r\n",
    "    y_all = []\r\n",
    "    for edf_file_name in edf_file_names:\r\n",
    "        X, y = extract_data_and_labels(edf_file_name, summary_content)\r\n",
    "        X_all.append(X)\r\n",
    "        y_all.append(y)\r\n",
    "\r\n",
    "    window_size=int(256*10)\r\n",
    "    for filno in range(0,len(X_all)):###################\r\n",
    "        recording=X_all[filno]####################\r\n",
    "        discarded=0\r\n",
    "        wins=recording.shape[1]//window_size\r\n",
    "        print('file: {} , shape: {} '.format(filno,recording.shape))\r\n",
    "        y=label_series(y_all[filno], 10)#############################33333\r\n",
    "        datapoints_in=[] #for each file\r\n",
    "        targets=[]\r\n",
    "        i=0\r\n",
    "        while i+window_size<recording.shape[1]:\r\n",
    "            window=recording[:,int(i):int(i+window_size)]\r\n",
    "            target_range=np.array(y[int(i):int(i+window_size)])########3333 forgotten line messing labels\r\n",
    "            if np.all(target_range == target_range[0]):\r\n",
    "                # print(target_range)\r\n",
    "                target=target_range[0]\r\n",
    "                targets.append(target)\r\n",
    "                datapoints_in.append(window)\r\n",
    "                # print(window.shape)\r\n",
    "            else:\r\n",
    "                discarded+=1               \r\n",
    "            i+=(window_size/2)\r\n",
    "        # dp=np.array(datapoints_in)\r\n",
    "        # D:\\salma\\UNI\\Sem8\\WS\\unnormalized\r\n",
    "        # print('helllooooooooooo')\r\n",
    "        save(os.path.join('raw_10','data_chb{:02d}/features_{}_{:02d}'.format(patient_no, patient_no, filno)), datapoints_in)\r\n",
    "        save(os.path.join('raw_10','data_chb{:02d}/targets_{}_{:02d}'.format(patient_no,patient_no, filno)) , targets)\r\n",
    "        print('total number of windows: {} , number of windows discarded: {} '.format(i/(window_size/2), discarded))"
   ],
   "outputs": [
    {
     "output_type": "stream",
     "name": "stdout",
     "text": [
      "Extracting EDF parameters from d:\\salma\\UNI\\Sem8\\WS\\physionet.org\\files\\chbmit\\1.0.0\\chb09\\chb09_01.edf...\n",
      "EDF file detected\n",
      "Setting channel info structure...\n",
      "Creating raw.info structure...\n"
     ]
    },
    {
     "output_type": "stream",
     "name": "stderr",
     "text": [
      "<ipython-input-2-2015fd87c072>:4: RuntimeWarning: Channel names are not unique, found duplicates for: {'T8-P8'}. Applying running numbers for duplicates.\n",
      "  edf = mne.io.read_raw_edf(edf_filename,stim_channel=None)\n"
     ]
    },
    {
     "output_type": "stream",
     "name": "stdout",
     "text": [
      "(23, 2053888)\n",
      "Extracting EDF parameters from d:\\salma\\UNI\\Sem8\\WS\\physionet.org\\files\\chbmit\\1.0.0\\chb09\\chb09_02.edf...\n",
      "EDF file detected\n",
      "Setting channel info structure...\n",
      "Creating raw.info structure...\n"
     ]
    },
    {
     "output_type": "stream",
     "name": "stderr",
     "text": [
      "<ipython-input-2-2015fd87c072>:4: RuntimeWarning: Channel names are not unique, found duplicates for: {'T8-P8'}. Applying running numbers for duplicates.\n",
      "  edf = mne.io.read_raw_edf(edf_filename,stim_channel=None)\n"
     ]
    },
    {
     "output_type": "stream",
     "name": "stdout",
     "text": [
      "(23, 3686144)\n",
      "Extracting EDF parameters from d:\\salma\\UNI\\Sem8\\WS\\physionet.org\\files\\chbmit\\1.0.0\\chb09\\chb09_03.edf...\n",
      "EDF file detected\n",
      "Setting channel info structure...\n",
      "Creating raw.info structure...\n"
     ]
    },
    {
     "output_type": "stream",
     "name": "stderr",
     "text": [
      "<ipython-input-2-2015fd87c072>:4: RuntimeWarning: Channel names are not unique, found duplicates for: {'T8-P8'}. Applying running numbers for duplicates.\n",
      "  edf = mne.io.read_raw_edf(edf_filename,stim_channel=None)\n"
     ]
    },
    {
     "output_type": "stream",
     "name": "stdout",
     "text": [
      "(23, 3686400)\n",
      "Extracting EDF parameters from d:\\salma\\UNI\\Sem8\\WS\\physionet.org\\files\\chbmit\\1.0.0\\chb09\\chb09_04.edf...\n",
      "EDF file detected\n",
      "Setting channel info structure...\n",
      "Creating raw.info structure...\n"
     ]
    },
    {
     "output_type": "stream",
     "name": "stderr",
     "text": [
      "<ipython-input-2-2015fd87c072>:4: RuntimeWarning: Channel names are not unique, found duplicates for: {'T8-P8'}. Applying running numbers for duplicates.\n",
      "  edf = mne.io.read_raw_edf(edf_filename,stim_channel=None)\n"
     ]
    },
    {
     "output_type": "stream",
     "name": "stdout",
     "text": [
      "(23, 3690240)\n",
      "Extracting EDF parameters from d:\\salma\\UNI\\Sem8\\WS\\physionet.org\\files\\chbmit\\1.0.0\\chb09\\chb09_05.edf...\n",
      "EDF file detected\n",
      "Setting channel info structure...\n",
      "Creating raw.info structure...\n"
     ]
    },
    {
     "output_type": "stream",
     "name": "stderr",
     "text": [
      "<ipython-input-2-2015fd87c072>:4: RuntimeWarning: Channel names are not unique, found duplicates for: {'T8-P8'}. Applying running numbers for duplicates.\n",
      "  edf = mne.io.read_raw_edf(edf_filename,stim_channel=None)\n"
     ]
    },
    {
     "output_type": "stream",
     "name": "stdout",
     "text": [
      "(23, 3686400)\n",
      "Extracting EDF parameters from d:\\salma\\UNI\\Sem8\\WS\\physionet.org\\files\\chbmit\\1.0.0\\chb09\\chb09_06.edf...\n",
      "EDF file detected\n",
      "Setting channel info structure...\n",
      "Creating raw.info structure...\n"
     ]
    },
    {
     "output_type": "stream",
     "name": "stderr",
     "text": [
      "<ipython-input-2-2015fd87c072>:4: RuntimeWarning: Channel names are not unique, found duplicates for: {'T8-P8'}. Applying running numbers for duplicates.\n",
      "  edf = mne.io.read_raw_edf(edf_filename,stim_channel=None)\n"
     ]
    },
    {
     "output_type": "stream",
     "name": "stdout",
     "text": [
      "(23, 3686144)\n",
      "12231\n",
      "12295\n",
      "Extracting EDF parameters from d:\\salma\\UNI\\Sem8\\WS\\physionet.org\\files\\chbmit\\1.0.0\\chb09\\chb09_07.edf...\n",
      "EDF file detected\n",
      "Setting channel info structure...\n",
      "Creating raw.info structure...\n"
     ]
    },
    {
     "output_type": "stream",
     "name": "stderr",
     "text": [
      "<ipython-input-2-2015fd87c072>:4: RuntimeWarning: Channel names are not unique, found duplicates for: {'T8-P8'}. Applying running numbers for duplicates.\n",
      "  edf = mne.io.read_raw_edf(edf_filename,stim_channel=None)\n"
     ]
    },
    {
     "output_type": "stream",
     "name": "stdout",
     "text": [
      "(23, 3686400)\n",
      "Extracting EDF parameters from d:\\salma\\UNI\\Sem8\\WS\\physionet.org\\files\\chbmit\\1.0.0\\chb09\\chb09_08.edf...\n",
      "EDF file detected\n",
      "Setting channel info structure...\n",
      "Creating raw.info structure...\n"
     ]
    },
    {
     "output_type": "stream",
     "name": "stderr",
     "text": [
      "<ipython-input-2-2015fd87c072>:4: RuntimeWarning: Channel names are not unique, found duplicates for: {'T8-P8'}. Applying running numbers for duplicates.\n",
      "  edf = mne.io.read_raw_edf(edf_filename,stim_channel=None)\n"
     ]
    },
    {
     "output_type": "stream",
     "name": "stdout",
     "text": [
      "(23, 3686400)\n",
      "2951\n",
      "3030\n",
      "9196\n",
      "9267\n",
      "Extracting EDF parameters from d:\\salma\\UNI\\Sem8\\WS\\physionet.org\\files\\chbmit\\1.0.0\\chb09\\chb09_09.edf...\n",
      "EDF file detected\n",
      "Setting channel info structure...\n",
      "Creating raw.info structure...\n"
     ]
    },
    {
     "output_type": "stream",
     "name": "stderr",
     "text": [
      "<ipython-input-2-2015fd87c072>:4: RuntimeWarning: Channel names are not unique, found duplicates for: {'T8-P8'}. Applying running numbers for duplicates.\n",
      "  edf = mne.io.read_raw_edf(edf_filename,stim_channel=None)\n"
     ]
    },
    {
     "output_type": "stream",
     "name": "stdout",
     "text": [
      "(23, 3686400)\n",
      "Extracting EDF parameters from d:\\salma\\UNI\\Sem8\\WS\\physionet.org\\files\\chbmit\\1.0.0\\chb09\\chb09_10.edf...\n",
      "EDF file detected\n",
      "Setting channel info structure...\n",
      "Creating raw.info structure...\n"
     ]
    },
    {
     "output_type": "stream",
     "name": "stderr",
     "text": [
      "<ipython-input-2-2015fd87c072>:4: RuntimeWarning: Channel names are not unique, found duplicates for: {'T8-P8'}. Applying running numbers for duplicates.\n",
      "  edf = mne.io.read_raw_edf(edf_filename,stim_channel=None)\n"
     ]
    },
    {
     "output_type": "stream",
     "name": "stdout",
     "text": [
      "(23, 3686400)\n",
      "Extracting EDF parameters from d:\\salma\\UNI\\Sem8\\WS\\physionet.org\\files\\chbmit\\1.0.0\\chb09\\chb09_11.edf...\n",
      "EDF file detected\n",
      "Setting channel info structure...\n",
      "Creating raw.info structure...\n"
     ]
    },
    {
     "output_type": "stream",
     "name": "stderr",
     "text": [
      "<ipython-input-2-2015fd87c072>:4: RuntimeWarning: Channel names are not unique, found duplicates for: {'T8-P8'}. Applying running numbers for duplicates.\n",
      "  edf = mne.io.read_raw_edf(edf_filename,stim_channel=None)\n"
     ]
    },
    {
     "output_type": "stream",
     "name": "stdout",
     "text": [
      "(23, 3686400)\n",
      "Extracting EDF parameters from d:\\salma\\UNI\\Sem8\\WS\\physionet.org\\files\\chbmit\\1.0.0\\chb09\\chb09_12.edf...\n",
      "EDF file detected\n",
      "Setting channel info structure...\n",
      "Creating raw.info structure...\n"
     ]
    },
    {
     "output_type": "stream",
     "name": "stderr",
     "text": [
      "<ipython-input-2-2015fd87c072>:4: RuntimeWarning: Channel names are not unique, found duplicates for: {'T8-P8'}. Applying running numbers for duplicates.\n",
      "  edf = mne.io.read_raw_edf(edf_filename,stim_channel=None)\n"
     ]
    },
    {
     "output_type": "stream",
     "name": "stdout",
     "text": [
      "(23, 3686400)\n",
      "Extracting EDF parameters from d:\\salma\\UNI\\Sem8\\WS\\physionet.org\\files\\chbmit\\1.0.0\\chb09\\chb09_13.edf...\n",
      "EDF file detected\n",
      "Setting channel info structure...\n",
      "Creating raw.info structure...\n"
     ]
    },
    {
     "output_type": "stream",
     "name": "stderr",
     "text": [
      "<ipython-input-2-2015fd87c072>:4: RuntimeWarning: Channel names are not unique, found duplicates for: {'T8-P8'}. Applying running numbers for duplicates.\n",
      "  edf = mne.io.read_raw_edf(edf_filename,stim_channel=None)\n"
     ]
    },
    {
     "output_type": "stream",
     "name": "stdout",
     "text": [
      "(23, 3687680)\n",
      "Extracting EDF parameters from d:\\salma\\UNI\\Sem8\\WS\\physionet.org\\files\\chbmit\\1.0.0\\chb09\\chb09_14.edf...\n",
      "EDF file detected\n",
      "Setting channel info structure...\n",
      "Creating raw.info structure...\n"
     ]
    },
    {
     "output_type": "stream",
     "name": "stderr",
     "text": [
      "<ipython-input-2-2015fd87c072>:4: RuntimeWarning: Channel names are not unique, found duplicates for: {'T8-P8'}. Applying running numbers for duplicates.\n",
      "  edf = mne.io.read_raw_edf(edf_filename,stim_channel=None)\n"
     ]
    },
    {
     "output_type": "stream",
     "name": "stdout",
     "text": [
      "(23, 3689216)\n",
      "Extracting EDF parameters from d:\\salma\\UNI\\Sem8\\WS\\physionet.org\\files\\chbmit\\1.0.0\\chb09\\chb09_15.edf...\n",
      "EDF file detected\n",
      "Setting channel info structure...\n",
      "Creating raw.info structure...\n"
     ]
    },
    {
     "output_type": "stream",
     "name": "stderr",
     "text": [
      "<ipython-input-2-2015fd87c072>:4: RuntimeWarning: Channel names are not unique, found duplicates for: {'T8-P8'}. Applying running numbers for duplicates.\n",
      "  edf = mne.io.read_raw_edf(edf_filename,stim_channel=None)\n"
     ]
    },
    {
     "output_type": "stream",
     "name": "stdout",
     "text": [
      "(23, 3691776)\n",
      "Extracting EDF parameters from d:\\salma\\UNI\\Sem8\\WS\\physionet.org\\files\\chbmit\\1.0.0\\chb09\\chb09_16.edf...\n",
      "EDF file detected\n",
      "Setting channel info structure...\n",
      "Creating raw.info structure...\n"
     ]
    },
    {
     "output_type": "stream",
     "name": "stderr",
     "text": [
      "<ipython-input-2-2015fd87c072>:4: RuntimeWarning: Channel names are not unique, found duplicates for: {'T8-P8'}. Applying running numbers for duplicates.\n",
      "  edf = mne.io.read_raw_edf(edf_filename,stim_channel=None)\n"
     ]
    },
    {
     "output_type": "stream",
     "name": "stdout",
     "text": [
      "(23, 3479296)\n",
      "Extracting EDF parameters from d:\\salma\\UNI\\Sem8\\WS\\physionet.org\\files\\chbmit\\1.0.0\\chb09\\chb09_17.edf...\n",
      "EDF file detected\n",
      "Setting channel info structure...\n",
      "Creating raw.info structure...\n"
     ]
    },
    {
     "output_type": "stream",
     "name": "stderr",
     "text": [
      "<ipython-input-2-2015fd87c072>:4: RuntimeWarning: Channel names are not unique, found duplicates for: {'T8-P8'}. Applying running numbers for duplicates.\n",
      "  edf = mne.io.read_raw_edf(edf_filename,stim_channel=None)\n"
     ]
    },
    {
     "output_type": "stream",
     "name": "stdout",
     "text": [
      "(23, 249344)\n",
      "Extracting EDF parameters from d:\\salma\\UNI\\Sem8\\WS\\physionet.org\\files\\chbmit\\1.0.0\\chb09\\chb09_18.edf...\n",
      "EDF file detected\n",
      "Setting channel info structure...\n",
      "Creating raw.info structure...\n"
     ]
    },
    {
     "output_type": "stream",
     "name": "stderr",
     "text": [
      "<ipython-input-2-2015fd87c072>:4: RuntimeWarning: Channel names are not unique, found duplicates for: {'T8-P8'}. Applying running numbers for duplicates.\n",
      "  edf = mne.io.read_raw_edf(edf_filename,stim_channel=None)\n"
     ]
    },
    {
     "output_type": "stream",
     "name": "stdout",
     "text": [
      "(23, 3686400)\n",
      "Extracting EDF parameters from d:\\salma\\UNI\\Sem8\\WS\\physionet.org\\files\\chbmit\\1.0.0\\chb09\\chb09_19.edf...\n",
      "EDF file detected\n",
      "Setting channel info structure...\n",
      "Creating raw.info structure...\n"
     ]
    },
    {
     "output_type": "stream",
     "name": "stderr",
     "text": [
      "<ipython-input-2-2015fd87c072>:4: RuntimeWarning: Channel names are not unique, found duplicates for: {'T8-P8'}. Applying running numbers for duplicates.\n",
      "  edf = mne.io.read_raw_edf(edf_filename,stim_channel=None)\n"
     ]
    },
    {
     "output_type": "stream",
     "name": "stdout",
     "text": [
      "(23, 1459200)\n",
      "5299\n",
      "5361\n",
      "file: 0 , shape: (23, 2053888) \n",
      "total number of windows: 1603.0 , number of windows discarded: 0 \n",
      "file: 1 , shape: (23, 3686144) \n",
      "total number of windows: 2878.0 , number of windows discarded: 0 \n",
      "file: 2 , shape: (23, 3686400) \n",
      "total number of windows: 2878.0 , number of windows discarded: 0 \n",
      "file: 3 , shape: (23, 3690240) \n",
      "total number of windows: 2881.0 , number of windows discarded: 0 \n",
      "file: 4 , shape: (23, 3686400) \n",
      "total number of windows: 2878.0 , number of windows discarded: 0 \n",
      "file: 5 , shape: (23, 3686144) \n",
      "total number of windows: 2878.0 , number of windows discarded: 8 \n",
      "file: 6 , shape: (23, 3686400) \n",
      "total number of windows: 2878.0 , number of windows discarded: 0 \n",
      "file: 7 , shape: (23, 3686400) \n",
      "total number of windows: 2878.0 , number of windows discarded: 14 \n",
      "file: 8 , shape: (23, 3686400) \n",
      "total number of windows: 2878.0 , number of windows discarded: 0 \n",
      "file: 9 , shape: (23, 3686400) \n",
      "total number of windows: 2878.0 , number of windows discarded: 0 \n",
      "file: 10 , shape: (23, 3686400) \n",
      "total number of windows: 2878.0 , number of windows discarded: 0 \n",
      "file: 11 , shape: (23, 3686400) \n",
      "total number of windows: 2878.0 , number of windows discarded: 0 \n",
      "file: 12 , shape: (23, 3687680) \n",
      "total number of windows: 2879.0 , number of windows discarded: 0 \n",
      "file: 13 , shape: (23, 3689216) \n",
      "total number of windows: 2881.0 , number of windows discarded: 0 \n",
      "file: 14 , shape: (23, 3691776) \n",
      "total number of windows: 2883.0 , number of windows discarded: 0 \n",
      "file: 15 , shape: (23, 3479296) \n",
      "total number of windows: 2717.0 , number of windows discarded: 0 \n",
      "file: 16 , shape: (23, 249344) \n",
      "total number of windows: 193.0 , number of windows discarded: 0 \n",
      "file: 17 , shape: (23, 3686400) \n",
      "total number of windows: 2878.0 , number of windows discarded: 0 \n",
      "file: 18 , shape: (23, 1459200) \n",
      "total number of windows: 1138.0 , number of windows discarded: 8 \n",
      "Extracting EDF parameters from d:\\salma\\UNI\\Sem8\\WS\\physionet.org\\files\\chbmit\\1.0.0\\chb10\\chb10_01.edf...\n",
      "EDF file detected\n",
      "Setting channel info structure...\n",
      "Creating raw.info structure...\n"
     ]
    },
    {
     "output_type": "stream",
     "name": "stderr",
     "text": [
      "<ipython-input-2-2015fd87c072>:4: RuntimeWarning: Channel names are not unique, found duplicates for: {'T8-P8'}. Applying running numbers for duplicates.\n",
      "  edf = mne.io.read_raw_edf(edf_filename,stim_channel=None)\n"
     ]
    },
    {
     "output_type": "stream",
     "name": "stdout",
     "text": [
      "(23, 1848320)\n",
      "Extracting EDF parameters from d:\\salma\\UNI\\Sem8\\WS\\physionet.org\\files\\chbmit\\1.0.0\\chb10\\chb10_02.edf...\n",
      "EDF file detected\n",
      "Setting channel info structure...\n",
      "Creating raw.info structure...\n"
     ]
    },
    {
     "output_type": "stream",
     "name": "stderr",
     "text": [
      "<ipython-input-2-2015fd87c072>:4: RuntimeWarning: Channel names are not unique, found duplicates for: {'T8-P8'}. Applying running numbers for duplicates.\n",
      "  edf = mne.io.read_raw_edf(edf_filename,stim_channel=None)\n"
     ]
    },
    {
     "output_type": "stream",
     "name": "stdout",
     "text": [
      "(23, 1843200)\n",
      "Extracting EDF parameters from d:\\salma\\UNI\\Sem8\\WS\\physionet.org\\files\\chbmit\\1.0.0\\chb10\\chb10_03.edf...\n",
      "EDF file detected\n",
      "Setting channel info structure...\n",
      "Creating raw.info structure...\n"
     ]
    },
    {
     "output_type": "stream",
     "name": "stderr",
     "text": [
      "<ipython-input-2-2015fd87c072>:4: RuntimeWarning: Channel names are not unique, found duplicates for: {'T8-P8'}. Applying running numbers for duplicates.\n",
      "  edf = mne.io.read_raw_edf(edf_filename,stim_channel=None)\n"
     ]
    },
    {
     "output_type": "stream",
     "name": "stdout",
     "text": [
      "(23, 1843200)\n",
      "Extracting EDF parameters from d:\\salma\\UNI\\Sem8\\WS\\physionet.org\\files\\chbmit\\1.0.0\\chb10\\chb10_04.edf...\n",
      "EDF file detected\n",
      "Setting channel info structure...\n",
      "Creating raw.info structure...\n"
     ]
    },
    {
     "output_type": "stream",
     "name": "stderr",
     "text": [
      "<ipython-input-2-2015fd87c072>:4: RuntimeWarning: Channel names are not unique, found duplicates for: {'T8-P8'}. Applying running numbers for duplicates.\n",
      "  edf = mne.io.read_raw_edf(edf_filename,stim_channel=None)\n"
     ]
    },
    {
     "output_type": "stream",
     "name": "stdout",
     "text": [
      "(23, 1843200)\n",
      "Extracting EDF parameters from d:\\salma\\UNI\\Sem8\\WS\\physionet.org\\files\\chbmit\\1.0.0\\chb10\\chb10_05.edf...\n",
      "EDF file detected\n",
      "Setting channel info structure...\n",
      "Creating raw.info structure...\n"
     ]
    },
    {
     "output_type": "stream",
     "name": "stderr",
     "text": [
      "<ipython-input-2-2015fd87c072>:4: RuntimeWarning: Channel names are not unique, found duplicates for: {'T8-P8'}. Applying running numbers for duplicates.\n",
      "  edf = mne.io.read_raw_edf(edf_filename,stim_channel=None)\n"
     ]
    },
    {
     "output_type": "stream",
     "name": "stdout",
     "text": [
      "(23, 1843200)\n",
      "Extracting EDF parameters from d:\\salma\\UNI\\Sem8\\WS\\physionet.org\\files\\chbmit\\1.0.0\\chb10\\chb10_06.edf...\n",
      "EDF file detected\n",
      "Setting channel info structure...\n",
      "Creating raw.info structure...\n"
     ]
    },
    {
     "output_type": "stream",
     "name": "stderr",
     "text": [
      "<ipython-input-2-2015fd87c072>:4: RuntimeWarning: Channel names are not unique, found duplicates for: {'T8-P8'}. Applying running numbers for duplicates.\n",
      "  edf = mne.io.read_raw_edf(edf_filename,stim_channel=None)\n"
     ]
    },
    {
     "output_type": "stream",
     "name": "stdout",
     "text": [
      "(23, 1843200)\n",
      "Extracting EDF parameters from d:\\salma\\UNI\\Sem8\\WS\\physionet.org\\files\\chbmit\\1.0.0\\chb10\\chb10_07.edf...\n",
      "EDF file detected\n",
      "Setting channel info structure...\n",
      "Creating raw.info structure...\n"
     ]
    },
    {
     "output_type": "stream",
     "name": "stderr",
     "text": [
      "<ipython-input-2-2015fd87c072>:4: RuntimeWarning: Channel names are not unique, found duplicates for: {'T8-P8'}. Applying running numbers for duplicates.\n",
      "  edf = mne.io.read_raw_edf(edf_filename,stim_channel=None)\n"
     ]
    },
    {
     "output_type": "stream",
     "name": "stdout",
     "text": [
      "(23, 1843200)\n",
      "Extracting EDF parameters from d:\\salma\\UNI\\Sem8\\WS\\physionet.org\\files\\chbmit\\1.0.0\\chb10\\chb10_08.edf...\n",
      "EDF file detected\n",
      "Setting channel info structure...\n",
      "Creating raw.info structure...\n"
     ]
    },
    {
     "output_type": "stream",
     "name": "stderr",
     "text": [
      "<ipython-input-2-2015fd87c072>:4: RuntimeWarning: Channel names are not unique, found duplicates for: {'T8-P8'}. Applying running numbers for duplicates.\n",
      "  edf = mne.io.read_raw_edf(edf_filename,stim_channel=None)\n"
     ]
    },
    {
     "output_type": "stream",
     "name": "stdout",
     "text": [
      "(23, 1843200)\n",
      "Extracting EDF parameters from d:\\salma\\UNI\\Sem8\\WS\\physionet.org\\files\\chbmit\\1.0.0\\chb10\\chb10_12.edf...\n",
      "EDF file detected\n",
      "Setting channel info structure...\n",
      "Creating raw.info structure...\n"
     ]
    },
    {
     "output_type": "stream",
     "name": "stderr",
     "text": [
      "<ipython-input-2-2015fd87c072>:4: RuntimeWarning: Channel names are not unique, found duplicates for: {'T8-P8'}. Applying running numbers for duplicates.\n",
      "  edf = mne.io.read_raw_edf(edf_filename,stim_channel=None)\n"
     ]
    },
    {
     "output_type": "stream",
     "name": "stdout",
     "text": [
      "(23, 1843200)\n",
      "6313\n",
      "6348\n",
      "Extracting EDF parameters from d:\\salma\\UNI\\Sem8\\WS\\physionet.org\\files\\chbmit\\1.0.0\\chb10\\chb10_13.edf...\n",
      "EDF file detected\n",
      "Setting channel info structure...\n",
      "Creating raw.info structure...\n"
     ]
    },
    {
     "output_type": "stream",
     "name": "stderr",
     "text": [
      "<ipython-input-2-2015fd87c072>:4: RuntimeWarning: Channel names are not unique, found duplicates for: {'T8-P8'}. Applying running numbers for duplicates.\n",
      "  edf = mne.io.read_raw_edf(edf_filename,stim_channel=None)\n"
     ]
    },
    {
     "output_type": "stream",
     "name": "stdout",
     "text": [
      "(23, 1843200)\n",
      "Extracting EDF parameters from d:\\salma\\UNI\\Sem8\\WS\\physionet.org\\files\\chbmit\\1.0.0\\chb10\\chb10_14.edf...\n",
      "EDF file detected\n",
      "Setting channel info structure...\n",
      "Creating raw.info structure...\n"
     ]
    },
    {
     "output_type": "stream",
     "name": "stderr",
     "text": [
      "<ipython-input-2-2015fd87c072>:4: RuntimeWarning: Channel names are not unique, found duplicates for: {'T8-P8'}. Applying running numbers for duplicates.\n",
      "  edf = mne.io.read_raw_edf(edf_filename,stim_channel=None)\n"
     ]
    },
    {
     "output_type": "stream",
     "name": "stdout",
     "text": [
      "(23, 1843200)\n",
      "Extracting EDF parameters from d:\\salma\\UNI\\Sem8\\WS\\physionet.org\\files\\chbmit\\1.0.0\\chb10\\chb10_15.edf...\n",
      "EDF file detected\n",
      "Setting channel info structure...\n",
      "Creating raw.info structure...\n"
     ]
    },
    {
     "output_type": "stream",
     "name": "stderr",
     "text": [
      "<ipython-input-2-2015fd87c072>:4: RuntimeWarning: Channel names are not unique, found duplicates for: {'T8-P8'}. Applying running numbers for duplicates.\n",
      "  edf = mne.io.read_raw_edf(edf_filename,stim_channel=None)\n"
     ]
    },
    {
     "output_type": "stream",
     "name": "stdout",
     "text": [
      "(23, 1843200)\n",
      "Extracting EDF parameters from d:\\salma\\UNI\\Sem8\\WS\\physionet.org\\files\\chbmit\\1.0.0\\chb10\\chb10_16.edf...\n",
      "EDF file detected\n",
      "Setting channel info structure...\n",
      "Creating raw.info structure...\n"
     ]
    },
    {
     "output_type": "stream",
     "name": "stderr",
     "text": [
      "<ipython-input-2-2015fd87c072>:4: RuntimeWarning: Channel names are not unique, found duplicates for: {'T8-P8'}. Applying running numbers for duplicates.\n",
      "  edf = mne.io.read_raw_edf(edf_filename,stim_channel=None)\n"
     ]
    },
    {
     "output_type": "stream",
     "name": "stdout",
     "text": [
      "(23, 1843200)\n",
      "Extracting EDF parameters from d:\\salma\\UNI\\Sem8\\WS\\physionet.org\\files\\chbmit\\1.0.0\\chb10\\chb10_17.edf...\n",
      "EDF file detected\n",
      "Setting channel info structure...\n",
      "Creating raw.info structure...\n"
     ]
    },
    {
     "output_type": "stream",
     "name": "stderr",
     "text": [
      "<ipython-input-2-2015fd87c072>:4: RuntimeWarning: Channel names are not unique, found duplicates for: {'T8-P8'}. Applying running numbers for duplicates.\n",
      "  edf = mne.io.read_raw_edf(edf_filename,stim_channel=None)\n"
     ]
    },
    {
     "output_type": "stream",
     "name": "stdout",
     "text": [
      "(23, 1843200)\n",
      "Extracting EDF parameters from d:\\salma\\UNI\\Sem8\\WS\\physionet.org\\files\\chbmit\\1.0.0\\chb10\\chb10_18.edf...\n",
      "EDF file detected\n",
      "Setting channel info structure...\n",
      "Creating raw.info structure...\n"
     ]
    },
    {
     "output_type": "stream",
     "name": "stderr",
     "text": [
      "<ipython-input-2-2015fd87c072>:4: RuntimeWarning: Channel names are not unique, found duplicates for: {'T8-P8'}. Applying running numbers for duplicates.\n",
      "  edf = mne.io.read_raw_edf(edf_filename,stim_channel=None)\n"
     ]
    },
    {
     "output_type": "stream",
     "name": "stdout",
     "text": [
      "(23, 1843200)\n",
      "Extracting EDF parameters from d:\\salma\\UNI\\Sem8\\WS\\physionet.org\\files\\chbmit\\1.0.0\\chb10\\chb10_19.edf...\n",
      "EDF file detected\n",
      "Setting channel info structure...\n",
      "Creating raw.info structure...\n"
     ]
    },
    {
     "output_type": "stream",
     "name": "stderr",
     "text": [
      "<ipython-input-2-2015fd87c072>:4: RuntimeWarning: Channel names are not unique, found duplicates for: {'T8-P8'}. Applying running numbers for duplicates.\n",
      "  edf = mne.io.read_raw_edf(edf_filename,stim_channel=None)\n"
     ]
    },
    {
     "output_type": "stream",
     "name": "stdout",
     "text": [
      "(23, 1843200)\n",
      "Extracting EDF parameters from d:\\salma\\UNI\\Sem8\\WS\\physionet.org\\files\\chbmit\\1.0.0\\chb10\\chb10_20.edf...\n",
      "EDF file detected\n",
      "Setting channel info structure...\n",
      "Creating raw.info structure...\n"
     ]
    },
    {
     "output_type": "stream",
     "name": "stderr",
     "text": [
      "<ipython-input-2-2015fd87c072>:4: RuntimeWarning: Channel names are not unique, found duplicates for: {'T8-P8'}. Applying running numbers for duplicates.\n",
      "  edf = mne.io.read_raw_edf(edf_filename,stim_channel=None)\n"
     ]
    },
    {
     "output_type": "stream",
     "name": "stdout",
     "text": [
      "(23, 1846272)\n",
      "6888\n",
      "6958\n",
      "Extracting EDF parameters from d:\\salma\\UNI\\Sem8\\WS\\physionet.org\\files\\chbmit\\1.0.0\\chb10\\chb10_21.edf...\n",
      "EDF file detected\n",
      "Setting channel info structure...\n",
      "Creating raw.info structure...\n"
     ]
    },
    {
     "output_type": "stream",
     "name": "stderr",
     "text": [
      "<ipython-input-2-2015fd87c072>:4: RuntimeWarning: Channel names are not unique, found duplicates for: {'T8-P8'}. Applying running numbers for duplicates.\n",
      "  edf = mne.io.read_raw_edf(edf_filename,stim_channel=None)\n"
     ]
    },
    {
     "output_type": "stream",
     "name": "stdout",
     "text": [
      "(23, 1843200)\n",
      "Extracting EDF parameters from d:\\salma\\UNI\\Sem8\\WS\\physionet.org\\files\\chbmit\\1.0.0\\chb10\\chb10_22.edf...\n",
      "EDF file detected\n",
      "Setting channel info structure...\n",
      "Creating raw.info structure...\n"
     ]
    },
    {
     "output_type": "stream",
     "name": "stderr",
     "text": [
      "<ipython-input-2-2015fd87c072>:4: RuntimeWarning: Channel names are not unique, found duplicates for: {'T8-P8'}. Applying running numbers for duplicates.\n",
      "  edf = mne.io.read_raw_edf(edf_filename,stim_channel=None)\n"
     ]
    },
    {
     "output_type": "stream",
     "name": "stdout",
     "text": [
      "(23, 1843200)\n",
      "Extracting EDF parameters from d:\\salma\\UNI\\Sem8\\WS\\physionet.org\\files\\chbmit\\1.0.0\\chb10\\chb10_27.edf...\n",
      "EDF file detected\n",
      "Setting channel info structure...\n",
      "Creating raw.info structure...\n"
     ]
    },
    {
     "output_type": "stream",
     "name": "stderr",
     "text": [
      "<ipython-input-2-2015fd87c072>:4: RuntimeWarning: Channel names are not unique, found duplicates for: {'T8-P8'}. Applying running numbers for duplicates.\n",
      "  edf = mne.io.read_raw_edf(edf_filename,stim_channel=None)\n"
     ]
    },
    {
     "output_type": "stream",
     "name": "stdout",
     "text": [
      "(23, 1847808)\n",
      "2382\n",
      "2447\n",
      "Extracting EDF parameters from d:\\salma\\UNI\\Sem8\\WS\\physionet.org\\files\\chbmit\\1.0.0\\chb10\\chb10_28.edf...\n",
      "EDF file detected\n",
      "Setting channel info structure...\n",
      "Creating raw.info structure...\n"
     ]
    },
    {
     "output_type": "stream",
     "name": "stderr",
     "text": [
      "<ipython-input-2-2015fd87c072>:4: RuntimeWarning: Channel names are not unique, found duplicates for: {'T8-P8'}. Applying running numbers for duplicates.\n",
      "  edf = mne.io.read_raw_edf(edf_filename,stim_channel=None)\n"
     ]
    },
    {
     "output_type": "stream",
     "name": "stdout",
     "text": [
      "(23, 1843200)\n",
      "Extracting EDF parameters from d:\\salma\\UNI\\Sem8\\WS\\physionet.org\\files\\chbmit\\1.0.0\\chb10\\chb10_30.edf...\n",
      "EDF file detected\n",
      "Setting channel info structure...\n",
      "Creating raw.info structure...\n"
     ]
    },
    {
     "output_type": "stream",
     "name": "stderr",
     "text": [
      "<ipython-input-2-2015fd87c072>:4: RuntimeWarning: Channel names are not unique, found duplicates for: {'T8-P8'}. Applying running numbers for duplicates.\n",
      "  edf = mne.io.read_raw_edf(edf_filename,stim_channel=None)\n"
     ]
    },
    {
     "output_type": "stream",
     "name": "stdout",
     "text": [
      "(23, 1846528)\n",
      "3021\n",
      "3079\n",
      "Extracting EDF parameters from d:\\salma\\UNI\\Sem8\\WS\\physionet.org\\files\\chbmit\\1.0.0\\chb10\\chb10_31.edf...\n",
      "EDF file detected\n",
      "Setting channel info structure...\n",
      "Creating raw.info structure...\n"
     ]
    },
    {
     "output_type": "stream",
     "name": "stderr",
     "text": [
      "<ipython-input-2-2015fd87c072>:4: RuntimeWarning: Channel names are not unique, found duplicates for: {'T8-P8'}. Applying running numbers for duplicates.\n",
      "  edf = mne.io.read_raw_edf(edf_filename,stim_channel=None)\n"
     ]
    },
    {
     "output_type": "stream",
     "name": "stdout",
     "text": [
      "(23, 1848576)\n",
      "3801\n",
      "3877\n",
      "Extracting EDF parameters from d:\\salma\\UNI\\Sem8\\WS\\physionet.org\\files\\chbmit\\1.0.0\\chb10\\chb10_38.edf...\n",
      "EDF file detected\n",
      "Setting channel info structure...\n",
      "Creating raw.info structure...\n"
     ]
    },
    {
     "output_type": "stream",
     "name": "stderr",
     "text": [
      "<ipython-input-2-2015fd87c072>:4: RuntimeWarning: Channel names are not unique, found duplicates for: {'T8-P8'}. Applying running numbers for duplicates.\n",
      "  edf = mne.io.read_raw_edf(edf_filename,stim_channel=None)\n"
     ]
    },
    {
     "output_type": "stream",
     "name": "stdout",
     "text": [
      "(23, 1843200)\n",
      "4618\n",
      "4707\n",
      "Extracting EDF parameters from d:\\salma\\UNI\\Sem8\\WS\\physionet.org\\files\\chbmit\\1.0.0\\chb10\\chb10_89.edf...\n",
      "EDF file detected\n",
      "Setting channel info structure...\n",
      "Creating raw.info structure...\n"
     ]
    },
    {
     "output_type": "stream",
     "name": "stderr",
     "text": [
      "<ipython-input-2-2015fd87c072>:4: RuntimeWarning: Channel names are not unique, found duplicates for: {'T8-P8'}. Applying running numbers for duplicates.\n",
      "  edf = mne.io.read_raw_edf(edf_filename,stim_channel=None)\n"
     ]
    },
    {
     "output_type": "stream",
     "name": "stdout",
     "text": [
      "(23, 1843200)\n",
      "1383\n",
      "1437\n",
      "file: 0 , shape: (23, 1848320) \n",
      "total number of windows: 1442.0 , number of windows discarded: 0 \n",
      "file: 1 , shape: (23, 1843200) \n",
      "total number of windows: 1438.0 , number of windows discarded: 0 \n",
      "file: 2 , shape: (23, 1843200) \n",
      "total number of windows: 1438.0 , number of windows discarded: 0 \n",
      "file: 3 , shape: (23, 1843200) \n",
      "total number of windows: 1438.0 , number of windows discarded: 0 \n",
      "file: 4 , shape: (23, 1843200) \n",
      "total number of windows: 1438.0 , number of windows discarded: 0 \n",
      "file: 5 , shape: (23, 1843200) \n",
      "total number of windows: 1438.0 , number of windows discarded: 0 \n",
      "file: 6 , shape: (23, 1843200) \n",
      "total number of windows: 1438.0 , number of windows discarded: 0 \n",
      "file: 7 , shape: (23, 1843200) \n",
      "total number of windows: 1438.0 , number of windows discarded: 0 \n",
      "file: 8 , shape: (23, 1843200) \n",
      "total number of windows: 1438.0 , number of windows discarded: 8 \n",
      "file: 9 , shape: (23, 1843200) \n",
      "total number of windows: 1438.0 , number of windows discarded: 0 \n",
      "file: 10 , shape: (23, 1843200) \n",
      "total number of windows: 1438.0 , number of windows discarded: 0 \n",
      "file: 11 , shape: (23, 1843200) \n",
      "total number of windows: 1438.0 , number of windows discarded: 0 \n",
      "file: 12 , shape: (23, 1843200) \n",
      "total number of windows: 1438.0 , number of windows discarded: 0 \n",
      "file: 13 , shape: (23, 1843200) \n",
      "total number of windows: 1438.0 , number of windows discarded: 0 \n",
      "file: 14 , shape: (23, 1843200) \n",
      "total number of windows: 1438.0 , number of windows discarded: 0 \n",
      "file: 15 , shape: (23, 1843200) \n",
      "total number of windows: 1438.0 , number of windows discarded: 0 \n",
      "file: 16 , shape: (23, 1846272) \n",
      "total number of windows: 1441.0 , number of windows discarded: 8 \n",
      "file: 17 , shape: (23, 1843200) \n",
      "total number of windows: 1438.0 , number of windows discarded: 0 \n",
      "file: 18 , shape: (23, 1843200) \n",
      "total number of windows: 1438.0 , number of windows discarded: 0 \n",
      "file: 19 , shape: (23, 1847808) \n",
      "total number of windows: 1442.0 , number of windows discarded: 8 \n",
      "file: 20 , shape: (23, 1843200) \n",
      "total number of windows: 1438.0 , number of windows discarded: 0 \n",
      "file: 21 , shape: (23, 1846528) \n",
      "total number of windows: 1441.0 , number of windows discarded: 6 \n",
      "file: 22 , shape: (23, 1848576) \n",
      "total number of windows: 1443.0 , number of windows discarded: 8 \n",
      "file: 23 , shape: (23, 1843200) \n",
      "total number of windows: 1438.0 , number of windows discarded: 8 \n",
      "file: 24 , shape: (23, 1843200) \n",
      "total number of windows: 1438.0 , number of windows discarded: 8 \n",
      "Extracting EDF parameters from d:\\salma\\UNI\\Sem8\\WS\\physionet.org\\files\\chbmit\\1.0.0\\chb11\\chb11_01.edf...\n",
      "EDF file detected\n",
      "Setting channel info structure...\n",
      "Creating raw.info structure...\n"
     ]
    },
    {
     "output_type": "stream",
     "name": "stderr",
     "text": [
      "<ipython-input-2-2015fd87c072>:4: RuntimeWarning: Channel names are not unique, found duplicates for: {'T8-P8'}. Applying running numbers for duplicates.\n",
      "  edf = mne.io.read_raw_edf(edf_filename,stim_channel=None)\n"
     ]
    },
    {
     "output_type": "stream",
     "name": "stdout",
     "text": [
      "(23, 921088)\n",
      "Extracting EDF parameters from d:\\salma\\UNI\\Sem8\\WS\\physionet.org\\files\\chbmit\\1.0.0\\chb11\\chb11_02.edf...\n",
      "EDF file detected\n",
      "Setting channel info structure...\n",
      "Creating raw.info structure...\n"
     ]
    },
    {
     "output_type": "stream",
     "name": "stderr",
     "text": [
      "<ipython-input-2-2015fd87c072>:4: RuntimeWarning: Channel names are not unique, found duplicates for: {'-', 'T8-P8'}. Applying running numbers for duplicates.\n",
      "  edf = mne.io.read_raw_edf(edf_filename,stim_channel=None)\n"
     ]
    },
    {
     "output_type": "stream",
     "name": "stdout",
     "text": [
      "(23, 921600)\n",
      "Extracting EDF parameters from d:\\salma\\UNI\\Sem8\\WS\\physionet.org\\files\\chbmit\\1.0.0\\chb11\\chb11_03.edf...\n",
      "EDF file detected\n",
      "Setting channel info structure...\n",
      "Creating raw.info structure...\n"
     ]
    },
    {
     "output_type": "stream",
     "name": "stderr",
     "text": [
      "<ipython-input-2-2015fd87c072>:4: RuntimeWarning: Channel names are not unique, found duplicates for: {'-', 'T8-P8'}. Applying running numbers for duplicates.\n",
      "  edf = mne.io.read_raw_edf(edf_filename,stim_channel=None)\n"
     ]
    },
    {
     "output_type": "stream",
     "name": "stdout",
     "text": [
      "(23, 921600)\n",
      "Extracting EDF parameters from d:\\salma\\UNI\\Sem8\\WS\\physionet.org\\files\\chbmit\\1.0.0\\chb11\\chb11_04.edf...\n",
      "EDF file detected\n",
      "Setting channel info structure...\n",
      "Creating raw.info structure...\n"
     ]
    },
    {
     "output_type": "stream",
     "name": "stderr",
     "text": [
      "<ipython-input-2-2015fd87c072>:4: RuntimeWarning: Channel names are not unique, found duplicates for: {'-', 'T8-P8'}. Applying running numbers for duplicates.\n",
      "  edf = mne.io.read_raw_edf(edf_filename,stim_channel=None)\n"
     ]
    },
    {
     "output_type": "stream",
     "name": "stdout",
     "text": [
      "(23, 921600)\n",
      "Extracting EDF parameters from d:\\salma\\UNI\\Sem8\\WS\\physionet.org\\files\\chbmit\\1.0.0\\chb11\\chb11_05.edf...\n",
      "EDF file detected\n",
      "Setting channel info structure...\n",
      "Creating raw.info structure...\n"
     ]
    },
    {
     "output_type": "stream",
     "name": "stderr",
     "text": [
      "<ipython-input-2-2015fd87c072>:4: RuntimeWarning: Channel names are not unique, found duplicates for: {'-', 'T8-P8'}. Applying running numbers for duplicates.\n",
      "  edf = mne.io.read_raw_edf(edf_filename,stim_channel=None)\n"
     ]
    },
    {
     "output_type": "stream",
     "name": "stdout",
     "text": [
      "(23, 921600)\n",
      "Extracting EDF parameters from d:\\salma\\UNI\\Sem8\\WS\\physionet.org\\files\\chbmit\\1.0.0\\chb11\\chb11_06.edf...\n",
      "EDF file detected\n",
      "Setting channel info structure...\n",
      "Creating raw.info structure...\n"
     ]
    },
    {
     "output_type": "stream",
     "name": "stderr",
     "text": [
      "<ipython-input-2-2015fd87c072>:4: RuntimeWarning: Channel names are not unique, found duplicates for: {'-', 'T8-P8'}. Applying running numbers for duplicates.\n",
      "  edf = mne.io.read_raw_edf(edf_filename,stim_channel=None)\n"
     ]
    },
    {
     "output_type": "stream",
     "name": "stdout",
     "text": [
      "(23, 921600)\n",
      "Extracting EDF parameters from d:\\salma\\UNI\\Sem8\\WS\\physionet.org\\files\\chbmit\\1.0.0\\chb11\\chb11_07.edf...\n",
      "EDF file detected\n",
      "Setting channel info structure...\n",
      "Creating raw.info structure...\n"
     ]
    },
    {
     "output_type": "stream",
     "name": "stderr",
     "text": [
      "<ipython-input-2-2015fd87c072>:4: RuntimeWarning: Channel names are not unique, found duplicates for: {'-', 'T8-P8'}. Applying running numbers for duplicates.\n",
      "  edf = mne.io.read_raw_edf(edf_filename,stim_channel=None)\n"
     ]
    },
    {
     "output_type": "stream",
     "name": "stdout",
     "text": [
      "(23, 921600)\n",
      "Extracting EDF parameters from d:\\salma\\UNI\\Sem8\\WS\\physionet.org\\files\\chbmit\\1.0.0\\chb11\\chb11_08.edf...\n",
      "EDF file detected\n",
      "Setting channel info structure...\n",
      "Creating raw.info structure...\n"
     ]
    },
    {
     "output_type": "stream",
     "name": "stderr",
     "text": [
      "<ipython-input-2-2015fd87c072>:4: RuntimeWarning: Channel names are not unique, found duplicates for: {'-', 'T8-P8'}. Applying running numbers for duplicates.\n",
      "  edf = mne.io.read_raw_edf(edf_filename,stim_channel=None)\n"
     ]
    },
    {
     "output_type": "stream",
     "name": "stdout",
     "text": [
      "(23, 921600)\n",
      "Extracting EDF parameters from d:\\salma\\UNI\\Sem8\\WS\\physionet.org\\files\\chbmit\\1.0.0\\chb11\\chb11_09.edf...\n",
      "EDF file detected\n",
      "Setting channel info structure...\n",
      "Creating raw.info structure...\n"
     ]
    },
    {
     "output_type": "stream",
     "name": "stderr",
     "text": [
      "<ipython-input-2-2015fd87c072>:4: RuntimeWarning: Channel names are not unique, found duplicates for: {'-', 'T8-P8'}. Applying running numbers for duplicates.\n",
      "  edf = mne.io.read_raw_edf(edf_filename,stim_channel=None)\n"
     ]
    },
    {
     "output_type": "stream",
     "name": "stdout",
     "text": [
      "(23, 921600)\n",
      "Extracting EDF parameters from d:\\salma\\UNI\\Sem8\\WS\\physionet.org\\files\\chbmit\\1.0.0\\chb11\\chb11_10.edf...\n",
      "EDF file detected\n",
      "Setting channel info structure...\n",
      "Creating raw.info structure...\n"
     ]
    },
    {
     "output_type": "stream",
     "name": "stderr",
     "text": [
      "<ipython-input-2-2015fd87c072>:4: RuntimeWarning: Channel names are not unique, found duplicates for: {'-', 'T8-P8'}. Applying running numbers for duplicates.\n",
      "  edf = mne.io.read_raw_edf(edf_filename,stim_channel=None)\n"
     ]
    },
    {
     "output_type": "stream",
     "name": "stdout",
     "text": [
      "(23, 921600)\n",
      "Extracting EDF parameters from d:\\salma\\UNI\\Sem8\\WS\\physionet.org\\files\\chbmit\\1.0.0\\chb11\\chb11_11.edf...\n",
      "EDF file detected\n",
      "Setting channel info structure...\n",
      "Creating raw.info structure...\n"
     ]
    },
    {
     "output_type": "stream",
     "name": "stderr",
     "text": [
      "<ipython-input-2-2015fd87c072>:4: RuntimeWarning: Channel names are not unique, found duplicates for: {'-', 'T8-P8'}. Applying running numbers for duplicates.\n",
      "  edf = mne.io.read_raw_edf(edf_filename,stim_channel=None)\n"
     ]
    },
    {
     "output_type": "stream",
     "name": "stdout",
     "text": [
      "(23, 921600)\n",
      "Extracting EDF parameters from d:\\salma\\UNI\\Sem8\\WS\\physionet.org\\files\\chbmit\\1.0.0\\chb11\\chb11_12.edf...\n",
      "EDF file detected\n",
      "Setting channel info structure...\n",
      "Creating raw.info structure...\n"
     ]
    },
    {
     "output_type": "stream",
     "name": "stderr",
     "text": [
      "<ipython-input-2-2015fd87c072>:4: RuntimeWarning: Channel names are not unique, found duplicates for: {'-', 'T8-P8'}. Applying running numbers for duplicates.\n",
      "  edf = mne.io.read_raw_edf(edf_filename,stim_channel=None)\n"
     ]
    },
    {
     "output_type": "stream",
     "name": "stdout",
     "text": [
      "(23, 921600)\n",
      "Extracting EDF parameters from d:\\salma\\UNI\\Sem8\\WS\\physionet.org\\files\\chbmit\\1.0.0\\chb11\\chb11_13.edf...\n",
      "EDF file detected\n",
      "Setting channel info structure...\n",
      "Creating raw.info structure...\n"
     ]
    },
    {
     "output_type": "stream",
     "name": "stderr",
     "text": [
      "<ipython-input-2-2015fd87c072>:4: RuntimeWarning: Channel names are not unique, found duplicates for: {'-', 'T8-P8'}. Applying running numbers for duplicates.\n",
      "  edf = mne.io.read_raw_edf(edf_filename,stim_channel=None)\n"
     ]
    },
    {
     "output_type": "stream",
     "name": "stdout",
     "text": [
      "(23, 921600)\n",
      "Extracting EDF parameters from d:\\salma\\UNI\\Sem8\\WS\\physionet.org\\files\\chbmit\\1.0.0\\chb11\\chb11_14.edf...\n",
      "EDF file detected\n",
      "Setting channel info structure...\n",
      "Creating raw.info structure...\n"
     ]
    },
    {
     "output_type": "stream",
     "name": "stderr",
     "text": [
      "<ipython-input-2-2015fd87c072>:4: RuntimeWarning: Channel names are not unique, found duplicates for: {'-', 'T8-P8'}. Applying running numbers for duplicates.\n",
      "  edf = mne.io.read_raw_edf(edf_filename,stim_channel=None)\n"
     ]
    },
    {
     "output_type": "stream",
     "name": "stdout",
     "text": [
      "(23, 921600)\n",
      "Extracting EDF parameters from d:\\salma\\UNI\\Sem8\\WS\\physionet.org\\files\\chbmit\\1.0.0\\chb11\\chb11_15.edf...\n",
      "EDF file detected\n",
      "Setting channel info structure...\n",
      "Creating raw.info structure...\n"
     ]
    },
    {
     "output_type": "stream",
     "name": "stderr",
     "text": [
      "<ipython-input-2-2015fd87c072>:4: RuntimeWarning: Channel names are not unique, found duplicates for: {'-', 'T8-P8'}. Applying running numbers for duplicates.\n",
      "  edf = mne.io.read_raw_edf(edf_filename,stim_channel=None)\n"
     ]
    },
    {
     "output_type": "stream",
     "name": "stdout",
     "text": [
      "(23, 921600)\n",
      "Extracting EDF parameters from d:\\salma\\UNI\\Sem8\\WS\\physionet.org\\files\\chbmit\\1.0.0\\chb11\\chb11_16.edf...\n",
      "EDF file detected\n",
      "Setting channel info structure...\n",
      "Creating raw.info structure...\n"
     ]
    },
    {
     "output_type": "stream",
     "name": "stderr",
     "text": [
      "<ipython-input-2-2015fd87c072>:4: RuntimeWarning: Channel names are not unique, found duplicates for: {'-', 'T8-P8'}. Applying running numbers for duplicates.\n",
      "  edf = mne.io.read_raw_edf(edf_filename,stim_channel=None)\n"
     ]
    },
    {
     "output_type": "stream",
     "name": "stdout",
     "text": [
      "(23, 921600)\n",
      "Extracting EDF parameters from d:\\salma\\UNI\\Sem8\\WS\\physionet.org\\files\\chbmit\\1.0.0\\chb11\\chb11_17.edf...\n",
      "EDF file detected\n",
      "Setting channel info structure...\n",
      "Creating raw.info structure...\n"
     ]
    },
    {
     "output_type": "stream",
     "name": "stderr",
     "text": [
      "<ipython-input-2-2015fd87c072>:4: RuntimeWarning: Channel names are not unique, found duplicates for: {'-', 'T8-P8'}. Applying running numbers for duplicates.\n",
      "  edf = mne.io.read_raw_edf(edf_filename,stim_channel=None)\n"
     ]
    },
    {
     "output_type": "stream",
     "name": "stdout",
     "text": [
      "(23, 921600)\n",
      "Extracting EDF parameters from d:\\salma\\UNI\\Sem8\\WS\\physionet.org\\files\\chbmit\\1.0.0\\chb11\\chb11_18.edf...\n",
      "EDF file detected\n",
      "Setting channel info structure...\n",
      "Creating raw.info structure...\n"
     ]
    },
    {
     "output_type": "stream",
     "name": "stderr",
     "text": [
      "<ipython-input-2-2015fd87c072>:4: RuntimeWarning: Channel names are not unique, found duplicates for: {'-', 'T8-P8'}. Applying running numbers for duplicates.\n",
      "  edf = mne.io.read_raw_edf(edf_filename,stim_channel=None)\n"
     ]
    },
    {
     "output_type": "stream",
     "name": "stdout",
     "text": [
      "(23, 921600)\n",
      "Extracting EDF parameters from d:\\salma\\UNI\\Sem8\\WS\\physionet.org\\files\\chbmit\\1.0.0\\chb11\\chb11_19.edf...\n",
      "EDF file detected\n",
      "Setting channel info structure...\n",
      "Creating raw.info structure...\n"
     ]
    },
    {
     "output_type": "stream",
     "name": "stderr",
     "text": [
      "<ipython-input-2-2015fd87c072>:4: RuntimeWarning: Channel names are not unique, found duplicates for: {'-', 'T8-P8'}. Applying running numbers for duplicates.\n",
      "  edf = mne.io.read_raw_edf(edf_filename,stim_channel=None)\n"
     ]
    },
    {
     "output_type": "stream",
     "name": "stdout",
     "text": [
      "(23, 921600)\n",
      "Extracting EDF parameters from d:\\salma\\UNI\\Sem8\\WS\\physionet.org\\files\\chbmit\\1.0.0\\chb11\\chb11_24.edf...\n",
      "EDF file detected\n",
      "Setting channel info structure...\n",
      "Creating raw.info structure...\n"
     ]
    },
    {
     "output_type": "stream",
     "name": "stderr",
     "text": [
      "<ipython-input-2-2015fd87c072>:4: RuntimeWarning: Channel names are not unique, found duplicates for: {'-', 'T8-P8'}. Applying running numbers for duplicates.\n",
      "  edf = mne.io.read_raw_edf(edf_filename,stim_channel=None)\n"
     ]
    },
    {
     "output_type": "stream",
     "name": "stdout",
     "text": [
      "(23, 921600)\n",
      "Extracting EDF parameters from d:\\salma\\UNI\\Sem8\\WS\\physionet.org\\files\\chbmit\\1.0.0\\chb11\\chb11_25.edf...\n",
      "EDF file detected\n",
      "Setting channel info structure...\n",
      "Creating raw.info structure...\n"
     ]
    },
    {
     "output_type": "stream",
     "name": "stderr",
     "text": [
      "<ipython-input-2-2015fd87c072>:4: RuntimeWarning: Channel names are not unique, found duplicates for: {'-', 'T8-P8'}. Applying running numbers for duplicates.\n",
      "  edf = mne.io.read_raw_edf(edf_filename,stim_channel=None)\n"
     ]
    },
    {
     "output_type": "stream",
     "name": "stdout",
     "text": [
      "(23, 921600)\n",
      "Extracting EDF parameters from d:\\salma\\UNI\\Sem8\\WS\\physionet.org\\files\\chbmit\\1.0.0\\chb11\\chb11_26.edf...\n",
      "EDF file detected\n",
      "Setting channel info structure...\n",
      "Creating raw.info structure...\n"
     ]
    },
    {
     "output_type": "stream",
     "name": "stderr",
     "text": [
      "<ipython-input-2-2015fd87c072>:4: RuntimeWarning: Channel names are not unique, found duplicates for: {'-', 'T8-P8'}. Applying running numbers for duplicates.\n",
      "  edf = mne.io.read_raw_edf(edf_filename,stim_channel=None)\n"
     ]
    },
    {
     "output_type": "stream",
     "name": "stdout",
     "text": [
      "(23, 921600)\n",
      "Extracting EDF parameters from d:\\salma\\UNI\\Sem8\\WS\\physionet.org\\files\\chbmit\\1.0.0\\chb11\\chb11_27.edf...\n",
      "EDF file detected\n",
      "Setting channel info structure...\n",
      "Creating raw.info structure...\n"
     ]
    },
    {
     "output_type": "stream",
     "name": "stderr",
     "text": [
      "<ipython-input-2-2015fd87c072>:4: RuntimeWarning: Channel names are not unique, found duplicates for: {'-', 'T8-P8'}. Applying running numbers for duplicates.\n",
      "  edf = mne.io.read_raw_edf(edf_filename,stim_channel=None)\n"
     ]
    },
    {
     "output_type": "stream",
     "name": "stdout",
     "text": [
      "(23, 921600)\n",
      "Extracting EDF parameters from d:\\salma\\UNI\\Sem8\\WS\\physionet.org\\files\\chbmit\\1.0.0\\chb11\\chb11_53.edf...\n",
      "EDF file detected\n",
      "Setting channel info structure...\n",
      "Creating raw.info structure...\n"
     ]
    },
    {
     "output_type": "stream",
     "name": "stderr",
     "text": [
      "<ipython-input-2-2015fd87c072>:4: RuntimeWarning: Channel names are not unique, found duplicates for: {'-', 'T8-P8'}. Applying running numbers for duplicates.\n",
      "  edf = mne.io.read_raw_edf(edf_filename,stim_channel=None)\n"
     ]
    },
    {
     "output_type": "stream",
     "name": "stdout",
     "text": [
      "(23, 921600)\n",
      "Extracting EDF parameters from d:\\salma\\UNI\\Sem8\\WS\\physionet.org\\files\\chbmit\\1.0.0\\chb11\\chb11_54.edf...\n",
      "EDF file detected\n",
      "Setting channel info structure...\n",
      "Creating raw.info structure...\n"
     ]
    },
    {
     "output_type": "stream",
     "name": "stderr",
     "text": [
      "<ipython-input-2-2015fd87c072>:4: RuntimeWarning: Channel names are not unique, found duplicates for: {'-', 'T8-P8'}. Applying running numbers for duplicates.\n",
      "  edf = mne.io.read_raw_edf(edf_filename,stim_channel=None)\n"
     ]
    },
    {
     "output_type": "stream",
     "name": "stdout",
     "text": [
      "(23, 921600)\n",
      "Extracting EDF parameters from d:\\salma\\UNI\\Sem8\\WS\\physionet.org\\files\\chbmit\\1.0.0\\chb11\\chb11_55.edf...\n",
      "EDF file detected\n",
      "Setting channel info structure...\n",
      "Creating raw.info structure...\n"
     ]
    },
    {
     "output_type": "stream",
     "name": "stderr",
     "text": [
      "<ipython-input-2-2015fd87c072>:4: RuntimeWarning: Channel names are not unique, found duplicates for: {'-', 'T8-P8'}. Applying running numbers for duplicates.\n",
      "  edf = mne.io.read_raw_edf(edf_filename,stim_channel=None)\n"
     ]
    },
    {
     "output_type": "stream",
     "name": "stdout",
     "text": [
      "(23, 921600)\n",
      "Extracting EDF parameters from d:\\salma\\UNI\\Sem8\\WS\\physionet.org\\files\\chbmit\\1.0.0\\chb11\\chb11_56.edf...\n",
      "EDF file detected\n",
      "Setting channel info structure...\n",
      "Creating raw.info structure...\n"
     ]
    },
    {
     "output_type": "stream",
     "name": "stderr",
     "text": [
      "<ipython-input-2-2015fd87c072>:4: RuntimeWarning: Channel names are not unique, found duplicates for: {'-', 'T8-P8'}. Applying running numbers for duplicates.\n",
      "  edf = mne.io.read_raw_edf(edf_filename,stim_channel=None)\n"
     ]
    },
    {
     "output_type": "stream",
     "name": "stdout",
     "text": [
      "(23, 921600)\n",
      "Extracting EDF parameters from d:\\salma\\UNI\\Sem8\\WS\\physionet.org\\files\\chbmit\\1.0.0\\chb11\\chb11_58.edf...\n",
      "EDF file detected\n",
      "Setting channel info structure...\n",
      "Creating raw.info structure...\n"
     ]
    },
    {
     "output_type": "stream",
     "name": "stderr",
     "text": [
      "<ipython-input-2-2015fd87c072>:4: RuntimeWarning: Channel names are not unique, found duplicates for: {'-', 'T8-P8'}. Applying running numbers for duplicates.\n",
      "  edf = mne.io.read_raw_edf(edf_filename,stim_channel=None)\n"
     ]
    },
    {
     "output_type": "stream",
     "name": "stdout",
     "text": [
      "(23, 921600)\n",
      "Extracting EDF parameters from d:\\salma\\UNI\\Sem8\\WS\\physionet.org\\files\\chbmit\\1.0.0\\chb11\\chb11_60.edf...\n",
      "EDF file detected\n",
      "Setting channel info structure...\n",
      "Creating raw.info structure...\n"
     ]
    },
    {
     "output_type": "stream",
     "name": "stderr",
     "text": [
      "<ipython-input-2-2015fd87c072>:4: RuntimeWarning: Channel names are not unique, found duplicates for: {'-', 'T8-P8'}. Applying running numbers for duplicates.\n",
      "  edf = mne.io.read_raw_edf(edf_filename,stim_channel=None)\n"
     ]
    },
    {
     "output_type": "stream",
     "name": "stdout",
     "text": [
      "(23, 921600)\n",
      "Extracting EDF parameters from d:\\salma\\UNI\\Sem8\\WS\\physionet.org\\files\\chbmit\\1.0.0\\chb11\\chb11_61.edf...\n",
      "EDF file detected\n",
      "Setting channel info structure...\n",
      "Creating raw.info structure...\n"
     ]
    },
    {
     "output_type": "stream",
     "name": "stderr",
     "text": [
      "<ipython-input-2-2015fd87c072>:4: RuntimeWarning: Channel names are not unique, found duplicates for: {'-', 'T8-P8'}. Applying running numbers for duplicates.\n",
      "  edf = mne.io.read_raw_edf(edf_filename,stim_channel=None)\n"
     ]
    },
    {
     "output_type": "stream",
     "name": "stdout",
     "text": [
      "(23, 921600)\n",
      "Extracting EDF parameters from d:\\salma\\UNI\\Sem8\\WS\\physionet.org\\files\\chbmit\\1.0.0\\chb11\\chb11_62.edf...\n",
      "EDF file detected\n",
      "Setting channel info structure...\n",
      "Creating raw.info structure...\n"
     ]
    },
    {
     "output_type": "stream",
     "name": "stderr",
     "text": [
      "<ipython-input-2-2015fd87c072>:4: RuntimeWarning: Channel names are not unique, found duplicates for: {'-', 'T8-P8'}. Applying running numbers for duplicates.\n",
      "  edf = mne.io.read_raw_edf(edf_filename,stim_channel=None)\n"
     ]
    },
    {
     "output_type": "stream",
     "name": "stdout",
     "text": [
      "(23, 921600)\n",
      "Extracting EDF parameters from d:\\salma\\UNI\\Sem8\\WS\\physionet.org\\files\\chbmit\\1.0.0\\chb11\\chb11_63.edf...\n",
      "EDF file detected\n",
      "Setting channel info structure...\n",
      "Creating raw.info structure...\n"
     ]
    },
    {
     "output_type": "stream",
     "name": "stderr",
     "text": [
      "<ipython-input-2-2015fd87c072>:4: RuntimeWarning: Channel names are not unique, found duplicates for: {'-', 'T8-P8'}. Applying running numbers for duplicates.\n",
      "  edf = mne.io.read_raw_edf(edf_filename,stim_channel=None)\n"
     ]
    },
    {
     "output_type": "stream",
     "name": "stdout",
     "text": [
      "(23, 921600)\n",
      "Extracting EDF parameters from d:\\salma\\UNI\\Sem8\\WS\\physionet.org\\files\\chbmit\\1.0.0\\chb11\\chb11_82.edf...\n",
      "EDF file detected\n",
      "Setting channel info structure...\n",
      "Creating raw.info structure...\n"
     ]
    },
    {
     "output_type": "stream",
     "name": "stderr",
     "text": [
      "<ipython-input-2-2015fd87c072>:4: RuntimeWarning: Channel names are not unique, found duplicates for: {'-', 'T8-P8'}. Applying running numbers for duplicates.\n",
      "  edf = mne.io.read_raw_edf(edf_filename,stim_channel=None)\n"
     ]
    },
    {
     "output_type": "stream",
     "name": "stdout",
     "text": [
      "(23, 921600)\n",
      "298\n",
      "320\n",
      "Extracting EDF parameters from d:\\salma\\UNI\\Sem8\\WS\\physionet.org\\files\\chbmit\\1.0.0\\chb11\\chb11_92.edf...\n",
      "EDF file detected\n",
      "Setting channel info structure...\n",
      "Creating raw.info structure...\n"
     ]
    },
    {
     "output_type": "stream",
     "name": "stderr",
     "text": [
      "<ipython-input-2-2015fd87c072>:4: RuntimeWarning: Channel names are not unique, found duplicates for: {'-', 'T8-P8'}. Applying running numbers for duplicates.\n",
      "  edf = mne.io.read_raw_edf(edf_filename,stim_channel=None)\n"
     ]
    },
    {
     "output_type": "stream",
     "name": "stdout",
     "text": [
      "(23, 921600)\n",
      "2695\n",
      "2727\n",
      "Extracting EDF parameters from d:\\salma\\UNI\\Sem8\\WS\\physionet.org\\files\\chbmit\\1.0.0\\chb11\\chb11_99.edf...\n",
      "EDF file detected\n",
      "Setting channel info structure...\n",
      "Creating raw.info structure...\n"
     ]
    },
    {
     "output_type": "stream",
     "name": "stderr",
     "text": [
      "<ipython-input-2-2015fd87c072>:4: RuntimeWarning: Channel names are not unique, found duplicates for: {'-', 'T8-P8'}. Applying running numbers for duplicates.\n",
      "  edf = mne.io.read_raw_edf(edf_filename,stim_channel=None)\n"
     ]
    },
    {
     "output_type": "stream",
     "name": "stdout",
     "text": [
      "(23, 731904)\n",
      "1454\n",
      "2206\n",
      "file: 0 , shape: (23, 921088) \n",
      "total number of windows: 718.0 , number of windows discarded: 0 \n",
      "file: 1 , shape: (23, 921600) \n",
      "total number of windows: 718.0 , number of windows discarded: 0 \n",
      "file: 2 , shape: (23, 921600) \n",
      "total number of windows: 718.0 , number of windows discarded: 0 \n",
      "file: 3 , shape: (23, 921600) \n",
      "total number of windows: 718.0 , number of windows discarded: 0 \n",
      "file: 4 , shape: (23, 921600) \n",
      "total number of windows: 718.0 , number of windows discarded: 0 \n",
      "file: 5 , shape: (23, 921600) \n",
      "total number of windows: 718.0 , number of windows discarded: 0 \n",
      "file: 6 , shape: (23, 921600) \n",
      "total number of windows: 718.0 , number of windows discarded: 0 \n",
      "file: 7 , shape: (23, 921600) \n",
      "total number of windows: 718.0 , number of windows discarded: 0 \n",
      "file: 8 , shape: (23, 921600) \n",
      "total number of windows: 718.0 , number of windows discarded: 0 \n",
      "file: 9 , shape: (23, 921600) \n",
      "total number of windows: 718.0 , number of windows discarded: 0 \n",
      "file: 10 , shape: (23, 921600) \n",
      "total number of windows: 718.0 , number of windows discarded: 0 \n",
      "file: 11 , shape: (23, 921600) \n",
      "total number of windows: 718.0 , number of windows discarded: 0 \n",
      "file: 12 , shape: (23, 921600) \n",
      "total number of windows: 718.0 , number of windows discarded: 0 \n",
      "file: 13 , shape: (23, 921600) \n",
      "total number of windows: 718.0 , number of windows discarded: 0 \n",
      "file: 14 , shape: (23, 921600) \n",
      "total number of windows: 718.0 , number of windows discarded: 0 \n",
      "file: 15 , shape: (23, 921600) \n",
      "total number of windows: 718.0 , number of windows discarded: 0 \n",
      "file: 16 , shape: (23, 921600) \n",
      "total number of windows: 718.0 , number of windows discarded: 0 \n",
      "file: 17 , shape: (23, 921600) \n",
      "total number of windows: 718.0 , number of windows discarded: 0 \n",
      "file: 18 , shape: (23, 921600) \n",
      "total number of windows: 718.0 , number of windows discarded: 0 \n",
      "file: 19 , shape: (23, 921600) \n",
      "total number of windows: 718.0 , number of windows discarded: 0 \n",
      "file: 20 , shape: (23, 921600) \n",
      "total number of windows: 718.0 , number of windows discarded: 0 \n",
      "file: 21 , shape: (23, 921600) \n",
      "total number of windows: 718.0 , number of windows discarded: 0 \n",
      "file: 22 , shape: (23, 921600) \n",
      "total number of windows: 718.0 , number of windows discarded: 0 \n",
      "file: 23 , shape: (23, 921600) \n",
      "total number of windows: 718.0 , number of windows discarded: 0 \n",
      "file: 24 , shape: (23, 921600) \n",
      "total number of windows: 718.0 , number of windows discarded: 0 \n",
      "file: 25 , shape: (23, 921600) \n",
      "total number of windows: 718.0 , number of windows discarded: 0 \n",
      "file: 26 , shape: (23, 921600) \n",
      "total number of windows: 718.0 , number of windows discarded: 0 \n",
      "file: 27 , shape: (23, 921600) \n",
      "total number of windows: 718.0 , number of windows discarded: 0 \n",
      "file: 28 , shape: (23, 921600) \n",
      "total number of windows: 718.0 , number of windows discarded: 0 \n",
      "file: 29 , shape: (23, 921600) \n",
      "total number of windows: 718.0 , number of windows discarded: 0 \n",
      "file: 30 , shape: (23, 921600) \n",
      "total number of windows: 718.0 , number of windows discarded: 0 \n",
      "file: 31 , shape: (23, 921600) \n",
      "total number of windows: 718.0 , number of windows discarded: 0 \n",
      "file: 32 , shape: (23, 921600) \n",
      "total number of windows: 718.0 , number of windows discarded: 4 \n",
      "file: 33 , shape: (23, 921600) \n",
      "total number of windows: 718.0 , number of windows discarded: 4 \n",
      "file: 34 , shape: (23, 731904) \n",
      "total number of windows: 570.0 , number of windows discarded: 6 \n",
      "Extracting EDF parameters from d:\\salma\\UNI\\Sem8\\WS\\physionet.org\\files\\chbmit\\1.0.0\\chb12\\chb12_06.edf...\n",
      "EDF file detected\n",
      "Setting channel info structure...\n",
      "Creating raw.info structure...\n"
     ]
    },
    {
     "output_type": "stream",
     "name": "stderr",
     "text": [
      "<ipython-input-2-2015fd87c072>:4: RuntimeWarning: Channel names are not unique, found duplicates for: {'-', 'T8-P8'}. Applying running numbers for duplicates.\n",
      "  edf = mne.io.read_raw_edf(edf_filename,stim_channel=None)\n",
      "<ipython-input-2-2015fd87c072>:4: RuntimeWarning: Scaling factor is not defined in following channels:\n",
      "--0, --1, --2, --3, --4\n",
      "  edf = mne.io.read_raw_edf(edf_filename,stim_channel=None)\n"
     ]
    },
    {
     "output_type": "stream",
     "name": "stdout",
     "text": [
      "(23, 923136)\n",
      "1665\n",
      "1726\n",
      "3415\n",
      "3447\n",
      "Extracting EDF parameters from d:\\salma\\UNI\\Sem8\\WS\\physionet.org\\files\\chbmit\\1.0.0\\chb12\\chb12_08.edf...\n",
      "EDF file detected\n",
      "Setting channel info structure...\n",
      "Creating raw.info structure...\n"
     ]
    },
    {
     "output_type": "stream",
     "name": "stderr",
     "text": [
      "<ipython-input-2-2015fd87c072>:4: RuntimeWarning: Channel names are not unique, found duplicates for: {'-', 'T8-P8'}. Applying running numbers for duplicates.\n",
      "  edf = mne.io.read_raw_edf(edf_filename,stim_channel=None)\n",
      "<ipython-input-2-2015fd87c072>:4: RuntimeWarning: Scaling factor is not defined in following channels:\n",
      "--0, --1, --2, --3, --4\n",
      "  edf = mne.io.read_raw_edf(edf_filename,stim_channel=None)\n"
     ]
    },
    {
     "output_type": "stream",
     "name": "stdout",
     "text": [
      "(23, 921600)\n",
      "1426\n",
      "1439\n",
      "1591\n",
      "1614\n",
      "1957\n",
      "1977\n",
      "2798\n",
      "2824\n",
      "Extracting EDF parameters from d:\\salma\\UNI\\Sem8\\WS\\physionet.org\\files\\chbmit\\1.0.0\\chb12\\chb12_09.edf...\n",
      "EDF file detected\n",
      "Setting channel info structure...\n",
      "Creating raw.info structure...\n"
     ]
    },
    {
     "output_type": "stream",
     "name": "stderr",
     "text": [
      "<ipython-input-2-2015fd87c072>:4: RuntimeWarning: Channel names are not unique, found duplicates for: {'-', 'T8-P8'}. Applying running numbers for duplicates.\n",
      "  edf = mne.io.read_raw_edf(edf_filename,stim_channel=None)\n",
      "<ipython-input-2-2015fd87c072>:4: RuntimeWarning: Scaling factor is not defined in following channels:\n",
      "--0, --1, --2, --3, --4\n",
      "  edf = mne.io.read_raw_edf(edf_filename,stim_channel=None)\n"
     ]
    },
    {
     "output_type": "stream",
     "name": "stdout",
     "text": [
      "(23, 924672)\n",
      "3082\n",
      "3114\n",
      "3503\n",
      "3535\n",
      "Extracting EDF parameters from d:\\salma\\UNI\\Sem8\\WS\\physionet.org\\files\\chbmit\\1.0.0\\chb12\\chb12_10.edf...\n",
      "EDF file detected\n",
      "Setting channel info structure...\n",
      "Creating raw.info structure...\n"
     ]
    },
    {
     "output_type": "stream",
     "name": "stderr",
     "text": [
      "<ipython-input-2-2015fd87c072>:4: RuntimeWarning: Channel names are not unique, found duplicates for: {'-', 'T8-P8'}. Applying running numbers for duplicates.\n",
      "  edf = mne.io.read_raw_edf(edf_filename,stim_channel=None)\n",
      "<ipython-input-2-2015fd87c072>:4: RuntimeWarning: Scaling factor is not defined in following channels:\n",
      "--0, --1, --2, --3, --4\n",
      "  edf = mne.io.read_raw_edf(edf_filename,stim_channel=None)\n"
     ]
    },
    {
     "output_type": "stream",
     "name": "stdout",
     "text": [
      "(23, 924416)\n",
      "593\n",
      "625\n",
      "811\n",
      "856\n",
      "Extracting EDF parameters from d:\\salma\\UNI\\Sem8\\WS\\physionet.org\\files\\chbmit\\1.0.0\\chb12\\chb12_11.edf...\n",
      "EDF file detected\n",
      "Setting channel info structure...\n",
      "Creating raw.info structure...\n"
     ]
    },
    {
     "output_type": "stream",
     "name": "stderr",
     "text": [
      "<ipython-input-2-2015fd87c072>:4: RuntimeWarning: Channel names are not unique, found duplicates for: {'-', 'T8-P8'}. Applying running numbers for duplicates.\n",
      "  edf = mne.io.read_raw_edf(edf_filename,stim_channel=None)\n",
      "<ipython-input-2-2015fd87c072>:4: RuntimeWarning: Scaling factor is not defined in following channels:\n",
      "--0, --1, --2, --3, --4\n",
      "  edf = mne.io.read_raw_edf(edf_filename,stim_channel=None)\n"
     ]
    },
    {
     "output_type": "stream",
     "name": "stdout",
     "text": [
      "(23, 622336)\n",
      "1085\n",
      "1122\n",
      "Extracting EDF parameters from d:\\salma\\UNI\\Sem8\\WS\\physionet.org\\files\\chbmit\\1.0.0\\chb12\\chb12_19.edf...\n",
      "EDF file detected\n",
      "Setting channel info structure...\n",
      "Creating raw.info structure...\n"
     ]
    },
    {
     "output_type": "stream",
     "name": "stderr",
     "text": [
      "<ipython-input-2-2015fd87c072>:4: RuntimeWarning: Channel names are not unique, found duplicates for: {'-', 'T8-P8'}. Applying running numbers for duplicates.\n",
      "  edf = mne.io.read_raw_edf(edf_filename,stim_channel=None)\n",
      "<ipython-input-2-2015fd87c072>:4: RuntimeWarning: Scaling factor is not defined in following channels:\n",
      "--0, --1, --2, --3, --4\n",
      "  edf = mne.io.read_raw_edf(edf_filename,stim_channel=None)\n"
     ]
    },
    {
     "output_type": "stream",
     "name": "stdout",
     "text": [
      "(23, 921600)\n",
      "Extracting EDF parameters from d:\\salma\\UNI\\Sem8\\WS\\physionet.org\\files\\chbmit\\1.0.0\\chb12\\chb12_20.edf...\n",
      "EDF file detected\n",
      "Setting channel info structure...\n",
      "Creating raw.info structure...\n"
     ]
    },
    {
     "output_type": "stream",
     "name": "stderr",
     "text": [
      "<ipython-input-2-2015fd87c072>:4: RuntimeWarning: Channel names are not unique, found duplicates for: {'-', 'T8-P8'}. Applying running numbers for duplicates.\n",
      "  edf = mne.io.read_raw_edf(edf_filename,stim_channel=None)\n",
      "<ipython-input-2-2015fd87c072>:4: RuntimeWarning: Scaling factor is not defined in following channels:\n",
      "--0, --1, --2, --3, --4\n",
      "  edf = mne.io.read_raw_edf(edf_filename,stim_channel=None)\n"
     ]
    },
    {
     "output_type": "stream",
     "name": "stdout",
     "text": [
      "(23, 921600)\n",
      "Extracting EDF parameters from d:\\salma\\UNI\\Sem8\\WS\\physionet.org\\files\\chbmit\\1.0.0\\chb12\\chb12_21.edf...\n",
      "EDF file detected\n",
      "Setting channel info structure...\n",
      "Creating raw.info structure...\n"
     ]
    },
    {
     "output_type": "stream",
     "name": "stderr",
     "text": [
      "<ipython-input-2-2015fd87c072>:4: RuntimeWarning: Channel names are not unique, found duplicates for: {'-', 'T8-P8'}. Applying running numbers for duplicates.\n",
      "  edf = mne.io.read_raw_edf(edf_filename,stim_channel=None)\n",
      "<ipython-input-2-2015fd87c072>:4: RuntimeWarning: Scaling factor is not defined in following channels:\n",
      "--0, --1, --2, --3, --4\n",
      "  edf = mne.io.read_raw_edf(edf_filename,stim_channel=None)\n"
     ]
    },
    {
     "output_type": "stream",
     "name": "stdout",
     "text": [
      "(23, 921600)\n",
      "Extracting EDF parameters from d:\\salma\\UNI\\Sem8\\WS\\physionet.org\\files\\chbmit\\1.0.0\\chb12\\chb12_23.edf...\n",
      "EDF file detected\n",
      "Setting channel info structure...\n",
      "Creating raw.info structure...\n"
     ]
    },
    {
     "output_type": "stream",
     "name": "stderr",
     "text": [
      "<ipython-input-2-2015fd87c072>:4: RuntimeWarning: Channel names are not unique, found duplicates for: {'-', 'T8-P8'}. Applying running numbers for duplicates.\n",
      "  edf = mne.io.read_raw_edf(edf_filename,stim_channel=None)\n",
      "<ipython-input-2-2015fd87c072>:4: RuntimeWarning: Scaling factor is not defined in following channels:\n",
      "--0, --1, --2, --3, --4\n",
      "  edf = mne.io.read_raw_edf(edf_filename,stim_channel=None)\n"
     ]
    },
    {
     "output_type": "stream",
     "name": "stdout",
     "text": [
      "(23, 921600)\n",
      "253\n",
      "333\n",
      "425\n",
      "522\n",
      "630\n",
      "670\n",
      "Extracting EDF parameters from d:\\salma\\UNI\\Sem8\\WS\\physionet.org\\files\\chbmit\\1.0.0\\chb12\\chb12_24.edf...\n",
      "EDF file detected\n",
      "Setting channel info structure...\n",
      "Creating raw.info structure...\n"
     ]
    },
    {
     "output_type": "stream",
     "name": "stderr",
     "text": [
      "<ipython-input-2-2015fd87c072>:4: RuntimeWarning: Channel names are not unique, found duplicates for: {'-', 'T8-P8'}. Applying running numbers for duplicates.\n",
      "  edf = mne.io.read_raw_edf(edf_filename,stim_channel=None)\n",
      "<ipython-input-2-2015fd87c072>:4: RuntimeWarning: Scaling factor is not defined in following channels:\n",
      "--0, --1, --2, --3, --4\n",
      "  edf = mne.io.read_raw_edf(edf_filename,stim_channel=None)\n"
     ]
    },
    {
     "output_type": "stream",
     "name": "stdout",
     "text": [
      "(23, 921600)\n",
      "Extracting EDF parameters from d:\\salma\\UNI\\Sem8\\WS\\physionet.org\\files\\chbmit\\1.0.0\\chb12\\chb12_32.edf...\n",
      "EDF file detected\n",
      "Setting channel info structure...\n",
      "Creating raw.info structure...\n"
     ]
    },
    {
     "output_type": "stream",
     "name": "stderr",
     "text": [
      "<ipython-input-2-2015fd87c072>:4: RuntimeWarning: Channel names are not unique, found duplicates for: {'-', 'T8-P8'}. Applying running numbers for duplicates.\n",
      "  edf = mne.io.read_raw_edf(edf_filename,stim_channel=None)\n",
      "<ipython-input-2-2015fd87c072>:4: RuntimeWarning: Number of records from the header does not match the file size (perhaps the recording was not stopped before exiting). Inferring from the file size.\n",
      "  edf = mne.io.read_raw_edf(edf_filename,stim_channel=None)\n",
      "<ipython-input-2-2015fd87c072>:4: RuntimeWarning: Scaling factor is not defined in following channels:\n",
      "--0, --1, --2, --3, --4\n",
      "  edf = mne.io.read_raw_edf(edf_filename,stim_channel=None)\n"
     ]
    },
    {
     "output_type": "stream",
     "name": "stdout",
     "text": [
      "(23, 1015040)\n",
      "Extracting EDF parameters from d:\\salma\\UNI\\Sem8\\WS\\physionet.org\\files\\chbmit\\1.0.0\\chb12\\chb12_33.edf...\n",
      "EDF file detected\n",
      "Setting channel info structure...\n",
      "Creating raw.info structure...\n"
     ]
    },
    {
     "output_type": "stream",
     "name": "stderr",
     "text": [
      "<ipython-input-2-2015fd87c072>:4: RuntimeWarning: Channel names are not unique, found duplicates for: {'-', 'T8-P8'}. Applying running numbers for duplicates.\n",
      "  edf = mne.io.read_raw_edf(edf_filename,stim_channel=None)\n",
      "<ipython-input-2-2015fd87c072>:4: RuntimeWarning: Number of records from the header does not match the file size (perhaps the recording was not stopped before exiting). Inferring from the file size.\n",
      "  edf = mne.io.read_raw_edf(edf_filename,stim_channel=None)\n",
      "<ipython-input-2-2015fd87c072>:4: RuntimeWarning: Scaling factor is not defined in following channels:\n",
      "--0, --1, --2, --3, --4\n",
      "  edf = mne.io.read_raw_edf(edf_filename,stim_channel=None)\n"
     ]
    },
    {
     "output_type": "stream",
     "name": "stdout",
     "text": [
      "(23, 956672)\n",
      "2185\n",
      "2206\n",
      "2427\n",
      "2450\n",
      "Extracting EDF parameters from d:\\salma\\UNI\\Sem8\\WS\\physionet.org\\files\\chbmit\\1.0.0\\chb12\\chb12_34.edf...\n",
      "EDF file detected\n",
      "Setting channel info structure...\n",
      "Creating raw.info structure...\n"
     ]
    },
    {
     "output_type": "stream",
     "name": "stderr",
     "text": [
      "<ipython-input-2-2015fd87c072>:4: RuntimeWarning: Channel names are not unique, found duplicates for: {'-', 'T8-P8'}. Applying running numbers for duplicates.\n",
      "  edf = mne.io.read_raw_edf(edf_filename,stim_channel=None)\n",
      "<ipython-input-2-2015fd87c072>:4: RuntimeWarning: Number of records from the header does not match the file size (perhaps the recording was not stopped before exiting). Inferring from the file size.\n",
      "  edf = mne.io.read_raw_edf(edf_filename,stim_channel=None)\n",
      "<ipython-input-2-2015fd87c072>:4: RuntimeWarning: Scaling factor is not defined in following channels:\n",
      "--0, --1, --2, --3, --4\n",
      "  edf = mne.io.read_raw_edf(edf_filename,stim_channel=None)\n"
     ]
    },
    {
     "output_type": "stream",
     "name": "stdout",
     "text": [
      "(23, 923904)\n",
      "Extracting EDF parameters from d:\\salma\\UNI\\Sem8\\WS\\physionet.org\\files\\chbmit\\1.0.0\\chb12\\chb12_35.edf...\n",
      "EDF file detected\n",
      "Setting channel info structure...\n",
      "Creating raw.info structure...\n"
     ]
    },
    {
     "output_type": "stream",
     "name": "stderr",
     "text": [
      "<ipython-input-2-2015fd87c072>:4: RuntimeWarning: Channel names are not unique, found duplicates for: {'-', 'T8-P8'}. Applying running numbers for duplicates.\n",
      "  edf = mne.io.read_raw_edf(edf_filename,stim_channel=None)\n",
      "<ipython-input-2-2015fd87c072>:4: RuntimeWarning: Number of records from the header does not match the file size (perhaps the recording was not stopped before exiting). Inferring from the file size.\n",
      "  edf = mne.io.read_raw_edf(edf_filename,stim_channel=None)\n",
      "<ipython-input-2-2015fd87c072>:4: RuntimeWarning: Scaling factor is not defined in following channels:\n",
      "--0, --1, --2, --3, --4\n",
      "  edf = mne.io.read_raw_edf(edf_filename,stim_channel=None)\n"
     ]
    },
    {
     "output_type": "stream",
     "name": "stdout",
     "text": [
      "(23, 1078784)\n",
      "Extracting EDF parameters from d:\\salma\\UNI\\Sem8\\WS\\physionet.org\\files\\chbmit\\1.0.0\\chb12\\chb12_36.edf...\n",
      "EDF file detected\n",
      "Setting channel info structure...\n",
      "Creating raw.info structure...\n"
     ]
    },
    {
     "output_type": "stream",
     "name": "stderr",
     "text": [
      "<ipython-input-2-2015fd87c072>:4: RuntimeWarning: Channel names are not unique, found duplicates for: {'-', 'T8-P8'}. Applying running numbers for duplicates.\n",
      "  edf = mne.io.read_raw_edf(edf_filename,stim_channel=None)\n",
      "<ipython-input-2-2015fd87c072>:4: RuntimeWarning: Number of records from the header does not match the file size (perhaps the recording was not stopped before exiting). Inferring from the file size.\n",
      "  edf = mne.io.read_raw_edf(edf_filename,stim_channel=None)\n",
      "<ipython-input-2-2015fd87c072>:4: RuntimeWarning: Scaling factor is not defined in following channels:\n",
      "--0, --1, --2, --3, --4\n",
      "  edf = mne.io.read_raw_edf(edf_filename,stim_channel=None)\n"
     ]
    },
    {
     "output_type": "stream",
     "name": "stdout",
     "text": [
      "(23, 984576)\n",
      "653\n",
      "680\n",
      "Extracting EDF parameters from d:\\salma\\UNI\\Sem8\\WS\\physionet.org\\files\\chbmit\\1.0.0\\chb12\\chb12_37.edf...\n",
      "EDF file detected\n",
      "Setting channel info structure...\n",
      "Creating raw.info structure...\n"
     ]
    },
    {
     "output_type": "stream",
     "name": "stderr",
     "text": [
      "<ipython-input-2-2015fd87c072>:4: RuntimeWarning: Channel names are not unique, found duplicates for: {'-', 'T8-P8'}. Applying running numbers for duplicates.\n",
      "  edf = mne.io.read_raw_edf(edf_filename,stim_channel=None)\n",
      "<ipython-input-2-2015fd87c072>:4: RuntimeWarning: Number of records from the header does not match the file size (perhaps the recording was not stopped before exiting). Inferring from the file size.\n",
      "  edf = mne.io.read_raw_edf(edf_filename,stim_channel=None)\n",
      "<ipython-input-2-2015fd87c072>:4: RuntimeWarning: Scaling factor is not defined in following channels:\n",
      "--0, --1, --2, --3, --4\n",
      "  edf = mne.io.read_raw_edf(edf_filename,stim_channel=None)\n"
     ]
    },
    {
     "output_type": "stream",
     "name": "stdout",
     "text": [
      "(23, 929024)\n",
      "Extracting EDF parameters from d:\\salma\\UNI\\Sem8\\WS\\physionet.org\\files\\chbmit\\1.0.0\\chb12\\chb12_38.edf...\n",
      "EDF file detected\n",
      "Setting channel info structure...\n",
      "Creating raw.info structure...\n"
     ]
    },
    {
     "output_type": "stream",
     "name": "stderr",
     "text": [
      "<ipython-input-2-2015fd87c072>:4: RuntimeWarning: Channel names are not unique, found duplicates for: {'-', 'T8-P8'}. Applying running numbers for duplicates.\n",
      "  edf = mne.io.read_raw_edf(edf_filename,stim_channel=None)\n",
      "<ipython-input-2-2015fd87c072>:4: RuntimeWarning: Number of records from the header does not match the file size (perhaps the recording was not stopped before exiting). Inferring from the file size.\n",
      "  edf = mne.io.read_raw_edf(edf_filename,stim_channel=None)\n",
      "<ipython-input-2-2015fd87c072>:4: RuntimeWarning: Scaling factor is not defined in following channels:\n",
      "--0, --1, --2, --3, --4\n",
      "  edf = mne.io.read_raw_edf(edf_filename,stim_channel=None)\n"
     ]
    },
    {
     "output_type": "stream",
     "name": "stdout",
     "text": [
      "(23, 1134848)\n",
      "1548\n",
      "1573\n",
      "2798\n",
      "2821\n",
      "2966\n",
      "3009\n",
      "3146\n",
      "3201\n",
      "3364\n",
      "3410\n",
      "Extracting EDF parameters from d:\\salma\\UNI\\Sem8\\WS\\physionet.org\\files\\chbmit\\1.0.0\\chb12\\chb12_39.edf...\n",
      "EDF file detected\n",
      "Setting channel info structure...\n",
      "Creating raw.info structure...\n"
     ]
    },
    {
     "output_type": "stream",
     "name": "stderr",
     "text": [
      "<ipython-input-2-2015fd87c072>:4: RuntimeWarning: Channel names are not unique, found duplicates for: {'-', 'T8-P8'}. Applying running numbers for duplicates.\n",
      "  edf = mne.io.read_raw_edf(edf_filename,stim_channel=None)\n",
      "<ipython-input-2-2015fd87c072>:4: RuntimeWarning: Number of records from the header does not match the file size (perhaps the recording was not stopped before exiting). Inferring from the file size.\n",
      "  edf = mne.io.read_raw_edf(edf_filename,stim_channel=None)\n",
      "<ipython-input-2-2015fd87c072>:4: RuntimeWarning: Scaling factor is not defined in following channels:\n",
      "--0, --1, --2, --3, --4\n",
      "  edf = mne.io.read_raw_edf(edf_filename,stim_channel=None)\n"
     ]
    },
    {
     "output_type": "stream",
     "name": "stdout",
     "text": [
      "(23, 961536)\n",
      "Extracting EDF parameters from d:\\salma\\UNI\\Sem8\\WS\\physionet.org\\files\\chbmit\\1.0.0\\chb12\\chb12_40.edf...\n",
      "EDF file detected\n",
      "Setting channel info structure...\n",
      "Creating raw.info structure...\n"
     ]
    },
    {
     "output_type": "stream",
     "name": "stderr",
     "text": [
      "<ipython-input-2-2015fd87c072>:4: RuntimeWarning: Channel names are not unique, found duplicates for: {'-', 'T8-P8'}. Applying running numbers for duplicates.\n",
      "  edf = mne.io.read_raw_edf(edf_filename,stim_channel=None)\n",
      "<ipython-input-2-2015fd87c072>:4: RuntimeWarning: Number of records from the header does not match the file size (perhaps the recording was not stopped before exiting). Inferring from the file size.\n",
      "  edf = mne.io.read_raw_edf(edf_filename,stim_channel=None)\n",
      "<ipython-input-2-2015fd87c072>:4: RuntimeWarning: Scaling factor is not defined in following channels:\n",
      "--0, --1, --2, --3, --4\n",
      "  edf = mne.io.read_raw_edf(edf_filename,stim_channel=None)\n"
     ]
    },
    {
     "output_type": "stream",
     "name": "stdout",
     "text": [
      "(23, 1003520)\n",
      "Extracting EDF parameters from d:\\salma\\UNI\\Sem8\\WS\\physionet.org\\files\\chbmit\\1.0.0\\chb12\\chb12_41.edf...\n",
      "EDF file detected\n",
      "Setting channel info structure...\n",
      "Creating raw.info structure...\n"
     ]
    },
    {
     "output_type": "stream",
     "name": "stderr",
     "text": [
      "<ipython-input-2-2015fd87c072>:4: RuntimeWarning: Channel names are not unique, found duplicates for: {'-', 'T8-P8'}. Applying running numbers for duplicates.\n",
      "  edf = mne.io.read_raw_edf(edf_filename,stim_channel=None)\n",
      "<ipython-input-2-2015fd87c072>:4: RuntimeWarning: Number of records from the header does not match the file size (perhaps the recording was not stopped before exiting). Inferring from the file size.\n",
      "  edf = mne.io.read_raw_edf(edf_filename,stim_channel=None)\n",
      "<ipython-input-2-2015fd87c072>:4: RuntimeWarning: Scaling factor is not defined in following channels:\n",
      "--0, --1, --2, --3, --4\n",
      "  edf = mne.io.read_raw_edf(edf_filename,stim_channel=None)\n"
     ]
    },
    {
     "output_type": "stream",
     "name": "stdout",
     "text": [
      "(23, 1321472)\n",
      "Extracting EDF parameters from d:\\salma\\UNI\\Sem8\\WS\\physionet.org\\files\\chbmit\\1.0.0\\chb12\\chb12_42.edf...\n",
      "EDF file detected\n",
      "Setting channel info structure...\n",
      "Creating raw.info structure...\n"
     ]
    },
    {
     "output_type": "stream",
     "name": "stderr",
     "text": [
      "<ipython-input-2-2015fd87c072>:4: RuntimeWarning: Channel names are not unique, found duplicates for: {'-', 'T8-P8'}. Applying running numbers for duplicates.\n",
      "  edf = mne.io.read_raw_edf(edf_filename,stim_channel=None)\n",
      "<ipython-input-2-2015fd87c072>:4: RuntimeWarning: Number of records from the header does not match the file size (perhaps the recording was not stopped before exiting). Inferring from the file size.\n",
      "  edf = mne.io.read_raw_edf(edf_filename,stim_channel=None)\n",
      "<ipython-input-2-2015fd87c072>:4: RuntimeWarning: Scaling factor is not defined in following channels:\n",
      "--0, --1, --2, --3, --4\n",
      "  edf = mne.io.read_raw_edf(edf_filename,stim_channel=None)\n"
     ]
    },
    {
     "output_type": "stream",
     "name": "stdout",
     "text": [
      "(23, 1040896)\n",
      "699\n",
      "750\n",
      "945\n",
      "973\n",
      "1170\n",
      "1199\n",
      "1676\n",
      "1701\n",
      "2213\n",
      "2236\n",
      "file: 0 , shape: (23, 923136) \n",
      "total number of windows: 720.0 , number of windows discarded: 8 \n",
      "file: 1 , shape: (23, 921600) \n",
      "total number of windows: 718.0 , number of windows discarded: 17 \n",
      "file: 2 , shape: (23, 924672) \n",
      "total number of windows: 721.0 , number of windows discarded: 9 \n",
      "file: 3 , shape: (23, 924416) \n",
      "total number of windows: 721.0 , number of windows discarded: 8 \n",
      "file: 4 , shape: (23, 622336) \n",
      "total number of windows: 485.0 , number of windows discarded: 4 \n",
      "file: 5 , shape: (23, 921600) \n",
      "total number of windows: 718.0 , number of windows discarded: 0 \n",
      "file: 6 , shape: (23, 921600) \n",
      "total number of windows: 718.0 , number of windows discarded: 0 \n",
      "file: 7 , shape: (23, 921600) \n",
      "total number of windows: 718.0 , number of windows discarded: 0 \n",
      "file: 8 , shape: (23, 921600) \n",
      "total number of windows: 718.0 , number of windows discarded: 10 \n",
      "file: 9 , shape: (23, 921600) \n",
      "total number of windows: 718.0 , number of windows discarded: 0 \n",
      "file: 10 , shape: (23, 1015040) \n",
      "total number of windows: 791.0 , number of windows discarded: 0 \n",
      "file: 11 , shape: (23, 956672) \n",
      "total number of windows: 746.0 , number of windows discarded: 8 \n",
      "file: 12 , shape: (23, 923904) \n",
      "total number of windows: 720.0 , number of windows discarded: 0 \n",
      "file: 13 , shape: (23, 1078784) \n",
      "total number of windows: 841.0 , number of windows discarded: 0 \n",
      "file: 14 , shape: (23, 984576) \n",
      "total number of windows: 768.0 , number of windows discarded: 6 \n",
      "file: 15 , shape: (23, 929024) \n",
      "total number of windows: 724.0 , number of windows discarded: 0 \n",
      "file: 16 , shape: (23, 1134848) \n",
      "total number of windows: 885.0 , number of windows discarded: 23 \n",
      "file: 17 , shape: (23, 961536) \n",
      "total number of windows: 750.0 , number of windows discarded: 0 \n",
      "file: 18 , shape: (23, 1003520) \n",
      "total number of windows: 782.0 , number of windows discarded: 0 \n",
      "file: 19 , shape: (23, 1321472) \n",
      "total number of windows: 1031.0 , number of windows discarded: 0 \n",
      "file: 20 , shape: (23, 1040896) \n",
      "total number of windows: 812.0 , number of windows discarded: 19 \n",
      "Extracting EDF parameters from d:\\salma\\UNI\\Sem8\\WS\\physionet.org\\files\\chbmit\\1.0.0\\chb13\\chb13_02.edf...\n",
      "EDF file detected\n",
      "Setting channel info structure...\n",
      "Creating raw.info structure...\n"
     ]
    },
    {
     "output_type": "stream",
     "name": "stderr",
     "text": [
      "<ipython-input-2-2015fd87c072>:4: RuntimeWarning: Channel names are not unique, found duplicates for: {'-', 'T8-P8'}. Applying running numbers for duplicates.\n",
      "  edf = mne.io.read_raw_edf(edf_filename,stim_channel=None)\n",
      "<ipython-input-2-2015fd87c072>:4: RuntimeWarning: Scaling factor is not defined in following channels:\n",
      "--0, --1, --2, --3, --4\n",
      "  edf = mne.io.read_raw_edf(edf_filename,stim_channel=None)\n"
     ]
    },
    {
     "output_type": "stream",
     "name": "stdout",
     "text": [
      "(23, 921600)\n",
      "Extracting EDF parameters from d:\\salma\\UNI\\Sem8\\WS\\physionet.org\\files\\chbmit\\1.0.0\\chb13\\chb13_03.edf...\n",
      "EDF file detected\n",
      "Setting channel info structure...\n",
      "Creating raw.info structure...\n"
     ]
    },
    {
     "output_type": "stream",
     "name": "stderr",
     "text": [
      "<ipython-input-2-2015fd87c072>:4: RuntimeWarning: Channel names are not unique, found duplicates for: {'-', 'T8-P8'}. Applying running numbers for duplicates.\n",
      "  edf = mne.io.read_raw_edf(edf_filename,stim_channel=None)\n",
      "<ipython-input-2-2015fd87c072>:4: RuntimeWarning: Scaling factor is not defined in following channels:\n",
      "--0, --1, --2, --3, --4\n",
      "  edf = mne.io.read_raw_edf(edf_filename,stim_channel=None)\n"
     ]
    },
    {
     "output_type": "stream",
     "name": "stdout",
     "text": [
      "(23, 921600)\n",
      "Extracting EDF parameters from d:\\salma\\UNI\\Sem8\\WS\\physionet.org\\files\\chbmit\\1.0.0\\chb13\\chb13_19.edf...\n",
      "EDF file detected\n",
      "Setting channel info structure...\n",
      "Creating raw.info structure...\n"
     ]
    },
    {
     "output_type": "stream",
     "name": "stderr",
     "text": [
      "<ipython-input-2-2015fd87c072>:4: RuntimeWarning: Channel names are not unique, found duplicates for: {'-', 'T8-P8'}. Applying running numbers for duplicates.\n",
      "  edf = mne.io.read_raw_edf(edf_filename,stim_channel=None)\n",
      "<ipython-input-2-2015fd87c072>:4: RuntimeWarning: Scaling factor is not defined in following channels:\n",
      "--0, --1, --2, --3, --4\n",
      "  edf = mne.io.read_raw_edf(edf_filename,stim_channel=None)\n"
     ]
    },
    {
     "output_type": "stream",
     "name": "stdout",
     "text": [
      "(23, 921600)\n",
      "2077\n",
      "2121\n",
      "Extracting EDF parameters from d:\\salma\\UNI\\Sem8\\WS\\physionet.org\\files\\chbmit\\1.0.0\\chb13\\chb13_21.edf...\n",
      "EDF file detected\n",
      "Setting channel info structure...\n",
      "Creating raw.info structure...\n"
     ]
    },
    {
     "output_type": "stream",
     "name": "stderr",
     "text": [
      "<ipython-input-2-2015fd87c072>:4: RuntimeWarning: Channel names are not unique, found duplicates for: {'-', 'T8-P8'}. Applying running numbers for duplicates.\n",
      "  edf = mne.io.read_raw_edf(edf_filename,stim_channel=None)\n",
      "<ipython-input-2-2015fd87c072>:4: RuntimeWarning: Scaling factor is not defined in following channels:\n",
      "--0, --1, --2, --3, --4\n",
      "  edf = mne.io.read_raw_edf(edf_filename,stim_channel=None)\n"
     ]
    },
    {
     "output_type": "stream",
     "name": "stdout",
     "text": [
      "(23, 921600)\n",
      "934\n",
      "1004\n",
      "Extracting EDF parameters from d:\\salma\\UNI\\Sem8\\WS\\physionet.org\\files\\chbmit\\1.0.0\\chb13\\chb13_22.edf...\n",
      "EDF file detected\n",
      "Setting channel info structure...\n",
      "Creating raw.info structure...\n"
     ]
    },
    {
     "output_type": "stream",
     "name": "stderr",
     "text": [
      "<ipython-input-2-2015fd87c072>:4: RuntimeWarning: Channel names are not unique, found duplicates for: {'-', 'T8-P8'}. Applying running numbers for duplicates.\n",
      "  edf = mne.io.read_raw_edf(edf_filename,stim_channel=None)\n",
      "<ipython-input-2-2015fd87c072>:4: RuntimeWarning: Scaling factor is not defined in following channels:\n",
      "--0, --1, --2, --3, --4\n",
      "  edf = mne.io.read_raw_edf(edf_filename,stim_channel=None)\n"
     ]
    },
    {
     "output_type": "stream",
     "name": "stdout",
     "text": [
      "(23, 921600)\n",
      "Extracting EDF parameters from d:\\salma\\UNI\\Sem8\\WS\\physionet.org\\files\\chbmit\\1.0.0\\chb13\\chb13_55.edf...\n",
      "EDF file detected\n",
      "Setting channel info structure...\n",
      "Creating raw.info structure...\n"
     ]
    },
    {
     "output_type": "stream",
     "name": "stderr",
     "text": [
      "<ipython-input-2-2015fd87c072>:4: RuntimeWarning: Channel names are not unique, found duplicates for: {'-', 'T8-P8'}. Applying running numbers for duplicates.\n",
      "  edf = mne.io.read_raw_edf(edf_filename,stim_channel=None)\n",
      "<ipython-input-2-2015fd87c072>:4: RuntimeWarning: Scaling factor is not defined in following channels:\n",
      "--0, --1, --2, --3, --4\n",
      "  edf = mne.io.read_raw_edf(edf_filename,stim_channel=None)\n"
     ]
    },
    {
     "output_type": "stream",
     "name": "stdout",
     "text": [
      "(23, 921600)\n",
      "458\n",
      "478\n",
      "2436\n",
      "2454\n",
      "Extracting EDF parameters from d:\\salma\\UNI\\Sem8\\WS\\physionet.org\\files\\chbmit\\1.0.0\\chb13\\chb13_56.edf...\n",
      "EDF file detected\n",
      "Setting channel info structure...\n",
      "Creating raw.info structure...\n"
     ]
    },
    {
     "output_type": "stream",
     "name": "stderr",
     "text": [
      "<ipython-input-2-2015fd87c072>:4: RuntimeWarning: Channel names are not unique, found duplicates for: {'-', 'T8-P8'}. Applying running numbers for duplicates.\n",
      "  edf = mne.io.read_raw_edf(edf_filename,stim_channel=None)\n",
      "<ipython-input-2-2015fd87c072>:4: RuntimeWarning: Scaling factor is not defined in following channels:\n",
      "--0, --1, --2, --3, --4\n",
      "  edf = mne.io.read_raw_edf(edf_filename,stim_channel=None)\n"
     ]
    },
    {
     "output_type": "stream",
     "name": "stdout",
     "text": [
      "(23, 921600)\n",
      "Extracting EDF parameters from d:\\salma\\UNI\\Sem8\\WS\\physionet.org\\files\\chbmit\\1.0.0\\chb13\\chb13_58.edf...\n",
      "EDF file detected\n",
      "Setting channel info structure...\n",
      "Creating raw.info structure...\n"
     ]
    },
    {
     "output_type": "stream",
     "name": "stderr",
     "text": [
      "<ipython-input-2-2015fd87c072>:4: RuntimeWarning: Channel names are not unique, found duplicates for: {'-', 'T8-P8'}. Applying running numbers for duplicates.\n",
      "  edf = mne.io.read_raw_edf(edf_filename,stim_channel=None)\n",
      "<ipython-input-2-2015fd87c072>:4: RuntimeWarning: Scaling factor is not defined in following channels:\n",
      "--0, --1, --2, --3, --4\n",
      "  edf = mne.io.read_raw_edf(edf_filename,stim_channel=None)\n"
     ]
    },
    {
     "output_type": "stream",
     "name": "stdout",
     "text": [
      "(23, 921600)\n",
      "2474\n",
      "2491\n",
      "Extracting EDF parameters from d:\\salma\\UNI\\Sem8\\WS\\physionet.org\\files\\chbmit\\1.0.0\\chb13\\chb13_59.edf...\n",
      "EDF file detected\n",
      "Setting channel info structure...\n",
      "Creating raw.info structure...\n"
     ]
    },
    {
     "output_type": "stream",
     "name": "stderr",
     "text": [
      "<ipython-input-2-2015fd87c072>:4: RuntimeWarning: Channel names are not unique, found duplicates for: {'-', 'T8-P8'}. Applying running numbers for duplicates.\n",
      "  edf = mne.io.read_raw_edf(edf_filename,stim_channel=None)\n",
      "<ipython-input-2-2015fd87c072>:4: RuntimeWarning: Scaling factor is not defined in following channels:\n",
      "--0, --1, --2, --3, --4\n",
      "  edf = mne.io.read_raw_edf(edf_filename,stim_channel=None)\n"
     ]
    },
    {
     "output_type": "stream",
     "name": "stdout",
     "text": [
      "(23, 921600)\n",
      "3339\n",
      "3401\n",
      "Extracting EDF parameters from d:\\salma\\UNI\\Sem8\\WS\\physionet.org\\files\\chbmit\\1.0.0\\chb13\\chb13_60.edf...\n",
      "EDF file detected\n",
      "Setting channel info structure...\n",
      "Creating raw.info structure...\n"
     ]
    },
    {
     "output_type": "stream",
     "name": "stderr",
     "text": [
      "<ipython-input-2-2015fd87c072>:4: RuntimeWarning: Channel names are not unique, found duplicates for: {'-', 'T8-P8'}. Applying running numbers for duplicates.\n",
      "  edf = mne.io.read_raw_edf(edf_filename,stim_channel=None)\n",
      "<ipython-input-2-2015fd87c072>:4: RuntimeWarning: Scaling factor is not defined in following channels:\n",
      "--0, --1, --2, --3, --4\n",
      "  edf = mne.io.read_raw_edf(edf_filename,stim_channel=None)\n"
     ]
    },
    {
     "output_type": "stream",
     "name": "stdout",
     "text": [
      "(23, 921600)\n",
      "638\n",
      "660\n",
      "Extracting EDF parameters from d:\\salma\\UNI\\Sem8\\WS\\physionet.org\\files\\chbmit\\1.0.0\\chb13\\chb13_62.edf...\n",
      "EDF file detected\n",
      "Setting channel info structure...\n",
      "Creating raw.info structure...\n"
     ]
    },
    {
     "output_type": "stream",
     "name": "stderr",
     "text": [
      "<ipython-input-2-2015fd87c072>:4: RuntimeWarning: Channel names are not unique, found duplicates for: {'-', 'T8-P8'}. Applying running numbers for duplicates.\n",
      "  edf = mne.io.read_raw_edf(edf_filename,stim_channel=None)\n",
      "<ipython-input-2-2015fd87c072>:4: RuntimeWarning: Scaling factor is not defined in following channels:\n",
      "--0, --1, --2, --3, --4\n",
      "  edf = mne.io.read_raw_edf(edf_filename,stim_channel=None)\n"
     ]
    },
    {
     "output_type": "stream",
     "name": "stdout",
     "text": [
      "(23, 921600)\n",
      "851\n",
      "916\n",
      "1626\n",
      "1691\n",
      "2664\n",
      "2721\n",
      "file: 0 , shape: (23, 921600) \n",
      "total number of windows: 718.0 , number of windows discarded: 0 \n",
      "file: 1 , shape: (23, 921600) \n",
      "total number of windows: 718.0 , number of windows discarded: 0 \n",
      "file: 2 , shape: (23, 921600) \n",
      "total number of windows: 718.0 , number of windows discarded: 6 \n",
      "file: 3 , shape: (23, 921600) \n",
      "total number of windows: 718.0 , number of windows discarded: 5 \n",
      "file: 4 , shape: (23, 921600) \n",
      "total number of windows: 718.0 , number of windows discarded: 0 \n",
      "file: 5 , shape: (23, 921600) \n",
      "total number of windows: 718.0 , number of windows discarded: 9 \n",
      "file: 6 , shape: (23, 921600) \n",
      "total number of windows: 718.0 , number of windows discarded: 0 \n",
      "file: 7 , shape: (23, 921600) \n",
      "total number of windows: 718.0 , number of windows discarded: 6 \n",
      "file: 8 , shape: (23, 921600) \n",
      "total number of windows: 718.0 , number of windows discarded: 6 \n",
      "file: 9 , shape: (23, 921600) \n",
      "total number of windows: 718.0 , number of windows discarded: 6 \n",
      "file: 10 , shape: (23, 921600) \n",
      "total number of windows: 718.0 , number of windows discarded: 18 \n",
      "Extracting EDF parameters from d:\\salma\\UNI\\Sem8\\WS\\physionet.org\\files\\chbmit\\1.0.0\\chb14\\chb14_01.edf...\n",
      "EDF file detected\n",
      "Setting channel info structure...\n",
      "Creating raw.info structure...\n"
     ]
    },
    {
     "output_type": "stream",
     "name": "stderr",
     "text": [
      "<ipython-input-2-2015fd87c072>:4: RuntimeWarning: Channel names are not unique, found duplicates for: {'-', 'T8-P8'}. Applying running numbers for duplicates.\n",
      "  edf = mne.io.read_raw_edf(edf_filename,stim_channel=None)\n",
      "<ipython-input-2-2015fd87c072>:4: RuntimeWarning: Scaling factor is not defined in following channels:\n",
      "--0, --1, --2, --3, --4\n",
      "  edf = mne.io.read_raw_edf(edf_filename,stim_channel=None)\n"
     ]
    },
    {
     "output_type": "stream",
     "name": "stdout",
     "text": [
      "(23, 921600)\n",
      "Extracting EDF parameters from d:\\salma\\UNI\\Sem8\\WS\\physionet.org\\files\\chbmit\\1.0.0\\chb14\\chb14_02.edf...\n",
      "EDF file detected\n",
      "Setting channel info structure...\n",
      "Creating raw.info structure...\n"
     ]
    },
    {
     "output_type": "stream",
     "name": "stderr",
     "text": [
      "<ipython-input-2-2015fd87c072>:4: RuntimeWarning: Channel names are not unique, found duplicates for: {'-', 'T8-P8'}. Applying running numbers for duplicates.\n",
      "  edf = mne.io.read_raw_edf(edf_filename,stim_channel=None)\n",
      "<ipython-input-2-2015fd87c072>:4: RuntimeWarning: Scaling factor is not defined in following channels:\n",
      "--0, --1, --2, --3, --4\n",
      "  edf = mne.io.read_raw_edf(edf_filename,stim_channel=None)\n"
     ]
    },
    {
     "output_type": "stream",
     "name": "stdout",
     "text": [
      "(23, 921600)\n",
      "Extracting EDF parameters from d:\\salma\\UNI\\Sem8\\WS\\physionet.org\\files\\chbmit\\1.0.0\\chb14\\chb14_03.edf...\n",
      "EDF file detected\n",
      "Setting channel info structure...\n",
      "Creating raw.info structure...\n"
     ]
    },
    {
     "output_type": "stream",
     "name": "stderr",
     "text": [
      "<ipython-input-2-2015fd87c072>:4: RuntimeWarning: Channel names are not unique, found duplicates for: {'-', 'T8-P8'}. Applying running numbers for duplicates.\n",
      "  edf = mne.io.read_raw_edf(edf_filename,stim_channel=None)\n",
      "<ipython-input-2-2015fd87c072>:4: RuntimeWarning: Scaling factor is not defined in following channels:\n",
      "--0, --1, --2, --3, --4\n",
      "  edf = mne.io.read_raw_edf(edf_filename,stim_channel=None)\n"
     ]
    },
    {
     "output_type": "stream",
     "name": "stdout",
     "text": [
      "(23, 921600)\n",
      "1986\n",
      "2000\n",
      "Extracting EDF parameters from d:\\salma\\UNI\\Sem8\\WS\\physionet.org\\files\\chbmit\\1.0.0\\chb14\\chb14_04.edf...\n",
      "EDF file detected\n",
      "Setting channel info structure...\n",
      "Creating raw.info structure...\n"
     ]
    },
    {
     "output_type": "stream",
     "name": "stderr",
     "text": [
      "<ipython-input-2-2015fd87c072>:4: RuntimeWarning: Channel names are not unique, found duplicates for: {'-', 'T8-P8'}. Applying running numbers for duplicates.\n",
      "  edf = mne.io.read_raw_edf(edf_filename,stim_channel=None)\n",
      "<ipython-input-2-2015fd87c072>:4: RuntimeWarning: Scaling factor is not defined in following channels:\n",
      "--0, --1, --2, --3, --4\n",
      "  edf = mne.io.read_raw_edf(edf_filename,stim_channel=None)\n"
     ]
    },
    {
     "output_type": "stream",
     "name": "stdout",
     "text": [
      "(23, 921600)\n",
      "1372\n",
      "1392\n",
      "2817\n",
      "2839\n",
      "Extracting EDF parameters from d:\\salma\\UNI\\Sem8\\WS\\physionet.org\\files\\chbmit\\1.0.0\\chb14\\chb14_06.edf...\n",
      "EDF file detected\n",
      "Setting channel info structure...\n",
      "Creating raw.info structure...\n"
     ]
    },
    {
     "output_type": "stream",
     "name": "stderr",
     "text": [
      "<ipython-input-2-2015fd87c072>:4: RuntimeWarning: Channel names are not unique, found duplicates for: {'-', 'T8-P8'}. Applying running numbers for duplicates.\n",
      "  edf = mne.io.read_raw_edf(edf_filename,stim_channel=None)\n",
      "<ipython-input-2-2015fd87c072>:4: RuntimeWarning: Scaling factor is not defined in following channels:\n",
      "--0, --1, --2, --3, --4\n",
      "  edf = mne.io.read_raw_edf(edf_filename,stim_channel=None)\n"
     ]
    },
    {
     "output_type": "stream",
     "name": "stdout",
     "text": [
      "(23, 921600)\n",
      "1911\n",
      "1925\n",
      "Extracting EDF parameters from d:\\salma\\UNI\\Sem8\\WS\\physionet.org\\files\\chbmit\\1.0.0\\chb14\\chb14_07.edf...\n",
      "EDF file detected\n",
      "Setting channel info structure...\n",
      "Creating raw.info structure...\n"
     ]
    },
    {
     "output_type": "stream",
     "name": "stderr",
     "text": [
      "<ipython-input-2-2015fd87c072>:4: RuntimeWarning: Channel names are not unique, found duplicates for: {'-', 'T8-P8'}. Applying running numbers for duplicates.\n",
      "  edf = mne.io.read_raw_edf(edf_filename,stim_channel=None)\n",
      "<ipython-input-2-2015fd87c072>:4: RuntimeWarning: Scaling factor is not defined in following channels:\n",
      "--0, --1, --2, --3, --4\n",
      "  edf = mne.io.read_raw_edf(edf_filename,stim_channel=None)\n"
     ]
    },
    {
     "output_type": "stream",
     "name": "stdout",
     "text": [
      "(23, 921600)\n",
      "Extracting EDF parameters from d:\\salma\\UNI\\Sem8\\WS\\physionet.org\\files\\chbmit\\1.0.0\\chb14\\chb14_11.edf...\n",
      "EDF file detected\n",
      "Setting channel info structure...\n",
      "Creating raw.info structure...\n"
     ]
    },
    {
     "output_type": "stream",
     "name": "stderr",
     "text": [
      "<ipython-input-2-2015fd87c072>:4: RuntimeWarning: Channel names are not unique, found duplicates for: {'-', 'T8-P8'}. Applying running numbers for duplicates.\n",
      "  edf = mne.io.read_raw_edf(edf_filename,stim_channel=None)\n",
      "<ipython-input-2-2015fd87c072>:4: RuntimeWarning: Scaling factor is not defined in following channels:\n",
      "--0, --1, --2, --3, --4\n",
      "  edf = mne.io.read_raw_edf(edf_filename,stim_channel=None)\n"
     ]
    },
    {
     "output_type": "stream",
     "name": "stdout",
     "text": [
      "(23, 921600)\n",
      "1838\n",
      "1879\n",
      "Extracting EDF parameters from d:\\salma\\UNI\\Sem8\\WS\\physionet.org\\files\\chbmit\\1.0.0\\chb14\\chb14_12.edf...\n",
      "EDF file detected\n",
      "Setting channel info structure...\n",
      "Creating raw.info structure...\n"
     ]
    },
    {
     "output_type": "stream",
     "name": "stderr",
     "text": [
      "<ipython-input-2-2015fd87c072>:4: RuntimeWarning: Channel names are not unique, found duplicates for: {'-', 'T8-P8'}. Applying running numbers for duplicates.\n",
      "  edf = mne.io.read_raw_edf(edf_filename,stim_channel=None)\n",
      "<ipython-input-2-2015fd87c072>:4: RuntimeWarning: Scaling factor is not defined in following channels:\n",
      "--0, --1, --2, --3, --4\n",
      "  edf = mne.io.read_raw_edf(edf_filename,stim_channel=None)\n"
     ]
    },
    {
     "output_type": "stream",
     "name": "stdout",
     "text": [
      "(23, 921600)\n",
      "Extracting EDF parameters from d:\\salma\\UNI\\Sem8\\WS\\physionet.org\\files\\chbmit\\1.0.0\\chb14\\chb14_13.edf...\n",
      "EDF file detected\n",
      "Setting channel info structure...\n",
      "Creating raw.info structure...\n"
     ]
    },
    {
     "output_type": "stream",
     "name": "stderr",
     "text": [
      "<ipython-input-2-2015fd87c072>:4: RuntimeWarning: Channel names are not unique, found duplicates for: {'-', 'T8-P8'}. Applying running numbers for duplicates.\n",
      "  edf = mne.io.read_raw_edf(edf_filename,stim_channel=None)\n",
      "<ipython-input-2-2015fd87c072>:4: RuntimeWarning: Scaling factor is not defined in following channels:\n",
      "--0, --1, --2, --3, --4\n",
      "  edf = mne.io.read_raw_edf(edf_filename,stim_channel=None)\n"
     ]
    },
    {
     "output_type": "stream",
     "name": "stdout",
     "text": [
      "(23, 921600)\n",
      "Extracting EDF parameters from d:\\salma\\UNI\\Sem8\\WS\\physionet.org\\files\\chbmit\\1.0.0\\chb14\\chb14_14.edf...\n",
      "EDF file detected\n",
      "Setting channel info structure...\n",
      "Creating raw.info structure...\n"
     ]
    },
    {
     "output_type": "stream",
     "name": "stderr",
     "text": [
      "<ipython-input-2-2015fd87c072>:4: RuntimeWarning: Channel names are not unique, found duplicates for: {'-', 'T8-P8'}. Applying running numbers for duplicates.\n",
      "  edf = mne.io.read_raw_edf(edf_filename,stim_channel=None)\n",
      "<ipython-input-2-2015fd87c072>:4: RuntimeWarning: Scaling factor is not defined in following channels:\n",
      "--0, --1, --2, --3, --4\n",
      "  edf = mne.io.read_raw_edf(edf_filename,stim_channel=None)\n"
     ]
    },
    {
     "output_type": "stream",
     "name": "stdout",
     "text": [
      "(23, 921600)\n",
      "Extracting EDF parameters from d:\\salma\\UNI\\Sem8\\WS\\physionet.org\\files\\chbmit\\1.0.0\\chb14\\chb14_16.edf...\n",
      "EDF file detected\n",
      "Setting channel info structure...\n",
      "Creating raw.info structure...\n"
     ]
    },
    {
     "output_type": "stream",
     "name": "stderr",
     "text": [
      "<ipython-input-2-2015fd87c072>:4: RuntimeWarning: Channel names are not unique, found duplicates for: {'-', 'T8-P8'}. Applying running numbers for duplicates.\n",
      "  edf = mne.io.read_raw_edf(edf_filename,stim_channel=None)\n",
      "<ipython-input-2-2015fd87c072>:4: RuntimeWarning: Scaling factor is not defined in following channels:\n",
      "--0, --1, --2, --3, --4\n",
      "  edf = mne.io.read_raw_edf(edf_filename,stim_channel=None)\n"
     ]
    },
    {
     "output_type": "stream",
     "name": "stdout",
     "text": [
      "(23, 921600)\n",
      "Extracting EDF parameters from d:\\salma\\UNI\\Sem8\\WS\\physionet.org\\files\\chbmit\\1.0.0\\chb14\\chb14_17.edf...\n",
      "EDF file detected\n",
      "Setting channel info structure...\n",
      "Creating raw.info structure...\n"
     ]
    },
    {
     "output_type": "stream",
     "name": "stderr",
     "text": [
      "<ipython-input-2-2015fd87c072>:4: RuntimeWarning: Channel names are not unique, found duplicates for: {'-', 'T8-P8'}. Applying running numbers for duplicates.\n",
      "  edf = mne.io.read_raw_edf(edf_filename,stim_channel=None)\n",
      "<ipython-input-2-2015fd87c072>:4: RuntimeWarning: Scaling factor is not defined in following channels:\n",
      "--0, --1, --2, --3, --4\n",
      "  edf = mne.io.read_raw_edf(edf_filename,stim_channel=None)\n"
     ]
    },
    {
     "output_type": "stream",
     "name": "stdout",
     "text": [
      "(23, 921600)\n",
      "3239\n",
      "3259\n",
      "Extracting EDF parameters from d:\\salma\\UNI\\Sem8\\WS\\physionet.org\\files\\chbmit\\1.0.0\\chb14\\chb14_18.edf...\n",
      "EDF file detected\n",
      "Setting channel info structure...\n",
      "Creating raw.info structure...\n"
     ]
    },
    {
     "output_type": "stream",
     "name": "stderr",
     "text": [
      "<ipython-input-2-2015fd87c072>:4: RuntimeWarning: Channel names are not unique, found duplicates for: {'-', 'T8-P8'}. Applying running numbers for duplicates.\n",
      "  edf = mne.io.read_raw_edf(edf_filename,stim_channel=None)\n",
      "<ipython-input-2-2015fd87c072>:4: RuntimeWarning: Scaling factor is not defined in following channels:\n",
      "--0, --1, --2, --3, --4\n",
      "  edf = mne.io.read_raw_edf(edf_filename,stim_channel=None)\n"
     ]
    },
    {
     "output_type": "stream",
     "name": "stdout",
     "text": [
      "(23, 921600)\n",
      "1039\n",
      "1061\n",
      "Extracting EDF parameters from d:\\salma\\UNI\\Sem8\\WS\\physionet.org\\files\\chbmit\\1.0.0\\chb14\\chb14_19.edf...\n",
      "EDF file detected\n",
      "Setting channel info structure...\n",
      "Creating raw.info structure...\n"
     ]
    },
    {
     "output_type": "stream",
     "name": "stderr",
     "text": [
      "<ipython-input-2-2015fd87c072>:4: RuntimeWarning: Channel names are not unique, found duplicates for: {'-', 'T8-P8'}. Applying running numbers for duplicates.\n",
      "  edf = mne.io.read_raw_edf(edf_filename,stim_channel=None)\n",
      "<ipython-input-2-2015fd87c072>:4: RuntimeWarning: Scaling factor is not defined in following channels:\n",
      "--0, --1, --2, --3, --4\n",
      "  edf = mne.io.read_raw_edf(edf_filename,stim_channel=None)\n"
     ]
    },
    {
     "output_type": "stream",
     "name": "stdout",
     "text": [
      "(23, 921600)\n",
      "Extracting EDF parameters from d:\\salma\\UNI\\Sem8\\WS\\physionet.org\\files\\chbmit\\1.0.0\\chb14\\chb14_20.edf...\n",
      "EDF file detected\n",
      "Setting channel info structure...\n",
      "Creating raw.info structure...\n"
     ]
    },
    {
     "output_type": "stream",
     "name": "stderr",
     "text": [
      "<ipython-input-2-2015fd87c072>:4: RuntimeWarning: Channel names are not unique, found duplicates for: {'-', 'T8-P8'}. Applying running numbers for duplicates.\n",
      "  edf = mne.io.read_raw_edf(edf_filename,stim_channel=None)\n",
      "<ipython-input-2-2015fd87c072>:4: RuntimeWarning: Scaling factor is not defined in following channels:\n",
      "--0, --1, --2, --3, --4\n",
      "  edf = mne.io.read_raw_edf(edf_filename,stim_channel=None)\n"
     ]
    },
    {
     "output_type": "stream",
     "name": "stdout",
     "text": [
      "(23, 921600)\n",
      "Extracting EDF parameters from d:\\salma\\UNI\\Sem8\\WS\\physionet.org\\files\\chbmit\\1.0.0\\chb14\\chb14_22.edf...\n",
      "EDF file detected\n",
      "Setting channel info structure...\n",
      "Creating raw.info structure...\n"
     ]
    },
    {
     "output_type": "stream",
     "name": "stderr",
     "text": [
      "<ipython-input-2-2015fd87c072>:4: RuntimeWarning: Channel names are not unique, found duplicates for: {'-', 'T8-P8'}. Applying running numbers for duplicates.\n",
      "  edf = mne.io.read_raw_edf(edf_filename,stim_channel=None)\n",
      "<ipython-input-2-2015fd87c072>:4: RuntimeWarning: Scaling factor is not defined in following channels:\n",
      "--0, --1, --2, --3, --4\n",
      "  edf = mne.io.read_raw_edf(edf_filename,stim_channel=None)\n"
     ]
    },
    {
     "output_type": "stream",
     "name": "stdout",
     "text": [
      "(23, 921600)\n",
      "Extracting EDF parameters from d:\\salma\\UNI\\Sem8\\WS\\physionet.org\\files\\chbmit\\1.0.0\\chb14\\chb14_24.edf...\n",
      "EDF file detected\n",
      "Setting channel info structure...\n",
      "Creating raw.info structure...\n"
     ]
    },
    {
     "output_type": "stream",
     "name": "stderr",
     "text": [
      "<ipython-input-2-2015fd87c072>:4: RuntimeWarning: Channel names are not unique, found duplicates for: {'-', 'T8-P8'}. Applying running numbers for duplicates.\n",
      "  edf = mne.io.read_raw_edf(edf_filename,stim_channel=None)\n",
      "<ipython-input-2-2015fd87c072>:4: RuntimeWarning: Scaling factor is not defined in following channels:\n",
      "--0, --1, --2, --3, --4\n",
      "  edf = mne.io.read_raw_edf(edf_filename,stim_channel=None)\n"
     ]
    },
    {
     "output_type": "stream",
     "name": "stdout",
     "text": [
      "(23, 921600)\n",
      "Extracting EDF parameters from d:\\salma\\UNI\\Sem8\\WS\\physionet.org\\files\\chbmit\\1.0.0\\chb14\\chb14_25.edf...\n",
      "EDF file detected\n",
      "Setting channel info structure...\n",
      "Creating raw.info structure...\n"
     ]
    },
    {
     "output_type": "stream",
     "name": "stderr",
     "text": [
      "<ipython-input-2-2015fd87c072>:4: RuntimeWarning: Channel names are not unique, found duplicates for: {'-', 'T8-P8'}. Applying running numbers for duplicates.\n",
      "  edf = mne.io.read_raw_edf(edf_filename,stim_channel=None)\n",
      "<ipython-input-2-2015fd87c072>:4: RuntimeWarning: Scaling factor is not defined in following channels:\n",
      "--0, --1, --2, --3, --4\n",
      "  edf = mne.io.read_raw_edf(edf_filename,stim_channel=None)\n"
     ]
    },
    {
     "output_type": "stream",
     "name": "stdout",
     "text": [
      "(23, 921600)\n",
      "Extracting EDF parameters from d:\\salma\\UNI\\Sem8\\WS\\physionet.org\\files\\chbmit\\1.0.0\\chb14\\chb14_26.edf...\n",
      "EDF file detected\n",
      "Setting channel info structure...\n",
      "Creating raw.info structure...\n"
     ]
    },
    {
     "output_type": "stream",
     "name": "stderr",
     "text": [
      "<ipython-input-2-2015fd87c072>:4: RuntimeWarning: Channel names are not unique, found duplicates for: {'-', 'T8-P8'}. Applying running numbers for duplicates.\n",
      "  edf = mne.io.read_raw_edf(edf_filename,stim_channel=None)\n",
      "<ipython-input-2-2015fd87c072>:4: RuntimeWarning: Scaling factor is not defined in following channels:\n",
      "--0, --1, --2, --3, --4\n",
      "  edf = mne.io.read_raw_edf(edf_filename,stim_channel=None)\n"
     ]
    },
    {
     "output_type": "stream",
     "name": "stdout",
     "text": [
      "(23, 921600)\n",
      "Extracting EDF parameters from d:\\salma\\UNI\\Sem8\\WS\\physionet.org\\files\\chbmit\\1.0.0\\chb14\\chb14_27.edf...\n",
      "EDF file detected\n",
      "Setting channel info structure...\n",
      "Creating raw.info structure...\n"
     ]
    },
    {
     "output_type": "stream",
     "name": "stderr",
     "text": [
      "<ipython-input-2-2015fd87c072>:4: RuntimeWarning: Channel names are not unique, found duplicates for: {'-', 'T8-P8'}. Applying running numbers for duplicates.\n",
      "  edf = mne.io.read_raw_edf(edf_filename,stim_channel=None)\n",
      "<ipython-input-2-2015fd87c072>:4: RuntimeWarning: Scaling factor is not defined in following channels:\n",
      "--0, --1, --2, --3, --4\n",
      "  edf = mne.io.read_raw_edf(edf_filename,stim_channel=None)\n"
     ]
    },
    {
     "output_type": "stream",
     "name": "stdout",
     "text": [
      "(23, 921600)\n",
      "2833\n",
      "2849\n",
      "Extracting EDF parameters from d:\\salma\\UNI\\Sem8\\WS\\physionet.org\\files\\chbmit\\1.0.0\\chb14\\chb14_29.edf...\n",
      "EDF file detected\n",
      "Setting channel info structure...\n",
      "Creating raw.info structure...\n"
     ]
    },
    {
     "output_type": "stream",
     "name": "stderr",
     "text": [
      "<ipython-input-2-2015fd87c072>:4: RuntimeWarning: Channel names are not unique, found duplicates for: {'-', 'T8-P8'}. Applying running numbers for duplicates.\n",
      "  edf = mne.io.read_raw_edf(edf_filename,stim_channel=None)\n",
      "<ipython-input-2-2015fd87c072>:4: RuntimeWarning: Scaling factor is not defined in following channels:\n",
      "--0, --1, --2, --3, --4\n",
      "  edf = mne.io.read_raw_edf(edf_filename,stim_channel=None)\n"
     ]
    },
    {
     "output_type": "stream",
     "name": "stdout",
     "text": [
      "(23, 921600)\n",
      "Extracting EDF parameters from d:\\salma\\UNI\\Sem8\\WS\\physionet.org\\files\\chbmit\\1.0.0\\chb14\\chb14_30.edf...\n",
      "EDF file detected\n",
      "Setting channel info structure...\n",
      "Creating raw.info structure...\n"
     ]
    },
    {
     "output_type": "stream",
     "name": "stderr",
     "text": [
      "<ipython-input-2-2015fd87c072>:4: RuntimeWarning: Channel names are not unique, found duplicates for: {'-', 'T8-P8'}. Applying running numbers for duplicates.\n",
      "  edf = mne.io.read_raw_edf(edf_filename,stim_channel=None)\n",
      "<ipython-input-2-2015fd87c072>:4: RuntimeWarning: Scaling factor is not defined in following channels:\n",
      "--0, --1, --2, --3, --4\n",
      "  edf = mne.io.read_raw_edf(edf_filename,stim_channel=None)\n"
     ]
    },
    {
     "output_type": "stream",
     "name": "stdout",
     "text": [
      "(23, 921600)\n",
      "Extracting EDF parameters from d:\\salma\\UNI\\Sem8\\WS\\physionet.org\\files\\chbmit\\1.0.0\\chb14\\chb14_32.edf...\n",
      "EDF file detected\n",
      "Setting channel info structure...\n",
      "Creating raw.info structure...\n"
     ]
    },
    {
     "output_type": "stream",
     "name": "stderr",
     "text": [
      "<ipython-input-2-2015fd87c072>:4: RuntimeWarning: Channel names are not unique, found duplicates for: {'-', 'T8-P8'}. Applying running numbers for duplicates.\n",
      "  edf = mne.io.read_raw_edf(edf_filename,stim_channel=None)\n",
      "<ipython-input-2-2015fd87c072>:4: RuntimeWarning: Scaling factor is not defined in following channels:\n",
      "--0, --1, --2, --3, --4\n",
      "  edf = mne.io.read_raw_edf(edf_filename,stim_channel=None)\n"
     ]
    },
    {
     "output_type": "stream",
     "name": "stdout",
     "text": [
      "(23, 921600)\n",
      "Extracting EDF parameters from d:\\salma\\UNI\\Sem8\\WS\\physionet.org\\files\\chbmit\\1.0.0\\chb14\\chb14_37.edf...\n",
      "EDF file detected\n",
      "Setting channel info structure...\n",
      "Creating raw.info structure...\n"
     ]
    },
    {
     "output_type": "stream",
     "name": "stderr",
     "text": [
      "<ipython-input-2-2015fd87c072>:4: RuntimeWarning: Channel names are not unique, found duplicates for: {'-', 'T8-P8'}. Applying running numbers for duplicates.\n",
      "  edf = mne.io.read_raw_edf(edf_filename,stim_channel=None)\n",
      "<ipython-input-2-2015fd87c072>:4: RuntimeWarning: Scaling factor is not defined in following channels:\n",
      "--0, --1, --2, --3, --4\n",
      "  edf = mne.io.read_raw_edf(edf_filename,stim_channel=None)\n"
     ]
    },
    {
     "output_type": "stream",
     "name": "stdout",
     "text": [
      "(23, 921600)\n",
      "Extracting EDF parameters from d:\\salma\\UNI\\Sem8\\WS\\physionet.org\\files\\chbmit\\1.0.0\\chb14\\chb14_39.edf...\n",
      "EDF file detected\n",
      "Setting channel info structure...\n",
      "Creating raw.info structure...\n"
     ]
    },
    {
     "output_type": "stream",
     "name": "stderr",
     "text": [
      "<ipython-input-2-2015fd87c072>:4: RuntimeWarning: Channel names are not unique, found duplicates for: {'-', 'T8-P8'}. Applying running numbers for duplicates.\n",
      "  edf = mne.io.read_raw_edf(edf_filename,stim_channel=None)\n",
      "<ipython-input-2-2015fd87c072>:4: RuntimeWarning: Scaling factor is not defined in following channels:\n",
      "--0, --1, --2, --3, --4\n",
      "  edf = mne.io.read_raw_edf(edf_filename,stim_channel=None)\n"
     ]
    },
    {
     "output_type": "stream",
     "name": "stdout",
     "text": [
      "(23, 921600)\n",
      "Extracting EDF parameters from d:\\salma\\UNI\\Sem8\\WS\\physionet.org\\files\\chbmit\\1.0.0\\chb14\\chb14_42.edf...\n",
      "EDF file detected\n",
      "Setting channel info structure...\n",
      "Creating raw.info structure...\n"
     ]
    },
    {
     "output_type": "stream",
     "name": "stderr",
     "text": [
      "<ipython-input-2-2015fd87c072>:4: RuntimeWarning: Channel names are not unique, found duplicates for: {'-', 'T8-P8'}. Applying running numbers for duplicates.\n",
      "  edf = mne.io.read_raw_edf(edf_filename,stim_channel=None)\n",
      "<ipython-input-2-2015fd87c072>:4: RuntimeWarning: Scaling factor is not defined in following channels:\n",
      "--0, --1, --2, --3, --4\n",
      "  edf = mne.io.read_raw_edf(edf_filename,stim_channel=None)\n"
     ]
    },
    {
     "output_type": "stream",
     "name": "stdout",
     "text": [
      "(23, 921600)\n",
      "file: 0 , shape: (23, 921600) \n",
      "total number of windows: 718.0 , number of windows discarded: 0 \n",
      "file: 1 , shape: (23, 921600) \n",
      "total number of windows: 718.0 , number of windows discarded: 0 \n",
      "file: 2 , shape: (23, 921600) \n",
      "total number of windows: 718.0 , number of windows discarded: 6 \n",
      "file: 3 , shape: (23, 921600) \n",
      "total number of windows: 718.0 , number of windows discarded: 11 \n",
      "file: 4 , shape: (23, 921600) \n",
      "total number of windows: 718.0 , number of windows discarded: 6 \n",
      "file: 5 , shape: (23, 921600) \n",
      "total number of windows: 718.0 , number of windows discarded: 0 \n",
      "file: 6 , shape: (23, 921600) \n",
      "total number of windows: 718.0 , number of windows discarded: 5 \n",
      "file: 7 , shape: (23, 921600) \n",
      "total number of windows: 718.0 , number of windows discarded: 0 \n",
      "file: 8 , shape: (23, 921600) \n",
      "total number of windows: 718.0 , number of windows discarded: 0 \n",
      "file: 9 , shape: (23, 921600) \n",
      "total number of windows: 718.0 , number of windows discarded: 0 \n",
      "file: 10 , shape: (23, 921600) \n",
      "total number of windows: 718.0 , number of windows discarded: 0 \n",
      "file: 11 , shape: (23, 921600) \n",
      "total number of windows: 718.0 , number of windows discarded: 5 \n",
      "file: 12 , shape: (23, 921600) \n",
      "total number of windows: 718.0 , number of windows discarded: 6 \n",
      "file: 13 , shape: (23, 921600) \n",
      "total number of windows: 718.0 , number of windows discarded: 0 \n",
      "file: 14 , shape: (23, 921600) \n",
      "total number of windows: 718.0 , number of windows discarded: 0 \n",
      "file: 15 , shape: (23, 921600) \n",
      "total number of windows: 718.0 , number of windows discarded: 0 \n",
      "file: 16 , shape: (23, 921600) \n",
      "total number of windows: 718.0 , number of windows discarded: 0 \n",
      "file: 17 , shape: (23, 921600) \n",
      "total number of windows: 718.0 , number of windows discarded: 0 \n",
      "file: 18 , shape: (23, 921600) \n",
      "total number of windows: 718.0 , number of windows discarded: 0 \n",
      "file: 19 , shape: (23, 921600) \n",
      "total number of windows: 718.0 , number of windows discarded: 5 \n",
      "file: 20 , shape: (23, 921600) \n",
      "total number of windows: 718.0 , number of windows discarded: 0 \n",
      "file: 21 , shape: (23, 921600) \n",
      "total number of windows: 718.0 , number of windows discarded: 0 \n",
      "file: 22 , shape: (23, 921600) \n",
      "total number of windows: 718.0 , number of windows discarded: 0 \n",
      "file: 23 , shape: (23, 921600) \n",
      "total number of windows: 718.0 , number of windows discarded: 0 \n",
      "file: 24 , shape: (23, 921600) \n",
      "total number of windows: 718.0 , number of windows discarded: 0 \n",
      "file: 25 , shape: (23, 921600) \n",
      "total number of windows: 718.0 , number of windows discarded: 0 \n",
      "Extracting EDF parameters from d:\\salma\\UNI\\Sem8\\WS\\physionet.org\\files\\chbmit\\1.0.0\\chb15\\chb15_02.edf...\n",
      "EDF file detected\n",
      "Setting channel info structure...\n",
      "Creating raw.info structure...\n"
     ]
    },
    {
     "output_type": "stream",
     "name": "stderr",
     "text": [
      "<ipython-input-2-2015fd87c072>:4: RuntimeWarning: Channel names are not unique, found duplicates for: {'-', 'T8-P8'}. Applying running numbers for duplicates.\n",
      "  edf = mne.io.read_raw_edf(edf_filename,stim_channel=None)\n",
      "<ipython-input-2-2015fd87c072>:4: RuntimeWarning: Scaling factor is not defined in following channels:\n",
      "--0, --1, --2, --3, --4, --5\n",
      "  edf = mne.io.read_raw_edf(edf_filename,stim_channel=None)\n"
     ]
    },
    {
     "output_type": "stream",
     "name": "stdout",
     "text": [
      "(23, 921600)\n",
      "Extracting EDF parameters from d:\\salma\\UNI\\Sem8\\WS\\physionet.org\\files\\chbmit\\1.0.0\\chb15\\chb15_03.edf...\n",
      "EDF file detected\n",
      "Setting channel info structure...\n",
      "Creating raw.info structure...\n"
     ]
    },
    {
     "output_type": "stream",
     "name": "stderr",
     "text": [
      "<ipython-input-2-2015fd87c072>:4: RuntimeWarning: Channel names are not unique, found duplicates for: {'-', 'T8-P8'}. Applying running numbers for duplicates.\n",
      "  edf = mne.io.read_raw_edf(edf_filename,stim_channel=None)\n",
      "<ipython-input-2-2015fd87c072>:4: RuntimeWarning: Scaling factor is not defined in following channels:\n",
      "--0, --1, --2, --3, --4, --5\n",
      "  edf = mne.io.read_raw_edf(edf_filename,stim_channel=None)\n"
     ]
    },
    {
     "output_type": "stream",
     "name": "stdout",
     "text": [
      "(23, 921600)\n",
      "Extracting EDF parameters from d:\\salma\\UNI\\Sem8\\WS\\physionet.org\\files\\chbmit\\1.0.0\\chb15\\chb15_04.edf...\n",
      "EDF file detected\n",
      "Setting channel info structure...\n",
      "Creating raw.info structure...\n"
     ]
    },
    {
     "output_type": "stream",
     "name": "stderr",
     "text": [
      "<ipython-input-2-2015fd87c072>:4: RuntimeWarning: Channel names are not unique, found duplicates for: {'-', 'T8-P8'}. Applying running numbers for duplicates.\n",
      "  edf = mne.io.read_raw_edf(edf_filename,stim_channel=None)\n",
      "<ipython-input-2-2015fd87c072>:4: RuntimeWarning: Scaling factor is not defined in following channels:\n",
      "--0, --1, --2, --3, --4, --5\n",
      "  edf = mne.io.read_raw_edf(edf_filename,stim_channel=None)\n"
     ]
    },
    {
     "output_type": "stream",
     "name": "stdout",
     "text": [
      "(23, 921600)\n",
      "Extracting EDF parameters from d:\\salma\\UNI\\Sem8\\WS\\physionet.org\\files\\chbmit\\1.0.0\\chb15\\chb15_05.edf...\n",
      "EDF file detected\n",
      "Setting channel info structure...\n",
      "Creating raw.info structure...\n"
     ]
    },
    {
     "output_type": "stream",
     "name": "stderr",
     "text": [
      "<ipython-input-2-2015fd87c072>:4: RuntimeWarning: Channel names are not unique, found duplicates for: {'-', 'T8-P8'}. Applying running numbers for duplicates.\n",
      "  edf = mne.io.read_raw_edf(edf_filename,stim_channel=None)\n",
      "<ipython-input-2-2015fd87c072>:4: RuntimeWarning: Scaling factor is not defined in following channels:\n",
      "--0, --1, --2, --3, --4, --5\n",
      "  edf = mne.io.read_raw_edf(edf_filename,stim_channel=None)\n"
     ]
    },
    {
     "output_type": "stream",
     "name": "stdout",
     "text": [
      "(23, 921600)\n",
      "Extracting EDF parameters from d:\\salma\\UNI\\Sem8\\WS\\physionet.org\\files\\chbmit\\1.0.0\\chb15\\chb15_06.edf...\n",
      "EDF file detected\n",
      "Setting channel info structure...\n",
      "Creating raw.info structure...\n"
     ]
    },
    {
     "output_type": "stream",
     "name": "stderr",
     "text": [
      "<ipython-input-2-2015fd87c072>:4: RuntimeWarning: Channel names are not unique, found duplicates for: {'-', 'T8-P8'}. Applying running numbers for duplicates.\n",
      "  edf = mne.io.read_raw_edf(edf_filename,stim_channel=None)\n",
      "<ipython-input-2-2015fd87c072>:4: RuntimeWarning: Scaling factor is not defined in following channels:\n",
      "--0, --1, --2, --3, --4, --5\n",
      "  edf = mne.io.read_raw_edf(edf_filename,stim_channel=None)\n"
     ]
    },
    {
     "output_type": "stream",
     "name": "stdout",
     "text": [
      "(23, 921600)\n",
      "272\n",
      "397\n",
      "Extracting EDF parameters from d:\\salma\\UNI\\Sem8\\WS\\physionet.org\\files\\chbmit\\1.0.0\\chb15\\chb15_07.edf...\n",
      "EDF file detected\n",
      "Setting channel info structure...\n",
      "Creating raw.info structure...\n"
     ]
    },
    {
     "output_type": "stream",
     "name": "stderr",
     "text": [
      "<ipython-input-2-2015fd87c072>:4: RuntimeWarning: Channel names are not unique, found duplicates for: {'-', 'T8-P8'}. Applying running numbers for duplicates.\n",
      "  edf = mne.io.read_raw_edf(edf_filename,stim_channel=None)\n",
      "<ipython-input-2-2015fd87c072>:4: RuntimeWarning: Scaling factor is not defined in following channels:\n",
      "--0, --1, --2, --3, --4, --5\n",
      "  edf = mne.io.read_raw_edf(edf_filename,stim_channel=None)\n"
     ]
    },
    {
     "output_type": "stream",
     "name": "stdout",
     "text": [
      "(23, 921600)\n",
      "Extracting EDF parameters from d:\\salma\\UNI\\Sem8\\WS\\physionet.org\\files\\chbmit\\1.0.0\\chb15\\chb15_08.edf...\n",
      "EDF file detected\n",
      "Setting channel info structure...\n",
      "Creating raw.info structure...\n"
     ]
    },
    {
     "output_type": "stream",
     "name": "stderr",
     "text": [
      "<ipython-input-2-2015fd87c072>:4: RuntimeWarning: Channel names are not unique, found duplicates for: {'-', 'T8-P8'}. Applying running numbers for duplicates.\n",
      "  edf = mne.io.read_raw_edf(edf_filename,stim_channel=None)\n",
      "<ipython-input-2-2015fd87c072>:4: RuntimeWarning: Scaling factor is not defined in following channels:\n",
      "--0, --1, --2, --3, --4, --5\n",
      "  edf = mne.io.read_raw_edf(edf_filename,stim_channel=None)\n"
     ]
    },
    {
     "output_type": "stream",
     "name": "stdout",
     "text": [
      "(23, 921600)\n",
      "Extracting EDF parameters from d:\\salma\\UNI\\Sem8\\WS\\physionet.org\\files\\chbmit\\1.0.0\\chb15\\chb15_09.edf...\n",
      "EDF file detected\n",
      "Setting channel info structure...\n",
      "Creating raw.info structure...\n"
     ]
    },
    {
     "output_type": "stream",
     "name": "stderr",
     "text": [
      "<ipython-input-2-2015fd87c072>:4: RuntimeWarning: Channel names are not unique, found duplicates for: {'-', 'T8-P8'}. Applying running numbers for duplicates.\n",
      "  edf = mne.io.read_raw_edf(edf_filename,stim_channel=None)\n",
      "<ipython-input-2-2015fd87c072>:4: RuntimeWarning: Scaling factor is not defined in following channels:\n",
      "--0, --1, --2, --3, --4, --5\n",
      "  edf = mne.io.read_raw_edf(edf_filename,stim_channel=None)\n"
     ]
    },
    {
     "output_type": "stream",
     "name": "stdout",
     "text": [
      "(23, 921600)\n",
      "Extracting EDF parameters from d:\\salma\\UNI\\Sem8\\WS\\physionet.org\\files\\chbmit\\1.0.0\\chb15\\chb15_10.edf...\n",
      "EDF file detected\n",
      "Setting channel info structure...\n",
      "Creating raw.info structure...\n"
     ]
    },
    {
     "output_type": "stream",
     "name": "stderr",
     "text": [
      "<ipython-input-2-2015fd87c072>:4: RuntimeWarning: Channel names are not unique, found duplicates for: {'-', 'T8-P8'}. Applying running numbers for duplicates.\n",
      "  edf = mne.io.read_raw_edf(edf_filename,stim_channel=None)\n",
      "<ipython-input-2-2015fd87c072>:4: RuntimeWarning: Scaling factor is not defined in following channels:\n",
      "--0, --1, --2, --3, --4, --5\n",
      "  edf = mne.io.read_raw_edf(edf_filename,stim_channel=None)\n"
     ]
    },
    {
     "output_type": "stream",
     "name": "stdout",
     "text": [
      "(23, 921600)\n",
      "1082\n",
      "1113\n",
      "Extracting EDF parameters from d:\\salma\\UNI\\Sem8\\WS\\physionet.org\\files\\chbmit\\1.0.0\\chb15\\chb15_11.edf...\n",
      "EDF file detected\n",
      "Setting channel info structure...\n",
      "Creating raw.info structure...\n"
     ]
    },
    {
     "output_type": "stream",
     "name": "stderr",
     "text": [
      "<ipython-input-2-2015fd87c072>:4: RuntimeWarning: Channel names are not unique, found duplicates for: {'-', 'T8-P8'}. Applying running numbers for duplicates.\n",
      "  edf = mne.io.read_raw_edf(edf_filename,stim_channel=None)\n",
      "<ipython-input-2-2015fd87c072>:4: RuntimeWarning: Scaling factor is not defined in following channels:\n",
      "--0, --1, --2, --3, --4, --5\n",
      "  edf = mne.io.read_raw_edf(edf_filename,stim_channel=None)\n"
     ]
    },
    {
     "output_type": "stream",
     "name": "stdout",
     "text": [
      "(23, 921600)\n",
      "Extracting EDF parameters from d:\\salma\\UNI\\Sem8\\WS\\physionet.org\\files\\chbmit\\1.0.0\\chb15\\chb15_12.edf...\n",
      "EDF file detected\n",
      "Setting channel info structure...\n",
      "Creating raw.info structure...\n"
     ]
    },
    {
     "output_type": "stream",
     "name": "stderr",
     "text": [
      "<ipython-input-2-2015fd87c072>:4: RuntimeWarning: Channel names are not unique, found duplicates for: {'-', 'T8-P8'}. Applying running numbers for duplicates.\n",
      "  edf = mne.io.read_raw_edf(edf_filename,stim_channel=None)\n",
      "<ipython-input-2-2015fd87c072>:4: RuntimeWarning: Scaling factor is not defined in following channels:\n",
      "--0, --1, --2, --3, --4, --5\n",
      "  edf = mne.io.read_raw_edf(edf_filename,stim_channel=None)\n"
     ]
    },
    {
     "output_type": "stream",
     "name": "stdout",
     "text": [
      "(23, 921600)\n",
      "Extracting EDF parameters from d:\\salma\\UNI\\Sem8\\WS\\physionet.org\\files\\chbmit\\1.0.0\\chb15\\chb15_13.edf...\n",
      "EDF file detected\n",
      "Setting channel info structure...\n",
      "Creating raw.info structure...\n"
     ]
    },
    {
     "output_type": "stream",
     "name": "stderr",
     "text": [
      "<ipython-input-2-2015fd87c072>:4: RuntimeWarning: Channel names are not unique, found duplicates for: {'-', 'T8-P8'}. Applying running numbers for duplicates.\n",
      "  edf = mne.io.read_raw_edf(edf_filename,stim_channel=None)\n",
      "<ipython-input-2-2015fd87c072>:4: RuntimeWarning: Scaling factor is not defined in following channels:\n",
      "--0, --1, --2, --3, --4, --5\n",
      "  edf = mne.io.read_raw_edf(edf_filename,stim_channel=None)\n"
     ]
    },
    {
     "output_type": "stream",
     "name": "stdout",
     "text": [
      "(23, 921600)\n",
      "Extracting EDF parameters from d:\\salma\\UNI\\Sem8\\WS\\physionet.org\\files\\chbmit\\1.0.0\\chb15\\chb15_14.edf...\n",
      "EDF file detected\n",
      "Setting channel info structure...\n",
      "Creating raw.info structure...\n"
     ]
    },
    {
     "output_type": "stream",
     "name": "stderr",
     "text": [
      "<ipython-input-2-2015fd87c072>:4: RuntimeWarning: Channel names are not unique, found duplicates for: {'-', 'T8-P8'}. Applying running numbers for duplicates.\n",
      "  edf = mne.io.read_raw_edf(edf_filename,stim_channel=None)\n",
      "<ipython-input-2-2015fd87c072>:4: RuntimeWarning: Scaling factor is not defined in following channels:\n",
      "--0, --1, --2, --3, --4, --5\n",
      "  edf = mne.io.read_raw_edf(edf_filename,stim_channel=None)\n"
     ]
    },
    {
     "output_type": "stream",
     "name": "stdout",
     "text": [
      "(23, 921600)\n",
      "Extracting EDF parameters from d:\\salma\\UNI\\Sem8\\WS\\physionet.org\\files\\chbmit\\1.0.0\\chb15\\chb15_15.edf...\n",
      "EDF file detected\n",
      "Setting channel info structure...\n",
      "Creating raw.info structure...\n"
     ]
    },
    {
     "output_type": "stream",
     "name": "stderr",
     "text": [
      "<ipython-input-2-2015fd87c072>:4: RuntimeWarning: Channel names are not unique, found duplicates for: {'-', 'T8-P8'}. Applying running numbers for duplicates.\n",
      "  edf = mne.io.read_raw_edf(edf_filename,stim_channel=None)\n",
      "<ipython-input-2-2015fd87c072>:4: RuntimeWarning: Scaling factor is not defined in following channels:\n",
      "--0, --1, --2, --3, --4, --5\n",
      "  edf = mne.io.read_raw_edf(edf_filename,stim_channel=None)\n"
     ]
    },
    {
     "output_type": "stream",
     "name": "stdout",
     "text": [
      "(23, 921600)\n",
      "1591\n",
      "1748\n",
      "Extracting EDF parameters from d:\\salma\\UNI\\Sem8\\WS\\physionet.org\\files\\chbmit\\1.0.0\\chb15\\chb15_16.edf...\n",
      "EDF file detected\n",
      "Setting channel info structure...\n",
      "Creating raw.info structure...\n"
     ]
    },
    {
     "output_type": "stream",
     "name": "stderr",
     "text": [
      "<ipython-input-2-2015fd87c072>:4: RuntimeWarning: Channel names are not unique, found duplicates for: {'-', 'T8-P8'}. Applying running numbers for duplicates.\n",
      "  edf = mne.io.read_raw_edf(edf_filename,stim_channel=None)\n",
      "<ipython-input-2-2015fd87c072>:4: RuntimeWarning: Scaling factor is not defined in following channels:\n",
      "--0, --1, --2, --3, --4, --5\n",
      "  edf = mne.io.read_raw_edf(edf_filename,stim_channel=None)\n"
     ]
    },
    {
     "output_type": "stream",
     "name": "stdout",
     "text": [
      "(23, 921600)\n",
      "Extracting EDF parameters from d:\\salma\\UNI\\Sem8\\WS\\physionet.org\\files\\chbmit\\1.0.0\\chb15\\chb15_17.edf...\n",
      "EDF file detected\n",
      "Setting channel info structure...\n",
      "Creating raw.info structure...\n"
     ]
    },
    {
     "output_type": "stream",
     "name": "stderr",
     "text": [
      "<ipython-input-2-2015fd87c072>:4: RuntimeWarning: Channel names are not unique, found duplicates for: {'-', 'T8-P8'}. Applying running numbers for duplicates.\n",
      "  edf = mne.io.read_raw_edf(edf_filename,stim_channel=None)\n",
      "<ipython-input-2-2015fd87c072>:4: RuntimeWarning: Scaling factor is not defined in following channels:\n",
      "--0, --1, --2, --3, --4, --5\n",
      "  edf = mne.io.read_raw_edf(edf_filename,stim_channel=None)\n"
     ]
    },
    {
     "output_type": "stream",
     "name": "stdout",
     "text": [
      "(23, 921600)\n",
      "1925\n",
      "1960\n",
      "Extracting EDF parameters from d:\\salma\\UNI\\Sem8\\WS\\physionet.org\\files\\chbmit\\1.0.0\\chb15\\chb15_19.edf...\n",
      "EDF file detected\n",
      "Setting channel info structure...\n",
      "Creating raw.info structure...\n"
     ]
    },
    {
     "output_type": "stream",
     "name": "stderr",
     "text": [
      "<ipython-input-2-2015fd87c072>:4: RuntimeWarning: Channel names are not unique, found duplicates for: {'-', 'T8-P8'}. Applying running numbers for duplicates.\n",
      "  edf = mne.io.read_raw_edf(edf_filename,stim_channel=None)\n",
      "<ipython-input-2-2015fd87c072>:4: RuntimeWarning: Scaling factor is not defined in following channels:\n",
      "--0, --1, --2, --3, --4, --5\n",
      "  edf = mne.io.read_raw_edf(edf_filename,stim_channel=None)\n"
     ]
    },
    {
     "output_type": "stream",
     "name": "stdout",
     "text": [
      "(23, 921600)\n",
      "Extracting EDF parameters from d:\\salma\\UNI\\Sem8\\WS\\physionet.org\\files\\chbmit\\1.0.0\\chb15\\chb15_20.edf...\n",
      "EDF file detected\n",
      "Setting channel info structure...\n",
      "Creating raw.info structure...\n"
     ]
    },
    {
     "output_type": "stream",
     "name": "stderr",
     "text": [
      "<ipython-input-2-2015fd87c072>:4: RuntimeWarning: Channel names are not unique, found duplicates for: {'-', 'T8-P8'}. Applying running numbers for duplicates.\n",
      "  edf = mne.io.read_raw_edf(edf_filename,stim_channel=None)\n",
      "<ipython-input-2-2015fd87c072>:4: RuntimeWarning: Scaling factor is not defined in following channels:\n",
      "--0, --1, --2, --3, --4, --5\n",
      "  edf = mne.io.read_raw_edf(edf_filename,stim_channel=None)\n"
     ]
    },
    {
     "output_type": "stream",
     "name": "stdout",
     "text": [
      "(23, 921600)\n",
      "607\n",
      "662\n",
      "Extracting EDF parameters from d:\\salma\\UNI\\Sem8\\WS\\physionet.org\\files\\chbmit\\1.0.0\\chb15\\chb15_22.edf...\n",
      "EDF file detected\n",
      "Setting channel info structure...\n",
      "Creating raw.info structure...\n"
     ]
    },
    {
     "output_type": "stream",
     "name": "stderr",
     "text": [
      "<ipython-input-2-2015fd87c072>:4: RuntimeWarning: Channel names are not unique, found duplicates for: {'-', 'T8-P8'}. Applying running numbers for duplicates.\n",
      "  edf = mne.io.read_raw_edf(edf_filename,stim_channel=None)\n",
      "<ipython-input-2-2015fd87c072>:4: RuntimeWarning: Scaling factor is not defined in following channels:\n",
      "--0, --1, --2, --3, --4, --5\n",
      "  edf = mne.io.read_raw_edf(edf_filename,stim_channel=None)\n"
     ]
    },
    {
     "output_type": "stream",
     "name": "stdout",
     "text": [
      "(23, 921600)\n",
      "760\n",
      "965\n",
      "Extracting EDF parameters from d:\\salma\\UNI\\Sem8\\WS\\physionet.org\\files\\chbmit\\1.0.0\\chb15\\chb15_26.edf...\n",
      "EDF file detected\n",
      "Setting channel info structure...\n",
      "Creating raw.info structure...\n"
     ]
    },
    {
     "output_type": "stream",
     "name": "stderr",
     "text": [
      "<ipython-input-2-2015fd87c072>:4: RuntimeWarning: Channel names are not unique, found duplicates for: {'-', 'T8-P8'}. Applying running numbers for duplicates.\n",
      "  edf = mne.io.read_raw_edf(edf_filename,stim_channel=None)\n",
      "<ipython-input-2-2015fd87c072>:4: RuntimeWarning: Scaling factor is not defined in following channels:\n",
      "--0, --1, --2, --3, --4, --5\n",
      "  edf = mne.io.read_raw_edf(edf_filename,stim_channel=None)\n"
     ]
    },
    {
     "output_type": "stream",
     "name": "stdout",
     "text": [
      "(23, 921600)\n",
      "Extracting EDF parameters from d:\\salma\\UNI\\Sem8\\WS\\physionet.org\\files\\chbmit\\1.0.0\\chb15\\chb15_28.edf...\n",
      "EDF file detected\n",
      "Setting channel info structure...\n",
      "Creating raw.info structure...\n"
     ]
    },
    {
     "output_type": "stream",
     "name": "stderr",
     "text": [
      "<ipython-input-2-2015fd87c072>:4: RuntimeWarning: Channel names are not unique, found duplicates for: {'-', 'T8-P8'}. Applying running numbers for duplicates.\n",
      "  edf = mne.io.read_raw_edf(edf_filename,stim_channel=None)\n",
      "<ipython-input-2-2015fd87c072>:4: RuntimeWarning: Scaling factor is not defined in following channels:\n",
      "--0, --1, --2, --3, --4, --5\n",
      "  edf = mne.io.read_raw_edf(edf_filename,stim_channel=None)\n"
     ]
    },
    {
     "output_type": "stream",
     "name": "stdout",
     "text": [
      "(23, 921600)\n",
      "876\n",
      "1066\n",
      "Extracting EDF parameters from d:\\salma\\UNI\\Sem8\\WS\\physionet.org\\files\\chbmit\\1.0.0\\chb15\\chb15_29.edf...\n",
      "EDF file detected\n",
      "Setting channel info structure...\n",
      "Creating raw.info structure...\n"
     ]
    },
    {
     "output_type": "stream",
     "name": "stderr",
     "text": [
      "<ipython-input-2-2015fd87c072>:4: RuntimeWarning: Channel names are not unique, found duplicates for: {'-', 'T8-P8'}. Applying running numbers for duplicates.\n",
      "  edf = mne.io.read_raw_edf(edf_filename,stim_channel=None)\n",
      "<ipython-input-2-2015fd87c072>:4: RuntimeWarning: Scaling factor is not defined in following channels:\n",
      "--0, --1, --2, --3, --4, --5\n",
      "  edf = mne.io.read_raw_edf(edf_filename,stim_channel=None)\n"
     ]
    },
    {
     "output_type": "stream",
     "name": "stdout",
     "text": [
      "(23, 921600)\n",
      "Extracting EDF parameters from d:\\salma\\UNI\\Sem8\\WS\\physionet.org\\files\\chbmit\\1.0.0\\chb15\\chb15_30.edf...\n",
      "EDF file detected\n",
      "Setting channel info structure...\n",
      "Creating raw.info structure...\n"
     ]
    },
    {
     "output_type": "stream",
     "name": "stderr",
     "text": [
      "<ipython-input-2-2015fd87c072>:4: RuntimeWarning: Channel names are not unique, found duplicates for: {'-', 'T8-P8'}. Applying running numbers for duplicates.\n",
      "  edf = mne.io.read_raw_edf(edf_filename,stim_channel=None)\n",
      "<ipython-input-2-2015fd87c072>:4: RuntimeWarning: Scaling factor is not defined in following channels:\n",
      "--0, --1, --2, --3, --4, --5\n",
      "  edf = mne.io.read_raw_edf(edf_filename,stim_channel=None)\n"
     ]
    },
    {
     "output_type": "stream",
     "name": "stdout",
     "text": [
      "(23, 921600)\n",
      "Extracting EDF parameters from d:\\salma\\UNI\\Sem8\\WS\\physionet.org\\files\\chbmit\\1.0.0\\chb15\\chb15_31.edf...\n",
      "EDF file detected\n",
      "Setting channel info structure...\n",
      "Creating raw.info structure...\n"
     ]
    },
    {
     "output_type": "stream",
     "name": "stderr",
     "text": [
      "<ipython-input-2-2015fd87c072>:4: RuntimeWarning: Channel names are not unique, found duplicates for: {'-', 'T8-P8'}. Applying running numbers for duplicates.\n",
      "  edf = mne.io.read_raw_edf(edf_filename,stim_channel=None)\n",
      "<ipython-input-2-2015fd87c072>:4: RuntimeWarning: Scaling factor is not defined in following channels:\n",
      "--0, --1, --2, --3, --4, --5\n",
      "  edf = mne.io.read_raw_edf(edf_filename,stim_channel=None)\n"
     ]
    },
    {
     "output_type": "stream",
     "name": "stdout",
     "text": [
      "(23, 921600)\n",
      "1751\n",
      "1871\n",
      "Extracting EDF parameters from d:\\salma\\UNI\\Sem8\\WS\\physionet.org\\files\\chbmit\\1.0.0\\chb15\\chb15_32.edf...\n",
      "EDF file detected\n",
      "Setting channel info structure...\n",
      "Creating raw.info structure...\n"
     ]
    },
    {
     "output_type": "stream",
     "name": "stderr",
     "text": [
      "<ipython-input-2-2015fd87c072>:4: RuntimeWarning: Channel names are not unique, found duplicates for: {'-', 'T8-P8'}. Applying running numbers for duplicates.\n",
      "  edf = mne.io.read_raw_edf(edf_filename,stim_channel=None)\n",
      "<ipython-input-2-2015fd87c072>:4: RuntimeWarning: Scaling factor is not defined in following channels:\n",
      "--0, --1, --2, --3, --4, --5\n",
      "  edf = mne.io.read_raw_edf(edf_filename,stim_channel=None)\n"
     ]
    },
    {
     "output_type": "stream",
     "name": "stdout",
     "text": [
      "(23, 921600)\n",
      "Extracting EDF parameters from d:\\salma\\UNI\\Sem8\\WS\\physionet.org\\files\\chbmit\\1.0.0\\chb15\\chb15_33.edf...\n",
      "EDF file detected\n",
      "Setting channel info structure...\n",
      "Creating raw.info structure...\n"
     ]
    },
    {
     "output_type": "stream",
     "name": "stderr",
     "text": [
      "<ipython-input-2-2015fd87c072>:4: RuntimeWarning: Channel names are not unique, found duplicates for: {'-', 'T8-P8'}. Applying running numbers for duplicates.\n",
      "  edf = mne.io.read_raw_edf(edf_filename,stim_channel=None)\n",
      "<ipython-input-2-2015fd87c072>:4: RuntimeWarning: Scaling factor is not defined in following channels:\n",
      "--0, --1, --2, --3, --4, --5\n",
      "  edf = mne.io.read_raw_edf(edf_filename,stim_channel=None)\n"
     ]
    },
    {
     "output_type": "stream",
     "name": "stdout",
     "text": [
      "(23, 921600)\n",
      "Extracting EDF parameters from d:\\salma\\UNI\\Sem8\\WS\\physionet.org\\files\\chbmit\\1.0.0\\chb15\\chb15_35.edf...\n",
      "EDF file detected\n",
      "Setting channel info structure...\n",
      "Creating raw.info structure...\n"
     ]
    },
    {
     "output_type": "stream",
     "name": "stderr",
     "text": [
      "<ipython-input-2-2015fd87c072>:4: RuntimeWarning: Channel names are not unique, found duplicates for: {'-', 'T8-P8'}. Applying running numbers for duplicates.\n",
      "  edf = mne.io.read_raw_edf(edf_filename,stim_channel=None)\n",
      "<ipython-input-2-2015fd87c072>:4: RuntimeWarning: Scaling factor is not defined in following channels:\n",
      "--0, --1, --2, --3, --4, --5\n",
      "  edf = mne.io.read_raw_edf(edf_filename,stim_channel=None)\n"
     ]
    },
    {
     "output_type": "stream",
     "name": "stdout",
     "text": [
      "(23, 921600)\n",
      "Extracting EDF parameters from d:\\salma\\UNI\\Sem8\\WS\\physionet.org\\files\\chbmit\\1.0.0\\chb15\\chb15_37.edf...\n",
      "EDF file detected\n",
      "Setting channel info structure...\n",
      "Creating raw.info structure...\n"
     ]
    },
    {
     "output_type": "stream",
     "name": "stderr",
     "text": [
      "<ipython-input-2-2015fd87c072>:4: RuntimeWarning: Channel names are not unique, found duplicates for: {'-', 'T8-P8'}. Applying running numbers for duplicates.\n",
      "  edf = mne.io.read_raw_edf(edf_filename,stim_channel=None)\n",
      "<ipython-input-2-2015fd87c072>:4: RuntimeWarning: Scaling factor is not defined in following channels:\n",
      "--0, --1, --2, --3, --4, --5\n",
      "  edf = mne.io.read_raw_edf(edf_filename,stim_channel=None)\n"
     ]
    },
    {
     "output_type": "stream",
     "name": "stdout",
     "text": [
      "(23, 921600)\n",
      "Extracting EDF parameters from d:\\salma\\UNI\\Sem8\\WS\\physionet.org\\files\\chbmit\\1.0.0\\chb15\\chb15_40.edf...\n",
      "EDF file detected\n",
      "Setting channel info structure...\n",
      "Creating raw.info structure...\n"
     ]
    },
    {
     "output_type": "stream",
     "name": "stderr",
     "text": [
      "<ipython-input-2-2015fd87c072>:4: RuntimeWarning: Channel names are not unique, found duplicates for: {'-', 'T8-P8'}. Applying running numbers for duplicates.\n",
      "  edf = mne.io.read_raw_edf(edf_filename,stim_channel=None)\n",
      "<ipython-input-2-2015fd87c072>:4: RuntimeWarning: Scaling factor is not defined in following channels:\n",
      "--0, --1, --2, --3, --4, --5\n",
      "  edf = mne.io.read_raw_edf(edf_filename,stim_channel=None)\n"
     ]
    },
    {
     "output_type": "stream",
     "name": "stdout",
     "text": [
      "(23, 921600)\n",
      "834\n",
      "894\n",
      "2378\n",
      "2497\n",
      "3362\n",
      "3425\n",
      "Extracting EDF parameters from d:\\salma\\UNI\\Sem8\\WS\\physionet.org\\files\\chbmit\\1.0.0\\chb15\\chb15_45.edf...\n",
      "EDF file detected\n",
      "Setting channel info structure...\n",
      "Creating raw.info structure...\n"
     ]
    },
    {
     "output_type": "stream",
     "name": "stderr",
     "text": [
      "<ipython-input-2-2015fd87c072>:4: RuntimeWarning: Channel names are not unique, found duplicates for: {'-', 'T8-P8'}. Applying running numbers for duplicates.\n",
      "  edf = mne.io.read_raw_edf(edf_filename,stim_channel=None)\n",
      "<ipython-input-2-2015fd87c072>:4: RuntimeWarning: Scaling factor is not defined in following channels:\n",
      "--0, --1, --2, --3, --4, --5\n",
      "  edf = mne.io.read_raw_edf(edf_filename,stim_channel=None)\n"
     ]
    },
    {
     "output_type": "stream",
     "name": "stdout",
     "text": [
      "(23, 921600)\n",
      "Extracting EDF parameters from d:\\salma\\UNI\\Sem8\\WS\\physionet.org\\files\\chbmit\\1.0.0\\chb15\\chb15_46.edf...\n",
      "EDF file detected\n",
      "Setting channel info structure...\n",
      "Creating raw.info structure...\n"
     ]
    },
    {
     "output_type": "stream",
     "name": "stderr",
     "text": [
      "<ipython-input-2-2015fd87c072>:4: RuntimeWarning: Channel names are not unique, found duplicates for: {'-', 'T8-P8'}. Applying running numbers for duplicates.\n",
      "  edf = mne.io.read_raw_edf(edf_filename,stim_channel=None)\n",
      "<ipython-input-2-2015fd87c072>:4: RuntimeWarning: Scaling factor is not defined in following channels:\n",
      "--0, --1, --2, --3, --4, --5\n",
      "  edf = mne.io.read_raw_edf(edf_filename,stim_channel=None)\n"
     ]
    },
    {
     "output_type": "stream",
     "name": "stdout",
     "text": [
      "(23, 921600)\n",
      "3322\n",
      "3429\n",
      "Extracting EDF parameters from d:\\salma\\UNI\\Sem8\\WS\\physionet.org\\files\\chbmit\\1.0.0\\chb15\\chb15_49.edf...\n",
      "EDF file detected\n",
      "Setting channel info structure...\n",
      "Creating raw.info structure...\n"
     ]
    },
    {
     "output_type": "stream",
     "name": "stderr",
     "text": [
      "<ipython-input-2-2015fd87c072>:4: RuntimeWarning: Channel names are not unique, found duplicates for: {'-', 'T8-P8'}. Applying running numbers for duplicates.\n",
      "  edf = mne.io.read_raw_edf(edf_filename,stim_channel=None)\n",
      "<ipython-input-2-2015fd87c072>:4: RuntimeWarning: Scaling factor is not defined in following channels:\n",
      "--0, --1, --2, --3, --4, --5\n",
      "  edf = mne.io.read_raw_edf(edf_filename,stim_channel=None)\n"
     ]
    },
    {
     "output_type": "stream",
     "name": "stdout",
     "text": [
      "(23, 928000)\n",
      "1108\n",
      "1248\n",
      "Extracting EDF parameters from d:\\salma\\UNI\\Sem8\\WS\\physionet.org\\files\\chbmit\\1.0.0\\chb15\\chb15_50.edf...\n",
      "EDF file detected\n",
      "Setting channel info structure...\n",
      "Creating raw.info structure...\n"
     ]
    },
    {
     "output_type": "stream",
     "name": "stderr",
     "text": [
      "<ipython-input-2-2015fd87c072>:4: RuntimeWarning: Channel names are not unique, found duplicates for: {'-', 'T8-P8'}. Applying running numbers for duplicates.\n",
      "  edf = mne.io.read_raw_edf(edf_filename,stim_channel=None)\n",
      "<ipython-input-2-2015fd87c072>:4: RuntimeWarning: Scaling factor is not defined in following channels:\n",
      "--0, --1, --2, --3, --4, --5\n",
      "  edf = mne.io.read_raw_edf(edf_filename,stim_channel=None)\n"
     ]
    },
    {
     "output_type": "stream",
     "name": "stdout",
     "text": [
      "(23, 921600)\n",
      "Extracting EDF parameters from d:\\salma\\UNI\\Sem8\\WS\\physionet.org\\files\\chbmit\\1.0.0\\chb15\\chb15_51.edf...\n",
      "EDF file detected\n",
      "Setting channel info structure...\n",
      "Creating raw.info structure...\n"
     ]
    },
    {
     "output_type": "stream",
     "name": "stderr",
     "text": [
      "<ipython-input-2-2015fd87c072>:4: RuntimeWarning: Channel names are not unique, found duplicates for: {'-', 'T8-P8'}. Applying running numbers for duplicates.\n",
      "  edf = mne.io.read_raw_edf(edf_filename,stim_channel=None)\n",
      "<ipython-input-2-2015fd87c072>:4: RuntimeWarning: Scaling factor is not defined in following channels:\n",
      "--0, --1, --2, --3, --4, --5\n",
      "  edf = mne.io.read_raw_edf(edf_filename,stim_channel=None)\n"
     ]
    },
    {
     "output_type": "stream",
     "name": "stdout",
     "text": [
      "(23, 921600)\n",
      "Extracting EDF parameters from d:\\salma\\UNI\\Sem8\\WS\\physionet.org\\files\\chbmit\\1.0.0\\chb15\\chb15_52.edf...\n",
      "EDF file detected\n",
      "Setting channel info structure...\n",
      "Creating raw.info structure...\n"
     ]
    },
    {
     "output_type": "stream",
     "name": "stderr",
     "text": [
      "<ipython-input-2-2015fd87c072>:4: RuntimeWarning: Channel names are not unique, found duplicates for: {'-', 'T8-P8'}. Applying running numbers for duplicates.\n",
      "  edf = mne.io.read_raw_edf(edf_filename,stim_channel=None)\n",
      "<ipython-input-2-2015fd87c072>:4: RuntimeWarning: Scaling factor is not defined in following channels:\n",
      "--0, --1, --2, --3, --4, --5\n",
      "  edf = mne.io.read_raw_edf(edf_filename,stim_channel=None)\n"
     ]
    },
    {
     "output_type": "stream",
     "name": "stdout",
     "text": [
      "(23, 923904)\n",
      "778\n",
      "849\n",
      "Extracting EDF parameters from d:\\salma\\UNI\\Sem8\\WS\\physionet.org\\files\\chbmit\\1.0.0\\chb15\\chb15_54.edf...\n",
      "EDF file detected\n",
      "Setting channel info structure...\n",
      "Creating raw.info structure...\n"
     ]
    },
    {
     "output_type": "stream",
     "name": "stderr",
     "text": [
      "<ipython-input-2-2015fd87c072>:4: RuntimeWarning: Channel names are not unique, found duplicates for: {'-', 'T8-P8'}. Applying running numbers for duplicates.\n",
      "  edf = mne.io.read_raw_edf(edf_filename,stim_channel=None)\n",
      "<ipython-input-2-2015fd87c072>:4: RuntimeWarning: Scaling factor is not defined in following channels:\n",
      "--0, --1, --2, --3, --4, --5\n",
      "  edf = mne.io.read_raw_edf(edf_filename,stim_channel=None)\n"
     ]
    },
    {
     "output_type": "stream",
     "name": "stdout",
     "text": [
      "(23, 921600)\n",
      "263\n",
      "318\n",
      "843\n",
      "1020\n",
      "1524\n",
      "1595\n",
      "2179\n",
      "2250\n",
      "3428\n",
      "3460\n",
      "Extracting EDF parameters from d:\\salma\\UNI\\Sem8\\WS\\physionet.org\\files\\chbmit\\1.0.0\\chb15\\chb15_61.edf...\n",
      "EDF file detected\n",
      "Setting channel info structure...\n",
      "Creating raw.info structure...\n"
     ]
    },
    {
     "output_type": "stream",
     "name": "stderr",
     "text": [
      "<ipython-input-2-2015fd87c072>:4: RuntimeWarning: Channel names are not unique, found duplicates for: {'-', 'T8-P8'}. Applying running numbers for duplicates.\n",
      "  edf = mne.io.read_raw_edf(edf_filename,stim_channel=None)\n",
      "<ipython-input-2-2015fd87c072>:4: RuntimeWarning: Scaling factor is not defined in following channels:\n",
      "--0, --1, --2, --3, --4, --5\n",
      "  edf = mne.io.read_raw_edf(edf_filename,stim_channel=None)\n"
     ]
    },
    {
     "output_type": "stream",
     "name": "stdout",
     "text": [
      "(23, 921600)\n",
      "Extracting EDF parameters from d:\\salma\\UNI\\Sem8\\WS\\physionet.org\\files\\chbmit\\1.0.0\\chb15\\chb15_62.edf...\n",
      "EDF file detected\n",
      "Setting channel info structure...\n",
      "Creating raw.info structure...\n"
     ]
    },
    {
     "output_type": "stream",
     "name": "stderr",
     "text": [
      "<ipython-input-2-2015fd87c072>:4: RuntimeWarning: Channel names are not unique, found duplicates for: {'-', 'T8-P8'}. Applying running numbers for duplicates.\n",
      "  edf = mne.io.read_raw_edf(edf_filename,stim_channel=None)\n",
      "<ipython-input-2-2015fd87c072>:4: RuntimeWarning: Scaling factor is not defined in following channels:\n",
      "--0, --1, --2, --3, --4, --5\n",
      "  edf = mne.io.read_raw_edf(edf_filename,stim_channel=None)\n"
     ]
    },
    {
     "output_type": "stream",
     "name": "stdout",
     "text": [
      "(23, 921600)\n",
      "751\n",
      "859\n",
      "Extracting EDF parameters from d:\\salma\\UNI\\Sem8\\WS\\physionet.org\\files\\chbmit\\1.0.0\\chb15\\chb15_63.edf...\n",
      "EDF file detected\n",
      "Setting channel info structure...\n",
      "Creating raw.info structure...\n"
     ]
    },
    {
     "output_type": "stream",
     "name": "stderr",
     "text": [
      "<ipython-input-2-2015fd87c072>:4: RuntimeWarning: Channel names are not unique, found duplicates for: {'-', 'T8-P8'}. Applying running numbers for duplicates.\n",
      "  edf = mne.io.read_raw_edf(edf_filename,stim_channel=None)\n",
      "<ipython-input-2-2015fd87c072>:4: RuntimeWarning: Scaling factor is not defined in following channels:\n",
      "--0, --1, --2, --3, --4, --5\n",
      "  edf = mne.io.read_raw_edf(edf_filename,stim_channel=None)\n"
     ]
    },
    {
     "output_type": "stream",
     "name": "stdout",
     "text": [
      "(23, 921600)\n",
      "file: 0 , shape: (23, 921600) \n",
      "total number of windows: 718.0 , number of windows discarded: 0 \n",
      "file: 1 , shape: (23, 921600) \n",
      "total number of windows: 718.0 , number of windows discarded: 0 \n",
      "file: 2 , shape: (23, 921600) \n",
      "total number of windows: 718.0 , number of windows discarded: 0 \n",
      "file: 3 , shape: (23, 921600) \n",
      "total number of windows: 718.0 , number of windows discarded: 0 \n",
      "file: 4 , shape: (23, 921600) \n",
      "total number of windows: 718.0 , number of windows discarded: 4 \n",
      "file: 5 , shape: (23, 921600) \n",
      "total number of windows: 718.0 , number of windows discarded: 0 \n",
      "file: 6 , shape: (23, 921600) \n",
      "total number of windows: 718.0 , number of windows discarded: 0 \n",
      "file: 7 , shape: (23, 921600) \n",
      "total number of windows: 718.0 , number of windows discarded: 0 \n",
      "file: 8 , shape: (23, 921600) \n",
      "total number of windows: 718.0 , number of windows discarded: 6 \n",
      "file: 9 , shape: (23, 921600) \n",
      "total number of windows: 718.0 , number of windows discarded: 0 \n",
      "file: 10 , shape: (23, 921600) \n",
      "total number of windows: 718.0 , number of windows discarded: 0 \n",
      "file: 11 , shape: (23, 921600) \n",
      "total number of windows: 718.0 , number of windows discarded: 0 \n",
      "file: 12 , shape: (23, 921600) \n",
      "total number of windows: 718.0 , number of windows discarded: 0 \n",
      "file: 13 , shape: (23, 921600) \n",
      "total number of windows: 718.0 , number of windows discarded: 6 \n",
      "file: 14 , shape: (23, 921600) \n",
      "total number of windows: 718.0 , number of windows discarded: 0 \n",
      "file: 15 , shape: (23, 921600) \n",
      "total number of windows: 718.0 , number of windows discarded: 4 \n",
      "file: 16 , shape: (23, 921600) \n",
      "total number of windows: 718.0 , number of windows discarded: 0 \n",
      "file: 17 , shape: (23, 921600) \n",
      "total number of windows: 718.0 , number of windows discarded: 6 \n",
      "file: 18 , shape: (23, 921600) \n",
      "total number of windows: 718.0 , number of windows discarded: 4 \n",
      "file: 19 , shape: (23, 921600) \n",
      "total number of windows: 718.0 , number of windows discarded: 0 \n",
      "file: 20 , shape: (23, 921600) \n",
      "total number of windows: 718.0 , number of windows discarded: 6 \n",
      "file: 21 , shape: (23, 921600) \n",
      "total number of windows: 718.0 , number of windows discarded: 0 \n",
      "file: 22 , shape: (23, 921600) \n",
      "total number of windows: 718.0 , number of windows discarded: 0 \n",
      "file: 23 , shape: (23, 921600) \n",
      "total number of windows: 718.0 , number of windows discarded: 6 \n",
      "file: 24 , shape: (23, 921600) \n",
      "total number of windows: 718.0 , number of windows discarded: 0 \n",
      "file: 25 , shape: (23, 921600) \n",
      "total number of windows: 718.0 , number of windows discarded: 0 \n",
      "file: 26 , shape: (23, 921600) \n",
      "total number of windows: 718.0 , number of windows discarded: 0 \n",
      "file: 27 , shape: (23, 921600) \n",
      "total number of windows: 718.0 , number of windows discarded: 0 \n",
      "file: 28 , shape: (23, 921600) \n",
      "total number of windows: 718.0 , number of windows discarded: 17 \n",
      "file: 29 , shape: (23, 921600) \n",
      "total number of windows: 718.0 , number of windows discarded: 0 \n",
      "file: 30 , shape: (23, 921600) \n",
      "total number of windows: 718.0 , number of windows discarded: 5 \n",
      "file: 31 , shape: (23, 928000) \n",
      "total number of windows: 723.0 , number of windows discarded: 6 \n",
      "file: 32 , shape: (23, 921600) \n",
      "total number of windows: 718.0 , number of windows discarded: 0 \n",
      "file: 33 , shape: (23, 921600) \n",
      "total number of windows: 718.0 , number of windows discarded: 0 \n",
      "file: 34 , shape: (23, 923904) \n",
      "total number of windows: 720.0 , number of windows discarded: 5 \n",
      "file: 35 , shape: (23, 921600) \n",
      "total number of windows: 718.0 , number of windows discarded: 22 \n",
      "file: 36 , shape: (23, 921600) \n",
      "total number of windows: 718.0 , number of windows discarded: 0 \n",
      "file: 37 , shape: (23, 921600) \n",
      "total number of windows: 718.0 , number of windows discarded: 5 \n",
      "file: 38 , shape: (23, 921600) \n",
      "total number of windows: 718.0 , number of windows discarded: 0 \n",
      "Extracting EDF parameters from d:\\salma\\UNI\\Sem8\\WS\\physionet.org\\files\\chbmit\\1.0.0\\chb16\\chb16_01.edf...\n",
      "EDF file detected\n",
      "Setting channel info structure...\n",
      "Creating raw.info structure...\n"
     ]
    },
    {
     "output_type": "stream",
     "name": "stderr",
     "text": [
      "<ipython-input-2-2015fd87c072>:4: RuntimeWarning: Channel names are not unique, found duplicates for: {'-', 'T8-P8'}. Applying running numbers for duplicates.\n",
      "  edf = mne.io.read_raw_edf(edf_filename,stim_channel=None)\n",
      "<ipython-input-2-2015fd87c072>:4: RuntimeWarning: Scaling factor is not defined in following channels:\n",
      "--0, --1, --2, --3, --4\n",
      "  edf = mne.io.read_raw_edf(edf_filename,stim_channel=None)\n"
     ]
    },
    {
     "output_type": "stream",
     "name": "stdout",
     "text": [
      "(23, 921600)\n",
      "Extracting EDF parameters from d:\\salma\\UNI\\Sem8\\WS\\physionet.org\\files\\chbmit\\1.0.0\\chb16\\chb16_02.edf...\n",
      "EDF file detected\n",
      "Setting channel info structure...\n",
      "Creating raw.info structure...\n"
     ]
    },
    {
     "output_type": "stream",
     "name": "stderr",
     "text": [
      "<ipython-input-2-2015fd87c072>:4: RuntimeWarning: Channel names are not unique, found duplicates for: {'-', 'T8-P8'}. Applying running numbers for duplicates.\n",
      "  edf = mne.io.read_raw_edf(edf_filename,stim_channel=None)\n",
      "<ipython-input-2-2015fd87c072>:4: RuntimeWarning: Scaling factor is not defined in following channels:\n",
      "--0, --1, --2, --3, --4\n",
      "  edf = mne.io.read_raw_edf(edf_filename,stim_channel=None)\n"
     ]
    },
    {
     "output_type": "stream",
     "name": "stdout",
     "text": [
      "(23, 921600)\n",
      "Extracting EDF parameters from d:\\salma\\UNI\\Sem8\\WS\\physionet.org\\files\\chbmit\\1.0.0\\chb16\\chb16_03.edf...\n",
      "EDF file detected\n",
      "Setting channel info structure...\n",
      "Creating raw.info structure...\n"
     ]
    },
    {
     "output_type": "stream",
     "name": "stderr",
     "text": [
      "<ipython-input-2-2015fd87c072>:4: RuntimeWarning: Channel names are not unique, found duplicates for: {'-', 'T8-P8'}. Applying running numbers for duplicates.\n",
      "  edf = mne.io.read_raw_edf(edf_filename,stim_channel=None)\n",
      "<ipython-input-2-2015fd87c072>:4: RuntimeWarning: Scaling factor is not defined in following channels:\n",
      "--0, --1, --2, --3, --4\n",
      "  edf = mne.io.read_raw_edf(edf_filename,stim_channel=None)\n"
     ]
    },
    {
     "output_type": "stream",
     "name": "stdout",
     "text": [
      "(23, 921600)\n",
      "Extracting EDF parameters from d:\\salma\\UNI\\Sem8\\WS\\physionet.org\\files\\chbmit\\1.0.0\\chb16\\chb16_04.edf...\n",
      "EDF file detected\n",
      "Setting channel info structure...\n",
      "Creating raw.info structure...\n"
     ]
    },
    {
     "output_type": "stream",
     "name": "stderr",
     "text": [
      "<ipython-input-2-2015fd87c072>:4: RuntimeWarning: Channel names are not unique, found duplicates for: {'-', 'T8-P8'}. Applying running numbers for duplicates.\n",
      "  edf = mne.io.read_raw_edf(edf_filename,stim_channel=None)\n",
      "<ipython-input-2-2015fd87c072>:4: RuntimeWarning: Scaling factor is not defined in following channels:\n",
      "--0, --1, --2, --3, --4\n",
      "  edf = mne.io.read_raw_edf(edf_filename,stim_channel=None)\n"
     ]
    },
    {
     "output_type": "stream",
     "name": "stdout",
     "text": [
      "(23, 921600)\n",
      "Extracting EDF parameters from d:\\salma\\UNI\\Sem8\\WS\\physionet.org\\files\\chbmit\\1.0.0\\chb16\\chb16_05.edf...\n",
      "EDF file detected\n",
      "Setting channel info structure...\n",
      "Creating raw.info structure...\n"
     ]
    },
    {
     "output_type": "stream",
     "name": "stderr",
     "text": [
      "<ipython-input-2-2015fd87c072>:4: RuntimeWarning: Channel names are not unique, found duplicates for: {'-', 'T8-P8'}. Applying running numbers for duplicates.\n",
      "  edf = mne.io.read_raw_edf(edf_filename,stim_channel=None)\n",
      "<ipython-input-2-2015fd87c072>:4: RuntimeWarning: Scaling factor is not defined in following channels:\n",
      "--0, --1, --2, --3, --4\n",
      "  edf = mne.io.read_raw_edf(edf_filename,stim_channel=None)\n"
     ]
    },
    {
     "output_type": "stream",
     "name": "stdout",
     "text": [
      "(23, 921600)\n",
      "Extracting EDF parameters from d:\\salma\\UNI\\Sem8\\WS\\physionet.org\\files\\chbmit\\1.0.0\\chb16\\chb16_06.edf...\n",
      "EDF file detected\n",
      "Setting channel info structure...\n",
      "Creating raw.info structure...\n"
     ]
    },
    {
     "output_type": "stream",
     "name": "stderr",
     "text": [
      "<ipython-input-2-2015fd87c072>:4: RuntimeWarning: Channel names are not unique, found duplicates for: {'-', 'T8-P8'}. Applying running numbers for duplicates.\n",
      "  edf = mne.io.read_raw_edf(edf_filename,stim_channel=None)\n",
      "<ipython-input-2-2015fd87c072>:4: RuntimeWarning: Scaling factor is not defined in following channels:\n",
      "--0, --1, --2, --3, --4\n",
      "  edf = mne.io.read_raw_edf(edf_filename,stim_channel=None)\n"
     ]
    },
    {
     "output_type": "stream",
     "name": "stdout",
     "text": [
      "(23, 921600)\n",
      "Extracting EDF parameters from d:\\salma\\UNI\\Sem8\\WS\\physionet.org\\files\\chbmit\\1.0.0\\chb16\\chb16_07.edf...\n",
      "EDF file detected\n",
      "Setting channel info structure...\n",
      "Creating raw.info structure...\n"
     ]
    },
    {
     "output_type": "stream",
     "name": "stderr",
     "text": [
      "<ipython-input-2-2015fd87c072>:4: RuntimeWarning: Channel names are not unique, found duplicates for: {'-', 'T8-P8'}. Applying running numbers for duplicates.\n",
      "  edf = mne.io.read_raw_edf(edf_filename,stim_channel=None)\n",
      "<ipython-input-2-2015fd87c072>:4: RuntimeWarning: Scaling factor is not defined in following channels:\n",
      "--0, --1, --2, --3, --4\n",
      "  edf = mne.io.read_raw_edf(edf_filename,stim_channel=None)\n"
     ]
    },
    {
     "output_type": "stream",
     "name": "stdout",
     "text": [
      "(23, 921600)\n",
      "Extracting EDF parameters from d:\\salma\\UNI\\Sem8\\WS\\physionet.org\\files\\chbmit\\1.0.0\\chb16\\chb16_08.edf...\n",
      "EDF file detected\n",
      "Setting channel info structure...\n",
      "Creating raw.info structure...\n"
     ]
    },
    {
     "output_type": "stream",
     "name": "stderr",
     "text": [
      "<ipython-input-2-2015fd87c072>:4: RuntimeWarning: Channel names are not unique, found duplicates for: {'-', 'T8-P8'}. Applying running numbers for duplicates.\n",
      "  edf = mne.io.read_raw_edf(edf_filename,stim_channel=None)\n",
      "<ipython-input-2-2015fd87c072>:4: RuntimeWarning: Scaling factor is not defined in following channels:\n",
      "--0, --1, --2, --3, --4\n",
      "  edf = mne.io.read_raw_edf(edf_filename,stim_channel=None)\n"
     ]
    },
    {
     "output_type": "stream",
     "name": "stdout",
     "text": [
      "(23, 921600)\n",
      "Extracting EDF parameters from d:\\salma\\UNI\\Sem8\\WS\\physionet.org\\files\\chbmit\\1.0.0\\chb16\\chb16_09.edf...\n",
      "EDF file detected\n",
      "Setting channel info structure...\n",
      "Creating raw.info structure...\n"
     ]
    },
    {
     "output_type": "stream",
     "name": "stderr",
     "text": [
      "<ipython-input-2-2015fd87c072>:4: RuntimeWarning: Channel names are not unique, found duplicates for: {'-', 'T8-P8'}. Applying running numbers for duplicates.\n",
      "  edf = mne.io.read_raw_edf(edf_filename,stim_channel=None)\n",
      "<ipython-input-2-2015fd87c072>:4: RuntimeWarning: Scaling factor is not defined in following channels:\n",
      "--0, --1, --2, --3, --4\n",
      "  edf = mne.io.read_raw_edf(edf_filename,stim_channel=None)\n"
     ]
    },
    {
     "output_type": "stream",
     "name": "stdout",
     "text": [
      "(23, 921600)\n",
      "Extracting EDF parameters from d:\\salma\\UNI\\Sem8\\WS\\physionet.org\\files\\chbmit\\1.0.0\\chb16\\chb16_10.edf...\n",
      "EDF file detected\n",
      "Setting channel info structure...\n",
      "Creating raw.info structure...\n"
     ]
    },
    {
     "output_type": "stream",
     "name": "stderr",
     "text": [
      "<ipython-input-2-2015fd87c072>:4: RuntimeWarning: Channel names are not unique, found duplicates for: {'-', 'T8-P8'}. Applying running numbers for duplicates.\n",
      "  edf = mne.io.read_raw_edf(edf_filename,stim_channel=None)\n",
      "<ipython-input-2-2015fd87c072>:4: RuntimeWarning: Scaling factor is not defined in following channels:\n",
      "--0, --1, --2, --3, --4\n",
      "  edf = mne.io.read_raw_edf(edf_filename,stim_channel=None)\n"
     ]
    },
    {
     "output_type": "stream",
     "name": "stdout",
     "text": [
      "(23, 921600)\n",
      "2290\n",
      "2299\n",
      "Extracting EDF parameters from d:\\salma\\UNI\\Sem8\\WS\\physionet.org\\files\\chbmit\\1.0.0\\chb16\\chb16_11.edf...\n",
      "EDF file detected\n",
      "Setting channel info structure...\n",
      "Creating raw.info structure...\n"
     ]
    },
    {
     "output_type": "stream",
     "name": "stderr",
     "text": [
      "<ipython-input-2-2015fd87c072>:4: RuntimeWarning: Channel names are not unique, found duplicates for: {'-', 'T8-P8'}. Applying running numbers for duplicates.\n",
      "  edf = mne.io.read_raw_edf(edf_filename,stim_channel=None)\n",
      "<ipython-input-2-2015fd87c072>:4: RuntimeWarning: Scaling factor is not defined in following channels:\n",
      "--0, --1, --2, --3, --4\n",
      "  edf = mne.io.read_raw_edf(edf_filename,stim_channel=None)\n"
     ]
    },
    {
     "output_type": "stream",
     "name": "stdout",
     "text": [
      "(23, 921600)\n",
      "1120\n",
      "1129\n",
      "Extracting EDF parameters from d:\\salma\\UNI\\Sem8\\WS\\physionet.org\\files\\chbmit\\1.0.0\\chb16\\chb16_12.edf...\n",
      "EDF file detected\n",
      "Setting channel info structure...\n",
      "Creating raw.info structure...\n"
     ]
    },
    {
     "output_type": "stream",
     "name": "stderr",
     "text": [
      "<ipython-input-2-2015fd87c072>:4: RuntimeWarning: Channel names are not unique, found duplicates for: {'-', 'T8-P8'}. Applying running numbers for duplicates.\n",
      "  edf = mne.io.read_raw_edf(edf_filename,stim_channel=None)\n",
      "<ipython-input-2-2015fd87c072>:4: RuntimeWarning: Scaling factor is not defined in following channels:\n",
      "--0, --1, --2, --3, --4\n",
      "  edf = mne.io.read_raw_edf(edf_filename,stim_channel=None)\n"
     ]
    },
    {
     "output_type": "stream",
     "name": "stdout",
     "text": [
      "(23, 921600)\n",
      "Extracting EDF parameters from d:\\salma\\UNI\\Sem8\\WS\\physionet.org\\files\\chbmit\\1.0.0\\chb16\\chb16_13.edf...\n",
      "EDF file detected\n",
      "Setting channel info structure...\n",
      "Creating raw.info structure...\n"
     ]
    },
    {
     "output_type": "stream",
     "name": "stderr",
     "text": [
      "<ipython-input-2-2015fd87c072>:4: RuntimeWarning: Channel names are not unique, found duplicates for: {'-', 'T8-P8'}. Applying running numbers for duplicates.\n",
      "  edf = mne.io.read_raw_edf(edf_filename,stim_channel=None)\n",
      "<ipython-input-2-2015fd87c072>:4: RuntimeWarning: Scaling factor is not defined in following channels:\n",
      "--0, --1, --2, --3, --4\n",
      "  edf = mne.io.read_raw_edf(edf_filename,stim_channel=None)\n"
     ]
    },
    {
     "output_type": "stream",
     "name": "stdout",
     "text": [
      "(23, 921600)\n",
      "Extracting EDF parameters from d:\\salma\\UNI\\Sem8\\WS\\physionet.org\\files\\chbmit\\1.0.0\\chb16\\chb16_14.edf...\n",
      "EDF file detected\n",
      "Setting channel info structure...\n",
      "Creating raw.info structure...\n"
     ]
    },
    {
     "output_type": "stream",
     "name": "stderr",
     "text": [
      "<ipython-input-2-2015fd87c072>:4: RuntimeWarning: Channel names are not unique, found duplicates for: {'-', 'T8-P8'}. Applying running numbers for duplicates.\n",
      "  edf = mne.io.read_raw_edf(edf_filename,stim_channel=None)\n",
      "<ipython-input-2-2015fd87c072>:4: RuntimeWarning: Scaling factor is not defined in following channels:\n",
      "--0, --1, --2, --3, --4\n",
      "  edf = mne.io.read_raw_edf(edf_filename,stim_channel=None)\n"
     ]
    },
    {
     "output_type": "stream",
     "name": "stdout",
     "text": [
      "(23, 921600)\n",
      "1854\n",
      "1868\n",
      "Extracting EDF parameters from d:\\salma\\UNI\\Sem8\\WS\\physionet.org\\files\\chbmit\\1.0.0\\chb16\\chb16_15.edf...\n",
      "EDF file detected\n",
      "Setting channel info structure...\n",
      "Creating raw.info structure...\n"
     ]
    },
    {
     "output_type": "stream",
     "name": "stderr",
     "text": [
      "<ipython-input-2-2015fd87c072>:4: RuntimeWarning: Channel names are not unique, found duplicates for: {'-', 'T8-P8'}. Applying running numbers for duplicates.\n",
      "  edf = mne.io.read_raw_edf(edf_filename,stim_channel=None)\n",
      "<ipython-input-2-2015fd87c072>:4: RuntimeWarning: Scaling factor is not defined in following channels:\n",
      "--0, --1, --2, --3, --4\n",
      "  edf = mne.io.read_raw_edf(edf_filename,stim_channel=None)\n"
     ]
    },
    {
     "output_type": "stream",
     "name": "stdout",
     "text": [
      "(23, 921600)\n",
      "Extracting EDF parameters from d:\\salma\\UNI\\Sem8\\WS\\physionet.org\\files\\chbmit\\1.0.0\\chb16\\chb16_16.edf...\n",
      "EDF file detected\n",
      "Setting channel info structure...\n",
      "Creating raw.info structure...\n"
     ]
    },
    {
     "output_type": "stream",
     "name": "stderr",
     "text": [
      "<ipython-input-2-2015fd87c072>:4: RuntimeWarning: Channel names are not unique, found duplicates for: {'-', 'T8-P8'}. Applying running numbers for duplicates.\n",
      "  edf = mne.io.read_raw_edf(edf_filename,stim_channel=None)\n",
      "<ipython-input-2-2015fd87c072>:4: RuntimeWarning: Scaling factor is not defined in following channels:\n",
      "--0, --1, --2, --3, --4\n",
      "  edf = mne.io.read_raw_edf(edf_filename,stim_channel=None)\n"
     ]
    },
    {
     "output_type": "stream",
     "name": "stdout",
     "text": [
      "(23, 921600)\n",
      "1214\n",
      "1220\n",
      "Extracting EDF parameters from d:\\salma\\UNI\\Sem8\\WS\\physionet.org\\files\\chbmit\\1.0.0\\chb16\\chb16_17.edf...\n",
      "EDF file detected\n",
      "Setting channel info structure...\n",
      "Creating raw.info structure...\n"
     ]
    },
    {
     "output_type": "stream",
     "name": "stderr",
     "text": [
      "<ipython-input-2-2015fd87c072>:4: RuntimeWarning: Channel names are not unique, found duplicates for: {'-', 'T8-P8'}. Applying running numbers for duplicates.\n",
      "  edf = mne.io.read_raw_edf(edf_filename,stim_channel=None)\n",
      "<ipython-input-2-2015fd87c072>:4: RuntimeWarning: Scaling factor is not defined in following channels:\n",
      "--0, --1, --2, --3, --4\n",
      "  edf = mne.io.read_raw_edf(edf_filename,stim_channel=None)\n"
     ]
    },
    {
     "output_type": "stream",
     "name": "stdout",
     "text": [
      "(23, 921600)\n",
      "227\n",
      "236\n",
      "1694\n",
      "1700\n",
      "2162\n",
      "2170\n",
      "3290\n",
      "3298\n",
      "file: 0 , shape: (23, 921600) \n",
      "total number of windows: 718.0 , number of windows discarded: 0 \n",
      "file: 1 , shape: (23, 921600) \n",
      "total number of windows: 718.0 , number of windows discarded: 0 \n",
      "file: 2 , shape: (23, 921600) \n",
      "total number of windows: 718.0 , number of windows discarded: 0 \n",
      "file: 3 , shape: (23, 921600) \n",
      "total number of windows: 718.0 , number of windows discarded: 0 \n",
      "file: 4 , shape: (23, 921600) \n",
      "total number of windows: 718.0 , number of windows discarded: 0 \n",
      "file: 5 , shape: (23, 921600) \n",
      "total number of windows: 718.0 , number of windows discarded: 0 \n",
      "file: 6 , shape: (23, 921600) \n",
      "total number of windows: 718.0 , number of windows discarded: 0 \n",
      "file: 7 , shape: (23, 921600) \n",
      "total number of windows: 718.0 , number of windows discarded: 0 \n",
      "file: 8 , shape: (23, 921600) \n",
      "total number of windows: 718.0 , number of windows discarded: 0 \n",
      "file: 9 , shape: (23, 921600) \n",
      "total number of windows: 718.0 , number of windows discarded: 3 \n",
      "file: 10 , shape: (23, 921600) \n",
      "total number of windows: 718.0 , number of windows discarded: 3 \n",
      "file: 11 , shape: (23, 921600) \n",
      "total number of windows: 718.0 , number of windows discarded: 0 \n",
      "file: 12 , shape: (23, 921600) \n",
      "total number of windows: 718.0 , number of windows discarded: 0 \n",
      "file: 13 , shape: (23, 921600) \n",
      "total number of windows: 718.0 , number of windows discarded: 6 \n",
      "file: 14 , shape: (23, 921600) \n",
      "total number of windows: 718.0 , number of windows discarded: 0 \n",
      "file: 15 , shape: (23, 921600) \n",
      "total number of windows: 718.0 , number of windows discarded: 6 \n",
      "file: 16 , shape: (23, 921600) \n",
      "total number of windows: 718.0 , number of windows discarded: 18 \n",
      "Extracting EDF parameters from d:\\salma\\UNI\\Sem8\\WS\\physionet.org\\files\\chbmit\\1.0.0\\chb17\\chb17a_03.edf...\n",
      "EDF file detected\n",
      "Setting channel info structure...\n",
      "Creating raw.info structure...\n"
     ]
    },
    {
     "output_type": "stream",
     "name": "stderr",
     "text": [
      "<ipython-input-2-2015fd87c072>:4: RuntimeWarning: Channel names are not unique, found duplicates for: {'-', 'T8-P8'}. Applying running numbers for duplicates.\n",
      "  edf = mne.io.read_raw_edf(edf_filename,stim_channel=None)\n",
      "<ipython-input-2-2015fd87c072>:4: RuntimeWarning: Scaling factor is not defined in following channels:\n",
      "--0, --1, --2, --3, --4\n",
      "  edf = mne.io.read_raw_edf(edf_filename,stim_channel=None)\n"
     ]
    },
    {
     "output_type": "stream",
     "name": "stdout",
     "text": [
      "(23, 921600)\n",
      "2282\n",
      "2372\n",
      "Extracting EDF parameters from d:\\salma\\UNI\\Sem8\\WS\\physionet.org\\files\\chbmit\\1.0.0\\chb17\\chb17a_04.edf...\n",
      "EDF file detected\n",
      "Setting channel info structure...\n",
      "Creating raw.info structure...\n"
     ]
    },
    {
     "output_type": "stream",
     "name": "stderr",
     "text": [
      "<ipython-input-2-2015fd87c072>:4: RuntimeWarning: Channel names are not unique, found duplicates for: {'-', 'T8-P8'}. Applying running numbers for duplicates.\n",
      "  edf = mne.io.read_raw_edf(edf_filename,stim_channel=None)\n",
      "<ipython-input-2-2015fd87c072>:4: RuntimeWarning: Scaling factor is not defined in following channels:\n",
      "--0, --1, --2, --3, --4\n",
      "  edf = mne.io.read_raw_edf(edf_filename,stim_channel=None)\n"
     ]
    },
    {
     "output_type": "stream",
     "name": "stdout",
     "text": [
      "(23, 921600)\n",
      "3025\n",
      "3140\n",
      "Extracting EDF parameters from d:\\salma\\UNI\\Sem8\\WS\\physionet.org\\files\\chbmit\\1.0.0\\chb17\\chb17a_05.edf...\n",
      "EDF file detected\n",
      "Setting channel info structure...\n",
      "Creating raw.info structure...\n"
     ]
    },
    {
     "output_type": "stream",
     "name": "stderr",
     "text": [
      "<ipython-input-2-2015fd87c072>:4: RuntimeWarning: Channel names are not unique, found duplicates for: {'-', 'T8-P8'}. Applying running numbers for duplicates.\n",
      "  edf = mne.io.read_raw_edf(edf_filename,stim_channel=None)\n",
      "<ipython-input-2-2015fd87c072>:4: RuntimeWarning: Scaling factor is not defined in following channels:\n",
      "--0, --1, --2, --3, --4\n",
      "  edf = mne.io.read_raw_edf(edf_filename,stim_channel=None)\n"
     ]
    },
    {
     "output_type": "stream",
     "name": "stdout",
     "text": [
      "(23, 921600)\n",
      "Extracting EDF parameters from d:\\salma\\UNI\\Sem8\\WS\\physionet.org\\files\\chbmit\\1.0.0\\chb17\\chb17a_06.edf...\n",
      "EDF file detected\n",
      "Setting channel info structure...\n",
      "Creating raw.info structure...\n"
     ]
    },
    {
     "output_type": "stream",
     "name": "stderr",
     "text": [
      "<ipython-input-2-2015fd87c072>:4: RuntimeWarning: Channel names are not unique, found duplicates for: {'-', 'T8-P8'}. Applying running numbers for duplicates.\n",
      "  edf = mne.io.read_raw_edf(edf_filename,stim_channel=None)\n",
      "<ipython-input-2-2015fd87c072>:4: RuntimeWarning: Scaling factor is not defined in following channels:\n",
      "--0, --1, --2, --3, --4\n",
      "  edf = mne.io.read_raw_edf(edf_filename,stim_channel=None)\n"
     ]
    },
    {
     "output_type": "stream",
     "name": "stdout",
     "text": [
      "(23, 921600)\n",
      "Extracting EDF parameters from d:\\salma\\UNI\\Sem8\\WS\\physionet.org\\files\\chbmit\\1.0.0\\chb17\\chb17a_08.edf...\n",
      "EDF file detected\n",
      "Setting channel info structure...\n",
      "Creating raw.info structure...\n"
     ]
    },
    {
     "output_type": "stream",
     "name": "stderr",
     "text": [
      "<ipython-input-2-2015fd87c072>:4: RuntimeWarning: Channel names are not unique, found duplicates for: {'-', 'T8-P8'}. Applying running numbers for duplicates.\n",
      "  edf = mne.io.read_raw_edf(edf_filename,stim_channel=None)\n",
      "<ipython-input-2-2015fd87c072>:4: RuntimeWarning: Scaling factor is not defined in following channels:\n",
      "--0, --1, --2, --3, --4\n",
      "  edf = mne.io.read_raw_edf(edf_filename,stim_channel=None)\n"
     ]
    },
    {
     "output_type": "stream",
     "name": "stdout",
     "text": [
      "(23, 921600)\n",
      "Extracting EDF parameters from d:\\salma\\UNI\\Sem8\\WS\\physionet.org\\files\\chbmit\\1.0.0\\chb17\\chb17b_57.edf...\n",
      "EDF file detected\n",
      "Setting channel info structure...\n",
      "Creating raw.info structure...\n"
     ]
    },
    {
     "output_type": "stream",
     "name": "stderr",
     "text": [
      "<ipython-input-2-2015fd87c072>:4: RuntimeWarning: Channel names are not unique, found duplicates for: {'-', 'T8-P8'}. Applying running numbers for duplicates.\n",
      "  edf = mne.io.read_raw_edf(edf_filename,stim_channel=None)\n",
      "<ipython-input-2-2015fd87c072>:4: RuntimeWarning: Scaling factor is not defined in following channels:\n",
      "--0, --1, --2, --3, --4\n",
      "  edf = mne.io.read_raw_edf(edf_filename,stim_channel=None)\n"
     ]
    },
    {
     "output_type": "stream",
     "name": "stdout",
     "text": [
      "(23, 921600)\n",
      "Extracting EDF parameters from d:\\salma\\UNI\\Sem8\\WS\\physionet.org\\files\\chbmit\\1.0.0\\chb17\\chb17b_58.edf...\n",
      "EDF file detected\n",
      "Setting channel info structure...\n",
      "Creating raw.info structure...\n"
     ]
    },
    {
     "output_type": "stream",
     "name": "stderr",
     "text": [
      "<ipython-input-2-2015fd87c072>:4: RuntimeWarning: Channel names are not unique, found duplicates for: {'-', 'T8-P8'}. Applying running numbers for duplicates.\n",
      "  edf = mne.io.read_raw_edf(edf_filename,stim_channel=None)\n",
      "<ipython-input-2-2015fd87c072>:4: RuntimeWarning: Scaling factor is not defined in following channels:\n",
      "--0, --1, --2, --3, --4\n",
      "  edf = mne.io.read_raw_edf(edf_filename,stim_channel=None)\n"
     ]
    },
    {
     "output_type": "stream",
     "name": "stdout",
     "text": [
      "(23, 921600)\n",
      "Extracting EDF parameters from d:\\salma\\UNI\\Sem8\\WS\\physionet.org\\files\\chbmit\\1.0.0\\chb17\\chb17b_59.edf...\n",
      "EDF file detected\n",
      "Setting channel info structure...\n",
      "Creating raw.info structure...\n"
     ]
    },
    {
     "output_type": "stream",
     "name": "stderr",
     "text": [
      "<ipython-input-2-2015fd87c072>:4: RuntimeWarning: Channel names are not unique, found duplicates for: {'-', 'T8-P8'}. Applying running numbers for duplicates.\n",
      "  edf = mne.io.read_raw_edf(edf_filename,stim_channel=None)\n",
      "<ipython-input-2-2015fd87c072>:4: RuntimeWarning: Scaling factor is not defined in following channels:\n",
      "--0, --1, --2, --3, --4\n",
      "  edf = mne.io.read_raw_edf(edf_filename,stim_channel=None)\n"
     ]
    },
    {
     "output_type": "stream",
     "name": "stdout",
     "text": [
      "(23, 921600)\n",
      "Extracting EDF parameters from d:\\salma\\UNI\\Sem8\\WS\\physionet.org\\files\\chbmit\\1.0.0\\chb17\\chb17b_60.edf...\n",
      "EDF file detected\n",
      "Setting channel info structure...\n",
      "Creating raw.info structure...\n"
     ]
    },
    {
     "output_type": "stream",
     "name": "stderr",
     "text": [
      "<ipython-input-2-2015fd87c072>:4: RuntimeWarning: Channel names are not unique, found duplicates for: {'-', 'T8-P8'}. Applying running numbers for duplicates.\n",
      "  edf = mne.io.read_raw_edf(edf_filename,stim_channel=None)\n",
      "<ipython-input-2-2015fd87c072>:4: RuntimeWarning: Scaling factor is not defined in following channels:\n",
      "--0, --1, --2, --3, --4\n",
      "  edf = mne.io.read_raw_edf(edf_filename,stim_channel=None)\n"
     ]
    },
    {
     "output_type": "stream",
     "name": "stdout",
     "text": [
      "(23, 921600)\n",
      "Extracting EDF parameters from d:\\salma\\UNI\\Sem8\\WS\\physionet.org\\files\\chbmit\\1.0.0\\chb17\\chb17b_63.edf...\n",
      "EDF file detected\n",
      "Setting channel info structure...\n",
      "Creating raw.info structure...\n"
     ]
    },
    {
     "output_type": "stream",
     "name": "stderr",
     "text": [
      "<ipython-input-2-2015fd87c072>:4: RuntimeWarning: Channel names are not unique, found duplicates for: {'-', 'T8-P8'}. Applying running numbers for duplicates.\n",
      "  edf = mne.io.read_raw_edf(edf_filename,stim_channel=None)\n",
      "<ipython-input-2-2015fd87c072>:4: RuntimeWarning: Scaling factor is not defined in following channels:\n",
      "--0, --1, --2, --3, --4\n",
      "  edf = mne.io.read_raw_edf(edf_filename,stim_channel=None)\n"
     ]
    },
    {
     "output_type": "stream",
     "name": "stdout",
     "text": [
      "(23, 927744)\n",
      "3136\n",
      "3224\n",
      "Extracting EDF parameters from d:\\salma\\UNI\\Sem8\\WS\\physionet.org\\files\\chbmit\\1.0.0\\chb17\\chb17b_67.edf...\n",
      "EDF file detected\n",
      "Setting channel info structure...\n",
      "Creating raw.info structure...\n"
     ]
    },
    {
     "output_type": "stream",
     "name": "stderr",
     "text": [
      "<ipython-input-2-2015fd87c072>:4: RuntimeWarning: Channel names are not unique, found duplicates for: {'-', 'T8-P8'}. Applying running numbers for duplicates.\n",
      "  edf = mne.io.read_raw_edf(edf_filename,stim_channel=None)\n",
      "<ipython-input-2-2015fd87c072>:4: RuntimeWarning: Scaling factor is not defined in following channels:\n",
      "--0, --1, --2, --3, --4\n",
      "  edf = mne.io.read_raw_edf(edf_filename,stim_channel=None)\n"
     ]
    },
    {
     "output_type": "stream",
     "name": "stdout",
     "text": [
      "(23, 921600)\n",
      "Extracting EDF parameters from d:\\salma\\UNI\\Sem8\\WS\\physionet.org\\files\\chbmit\\1.0.0\\chb17\\chb17b_68.edf...\n",
      "EDF file detected\n",
      "Setting channel info structure...\n",
      "Creating raw.info structure...\n"
     ]
    },
    {
     "output_type": "stream",
     "name": "stderr",
     "text": [
      "<ipython-input-2-2015fd87c072>:4: RuntimeWarning: Channel names are not unique, found duplicates for: {'-', 'T8-P8'}. Applying running numbers for duplicates.\n",
      "  edf = mne.io.read_raw_edf(edf_filename,stim_channel=None)\n",
      "<ipython-input-2-2015fd87c072>:4: RuntimeWarning: Scaling factor is not defined in following channels:\n",
      "--0, --1, --2, --3, --4\n",
      "  edf = mne.io.read_raw_edf(edf_filename,stim_channel=None)\n"
     ]
    },
    {
     "output_type": "stream",
     "name": "stdout",
     "text": [
      "(23, 921600)\n",
      "Extracting EDF parameters from d:\\salma\\UNI\\Sem8\\WS\\physionet.org\\files\\chbmit\\1.0.0\\chb17\\chb17b_69.edf...\n",
      "EDF file detected\n",
      "Setting channel info structure...\n",
      "Creating raw.info structure...\n"
     ]
    },
    {
     "output_type": "stream",
     "name": "stderr",
     "text": [
      "<ipython-input-2-2015fd87c072>:4: RuntimeWarning: Channel names are not unique, found duplicates for: {'-', 'T8-P8'}. Applying running numbers for duplicates.\n",
      "  edf = mne.io.read_raw_edf(edf_filename,stim_channel=None)\n",
      "<ipython-input-2-2015fd87c072>:4: RuntimeWarning: Scaling factor is not defined in following channels:\n",
      "--0, --1, --2, --3, --4\n",
      "  edf = mne.io.read_raw_edf(edf_filename,stim_channel=None)\n"
     ]
    },
    {
     "output_type": "stream",
     "name": "stdout",
     "text": [
      "(23, 921600)\n",
      "Extracting EDF parameters from d:\\salma\\UNI\\Sem8\\WS\\physionet.org\\files\\chbmit\\1.0.0\\chb17\\chb17c_02.edf...\n",
      "EDF file detected\n",
      "Setting channel info structure...\n",
      "Creating raw.info structure...\n"
     ]
    },
    {
     "output_type": "stream",
     "name": "stderr",
     "text": [
      "<ipython-input-2-2015fd87c072>:4: RuntimeWarning: Channel names are not unique, found duplicates for: {'-', 'T8-P8'}. Applying running numbers for duplicates.\n",
      "  edf = mne.io.read_raw_edf(edf_filename,stim_channel=None)\n",
      "<ipython-input-2-2015fd87c072>:4: RuntimeWarning: Scaling factor is not defined in following channels:\n",
      "--0, --1, --2, --3, --4\n",
      "  edf = mne.io.read_raw_edf(edf_filename,stim_channel=None)\n"
     ]
    },
    {
     "output_type": "stream",
     "name": "stdout",
     "text": [
      "(23, 921600)\n",
      "Extracting EDF parameters from d:\\salma\\UNI\\Sem8\\WS\\physionet.org\\files\\chbmit\\1.0.0\\chb17\\chb17c_03.edf...\n",
      "EDF file detected\n",
      "Setting channel info structure...\n",
      "Creating raw.info structure...\n"
     ]
    },
    {
     "output_type": "stream",
     "name": "stderr",
     "text": [
      "<ipython-input-2-2015fd87c072>:4: RuntimeWarning: Channel names are not unique, found duplicates for: {'-', 'T8-P8'}. Applying running numbers for duplicates.\n",
      "  edf = mne.io.read_raw_edf(edf_filename,stim_channel=None)\n",
      "<ipython-input-2-2015fd87c072>:4: RuntimeWarning: Scaling factor is not defined in following channels:\n",
      "--0, --1, --2, --3, --4\n",
      "  edf = mne.io.read_raw_edf(edf_filename,stim_channel=None)\n"
     ]
    },
    {
     "output_type": "stream",
     "name": "stdout",
     "text": [
      "(23, 921600)\n",
      "Extracting EDF parameters from d:\\salma\\UNI\\Sem8\\WS\\physionet.org\\files\\chbmit\\1.0.0\\chb17\\chb17c_04.edf...\n",
      "EDF file detected\n",
      "Setting channel info structure...\n",
      "Creating raw.info structure...\n"
     ]
    },
    {
     "output_type": "stream",
     "name": "stderr",
     "text": [
      "<ipython-input-2-2015fd87c072>:4: RuntimeWarning: Channel names are not unique, found duplicates for: {'-', 'T8-P8'}. Applying running numbers for duplicates.\n",
      "  edf = mne.io.read_raw_edf(edf_filename,stim_channel=None)\n",
      "<ipython-input-2-2015fd87c072>:4: RuntimeWarning: Scaling factor is not defined in following channels:\n",
      "--0, --1, --2, --3, --4\n",
      "  edf = mne.io.read_raw_edf(edf_filename,stim_channel=None)\n"
     ]
    },
    {
     "output_type": "stream",
     "name": "stdout",
     "text": [
      "(23, 921600)\n",
      "Extracting EDF parameters from d:\\salma\\UNI\\Sem8\\WS\\physionet.org\\files\\chbmit\\1.0.0\\chb17\\chb17c_05.edf...\n",
      "EDF file detected\n",
      "Setting channel info structure...\n",
      "Creating raw.info structure...\n"
     ]
    },
    {
     "output_type": "stream",
     "name": "stderr",
     "text": [
      "<ipython-input-2-2015fd87c072>:4: RuntimeWarning: Channel names are not unique, found duplicates for: {'-', 'T8-P8'}. Applying running numbers for duplicates.\n",
      "  edf = mne.io.read_raw_edf(edf_filename,stim_channel=None)\n",
      "<ipython-input-2-2015fd87c072>:4: RuntimeWarning: Scaling factor is not defined in following channels:\n",
      "--0, --1, --2, --3, --4\n",
      "  edf = mne.io.read_raw_edf(edf_filename,stim_channel=None)\n"
     ]
    },
    {
     "output_type": "stream",
     "name": "stdout",
     "text": [
      "(23, 921600)\n",
      "Extracting EDF parameters from d:\\salma\\UNI\\Sem8\\WS\\physionet.org\\files\\chbmit\\1.0.0\\chb17\\chb17c_06.edf...\n",
      "EDF file detected\n",
      "Setting channel info structure...\n",
      "Creating raw.info structure...\n"
     ]
    },
    {
     "output_type": "stream",
     "name": "stderr",
     "text": [
      "<ipython-input-2-2015fd87c072>:4: RuntimeWarning: Channel names are not unique, found duplicates for: {'-', 'T8-P8'}. Applying running numbers for duplicates.\n",
      "  edf = mne.io.read_raw_edf(edf_filename,stim_channel=None)\n",
      "<ipython-input-2-2015fd87c072>:4: RuntimeWarning: Scaling factor is not defined in following channels:\n",
      "--0, --1, --2, --3, --4\n",
      "  edf = mne.io.read_raw_edf(edf_filename,stim_channel=None)\n"
     ]
    },
    {
     "output_type": "stream",
     "name": "stdout",
     "text": [
      "(23, 921600)\n",
      "Extracting EDF parameters from d:\\salma\\UNI\\Sem8\\WS\\physionet.org\\files\\chbmit\\1.0.0\\chb17\\chb17c_07.edf...\n",
      "EDF file detected\n",
      "Setting channel info structure...\n",
      "Creating raw.info structure...\n"
     ]
    },
    {
     "output_type": "stream",
     "name": "stderr",
     "text": [
      "<ipython-input-2-2015fd87c072>:4: RuntimeWarning: Channel names are not unique, found duplicates for: {'-', 'T8-P8'}. Applying running numbers for duplicates.\n",
      "  edf = mne.io.read_raw_edf(edf_filename,stim_channel=None)\n",
      "<ipython-input-2-2015fd87c072>:4: RuntimeWarning: Scaling factor is not defined in following channels:\n",
      "--0, --1, --2, --3, --4\n",
      "  edf = mne.io.read_raw_edf(edf_filename,stim_channel=None)\n"
     ]
    },
    {
     "output_type": "stream",
     "name": "stdout",
     "text": [
      "(23, 921600)\n",
      "Extracting EDF parameters from d:\\salma\\UNI\\Sem8\\WS\\physionet.org\\files\\chbmit\\1.0.0\\chb17\\chb17c_08.edf...\n",
      "EDF file detected\n",
      "Setting channel info structure...\n",
      "Creating raw.info structure...\n"
     ]
    },
    {
     "output_type": "stream",
     "name": "stderr",
     "text": [
      "<ipython-input-2-2015fd87c072>:4: RuntimeWarning: Channel names are not unique, found duplicates for: {'-', 'T8-P8'}. Applying running numbers for duplicates.\n",
      "  edf = mne.io.read_raw_edf(edf_filename,stim_channel=None)\n",
      "<ipython-input-2-2015fd87c072>:4: RuntimeWarning: Scaling factor is not defined in following channels:\n",
      "--0, --1, --2, --3, --4\n",
      "  edf = mne.io.read_raw_edf(edf_filename,stim_channel=None)\n"
     ]
    },
    {
     "output_type": "stream",
     "name": "stdout",
     "text": [
      "(23, 921600)\n",
      "file: 0 , shape: (23, 921600) \n",
      "total number of windows: 718.0 , number of windows discarded: 6 \n",
      "file: 1 , shape: (23, 921600) \n",
      "total number of windows: 718.0 , number of windows discarded: 4 \n",
      "file: 2 , shape: (23, 921600) \n",
      "total number of windows: 718.0 , number of windows discarded: 0 \n",
      "file: 3 , shape: (23, 921600) \n",
      "total number of windows: 718.0 , number of windows discarded: 0 \n",
      "file: 4 , shape: (23, 921600) \n",
      "total number of windows: 718.0 , number of windows discarded: 0 \n",
      "file: 5 , shape: (23, 921600) \n",
      "total number of windows: 718.0 , number of windows discarded: 0 \n",
      "file: 6 , shape: (23, 921600) \n",
      "total number of windows: 718.0 , number of windows discarded: 0 \n",
      "file: 7 , shape: (23, 921600) \n",
      "total number of windows: 718.0 , number of windows discarded: 0 \n",
      "file: 8 , shape: (23, 921600) \n",
      "total number of windows: 718.0 , number of windows discarded: 0 \n",
      "file: 9 , shape: (23, 927744) \n",
      "total number of windows: 723.0 , number of windows discarded: 5 \n",
      "file: 10 , shape: (23, 921600) \n",
      "total number of windows: 718.0 , number of windows discarded: 0 \n",
      "file: 11 , shape: (23, 921600) \n",
      "total number of windows: 718.0 , number of windows discarded: 0 \n",
      "file: 12 , shape: (23, 921600) \n",
      "total number of windows: 718.0 , number of windows discarded: 0 \n",
      "file: 13 , shape: (23, 921600) \n",
      "total number of windows: 718.0 , number of windows discarded: 0 \n",
      "file: 14 , shape: (23, 921600) \n",
      "total number of windows: 718.0 , number of windows discarded: 0 \n",
      "file: 15 , shape: (23, 921600) \n",
      "total number of windows: 718.0 , number of windows discarded: 0 \n",
      "file: 16 , shape: (23, 921600) \n",
      "total number of windows: 718.0 , number of windows discarded: 0 \n",
      "file: 17 , shape: (23, 921600) \n",
      "total number of windows: 718.0 , number of windows discarded: 0 \n",
      "file: 18 , shape: (23, 921600) \n",
      "total number of windows: 718.0 , number of windows discarded: 0 \n",
      "file: 19 , shape: (23, 921600) \n",
      "total number of windows: 718.0 , number of windows discarded: 0 \n",
      "Extracting EDF parameters from d:\\salma\\UNI\\Sem8\\WS\\physionet.org\\files\\chbmit\\1.0.0\\chb18\\chb18_02.edf...\n",
      "EDF file detected\n",
      "Setting channel info structure...\n",
      "Creating raw.info structure...\n"
     ]
    },
    {
     "output_type": "stream",
     "name": "stderr",
     "text": [
      "<ipython-input-2-2015fd87c072>:4: RuntimeWarning: Channel names are not unique, found duplicates for: {'.', 'T8-P8'}. Applying running numbers for duplicates.\n",
      "  edf = mne.io.read_raw_edf(edf_filename,stim_channel=None)\n",
      "<ipython-input-2-2015fd87c072>:4: RuntimeWarning: Number of records from the header does not match the file size (perhaps the recording was not stopped before exiting). Inferring from the file size.\n",
      "  edf = mne.io.read_raw_edf(edf_filename,stim_channel=None)\n"
     ]
    },
    {
     "output_type": "stream",
     "name": "stdout",
     "text": [
      "(23, 1000448)\n",
      "Extracting EDF parameters from d:\\salma\\UNI\\Sem8\\WS\\physionet.org\\files\\chbmit\\1.0.0\\chb18\\chb18_03.edf...\n",
      "EDF file detected\n",
      "Setting channel info structure...\n",
      "Creating raw.info structure...\n"
     ]
    },
    {
     "output_type": "stream",
     "name": "stderr",
     "text": [
      "<ipython-input-2-2015fd87c072>:4: RuntimeWarning: Channel names are not unique, found duplicates for: {'.', 'T8-P8'}. Applying running numbers for duplicates.\n",
      "  edf = mne.io.read_raw_edf(edf_filename,stim_channel=None)\n",
      "<ipython-input-2-2015fd87c072>:4: RuntimeWarning: Number of records from the header does not match the file size (perhaps the recording was not stopped before exiting). Inferring from the file size.\n",
      "  edf = mne.io.read_raw_edf(edf_filename,stim_channel=None)\n"
     ]
    },
    {
     "output_type": "stream",
     "name": "stdout",
     "text": [
      "(23, 1223936)\n",
      "Extracting EDF parameters from d:\\salma\\UNI\\Sem8\\WS\\physionet.org\\files\\chbmit\\1.0.0\\chb18\\chb18_04.edf...\n",
      "EDF file detected\n",
      "Setting channel info structure...\n",
      "Creating raw.info structure...\n"
     ]
    },
    {
     "output_type": "stream",
     "name": "stderr",
     "text": [
      "<ipython-input-2-2015fd87c072>:4: RuntimeWarning: Channel names are not unique, found duplicates for: {'.', 'T8-P8'}. Applying running numbers for duplicates.\n",
      "  edf = mne.io.read_raw_edf(edf_filename,stim_channel=None)\n",
      "<ipython-input-2-2015fd87c072>:4: RuntimeWarning: Number of records from the header does not match the file size (perhaps the recording was not stopped before exiting). Inferring from the file size.\n",
      "  edf = mne.io.read_raw_edf(edf_filename,stim_channel=None)\n"
     ]
    },
    {
     "output_type": "stream",
     "name": "stdout",
     "text": [
      "(23, 1088000)\n",
      "Extracting EDF parameters from d:\\salma\\UNI\\Sem8\\WS\\physionet.org\\files\\chbmit\\1.0.0\\chb18\\chb18_05.edf...\n",
      "EDF file detected\n",
      "Setting channel info structure...\n",
      "Creating raw.info structure...\n"
     ]
    },
    {
     "output_type": "stream",
     "name": "stderr",
     "text": [
      "<ipython-input-2-2015fd87c072>:4: RuntimeWarning: Channel names are not unique, found duplicates for: {'.', 'T8-P8'}. Applying running numbers for duplicates.\n",
      "  edf = mne.io.read_raw_edf(edf_filename,stim_channel=None)\n",
      "<ipython-input-2-2015fd87c072>:4: RuntimeWarning: Number of records from the header does not match the file size (perhaps the recording was not stopped before exiting). Inferring from the file size.\n",
      "  edf = mne.io.read_raw_edf(edf_filename,stim_channel=None)\n"
     ]
    },
    {
     "output_type": "stream",
     "name": "stdout",
     "text": [
      "(23, 1196032)\n",
      "Extracting EDF parameters from d:\\salma\\UNI\\Sem8\\WS\\physionet.org\\files\\chbmit\\1.0.0\\chb18\\chb18_06.edf...\n",
      "EDF file detected\n",
      "Setting channel info structure...\n",
      "Creating raw.info structure...\n"
     ]
    },
    {
     "output_type": "stream",
     "name": "stderr",
     "text": [
      "<ipython-input-2-2015fd87c072>:4: RuntimeWarning: Channel names are not unique, found duplicates for: {'.', 'T8-P8'}. Applying running numbers for duplicates.\n",
      "  edf = mne.io.read_raw_edf(edf_filename,stim_channel=None)\n",
      "<ipython-input-2-2015fd87c072>:4: RuntimeWarning: Number of records from the header does not match the file size (perhaps the recording was not stopped before exiting). Inferring from the file size.\n",
      "  edf = mne.io.read_raw_edf(edf_filename,stim_channel=None)\n"
     ]
    },
    {
     "output_type": "stream",
     "name": "stdout",
     "text": [
      "(23, 959744)\n",
      "Extracting EDF parameters from d:\\salma\\UNI\\Sem8\\WS\\physionet.org\\files\\chbmit\\1.0.0\\chb18\\chb18_07.edf...\n",
      "EDF file detected\n",
      "Setting channel info structure...\n",
      "Creating raw.info structure...\n"
     ]
    },
    {
     "output_type": "stream",
     "name": "stderr",
     "text": [
      "<ipython-input-2-2015fd87c072>:4: RuntimeWarning: Channel names are not unique, found duplicates for: {'.', 'T8-P8'}. Applying running numbers for duplicates.\n",
      "  edf = mne.io.read_raw_edf(edf_filename,stim_channel=None)\n",
      "<ipython-input-2-2015fd87c072>:4: RuntimeWarning: Number of records from the header does not match the file size (perhaps the recording was not stopped before exiting). Inferring from the file size.\n",
      "  edf = mne.io.read_raw_edf(edf_filename,stim_channel=None)\n"
     ]
    },
    {
     "output_type": "stream",
     "name": "stdout",
     "text": [
      "(23, 1334784)\n",
      "Extracting EDF parameters from d:\\salma\\UNI\\Sem8\\WS\\physionet.org\\files\\chbmit\\1.0.0\\chb18\\chb18_08.edf...\n",
      "EDF file detected\n",
      "Setting channel info structure...\n",
      "Creating raw.info structure...\n"
     ]
    },
    {
     "output_type": "stream",
     "name": "stderr",
     "text": [
      "<ipython-input-2-2015fd87c072>:4: RuntimeWarning: Channel names are not unique, found duplicates for: {'.', 'T8-P8'}. Applying running numbers for duplicates.\n",
      "  edf = mne.io.read_raw_edf(edf_filename,stim_channel=None)\n",
      "<ipython-input-2-2015fd87c072>:4: RuntimeWarning: Number of records from the header does not match the file size (perhaps the recording was not stopped before exiting). Inferring from the file size.\n",
      "  edf = mne.io.read_raw_edf(edf_filename,stim_channel=None)\n"
     ]
    },
    {
     "output_type": "stream",
     "name": "stdout",
     "text": [
      "(23, 1213952)\n",
      "Extracting EDF parameters from d:\\salma\\UNI\\Sem8\\WS\\physionet.org\\files\\chbmit\\1.0.0\\chb18\\chb18_09.edf...\n",
      "EDF file detected\n",
      "Setting channel info structure...\n",
      "Creating raw.info structure...\n"
     ]
    },
    {
     "output_type": "stream",
     "name": "stderr",
     "text": [
      "<ipython-input-2-2015fd87c072>:4: RuntimeWarning: Channel names are not unique, found duplicates for: {'.', 'T8-P8'}. Applying running numbers for duplicates.\n",
      "  edf = mne.io.read_raw_edf(edf_filename,stim_channel=None)\n",
      "<ipython-input-2-2015fd87c072>:4: RuntimeWarning: Number of records from the header does not match the file size (perhaps the recording was not stopped before exiting). Inferring from the file size.\n",
      "  edf = mne.io.read_raw_edf(edf_filename,stim_channel=None)\n"
     ]
    },
    {
     "output_type": "stream",
     "name": "stdout",
     "text": [
      "(23, 1111040)\n",
      "Extracting EDF parameters from d:\\salma\\UNI\\Sem8\\WS\\physionet.org\\files\\chbmit\\1.0.0\\chb18\\chb18_10.edf...\n",
      "EDF file detected\n",
      "Setting channel info structure...\n",
      "Creating raw.info structure...\n"
     ]
    },
    {
     "output_type": "stream",
     "name": "stderr",
     "text": [
      "<ipython-input-2-2015fd87c072>:4: RuntimeWarning: Channel names are not unique, found duplicates for: {'.', 'T8-P8'}. Applying running numbers for duplicates.\n",
      "  edf = mne.io.read_raw_edf(edf_filename,stim_channel=None)\n",
      "<ipython-input-2-2015fd87c072>:4: RuntimeWarning: Number of records from the header does not match the file size (perhaps the recording was not stopped before exiting). Inferring from the file size.\n",
      "  edf = mne.io.read_raw_edf(edf_filename,stim_channel=None)\n"
     ]
    },
    {
     "output_type": "stream",
     "name": "stdout",
     "text": [
      "(23, 1069824)\n",
      "Extracting EDF parameters from d:\\salma\\UNI\\Sem8\\WS\\physionet.org\\files\\chbmit\\1.0.0\\chb18\\chb18_11.edf...\n",
      "EDF file detected\n",
      "Setting channel info structure...\n",
      "Creating raw.info structure...\n"
     ]
    },
    {
     "output_type": "stream",
     "name": "stderr",
     "text": [
      "<ipython-input-2-2015fd87c072>:4: RuntimeWarning: Channel names are not unique, found duplicates for: {'.', 'T8-P8'}. Applying running numbers for duplicates.\n",
      "  edf = mne.io.read_raw_edf(edf_filename,stim_channel=None)\n",
      "<ipython-input-2-2015fd87c072>:4: RuntimeWarning: Number of records from the header does not match the file size (perhaps the recording was not stopped before exiting). Inferring from the file size.\n",
      "  edf = mne.io.read_raw_edf(edf_filename,stim_channel=None)\n"
     ]
    },
    {
     "output_type": "stream",
     "name": "stdout",
     "text": [
      "(23, 1079808)\n",
      "Extracting EDF parameters from d:\\salma\\UNI\\Sem8\\WS\\physionet.org\\files\\chbmit\\1.0.0\\chb18\\chb18_12.edf...\n",
      "EDF file detected\n",
      "Setting channel info structure...\n",
      "Creating raw.info structure...\n"
     ]
    },
    {
     "output_type": "stream",
     "name": "stderr",
     "text": [
      "<ipython-input-2-2015fd87c072>:4: RuntimeWarning: Channel names are not unique, found duplicates for: {'.', 'T8-P8'}. Applying running numbers for duplicates.\n",
      "  edf = mne.io.read_raw_edf(edf_filename,stim_channel=None)\n",
      "<ipython-input-2-2015fd87c072>:4: RuntimeWarning: Number of records from the header does not match the file size (perhaps the recording was not stopped before exiting). Inferring from the file size.\n",
      "  edf = mne.io.read_raw_edf(edf_filename,stim_channel=None)\n"
     ]
    },
    {
     "output_type": "stream",
     "name": "stdout",
     "text": [
      "(23, 1012480)\n",
      "Extracting EDF parameters from d:\\salma\\UNI\\Sem8\\WS\\physionet.org\\files\\chbmit\\1.0.0\\chb18\\chb18_13.edf...\n",
      "EDF file detected\n",
      "Setting channel info structure...\n",
      "Creating raw.info structure...\n"
     ]
    },
    {
     "output_type": "stream",
     "name": "stderr",
     "text": [
      "<ipython-input-2-2015fd87c072>:4: RuntimeWarning: Channel names are not unique, found duplicates for: {'.', 'T8-P8'}. Applying running numbers for duplicates.\n",
      "  edf = mne.io.read_raw_edf(edf_filename,stim_channel=None)\n",
      "<ipython-input-2-2015fd87c072>:4: RuntimeWarning: Number of records from the header does not match the file size (perhaps the recording was not stopped before exiting). Inferring from the file size.\n",
      "  edf = mne.io.read_raw_edf(edf_filename,stim_channel=None)\n"
     ]
    },
    {
     "output_type": "stream",
     "name": "stdout",
     "text": [
      "(23, 1246464)\n",
      "Extracting EDF parameters from d:\\salma\\UNI\\Sem8\\WS\\physionet.org\\files\\chbmit\\1.0.0\\chb18\\chb18_14.edf...\n",
      "EDF file detected\n",
      "Setting channel info structure...\n",
      "Creating raw.info structure...\n"
     ]
    },
    {
     "output_type": "stream",
     "name": "stderr",
     "text": [
      "<ipython-input-2-2015fd87c072>:4: RuntimeWarning: Channel names are not unique, found duplicates for: {'.', 'T8-P8'}. Applying running numbers for duplicates.\n",
      "  edf = mne.io.read_raw_edf(edf_filename,stim_channel=None)\n",
      "<ipython-input-2-2015fd87c072>:4: RuntimeWarning: Number of records from the header does not match the file size (perhaps the recording was not stopped before exiting). Inferring from the file size.\n",
      "  edf = mne.io.read_raw_edf(edf_filename,stim_channel=None)\n"
     ]
    },
    {
     "output_type": "stream",
     "name": "stdout",
     "text": [
      "(23, 1158656)\n",
      "Extracting EDF parameters from d:\\salma\\UNI\\Sem8\\WS\\physionet.org\\files\\chbmit\\1.0.0\\chb18\\chb18_15.edf...\n",
      "EDF file detected\n",
      "Setting channel info structure...\n",
      "Creating raw.info structure...\n"
     ]
    },
    {
     "output_type": "stream",
     "name": "stderr",
     "text": [
      "<ipython-input-2-2015fd87c072>:4: RuntimeWarning: Channel names are not unique, found duplicates for: {'.', 'T8-P8'}. Applying running numbers for duplicates.\n",
      "  edf = mne.io.read_raw_edf(edf_filename,stim_channel=None)\n",
      "<ipython-input-2-2015fd87c072>:4: RuntimeWarning: Number of records from the header does not match the file size (perhaps the recording was not stopped before exiting). Inferring from the file size.\n",
      "  edf = mne.io.read_raw_edf(edf_filename,stim_channel=None)\n"
     ]
    },
    {
     "output_type": "stream",
     "name": "stdout",
     "text": [
      "(23, 1132544)\n",
      "Extracting EDF parameters from d:\\salma\\UNI\\Sem8\\WS\\physionet.org\\files\\chbmit\\1.0.0\\chb18\\chb18_16.edf...\n",
      "EDF file detected\n",
      "Setting channel info structure...\n",
      "Creating raw.info structure...\n"
     ]
    },
    {
     "output_type": "stream",
     "name": "stderr",
     "text": [
      "<ipython-input-2-2015fd87c072>:4: RuntimeWarning: Channel names are not unique, found duplicates for: {'.', 'T8-P8'}. Applying running numbers for duplicates.\n",
      "  edf = mne.io.read_raw_edf(edf_filename,stim_channel=None)\n",
      "<ipython-input-2-2015fd87c072>:4: RuntimeWarning: Number of records from the header does not match the file size (perhaps the recording was not stopped before exiting). Inferring from the file size.\n",
      "  edf = mne.io.read_raw_edf(edf_filename,stim_channel=None)\n"
     ]
    },
    {
     "output_type": "stream",
     "name": "stdout",
     "text": [
      "(23, 1179648)\n",
      "Extracting EDF parameters from d:\\salma\\UNI\\Sem8\\WS\\physionet.org\\files\\chbmit\\1.0.0\\chb18\\chb18_17.edf...\n",
      "EDF file detected\n",
      "Setting channel info structure...\n",
      "Creating raw.info structure...\n"
     ]
    },
    {
     "output_type": "stream",
     "name": "stderr",
     "text": [
      "<ipython-input-2-2015fd87c072>:4: RuntimeWarning: Channel names are not unique, found duplicates for: {'.', 'T8-P8'}. Applying running numbers for duplicates.\n",
      "  edf = mne.io.read_raw_edf(edf_filename,stim_channel=None)\n",
      "<ipython-input-2-2015fd87c072>:4: RuntimeWarning: Number of records from the header does not match the file size (perhaps the recording was not stopped before exiting). Inferring from the file size.\n",
      "  edf = mne.io.read_raw_edf(edf_filename,stim_channel=None)\n"
     ]
    },
    {
     "output_type": "stream",
     "name": "stdout",
     "text": [
      "(23, 1010432)\n",
      "Extracting EDF parameters from d:\\salma\\UNI\\Sem8\\WS\\physionet.org\\files\\chbmit\\1.0.0\\chb18\\chb18_18.edf...\n",
      "EDF file detected\n",
      "Setting channel info structure...\n",
      "Creating raw.info structure...\n"
     ]
    },
    {
     "output_type": "stream",
     "name": "stderr",
     "text": [
      "<ipython-input-2-2015fd87c072>:4: RuntimeWarning: Channel names are not unique, found duplicates for: {'.', 'T8-P8'}. Applying running numbers for duplicates.\n",
      "  edf = mne.io.read_raw_edf(edf_filename,stim_channel=None)\n",
      "<ipython-input-2-2015fd87c072>:4: RuntimeWarning: Number of records from the header does not match the file size (perhaps the recording was not stopped before exiting). Inferring from the file size.\n",
      "  edf = mne.io.read_raw_edf(edf_filename,stim_channel=None)\n"
     ]
    },
    {
     "output_type": "stream",
     "name": "stdout",
     "text": [
      "(23, 957440)\n",
      "Extracting EDF parameters from d:\\salma\\UNI\\Sem8\\WS\\physionet.org\\files\\chbmit\\1.0.0\\chb18\\chb18_19.edf...\n",
      "EDF file detected\n",
      "Setting channel info structure...\n",
      "Creating raw.info structure...\n"
     ]
    },
    {
     "output_type": "stream",
     "name": "stderr",
     "text": [
      "<ipython-input-2-2015fd87c072>:4: RuntimeWarning: Channel names are not unique, found duplicates for: {'.', 'T8-P8'}. Applying running numbers for duplicates.\n",
      "  edf = mne.io.read_raw_edf(edf_filename,stim_channel=None)\n",
      "<ipython-input-2-2015fd87c072>:4: RuntimeWarning: Number of records from the header does not match the file size (perhaps the recording was not stopped before exiting). Inferring from the file size.\n",
      "  edf = mne.io.read_raw_edf(edf_filename,stim_channel=None)\n"
     ]
    },
    {
     "output_type": "stream",
     "name": "stdout",
     "text": [
      "(23, 1143808)\n",
      "Extracting EDF parameters from d:\\salma\\UNI\\Sem8\\WS\\physionet.org\\files\\chbmit\\1.0.0\\chb18\\chb18_20.edf...\n",
      "EDF file detected\n",
      "Setting channel info structure...\n",
      "Creating raw.info structure...\n"
     ]
    },
    {
     "output_type": "stream",
     "name": "stderr",
     "text": [
      "<ipython-input-2-2015fd87c072>:4: RuntimeWarning: Channel names are not unique, found duplicates for: {'.', 'T8-P8'}. Applying running numbers for duplicates.\n",
      "  edf = mne.io.read_raw_edf(edf_filename,stim_channel=None)\n",
      "<ipython-input-2-2015fd87c072>:4: RuntimeWarning: Number of records from the header does not match the file size (perhaps the recording was not stopped before exiting). Inferring from the file size.\n",
      "  edf = mne.io.read_raw_edf(edf_filename,stim_channel=None)\n"
     ]
    },
    {
     "output_type": "stream",
     "name": "stdout",
     "text": [
      "(23, 922880)\n",
      "Extracting EDF parameters from d:\\salma\\UNI\\Sem8\\WS\\physionet.org\\files\\chbmit\\1.0.0\\chb18\\chb18_21.edf...\n",
      "EDF file detected\n",
      "Setting channel info structure...\n",
      "Creating raw.info structure...\n"
     ]
    },
    {
     "output_type": "stream",
     "name": "stderr",
     "text": [
      "<ipython-input-2-2015fd87c072>:4: RuntimeWarning: Channel names are not unique, found duplicates for: {'.', 'T8-P8'}. Applying running numbers for duplicates.\n",
      "  edf = mne.io.read_raw_edf(edf_filename,stim_channel=None)\n",
      "<ipython-input-2-2015fd87c072>:4: RuntimeWarning: Number of records from the header does not match the file size (perhaps the recording was not stopped before exiting). Inferring from the file size.\n",
      "  edf = mne.io.read_raw_edf(edf_filename,stim_channel=None)\n"
     ]
    },
    {
     "output_type": "stream",
     "name": "stdout",
     "text": [
      "(23, 940544)\n",
      "Extracting EDF parameters from d:\\salma\\UNI\\Sem8\\WS\\physionet.org\\files\\chbmit\\1.0.0\\chb18\\chb18_22.edf...\n",
      "EDF file detected\n",
      "Setting channel info structure...\n",
      "Creating raw.info structure...\n"
     ]
    },
    {
     "output_type": "stream",
     "name": "stderr",
     "text": [
      "<ipython-input-2-2015fd87c072>:4: RuntimeWarning: Channel names are not unique, found duplicates for: {'.', 'T8-P8'}. Applying running numbers for duplicates.\n",
      "  edf = mne.io.read_raw_edf(edf_filename,stim_channel=None)\n",
      "<ipython-input-2-2015fd87c072>:4: RuntimeWarning: Number of records from the header does not match the file size (perhaps the recording was not stopped before exiting). Inferring from the file size.\n",
      "  edf = mne.io.read_raw_edf(edf_filename,stim_channel=None)\n"
     ]
    },
    {
     "output_type": "stream",
     "name": "stdout",
     "text": [
      "(23, 947200)\n",
      "Extracting EDF parameters from d:\\salma\\UNI\\Sem8\\WS\\physionet.org\\files\\chbmit\\1.0.0\\chb18\\chb18_23.edf...\n",
      "EDF file detected\n",
      "Setting channel info structure...\n",
      "Creating raw.info structure...\n"
     ]
    },
    {
     "output_type": "stream",
     "name": "stderr",
     "text": [
      "<ipython-input-2-2015fd87c072>:4: RuntimeWarning: Channel names are not unique, found duplicates for: {'.', 'T8-P8'}. Applying running numbers for duplicates.\n",
      "  edf = mne.io.read_raw_edf(edf_filename,stim_channel=None)\n",
      "<ipython-input-2-2015fd87c072>:4: RuntimeWarning: Number of records from the header does not match the file size (perhaps the recording was not stopped before exiting). Inferring from the file size.\n",
      "  edf = mne.io.read_raw_edf(edf_filename,stim_channel=None)\n"
     ]
    },
    {
     "output_type": "stream",
     "name": "stdout",
     "text": [
      "(23, 957952)\n",
      "Extracting EDF parameters from d:\\salma\\UNI\\Sem8\\WS\\physionet.org\\files\\chbmit\\1.0.0\\chb18\\chb18_24.edf...\n",
      "EDF file detected\n",
      "Setting channel info structure...\n",
      "Creating raw.info structure...\n"
     ]
    },
    {
     "output_type": "stream",
     "name": "stderr",
     "text": [
      "<ipython-input-2-2015fd87c072>:4: RuntimeWarning: Channel names are not unique, found duplicates for: {'.', 'T8-P8'}. Applying running numbers for duplicates.\n",
      "  edf = mne.io.read_raw_edf(edf_filename,stim_channel=None)\n",
      "<ipython-input-2-2015fd87c072>:4: RuntimeWarning: Number of records from the header does not match the file size (perhaps the recording was not stopped before exiting). Inferring from the file size.\n",
      "  edf = mne.io.read_raw_edf(edf_filename,stim_channel=None)\n"
     ]
    },
    {
     "output_type": "stream",
     "name": "stdout",
     "text": [
      "(23, 961792)\n",
      "Extracting EDF parameters from d:\\salma\\UNI\\Sem8\\WS\\physionet.org\\files\\chbmit\\1.0.0\\chb18\\chb18_25.edf...\n",
      "EDF file detected\n",
      "Setting channel info structure...\n",
      "Creating raw.info structure...\n"
     ]
    },
    {
     "output_type": "stream",
     "name": "stderr",
     "text": [
      "<ipython-input-2-2015fd87c072>:4: RuntimeWarning: Channel names are not unique, found duplicates for: {'.', 'T8-P8'}. Applying running numbers for duplicates.\n",
      "  edf = mne.io.read_raw_edf(edf_filename,stim_channel=None)\n",
      "<ipython-input-2-2015fd87c072>:4: RuntimeWarning: Number of records from the header does not match the file size (perhaps the recording was not stopped before exiting). Inferring from the file size.\n",
      "  edf = mne.io.read_raw_edf(edf_filename,stim_channel=None)\n"
     ]
    },
    {
     "output_type": "stream",
     "name": "stdout",
     "text": [
      "(23, 1212672)\n",
      "Extracting EDF parameters from d:\\salma\\UNI\\Sem8\\WS\\physionet.org\\files\\chbmit\\1.0.0\\chb18\\chb18_26.edf...\n",
      "EDF file detected\n",
      "Setting channel info structure...\n",
      "Creating raw.info structure...\n"
     ]
    },
    {
     "output_type": "stream",
     "name": "stderr",
     "text": [
      "<ipython-input-2-2015fd87c072>:4: RuntimeWarning: Channel names are not unique, found duplicates for: {'.', 'T8-P8'}. Applying running numbers for duplicates.\n",
      "  edf = mne.io.read_raw_edf(edf_filename,stim_channel=None)\n",
      "<ipython-input-2-2015fd87c072>:4: RuntimeWarning: Number of records from the header does not match the file size (perhaps the recording was not stopped before exiting). Inferring from the file size.\n",
      "  edf = mne.io.read_raw_edf(edf_filename,stim_channel=None)\n"
     ]
    },
    {
     "output_type": "stream",
     "name": "stdout",
     "text": [
      "(23, 923648)\n",
      "Extracting EDF parameters from d:\\salma\\UNI\\Sem8\\WS\\physionet.org\\files\\chbmit\\1.0.0\\chb18\\chb18_27.edf...\n",
      "EDF file detected\n",
      "Setting channel info structure...\n",
      "Creating raw.info structure...\n"
     ]
    },
    {
     "output_type": "stream",
     "name": "stderr",
     "text": [
      "<ipython-input-2-2015fd87c072>:4: RuntimeWarning: Channel names are not unique, found duplicates for: {'.', 'T8-P8'}. Applying running numbers for duplicates.\n",
      "  edf = mne.io.read_raw_edf(edf_filename,stim_channel=None)\n",
      "<ipython-input-2-2015fd87c072>:4: RuntimeWarning: Number of records from the header does not match the file size (perhaps the recording was not stopped before exiting). Inferring from the file size.\n",
      "  edf = mne.io.read_raw_edf(edf_filename,stim_channel=None)\n"
     ]
    },
    {
     "output_type": "stream",
     "name": "stdout",
     "text": [
      "(23, 1126912)\n",
      "Extracting EDF parameters from d:\\salma\\UNI\\Sem8\\WS\\physionet.org\\files\\chbmit\\1.0.0\\chb18\\chb18_28.edf...\n",
      "EDF file detected\n",
      "Setting channel info structure...\n",
      "Creating raw.info structure...\n"
     ]
    },
    {
     "output_type": "stream",
     "name": "stderr",
     "text": [
      "<ipython-input-2-2015fd87c072>:4: RuntimeWarning: Channel names are not unique, found duplicates for: {'.', 'T8-P8'}. Applying running numbers for duplicates.\n",
      "  edf = mne.io.read_raw_edf(edf_filename,stim_channel=None)\n",
      "<ipython-input-2-2015fd87c072>:4: RuntimeWarning: Number of records from the header does not match the file size (perhaps the recording was not stopped before exiting). Inferring from the file size.\n",
      "  edf = mne.io.read_raw_edf(edf_filename,stim_channel=None)\n"
     ]
    },
    {
     "output_type": "stream",
     "name": "stdout",
     "text": [
      "(23, 1135104)\n",
      "Extracting EDF parameters from d:\\salma\\UNI\\Sem8\\WS\\physionet.org\\files\\chbmit\\1.0.0\\chb18\\chb18_29.edf...\n",
      "EDF file detected\n",
      "Setting channel info structure...\n",
      "Creating raw.info structure...\n"
     ]
    },
    {
     "output_type": "stream",
     "name": "stderr",
     "text": [
      "<ipython-input-2-2015fd87c072>:4: RuntimeWarning: Channel names are not unique, found duplicates for: {'.', 'T8-P8'}. Applying running numbers for duplicates.\n",
      "  edf = mne.io.read_raw_edf(edf_filename,stim_channel=None)\n",
      "<ipython-input-2-2015fd87c072>:4: RuntimeWarning: Number of records from the header does not match the file size (perhaps the recording was not stopped before exiting). Inferring from the file size.\n",
      "  edf = mne.io.read_raw_edf(edf_filename,stim_channel=None)\n"
     ]
    },
    {
     "output_type": "stream",
     "name": "stdout",
     "text": [
      "(23, 968704)\n",
      "3477\n",
      "3527\n",
      "Extracting EDF parameters from d:\\salma\\UNI\\Sem8\\WS\\physionet.org\\files\\chbmit\\1.0.0\\chb18\\chb18_30.edf...\n",
      "EDF file detected\n",
      "Setting channel info structure...\n",
      "Creating raw.info structure...\n"
     ]
    },
    {
     "output_type": "stream",
     "name": "stderr",
     "text": [
      "<ipython-input-2-2015fd87c072>:4: RuntimeWarning: Channel names are not unique, found duplicates for: {'.', 'T8-P8'}. Applying running numbers for duplicates.\n",
      "  edf = mne.io.read_raw_edf(edf_filename,stim_channel=None)\n",
      "<ipython-input-2-2015fd87c072>:4: RuntimeWarning: Number of records from the header does not match the file size (perhaps the recording was not stopped before exiting). Inferring from the file size.\n",
      "  edf = mne.io.read_raw_edf(edf_filename,stim_channel=None)\n"
     ]
    },
    {
     "output_type": "stream",
     "name": "stdout",
     "text": [
      "(23, 1137664)\n",
      "541\n",
      "571\n",
      "Extracting EDF parameters from d:\\salma\\UNI\\Sem8\\WS\\physionet.org\\files\\chbmit\\1.0.0\\chb18\\chb18_31.edf...\n",
      "EDF file detected\n",
      "Setting channel info structure...\n",
      "Creating raw.info structure...\n"
     ]
    },
    {
     "output_type": "stream",
     "name": "stderr",
     "text": [
      "<ipython-input-2-2015fd87c072>:4: RuntimeWarning: Channel names are not unique, found duplicates for: {'.', 'T8-P8'}. Applying running numbers for duplicates.\n",
      "  edf = mne.io.read_raw_edf(edf_filename,stim_channel=None)\n",
      "<ipython-input-2-2015fd87c072>:4: RuntimeWarning: Number of records from the header does not match the file size (perhaps the recording was not stopped before exiting). Inferring from the file size.\n",
      "  edf = mne.io.read_raw_edf(edf_filename,stim_channel=None)\n"
     ]
    },
    {
     "output_type": "stream",
     "name": "stdout",
     "text": [
      "(23, 609792)\n",
      "2087\n",
      "2155\n",
      "Extracting EDF parameters from d:\\salma\\UNI\\Sem8\\WS\\physionet.org\\files\\chbmit\\1.0.0\\chb18\\chb18_32.edf...\n",
      "EDF file detected\n",
      "Setting channel info structure...\n",
      "Creating raw.info structure...\n"
     ]
    },
    {
     "output_type": "stream",
     "name": "stderr",
     "text": [
      "<ipython-input-2-2015fd87c072>:4: RuntimeWarning: Channel names are not unique, found duplicates for: {'.', 'T8-P8'}. Applying running numbers for duplicates.\n",
      "  edf = mne.io.read_raw_edf(edf_filename,stim_channel=None)\n",
      "<ipython-input-2-2015fd87c072>:4: RuntimeWarning: Number of records from the header does not match the file size (perhaps the recording was not stopped before exiting). Inferring from the file size.\n",
      "  edf = mne.io.read_raw_edf(edf_filename,stim_channel=None)\n"
     ]
    },
    {
     "output_type": "stream",
     "name": "stdout",
     "text": [
      "(23, 928768)\n",
      "1908\n",
      "1963\n",
      "Extracting EDF parameters from d:\\salma\\UNI\\Sem8\\WS\\physionet.org\\files\\chbmit\\1.0.0\\chb18\\chb18_33.edf...\n",
      "EDF file detected\n",
      "Setting channel info structure...\n",
      "Creating raw.info structure...\n"
     ]
    },
    {
     "output_type": "stream",
     "name": "stderr",
     "text": [
      "<ipython-input-2-2015fd87c072>:4: RuntimeWarning: Channel names are not unique, found duplicates for: {'.', 'T8-P8'}. Applying running numbers for duplicates.\n",
      "  edf = mne.io.read_raw_edf(edf_filename,stim_channel=None)\n",
      "<ipython-input-2-2015fd87c072>:4: RuntimeWarning: Number of records from the header does not match the file size (perhaps the recording was not stopped before exiting). Inferring from the file size.\n",
      "  edf = mne.io.read_raw_edf(edf_filename,stim_channel=None)\n"
     ]
    },
    {
     "output_type": "stream",
     "name": "stdout",
     "text": [
      "(23, 1320960)\n",
      "Extracting EDF parameters from d:\\salma\\UNI\\Sem8\\WS\\physionet.org\\files\\chbmit\\1.0.0\\chb18\\chb18_34.edf...\n",
      "EDF file detected\n",
      "Setting channel info structure...\n",
      "Creating raw.info structure...\n"
     ]
    },
    {
     "output_type": "stream",
     "name": "stderr",
     "text": [
      "<ipython-input-2-2015fd87c072>:4: RuntimeWarning: Channel names are not unique, found duplicates for: {'.', 'T8-P8'}. Applying running numbers for duplicates.\n",
      "  edf = mne.io.read_raw_edf(edf_filename,stim_channel=None)\n",
      "<ipython-input-2-2015fd87c072>:4: RuntimeWarning: Number of records from the header does not match the file size (perhaps the recording was not stopped before exiting). Inferring from the file size.\n",
      "  edf = mne.io.read_raw_edf(edf_filename,stim_channel=None)\n"
     ]
    },
    {
     "output_type": "stream",
     "name": "stdout",
     "text": [
      "(23, 1146880)\n",
      "Extracting EDF parameters from d:\\salma\\UNI\\Sem8\\WS\\physionet.org\\files\\chbmit\\1.0.0\\chb18\\chb18_35.edf...\n",
      "EDF file detected\n",
      "Setting channel info structure...\n",
      "Creating raw.info structure...\n"
     ]
    },
    {
     "output_type": "stream",
     "name": "stderr",
     "text": [
      "<ipython-input-2-2015fd87c072>:4: RuntimeWarning: Channel names are not unique, found duplicates for: {'.', 'T8-P8'}. Applying running numbers for duplicates.\n",
      "  edf = mne.io.read_raw_edf(edf_filename,stim_channel=None)\n",
      "<ipython-input-2-2015fd87c072>:4: RuntimeWarning: Number of records from the header does not match the file size (perhaps the recording was not stopped before exiting). Inferring from the file size.\n",
      "  edf = mne.io.read_raw_edf(edf_filename,stim_channel=None)\n"
     ]
    },
    {
     "output_type": "stream",
     "name": "stdout",
     "text": [
      "(23, 1113600)\n",
      "2196\n",
      "2264\n",
      "Extracting EDF parameters from d:\\salma\\UNI\\Sem8\\WS\\physionet.org\\files\\chbmit\\1.0.0\\chb18\\chb18_36.edf...\n",
      "EDF file detected\n",
      "Setting channel info structure...\n",
      "Creating raw.info structure...\n"
     ]
    },
    {
     "output_type": "stream",
     "name": "stderr",
     "text": [
      "<ipython-input-2-2015fd87c072>:4: RuntimeWarning: Channel names are not unique, found duplicates for: {'.', 'T8-P8'}. Applying running numbers for duplicates.\n",
      "  edf = mne.io.read_raw_edf(edf_filename,stim_channel=None)\n",
      "<ipython-input-2-2015fd87c072>:4: RuntimeWarning: Number of records from the header does not match the file size (perhaps the recording was not stopped before exiting). Inferring from the file size.\n",
      "  edf = mne.io.read_raw_edf(edf_filename,stim_channel=None)\n"
     ]
    },
    {
     "output_type": "stream",
     "name": "stdout",
     "text": [
      "(23, 1296384)\n",
      "463\n",
      "509\n",
      "file: 0 , shape: (23, 1000448) \n",
      "total number of windows: 780.0 , number of windows discarded: 0 \n",
      "file: 1 , shape: (23, 1223936) \n",
      "total number of windows: 955.0 , number of windows discarded: 0 \n",
      "file: 2 , shape: (23, 1088000) \n",
      "total number of windows: 848.0 , number of windows discarded: 0 \n",
      "file: 3 , shape: (23, 1196032) \n",
      "total number of windows: 933.0 , number of windows discarded: 0 \n",
      "file: 4 , shape: (23, 959744) \n",
      "total number of windows: 748.0 , number of windows discarded: 0 \n",
      "file: 5 , shape: (23, 1334784) \n",
      "total number of windows: 1041.0 , number of windows discarded: 0 \n",
      "file: 6 , shape: (23, 1213952) \n",
      "total number of windows: 947.0 , number of windows discarded: 0 \n",
      "file: 7 , shape: (23, 1111040) \n",
      "total number of windows: 866.0 , number of windows discarded: 0 \n",
      "file: 8 , shape: (23, 1069824) \n",
      "total number of windows: 834.0 , number of windows discarded: 0 \n",
      "file: 9 , shape: (23, 1079808) \n",
      "total number of windows: 842.0 , number of windows discarded: 0 \n",
      "file: 10 , shape: (23, 1012480) \n",
      "total number of windows: 789.0 , number of windows discarded: 0 \n",
      "file: 11 , shape: (23, 1246464) \n",
      "total number of windows: 972.0 , number of windows discarded: 0 \n",
      "file: 12 , shape: (23, 1158656) \n",
      "total number of windows: 904.0 , number of windows discarded: 0 \n",
      "file: 13 , shape: (23, 1132544) \n",
      "total number of windows: 883.0 , number of windows discarded: 0 \n",
      "file: 14 , shape: (23, 1179648) \n",
      "total number of windows: 920.0 , number of windows discarded: 0 \n",
      "file: 15 , shape: (23, 1010432) \n",
      "total number of windows: 788.0 , number of windows discarded: 0 \n",
      "file: 16 , shape: (23, 957440) \n",
      "total number of windows: 746.0 , number of windows discarded: 0 \n",
      "file: 17 , shape: (23, 1143808) \n",
      "total number of windows: 892.0 , number of windows discarded: 0 \n",
      "file: 18 , shape: (23, 922880) \n",
      "total number of windows: 719.0 , number of windows discarded: 0 \n",
      "file: 19 , shape: (23, 940544) \n",
      "total number of windows: 733.0 , number of windows discarded: 0 \n",
      "file: 20 , shape: (23, 947200) \n",
      "total number of windows: 738.0 , number of windows discarded: 0 \n",
      "file: 21 , shape: (23, 957952) \n",
      "total number of windows: 747.0 , number of windows discarded: 0 \n",
      "file: 22 , shape: (23, 961792) \n",
      "total number of windows: 750.0 , number of windows discarded: 0 \n",
      "file: 23 , shape: (23, 1212672) \n",
      "total number of windows: 946.0 , number of windows discarded: 0 \n",
      "file: 24 , shape: (23, 923648) \n",
      "total number of windows: 720.0 , number of windows discarded: 0 \n",
      "file: 25 , shape: (23, 1126912) \n",
      "total number of windows: 879.0 , number of windows discarded: 0 \n",
      "file: 26 , shape: (23, 1135104) \n",
      "total number of windows: 885.0 , number of windows discarded: 0 \n",
      "file: 27 , shape: (23, 968704) \n",
      "total number of windows: 755.0 , number of windows discarded: 6 \n",
      "file: 28 , shape: (23, 1137664) \n",
      "total number of windows: 887.0 , number of windows discarded: 6 \n",
      "file: 29 , shape: (23, 609792) \n",
      "total number of windows: 475.0 , number of windows discarded: 6 \n",
      "file: 30 , shape: (23, 928768) \n",
      "total number of windows: 724.0 , number of windows discarded: 6 \n",
      "file: 31 , shape: (23, 1320960) \n",
      "total number of windows: 1030.0 , number of windows discarded: 0 \n",
      "file: 32 , shape: (23, 1146880) \n",
      "total number of windows: 894.0 , number of windows discarded: 0 \n",
      "file: 33 , shape: (23, 1113600) \n",
      "total number of windows: 868.0 , number of windows discarded: 5 \n",
      "file: 34 , shape: (23, 1296384) \n",
      "total number of windows: 1011.0 , number of windows discarded: 4 \n",
      "Extracting EDF parameters from d:\\salma\\UNI\\Sem8\\WS\\physionet.org\\files\\chbmit\\1.0.0\\chb19\\chb19_02.edf...\n",
      "EDF file detected\n",
      "Setting channel info structure...\n",
      "Creating raw.info structure...\n"
     ]
    },
    {
     "output_type": "stream",
     "name": "stderr",
     "text": [
      "<ipython-input-2-2015fd87c072>:4: RuntimeWarning: Channel names are not unique, found duplicates for: {'-', 'T8-P8'}. Applying running numbers for duplicates.\n",
      "  edf = mne.io.read_raw_edf(edf_filename,stim_channel=None)\n",
      "<ipython-input-2-2015fd87c072>:4: RuntimeWarning: Scaling factor is not defined in following channels:\n",
      "--0, --1, --2, --3, --4\n",
      "  edf = mne.io.read_raw_edf(edf_filename,stim_channel=None)\n"
     ]
    },
    {
     "output_type": "stream",
     "name": "stdout",
     "text": [
      "(23, 921600)\n",
      "Extracting EDF parameters from d:\\salma\\UNI\\Sem8\\WS\\physionet.org\\files\\chbmit\\1.0.0\\chb19\\chb19_03.edf...\n",
      "EDF file detected\n",
      "Setting channel info structure...\n",
      "Creating raw.info structure...\n"
     ]
    },
    {
     "output_type": "stream",
     "name": "stderr",
     "text": [
      "<ipython-input-2-2015fd87c072>:4: RuntimeWarning: Channel names are not unique, found duplicates for: {'-', 'T8-P8'}. Applying running numbers for duplicates.\n",
      "  edf = mne.io.read_raw_edf(edf_filename,stim_channel=None)\n",
      "<ipython-input-2-2015fd87c072>:4: RuntimeWarning: Scaling factor is not defined in following channels:\n",
      "--0, --1, --2, --3, --4\n",
      "  edf = mne.io.read_raw_edf(edf_filename,stim_channel=None)\n"
     ]
    },
    {
     "output_type": "stream",
     "name": "stdout",
     "text": [
      "(23, 921600)\n",
      "Extracting EDF parameters from d:\\salma\\UNI\\Sem8\\WS\\physionet.org\\files\\chbmit\\1.0.0\\chb19\\chb19_04.edf...\n",
      "EDF file detected\n",
      "Setting channel info structure...\n",
      "Creating raw.info structure...\n"
     ]
    },
    {
     "output_type": "stream",
     "name": "stderr",
     "text": [
      "<ipython-input-2-2015fd87c072>:4: RuntimeWarning: Channel names are not unique, found duplicates for: {'-', 'T8-P8'}. Applying running numbers for duplicates.\n",
      "  edf = mne.io.read_raw_edf(edf_filename,stim_channel=None)\n",
      "<ipython-input-2-2015fd87c072>:4: RuntimeWarning: Scaling factor is not defined in following channels:\n",
      "--0, --1, --2, --3, --4\n",
      "  edf = mne.io.read_raw_edf(edf_filename,stim_channel=None)\n"
     ]
    },
    {
     "output_type": "stream",
     "name": "stdout",
     "text": [
      "(23, 921600)\n",
      "Extracting EDF parameters from d:\\salma\\UNI\\Sem8\\WS\\physionet.org\\files\\chbmit\\1.0.0\\chb19\\chb19_05.edf...\n",
      "EDF file detected\n",
      "Setting channel info structure...\n",
      "Creating raw.info structure...\n"
     ]
    },
    {
     "output_type": "stream",
     "name": "stderr",
     "text": [
      "<ipython-input-2-2015fd87c072>:4: RuntimeWarning: Channel names are not unique, found duplicates for: {'-', 'T8-P8'}. Applying running numbers for duplicates.\n",
      "  edf = mne.io.read_raw_edf(edf_filename,stim_channel=None)\n",
      "<ipython-input-2-2015fd87c072>:4: RuntimeWarning: Scaling factor is not defined in following channels:\n",
      "--0, --1, --2, --3, --4\n",
      "  edf = mne.io.read_raw_edf(edf_filename,stim_channel=None)\n"
     ]
    },
    {
     "output_type": "stream",
     "name": "stdout",
     "text": [
      "(23, 921600)\n",
      "Extracting EDF parameters from d:\\salma\\UNI\\Sem8\\WS\\physionet.org\\files\\chbmit\\1.0.0\\chb19\\chb19_06.edf...\n",
      "EDF file detected\n",
      "Setting channel info structure...\n",
      "Creating raw.info structure...\n"
     ]
    },
    {
     "output_type": "stream",
     "name": "stderr",
     "text": [
      "<ipython-input-2-2015fd87c072>:4: RuntimeWarning: Channel names are not unique, found duplicates for: {'-', 'T8-P8'}. Applying running numbers for duplicates.\n",
      "  edf = mne.io.read_raw_edf(edf_filename,stim_channel=None)\n",
      "<ipython-input-2-2015fd87c072>:4: RuntimeWarning: Scaling factor is not defined in following channels:\n",
      "--0, --1, --2, --3, --4\n",
      "  edf = mne.io.read_raw_edf(edf_filename,stim_channel=None)\n"
     ]
    },
    {
     "output_type": "stream",
     "name": "stdout",
     "text": [
      "(23, 921600)\n",
      "Extracting EDF parameters from d:\\salma\\UNI\\Sem8\\WS\\physionet.org\\files\\chbmit\\1.0.0\\chb19\\chb19_07.edf...\n",
      "EDF file detected\n",
      "Setting channel info structure...\n",
      "Creating raw.info structure...\n"
     ]
    },
    {
     "output_type": "stream",
     "name": "stderr",
     "text": [
      "<ipython-input-2-2015fd87c072>:4: RuntimeWarning: Channel names are not unique, found duplicates for: {'-', 'T8-P8'}. Applying running numbers for duplicates.\n",
      "  edf = mne.io.read_raw_edf(edf_filename,stim_channel=None)\n",
      "<ipython-input-2-2015fd87c072>:4: RuntimeWarning: Scaling factor is not defined in following channels:\n",
      "--0, --1, --2, --3, --4\n",
      "  edf = mne.io.read_raw_edf(edf_filename,stim_channel=None)\n"
     ]
    },
    {
     "output_type": "stream",
     "name": "stdout",
     "text": [
      "(23, 921600)\n",
      "Extracting EDF parameters from d:\\salma\\UNI\\Sem8\\WS\\physionet.org\\files\\chbmit\\1.0.0\\chb19\\chb19_08.edf...\n",
      "EDF file detected\n",
      "Setting channel info structure...\n",
      "Creating raw.info structure...\n"
     ]
    },
    {
     "output_type": "stream",
     "name": "stderr",
     "text": [
      "<ipython-input-2-2015fd87c072>:4: RuntimeWarning: Channel names are not unique, found duplicates for: {'-', 'T8-P8'}. Applying running numbers for duplicates.\n",
      "  edf = mne.io.read_raw_edf(edf_filename,stim_channel=None)\n",
      "<ipython-input-2-2015fd87c072>:4: RuntimeWarning: Scaling factor is not defined in following channels:\n",
      "--0, --1, --2, --3, --4\n",
      "  edf = mne.io.read_raw_edf(edf_filename,stim_channel=None)\n"
     ]
    },
    {
     "output_type": "stream",
     "name": "stdout",
     "text": [
      "(23, 921600)\n",
      "Extracting EDF parameters from d:\\salma\\UNI\\Sem8\\WS\\physionet.org\\files\\chbmit\\1.0.0\\chb19\\chb19_09.edf...\n",
      "EDF file detected\n",
      "Setting channel info structure...\n",
      "Creating raw.info structure...\n"
     ]
    },
    {
     "output_type": "stream",
     "name": "stderr",
     "text": [
      "<ipython-input-2-2015fd87c072>:4: RuntimeWarning: Channel names are not unique, found duplicates for: {'-', 'T8-P8'}. Applying running numbers for duplicates.\n",
      "  edf = mne.io.read_raw_edf(edf_filename,stim_channel=None)\n",
      "<ipython-input-2-2015fd87c072>:4: RuntimeWarning: Scaling factor is not defined in following channels:\n",
      "--0, --1, --2, --3, --4\n",
      "  edf = mne.io.read_raw_edf(edf_filename,stim_channel=None)\n"
     ]
    },
    {
     "output_type": "stream",
     "name": "stdout",
     "text": [
      "(23, 921600)\n",
      "Extracting EDF parameters from d:\\salma\\UNI\\Sem8\\WS\\physionet.org\\files\\chbmit\\1.0.0\\chb19\\chb19_10.edf...\n",
      "EDF file detected\n",
      "Setting channel info structure...\n",
      "Creating raw.info structure...\n"
     ]
    },
    {
     "output_type": "stream",
     "name": "stderr",
     "text": [
      "<ipython-input-2-2015fd87c072>:4: RuntimeWarning: Channel names are not unique, found duplicates for: {'-', 'T8-P8'}. Applying running numbers for duplicates.\n",
      "  edf = mne.io.read_raw_edf(edf_filename,stim_channel=None)\n",
      "<ipython-input-2-2015fd87c072>:4: RuntimeWarning: Scaling factor is not defined in following channels:\n",
      "--0, --1, --2, --3, --4\n",
      "  edf = mne.io.read_raw_edf(edf_filename,stim_channel=None)\n"
     ]
    },
    {
     "output_type": "stream",
     "name": "stdout",
     "text": [
      "(23, 921600)\n",
      "Extracting EDF parameters from d:\\salma\\UNI\\Sem8\\WS\\physionet.org\\files\\chbmit\\1.0.0\\chb19\\chb19_11.edf...\n",
      "EDF file detected\n",
      "Setting channel info structure...\n",
      "Creating raw.info structure...\n"
     ]
    },
    {
     "output_type": "stream",
     "name": "stderr",
     "text": [
      "<ipython-input-2-2015fd87c072>:4: RuntimeWarning: Channel names are not unique, found duplicates for: {'-', 'T8-P8'}. Applying running numbers for duplicates.\n",
      "  edf = mne.io.read_raw_edf(edf_filename,stim_channel=None)\n",
      "<ipython-input-2-2015fd87c072>:4: RuntimeWarning: Scaling factor is not defined in following channels:\n",
      "--0, --1, --2, --3, --4\n",
      "  edf = mne.io.read_raw_edf(edf_filename,stim_channel=None)\n"
     ]
    },
    {
     "output_type": "stream",
     "name": "stdout",
     "text": [
      "(23, 921600)\n",
      "Extracting EDF parameters from d:\\salma\\UNI\\Sem8\\WS\\physionet.org\\files\\chbmit\\1.0.0\\chb19\\chb19_12.edf...\n",
      "EDF file detected\n",
      "Setting channel info structure...\n",
      "Creating raw.info structure...\n"
     ]
    },
    {
     "output_type": "stream",
     "name": "stderr",
     "text": [
      "<ipython-input-2-2015fd87c072>:4: RuntimeWarning: Channel names are not unique, found duplicates for: {'-', 'T8-P8'}. Applying running numbers for duplicates.\n",
      "  edf = mne.io.read_raw_edf(edf_filename,stim_channel=None)\n",
      "<ipython-input-2-2015fd87c072>:4: RuntimeWarning: Scaling factor is not defined in following channels:\n",
      "--0, --1, --2, --3, --4\n",
      "  edf = mne.io.read_raw_edf(edf_filename,stim_channel=None)\n"
     ]
    },
    {
     "output_type": "stream",
     "name": "stdout",
     "text": [
      "(23, 921600)\n",
      "Extracting EDF parameters from d:\\salma\\UNI\\Sem8\\WS\\physionet.org\\files\\chbmit\\1.0.0\\chb19\\chb19_13.edf...\n",
      "EDF file detected\n",
      "Setting channel info structure...\n",
      "Creating raw.info structure...\n"
     ]
    },
    {
     "output_type": "stream",
     "name": "stderr",
     "text": [
      "<ipython-input-2-2015fd87c072>:4: RuntimeWarning: Channel names are not unique, found duplicates for: {'-', 'T8-P8'}. Applying running numbers for duplicates.\n",
      "  edf = mne.io.read_raw_edf(edf_filename,stim_channel=None)\n",
      "<ipython-input-2-2015fd87c072>:4: RuntimeWarning: Scaling factor is not defined in following channels:\n",
      "--0, --1, --2, --3, --4\n",
      "  edf = mne.io.read_raw_edf(edf_filename,stim_channel=None)\n"
     ]
    },
    {
     "output_type": "stream",
     "name": "stdout",
     "text": [
      "(23, 921600)\n",
      "Extracting EDF parameters from d:\\salma\\UNI\\Sem8\\WS\\physionet.org\\files\\chbmit\\1.0.0\\chb19\\chb19_14.edf...\n",
      "EDF file detected\n",
      "Setting channel info structure...\n",
      "Creating raw.info structure...\n"
     ]
    },
    {
     "output_type": "stream",
     "name": "stderr",
     "text": [
      "<ipython-input-2-2015fd87c072>:4: RuntimeWarning: Channel names are not unique, found duplicates for: {'-', 'T8-P8'}. Applying running numbers for duplicates.\n",
      "  edf = mne.io.read_raw_edf(edf_filename,stim_channel=None)\n",
      "<ipython-input-2-2015fd87c072>:4: RuntimeWarning: Scaling factor is not defined in following channels:\n",
      "--0, --1, --2, --3, --4\n",
      "  edf = mne.io.read_raw_edf(edf_filename,stim_channel=None)\n"
     ]
    },
    {
     "output_type": "stream",
     "name": "stdout",
     "text": [
      "(23, 921600)\n",
      "Extracting EDF parameters from d:\\salma\\UNI\\Sem8\\WS\\physionet.org\\files\\chbmit\\1.0.0\\chb19\\chb19_15.edf...\n",
      "EDF file detected\n",
      "Setting channel info structure...\n",
      "Creating raw.info structure...\n"
     ]
    },
    {
     "output_type": "stream",
     "name": "stderr",
     "text": [
      "<ipython-input-2-2015fd87c072>:4: RuntimeWarning: Channel names are not unique, found duplicates for: {'-', 'T8-P8'}. Applying running numbers for duplicates.\n",
      "  edf = mne.io.read_raw_edf(edf_filename,stim_channel=None)\n",
      "<ipython-input-2-2015fd87c072>:4: RuntimeWarning: Scaling factor is not defined in following channels:\n",
      "--0, --1, --2, --3, --4\n",
      "  edf = mne.io.read_raw_edf(edf_filename,stim_channel=None)\n"
     ]
    },
    {
     "output_type": "stream",
     "name": "stdout",
     "text": [
      "(23, 921600)\n",
      "Extracting EDF parameters from d:\\salma\\UNI\\Sem8\\WS\\physionet.org\\files\\chbmit\\1.0.0\\chb19\\chb19_16.edf...\n",
      "EDF file detected\n",
      "Setting channel info structure...\n",
      "Creating raw.info structure...\n"
     ]
    },
    {
     "output_type": "stream",
     "name": "stderr",
     "text": [
      "<ipython-input-2-2015fd87c072>:4: RuntimeWarning: Channel names are not unique, found duplicates for: {'-', 'T8-P8'}. Applying running numbers for duplicates.\n",
      "  edf = mne.io.read_raw_edf(edf_filename,stim_channel=None)\n",
      "<ipython-input-2-2015fd87c072>:4: RuntimeWarning: Scaling factor is not defined in following channels:\n",
      "--0, --1, --2, --3, --4\n",
      "  edf = mne.io.read_raw_edf(edf_filename,stim_channel=None)\n"
     ]
    },
    {
     "output_type": "stream",
     "name": "stdout",
     "text": [
      "(23, 921600)\n",
      "Extracting EDF parameters from d:\\salma\\UNI\\Sem8\\WS\\physionet.org\\files\\chbmit\\1.0.0\\chb19\\chb19_17.edf...\n",
      "EDF file detected\n",
      "Setting channel info structure...\n",
      "Creating raw.info structure...\n"
     ]
    },
    {
     "output_type": "stream",
     "name": "stderr",
     "text": [
      "<ipython-input-2-2015fd87c072>:4: RuntimeWarning: Channel names are not unique, found duplicates for: {'-', 'T8-P8'}. Applying running numbers for duplicates.\n",
      "  edf = mne.io.read_raw_edf(edf_filename,stim_channel=None)\n",
      "<ipython-input-2-2015fd87c072>:4: RuntimeWarning: Scaling factor is not defined in following channels:\n",
      "--0, --1, --2, --3, --4\n",
      "  edf = mne.io.read_raw_edf(edf_filename,stim_channel=None)\n"
     ]
    },
    {
     "output_type": "stream",
     "name": "stdout",
     "text": [
      "(23, 921600)\n",
      "Extracting EDF parameters from d:\\salma\\UNI\\Sem8\\WS\\physionet.org\\files\\chbmit\\1.0.0\\chb19\\chb19_18.edf...\n",
      "EDF file detected\n",
      "Setting channel info structure...\n",
      "Creating raw.info structure...\n"
     ]
    },
    {
     "output_type": "stream",
     "name": "stderr",
     "text": [
      "<ipython-input-2-2015fd87c072>:4: RuntimeWarning: Channel names are not unique, found duplicates for: {'-', 'T8-P8'}. Applying running numbers for duplicates.\n",
      "  edf = mne.io.read_raw_edf(edf_filename,stim_channel=None)\n",
      "<ipython-input-2-2015fd87c072>:4: RuntimeWarning: Scaling factor is not defined in following channels:\n",
      "--0, --1, --2, --3, --4\n",
      "  edf = mne.io.read_raw_edf(edf_filename,stim_channel=None)\n"
     ]
    },
    {
     "output_type": "stream",
     "name": "stdout",
     "text": [
      "(23, 921600)\n",
      "Extracting EDF parameters from d:\\salma\\UNI\\Sem8\\WS\\physionet.org\\files\\chbmit\\1.0.0\\chb19\\chb19_19.edf...\n",
      "EDF file detected\n",
      "Setting channel info structure...\n",
      "Creating raw.info structure...\n"
     ]
    },
    {
     "output_type": "stream",
     "name": "stderr",
     "text": [
      "<ipython-input-2-2015fd87c072>:4: RuntimeWarning: Channel names are not unique, found duplicates for: {'-', 'T8-P8'}. Applying running numbers for duplicates.\n",
      "  edf = mne.io.read_raw_edf(edf_filename,stim_channel=None)\n",
      "<ipython-input-2-2015fd87c072>:4: RuntimeWarning: Scaling factor is not defined in following channels:\n",
      "--0, --1, --2, --3, --4\n",
      "  edf = mne.io.read_raw_edf(edf_filename,stim_channel=None)\n"
     ]
    },
    {
     "output_type": "stream",
     "name": "stdout",
     "text": [
      "(23, 921600)\n",
      "Extracting EDF parameters from d:\\salma\\UNI\\Sem8\\WS\\physionet.org\\files\\chbmit\\1.0.0\\chb19\\chb19_20.edf...\n",
      "EDF file detected\n",
      "Setting channel info structure...\n",
      "Creating raw.info structure...\n"
     ]
    },
    {
     "output_type": "stream",
     "name": "stderr",
     "text": [
      "<ipython-input-2-2015fd87c072>:4: RuntimeWarning: Channel names are not unique, found duplicates for: {'-', 'T8-P8'}. Applying running numbers for duplicates.\n",
      "  edf = mne.io.read_raw_edf(edf_filename,stim_channel=None)\n",
      "<ipython-input-2-2015fd87c072>:4: RuntimeWarning: Scaling factor is not defined in following channels:\n",
      "--0, --1, --2, --3, --4\n",
      "  edf = mne.io.read_raw_edf(edf_filename,stim_channel=None)\n"
     ]
    },
    {
     "output_type": "stream",
     "name": "stdout",
     "text": [
      "(23, 921600)\n",
      "Extracting EDF parameters from d:\\salma\\UNI\\Sem8\\WS\\physionet.org\\files\\chbmit\\1.0.0\\chb19\\chb19_21.edf...\n",
      "EDF file detected\n",
      "Setting channel info structure...\n",
      "Creating raw.info structure...\n"
     ]
    },
    {
     "output_type": "stream",
     "name": "stderr",
     "text": [
      "<ipython-input-2-2015fd87c072>:4: RuntimeWarning: Channel names are not unique, found duplicates for: {'-', 'T8-P8'}. Applying running numbers for duplicates.\n",
      "  edf = mne.io.read_raw_edf(edf_filename,stim_channel=None)\n",
      "<ipython-input-2-2015fd87c072>:4: RuntimeWarning: Scaling factor is not defined in following channels:\n",
      "--0, --1, --2, --3, --4\n",
      "  edf = mne.io.read_raw_edf(edf_filename,stim_channel=None)\n"
     ]
    },
    {
     "output_type": "stream",
     "name": "stdout",
     "text": [
      "(23, 921600)\n",
      "Extracting EDF parameters from d:\\salma\\UNI\\Sem8\\WS\\physionet.org\\files\\chbmit\\1.0.0\\chb19\\chb19_22.edf...\n",
      "EDF file detected\n",
      "Setting channel info structure...\n",
      "Creating raw.info structure...\n"
     ]
    },
    {
     "output_type": "stream",
     "name": "stderr",
     "text": [
      "<ipython-input-2-2015fd87c072>:4: RuntimeWarning: Channel names are not unique, found duplicates for: {'-', 'T8-P8'}. Applying running numbers for duplicates.\n",
      "  edf = mne.io.read_raw_edf(edf_filename,stim_channel=None)\n",
      "<ipython-input-2-2015fd87c072>:4: RuntimeWarning: Scaling factor is not defined in following channels:\n",
      "--0, --1, --2, --3, --4\n",
      "  edf = mne.io.read_raw_edf(edf_filename,stim_channel=None)\n"
     ]
    },
    {
     "output_type": "stream",
     "name": "stdout",
     "text": [
      "(23, 921600)\n",
      "Extracting EDF parameters from d:\\salma\\UNI\\Sem8\\WS\\physionet.org\\files\\chbmit\\1.0.0\\chb19\\chb19_23.edf...\n",
      "EDF file detected\n",
      "Setting channel info structure...\n",
      "Creating raw.info structure...\n"
     ]
    },
    {
     "output_type": "stream",
     "name": "stderr",
     "text": [
      "<ipython-input-2-2015fd87c072>:4: RuntimeWarning: Channel names are not unique, found duplicates for: {'-', 'T8-P8'}. Applying running numbers for duplicates.\n",
      "  edf = mne.io.read_raw_edf(edf_filename,stim_channel=None)\n",
      "<ipython-input-2-2015fd87c072>:4: RuntimeWarning: Scaling factor is not defined in following channels:\n",
      "--0, --1, --2, --3, --4\n",
      "  edf = mne.io.read_raw_edf(edf_filename,stim_channel=None)\n"
     ]
    },
    {
     "output_type": "stream",
     "name": "stdout",
     "text": [
      "(23, 921600)\n",
      "Extracting EDF parameters from d:\\salma\\UNI\\Sem8\\WS\\physionet.org\\files\\chbmit\\1.0.0\\chb19\\chb19_24.edf...\n",
      "EDF file detected\n",
      "Setting channel info structure...\n",
      "Creating raw.info structure...\n"
     ]
    },
    {
     "output_type": "stream",
     "name": "stderr",
     "text": [
      "<ipython-input-2-2015fd87c072>:4: RuntimeWarning: Channel names are not unique, found duplicates for: {'-', 'T8-P8'}. Applying running numbers for duplicates.\n",
      "  edf = mne.io.read_raw_edf(edf_filename,stim_channel=None)\n",
      "<ipython-input-2-2015fd87c072>:4: RuntimeWarning: Scaling factor is not defined in following channels:\n",
      "--0, --1, --2, --3, --4\n",
      "  edf = mne.io.read_raw_edf(edf_filename,stim_channel=None)\n"
     ]
    },
    {
     "output_type": "stream",
     "name": "stdout",
     "text": [
      "(23, 921600)\n",
      "Extracting EDF parameters from d:\\salma\\UNI\\Sem8\\WS\\physionet.org\\files\\chbmit\\1.0.0\\chb19\\chb19_25.edf...\n",
      "EDF file detected\n",
      "Setting channel info structure...\n",
      "Creating raw.info structure...\n"
     ]
    },
    {
     "output_type": "stream",
     "name": "stderr",
     "text": [
      "<ipython-input-2-2015fd87c072>:4: RuntimeWarning: Channel names are not unique, found duplicates for: {'-', 'T8-P8'}. Applying running numbers for duplicates.\n",
      "  edf = mne.io.read_raw_edf(edf_filename,stim_channel=None)\n",
      "<ipython-input-2-2015fd87c072>:4: RuntimeWarning: Scaling factor is not defined in following channels:\n",
      "--0, --1, --2, --3, --4\n",
      "  edf = mne.io.read_raw_edf(edf_filename,stim_channel=None)\n"
     ]
    },
    {
     "output_type": "stream",
     "name": "stdout",
     "text": [
      "(23, 921600)\n",
      "Extracting EDF parameters from d:\\salma\\UNI\\Sem8\\WS\\physionet.org\\files\\chbmit\\1.0.0\\chb19\\chb19_26.edf...\n",
      "EDF file detected\n",
      "Setting channel info structure...\n",
      "Creating raw.info structure...\n"
     ]
    },
    {
     "output_type": "stream",
     "name": "stderr",
     "text": [
      "<ipython-input-2-2015fd87c072>:4: RuntimeWarning: Channel names are not unique, found duplicates for: {'-', 'T8-P8'}. Applying running numbers for duplicates.\n",
      "  edf = mne.io.read_raw_edf(edf_filename,stim_channel=None)\n",
      "<ipython-input-2-2015fd87c072>:4: RuntimeWarning: Scaling factor is not defined in following channels:\n",
      "--0, --1, --2, --3, --4\n",
      "  edf = mne.io.read_raw_edf(edf_filename,stim_channel=None)\n"
     ]
    },
    {
     "output_type": "stream",
     "name": "stdout",
     "text": [
      "(23, 921600)\n",
      "Extracting EDF parameters from d:\\salma\\UNI\\Sem8\\WS\\physionet.org\\files\\chbmit\\1.0.0\\chb19\\chb19_27.edf...\n",
      "EDF file detected\n",
      "Setting channel info structure...\n",
      "Creating raw.info structure...\n"
     ]
    },
    {
     "output_type": "stream",
     "name": "stderr",
     "text": [
      "<ipython-input-2-2015fd87c072>:4: RuntimeWarning: Channel names are not unique, found duplicates for: {'-', 'T8-P8'}. Applying running numbers for duplicates.\n",
      "  edf = mne.io.read_raw_edf(edf_filename,stim_channel=None)\n",
      "<ipython-input-2-2015fd87c072>:4: RuntimeWarning: Scaling factor is not defined in following channels:\n",
      "--0, --1, --2, --3, --4\n",
      "  edf = mne.io.read_raw_edf(edf_filename,stim_channel=None)\n"
     ]
    },
    {
     "output_type": "stream",
     "name": "stdout",
     "text": [
      "(23, 921600)\n",
      "Extracting EDF parameters from d:\\salma\\UNI\\Sem8\\WS\\physionet.org\\files\\chbmit\\1.0.0\\chb19\\chb19_28.edf...\n",
      "EDF file detected\n",
      "Setting channel info structure...\n",
      "Creating raw.info structure...\n"
     ]
    },
    {
     "output_type": "stream",
     "name": "stderr",
     "text": [
      "<ipython-input-2-2015fd87c072>:4: RuntimeWarning: Channel names are not unique, found duplicates for: {'-', 'T8-P8'}. Applying running numbers for duplicates.\n",
      "  edf = mne.io.read_raw_edf(edf_filename,stim_channel=None)\n",
      "<ipython-input-2-2015fd87c072>:4: RuntimeWarning: Scaling factor is not defined in following channels:\n",
      "--0, --1, --2, --3, --4\n",
      "  edf = mne.io.read_raw_edf(edf_filename,stim_channel=None)\n"
     ]
    },
    {
     "output_type": "stream",
     "name": "stdout",
     "text": [
      "(23, 924672)\n",
      "299\n",
      "377\n",
      "Extracting EDF parameters from d:\\salma\\UNI\\Sem8\\WS\\physionet.org\\files\\chbmit\\1.0.0\\chb19\\chb19_29.edf...\n",
      "EDF file detected\n",
      "Setting channel info structure...\n",
      "Creating raw.info structure...\n"
     ]
    },
    {
     "output_type": "stream",
     "name": "stderr",
     "text": [
      "<ipython-input-2-2015fd87c072>:4: RuntimeWarning: Channel names are not unique, found duplicates for: {'-', 'T8-P8'}. Applying running numbers for duplicates.\n",
      "  edf = mne.io.read_raw_edf(edf_filename,stim_channel=None)\n",
      "<ipython-input-2-2015fd87c072>:4: RuntimeWarning: Scaling factor is not defined in following channels:\n",
      "--0, --1, --2, --3, --4\n",
      "  edf = mne.io.read_raw_edf(edf_filename,stim_channel=None)\n"
     ]
    },
    {
     "output_type": "stream",
     "name": "stdout",
     "text": [
      "(23, 921600)\n",
      "2964\n",
      "3041\n",
      "Extracting EDF parameters from d:\\salma\\UNI\\Sem8\\WS\\physionet.org\\files\\chbmit\\1.0.0\\chb19\\chb19_30.edf...\n",
      "EDF file detected\n",
      "Setting channel info structure...\n",
      "Creating raw.info structure...\n"
     ]
    },
    {
     "output_type": "stream",
     "name": "stderr",
     "text": [
      "<ipython-input-2-2015fd87c072>:4: RuntimeWarning: Channel names are not unique, found duplicates for: {'-', 'T8-P8'}. Applying running numbers for duplicates.\n",
      "  edf = mne.io.read_raw_edf(edf_filename,stim_channel=None)\n",
      "<ipython-input-2-2015fd87c072>:4: RuntimeWarning: Scaling factor is not defined in following channels:\n",
      "--0, --1, --2, --3, --4\n",
      "  edf = mne.io.read_raw_edf(edf_filename,stim_channel=None)\n"
     ]
    },
    {
     "output_type": "stream",
     "name": "stdout",
     "text": [
      "(23, 853504)\n",
      "3159\n",
      "3240\n",
      "file: 0 , shape: (23, 921600) \n",
      "total number of windows: 718.0 , number of windows discarded: 0 \n",
      "file: 1 , shape: (23, 921600) \n",
      "total number of windows: 718.0 , number of windows discarded: 0 \n",
      "file: 2 , shape: (23, 921600) \n",
      "total number of windows: 718.0 , number of windows discarded: 0 \n",
      "file: 3 , shape: (23, 921600) \n",
      "total number of windows: 718.0 , number of windows discarded: 0 \n",
      "file: 4 , shape: (23, 921600) \n",
      "total number of windows: 718.0 , number of windows discarded: 0 \n",
      "file: 5 , shape: (23, 921600) \n",
      "total number of windows: 718.0 , number of windows discarded: 0 \n",
      "file: 6 , shape: (23, 921600) \n",
      "total number of windows: 718.0 , number of windows discarded: 0 \n",
      "file: 7 , shape: (23, 921600) \n",
      "total number of windows: 718.0 , number of windows discarded: 0 \n",
      "file: 8 , shape: (23, 921600) \n",
      "total number of windows: 718.0 , number of windows discarded: 0 \n",
      "file: 9 , shape: (23, 921600) \n",
      "total number of windows: 718.0 , number of windows discarded: 0 \n",
      "file: 10 , shape: (23, 921600) \n",
      "total number of windows: 718.0 , number of windows discarded: 0 \n",
      "file: 11 , shape: (23, 921600) \n",
      "total number of windows: 718.0 , number of windows discarded: 0 \n",
      "file: 12 , shape: (23, 921600) \n",
      "total number of windows: 718.0 , number of windows discarded: 0 \n",
      "file: 13 , shape: (23, 921600) \n",
      "total number of windows: 718.0 , number of windows discarded: 0 \n",
      "file: 14 , shape: (23, 921600) \n",
      "total number of windows: 718.0 , number of windows discarded: 0 \n",
      "file: 15 , shape: (23, 921600) \n",
      "total number of windows: 718.0 , number of windows discarded: 0 \n",
      "file: 16 , shape: (23, 921600) \n",
      "total number of windows: 718.0 , number of windows discarded: 0 \n",
      "file: 17 , shape: (23, 921600) \n",
      "total number of windows: 718.0 , number of windows discarded: 0 \n",
      "file: 18 , shape: (23, 921600) \n",
      "total number of windows: 718.0 , number of windows discarded: 0 \n",
      "file: 19 , shape: (23, 921600) \n",
      "total number of windows: 718.0 , number of windows discarded: 0 \n",
      "file: 20 , shape: (23, 921600) \n",
      "total number of windows: 718.0 , number of windows discarded: 0 \n",
      "file: 21 , shape: (23, 921600) \n",
      "total number of windows: 718.0 , number of windows discarded: 0 \n",
      "file: 22 , shape: (23, 921600) \n",
      "total number of windows: 718.0 , number of windows discarded: 0 \n",
      "file: 23 , shape: (23, 921600) \n",
      "total number of windows: 718.0 , number of windows discarded: 0 \n",
      "file: 24 , shape: (23, 921600) \n",
      "total number of windows: 718.0 , number of windows discarded: 0 \n",
      "file: 25 , shape: (23, 921600) \n",
      "total number of windows: 718.0 , number of windows discarded: 0 \n",
      "file: 26 , shape: (23, 924672) \n",
      "total number of windows: 721.0 , number of windows discarded: 4 \n",
      "file: 27 , shape: (23, 921600) \n",
      "total number of windows: 718.0 , number of windows discarded: 6 \n",
      "file: 28 , shape: (23, 853504) \n",
      "total number of windows: 665.0 , number of windows discarded: 6 \n",
      "Extracting EDF parameters from d:\\salma\\UNI\\Sem8\\WS\\physionet.org\\files\\chbmit\\1.0.0\\chb20\\chb20_01.edf...\n",
      "EDF file detected\n",
      "Setting channel info structure...\n",
      "Creating raw.info structure...\n"
     ]
    },
    {
     "output_type": "stream",
     "name": "stderr",
     "text": [
      "<ipython-input-2-2015fd87c072>:4: RuntimeWarning: Channel names are not unique, found duplicates for: {'.', 'T8-P8'}. Applying running numbers for duplicates.\n",
      "  edf = mne.io.read_raw_edf(edf_filename,stim_channel=None)\n"
     ]
    },
    {
     "output_type": "stream",
     "name": "stdout",
     "text": [
      "(23, 923136)\n",
      "Extracting EDF parameters from d:\\salma\\UNI\\Sem8\\WS\\physionet.org\\files\\chbmit\\1.0.0\\chb20\\chb20_02.edf...\n",
      "EDF file detected\n",
      "Setting channel info structure...\n",
      "Creating raw.info structure...\n"
     ]
    },
    {
     "output_type": "stream",
     "name": "stderr",
     "text": [
      "<ipython-input-2-2015fd87c072>:4: RuntimeWarning: Channel names are not unique, found duplicates for: {'.', 'T8-P8'}. Applying running numbers for duplicates.\n",
      "  edf = mne.io.read_raw_edf(edf_filename,stim_channel=None)\n"
     ]
    },
    {
     "output_type": "stream",
     "name": "stdout",
     "text": [
      "(23, 921600)\n",
      "Extracting EDF parameters from d:\\salma\\UNI\\Sem8\\WS\\physionet.org\\files\\chbmit\\1.0.0\\chb20\\chb20_03.edf...\n",
      "EDF file detected\n",
      "Setting channel info structure...\n",
      "Creating raw.info structure...\n"
     ]
    },
    {
     "output_type": "stream",
     "name": "stderr",
     "text": [
      "<ipython-input-2-2015fd87c072>:4: RuntimeWarning: Channel names are not unique, found duplicates for: {'.', 'T8-P8'}. Applying running numbers for duplicates.\n",
      "  edf = mne.io.read_raw_edf(edf_filename,stim_channel=None)\n"
     ]
    },
    {
     "output_type": "stream",
     "name": "stdout",
     "text": [
      "(23, 921600)\n",
      "Extracting EDF parameters from d:\\salma\\UNI\\Sem8\\WS\\physionet.org\\files\\chbmit\\1.0.0\\chb20\\chb20_04.edf...\n",
      "EDF file detected\n",
      "Setting channel info structure...\n",
      "Creating raw.info structure...\n"
     ]
    },
    {
     "output_type": "stream",
     "name": "stderr",
     "text": [
      "<ipython-input-2-2015fd87c072>:4: RuntimeWarning: Channel names are not unique, found duplicates for: {'.', 'T8-P8'}. Applying running numbers for duplicates.\n",
      "  edf = mne.io.read_raw_edf(edf_filename,stim_channel=None)\n"
     ]
    },
    {
     "output_type": "stream",
     "name": "stdout",
     "text": [
      "(23, 921600)\n",
      "Extracting EDF parameters from d:\\salma\\UNI\\Sem8\\WS\\physionet.org\\files\\chbmit\\1.0.0\\chb20\\chb20_05.edf...\n",
      "EDF file detected\n",
      "Setting channel info structure...\n",
      "Creating raw.info structure...\n"
     ]
    },
    {
     "output_type": "stream",
     "name": "stderr",
     "text": [
      "<ipython-input-2-2015fd87c072>:4: RuntimeWarning: Channel names are not unique, found duplicates for: {'.', 'T8-P8'}. Applying running numbers for duplicates.\n",
      "  edf = mne.io.read_raw_edf(edf_filename,stim_channel=None)\n"
     ]
    },
    {
     "output_type": "stream",
     "name": "stdout",
     "text": [
      "(23, 921600)\n",
      "Extracting EDF parameters from d:\\salma\\UNI\\Sem8\\WS\\physionet.org\\files\\chbmit\\1.0.0\\chb20\\chb20_06.edf...\n",
      "EDF file detected\n",
      "Setting channel info structure...\n",
      "Creating raw.info structure...\n"
     ]
    },
    {
     "output_type": "stream",
     "name": "stderr",
     "text": [
      "<ipython-input-2-2015fd87c072>:4: RuntimeWarning: Channel names are not unique, found duplicates for: {'.', 'T8-P8'}. Applying running numbers for duplicates.\n",
      "  edf = mne.io.read_raw_edf(edf_filename,stim_channel=None)\n"
     ]
    },
    {
     "output_type": "stream",
     "name": "stdout",
     "text": [
      "(23, 921600)\n",
      "Extracting EDF parameters from d:\\salma\\UNI\\Sem8\\WS\\physionet.org\\files\\chbmit\\1.0.0\\chb20\\chb20_07.edf...\n",
      "EDF file detected\n",
      "Setting channel info structure...\n",
      "Creating raw.info structure...\n"
     ]
    },
    {
     "output_type": "stream",
     "name": "stderr",
     "text": [
      "<ipython-input-2-2015fd87c072>:4: RuntimeWarning: Channel names are not unique, found duplicates for: {'.', 'T8-P8'}. Applying running numbers for duplicates.\n",
      "  edf = mne.io.read_raw_edf(edf_filename,stim_channel=None)\n"
     ]
    },
    {
     "output_type": "stream",
     "name": "stdout",
     "text": [
      "(23, 921600)\n",
      "Extracting EDF parameters from d:\\salma\\UNI\\Sem8\\WS\\physionet.org\\files\\chbmit\\1.0.0\\chb20\\chb20_08.edf...\n",
      "EDF file detected\n",
      "Setting channel info structure...\n",
      "Creating raw.info structure...\n"
     ]
    },
    {
     "output_type": "stream",
     "name": "stderr",
     "text": [
      "<ipython-input-2-2015fd87c072>:4: RuntimeWarning: Channel names are not unique, found duplicates for: {'.', 'T8-P8'}. Applying running numbers for duplicates.\n",
      "  edf = mne.io.read_raw_edf(edf_filename,stim_channel=None)\n"
     ]
    },
    {
     "output_type": "stream",
     "name": "stdout",
     "text": [
      "(23, 921600)\n",
      "Extracting EDF parameters from d:\\salma\\UNI\\Sem8\\WS\\physionet.org\\files\\chbmit\\1.0.0\\chb20\\chb20_11.edf...\n",
      "EDF file detected\n",
      "Setting channel info structure...\n",
      "Creating raw.info structure...\n"
     ]
    },
    {
     "output_type": "stream",
     "name": "stderr",
     "text": [
      "<ipython-input-2-2015fd87c072>:4: RuntimeWarning: Channel names are not unique, found duplicates for: {'.', 'T8-P8'}. Applying running numbers for duplicates.\n",
      "  edf = mne.io.read_raw_edf(edf_filename,stim_channel=None)\n"
     ]
    },
    {
     "output_type": "stream",
     "name": "stdout",
     "text": [
      "(23, 921600)\n",
      "Extracting EDF parameters from d:\\salma\\UNI\\Sem8\\WS\\physionet.org\\files\\chbmit\\1.0.0\\chb20\\chb20_12.edf...\n",
      "EDF file detected\n",
      "Setting channel info structure...\n",
      "Creating raw.info structure...\n"
     ]
    },
    {
     "output_type": "stream",
     "name": "stderr",
     "text": [
      "<ipython-input-2-2015fd87c072>:4: RuntimeWarning: Channel names are not unique, found duplicates for: {'.', 'T8-P8'}. Applying running numbers for duplicates.\n",
      "  edf = mne.io.read_raw_edf(edf_filename,stim_channel=None)\n"
     ]
    },
    {
     "output_type": "stream",
     "name": "stdout",
     "text": [
      "(23, 921600)\n",
      "94\n",
      "123\n",
      "Extracting EDF parameters from d:\\salma\\UNI\\Sem8\\WS\\physionet.org\\files\\chbmit\\1.0.0\\chb20\\chb20_13.edf...\n",
      "EDF file detected\n",
      "Setting channel info structure...\n",
      "Creating raw.info structure...\n"
     ]
    },
    {
     "output_type": "stream",
     "name": "stderr",
     "text": [
      "<ipython-input-2-2015fd87c072>:4: RuntimeWarning: Channel names are not unique, found duplicates for: {'.', 'T8-P8'}. Applying running numbers for duplicates.\n",
      "  edf = mne.io.read_raw_edf(edf_filename,stim_channel=None)\n"
     ]
    },
    {
     "output_type": "stream",
     "name": "stdout",
     "text": [
      "(23, 921600)\n",
      "1440\n",
      "1470\n",
      "2498\n",
      "2537\n",
      "Extracting EDF parameters from d:\\salma\\UNI\\Sem8\\WS\\physionet.org\\files\\chbmit\\1.0.0\\chb20\\chb20_14.edf...\n",
      "EDF file detected\n",
      "Setting channel info structure...\n",
      "Creating raw.info structure...\n"
     ]
    },
    {
     "output_type": "stream",
     "name": "stderr",
     "text": [
      "<ipython-input-2-2015fd87c072>:4: RuntimeWarning: Channel names are not unique, found duplicates for: {'.', 'T8-P8'}. Applying running numbers for duplicates.\n",
      "  edf = mne.io.read_raw_edf(edf_filename,stim_channel=None)\n"
     ]
    },
    {
     "output_type": "stream",
     "name": "stdout",
     "text": [
      "(23, 921600)\n",
      "1971\n",
      "2009\n",
      "Extracting EDF parameters from d:\\salma\\UNI\\Sem8\\WS\\physionet.org\\files\\chbmit\\1.0.0\\chb20\\chb20_15.edf...\n",
      "EDF file detected\n",
      "Setting channel info structure...\n",
      "Creating raw.info structure...\n"
     ]
    },
    {
     "output_type": "stream",
     "name": "stderr",
     "text": [
      "<ipython-input-2-2015fd87c072>:4: RuntimeWarning: Channel names are not unique, found duplicates for: {'.', 'T8-P8'}. Applying running numbers for duplicates.\n",
      "  edf = mne.io.read_raw_edf(edf_filename,stim_channel=None)\n"
     ]
    },
    {
     "output_type": "stream",
     "name": "stdout",
     "text": [
      "(23, 921600)\n",
      "390\n",
      "425\n",
      "1689\n",
      "1738\n",
      "Extracting EDF parameters from d:\\salma\\UNI\\Sem8\\WS\\physionet.org\\files\\chbmit\\1.0.0\\chb20\\chb20_16.edf...\n",
      "EDF file detected\n",
      "Setting channel info structure...\n",
      "Creating raw.info structure...\n"
     ]
    },
    {
     "output_type": "stream",
     "name": "stderr",
     "text": [
      "<ipython-input-2-2015fd87c072>:4: RuntimeWarning: Channel names are not unique, found duplicates for: {'.', 'T8-P8'}. Applying running numbers for duplicates.\n",
      "  edf = mne.io.read_raw_edf(edf_filename,stim_channel=None)\n"
     ]
    },
    {
     "output_type": "stream",
     "name": "stdout",
     "text": [
      "(23, 888064)\n",
      "2226\n",
      "2261\n",
      "Extracting EDF parameters from d:\\salma\\UNI\\Sem8\\WS\\physionet.org\\files\\chbmit\\1.0.0\\chb20\\chb20_17.edf...\n",
      "EDF file detected\n",
      "Setting channel info structure...\n",
      "Creating raw.info structure...\n"
     ]
    },
    {
     "output_type": "stream",
     "name": "stderr",
     "text": [
      "<ipython-input-2-2015fd87c072>:4: RuntimeWarning: Channel names are not unique, found duplicates for: {'.', 'T8-P8'}. Applying running numbers for duplicates.\n",
      "  edf = mne.io.read_raw_edf(edf_filename,stim_channel=None)\n"
     ]
    },
    {
     "output_type": "stream",
     "name": "stdout",
     "text": [
      "(23, 921600)\n",
      "Extracting EDF parameters from d:\\salma\\UNI\\Sem8\\WS\\physionet.org\\files\\chbmit\\1.0.0\\chb20\\chb20_21.edf...\n",
      "EDF file detected\n",
      "Setting channel info structure...\n",
      "Creating raw.info structure...\n"
     ]
    },
    {
     "output_type": "stream",
     "name": "stderr",
     "text": [
      "<ipython-input-2-2015fd87c072>:4: RuntimeWarning: Channel names are not unique, found duplicates for: {'.', 'T8-P8'}. Applying running numbers for duplicates.\n",
      "  edf = mne.io.read_raw_edf(edf_filename,stim_channel=None)\n"
     ]
    },
    {
     "output_type": "stream",
     "name": "stdout",
     "text": [
      "(23, 926208)\n",
      "Extracting EDF parameters from d:\\salma\\UNI\\Sem8\\WS\\physionet.org\\files\\chbmit\\1.0.0\\chb20\\chb20_22.edf...\n",
      "EDF file detected\n",
      "Setting channel info structure...\n",
      "Creating raw.info structure...\n",
      "(23, 189952)\n"
     ]
    },
    {
     "output_type": "stream",
     "name": "stderr",
     "text": [
      "<ipython-input-2-2015fd87c072>:4: RuntimeWarning: Channel names are not unique, found duplicates for: {'.', 'T8-P8'}. Applying running numbers for duplicates.\n",
      "  edf = mne.io.read_raw_edf(edf_filename,stim_channel=None)\n"
     ]
    },
    {
     "output_type": "stream",
     "name": "stdout",
     "text": [
      "Extracting EDF parameters from d:\\salma\\UNI\\Sem8\\WS\\physionet.org\\files\\chbmit\\1.0.0\\chb20\\chb20_23.edf...\n",
      "EDF file detected\n",
      "Setting channel info structure...\n",
      "Creating raw.info structure...\n"
     ]
    },
    {
     "output_type": "stream",
     "name": "stderr",
     "text": [
      "<ipython-input-2-2015fd87c072>:4: RuntimeWarning: Channel names are not unique, found duplicates for: {'.', 'T8-P8'}. Applying running numbers for duplicates.\n",
      "  edf = mne.io.read_raw_edf(edf_filename,stim_channel=None)\n"
     ]
    },
    {
     "output_type": "stream",
     "name": "stdout",
     "text": [
      "(23, 758784)\n",
      "Extracting EDF parameters from d:\\salma\\UNI\\Sem8\\WS\\physionet.org\\files\\chbmit\\1.0.0\\chb20\\chb20_25.edf...\n",
      "EDF file detected\n",
      "Setting channel info structure...\n",
      "Creating raw.info structure...\n"
     ]
    },
    {
     "output_type": "stream",
     "name": "stderr",
     "text": [
      "<ipython-input-2-2015fd87c072>:4: RuntimeWarning: Channel names are not unique, found duplicates for: {'.', 'T8-P8'}. Applying running numbers for duplicates.\n",
      "  edf = mne.io.read_raw_edf(edf_filename,stim_channel=None)\n"
     ]
    },
    {
     "output_type": "stream",
     "name": "stdout",
     "text": [
      "(23, 921600)\n",
      "Extracting EDF parameters from d:\\salma\\UNI\\Sem8\\WS\\physionet.org\\files\\chbmit\\1.0.0\\chb20\\chb20_26.edf...\n",
      "EDF file detected\n",
      "Setting channel info structure...\n",
      "Creating raw.info structure...\n"
     ]
    },
    {
     "output_type": "stream",
     "name": "stderr",
     "text": [
      "<ipython-input-2-2015fd87c072>:4: RuntimeWarning: Channel names are not unique, found duplicates for: {'.', 'T8-P8'}. Applying running numbers for duplicates.\n",
      "  edf = mne.io.read_raw_edf(edf_filename,stim_channel=None)\n"
     ]
    },
    {
     "output_type": "stream",
     "name": "stdout",
     "text": [
      "(23, 921600)\n",
      "Extracting EDF parameters from d:\\salma\\UNI\\Sem8\\WS\\physionet.org\\files\\chbmit\\1.0.0\\chb20\\chb20_27.edf...\n",
      "EDF file detected\n",
      "Setting channel info structure...\n",
      "Creating raw.info structure...\n"
     ]
    },
    {
     "output_type": "stream",
     "name": "stderr",
     "text": [
      "<ipython-input-2-2015fd87c072>:4: RuntimeWarning: Channel names are not unique, found duplicates for: {'.', 'T8-P8'}. Applying running numbers for duplicates.\n",
      "  edf = mne.io.read_raw_edf(edf_filename,stim_channel=None)\n"
     ]
    },
    {
     "output_type": "stream",
     "name": "stdout",
     "text": [
      "(23, 921600)\n",
      "Extracting EDF parameters from d:\\salma\\UNI\\Sem8\\WS\\physionet.org\\files\\chbmit\\1.0.0\\chb20\\chb20_28.edf...\n",
      "EDF file detected\n",
      "Setting channel info structure...\n",
      "Creating raw.info structure...\n"
     ]
    },
    {
     "output_type": "stream",
     "name": "stderr",
     "text": [
      "<ipython-input-2-2015fd87c072>:4: RuntimeWarning: Channel names are not unique, found duplicates for: {'.', 'T8-P8'}. Applying running numbers for duplicates.\n",
      "  edf = mne.io.read_raw_edf(edf_filename,stim_channel=None)\n"
     ]
    },
    {
     "output_type": "stream",
     "name": "stdout",
     "text": [
      "(23, 921600)\n",
      "Extracting EDF parameters from d:\\salma\\UNI\\Sem8\\WS\\physionet.org\\files\\chbmit\\1.0.0\\chb20\\chb20_29.edf...\n",
      "EDF file detected\n",
      "Setting channel info structure...\n",
      "Creating raw.info structure...\n"
     ]
    },
    {
     "output_type": "stream",
     "name": "stderr",
     "text": [
      "<ipython-input-2-2015fd87c072>:4: RuntimeWarning: Channel names are not unique, found duplicates for: {'.', 'T8-P8'}. Applying running numbers for duplicates.\n",
      "  edf = mne.io.read_raw_edf(edf_filename,stim_channel=None)\n"
     ]
    },
    {
     "output_type": "stream",
     "name": "stdout",
     "text": [
      "(23, 921600)\n",
      "Extracting EDF parameters from d:\\salma\\UNI\\Sem8\\WS\\physionet.org\\files\\chbmit\\1.0.0\\chb20\\chb20_30.edf...\n",
      "EDF file detected\n",
      "Setting channel info structure...\n",
      "Creating raw.info structure...\n"
     ]
    },
    {
     "output_type": "stream",
     "name": "stderr",
     "text": [
      "<ipython-input-2-2015fd87c072>:4: RuntimeWarning: Channel names are not unique, found duplicates for: {'.', 'T8-P8'}. Applying running numbers for duplicates.\n",
      "  edf = mne.io.read_raw_edf(edf_filename,stim_channel=None)\n"
     ]
    },
    {
     "output_type": "stream",
     "name": "stdout",
     "text": [
      "(23, 921600)\n",
      "Extracting EDF parameters from d:\\salma\\UNI\\Sem8\\WS\\physionet.org\\files\\chbmit\\1.0.0\\chb20\\chb20_31.edf...\n",
      "EDF file detected\n",
      "Setting channel info structure...\n",
      "Creating raw.info structure...\n"
     ]
    },
    {
     "output_type": "stream",
     "name": "stderr",
     "text": [
      "<ipython-input-2-2015fd87c072>:4: RuntimeWarning: Channel names are not unique, found duplicates for: {'.', 'T8-P8'}. Applying running numbers for duplicates.\n",
      "  edf = mne.io.read_raw_edf(edf_filename,stim_channel=None)\n"
     ]
    },
    {
     "output_type": "stream",
     "name": "stdout",
     "text": [
      "(23, 921600)\n",
      "Extracting EDF parameters from d:\\salma\\UNI\\Sem8\\WS\\physionet.org\\files\\chbmit\\1.0.0\\chb20\\chb20_34.edf...\n",
      "EDF file detected\n",
      "Setting channel info structure...\n",
      "Creating raw.info structure...\n"
     ]
    },
    {
     "output_type": "stream",
     "name": "stderr",
     "text": [
      "<ipython-input-2-2015fd87c072>:4: RuntimeWarning: Channel names are not unique, found duplicates for: {'.', 'T8-P8'}. Applying running numbers for duplicates.\n",
      "  edf = mne.io.read_raw_edf(edf_filename,stim_channel=None)\n"
     ]
    },
    {
     "output_type": "stream",
     "name": "stdout",
     "text": [
      "(23, 921600)\n",
      "Extracting EDF parameters from d:\\salma\\UNI\\Sem8\\WS\\physionet.org\\files\\chbmit\\1.0.0\\chb20\\chb20_59.edf...\n",
      "EDF file detected\n",
      "Setting channel info structure...\n",
      "Creating raw.info structure...\n"
     ]
    },
    {
     "output_type": "stream",
     "name": "stderr",
     "text": [
      "<ipython-input-2-2015fd87c072>:4: RuntimeWarning: Channel names are not unique, found duplicates for: {'.', 'T8-P8'}. Applying running numbers for duplicates.\n",
      "  edf = mne.io.read_raw_edf(edf_filename,stim_channel=None)\n"
     ]
    },
    {
     "output_type": "stream",
     "name": "stdout",
     "text": [
      "(23, 921600)\n",
      "Extracting EDF parameters from d:\\salma\\UNI\\Sem8\\WS\\physionet.org\\files\\chbmit\\1.0.0\\chb20\\chb20_60.edf...\n",
      "EDF file detected\n",
      "Setting channel info structure...\n",
      "Creating raw.info structure...\n"
     ]
    },
    {
     "output_type": "stream",
     "name": "stderr",
     "text": [
      "<ipython-input-2-2015fd87c072>:4: RuntimeWarning: Channel names are not unique, found duplicates for: {'.', 'T8-P8'}. Applying running numbers for duplicates.\n",
      "  edf = mne.io.read_raw_edf(edf_filename,stim_channel=None)\n"
     ]
    },
    {
     "output_type": "stream",
     "name": "stdout",
     "text": [
      "(23, 921600)\n",
      "Extracting EDF parameters from d:\\salma\\UNI\\Sem8\\WS\\physionet.org\\files\\chbmit\\1.0.0\\chb20\\chb20_68.edf...\n",
      "EDF file detected\n",
      "Setting channel info structure...\n",
      "Creating raw.info structure...\n"
     ]
    },
    {
     "output_type": "stream",
     "name": "stderr",
     "text": [
      "<ipython-input-2-2015fd87c072>:4: RuntimeWarning: Channel names are not unique, found duplicates for: {'.', 'T8-P8'}. Applying running numbers for duplicates.\n",
      "  edf = mne.io.read_raw_edf(edf_filename,stim_channel=None)\n"
     ]
    },
    {
     "output_type": "stream",
     "name": "stdout",
     "text": [
      "(23, 554752)\n",
      "1393\n",
      "1432\n",
      "file: 0 , shape: (23, 923136) \n",
      "total number of windows: 720.0 , number of windows discarded: 0 \n",
      "file: 1 , shape: (23, 921600) \n",
      "total number of windows: 718.0 , number of windows discarded: 0 \n",
      "file: 2 , shape: (23, 921600) \n",
      "total number of windows: 718.0 , number of windows discarded: 0 \n",
      "file: 3 , shape: (23, 921600) \n",
      "total number of windows: 718.0 , number of windows discarded: 0 \n",
      "file: 4 , shape: (23, 921600) \n",
      "total number of windows: 718.0 , number of windows discarded: 0 \n",
      "file: 5 , shape: (23, 921600) \n",
      "total number of windows: 718.0 , number of windows discarded: 0 \n",
      "file: 6 , shape: (23, 921600) \n",
      "total number of windows: 718.0 , number of windows discarded: 0 \n",
      "file: 7 , shape: (23, 921600) \n",
      "total number of windows: 718.0 , number of windows discarded: 0 \n",
      "file: 8 , shape: (23, 921600) \n",
      "total number of windows: 718.0 , number of windows discarded: 0 \n",
      "file: 9 , shape: (23, 921600) \n",
      "total number of windows: 718.0 , number of windows discarded: 4 \n",
      "file: 10 , shape: (23, 921600) \n",
      "total number of windows: 718.0 , number of windows discarded: 10 \n",
      "file: 11 , shape: (23, 921600) \n",
      "total number of windows: 718.0 , number of windows discarded: 5 \n",
      "file: 12 , shape: (23, 921600) \n",
      "total number of windows: 718.0 , number of windows discarded: 9 \n",
      "file: 13 , shape: (23, 888064) \n",
      "total number of windows: 692.0 , number of windows discarded: 6 \n",
      "file: 14 , shape: (23, 921600) \n",
      "total number of windows: 718.0 , number of windows discarded: 0 \n",
      "file: 15 , shape: (23, 926208) \n",
      "total number of windows: 722.0 , number of windows discarded: 0 \n",
      "file: 16 , shape: (23, 189952) \n",
      "total number of windows: 147.0 , number of windows discarded: 0 \n",
      "file: 17 , shape: (23, 758784) \n",
      "total number of windows: 591.0 , number of windows discarded: 0 \n",
      "file: 18 , shape: (23, 921600) \n",
      "total number of windows: 718.0 , number of windows discarded: 0 \n",
      "file: 19 , shape: (23, 921600) \n",
      "total number of windows: 718.0 , number of windows discarded: 0 \n",
      "file: 20 , shape: (23, 921600) \n",
      "total number of windows: 718.0 , number of windows discarded: 0 \n",
      "file: 21 , shape: (23, 921600) \n",
      "total number of windows: 718.0 , number of windows discarded: 0 \n",
      "file: 22 , shape: (23, 921600) \n",
      "total number of windows: 718.0 , number of windows discarded: 0 \n",
      "file: 23 , shape: (23, 921600) \n",
      "total number of windows: 718.0 , number of windows discarded: 0 \n",
      "file: 24 , shape: (23, 921600) \n",
      "total number of windows: 718.0 , number of windows discarded: 0 \n",
      "file: 25 , shape: (23, 921600) \n",
      "total number of windows: 718.0 , number of windows discarded: 0 \n",
      "file: 26 , shape: (23, 921600) \n",
      "total number of windows: 718.0 , number of windows discarded: 0 \n",
      "file: 27 , shape: (23, 921600) \n",
      "total number of windows: 718.0 , number of windows discarded: 0 \n",
      "file: 28 , shape: (23, 554752) \n",
      "total number of windows: 432.0 , number of windows discarded: 6 \n",
      "Extracting EDF parameters from d:\\salma\\UNI\\Sem8\\WS\\physionet.org\\files\\chbmit\\1.0.0\\chb21\\chb21_01.edf...\n",
      "EDF file detected\n",
      "Setting channel info structure...\n",
      "Creating raw.info structure...\n"
     ]
    },
    {
     "output_type": "stream",
     "name": "stderr",
     "text": [
      "<ipython-input-2-2015fd87c072>:4: RuntimeWarning: Channel names are not unique, found duplicates for: {'-', 'T8-P8'}. Applying running numbers for duplicates.\n",
      "  edf = mne.io.read_raw_edf(edf_filename,stim_channel=None)\n",
      "<ipython-input-2-2015fd87c072>:4: RuntimeWarning: Scaling factor is not defined in following channels:\n",
      "--0, --1, --2, --3, --4\n",
      "  edf = mne.io.read_raw_edf(edf_filename,stim_channel=None)\n"
     ]
    },
    {
     "output_type": "stream",
     "name": "stdout",
     "text": [
      "(23, 921600)\n",
      "Extracting EDF parameters from d:\\salma\\UNI\\Sem8\\WS\\physionet.org\\files\\chbmit\\1.0.0\\chb21\\chb21_02.edf...\n",
      "EDF file detected\n",
      "Setting channel info structure...\n",
      "Creating raw.info structure...\n"
     ]
    },
    {
     "output_type": "stream",
     "name": "stderr",
     "text": [
      "<ipython-input-2-2015fd87c072>:4: RuntimeWarning: Channel names are not unique, found duplicates for: {'-', 'T8-P8'}. Applying running numbers for duplicates.\n",
      "  edf = mne.io.read_raw_edf(edf_filename,stim_channel=None)\n",
      "<ipython-input-2-2015fd87c072>:4: RuntimeWarning: Scaling factor is not defined in following channels:\n",
      "--0, --1, --2, --3, --4\n",
      "  edf = mne.io.read_raw_edf(edf_filename,stim_channel=None)\n"
     ]
    },
    {
     "output_type": "stream",
     "name": "stdout",
     "text": [
      "(23, 921600)\n",
      "Extracting EDF parameters from d:\\salma\\UNI\\Sem8\\WS\\physionet.org\\files\\chbmit\\1.0.0\\chb21\\chb21_03.edf...\n",
      "EDF file detected\n",
      "Setting channel info structure...\n",
      "Creating raw.info structure...\n"
     ]
    },
    {
     "output_type": "stream",
     "name": "stderr",
     "text": [
      "<ipython-input-2-2015fd87c072>:4: RuntimeWarning: Channel names are not unique, found duplicates for: {'-', 'T8-P8'}. Applying running numbers for duplicates.\n",
      "  edf = mne.io.read_raw_edf(edf_filename,stim_channel=None)\n",
      "<ipython-input-2-2015fd87c072>:4: RuntimeWarning: Scaling factor is not defined in following channels:\n",
      "--0, --1, --2, --3, --4\n",
      "  edf = mne.io.read_raw_edf(edf_filename,stim_channel=None)\n"
     ]
    },
    {
     "output_type": "stream",
     "name": "stdout",
     "text": [
      "(23, 921600)\n",
      "Extracting EDF parameters from d:\\salma\\UNI\\Sem8\\WS\\physionet.org\\files\\chbmit\\1.0.0\\chb21\\chb21_04.edf...\n",
      "EDF file detected\n",
      "Setting channel info structure...\n",
      "Creating raw.info structure...\n"
     ]
    },
    {
     "output_type": "stream",
     "name": "stderr",
     "text": [
      "<ipython-input-2-2015fd87c072>:4: RuntimeWarning: Channel names are not unique, found duplicates for: {'-', 'T8-P8'}. Applying running numbers for duplicates.\n",
      "  edf = mne.io.read_raw_edf(edf_filename,stim_channel=None)\n",
      "<ipython-input-2-2015fd87c072>:4: RuntimeWarning: Scaling factor is not defined in following channels:\n",
      "--0, --1, --2, --3, --4\n",
      "  edf = mne.io.read_raw_edf(edf_filename,stim_channel=None)\n"
     ]
    },
    {
     "output_type": "stream",
     "name": "stdout",
     "text": [
      "(23, 921600)\n",
      "Extracting EDF parameters from d:\\salma\\UNI\\Sem8\\WS\\physionet.org\\files\\chbmit\\1.0.0\\chb21\\chb21_05.edf...\n",
      "EDF file detected\n",
      "Setting channel info structure...\n",
      "Creating raw.info structure...\n"
     ]
    },
    {
     "output_type": "stream",
     "name": "stderr",
     "text": [
      "<ipython-input-2-2015fd87c072>:4: RuntimeWarning: Channel names are not unique, found duplicates for: {'-', 'T8-P8'}. Applying running numbers for duplicates.\n",
      "  edf = mne.io.read_raw_edf(edf_filename,stim_channel=None)\n",
      "<ipython-input-2-2015fd87c072>:4: RuntimeWarning: Scaling factor is not defined in following channels:\n",
      "--0, --1, --2, --3, --4\n",
      "  edf = mne.io.read_raw_edf(edf_filename,stim_channel=None)\n"
     ]
    },
    {
     "output_type": "stream",
     "name": "stdout",
     "text": [
      "(23, 921600)\n",
      "Extracting EDF parameters from d:\\salma\\UNI\\Sem8\\WS\\physionet.org\\files\\chbmit\\1.0.0\\chb21\\chb21_06.edf...\n",
      "EDF file detected\n",
      "Setting channel info structure...\n",
      "Creating raw.info structure...\n"
     ]
    },
    {
     "output_type": "stream",
     "name": "stderr",
     "text": [
      "<ipython-input-2-2015fd87c072>:4: RuntimeWarning: Channel names are not unique, found duplicates for: {'-', 'T8-P8'}. Applying running numbers for duplicates.\n",
      "  edf = mne.io.read_raw_edf(edf_filename,stim_channel=None)\n",
      "<ipython-input-2-2015fd87c072>:4: RuntimeWarning: Scaling factor is not defined in following channels:\n",
      "--0, --1, --2, --3, --4\n",
      "  edf = mne.io.read_raw_edf(edf_filename,stim_channel=None)\n"
     ]
    },
    {
     "output_type": "stream",
     "name": "stdout",
     "text": [
      "(23, 921600)\n",
      "Extracting EDF parameters from d:\\salma\\UNI\\Sem8\\WS\\physionet.org\\files\\chbmit\\1.0.0\\chb21\\chb21_07.edf...\n",
      "EDF file detected\n",
      "Setting channel info structure...\n",
      "Creating raw.info structure...\n"
     ]
    },
    {
     "output_type": "stream",
     "name": "stderr",
     "text": [
      "<ipython-input-2-2015fd87c072>:4: RuntimeWarning: Channel names are not unique, found duplicates for: {'-', 'T8-P8'}. Applying running numbers for duplicates.\n",
      "  edf = mne.io.read_raw_edf(edf_filename,stim_channel=None)\n",
      "<ipython-input-2-2015fd87c072>:4: RuntimeWarning: Scaling factor is not defined in following channels:\n",
      "--0, --1, --2, --3, --4\n",
      "  edf = mne.io.read_raw_edf(edf_filename,stim_channel=None)\n"
     ]
    },
    {
     "output_type": "stream",
     "name": "stdout",
     "text": [
      "(23, 921600)\n",
      "Extracting EDF parameters from d:\\salma\\UNI\\Sem8\\WS\\physionet.org\\files\\chbmit\\1.0.0\\chb21\\chb21_08.edf...\n",
      "EDF file detected\n",
      "Setting channel info structure...\n",
      "Creating raw.info structure...\n"
     ]
    },
    {
     "output_type": "stream",
     "name": "stderr",
     "text": [
      "<ipython-input-2-2015fd87c072>:4: RuntimeWarning: Channel names are not unique, found duplicates for: {'-', 'T8-P8'}. Applying running numbers for duplicates.\n",
      "  edf = mne.io.read_raw_edf(edf_filename,stim_channel=None)\n",
      "<ipython-input-2-2015fd87c072>:4: RuntimeWarning: Scaling factor is not defined in following channels:\n",
      "--0, --1, --2, --3, --4\n",
      "  edf = mne.io.read_raw_edf(edf_filename,stim_channel=None)\n"
     ]
    },
    {
     "output_type": "stream",
     "name": "stdout",
     "text": [
      "(23, 921600)\n",
      "Extracting EDF parameters from d:\\salma\\UNI\\Sem8\\WS\\physionet.org\\files\\chbmit\\1.0.0\\chb21\\chb21_09.edf...\n",
      "EDF file detected\n",
      "Setting channel info structure...\n",
      "Creating raw.info structure...\n"
     ]
    },
    {
     "output_type": "stream",
     "name": "stderr",
     "text": [
      "<ipython-input-2-2015fd87c072>:4: RuntimeWarning: Channel names are not unique, found duplicates for: {'-', 'T8-P8'}. Applying running numbers for duplicates.\n",
      "  edf = mne.io.read_raw_edf(edf_filename,stim_channel=None)\n",
      "<ipython-input-2-2015fd87c072>:4: RuntimeWarning: Scaling factor is not defined in following channels:\n",
      "--0, --1, --2, --3, --4\n",
      "  edf = mne.io.read_raw_edf(edf_filename,stim_channel=None)\n"
     ]
    },
    {
     "output_type": "stream",
     "name": "stdout",
     "text": [
      "(23, 921600)\n",
      "Extracting EDF parameters from d:\\salma\\UNI\\Sem8\\WS\\physionet.org\\files\\chbmit\\1.0.0\\chb21\\chb21_10.edf...\n",
      "EDF file detected\n",
      "Setting channel info structure...\n",
      "Creating raw.info structure...\n"
     ]
    },
    {
     "output_type": "stream",
     "name": "stderr",
     "text": [
      "<ipython-input-2-2015fd87c072>:4: RuntimeWarning: Channel names are not unique, found duplicates for: {'-', 'T8-P8'}. Applying running numbers for duplicates.\n",
      "  edf = mne.io.read_raw_edf(edf_filename,stim_channel=None)\n",
      "<ipython-input-2-2015fd87c072>:4: RuntimeWarning: Scaling factor is not defined in following channels:\n",
      "--0, --1, --2, --3, --4\n",
      "  edf = mne.io.read_raw_edf(edf_filename,stim_channel=None)\n"
     ]
    },
    {
     "output_type": "stream",
     "name": "stdout",
     "text": [
      "(23, 921600)\n",
      "Extracting EDF parameters from d:\\salma\\UNI\\Sem8\\WS\\physionet.org\\files\\chbmit\\1.0.0\\chb21\\chb21_11.edf...\n",
      "EDF file detected\n",
      "Setting channel info structure...\n",
      "Creating raw.info structure...\n"
     ]
    },
    {
     "output_type": "stream",
     "name": "stderr",
     "text": [
      "<ipython-input-2-2015fd87c072>:4: RuntimeWarning: Channel names are not unique, found duplicates for: {'-', 'T8-P8'}. Applying running numbers for duplicates.\n",
      "  edf = mne.io.read_raw_edf(edf_filename,stim_channel=None)\n",
      "<ipython-input-2-2015fd87c072>:4: RuntimeWarning: Scaling factor is not defined in following channels:\n",
      "--0, --1, --2, --3, --4\n",
      "  edf = mne.io.read_raw_edf(edf_filename,stim_channel=None)\n"
     ]
    },
    {
     "output_type": "stream",
     "name": "stdout",
     "text": [
      "(23, 921600)\n",
      "Extracting EDF parameters from d:\\salma\\UNI\\Sem8\\WS\\physionet.org\\files\\chbmit\\1.0.0\\chb21\\chb21_12.edf...\n",
      "EDF file detected\n",
      "Setting channel info structure...\n",
      "Creating raw.info structure...\n"
     ]
    },
    {
     "output_type": "stream",
     "name": "stderr",
     "text": [
      "<ipython-input-2-2015fd87c072>:4: RuntimeWarning: Channel names are not unique, found duplicates for: {'-', 'T8-P8'}. Applying running numbers for duplicates.\n",
      "  edf = mne.io.read_raw_edf(edf_filename,stim_channel=None)\n",
      "<ipython-input-2-2015fd87c072>:4: RuntimeWarning: Scaling factor is not defined in following channels:\n",
      "--0, --1, --2, --3, --4\n",
      "  edf = mne.io.read_raw_edf(edf_filename,stim_channel=None)\n"
     ]
    },
    {
     "output_type": "stream",
     "name": "stdout",
     "text": [
      "(23, 921600)\n",
      "Extracting EDF parameters from d:\\salma\\UNI\\Sem8\\WS\\physionet.org\\files\\chbmit\\1.0.0\\chb21\\chb21_13.edf...\n",
      "EDF file detected\n",
      "Setting channel info structure...\n",
      "Creating raw.info structure...\n"
     ]
    },
    {
     "output_type": "stream",
     "name": "stderr",
     "text": [
      "<ipython-input-2-2015fd87c072>:4: RuntimeWarning: Channel names are not unique, found duplicates for: {'-', 'T8-P8'}. Applying running numbers for duplicates.\n",
      "  edf = mne.io.read_raw_edf(edf_filename,stim_channel=None)\n",
      "<ipython-input-2-2015fd87c072>:4: RuntimeWarning: Scaling factor is not defined in following channels:\n",
      "--0, --1, --2, --3, --4\n",
      "  edf = mne.io.read_raw_edf(edf_filename,stim_channel=None)\n"
     ]
    },
    {
     "output_type": "stream",
     "name": "stdout",
     "text": [
      "(23, 921600)\n",
      "Extracting EDF parameters from d:\\salma\\UNI\\Sem8\\WS\\physionet.org\\files\\chbmit\\1.0.0\\chb21\\chb21_14.edf...\n",
      "EDF file detected\n",
      "Setting channel info structure...\n",
      "Creating raw.info structure...\n"
     ]
    },
    {
     "output_type": "stream",
     "name": "stderr",
     "text": [
      "<ipython-input-2-2015fd87c072>:4: RuntimeWarning: Channel names are not unique, found duplicates for: {'-', 'T8-P8'}. Applying running numbers for duplicates.\n",
      "  edf = mne.io.read_raw_edf(edf_filename,stim_channel=None)\n",
      "<ipython-input-2-2015fd87c072>:4: RuntimeWarning: Scaling factor is not defined in following channels:\n",
      "--0, --1, --2, --3, --4\n",
      "  edf = mne.io.read_raw_edf(edf_filename,stim_channel=None)\n"
     ]
    },
    {
     "output_type": "stream",
     "name": "stdout",
     "text": [
      "(23, 921600)\n",
      "Extracting EDF parameters from d:\\salma\\UNI\\Sem8\\WS\\physionet.org\\files\\chbmit\\1.0.0\\chb21\\chb21_15.edf...\n",
      "EDF file detected\n",
      "Setting channel info structure...\n",
      "Creating raw.info structure...\n"
     ]
    },
    {
     "output_type": "stream",
     "name": "stderr",
     "text": [
      "<ipython-input-2-2015fd87c072>:4: RuntimeWarning: Channel names are not unique, found duplicates for: {'-', 'T8-P8'}. Applying running numbers for duplicates.\n",
      "  edf = mne.io.read_raw_edf(edf_filename,stim_channel=None)\n",
      "<ipython-input-2-2015fd87c072>:4: RuntimeWarning: Number of records from the header does not match the file size (perhaps the recording was not stopped before exiting). Inferring from the file size.\n",
      "  edf = mne.io.read_raw_edf(edf_filename,stim_channel=None)\n",
      "<ipython-input-2-2015fd87c072>:4: RuntimeWarning: Scaling factor is not defined in following channels:\n",
      "--0, --1, --2, --3, --4\n",
      "  edf = mne.io.read_raw_edf(edf_filename,stim_channel=None)\n"
     ]
    },
    {
     "output_type": "stream",
     "name": "stdout",
     "text": [
      "(23, 1096704)\n",
      "Extracting EDF parameters from d:\\salma\\UNI\\Sem8\\WS\\physionet.org\\files\\chbmit\\1.0.0\\chb21\\chb21_16.edf...\n",
      "EDF file detected\n",
      "Setting channel info structure...\n",
      "Creating raw.info structure...\n"
     ]
    },
    {
     "output_type": "stream",
     "name": "stderr",
     "text": [
      "<ipython-input-2-2015fd87c072>:4: RuntimeWarning: Channel names are not unique, found duplicates for: {'-', 'T8-P8'}. Applying running numbers for duplicates.\n",
      "  edf = mne.io.read_raw_edf(edf_filename,stim_channel=None)\n",
      "<ipython-input-2-2015fd87c072>:4: RuntimeWarning: Number of records from the header does not match the file size (perhaps the recording was not stopped before exiting). Inferring from the file size.\n",
      "  edf = mne.io.read_raw_edf(edf_filename,stim_channel=None)\n",
      "<ipython-input-2-2015fd87c072>:4: RuntimeWarning: Scaling factor is not defined in following channels:\n",
      "--0, --1, --2, --3, --4\n",
      "  edf = mne.io.read_raw_edf(edf_filename,stim_channel=None)\n"
     ]
    },
    {
     "output_type": "stream",
     "name": "stdout",
     "text": [
      "(23, 968960)\n",
      "Extracting EDF parameters from d:\\salma\\UNI\\Sem8\\WS\\physionet.org\\files\\chbmit\\1.0.0\\chb21\\chb21_17.edf...\n",
      "EDF file detected\n",
      "Setting channel info structure...\n",
      "Creating raw.info structure...\n"
     ]
    },
    {
     "output_type": "stream",
     "name": "stderr",
     "text": [
      "<ipython-input-2-2015fd87c072>:4: RuntimeWarning: Channel names are not unique, found duplicates for: {'-', 'T8-P8'}. Applying running numbers for duplicates.\n",
      "  edf = mne.io.read_raw_edf(edf_filename,stim_channel=None)\n",
      "<ipython-input-2-2015fd87c072>:4: RuntimeWarning: Scaling factor is not defined in following channels:\n",
      "--0, --1, --2, --3, --4\n",
      "  edf = mne.io.read_raw_edf(edf_filename,stim_channel=None)\n"
     ]
    },
    {
     "output_type": "stream",
     "name": "stdout",
     "text": [
      "(23, 921600)\n",
      "Extracting EDF parameters from d:\\salma\\UNI\\Sem8\\WS\\physionet.org\\files\\chbmit\\1.0.0\\chb21\\chb21_18.edf...\n",
      "EDF file detected\n",
      "Setting channel info structure...\n",
      "Creating raw.info structure...\n"
     ]
    },
    {
     "output_type": "stream",
     "name": "stderr",
     "text": [
      "<ipython-input-2-2015fd87c072>:4: RuntimeWarning: Channel names are not unique, found duplicates for: {'-', 'T8-P8'}. Applying running numbers for duplicates.\n",
      "  edf = mne.io.read_raw_edf(edf_filename,stim_channel=None)\n",
      "<ipython-input-2-2015fd87c072>:4: RuntimeWarning: Number of records from the header does not match the file size (perhaps the recording was not stopped before exiting). Inferring from the file size.\n",
      "  edf = mne.io.read_raw_edf(edf_filename,stim_channel=None)\n",
      "<ipython-input-2-2015fd87c072>:4: RuntimeWarning: Scaling factor is not defined in following channels:\n",
      "--0, --1, --2, --3, --4\n",
      "  edf = mne.io.read_raw_edf(edf_filename,stim_channel=None)\n"
     ]
    },
    {
     "output_type": "stream",
     "name": "stdout",
     "text": [
      "(23, 1082112)\n",
      "Extracting EDF parameters from d:\\salma\\UNI\\Sem8\\WS\\physionet.org\\files\\chbmit\\1.0.0\\chb21\\chb21_19.edf...\n",
      "EDF file detected\n",
      "Setting channel info structure...\n",
      "Creating raw.info structure...\n"
     ]
    },
    {
     "output_type": "stream",
     "name": "stderr",
     "text": [
      "<ipython-input-2-2015fd87c072>:4: RuntimeWarning: Channel names are not unique, found duplicates for: {'-', 'T8-P8'}. Applying running numbers for duplicates.\n",
      "  edf = mne.io.read_raw_edf(edf_filename,stim_channel=None)\n",
      "<ipython-input-2-2015fd87c072>:4: RuntimeWarning: Number of records from the header does not match the file size (perhaps the recording was not stopped before exiting). Inferring from the file size.\n",
      "  edf = mne.io.read_raw_edf(edf_filename,stim_channel=None)\n",
      "<ipython-input-2-2015fd87c072>:4: RuntimeWarning: Scaling factor is not defined in following channels:\n",
      "--0, --1, --2, --3, --4\n",
      "  edf = mne.io.read_raw_edf(edf_filename,stim_channel=None)\n"
     ]
    },
    {
     "output_type": "stream",
     "name": "stdout",
     "text": [
      "(23, 1074176)\n",
      "1288\n",
      "1344\n",
      "Extracting EDF parameters from d:\\salma\\UNI\\Sem8\\WS\\physionet.org\\files\\chbmit\\1.0.0\\chb21\\chb21_20.edf...\n",
      "EDF file detected\n",
      "Setting channel info structure...\n",
      "Creating raw.info structure...\n"
     ]
    },
    {
     "output_type": "stream",
     "name": "stderr",
     "text": [
      "<ipython-input-2-2015fd87c072>:4: RuntimeWarning: Channel names are not unique, found duplicates for: {'-', 'T8-P8'}. Applying running numbers for duplicates.\n",
      "  edf = mne.io.read_raw_edf(edf_filename,stim_channel=None)\n",
      "<ipython-input-2-2015fd87c072>:4: RuntimeWarning: Number of records from the header does not match the file size (perhaps the recording was not stopped before exiting). Inferring from the file size.\n",
      "  edf = mne.io.read_raw_edf(edf_filename,stim_channel=None)\n",
      "<ipython-input-2-2015fd87c072>:4: RuntimeWarning: Scaling factor is not defined in following channels:\n",
      "--0, --1, --2, --3, --4\n",
      "  edf = mne.io.read_raw_edf(edf_filename,stim_channel=None)\n"
     ]
    },
    {
     "output_type": "stream",
     "name": "stdout",
     "text": [
      "(23, 783360)\n",
      "2627\n",
      "2677\n",
      "Extracting EDF parameters from d:\\salma\\UNI\\Sem8\\WS\\physionet.org\\files\\chbmit\\1.0.0\\chb21\\chb21_21.edf...\n",
      "EDF file detected\n",
      "Setting channel info structure...\n",
      "Creating raw.info structure...\n"
     ]
    },
    {
     "output_type": "stream",
     "name": "stderr",
     "text": [
      "<ipython-input-2-2015fd87c072>:4: RuntimeWarning: Channel names are not unique, found duplicates for: {'-', 'T8-P8'}. Applying running numbers for duplicates.\n",
      "  edf = mne.io.read_raw_edf(edf_filename,stim_channel=None)\n",
      "<ipython-input-2-2015fd87c072>:4: RuntimeWarning: Number of records from the header does not match the file size (perhaps the recording was not stopped before exiting). Inferring from the file size.\n",
      "  edf = mne.io.read_raw_edf(edf_filename,stim_channel=None)\n",
      "<ipython-input-2-2015fd87c072>:4: RuntimeWarning: Scaling factor is not defined in following channels:\n",
      "--0, --1, --2, --3, --4\n",
      "  edf = mne.io.read_raw_edf(edf_filename,stim_channel=None)\n"
     ]
    },
    {
     "output_type": "stream",
     "name": "stdout",
     "text": [
      "(23, 1038848)\n",
      "2003\n",
      "2084\n",
      "Extracting EDF parameters from d:\\salma\\UNI\\Sem8\\WS\\physionet.org\\files\\chbmit\\1.0.0\\chb21\\chb21_22.edf...\n",
      "EDF file detected\n",
      "Setting channel info structure...\n",
      "Creating raw.info structure...\n"
     ]
    },
    {
     "output_type": "stream",
     "name": "stderr",
     "text": [
      "<ipython-input-2-2015fd87c072>:4: RuntimeWarning: Channel names are not unique, found duplicates for: {'-', 'T8-P8'}. Applying running numbers for duplicates.\n",
      "  edf = mne.io.read_raw_edf(edf_filename,stim_channel=None)\n",
      "<ipython-input-2-2015fd87c072>:4: RuntimeWarning: Number of records from the header does not match the file size (perhaps the recording was not stopped before exiting). Inferring from the file size.\n",
      "  edf = mne.io.read_raw_edf(edf_filename,stim_channel=None)\n",
      "<ipython-input-2-2015fd87c072>:4: RuntimeWarning: Scaling factor is not defined in following channels:\n",
      "--0, --1, --2, --3, --4\n",
      "  edf = mne.io.read_raw_edf(edf_filename,stim_channel=None)\n"
     ]
    },
    {
     "output_type": "stream",
     "name": "stdout",
     "text": [
      "(23, 990464)\n",
      "2553\n",
      "2565\n",
      "Extracting EDF parameters from d:\\salma\\UNI\\Sem8\\WS\\physionet.org\\files\\chbmit\\1.0.0\\chb21\\chb21_23.edf...\n",
      "EDF file detected\n",
      "Setting channel info structure...\n",
      "Creating raw.info structure...\n"
     ]
    },
    {
     "output_type": "stream",
     "name": "stderr",
     "text": [
      "<ipython-input-2-2015fd87c072>:4: RuntimeWarning: Channel names are not unique, found duplicates for: {'-', 'T8-P8'}. Applying running numbers for duplicates.\n",
      "  edf = mne.io.read_raw_edf(edf_filename,stim_channel=None)\n",
      "<ipython-input-2-2015fd87c072>:4: RuntimeWarning: Number of records from the header does not match the file size (perhaps the recording was not stopped before exiting). Inferring from the file size.\n",
      "  edf = mne.io.read_raw_edf(edf_filename,stim_channel=None)\n",
      "<ipython-input-2-2015fd87c072>:4: RuntimeWarning: Scaling factor is not defined in following channels:\n",
      "--0, --1, --2, --3, --4\n",
      "  edf = mne.io.read_raw_edf(edf_filename,stim_channel=None)\n"
     ]
    },
    {
     "output_type": "stream",
     "name": "stdout",
     "text": [
      "(23, 926208)\n",
      "Extracting EDF parameters from d:\\salma\\UNI\\Sem8\\WS\\physionet.org\\files\\chbmit\\1.0.0\\chb21\\chb21_24.edf...\n",
      "EDF file detected\n",
      "Setting channel info structure...\n",
      "Creating raw.info structure...\n"
     ]
    },
    {
     "output_type": "stream",
     "name": "stderr",
     "text": [
      "<ipython-input-2-2015fd87c072>:4: RuntimeWarning: Channel names are not unique, found duplicates for: {'-', 'T8-P8'}. Applying running numbers for duplicates.\n",
      "  edf = mne.io.read_raw_edf(edf_filename,stim_channel=None)\n",
      "<ipython-input-2-2015fd87c072>:4: RuntimeWarning: Number of records from the header does not match the file size (perhaps the recording was not stopped before exiting). Inferring from the file size.\n",
      "  edf = mne.io.read_raw_edf(edf_filename,stim_channel=None)\n",
      "<ipython-input-2-2015fd87c072>:4: RuntimeWarning: Scaling factor is not defined in following channels:\n",
      "--0, --1, --2, --3, --4\n",
      "  edf = mne.io.read_raw_edf(edf_filename,stim_channel=None)\n"
     ]
    },
    {
     "output_type": "stream",
     "name": "stdout",
     "text": [
      "(23, 924416)\n",
      "Extracting EDF parameters from d:\\salma\\UNI\\Sem8\\WS\\physionet.org\\files\\chbmit\\1.0.0\\chb21\\chb21_25.edf...\n",
      "EDF file detected\n",
      "Setting channel info structure...\n",
      "Creating raw.info structure...\n"
     ]
    },
    {
     "output_type": "stream",
     "name": "stderr",
     "text": [
      "<ipython-input-2-2015fd87c072>:4: RuntimeWarning: Channel names are not unique, found duplicates for: {'-', 'T8-P8'}. Applying running numbers for duplicates.\n",
      "  edf = mne.io.read_raw_edf(edf_filename,stim_channel=None)\n",
      "<ipython-input-2-2015fd87c072>:4: RuntimeWarning: Number of records from the header does not match the file size (perhaps the recording was not stopped before exiting). Inferring from the file size.\n",
      "  edf = mne.io.read_raw_edf(edf_filename,stim_channel=None)\n",
      "<ipython-input-2-2015fd87c072>:4: RuntimeWarning: Scaling factor is not defined in following channels:\n",
      "--0, --1, --2, --3, --4\n",
      "  edf = mne.io.read_raw_edf(edf_filename,stim_channel=None)\n"
     ]
    },
    {
     "output_type": "stream",
     "name": "stdout",
     "text": [
      "(23, 946432)\n",
      "Extracting EDF parameters from d:\\salma\\UNI\\Sem8\\WS\\physionet.org\\files\\chbmit\\1.0.0\\chb21\\chb21_26.edf...\n",
      "EDF file detected\n",
      "Setting channel info structure...\n",
      "Creating raw.info structure...\n"
     ]
    },
    {
     "output_type": "stream",
     "name": "stderr",
     "text": [
      "<ipython-input-2-2015fd87c072>:4: RuntimeWarning: Channel names are not unique, found duplicates for: {'-', 'T8-P8'}. Applying running numbers for duplicates.\n",
      "  edf = mne.io.read_raw_edf(edf_filename,stim_channel=None)\n",
      "<ipython-input-2-2015fd87c072>:4: RuntimeWarning: Number of records from the header does not match the file size (perhaps the recording was not stopped before exiting). Inferring from the file size.\n",
      "  edf = mne.io.read_raw_edf(edf_filename,stim_channel=None)\n",
      "<ipython-input-2-2015fd87c072>:4: RuntimeWarning: Scaling factor is not defined in following channels:\n",
      "--0, --1, --2, --3, --4\n",
      "  edf = mne.io.read_raw_edf(edf_filename,stim_channel=None)\n"
     ]
    },
    {
     "output_type": "stream",
     "name": "stdout",
     "text": [
      "(23, 962048)\n",
      "Extracting EDF parameters from d:\\salma\\UNI\\Sem8\\WS\\physionet.org\\files\\chbmit\\1.0.0\\chb21\\chb21_27.edf...\n",
      "EDF file detected\n",
      "Setting channel info structure...\n",
      "Creating raw.info structure...\n"
     ]
    },
    {
     "output_type": "stream",
     "name": "stderr",
     "text": [
      "<ipython-input-2-2015fd87c072>:4: RuntimeWarning: Channel names are not unique, found duplicates for: {'-', 'T8-P8'}. Applying running numbers for duplicates.\n",
      "  edf = mne.io.read_raw_edf(edf_filename,stim_channel=None)\n",
      "<ipython-input-2-2015fd87c072>:4: RuntimeWarning: Number of records from the header does not match the file size (perhaps the recording was not stopped before exiting). Inferring from the file size.\n",
      "  edf = mne.io.read_raw_edf(edf_filename,stim_channel=None)\n",
      "<ipython-input-2-2015fd87c072>:4: RuntimeWarning: Scaling factor is not defined in following channels:\n",
      "--0, --1, --2, --3, --4\n",
      "  edf = mne.io.read_raw_edf(edf_filename,stim_channel=None)\n"
     ]
    },
    {
     "output_type": "stream",
     "name": "stdout",
     "text": [
      "(23, 1078784)\n",
      "Extracting EDF parameters from d:\\salma\\UNI\\Sem8\\WS\\physionet.org\\files\\chbmit\\1.0.0\\chb21\\chb21_28.edf...\n",
      "EDF file detected\n",
      "Setting channel info structure...\n",
      "Creating raw.info structure...\n"
     ]
    },
    {
     "output_type": "stream",
     "name": "stderr",
     "text": [
      "<ipython-input-2-2015fd87c072>:4: RuntimeWarning: Channel names are not unique, found duplicates for: {'-', 'T8-P8'}. Applying running numbers for duplicates.\n",
      "  edf = mne.io.read_raw_edf(edf_filename,stim_channel=None)\n",
      "<ipython-input-2-2015fd87c072>:4: RuntimeWarning: Number of records from the header does not match the file size (perhaps the recording was not stopped before exiting). Inferring from the file size.\n",
      "  edf = mne.io.read_raw_edf(edf_filename,stim_channel=None)\n",
      "<ipython-input-2-2015fd87c072>:4: RuntimeWarning: Scaling factor is not defined in following channels:\n",
      "--0, --1, --2, --3, --4\n",
      "  edf = mne.io.read_raw_edf(edf_filename,stim_channel=None)\n"
     ]
    },
    {
     "output_type": "stream",
     "name": "stdout",
     "text": [
      "(23, 1147136)\n",
      "Extracting EDF parameters from d:\\salma\\UNI\\Sem8\\WS\\physionet.org\\files\\chbmit\\1.0.0\\chb21\\chb21_29.edf...\n",
      "EDF file detected\n",
      "Setting channel info structure...\n",
      "Creating raw.info structure...\n"
     ]
    },
    {
     "output_type": "stream",
     "name": "stderr",
     "text": [
      "<ipython-input-2-2015fd87c072>:4: RuntimeWarning: Channel names are not unique, found duplicates for: {'-', 'T8-P8'}. Applying running numbers for duplicates.\n",
      "  edf = mne.io.read_raw_edf(edf_filename,stim_channel=None)\n",
      "<ipython-input-2-2015fd87c072>:4: RuntimeWarning: Number of records from the header does not match the file size (perhaps the recording was not stopped before exiting). Inferring from the file size.\n",
      "  edf = mne.io.read_raw_edf(edf_filename,stim_channel=None)\n",
      "<ipython-input-2-2015fd87c072>:4: RuntimeWarning: Scaling factor is not defined in following channels:\n",
      "--0, --1, --2, --3, --4\n",
      "  edf = mne.io.read_raw_edf(edf_filename,stim_channel=None)\n"
     ]
    },
    {
     "output_type": "stream",
     "name": "stdout",
     "text": [
      "(23, 1192448)\n",
      "Extracting EDF parameters from d:\\salma\\UNI\\Sem8\\WS\\physionet.org\\files\\chbmit\\1.0.0\\chb21\\chb21_30.edf...\n",
      "EDF file detected\n",
      "Setting channel info structure...\n",
      "Creating raw.info structure...\n"
     ]
    },
    {
     "output_type": "stream",
     "name": "stderr",
     "text": [
      "<ipython-input-2-2015fd87c072>:4: RuntimeWarning: Channel names are not unique, found duplicates for: {'-', 'T8-P8'}. Applying running numbers for duplicates.\n",
      "  edf = mne.io.read_raw_edf(edf_filename,stim_channel=None)\n",
      "<ipython-input-2-2015fd87c072>:4: RuntimeWarning: Number of records from the header does not match the file size (perhaps the recording was not stopped before exiting). Inferring from the file size.\n",
      "  edf = mne.io.read_raw_edf(edf_filename,stim_channel=None)\n",
      "<ipython-input-2-2015fd87c072>:4: RuntimeWarning: Scaling factor is not defined in following channels:\n",
      "--0, --1, --2, --3, --4\n",
      "  edf = mne.io.read_raw_edf(edf_filename,stim_channel=None)\n"
     ]
    },
    {
     "output_type": "stream",
     "name": "stdout",
     "text": [
      "(23, 968704)\n",
      "Extracting EDF parameters from d:\\salma\\UNI\\Sem8\\WS\\physionet.org\\files\\chbmit\\1.0.0\\chb21\\chb21_31.edf...\n",
      "EDF file detected\n",
      "Setting channel info structure...\n",
      "Creating raw.info structure...\n"
     ]
    },
    {
     "output_type": "stream",
     "name": "stderr",
     "text": [
      "<ipython-input-2-2015fd87c072>:4: RuntimeWarning: Channel names are not unique, found duplicates for: {'-', 'T8-P8'}. Applying running numbers for duplicates.\n",
      "  edf = mne.io.read_raw_edf(edf_filename,stim_channel=None)\n",
      "<ipython-input-2-2015fd87c072>:4: RuntimeWarning: Number of records from the header does not match the file size (perhaps the recording was not stopped before exiting). Inferring from the file size.\n",
      "  edf = mne.io.read_raw_edf(edf_filename,stim_channel=None)\n",
      "<ipython-input-2-2015fd87c072>:4: RuntimeWarning: Scaling factor is not defined in following channels:\n",
      "--0, --1, --2, --3, --4\n",
      "  edf = mne.io.read_raw_edf(edf_filename,stim_channel=None)\n"
     ]
    },
    {
     "output_type": "stream",
     "name": "stdout",
     "text": [
      "(23, 995328)\n",
      "Extracting EDF parameters from d:\\salma\\UNI\\Sem8\\WS\\physionet.org\\files\\chbmit\\1.0.0\\chb21\\chb21_32.edf...\n",
      "EDF file detected\n",
      "Setting channel info structure...\n",
      "Creating raw.info structure...\n"
     ]
    },
    {
     "output_type": "stream",
     "name": "stderr",
     "text": [
      "<ipython-input-2-2015fd87c072>:4: RuntimeWarning: Channel names are not unique, found duplicates for: {'-', 'T8-P8'}. Applying running numbers for duplicates.\n",
      "  edf = mne.io.read_raw_edf(edf_filename,stim_channel=None)\n",
      "<ipython-input-2-2015fd87c072>:4: RuntimeWarning: Number of records from the header does not match the file size (perhaps the recording was not stopped before exiting). Inferring from the file size.\n",
      "  edf = mne.io.read_raw_edf(edf_filename,stim_channel=None)\n",
      "<ipython-input-2-2015fd87c072>:4: RuntimeWarning: Scaling factor is not defined in following channels:\n",
      "--0, --1, --2, --3, --4\n",
      "  edf = mne.io.read_raw_edf(edf_filename,stim_channel=None)\n"
     ]
    },
    {
     "output_type": "stream",
     "name": "stdout",
     "text": [
      "(23, 993792)\n",
      "Extracting EDF parameters from d:\\salma\\UNI\\Sem8\\WS\\physionet.org\\files\\chbmit\\1.0.0\\chb21\\chb21_33.edf...\n",
      "EDF file detected\n",
      "Setting channel info structure...\n",
      "Creating raw.info structure...\n"
     ]
    },
    {
     "output_type": "stream",
     "name": "stderr",
     "text": [
      "<ipython-input-2-2015fd87c072>:4: RuntimeWarning: Channel names are not unique, found duplicates for: {'-', 'T8-P8'}. Applying running numbers for duplicates.\n",
      "  edf = mne.io.read_raw_edf(edf_filename,stim_channel=None)\n",
      "<ipython-input-2-2015fd87c072>:4: RuntimeWarning: Number of records from the header does not match the file size (perhaps the recording was not stopped before exiting). Inferring from the file size.\n",
      "  edf = mne.io.read_raw_edf(edf_filename,stim_channel=None)\n",
      "<ipython-input-2-2015fd87c072>:4: RuntimeWarning: Scaling factor is not defined in following channels:\n",
      "--0, --1, --2, --3, --4\n",
      "  edf = mne.io.read_raw_edf(edf_filename,stim_channel=None)\n"
     ]
    },
    {
     "output_type": "stream",
     "name": "stdout",
     "text": [
      "(23, 1104128)\n",
      "file: 0 , shape: (23, 921600) \n",
      "total number of windows: 718.0 , number of windows discarded: 0 \n",
      "file: 1 , shape: (23, 921600) \n",
      "total number of windows: 718.0 , number of windows discarded: 0 \n",
      "file: 2 , shape: (23, 921600) \n",
      "total number of windows: 718.0 , number of windows discarded: 0 \n",
      "file: 3 , shape: (23, 921600) \n",
      "total number of windows: 718.0 , number of windows discarded: 0 \n",
      "file: 4 , shape: (23, 921600) \n",
      "total number of windows: 718.0 , number of windows discarded: 0 \n",
      "file: 5 , shape: (23, 921600) \n",
      "total number of windows: 718.0 , number of windows discarded: 0 \n",
      "file: 6 , shape: (23, 921600) \n",
      "total number of windows: 718.0 , number of windows discarded: 0 \n",
      "file: 7 , shape: (23, 921600) \n",
      "total number of windows: 718.0 , number of windows discarded: 0 \n",
      "file: 8 , shape: (23, 921600) \n",
      "total number of windows: 718.0 , number of windows discarded: 0 \n",
      "file: 9 , shape: (23, 921600) \n",
      "total number of windows: 718.0 , number of windows discarded: 0 \n",
      "file: 10 , shape: (23, 921600) \n",
      "total number of windows: 718.0 , number of windows discarded: 0 \n",
      "file: 11 , shape: (23, 921600) \n",
      "total number of windows: 718.0 , number of windows discarded: 0 \n",
      "file: 12 , shape: (23, 921600) \n",
      "total number of windows: 718.0 , number of windows discarded: 0 \n",
      "file: 13 , shape: (23, 921600) \n",
      "total number of windows: 718.0 , number of windows discarded: 0 \n",
      "file: 14 , shape: (23, 1096704) \n",
      "total number of windows: 855.0 , number of windows discarded: 0 \n",
      "file: 15 , shape: (23, 968960) \n",
      "total number of windows: 755.0 , number of windows discarded: 0 \n",
      "file: 16 , shape: (23, 921600) \n",
      "total number of windows: 718.0 , number of windows discarded: 0 \n",
      "file: 17 , shape: (23, 1082112) \n",
      "total number of windows: 844.0 , number of windows discarded: 0 \n",
      "file: 18 , shape: (23, 1074176) \n",
      "total number of windows: 838.0 , number of windows discarded: 5 \n",
      "file: 19 , shape: (23, 783360) \n",
      "total number of windows: 610.0 , number of windows discarded: 6 \n",
      "file: 20 , shape: (23, 1038848) \n",
      "total number of windows: 810.0 , number of windows discarded: 5 \n",
      "file: 21 , shape: (23, 990464) \n",
      "total number of windows: 772.0 , number of windows discarded: 6 \n",
      "file: 22 , shape: (23, 926208) \n",
      "total number of windows: 722.0 , number of windows discarded: 0 \n",
      "file: 23 , shape: (23, 924416) \n",
      "total number of windows: 721.0 , number of windows discarded: 0 \n",
      "file: 24 , shape: (23, 946432) \n",
      "total number of windows: 738.0 , number of windows discarded: 0 \n",
      "file: 25 , shape: (23, 962048) \n",
      "total number of windows: 750.0 , number of windows discarded: 0 \n",
      "file: 26 , shape: (23, 1078784) \n",
      "total number of windows: 841.0 , number of windows discarded: 0 \n",
      "file: 27 , shape: (23, 1147136) \n",
      "total number of windows: 895.0 , number of windows discarded: 0 \n",
      "file: 28 , shape: (23, 1192448) \n",
      "total number of windows: 930.0 , number of windows discarded: 0 \n",
      "file: 29 , shape: (23, 968704) \n",
      "total number of windows: 755.0 , number of windows discarded: 0 \n",
      "file: 30 , shape: (23, 995328) \n",
      "total number of windows: 776.0 , number of windows discarded: 0 \n",
      "file: 31 , shape: (23, 993792) \n",
      "total number of windows: 775.0 , number of windows discarded: 0 \n",
      "file: 32 , shape: (23, 1104128) \n",
      "total number of windows: 861.0 , number of windows discarded: 0 \n",
      "Extracting EDF parameters from d:\\salma\\UNI\\Sem8\\WS\\physionet.org\\files\\chbmit\\1.0.0\\chb22\\chb22_01.edf...\n",
      "EDF file detected\n",
      "Setting channel info structure...\n",
      "Creating raw.info structure...\n"
     ]
    },
    {
     "output_type": "stream",
     "name": "stderr",
     "text": [
      "<ipython-input-2-2015fd87c072>:4: RuntimeWarning: Channel names are not unique, found duplicates for: {'-', 'T8-P8'}. Applying running numbers for duplicates.\n",
      "  edf = mne.io.read_raw_edf(edf_filename,stim_channel=None)\n"
     ]
    },
    {
     "output_type": "stream",
     "name": "stdout",
     "text": [
      "(23, 921600)\n",
      "Extracting EDF parameters from d:\\salma\\UNI\\Sem8\\WS\\physionet.org\\files\\chbmit\\1.0.0\\chb22\\chb22_02.edf...\n",
      "EDF file detected\n",
      "Setting channel info structure...\n",
      "Creating raw.info structure...\n"
     ]
    },
    {
     "output_type": "stream",
     "name": "stderr",
     "text": [
      "<ipython-input-2-2015fd87c072>:4: RuntimeWarning: Channel names are not unique, found duplicates for: {'-', 'T8-P8'}. Applying running numbers for duplicates.\n",
      "  edf = mne.io.read_raw_edf(edf_filename,stim_channel=None)\n"
     ]
    },
    {
     "output_type": "stream",
     "name": "stdout",
     "text": [
      "(23, 921600)\n",
      "Extracting EDF parameters from d:\\salma\\UNI\\Sem8\\WS\\physionet.org\\files\\chbmit\\1.0.0\\chb22\\chb22_03.edf...\n",
      "EDF file detected\n",
      "Setting channel info structure...\n",
      "Creating raw.info structure...\n"
     ]
    },
    {
     "output_type": "stream",
     "name": "stderr",
     "text": [
      "<ipython-input-2-2015fd87c072>:4: RuntimeWarning: Channel names are not unique, found duplicates for: {'-', 'T8-P8'}. Applying running numbers for duplicates.\n",
      "  edf = mne.io.read_raw_edf(edf_filename,stim_channel=None)\n"
     ]
    },
    {
     "output_type": "stream",
     "name": "stdout",
     "text": [
      "(23, 921600)\n",
      "Extracting EDF parameters from d:\\salma\\UNI\\Sem8\\WS\\physionet.org\\files\\chbmit\\1.0.0\\chb22\\chb22_04.edf...\n",
      "EDF file detected\n",
      "Setting channel info structure...\n",
      "Creating raw.info structure...\n"
     ]
    },
    {
     "output_type": "stream",
     "name": "stderr",
     "text": [
      "<ipython-input-2-2015fd87c072>:4: RuntimeWarning: Channel names are not unique, found duplicates for: {'-', 'T8-P8'}. Applying running numbers for duplicates.\n",
      "  edf = mne.io.read_raw_edf(edf_filename,stim_channel=None)\n"
     ]
    },
    {
     "output_type": "stream",
     "name": "stdout",
     "text": [
      "(23, 921600)\n",
      "Extracting EDF parameters from d:\\salma\\UNI\\Sem8\\WS\\physionet.org\\files\\chbmit\\1.0.0\\chb22\\chb22_05.edf...\n",
      "EDF file detected\n",
      "Setting channel info structure...\n",
      "Creating raw.info structure...\n"
     ]
    },
    {
     "output_type": "stream",
     "name": "stderr",
     "text": [
      "<ipython-input-2-2015fd87c072>:4: RuntimeWarning: Channel names are not unique, found duplicates for: {'-', 'T8-P8'}. Applying running numbers for duplicates.\n",
      "  edf = mne.io.read_raw_edf(edf_filename,stim_channel=None)\n"
     ]
    },
    {
     "output_type": "stream",
     "name": "stdout",
     "text": [
      "(23, 921600)\n",
      "Extracting EDF parameters from d:\\salma\\UNI\\Sem8\\WS\\physionet.org\\files\\chbmit\\1.0.0\\chb22\\chb22_06.edf...\n",
      "EDF file detected\n",
      "Setting channel info structure...\n",
      "Creating raw.info structure...\n"
     ]
    },
    {
     "output_type": "stream",
     "name": "stderr",
     "text": [
      "<ipython-input-2-2015fd87c072>:4: RuntimeWarning: Channel names are not unique, found duplicates for: {'-', 'T8-P8'}. Applying running numbers for duplicates.\n",
      "  edf = mne.io.read_raw_edf(edf_filename,stim_channel=None)\n"
     ]
    },
    {
     "output_type": "stream",
     "name": "stdout",
     "text": [
      "(23, 921600)\n",
      "Extracting EDF parameters from d:\\salma\\UNI\\Sem8\\WS\\physionet.org\\files\\chbmit\\1.0.0\\chb22\\chb22_07.edf...\n",
      "EDF file detected\n",
      "Setting channel info structure...\n",
      "Creating raw.info structure...\n"
     ]
    },
    {
     "output_type": "stream",
     "name": "stderr",
     "text": [
      "<ipython-input-2-2015fd87c072>:4: RuntimeWarning: Channel names are not unique, found duplicates for: {'-', 'T8-P8'}. Applying running numbers for duplicates.\n",
      "  edf = mne.io.read_raw_edf(edf_filename,stim_channel=None)\n"
     ]
    },
    {
     "output_type": "stream",
     "name": "stdout",
     "text": [
      "(23, 921600)\n",
      "Extracting EDF parameters from d:\\salma\\UNI\\Sem8\\WS\\physionet.org\\files\\chbmit\\1.0.0\\chb22\\chb22_08.edf...\n",
      "EDF file detected\n",
      "Setting channel info structure...\n",
      "Creating raw.info structure...\n"
     ]
    },
    {
     "output_type": "stream",
     "name": "stderr",
     "text": [
      "<ipython-input-2-2015fd87c072>:4: RuntimeWarning: Channel names are not unique, found duplicates for: {'-', 'T8-P8'}. Applying running numbers for duplicates.\n",
      "  edf = mne.io.read_raw_edf(edf_filename,stim_channel=None)\n"
     ]
    },
    {
     "output_type": "stream",
     "name": "stdout",
     "text": [
      "(23, 921600)\n",
      "Extracting EDF parameters from d:\\salma\\UNI\\Sem8\\WS\\physionet.org\\files\\chbmit\\1.0.0\\chb22\\chb22_09.edf...\n",
      "EDF file detected\n",
      "Setting channel info structure...\n",
      "Creating raw.info structure...\n"
     ]
    },
    {
     "output_type": "stream",
     "name": "stderr",
     "text": [
      "<ipython-input-2-2015fd87c072>:4: RuntimeWarning: Channel names are not unique, found duplicates for: {'-', 'T8-P8'}. Applying running numbers for duplicates.\n",
      "  edf = mne.io.read_raw_edf(edf_filename,stim_channel=None)\n"
     ]
    },
    {
     "output_type": "stream",
     "name": "stdout",
     "text": [
      "(23, 921600)\n",
      "Extracting EDF parameters from d:\\salma\\UNI\\Sem8\\WS\\physionet.org\\files\\chbmit\\1.0.0\\chb22\\chb22_10.edf...\n",
      "EDF file detected\n",
      "Setting channel info structure...\n",
      "Creating raw.info structure...\n"
     ]
    },
    {
     "output_type": "stream",
     "name": "stderr",
     "text": [
      "<ipython-input-2-2015fd87c072>:4: RuntimeWarning: Channel names are not unique, found duplicates for: {'-', 'T8-P8'}. Applying running numbers for duplicates.\n",
      "  edf = mne.io.read_raw_edf(edf_filename,stim_channel=None)\n"
     ]
    },
    {
     "output_type": "stream",
     "name": "stdout",
     "text": [
      "(23, 921600)\n",
      "Extracting EDF parameters from d:\\salma\\UNI\\Sem8\\WS\\physionet.org\\files\\chbmit\\1.0.0\\chb22\\chb22_11.edf...\n",
      "EDF file detected\n",
      "Setting channel info structure...\n",
      "Creating raw.info structure...\n"
     ]
    },
    {
     "output_type": "stream",
     "name": "stderr",
     "text": [
      "<ipython-input-2-2015fd87c072>:4: RuntimeWarning: Channel names are not unique, found duplicates for: {'-', 'T8-P8'}. Applying running numbers for duplicates.\n",
      "  edf = mne.io.read_raw_edf(edf_filename,stim_channel=None)\n"
     ]
    },
    {
     "output_type": "stream",
     "name": "stdout",
     "text": [
      "(23, 924416)\n",
      "Extracting EDF parameters from d:\\salma\\UNI\\Sem8\\WS\\physionet.org\\files\\chbmit\\1.0.0\\chb22\\chb22_15.edf...\n",
      "EDF file detected\n",
      "Setting channel info structure...\n",
      "Creating raw.info structure...\n"
     ]
    },
    {
     "output_type": "stream",
     "name": "stderr",
     "text": [
      "<ipython-input-2-2015fd87c072>:4: RuntimeWarning: Channel names are not unique, found duplicates for: {'-', 'T8-P8'}. Applying running numbers for duplicates.\n",
      "  edf = mne.io.read_raw_edf(edf_filename,stim_channel=None)\n"
     ]
    },
    {
     "output_type": "stream",
     "name": "stdout",
     "text": [
      "(23, 921600)\n",
      "Extracting EDF parameters from d:\\salma\\UNI\\Sem8\\WS\\physionet.org\\files\\chbmit\\1.0.0\\chb22\\chb22_16.edf...\n",
      "EDF file detected\n",
      "Setting channel info structure...\n",
      "Creating raw.info structure...\n"
     ]
    },
    {
     "output_type": "stream",
     "name": "stderr",
     "text": [
      "<ipython-input-2-2015fd87c072>:4: RuntimeWarning: Channel names are not unique, found duplicates for: {'-', 'T8-P8'}. Applying running numbers for duplicates.\n",
      "  edf = mne.io.read_raw_edf(edf_filename,stim_channel=None)\n"
     ]
    },
    {
     "output_type": "stream",
     "name": "stdout",
     "text": [
      "(23, 921600)\n",
      "Extracting EDF parameters from d:\\salma\\UNI\\Sem8\\WS\\physionet.org\\files\\chbmit\\1.0.0\\chb22\\chb22_17.edf...\n",
      "EDF file detected\n",
      "Setting channel info structure...\n",
      "Creating raw.info structure...\n"
     ]
    },
    {
     "output_type": "stream",
     "name": "stderr",
     "text": [
      "<ipython-input-2-2015fd87c072>:4: RuntimeWarning: Channel names are not unique, found duplicates for: {'-', 'T8-P8'}. Applying running numbers for duplicates.\n",
      "  edf = mne.io.read_raw_edf(edf_filename,stim_channel=None)\n"
     ]
    },
    {
     "output_type": "stream",
     "name": "stdout",
     "text": [
      "(23, 921600)\n",
      "Extracting EDF parameters from d:\\salma\\UNI\\Sem8\\WS\\physionet.org\\files\\chbmit\\1.0.0\\chb22\\chb22_18.edf...\n",
      "EDF file detected\n",
      "Setting channel info structure...\n",
      "Creating raw.info structure...\n"
     ]
    },
    {
     "output_type": "stream",
     "name": "stderr",
     "text": [
      "<ipython-input-2-2015fd87c072>:4: RuntimeWarning: Channel names are not unique, found duplicates for: {'-', 'T8-P8'}. Applying running numbers for duplicates.\n",
      "  edf = mne.io.read_raw_edf(edf_filename,stim_channel=None)\n"
     ]
    },
    {
     "output_type": "stream",
     "name": "stdout",
     "text": [
      "(23, 921600)\n",
      "Extracting EDF parameters from d:\\salma\\UNI\\Sem8\\WS\\physionet.org\\files\\chbmit\\1.0.0\\chb22\\chb22_19.edf...\n",
      "EDF file detected\n",
      "Setting channel info structure...\n",
      "Creating raw.info structure...\n"
     ]
    },
    {
     "output_type": "stream",
     "name": "stderr",
     "text": [
      "<ipython-input-2-2015fd87c072>:4: RuntimeWarning: Channel names are not unique, found duplicates for: {'-', 'T8-P8'}. Applying running numbers for duplicates.\n",
      "  edf = mne.io.read_raw_edf(edf_filename,stim_channel=None)\n"
     ]
    },
    {
     "output_type": "stream",
     "name": "stdout",
     "text": [
      "(23, 921600)\n",
      "Extracting EDF parameters from d:\\salma\\UNI\\Sem8\\WS\\physionet.org\\files\\chbmit\\1.0.0\\chb22\\chb22_20.edf...\n",
      "EDF file detected\n",
      "Setting channel info structure...\n",
      "Creating raw.info structure...\n"
     ]
    },
    {
     "output_type": "stream",
     "name": "stderr",
     "text": [
      "<ipython-input-2-2015fd87c072>:4: RuntimeWarning: Channel names are not unique, found duplicates for: {'-', 'T8-P8'}. Applying running numbers for duplicates.\n",
      "  edf = mne.io.read_raw_edf(edf_filename,stim_channel=None)\n"
     ]
    },
    {
     "output_type": "stream",
     "name": "stdout",
     "text": [
      "(23, 921600)\n",
      "3367\n",
      "3425\n",
      "Extracting EDF parameters from d:\\salma\\UNI\\Sem8\\WS\\physionet.org\\files\\chbmit\\1.0.0\\chb22\\chb22_21.edf...\n",
      "EDF file detected\n",
      "Setting channel info structure...\n",
      "Creating raw.info structure...\n"
     ]
    },
    {
     "output_type": "stream",
     "name": "stderr",
     "text": [
      "<ipython-input-2-2015fd87c072>:4: RuntimeWarning: Channel names are not unique, found duplicates for: {'-', 'T8-P8'}. Applying running numbers for duplicates.\n",
      "  edf = mne.io.read_raw_edf(edf_filename,stim_channel=None)\n"
     ]
    },
    {
     "output_type": "stream",
     "name": "stdout",
     "text": [
      "(23, 921600)\n",
      "Extracting EDF parameters from d:\\salma\\UNI\\Sem8\\WS\\physionet.org\\files\\chbmit\\1.0.0\\chb22\\chb22_22.edf...\n",
      "EDF file detected\n",
      "Setting channel info structure...\n",
      "Creating raw.info structure...\n"
     ]
    },
    {
     "output_type": "stream",
     "name": "stderr",
     "text": [
      "<ipython-input-2-2015fd87c072>:4: RuntimeWarning: Channel names are not unique, found duplicates for: {'-', 'T8-P8'}. Applying running numbers for duplicates.\n",
      "  edf = mne.io.read_raw_edf(edf_filename,stim_channel=None)\n"
     ]
    },
    {
     "output_type": "stream",
     "name": "stdout",
     "text": [
      "(23, 921600)\n",
      "Extracting EDF parameters from d:\\salma\\UNI\\Sem8\\WS\\physionet.org\\files\\chbmit\\1.0.0\\chb22\\chb22_23.edf...\n",
      "EDF file detected\n",
      "Setting channel info structure...\n",
      "Creating raw.info structure...\n"
     ]
    },
    {
     "output_type": "stream",
     "name": "stderr",
     "text": [
      "<ipython-input-2-2015fd87c072>:4: RuntimeWarning: Channel names are not unique, found duplicates for: {'-', 'T8-P8'}. Applying running numbers for duplicates.\n",
      "  edf = mne.io.read_raw_edf(edf_filename,stim_channel=None)\n"
     ]
    },
    {
     "output_type": "stream",
     "name": "stdout",
     "text": [
      "(23, 921600)\n",
      "Extracting EDF parameters from d:\\salma\\UNI\\Sem8\\WS\\physionet.org\\files\\chbmit\\1.0.0\\chb22\\chb22_24.edf...\n",
      "EDF file detected\n",
      "Setting channel info structure...\n",
      "Creating raw.info structure...\n"
     ]
    },
    {
     "output_type": "stream",
     "name": "stderr",
     "text": [
      "<ipython-input-2-2015fd87c072>:4: RuntimeWarning: Channel names are not unique, found duplicates for: {'-', 'T8-P8'}. Applying running numbers for duplicates.\n",
      "  edf = mne.io.read_raw_edf(edf_filename,stim_channel=None)\n"
     ]
    },
    {
     "output_type": "stream",
     "name": "stdout",
     "text": [
      "(23, 921600)\n",
      "Extracting EDF parameters from d:\\salma\\UNI\\Sem8\\WS\\physionet.org\\files\\chbmit\\1.0.0\\chb22\\chb22_25.edf...\n",
      "EDF file detected\n",
      "Setting channel info structure...\n",
      "Creating raw.info structure...\n"
     ]
    },
    {
     "output_type": "stream",
     "name": "stderr",
     "text": [
      "<ipython-input-2-2015fd87c072>:4: RuntimeWarning: Channel names are not unique, found duplicates for: {'-', 'T8-P8'}. Applying running numbers for duplicates.\n",
      "  edf = mne.io.read_raw_edf(edf_filename,stim_channel=None)\n"
     ]
    },
    {
     "output_type": "stream",
     "name": "stdout",
     "text": [
      "(23, 921600)\n",
      "3139\n",
      "3213\n",
      "Extracting EDF parameters from d:\\salma\\UNI\\Sem8\\WS\\physionet.org\\files\\chbmit\\1.0.0\\chb22\\chb22_26.edf...\n",
      "EDF file detected\n",
      "Setting channel info structure...\n",
      "Creating raw.info structure...\n"
     ]
    },
    {
     "output_type": "stream",
     "name": "stderr",
     "text": [
      "<ipython-input-2-2015fd87c072>:4: RuntimeWarning: Channel names are not unique, found duplicates for: {'-', 'T8-P8'}. Applying running numbers for duplicates.\n",
      "  edf = mne.io.read_raw_edf(edf_filename,stim_channel=None)\n"
     ]
    },
    {
     "output_type": "stream",
     "name": "stdout",
     "text": [
      "(23, 921600)\n",
      "Extracting EDF parameters from d:\\salma\\UNI\\Sem8\\WS\\physionet.org\\files\\chbmit\\1.0.0\\chb22\\chb22_27.edf...\n",
      "EDF file detected\n",
      "Setting channel info structure...\n",
      "Creating raw.info structure...\n"
     ]
    },
    {
     "output_type": "stream",
     "name": "stderr",
     "text": [
      "<ipython-input-2-2015fd87c072>:4: RuntimeWarning: Channel names are not unique, found duplicates for: {'-', 'T8-P8'}. Applying running numbers for duplicates.\n",
      "  edf = mne.io.read_raw_edf(edf_filename,stim_channel=None)\n"
     ]
    },
    {
     "output_type": "stream",
     "name": "stdout",
     "text": [
      "(23, 921600)\n",
      "Extracting EDF parameters from d:\\salma\\UNI\\Sem8\\WS\\physionet.org\\files\\chbmit\\1.0.0\\chb22\\chb22_28.edf...\n",
      "EDF file detected\n",
      "Setting channel info structure...\n",
      "Creating raw.info structure...\n"
     ]
    },
    {
     "output_type": "stream",
     "name": "stderr",
     "text": [
      "<ipython-input-2-2015fd87c072>:4: RuntimeWarning: Channel names are not unique, found duplicates for: {'-', 'T8-P8'}. Applying running numbers for duplicates.\n",
      "  edf = mne.io.read_raw_edf(edf_filename,stim_channel=None)\n"
     ]
    },
    {
     "output_type": "stream",
     "name": "stdout",
     "text": [
      "(23, 921600)\n",
      "Extracting EDF parameters from d:\\salma\\UNI\\Sem8\\WS\\physionet.org\\files\\chbmit\\1.0.0\\chb22\\chb22_29.edf...\n",
      "EDF file detected\n",
      "Setting channel info structure...\n",
      "Creating raw.info structure...\n"
     ]
    },
    {
     "output_type": "stream",
     "name": "stderr",
     "text": [
      "<ipython-input-2-2015fd87c072>:4: RuntimeWarning: Channel names are not unique, found duplicates for: {'-', 'T8-P8'}. Applying running numbers for duplicates.\n",
      "  edf = mne.io.read_raw_edf(edf_filename,stim_channel=None)\n"
     ]
    },
    {
     "output_type": "stream",
     "name": "stdout",
     "text": [
      "(23, 921600)\n",
      "Extracting EDF parameters from d:\\salma\\UNI\\Sem8\\WS\\physionet.org\\files\\chbmit\\1.0.0\\chb22\\chb22_30.edf...\n",
      "EDF file detected\n",
      "Setting channel info structure...\n",
      "Creating raw.info structure...\n"
     ]
    },
    {
     "output_type": "stream",
     "name": "stderr",
     "text": [
      "<ipython-input-2-2015fd87c072>:4: RuntimeWarning: Channel names are not unique, found duplicates for: {'-', 'T8-P8'}. Applying running numbers for duplicates.\n",
      "  edf = mne.io.read_raw_edf(edf_filename,stim_channel=None)\n"
     ]
    },
    {
     "output_type": "stream",
     "name": "stdout",
     "text": [
      "(23, 921600)\n",
      "Extracting EDF parameters from d:\\salma\\UNI\\Sem8\\WS\\physionet.org\\files\\chbmit\\1.0.0\\chb22\\chb22_38.edf...\n",
      "EDF file detected\n",
      "Setting channel info structure...\n",
      "Creating raw.info structure...\n"
     ]
    },
    {
     "output_type": "stream",
     "name": "stderr",
     "text": [
      "<ipython-input-2-2015fd87c072>:4: RuntimeWarning: Channel names are not unique, found duplicates for: {'-', 'T8-P8'}. Applying running numbers for duplicates.\n",
      "  edf = mne.io.read_raw_edf(edf_filename,stim_channel=None)\n"
     ]
    },
    {
     "output_type": "stream",
     "name": "stdout",
     "text": [
      "(23, 921600)\n",
      "1263\n",
      "1335\n",
      "Extracting EDF parameters from d:\\salma\\UNI\\Sem8\\WS\\physionet.org\\files\\chbmit\\1.0.0\\chb22\\chb22_51.edf...\n",
      "EDF file detected\n",
      "Setting channel info structure...\n",
      "Creating raw.info structure...\n"
     ]
    },
    {
     "output_type": "stream",
     "name": "stderr",
     "text": [
      "<ipython-input-2-2015fd87c072>:4: RuntimeWarning: Channel names are not unique, found duplicates for: {'-', 'T8-P8'}. Applying running numbers for duplicates.\n",
      "  edf = mne.io.read_raw_edf(edf_filename,stim_channel=None)\n"
     ]
    },
    {
     "output_type": "stream",
     "name": "stdout",
     "text": [
      "(23, 921600)\n",
      "Extracting EDF parameters from d:\\salma\\UNI\\Sem8\\WS\\physionet.org\\files\\chbmit\\1.0.0\\chb22\\chb22_54.edf...\n",
      "EDF file detected\n",
      "Setting channel info structure...\n",
      "Creating raw.info structure...\n"
     ]
    },
    {
     "output_type": "stream",
     "name": "stderr",
     "text": [
      "<ipython-input-2-2015fd87c072>:4: RuntimeWarning: Channel names are not unique, found duplicates for: {'-', 'T8-P8'}. Applying running numbers for duplicates.\n",
      "  edf = mne.io.read_raw_edf(edf_filename,stim_channel=None)\n"
     ]
    },
    {
     "output_type": "stream",
     "name": "stdout",
     "text": [
      "(23, 921600)\n",
      "Extracting EDF parameters from d:\\salma\\UNI\\Sem8\\WS\\physionet.org\\files\\chbmit\\1.0.0\\chb22\\chb22_77.edf...\n",
      "EDF file detected\n",
      "Setting channel info structure...\n",
      "Creating raw.info structure...\n"
     ]
    },
    {
     "output_type": "stream",
     "name": "stderr",
     "text": [
      "<ipython-input-2-2015fd87c072>:4: RuntimeWarning: Channel names are not unique, found duplicates for: {'-', 'T8-P8'}. Applying running numbers for duplicates.\n",
      "  edf = mne.io.read_raw_edf(edf_filename,stim_channel=None)\n"
     ]
    },
    {
     "output_type": "stream",
     "name": "stdout",
     "text": [
      "(23, 921600)\n",
      "file: 0 , shape: (23, 921600) \n",
      "total number of windows: 718.0 , number of windows discarded: 0 \n",
      "file: 1 , shape: (23, 921600) \n",
      "total number of windows: 718.0 , number of windows discarded: 0 \n",
      "file: 2 , shape: (23, 921600) \n",
      "total number of windows: 718.0 , number of windows discarded: 0 \n",
      "file: 3 , shape: (23, 921600) \n",
      "total number of windows: 718.0 , number of windows discarded: 0 \n",
      "file: 4 , shape: (23, 921600) \n",
      "total number of windows: 718.0 , number of windows discarded: 0 \n",
      "file: 5 , shape: (23, 921600) \n",
      "total number of windows: 718.0 , number of windows discarded: 0 \n",
      "file: 6 , shape: (23, 921600) \n",
      "total number of windows: 718.0 , number of windows discarded: 0 \n",
      "file: 7 , shape: (23, 921600) \n",
      "total number of windows: 718.0 , number of windows discarded: 0 \n",
      "file: 8 , shape: (23, 921600) \n",
      "total number of windows: 718.0 , number of windows discarded: 0 \n",
      "file: 9 , shape: (23, 921600) \n",
      "total number of windows: 718.0 , number of windows discarded: 0 \n",
      "file: 10 , shape: (23, 924416) \n",
      "total number of windows: 721.0 , number of windows discarded: 0 \n",
      "file: 11 , shape: (23, 921600) \n",
      "total number of windows: 718.0 , number of windows discarded: 0 \n",
      "file: 12 , shape: (23, 921600) \n",
      "total number of windows: 718.0 , number of windows discarded: 0 \n",
      "file: 13 , shape: (23, 921600) \n",
      "total number of windows: 718.0 , number of windows discarded: 0 \n",
      "file: 14 , shape: (23, 921600) \n",
      "total number of windows: 718.0 , number of windows discarded: 0 \n",
      "file: 15 , shape: (23, 921600) \n",
      "total number of windows: 718.0 , number of windows discarded: 0 \n",
      "file: 16 , shape: (23, 921600) \n",
      "total number of windows: 718.0 , number of windows discarded: 6 \n",
      "file: 17 , shape: (23, 921600) \n",
      "total number of windows: 718.0 , number of windows discarded: 0 \n",
      "file: 18 , shape: (23, 921600) \n",
      "total number of windows: 718.0 , number of windows discarded: 0 \n",
      "file: 19 , shape: (23, 921600) \n",
      "total number of windows: 718.0 , number of windows discarded: 0 \n",
      "file: 20 , shape: (23, 921600) \n",
      "total number of windows: 718.0 , number of windows discarded: 0 \n",
      "file: 21 , shape: (23, 921600) \n",
      "total number of windows: 718.0 , number of windows discarded: 6 \n",
      "file: 22 , shape: (23, 921600) \n",
      "total number of windows: 718.0 , number of windows discarded: 0 \n",
      "file: 23 , shape: (23, 921600) \n",
      "total number of windows: 718.0 , number of windows discarded: 0 \n",
      "file: 24 , shape: (23, 921600) \n",
      "total number of windows: 718.0 , number of windows discarded: 0 \n",
      "file: 25 , shape: (23, 921600) \n",
      "total number of windows: 718.0 , number of windows discarded: 0 \n",
      "file: 26 , shape: (23, 921600) \n",
      "total number of windows: 718.0 , number of windows discarded: 0 \n",
      "file: 27 , shape: (23, 921600) \n",
      "total number of windows: 718.0 , number of windows discarded: 6 \n",
      "file: 28 , shape: (23, 921600) \n",
      "total number of windows: 718.0 , number of windows discarded: 0 \n",
      "file: 29 , shape: (23, 921600) \n",
      "total number of windows: 718.0 , number of windows discarded: 0 \n",
      "file: 30 , shape: (23, 921600) \n",
      "total number of windows: 718.0 , number of windows discarded: 0 \n",
      "Extracting EDF parameters from d:\\salma\\UNI\\Sem8\\WS\\physionet.org\\files\\chbmit\\1.0.0\\chb23\\chb23_06.edf...\n",
      "EDF file detected\n",
      "Setting channel info structure...\n",
      "Creating raw.info structure...\n"
     ]
    },
    {
     "output_type": "stream",
     "name": "stderr",
     "text": [
      "<ipython-input-2-2015fd87c072>:4: RuntimeWarning: Channel names are not unique, found duplicates for: {'T8-P8'}. Applying running numbers for duplicates.\n",
      "  edf = mne.io.read_raw_edf(edf_filename,stim_channel=None)\n"
     ]
    },
    {
     "output_type": "stream",
     "name": "stdout",
     "text": [
      "(23, 1916416)\n",
      "3962\n",
      "4075\n",
      "Extracting EDF parameters from d:\\salma\\UNI\\Sem8\\WS\\physionet.org\\files\\chbmit\\1.0.0\\chb23\\chb23_07.edf...\n",
      "EDF file detected\n",
      "Setting channel info structure...\n",
      "Creating raw.info structure...\n"
     ]
    },
    {
     "output_type": "stream",
     "name": "stderr",
     "text": [
      "<ipython-input-2-2015fd87c072>:4: RuntimeWarning: Channel names are not unique, found duplicates for: {'T8-P8'}. Applying running numbers for duplicates.\n",
      "  edf = mne.io.read_raw_edf(edf_filename,stim_channel=None)\n"
     ]
    },
    {
     "output_type": "stream",
     "name": "stdout",
     "text": [
      "(23, 655360)\n",
      "Extracting EDF parameters from d:\\salma\\UNI\\Sem8\\WS\\physionet.org\\files\\chbmit\\1.0.0\\chb23\\chb23_08.edf...\n",
      "EDF file detected\n",
      "Setting channel info structure...\n",
      "Creating raw.info structure...\n"
     ]
    },
    {
     "output_type": "stream",
     "name": "stderr",
     "text": [
      "<ipython-input-2-2015fd87c072>:4: RuntimeWarning: Channel names are not unique, found duplicates for: {'T8-P8'}. Applying running numbers for duplicates.\n",
      "  edf = mne.io.read_raw_edf(edf_filename,stim_channel=None)\n"
     ]
    },
    {
     "output_type": "stream",
     "name": "stdout",
     "text": [
      "(23, 2647552)\n",
      "325\n",
      "345\n",
      "5104\n",
      "5151\n",
      "Extracting EDF parameters from d:\\salma\\UNI\\Sem8\\WS\\physionet.org\\files\\chbmit\\1.0.0\\chb23\\chb23_09.edf...\n",
      "EDF file detected\n",
      "Setting channel info structure...\n",
      "Creating raw.info structure...\n"
     ]
    },
    {
     "output_type": "stream",
     "name": "stderr",
     "text": [
      "<ipython-input-2-2015fd87c072>:4: RuntimeWarning: Channel names are not unique, found duplicates for: {'T8-P8'}. Applying running numbers for duplicates.\n",
      "  edf = mne.io.read_raw_edf(edf_filename,stim_channel=None)\n"
     ]
    },
    {
     "output_type": "stream",
     "name": "stdout",
     "text": [
      "(23, 3693056)\n",
      "2589\n",
      "2660\n",
      "6885\n",
      "6947\n",
      "8505\n",
      "8532\n",
      "9580\n",
      "9664\n",
      "Extracting EDF parameters from d:\\salma\\UNI\\Sem8\\WS\\physionet.org\\files\\chbmit\\1.0.0\\chb23\\chb23_10.edf...\n",
      "EDF file detected\n",
      "Setting channel info structure...\n",
      "Creating raw.info structure...\n"
     ]
    },
    {
     "output_type": "stream",
     "name": "stderr",
     "text": [
      "<ipython-input-2-2015fd87c072>:4: RuntimeWarning: Channel names are not unique, found duplicates for: {'T8-P8'}. Applying running numbers for duplicates.\n",
      "  edf = mne.io.read_raw_edf(edf_filename,stim_channel=None)\n"
     ]
    },
    {
     "output_type": "stream",
     "name": "stdout",
     "text": [
      "(23, 3686400)\n",
      "Extracting EDF parameters from d:\\salma\\UNI\\Sem8\\WS\\physionet.org\\files\\chbmit\\1.0.0\\chb23\\chb23_16.edf...\n",
      "EDF file detected\n",
      "Setting channel info structure...\n",
      "Creating raw.info structure...\n"
     ]
    },
    {
     "output_type": "stream",
     "name": "stderr",
     "text": [
      "<ipython-input-2-2015fd87c072>:4: RuntimeWarning: Channel names are not unique, found duplicates for: {'T8-P8'}. Applying running numbers for duplicates.\n",
      "  edf = mne.io.read_raw_edf(edf_filename,stim_channel=None)\n"
     ]
    },
    {
     "output_type": "stream",
     "name": "stdout",
     "text": [
      "(23, 3686400)\n",
      "Extracting EDF parameters from d:\\salma\\UNI\\Sem8\\WS\\physionet.org\\files\\chbmit\\1.0.0\\chb23\\chb23_17.edf...\n",
      "EDF file detected\n",
      "Setting channel info structure...\n",
      "Creating raw.info structure...\n"
     ]
    },
    {
     "output_type": "stream",
     "name": "stderr",
     "text": [
      "<ipython-input-2-2015fd87c072>:4: RuntimeWarning: Channel names are not unique, found duplicates for: {'T8-P8'}. Applying running numbers for duplicates.\n",
      "  edf = mne.io.read_raw_edf(edf_filename,stim_channel=None)\n"
     ]
    },
    {
     "output_type": "stream",
     "name": "stdout",
     "text": [
      "(23, 3222272)\n",
      "Extracting EDF parameters from d:\\salma\\UNI\\Sem8\\WS\\physionet.org\\files\\chbmit\\1.0.0\\chb23\\chb23_19.edf...\n",
      "EDF file detected\n",
      "Setting channel info structure...\n",
      "Creating raw.info structure...\n"
     ]
    },
    {
     "output_type": "stream",
     "name": "stderr",
     "text": [
      "<ipython-input-2-2015fd87c072>:4: RuntimeWarning: Channel names are not unique, found duplicates for: {'T8-P8'}. Applying running numbers for duplicates.\n",
      "  edf = mne.io.read_raw_edf(edf_filename,stim_channel=None)\n"
     ]
    },
    {
     "output_type": "stream",
     "name": "stdout",
     "text": [
      "(23, 3686400)\n",
      "Extracting EDF parameters from d:\\salma\\UNI\\Sem8\\WS\\physionet.org\\files\\chbmit\\1.0.0\\chb23\\chb23_20.edf...\n",
      "EDF file detected\n",
      "Setting channel info structure...\n",
      "Creating raw.info structure...\n"
     ]
    },
    {
     "output_type": "stream",
     "name": "stderr",
     "text": [
      "<ipython-input-2-2015fd87c072>:4: RuntimeWarning: Channel names are not unique, found duplicates for: {'T8-P8'}. Applying running numbers for duplicates.\n",
      "  edf = mne.io.read_raw_edf(edf_filename,stim_channel=None)\n"
     ]
    },
    {
     "output_type": "stream",
     "name": "stdout",
     "text": [
      "(23, 1282304)\n",
      "file: 0 , shape: (23, 1916416) \n",
      "total number of windows: 1496.0 , number of windows discarded: 8 \n",
      "file: 1 , shape: (23, 655360) \n",
      "total number of windows: 510.0 , number of windows discarded: 0 \n",
      "file: 2 , shape: (23, 2647552) \n",
      "total number of windows: 2067.0 , number of windows discarded: 11 \n",
      "file: 3 , shape: (23, 3693056) \n",
      "total number of windows: 2884.0 , number of windows discarded: 18 \n",
      "file: 4 , shape: (23, 3686400) \n",
      "total number of windows: 2878.0 , number of windows discarded: 0 \n",
      "file: 5 , shape: (23, 3686400) \n",
      "total number of windows: 2878.0 , number of windows discarded: 0 \n",
      "file: 6 , shape: (23, 3222272) \n",
      "total number of windows: 2516.0 , number of windows discarded: 0 \n",
      "file: 7 , shape: (23, 3686400) \n",
      "total number of windows: 2878.0 , number of windows discarded: 0 \n",
      "file: 8 , shape: (23, 1282304) \n",
      "total number of windows: 1000.0 , number of windows discarded: 0 \n",
      "Extracting EDF parameters from d:\\salma\\UNI\\Sem8\\WS\\physionet.org\\files\\chbmit\\1.0.0\\chb24\\chb24_01.edf...\n",
      "EDF file detected\n",
      "Setting channel info structure...\n",
      "Creating raw.info structure...\n"
     ]
    },
    {
     "output_type": "stream",
     "name": "stderr",
     "text": [
      "<ipython-input-2-2015fd87c072>:4: RuntimeWarning: Channel names are not unique, found duplicates for: {'T8-P8'}. Applying running numbers for duplicates.\n",
      "  edf = mne.io.read_raw_edf(edf_filename,stim_channel=None)\n"
     ]
    },
    {
     "output_type": "stream",
     "name": "stdout",
     "text": [
      "(23, 921600)\n",
      "480\n",
      "505\n",
      "480\n",
      "505\n",
      "Extracting EDF parameters from d:\\salma\\UNI\\Sem8\\WS\\physionet.org\\files\\chbmit\\1.0.0\\chb24\\chb24_03.edf...\n",
      "EDF file detected\n",
      "Setting channel info structure...\n",
      "Creating raw.info structure...\n"
     ]
    },
    {
     "output_type": "stream",
     "name": "stderr",
     "text": [
      "<ipython-input-2-2015fd87c072>:4: RuntimeWarning: Channel names are not unique, found duplicates for: {'T8-P8'}. Applying running numbers for duplicates.\n",
      "  edf = mne.io.read_raw_edf(edf_filename,stim_channel=None)\n"
     ]
    },
    {
     "output_type": "stream",
     "name": "stdout",
     "text": [
      "(23, 921600)\n",
      "231\n",
      "260\n",
      "231\n",
      "260\n",
      "Extracting EDF parameters from d:\\salma\\UNI\\Sem8\\WS\\physionet.org\\files\\chbmit\\1.0.0\\chb24\\chb24_04.edf...\n",
      "EDF file detected\n",
      "Setting channel info structure...\n",
      "Creating raw.info structure...\n"
     ]
    },
    {
     "output_type": "stream",
     "name": "stderr",
     "text": [
      "<ipython-input-2-2015fd87c072>:4: RuntimeWarning: Channel names are not unique, found duplicates for: {'T8-P8'}. Applying running numbers for duplicates.\n",
      "  edf = mne.io.read_raw_edf(edf_filename,stim_channel=None)\n"
     ]
    },
    {
     "output_type": "stream",
     "name": "stdout",
     "text": [
      "(23, 921600)\n",
      "1088\n",
      "1120\n",
      "1088\n",
      "1120\n",
      "1088\n",
      "1120\n",
      "Extracting EDF parameters from d:\\salma\\UNI\\Sem8\\WS\\physionet.org\\files\\chbmit\\1.0.0\\chb24\\chb24_06.edf...\n",
      "EDF file detected\n",
      "Setting channel info structure...\n",
      "Creating raw.info structure...\n"
     ]
    },
    {
     "output_type": "stream",
     "name": "stderr",
     "text": [
      "<ipython-input-2-2015fd87c072>:4: RuntimeWarning: Channel names are not unique, found duplicates for: {'T8-P8'}. Applying running numbers for duplicates.\n",
      "  edf = mne.io.read_raw_edf(edf_filename,stim_channel=None)\n"
     ]
    },
    {
     "output_type": "stream",
     "name": "stdout",
     "text": [
      "(23, 921600)\n",
      "1229\n",
      "1253\n",
      "Extracting EDF parameters from d:\\salma\\UNI\\Sem8\\WS\\physionet.org\\files\\chbmit\\1.0.0\\chb24\\chb24_07.edf...\n",
      "EDF file detected\n",
      "Setting channel info structure...\n",
      "Creating raw.info structure...\n"
     ]
    },
    {
     "output_type": "stream",
     "name": "stderr",
     "text": [
      "<ipython-input-2-2015fd87c072>:4: RuntimeWarning: Channel names are not unique, found duplicates for: {'T8-P8'}. Applying running numbers for duplicates.\n",
      "  edf = mne.io.read_raw_edf(edf_filename,stim_channel=None)\n"
     ]
    },
    {
     "output_type": "stream",
     "name": "stdout",
     "text": [
      "(23, 921600)\n",
      "38\n",
      "60\n",
      "Extracting EDF parameters from d:\\salma\\UNI\\Sem8\\WS\\physionet.org\\files\\chbmit\\1.0.0\\chb24\\chb24_09.edf...\n",
      "EDF file detected\n",
      "Setting channel info structure...\n",
      "Creating raw.info structure...\n"
     ]
    },
    {
     "output_type": "stream",
     "name": "stderr",
     "text": [
      "<ipython-input-2-2015fd87c072>:4: RuntimeWarning: Channel names are not unique, found duplicates for: {'T8-P8'}. Applying running numbers for duplicates.\n",
      "  edf = mne.io.read_raw_edf(edf_filename,stim_channel=None)\n"
     ]
    },
    {
     "output_type": "stream",
     "name": "stdout",
     "text": [
      "(23, 921600)\n",
      "1745\n",
      "1764\n",
      "Extracting EDF parameters from d:\\salma\\UNI\\Sem8\\WS\\physionet.org\\files\\chbmit\\1.0.0\\chb24\\chb24_11.edf...\n",
      "EDF file detected\n",
      "Setting channel info structure...\n",
      "Creating raw.info structure...\n"
     ]
    },
    {
     "output_type": "stream",
     "name": "stderr",
     "text": [
      "<ipython-input-2-2015fd87c072>:4: RuntimeWarning: Channel names are not unique, found duplicates for: {'T8-P8'}. Applying running numbers for duplicates.\n",
      "  edf = mne.io.read_raw_edf(edf_filename,stim_channel=None)\n"
     ]
    },
    {
     "output_type": "stream",
     "name": "stdout",
     "text": [
      "(23, 921600)\n",
      "3527\n",
      "3597\n",
      "Extracting EDF parameters from d:\\salma\\UNI\\Sem8\\WS\\physionet.org\\files\\chbmit\\1.0.0\\chb24\\chb24_13.edf...\n",
      "EDF file detected\n",
      "Setting channel info structure...\n",
      "Creating raw.info structure...\n"
     ]
    },
    {
     "output_type": "stream",
     "name": "stderr",
     "text": [
      "<ipython-input-2-2015fd87c072>:4: RuntimeWarning: Channel names are not unique, found duplicates for: {'T8-P8'}. Applying running numbers for duplicates.\n",
      "  edf = mne.io.read_raw_edf(edf_filename,stim_channel=None)\n"
     ]
    },
    {
     "output_type": "stream",
     "name": "stdout",
     "text": [
      "(23, 921600)\n",
      "3288\n",
      "3304\n",
      "Extracting EDF parameters from d:\\salma\\UNI\\Sem8\\WS\\physionet.org\\files\\chbmit\\1.0.0\\chb24\\chb24_14.edf...\n",
      "EDF file detected\n",
      "Setting channel info structure...\n",
      "Creating raw.info structure...\n"
     ]
    },
    {
     "output_type": "stream",
     "name": "stderr",
     "text": [
      "<ipython-input-2-2015fd87c072>:4: RuntimeWarning: Channel names are not unique, found duplicates for: {'T8-P8'}. Applying running numbers for duplicates.\n",
      "  edf = mne.io.read_raw_edf(edf_filename,stim_channel=None)\n"
     ]
    },
    {
     "output_type": "stream",
     "name": "stdout",
     "text": [
      "(23, 921600)\n",
      "1939\n",
      "1966\n",
      "Extracting EDF parameters from d:\\salma\\UNI\\Sem8\\WS\\physionet.org\\files\\chbmit\\1.0.0\\chb24\\chb24_15.edf...\n",
      "EDF file detected\n",
      "Setting channel info structure...\n",
      "Creating raw.info structure...\n"
     ]
    },
    {
     "output_type": "stream",
     "name": "stderr",
     "text": [
      "<ipython-input-2-2015fd87c072>:4: RuntimeWarning: Channel names are not unique, found duplicates for: {'T8-P8'}. Applying running numbers for duplicates.\n",
      "  edf = mne.io.read_raw_edf(edf_filename,stim_channel=None)\n"
     ]
    },
    {
     "output_type": "stream",
     "name": "stdout",
     "text": [
      "(23, 921600)\n",
      "3552\n",
      "3569\n",
      "Extracting EDF parameters from d:\\salma\\UNI\\Sem8\\WS\\physionet.org\\files\\chbmit\\1.0.0\\chb24\\chb24_17.edf...\n",
      "EDF file detected\n",
      "Setting channel info structure...\n",
      "Creating raw.info structure...\n"
     ]
    },
    {
     "output_type": "stream",
     "name": "stderr",
     "text": [
      "<ipython-input-2-2015fd87c072>:4: RuntimeWarning: Channel names are not unique, found duplicates for: {'T8-P8'}. Applying running numbers for duplicates.\n",
      "  edf = mne.io.read_raw_edf(edf_filename,stim_channel=None)\n"
     ]
    },
    {
     "output_type": "stream",
     "name": "stdout",
     "text": [
      "(23, 921600)\n",
      "3515\n",
      "3581\n",
      "Extracting EDF parameters from d:\\salma\\UNI\\Sem8\\WS\\physionet.org\\files\\chbmit\\1.0.0\\chb24\\chb24_21.edf...\n",
      "EDF file detected\n",
      "Setting channel info structure...\n",
      "Creating raw.info structure...\n"
     ]
    },
    {
     "output_type": "stream",
     "name": "stderr",
     "text": [
      "<ipython-input-2-2015fd87c072>:4: RuntimeWarning: Channel names are not unique, found duplicates for: {'T8-P8'}. Applying running numbers for duplicates.\n",
      "  edf = mne.io.read_raw_edf(edf_filename,stim_channel=None)\n"
     ]
    },
    {
     "output_type": "stream",
     "name": "stdout",
     "text": [
      "(23, 921600)\n",
      "2804\n",
      "2872\n",
      "file: 0 , shape: (23, 921600) \n",
      "total number of windows: 718.0 , number of windows discarded: 3 \n",
      "file: 1 , shape: (23, 921600) \n",
      "total number of windows: 718.0 , number of windows discarded: 4 \n",
      "file: 2 , shape: (23, 921600) \n",
      "total number of windows: 718.0 , number of windows discarded: 6 \n",
      "file: 3 , shape: (23, 921600) \n",
      "total number of windows: 718.0 , number of windows discarded: 6 \n",
      "file: 4 , shape: (23, 921600) \n",
      "total number of windows: 718.0 , number of windows discarded: 4 \n",
      "file: 5 , shape: (23, 921600) \n",
      "total number of windows: 718.0 , number of windows discarded: 3 \n",
      "file: 6 , shape: (23, 921600) \n",
      "total number of windows: 718.0 , number of windows discarded: 4 \n",
      "file: 7 , shape: (23, 921600) \n",
      "total number of windows: 718.0 , number of windows discarded: 5 \n",
      "file: 8 , shape: (23, 921600) \n",
      "total number of windows: 718.0 , number of windows discarded: 6 \n",
      "file: 9 , shape: (23, 921600) \n",
      "total number of windows: 718.0 , number of windows discarded: 5 \n",
      "file: 10 , shape: (23, 921600) \n",
      "total number of windows: 718.0 , number of windows discarded: 4 \n",
      "file: 11 , shape: (23, 921600) \n",
      "total number of windows: 718.0 , number of windows discarded: 6 \n"
     ]
    }
   ],
   "metadata": {
    "tags": [
     "outputPrepend"
    ]
   }
  },
  {
   "cell_type": "markdown",
   "source": [
    "## 10sec_notwelch"
   ],
   "metadata": {}
  },
  {
   "cell_type": "code",
   "execution_count": 17,
   "source": [
    "patient_no=1#################\r\n",
    "\r\n",
    "for patient_no in (2,4,5,9,11,12,15,17):\r\n",
    "    subject_id = patient_no\r\n",
    "    base_path = \"physionet.org/files/chbmit/1.0.0/\"\r\n",
    "    edf_file_names = sorted(glob.glob(os.path.join(base_path, \"chb{:02d}/*.edf\".format(subject_id))))\r\n",
    "    summary_file = os.path.join(base_path, \"chb{:02d}/chb{:02d}-summary.txt\".format(subject_id, subject_id))\r\n",
    "\r\n",
    "\r\n",
    "    summary_content = open(summary_file,'r').read()\r\n",
    "\r\n",
    "    X_all = []\r\n",
    "    y_all = []\r\n",
    "    for edf_file_name in edf_file_names:\r\n",
    "        X, y = extract_data_and_labels(edf_file_name, summary_content)\r\n",
    "        X_all.append(X)\r\n",
    "        y_all.append(y)\r\n",
    "\r\n",
    "    window_size=int(256*10)\r\n",
    "    for filno in range(0,len(X_all)):###################\r\n",
    "        recording=X_all[filno]####################\r\n",
    "        discarded=0\r\n",
    "        wins=recording.shape[1]//window_size\r\n",
    "        print('file: {} , shape: {} '.format(filno,recording.shape))\r\n",
    "        y=label_series(y_all[filno], 10)#############################33333\r\n",
    "        datapoints_in=[] #for each file\r\n",
    "        targets=[]\r\n",
    "        i=0\r\n",
    "        while i+window_size<recording.shape[1]:\r\n",
    "            # n_channels=recording.shape[0]\r\n",
    "            n_channels=23\r\n",
    "            features=np.zeros(n_channels*9+1)\r\n",
    "            features[-1]=patient_no\r\n",
    "            recording.shape\r\n",
    "            window=time_differential(recording[:,int(i):int(i+window_size)])\r\n",
    "            # window=recording[:,int(i):int(i+window_size)]\r\n",
    "            freqs, psd = signal.periodogram(window, fs=256)\r\n",
    "            # features[-2]=psd.sum()\r\n",
    "            # features[-3]=np.sqrt(np.mean(psd**2))\r\n",
    "            #removing electric noise\r\n",
    "            # psd[:,57:64]=0\r\n",
    "            # psd[:,117:124]=0\r\n",
    "            target_range=np.array(y[int(i):int(i+window_size)])\r\n",
    "            for chi in range (0, n_channels):\r\n",
    "                set_frequency(freqs, psd[chi],57,64, 0)\r\n",
    "                set_frequency(freqs, psd[chi],117,124, 0)\r\n",
    "                # alpha=np.sum(psd[chi,8:14])\r\n",
    "                alpha =extract_frequency(freqs, psd[chi],8,14)\r\n",
    "                # beta=np.sum(psd[chi,13:31])\r\n",
    "                beta = extract_frequency(freqs, psd[chi],13,31)\r\n",
    "                # delta=np.sum(psd[chi,1:5])\r\n",
    "                delta =extract_frequency(freqs, psd[chi],0.5,5)\r\n",
    "                # theta=np.sum(psd[chi, 4:9])\r\n",
    "                theta =extract_frequency(freqs, psd[chi],4,9)\r\n",
    "                # gamma0=np.sum(psd[chi,30:48])\r\n",
    "                gamma0=extract_frequency(freqs, psd[chi],30,48)\r\n",
    "                # gamma1=np.sum(psd[chi,53:76])\r\n",
    "                gamma1=extract_frequency(freqs, psd[chi],53,76)\r\n",
    "                # gamma2=np.sum(psd[chi,75:98])\r\n",
    "                gamma2=extract_frequency(freqs, psd[chi],75,98)\r\n",
    "                # gamma3=np.sum(psd[chi,103:])\r\n",
    "                gamma3=extract_frequency(freqs, psd[chi],103,-1)\r\n",
    "                features[chi*9:(1+chi)*9-1]=[alpha,beta,delta,theta,gamma0,gamma1,gamma2,gamma3]\r\n",
    "                # total_power=np.sum(features[chi*9:(1+chi)*9-1])\r\n",
    "                total_power=np.sum(psd[chi])\r\n",
    "                features[chi*9:(1+chi)*9-1] /= total_power\r\n",
    "                features[(1+chi)*9-1]=total_power\r\n",
    "            if np.all(target_range == target_range[0]):\r\n",
    "                target=target_range[0]\r\n",
    "                targets.append(target)\r\n",
    "                datapoints_in.append(features)\r\n",
    "            else:\r\n",
    "                discarded+=1               \r\n",
    "            i+=(window_size/2)\r\n",
    "        # dp=np.array(datapoints_in)\r\n",
    "        # D:\\salma\\UNI\\Sem8\\WS\\unnormalized\r\n",
    "        \r\n",
    "        save(os.path.join('10sec_notwelch','data_chb{:02d}/features_{}_{:02d}'.format(patient_no, patient_no, filno)), datapoints_in)\r\n",
    "        save(os.path.join('10sec_notwelch','data_chb{:02d}/targets_{}_{:02d}'.format(patient_no,patient_no, filno)) , targets)\r\n",
    "        print('total number of windows: {} , number of windows discarded: {} '.format(i/(window_size/2), discarded))\r\n",
    "        \r\n",
    "\r\n"
   ],
   "outputs": [
    {
     "output_type": "stream",
     "name": "stdout",
     "text": [
      "timeWarning: Scaling factor is not defined in following channels:\n",
      "--0, --1, --2, --3, --4, --5\n",
      "  edf = mne.io.read_raw_edf(edf_filename,stim_channel=None)\n",
      "(23, 921600)\n",
      "263\n",
      "318\n",
      "843\n",
      "1020\n",
      "1524\n",
      "1595\n",
      "2179\n",
      "2250\n",
      "3428\n",
      "3460\n",
      "Extracting EDF parameters from d:\\salma\\UNI\\Sem8\\WS\\physionet.org\\files\\chbmit\\1.0.0\\chb15\\chb15_61.edf...\n",
      "EDF file detected\n",
      "Setting channel info structure...\n",
      "Creating raw.info structure...\n",
      "<ipython-input-3-0a23d589a01a>:4: RuntimeWarning: Channel names are not unique, found duplicates for: {'T8-P8', '-'}. Applying running numbers for duplicates.\n",
      "  edf = mne.io.read_raw_edf(edf_filename,stim_channel=None)\n",
      "<ipython-input-3-0a23d589a01a>:4: RuntimeWarning: Scaling factor is not defined in following channels:\n",
      "--0, --1, --2, --3, --4, --5\n",
      "  edf = mne.io.read_raw_edf(edf_filename,stim_channel=None)\n",
      "(23, 921600)\n",
      "Extracting EDF parameters from d:\\salma\\UNI\\Sem8\\WS\\physionet.org\\files\\chbmit\\1.0.0\\chb15\\chb15_62.edf...\n",
      "EDF file detected\n",
      "Setting channel info structure...\n",
      "Creating raw.info structure...\n",
      "<ipython-input-3-0a23d589a01a>:4: RuntimeWarning: Channel names are not unique, found duplicates for: {'T8-P8', '-'}. Applying running numbers for duplicates.\n",
      "  edf = mne.io.read_raw_edf(edf_filename,stim_channel=None)\n",
      "<ipython-input-3-0a23d589a01a>:4: RuntimeWarning: Scaling factor is not defined in following channels:\n",
      "--0, --1, --2, --3, --4, --5\n",
      "  edf = mne.io.read_raw_edf(edf_filename,stim_channel=None)\n",
      "(23, 921600)\n",
      "751\n",
      "859\n",
      "Extracting EDF parameters from d:\\salma\\UNI\\Sem8\\WS\\physionet.org\\files\\chbmit\\1.0.0\\chb15\\chb15_63.edf...\n",
      "EDF file detected\n",
      "Setting channel info structure...\n",
      "Creating raw.info structure...\n",
      "<ipython-input-3-0a23d589a01a>:4: RuntimeWarning: Channel names are not unique, found duplicates for: {'T8-P8', '-'}. Applying running numbers for duplicates.\n",
      "  edf = mne.io.read_raw_edf(edf_filename,stim_channel=None)\n",
      "<ipython-input-3-0a23d589a01a>:4: RuntimeWarning: Scaling factor is not defined in following channels:\n",
      "--0, --1, --2, --3, --4, --5\n",
      "  edf = mne.io.read_raw_edf(edf_filename,stim_channel=None)\n",
      "(23, 921600)\n",
      "file: 0 , shape: (23, 921600) \n",
      "total number of windows: 718.0 , number of windows discarded: 0 \n",
      "file: 1 , shape: (23, 921600) \n",
      "total number of windows: 718.0 , number of windows discarded: 0 \n",
      "file: 2 , shape: (23, 921600) \n",
      "total number of windows: 718.0 , number of windows discarded: 0 \n",
      "file: 3 , shape: (23, 921600) \n",
      "total number of windows: 718.0 , number of windows discarded: 0 \n",
      "file: 4 , shape: (23, 921600) \n",
      "total number of windows: 718.0 , number of windows discarded: 4 \n",
      "file: 5 , shape: (23, 921600) \n",
      "total number of windows: 718.0 , number of windows discarded: 0 \n",
      "file: 6 , shape: (23, 921600) \n",
      "total number of windows: 718.0 , number of windows discarded: 0 \n",
      "file: 7 , shape: (23, 921600) \n",
      "total number of windows: 718.0 , number of windows discarded: 0 \n",
      "file: 8 , shape: (23, 921600) \n",
      "total number of windows: 718.0 , number of windows discarded: 6 \n",
      "file: 9 , shape: (23, 921600) \n",
      "total number of windows: 718.0 , number of windows discarded: 0 \n",
      "file: 10 , shape: (23, 921600) \n",
      "total number of windows: 718.0 , number of windows discarded: 0 \n",
      "file: 11 , shape: (23, 921600) \n",
      "total number of windows: 718.0 , number of windows discarded: 0 \n",
      "file: 12 , shape: (23, 921600) \n",
      "total number of windows: 718.0 , number of windows discarded: 0 \n",
      "file: 13 , shape: (23, 921600) \n",
      "total number of windows: 718.0 , number of windows discarded: 6 \n",
      "file: 14 , shape: (23, 921600) \n",
      "total number of windows: 718.0 , number of windows discarded: 0 \n",
      "file: 15 , shape: (23, 921600) \n",
      "total number of windows: 718.0 , number of windows discarded: 4 \n",
      "file: 16 , shape: (23, 921600) \n",
      "total number of windows: 718.0 , number of windows discarded: 0 \n",
      "file: 17 , shape: (23, 921600) \n",
      "total number of windows: 718.0 , number of windows discarded: 6 \n",
      "file: 18 , shape: (23, 921600) \n",
      "total number of windows: 718.0 , number of windows discarded: 4 \n",
      "file: 19 , shape: (23, 921600) \n",
      "total number of windows: 718.0 , number of windows discarded: 0 \n",
      "file: 20 , shape: (23, 921600) \n",
      "total number of windows: 718.0 , number of windows discarded: 6 \n",
      "file: 21 , shape: (23, 921600) \n",
      "total number of windows: 718.0 , number of windows discarded: 0 \n",
      "file: 22 , shape: (23, 921600) \n",
      "total number of windows: 718.0 , number of windows discarded: 0 \n",
      "file: 23 , shape: (23, 921600) \n",
      "total number of windows: 718.0 , number of windows discarded: 6 \n",
      "file: 24 , shape: (23, 921600) \n",
      "total number of windows: 718.0 , number of windows discarded: 0 \n",
      "file: 25 , shape: (23, 921600) \n",
      "total number of windows: 718.0 , number of windows discarded: 0 \n",
      "file: 26 , shape: (23, 921600) \n",
      "total number of windows: 718.0 , number of windows discarded: 0 \n",
      "file: 27 , shape: (23, 921600) \n",
      "total number of windows: 718.0 , number of windows discarded: 0 \n",
      "file: 28 , shape: (23, 921600) \n",
      "total number of windows: 718.0 , number of windows discarded: 17 \n",
      "file: 29 , shape: (23, 921600) \n",
      "total number of windows: 718.0 , number of windows discarded: 0 \n",
      "file: 30 , shape: (23, 921600) \n",
      "total number of windows: 718.0 , number of windows discarded: 5 \n",
      "file: 31 , shape: (23, 928000) \n",
      "total number of windows: 723.0 , number of windows discarded: 6 \n",
      "file: 32 , shape: (23, 921600) \n",
      "total number of windows: 718.0 , number of windows discarded: 0 \n",
      "file: 33 , shape: (23, 921600) \n",
      "total number of windows: 718.0 , number of windows discarded: 0 \n",
      "file: 34 , shape: (23, 923904) \n",
      "total number of windows: 720.0 , number of windows discarded: 5 \n",
      "file: 35 , shape: (23, 921600) \n",
      "total number of windows: 718.0 , number of windows discarded: 22 \n",
      "file: 36 , shape: (23, 921600) \n",
      "total number of windows: 718.0 , number of windows discarded: 0 \n",
      "file: 37 , shape: (23, 921600) \n",
      "total number of windows: 718.0 , number of windows discarded: 5 \n",
      "file: 38 , shape: (23, 921600) \n",
      "total number of windows: 718.0 , number of windows discarded: 0 \n",
      "Extracting EDF parameters from d:\\salma\\UNI\\Sem8\\WS\\physionet.org\\files\\chbmit\\1.0.0\\chb17\\chb17a_03.edf...\n",
      "EDF file detected\n",
      "Setting channel info structure...\n",
      "Creating raw.info structure...\n",
      "<ipython-input-3-0a23d589a01a>:4: RuntimeWarning: Channel names are not unique, found duplicates for: {'T8-P8', '-'}. Applying running numbers for duplicates.\n",
      "  edf = mne.io.read_raw_edf(edf_filename,stim_channel=None)\n",
      "<ipython-input-3-0a23d589a01a>:4: RuntimeWarning: Scaling factor is not defined in following channels:\n",
      "--0, --1, --2, --3, --4\n",
      "  edf = mne.io.read_raw_edf(edf_filename,stim_channel=None)\n",
      "(23, 921600)\n",
      "2282\n",
      "2372\n",
      "Extracting EDF parameters from d:\\salma\\UNI\\Sem8\\WS\\physionet.org\\files\\chbmit\\1.0.0\\chb17\\chb17a_04.edf...\n",
      "EDF file detected\n",
      "Setting channel info structure...\n",
      "Creating raw.info structure...\n",
      "<ipython-input-3-0a23d589a01a>:4: RuntimeWarning: Channel names are not unique, found duplicates for: {'T8-P8', '-'}. Applying running numbers for duplicates.\n",
      "  edf = mne.io.read_raw_edf(edf_filename,stim_channel=None)\n",
      "<ipython-input-3-0a23d589a01a>:4: RuntimeWarning: Scaling factor is not defined in following channels:\n",
      "--0, --1, --2, --3, --4\n",
      "  edf = mne.io.read_raw_edf(edf_filename,stim_channel=None)\n",
      "(23, 921600)\n",
      "3025\n",
      "3140\n",
      "Extracting EDF parameters from d:\\salma\\UNI\\Sem8\\WS\\physionet.org\\files\\chbmit\\1.0.0\\chb17\\chb17a_05.edf...\n",
      "EDF file detected\n",
      "Setting channel info structure...\n",
      "Creating raw.info structure...\n",
      "<ipython-input-3-0a23d589a01a>:4: RuntimeWarning: Channel names are not unique, found duplicates for: {'T8-P8', '-'}. Applying running numbers for duplicates.\n",
      "  edf = mne.io.read_raw_edf(edf_filename,stim_channel=None)\n",
      "<ipython-input-3-0a23d589a01a>:4: RuntimeWarning: Scaling factor is not defined in following channels:\n",
      "--0, --1, --2, --3, --4\n",
      "  edf = mne.io.read_raw_edf(edf_filename,stim_channel=None)\n",
      "(23, 921600)\n",
      "Extracting EDF parameters from d:\\salma\\UNI\\Sem8\\WS\\physionet.org\\files\\chbmit\\1.0.0\\chb17\\chb17a_06.edf...\n",
      "EDF file detected\n",
      "Setting channel info structure...\n",
      "Creating raw.info structure...\n",
      "<ipython-input-3-0a23d589a01a>:4: RuntimeWarning: Channel names are not unique, found duplicates for: {'T8-P8', '-'}. Applying running numbers for duplicates.\n",
      "  edf = mne.io.read_raw_edf(edf_filename,stim_channel=None)\n",
      "<ipython-input-3-0a23d589a01a>:4: RuntimeWarning: Scaling factor is not defined in following channels:\n",
      "--0, --1, --2, --3, --4\n",
      "  edf = mne.io.read_raw_edf(edf_filename,stim_channel=None)\n",
      "(23, 921600)\n",
      "Extracting EDF parameters from d:\\salma\\UNI\\Sem8\\WS\\physionet.org\\files\\chbmit\\1.0.0\\chb17\\chb17a_08.edf...\n",
      "EDF file detected\n",
      "Setting channel info structure...\n",
      "Creating raw.info structure...\n",
      "<ipython-input-3-0a23d589a01a>:4: RuntimeWarning: Channel names are not unique, found duplicates for: {'T8-P8', '-'}. Applying running numbers for duplicates.\n",
      "  edf = mne.io.read_raw_edf(edf_filename,stim_channel=None)\n",
      "<ipython-input-3-0a23d589a01a>:4: RuntimeWarning: Scaling factor is not defined in following channels:\n",
      "--0, --1, --2, --3, --4\n",
      "  edf = mne.io.read_raw_edf(edf_filename,stim_channel=None)\n",
      "(23, 921600)\n",
      "Extracting EDF parameters from d:\\salma\\UNI\\Sem8\\WS\\physionet.org\\files\\chbmit\\1.0.0\\chb17\\chb17b_57.edf...\n",
      "EDF file detected\n",
      "Setting channel info structure...\n",
      "Creating raw.info structure...\n",
      "<ipython-input-3-0a23d589a01a>:4: RuntimeWarning: Channel names are not unique, found duplicates for: {'T8-P8', '-'}. Applying running numbers for duplicates.\n",
      "  edf = mne.io.read_raw_edf(edf_filename,stim_channel=None)\n",
      "<ipython-input-3-0a23d589a01a>:4: RuntimeWarning: Scaling factor is not defined in following channels:\n",
      "--0, --1, --2, --3, --4\n",
      "  edf = mne.io.read_raw_edf(edf_filename,stim_channel=None)\n",
      "(23, 921600)\n",
      "Extracting EDF parameters from d:\\salma\\UNI\\Sem8\\WS\\physionet.org\\files\\chbmit\\1.0.0\\chb17\\chb17b_58.edf...\n",
      "EDF file detected\n",
      "Setting channel info structure...\n",
      "Creating raw.info structure...\n",
      "<ipython-input-3-0a23d589a01a>:4: RuntimeWarning: Channel names are not unique, found duplicates for: {'T8-P8', '-'}. Applying running numbers for duplicates.\n",
      "  edf = mne.io.read_raw_edf(edf_filename,stim_channel=None)\n",
      "<ipython-input-3-0a23d589a01a>:4: RuntimeWarning: Scaling factor is not defined in following channels:\n",
      "--0, --1, --2, --3, --4\n",
      "  edf = mne.io.read_raw_edf(edf_filename,stim_channel=None)\n",
      "(23, 921600)\n",
      "Extracting EDF parameters from d:\\salma\\UNI\\Sem8\\WS\\physionet.org\\files\\chbmit\\1.0.0\\chb17\\chb17b_59.edf...\n",
      "EDF file detected\n",
      "Setting channel info structure...\n",
      "Creating raw.info structure...\n",
      "<ipython-input-3-0a23d589a01a>:4: RuntimeWarning: Channel names are not unique, found duplicates for: {'T8-P8', '-'}. Applying running numbers for duplicates.\n",
      "  edf = mne.io.read_raw_edf(edf_filename,stim_channel=None)\n",
      "<ipython-input-3-0a23d589a01a>:4: RuntimeWarning: Scaling factor is not defined in following channels:\n",
      "--0, --1, --2, --3, --4\n",
      "  edf = mne.io.read_raw_edf(edf_filename,stim_channel=None)\n",
      "(23, 921600)\n",
      "Extracting EDF parameters from d:\\salma\\UNI\\Sem8\\WS\\physionet.org\\files\\chbmit\\1.0.0\\chb17\\chb17b_60.edf...\n",
      "EDF file detected\n",
      "Setting channel info structure...\n",
      "Creating raw.info structure...\n",
      "<ipython-input-3-0a23d589a01a>:4: RuntimeWarning: Channel names are not unique, found duplicates for: {'T8-P8', '-'}. Applying running numbers for duplicates.\n",
      "  edf = mne.io.read_raw_edf(edf_filename,stim_channel=None)\n",
      "<ipython-input-3-0a23d589a01a>:4: RuntimeWarning: Scaling factor is not defined in following channels:\n",
      "--0, --1, --2, --3, --4\n",
      "  edf = mne.io.read_raw_edf(edf_filename,stim_channel=None)\n",
      "(23, 921600)\n",
      "Extracting EDF parameters from d:\\salma\\UNI\\Sem8\\WS\\physionet.org\\files\\chbmit\\1.0.0\\chb17\\chb17b_63.edf...\n",
      "EDF file detected\n",
      "Setting channel info structure...\n",
      "Creating raw.info structure...\n",
      "<ipython-input-3-0a23d589a01a>:4: RuntimeWarning: Channel names are not unique, found duplicates for: {'T8-P8', '-'}. Applying running numbers for duplicates.\n",
      "  edf = mne.io.read_raw_edf(edf_filename,stim_channel=None)\n",
      "<ipython-input-3-0a23d589a01a>:4: RuntimeWarning: Scaling factor is not defined in following channels:\n",
      "--0, --1, --2, --3, --4\n",
      "  edf = mne.io.read_raw_edf(edf_filename,stim_channel=None)\n",
      "(23, 927744)\n",
      "3136\n",
      "3224\n",
      "Extracting EDF parameters from d:\\salma\\UNI\\Sem8\\WS\\physionet.org\\files\\chbmit\\1.0.0\\chb17\\chb17b_67.edf...\n",
      "EDF file detected\n",
      "Setting channel info structure...\n",
      "Creating raw.info structure...\n",
      "<ipython-input-3-0a23d589a01a>:4: RuntimeWarning: Channel names are not unique, found duplicates for: {'T8-P8', '-'}. Applying running numbers for duplicates.\n",
      "  edf = mne.io.read_raw_edf(edf_filename,stim_channel=None)\n",
      "<ipython-input-3-0a23d589a01a>:4: RuntimeWarning: Scaling factor is not defined in following channels:\n",
      "--0, --1, --2, --3, --4\n",
      "  edf = mne.io.read_raw_edf(edf_filename,stim_channel=None)\n",
      "(23, 921600)\n",
      "Extracting EDF parameters from d:\\salma\\UNI\\Sem8\\WS\\physionet.org\\files\\chbmit\\1.0.0\\chb17\\chb17b_68.edf...\n",
      "EDF file detected\n",
      "Setting channel info structure...\n",
      "Creating raw.info structure...\n",
      "<ipython-input-3-0a23d589a01a>:4: RuntimeWarning: Channel names are not unique, found duplicates for: {'T8-P8', '-'}. Applying running numbers for duplicates.\n",
      "  edf = mne.io.read_raw_edf(edf_filename,stim_channel=None)\n",
      "<ipython-input-3-0a23d589a01a>:4: RuntimeWarning: Scaling factor is not defined in following channels:\n",
      "--0, --1, --2, --3, --4\n",
      "  edf = mne.io.read_raw_edf(edf_filename,stim_channel=None)\n",
      "(23, 921600)\n",
      "Extracting EDF parameters from d:\\salma\\UNI\\Sem8\\WS\\physionet.org\\files\\chbmit\\1.0.0\\chb17\\chb17b_69.edf...\n",
      "EDF file detected\n",
      "Setting channel info structure...\n",
      "Creating raw.info structure...\n",
      "<ipython-input-3-0a23d589a01a>:4: RuntimeWarning: Channel names are not unique, found duplicates for: {'T8-P8', '-'}. Applying running numbers for duplicates.\n",
      "  edf = mne.io.read_raw_edf(edf_filename,stim_channel=None)\n",
      "<ipython-input-3-0a23d589a01a>:4: RuntimeWarning: Scaling factor is not defined in following channels:\n",
      "--0, --1, --2, --3, --4\n",
      "  edf = mne.io.read_raw_edf(edf_filename,stim_channel=None)\n",
      "(23, 921600)\n",
      "Extracting EDF parameters from d:\\salma\\UNI\\Sem8\\WS\\physionet.org\\files\\chbmit\\1.0.0\\chb17\\chb17c_02.edf...\n",
      "EDF file detected\n",
      "Setting channel info structure...\n",
      "Creating raw.info structure...\n",
      "<ipython-input-3-0a23d589a01a>:4: RuntimeWarning: Channel names are not unique, found duplicates for: {'T8-P8', '-'}. Applying running numbers for duplicates.\n",
      "  edf = mne.io.read_raw_edf(edf_filename,stim_channel=None)\n",
      "<ipython-input-3-0a23d589a01a>:4: RuntimeWarning: Scaling factor is not defined in following channels:\n",
      "--0, --1, --2, --3, --4\n",
      "  edf = mne.io.read_raw_edf(edf_filename,stim_channel=None)\n",
      "(23, 921600)\n",
      "Extracting EDF parameters from d:\\salma\\UNI\\Sem8\\WS\\physionet.org\\files\\chbmit\\1.0.0\\chb17\\chb17c_03.edf...\n",
      "EDF file detected\n",
      "Setting channel info structure...\n",
      "Creating raw.info structure...\n",
      "<ipython-input-3-0a23d589a01a>:4: RuntimeWarning: Channel names are not unique, found duplicates for: {'T8-P8', '-'}. Applying running numbers for duplicates.\n",
      "  edf = mne.io.read_raw_edf(edf_filename,stim_channel=None)\n",
      "<ipython-input-3-0a23d589a01a>:4: RuntimeWarning: Scaling factor is not defined in following channels:\n",
      "--0, --1, --2, --3, --4\n",
      "  edf = mne.io.read_raw_edf(edf_filename,stim_channel=None)\n",
      "(23, 921600)\n",
      "Extracting EDF parameters from d:\\salma\\UNI\\Sem8\\WS\\physionet.org\\files\\chbmit\\1.0.0\\chb17\\chb17c_04.edf...\n",
      "EDF file detected\n",
      "Setting channel info structure...\n",
      "Creating raw.info structure...\n",
      "<ipython-input-3-0a23d589a01a>:4: RuntimeWarning: Channel names are not unique, found duplicates for: {'T8-P8', '-'}. Applying running numbers for duplicates.\n",
      "  edf = mne.io.read_raw_edf(edf_filename,stim_channel=None)\n",
      "<ipython-input-3-0a23d589a01a>:4: RuntimeWarning: Scaling factor is not defined in following channels:\n",
      "--0, --1, --2, --3, --4\n",
      "  edf = mne.io.read_raw_edf(edf_filename,stim_channel=None)\n",
      "(23, 921600)\n",
      "Extracting EDF parameters from d:\\salma\\UNI\\Sem8\\WS\\physionet.org\\files\\chbmit\\1.0.0\\chb17\\chb17c_05.edf...\n",
      "EDF file detected\n",
      "Setting channel info structure...\n",
      "Creating raw.info structure...\n",
      "<ipython-input-3-0a23d589a01a>:4: RuntimeWarning: Channel names are not unique, found duplicates for: {'T8-P8', '-'}. Applying running numbers for duplicates.\n",
      "  edf = mne.io.read_raw_edf(edf_filename,stim_channel=None)\n",
      "<ipython-input-3-0a23d589a01a>:4: RuntimeWarning: Scaling factor is not defined in following channels:\n",
      "--0, --1, --2, --3, --4\n",
      "  edf = mne.io.read_raw_edf(edf_filename,stim_channel=None)\n",
      "(23, 921600)\n",
      "Extracting EDF parameters from d:\\salma\\UNI\\Sem8\\WS\\physionet.org\\files\\chbmit\\1.0.0\\chb17\\chb17c_06.edf...\n",
      "EDF file detected\n",
      "Setting channel info structure...\n",
      "Creating raw.info structure...\n",
      "<ipython-input-3-0a23d589a01a>:4: RuntimeWarning: Channel names are not unique, found duplicates for: {'T8-P8', '-'}. Applying running numbers for duplicates.\n",
      "  edf = mne.io.read_raw_edf(edf_filename,stim_channel=None)\n",
      "<ipython-input-3-0a23d589a01a>:4: RuntimeWarning: Scaling factor is not defined in following channels:\n",
      "--0, --1, --2, --3, --4\n",
      "  edf = mne.io.read_raw_edf(edf_filename,stim_channel=None)\n",
      "(23, 921600)\n",
      "Extracting EDF parameters from d:\\salma\\UNI\\Sem8\\WS\\physionet.org\\files\\chbmit\\1.0.0\\chb17\\chb17c_07.edf...\n",
      "EDF file detected\n",
      "Setting channel info structure...\n",
      "Creating raw.info structure...\n",
      "<ipython-input-3-0a23d589a01a>:4: RuntimeWarning: Channel names are not unique, found duplicates for: {'T8-P8', '-'}. Applying running numbers for duplicates.\n",
      "  edf = mne.io.read_raw_edf(edf_filename,stim_channel=None)\n",
      "<ipython-input-3-0a23d589a01a>:4: RuntimeWarning: Scaling factor is not defined in following channels:\n",
      "--0, --1, --2, --3, --4\n",
      "  edf = mne.io.read_raw_edf(edf_filename,stim_channel=None)\n",
      "(23, 921600)\n",
      "Extracting EDF parameters from d:\\salma\\UNI\\Sem8\\WS\\physionet.org\\files\\chbmit\\1.0.0\\chb17\\chb17c_08.edf...\n",
      "EDF file detected\n",
      "Setting channel info structure...\n",
      "Creating raw.info structure...\n",
      "<ipython-input-3-0a23d589a01a>:4: RuntimeWarning: Channel names are not unique, found duplicates for: {'T8-P8', '-'}. Applying running numbers for duplicates.\n",
      "  edf = mne.io.read_raw_edf(edf_filename,stim_channel=None)\n",
      "<ipython-input-3-0a23d589a01a>:4: RuntimeWarning: Scaling factor is not defined in following channels:\n",
      "--0, --1, --2, --3, --4\n",
      "  edf = mne.io.read_raw_edf(edf_filename,stim_channel=None)\n",
      "(23, 921600)\n",
      "file: 0 , shape: (23, 921600) \n",
      "total number of windows: 718.0 , number of windows discarded: 6 \n",
      "file: 1 , shape: (23, 921600) \n",
      "total number of windows: 718.0 , number of windows discarded: 4 \n",
      "file: 2 , shape: (23, 921600) \n",
      "total number of windows: 718.0 , number of windows discarded: 0 \n",
      "file: 3 , shape: (23, 921600) \n",
      "total number of windows: 718.0 , number of windows discarded: 0 \n",
      "file: 4 , shape: (23, 921600) \n",
      "total number of windows: 718.0 , number of windows discarded: 0 \n",
      "file: 5 , shape: (23, 921600) \n",
      "total number of windows: 718.0 , number of windows discarded: 0 \n",
      "file: 6 , shape: (23, 921600) \n",
      "total number of windows: 718.0 , number of windows discarded: 0 \n",
      "file: 7 , shape: (23, 921600) \n",
      "total number of windows: 718.0 , number of windows discarded: 0 \n",
      "file: 8 , shape: (23, 921600) \n",
      "total number of windows: 718.0 , number of windows discarded: 0 \n",
      "file: 9 , shape: (23, 927744) \n",
      "total number of windows: 723.0 , number of windows discarded: 5 \n",
      "file: 10 , shape: (23, 921600) \n",
      "total number of windows: 718.0 , number of windows discarded: 0 \n",
      "file: 11 , shape: (23, 921600) \n",
      "total number of windows: 718.0 , number of windows discarded: 0 \n",
      "file: 12 , shape: (23, 921600) \n",
      "total number of windows: 718.0 , number of windows discarded: 0 \n",
      "file: 13 , shape: (23, 921600) \n",
      "total number of windows: 718.0 , number of windows discarded: 0 \n",
      "file: 14 , shape: (23, 921600) \n",
      "total number of windows: 718.0 , number of windows discarded: 0 \n",
      "file: 15 , shape: (23, 921600) \n",
      "total number of windows: 718.0 , number of windows discarded: 0 \n",
      "file: 16 , shape: (23, 921600) \n",
      "total number of windows: 718.0 , number of windows discarded: 0 \n",
      "file: 17 , shape: (23, 921600) \n",
      "total number of windows: 718.0 , number of windows discarded: 0 \n",
      "file: 18 , shape: (23, 921600) \n",
      "total number of windows: 718.0 , number of windows discarded: 0 \n",
      "file: 19 , shape: (23, 921600) \n",
      "total number of windows: 718.0 , number of windows discarded: 0 \n"
     ]
    }
   ],
   "metadata": {
    "tags": [
     "outputPrepend"
    ]
   }
  },
  {
   "cell_type": "markdown",
   "source": [
    "## min10\n",
    "welch\n",
    "differentiation\n",
    "10 mins preictal interval"
   ],
   "metadata": {}
  },
  {
   "cell_type": "code",
   "execution_count": 16,
   "source": [
    "patient_no=1#################\n",
    "\n",
    "for patient_no in (1,3,6,7,8,10,14,16,13,18):\n",
    "    subject_id = patient_no\n",
    "    base_path = \"physionet.org/files/chbmit/1.0.0/\"\n",
    "    edf_file_names = sorted(glob.glob(os.path.join(base_path, \"chb{:02d}/*.edf\".format(subject_id))))\n",
    "    summary_file = os.path.join(base_path, \"chb{:02d}/chb{:02d}-summary.txt\".format(subject_id, subject_id))\n",
    "\n",
    "\n",
    "    summary_content = open(summary_file,'r').read()\n",
    "\n",
    "    X_all = []\n",
    "    y_all = []\n",
    "    for edf_file_name in edf_file_names:\n",
    "        X, y = extract_data_and_labels(edf_file_name, summary_content)\n",
    "        X_all.append(X)\n",
    "        y_all.append(y)\n",
    "\n",
    "    window_size=int(256*20)\n",
    "    for filno in range(0,len(X_all)):###################\n",
    "        recording=X_all[filno]####################\n",
    "        discarded=0\n",
    "        wins=recording.shape[1]//window_size\n",
    "        print('file: {} , shape: {} '.format(filno,recording.shape))\n",
    "        y=label_series(y_all[filno], 10)#############################33333\n",
    "        datapoints_in=[] #for each file\n",
    "        targets=[]\n",
    "        i=0\n",
    "        while i+window_size<recording.shape[1]:\n",
    "            # n_channels=recording.shape[0]\n",
    "            n_channels=23\n",
    "            features=np.zeros(n_channels*9+1)\n",
    "            features[-1]=patient_no\n",
    "            recording.shape\n",
    "            window=time_differential(recording[:,int(i):int(i+window_size)])\n",
    "            # window=recording[:,int(i):int(i+window_size)]\n",
    "            freqs, psd = signal.welch(window, fs=256)\n",
    "            # features[-2]=psd.sum()\n",
    "            # features[-3]=np.sqrt(np.mean(psd**2))\n",
    "            #removing electric noise\n",
    "            psd[:,57:64]=0\n",
    "            psd[:,117:124]=0\n",
    "            target_range=np.array(y[int(i):int(i+window_size)])\n",
    "            for chi in range (0, n_channels):\n",
    "                # set_frequency(freqs, psd[chi],57,64, 0)\n",
    "                # set_frequency(freqs, psd[chi],117,124, 0)\n",
    "                alpha=np.sum(psd[chi,8:14])\n",
    "                # alpha =extract_frequency(freqs, psd[chi],8,14)\n",
    "                beta=np.sum(psd[chi,13:31])\n",
    "                # beta = extract_frequency(freqs, psd[chi],13,31)\n",
    "                delta=np.sum(psd[chi,1:5])\n",
    "                # delta =extract_frequency(freqs, psd[chi],0.5,5)\n",
    "                theta=np.sum(psd[chi, 4:9])\n",
    "                # theta =extract_frequency(freqs, psd[chi],4,9)\n",
    "                gamma0=np.sum(psd[chi,30:48])\n",
    "                # gamma0=extract_frequency(freqs, psd[chi],30,48)\n",
    "                gamma1=np.sum(psd[chi,53:76])\n",
    "                # gamma1=extract_frequency(freqs, psd[chi],53,76)\n",
    "                gamma2=np.sum(psd[chi,75:98])\n",
    "                # gamma2=extract_frequency(freqs, psd[chi],75,98)\n",
    "                gamma3=np.sum(psd[chi,103:])\n",
    "                # gamma3=extract_frequency(freqs, psd[chi],103,-1)\n",
    "                features[chi*9:(1+chi)*9-1]=[alpha,beta,delta,theta,gamma0,gamma1,gamma2,gamma3]\n",
    "                # total_power=np.sum(features[chi*9:(1+chi)*9-1])\n",
    "                total_power=np.sum(psd[chi])\n",
    "                features[chi*9:(1+chi)*9-1] /= total_power\n",
    "                features[(1+chi)*9-1]=total_power\n",
    "            if np.all(target_range == target_range[0]):\n",
    "                target=target_range[0]\n",
    "                targets.append(target)\n",
    "                datapoints_in.append(features)\n",
    "            else:\n",
    "                discarded+=1               \n",
    "            i+=(window_size/2)\n",
    "        # dp=np.array(datapoints_in)\n",
    "        # D:\\salma\\UNI\\Sem8\\WS\\unnormalized\n",
    "        \n",
    "        save(os.path.join('min10_2','data_chb{:02d}/features_{}_{:02d}'.format(patient_no, patient_no, filno)), datapoints_in)\n",
    "        save(os.path.join('min10_2','data_chb{:02d}/targets_{}_{:02d}'.format(patient_no,patient_no, filno)) , targets)\n",
    "        print('total number of windows: {} , number of windows discarded: {} '.format(i/(window_size/2), discarded))\n",
    "        \n",
    "\n"
   ],
   "outputs": [
    {
     "output_type": "stream",
     "name": "stdout",
     "text": [
      "ch the file size (perhaps the recording was not stopped before exiting). Inferring from the file size.\n",
      "  edf = mne.io.read_raw_edf(edf_filename,stim_channel=None)\n",
      "(23, 1012480)\n",
      "Extracting EDF parameters from d:\\salma\\UNI\\Sem8\\WS\\physionet.org\\files\\chbmit\\1.0.0\\chb18\\chb18_13.edf...\n",
      "EDF file detected\n",
      "Setting channel info structure...\n",
      "Creating raw.info structure...\n",
      "<ipython-input-3-0a23d589a01a>:4: RuntimeWarning: Channel names are not unique, found duplicates for: {'T8-P8', '.'}. Applying running numbers for duplicates.\n",
      "  edf = mne.io.read_raw_edf(edf_filename,stim_channel=None)\n",
      "<ipython-input-3-0a23d589a01a>:4: RuntimeWarning: Number of records from the header does not match the file size (perhaps the recording was not stopped before exiting). Inferring from the file size.\n",
      "  edf = mne.io.read_raw_edf(edf_filename,stim_channel=None)\n",
      "(23, 1246464)\n",
      "Extracting EDF parameters from d:\\salma\\UNI\\Sem8\\WS\\physionet.org\\files\\chbmit\\1.0.0\\chb18\\chb18_14.edf...\n",
      "EDF file detected\n",
      "Setting channel info structure...\n",
      "Creating raw.info structure...\n",
      "<ipython-input-3-0a23d589a01a>:4: RuntimeWarning: Channel names are not unique, found duplicates for: {'T8-P8', '.'}. Applying running numbers for duplicates.\n",
      "  edf = mne.io.read_raw_edf(edf_filename,stim_channel=None)\n",
      "<ipython-input-3-0a23d589a01a>:4: RuntimeWarning: Number of records from the header does not match the file size (perhaps the recording was not stopped before exiting). Inferring from the file size.\n",
      "  edf = mne.io.read_raw_edf(edf_filename,stim_channel=None)\n",
      "(23, 1158656)\n",
      "Extracting EDF parameters from d:\\salma\\UNI\\Sem8\\WS\\physionet.org\\files\\chbmit\\1.0.0\\chb18\\chb18_15.edf...\n",
      "EDF file detected\n",
      "Setting channel info structure...\n",
      "Creating raw.info structure...\n",
      "<ipython-input-3-0a23d589a01a>:4: RuntimeWarning: Channel names are not unique, found duplicates for: {'T8-P8', '.'}. Applying running numbers for duplicates.\n",
      "  edf = mne.io.read_raw_edf(edf_filename,stim_channel=None)\n",
      "<ipython-input-3-0a23d589a01a>:4: RuntimeWarning: Number of records from the header does not match the file size (perhaps the recording was not stopped before exiting). Inferring from the file size.\n",
      "  edf = mne.io.read_raw_edf(edf_filename,stim_channel=None)\n",
      "(23, 1132544)\n",
      "Extracting EDF parameters from d:\\salma\\UNI\\Sem8\\WS\\physionet.org\\files\\chbmit\\1.0.0\\chb18\\chb18_16.edf...\n",
      "EDF file detected\n",
      "Setting channel info structure...\n",
      "Creating raw.info structure...\n",
      "<ipython-input-3-0a23d589a01a>:4: RuntimeWarning: Channel names are not unique, found duplicates for: {'T8-P8', '.'}. Applying running numbers for duplicates.\n",
      "  edf = mne.io.read_raw_edf(edf_filename,stim_channel=None)\n",
      "<ipython-input-3-0a23d589a01a>:4: RuntimeWarning: Number of records from the header does not match the file size (perhaps the recording was not stopped before exiting). Inferring from the file size.\n",
      "  edf = mne.io.read_raw_edf(edf_filename,stim_channel=None)\n",
      "(23, 1179648)\n",
      "Extracting EDF parameters from d:\\salma\\UNI\\Sem8\\WS\\physionet.org\\files\\chbmit\\1.0.0\\chb18\\chb18_17.edf...\n",
      "EDF file detected\n",
      "Setting channel info structure...\n",
      "Creating raw.info structure...\n",
      "<ipython-input-3-0a23d589a01a>:4: RuntimeWarning: Channel names are not unique, found duplicates for: {'T8-P8', '.'}. Applying running numbers for duplicates.\n",
      "  edf = mne.io.read_raw_edf(edf_filename,stim_channel=None)\n",
      "<ipython-input-3-0a23d589a01a>:4: RuntimeWarning: Number of records from the header does not match the file size (perhaps the recording was not stopped before exiting). Inferring from the file size.\n",
      "  edf = mne.io.read_raw_edf(edf_filename,stim_channel=None)\n",
      "(23, 1010432)\n",
      "Extracting EDF parameters from d:\\salma\\UNI\\Sem8\\WS\\physionet.org\\files\\chbmit\\1.0.0\\chb18\\chb18_18.edf...\n",
      "EDF file detected\n",
      "Setting channel info structure...\n",
      "Creating raw.info structure...\n",
      "<ipython-input-3-0a23d589a01a>:4: RuntimeWarning: Channel names are not unique, found duplicates for: {'T8-P8', '.'}. Applying running numbers for duplicates.\n",
      "  edf = mne.io.read_raw_edf(edf_filename,stim_channel=None)\n",
      "<ipython-input-3-0a23d589a01a>:4: RuntimeWarning: Number of records from the header does not match the file size (perhaps the recording was not stopped before exiting). Inferring from the file size.\n",
      "  edf = mne.io.read_raw_edf(edf_filename,stim_channel=None)\n",
      "(23, 957440)\n",
      "Extracting EDF parameters from d:\\salma\\UNI\\Sem8\\WS\\physionet.org\\files\\chbmit\\1.0.0\\chb18\\chb18_19.edf...\n",
      "EDF file detected\n",
      "Setting channel info structure...\n",
      "Creating raw.info structure...\n",
      "<ipython-input-3-0a23d589a01a>:4: RuntimeWarning: Channel names are not unique, found duplicates for: {'T8-P8', '.'}. Applying running numbers for duplicates.\n",
      "  edf = mne.io.read_raw_edf(edf_filename,stim_channel=None)\n",
      "<ipython-input-3-0a23d589a01a>:4: RuntimeWarning: Number of records from the header does not match the file size (perhaps the recording was not stopped before exiting). Inferring from the file size.\n",
      "  edf = mne.io.read_raw_edf(edf_filename,stim_channel=None)\n",
      "(23, 1143808)\n",
      "Extracting EDF parameters from d:\\salma\\UNI\\Sem8\\WS\\physionet.org\\files\\chbmit\\1.0.0\\chb18\\chb18_20.edf...\n",
      "EDF file detected\n",
      "Setting channel info structure...\n",
      "Creating raw.info structure...\n",
      "<ipython-input-3-0a23d589a01a>:4: RuntimeWarning: Channel names are not unique, found duplicates for: {'T8-P8', '.'}. Applying running numbers for duplicates.\n",
      "  edf = mne.io.read_raw_edf(edf_filename,stim_channel=None)\n",
      "<ipython-input-3-0a23d589a01a>:4: RuntimeWarning: Number of records from the header does not match the file size (perhaps the recording was not stopped before exiting). Inferring from the file size.\n",
      "  edf = mne.io.read_raw_edf(edf_filename,stim_channel=None)\n",
      "(23, 922880)\n",
      "Extracting EDF parameters from d:\\salma\\UNI\\Sem8\\WS\\physionet.org\\files\\chbmit\\1.0.0\\chb18\\chb18_21.edf...\n",
      "EDF file detected\n",
      "Setting channel info structure...\n",
      "Creating raw.info structure...\n",
      "<ipython-input-3-0a23d589a01a>:4: RuntimeWarning: Channel names are not unique, found duplicates for: {'T8-P8', '.'}. Applying running numbers for duplicates.\n",
      "  edf = mne.io.read_raw_edf(edf_filename,stim_channel=None)\n",
      "<ipython-input-3-0a23d589a01a>:4: RuntimeWarning: Number of records from the header does not match the file size (perhaps the recording was not stopped before exiting). Inferring from the file size.\n",
      "  edf = mne.io.read_raw_edf(edf_filename,stim_channel=None)\n",
      "(23, 940544)\n",
      "Extracting EDF parameters from d:\\salma\\UNI\\Sem8\\WS\\physionet.org\\files\\chbmit\\1.0.0\\chb18\\chb18_22.edf...\n",
      "EDF file detected\n",
      "Setting channel info structure...\n",
      "Creating raw.info structure...\n",
      "<ipython-input-3-0a23d589a01a>:4: RuntimeWarning: Channel names are not unique, found duplicates for: {'T8-P8', '.'}. Applying running numbers for duplicates.\n",
      "  edf = mne.io.read_raw_edf(edf_filename,stim_channel=None)\n",
      "<ipython-input-3-0a23d589a01a>:4: RuntimeWarning: Number of records from the header does not match the file size (perhaps the recording was not stopped before exiting). Inferring from the file size.\n",
      "  edf = mne.io.read_raw_edf(edf_filename,stim_channel=None)\n",
      "(23, 947200)\n",
      "Extracting EDF parameters from d:\\salma\\UNI\\Sem8\\WS\\physionet.org\\files\\chbmit\\1.0.0\\chb18\\chb18_23.edf...\n",
      "EDF file detected\n",
      "Setting channel info structure...\n",
      "Creating raw.info structure...\n",
      "<ipython-input-3-0a23d589a01a>:4: RuntimeWarning: Channel names are not unique, found duplicates for: {'T8-P8', '.'}. Applying running numbers for duplicates.\n",
      "  edf = mne.io.read_raw_edf(edf_filename,stim_channel=None)\n",
      "<ipython-input-3-0a23d589a01a>:4: RuntimeWarning: Number of records from the header does not match the file size (perhaps the recording was not stopped before exiting). Inferring from the file size.\n",
      "  edf = mne.io.read_raw_edf(edf_filename,stim_channel=None)\n",
      "(23, 957952)\n",
      "Extracting EDF parameters from d:\\salma\\UNI\\Sem8\\WS\\physionet.org\\files\\chbmit\\1.0.0\\chb18\\chb18_24.edf...\n",
      "EDF file detected\n",
      "Setting channel info structure...\n",
      "Creating raw.info structure...\n",
      "<ipython-input-3-0a23d589a01a>:4: RuntimeWarning: Channel names are not unique, found duplicates for: {'T8-P8', '.'}. Applying running numbers for duplicates.\n",
      "  edf = mne.io.read_raw_edf(edf_filename,stim_channel=None)\n",
      "<ipython-input-3-0a23d589a01a>:4: RuntimeWarning: Number of records from the header does not match the file size (perhaps the recording was not stopped before exiting). Inferring from the file size.\n",
      "  edf = mne.io.read_raw_edf(edf_filename,stim_channel=None)\n",
      "(23, 961792)\n",
      "Extracting EDF parameters from d:\\salma\\UNI\\Sem8\\WS\\physionet.org\\files\\chbmit\\1.0.0\\chb18\\chb18_25.edf...\n",
      "EDF file detected\n",
      "Setting channel info structure...\n",
      "Creating raw.info structure...\n",
      "<ipython-input-3-0a23d589a01a>:4: RuntimeWarning: Channel names are not unique, found duplicates for: {'T8-P8', '.'}. Applying running numbers for duplicates.\n",
      "  edf = mne.io.read_raw_edf(edf_filename,stim_channel=None)\n",
      "<ipython-input-3-0a23d589a01a>:4: RuntimeWarning: Number of records from the header does not match the file size (perhaps the recording was not stopped before exiting). Inferring from the file size.\n",
      "  edf = mne.io.read_raw_edf(edf_filename,stim_channel=None)\n",
      "(23, 1212672)\n",
      "Extracting EDF parameters from d:\\salma\\UNI\\Sem8\\WS\\physionet.org\\files\\chbmit\\1.0.0\\chb18\\chb18_26.edf...\n",
      "EDF file detected\n",
      "Setting channel info structure...\n",
      "Creating raw.info structure...\n",
      "<ipython-input-3-0a23d589a01a>:4: RuntimeWarning: Channel names are not unique, found duplicates for: {'T8-P8', '.'}. Applying running numbers for duplicates.\n",
      "  edf = mne.io.read_raw_edf(edf_filename,stim_channel=None)\n",
      "<ipython-input-3-0a23d589a01a>:4: RuntimeWarning: Number of records from the header does not match the file size (perhaps the recording was not stopped before exiting). Inferring from the file size.\n",
      "  edf = mne.io.read_raw_edf(edf_filename,stim_channel=None)\n",
      "(23, 923648)\n",
      "Extracting EDF parameters from d:\\salma\\UNI\\Sem8\\WS\\physionet.org\\files\\chbmit\\1.0.0\\chb18\\chb18_27.edf...\n",
      "EDF file detected\n",
      "Setting channel info structure...\n",
      "Creating raw.info structure...\n",
      "<ipython-input-3-0a23d589a01a>:4: RuntimeWarning: Channel names are not unique, found duplicates for: {'T8-P8', '.'}. Applying running numbers for duplicates.\n",
      "  edf = mne.io.read_raw_edf(edf_filename,stim_channel=None)\n",
      "<ipython-input-3-0a23d589a01a>:4: RuntimeWarning: Number of records from the header does not match the file size (perhaps the recording was not stopped before exiting). Inferring from the file size.\n",
      "  edf = mne.io.read_raw_edf(edf_filename,stim_channel=None)\n",
      "(23, 1126912)\n",
      "Extracting EDF parameters from d:\\salma\\UNI\\Sem8\\WS\\physionet.org\\files\\chbmit\\1.0.0\\chb18\\chb18_28.edf...\n",
      "EDF file detected\n",
      "Setting channel info structure...\n",
      "Creating raw.info structure...\n",
      "<ipython-input-3-0a23d589a01a>:4: RuntimeWarning: Channel names are not unique, found duplicates for: {'T8-P8', '.'}. Applying running numbers for duplicates.\n",
      "  edf = mne.io.read_raw_edf(edf_filename,stim_channel=None)\n",
      "<ipython-input-3-0a23d589a01a>:4: RuntimeWarning: Number of records from the header does not match the file size (perhaps the recording was not stopped before exiting). Inferring from the file size.\n",
      "  edf = mne.io.read_raw_edf(edf_filename,stim_channel=None)\n",
      "(23, 1135104)\n",
      "Extracting EDF parameters from d:\\salma\\UNI\\Sem8\\WS\\physionet.org\\files\\chbmit\\1.0.0\\chb18\\chb18_29.edf...\n",
      "EDF file detected\n",
      "Setting channel info structure...\n",
      "Creating raw.info structure...\n",
      "<ipython-input-3-0a23d589a01a>:4: RuntimeWarning: Channel names are not unique, found duplicates for: {'T8-P8', '.'}. Applying running numbers for duplicates.\n",
      "  edf = mne.io.read_raw_edf(edf_filename,stim_channel=None)\n",
      "<ipython-input-3-0a23d589a01a>:4: RuntimeWarning: Number of records from the header does not match the file size (perhaps the recording was not stopped before exiting). Inferring from the file size.\n",
      "  edf = mne.io.read_raw_edf(edf_filename,stim_channel=None)\n",
      "(23, 968704)\n",
      "3477\n",
      "3527\n",
      "Extracting EDF parameters from d:\\salma\\UNI\\Sem8\\WS\\physionet.org\\files\\chbmit\\1.0.0\\chb18\\chb18_30.edf...\n",
      "EDF file detected\n",
      "Setting channel info structure...\n",
      "Creating raw.info structure...\n",
      "<ipython-input-3-0a23d589a01a>:4: RuntimeWarning: Channel names are not unique, found duplicates for: {'T8-P8', '.'}. Applying running numbers for duplicates.\n",
      "  edf = mne.io.read_raw_edf(edf_filename,stim_channel=None)\n",
      "<ipython-input-3-0a23d589a01a>:4: RuntimeWarning: Number of records from the header does not match the file size (perhaps the recording was not stopped before exiting). Inferring from the file size.\n",
      "  edf = mne.io.read_raw_edf(edf_filename,stim_channel=None)\n",
      "(23, 1137664)\n",
      "541\n",
      "571\n",
      "Extracting EDF parameters from d:\\salma\\UNI\\Sem8\\WS\\physionet.org\\files\\chbmit\\1.0.0\\chb18\\chb18_31.edf...\n",
      "EDF file detected\n",
      "Setting channel info structure...\n",
      "Creating raw.info structure...\n",
      "<ipython-input-3-0a23d589a01a>:4: RuntimeWarning: Channel names are not unique, found duplicates for: {'T8-P8', '.'}. Applying running numbers for duplicates.\n",
      "  edf = mne.io.read_raw_edf(edf_filename,stim_channel=None)\n",
      "<ipython-input-3-0a23d589a01a>:4: RuntimeWarning: Number of records from the header does not match the file size (perhaps the recording was not stopped before exiting). Inferring from the file size.\n",
      "  edf = mne.io.read_raw_edf(edf_filename,stim_channel=None)\n",
      "(23, 609792)\n",
      "2087\n",
      "2155\n",
      "Extracting EDF parameters from d:\\salma\\UNI\\Sem8\\WS\\physionet.org\\files\\chbmit\\1.0.0\\chb18\\chb18_32.edf...\n",
      "EDF file detected\n",
      "Setting channel info structure...\n",
      "Creating raw.info structure...\n",
      "<ipython-input-3-0a23d589a01a>:4: RuntimeWarning: Channel names are not unique, found duplicates for: {'T8-P8', '.'}. Applying running numbers for duplicates.\n",
      "  edf = mne.io.read_raw_edf(edf_filename,stim_channel=None)\n",
      "<ipython-input-3-0a23d589a01a>:4: RuntimeWarning: Number of records from the header does not match the file size (perhaps the recording was not stopped before exiting). Inferring from the file size.\n",
      "  edf = mne.io.read_raw_edf(edf_filename,stim_channel=None)\n",
      "(23, 928768)\n",
      "1908\n",
      "1963\n",
      "Extracting EDF parameters from d:\\salma\\UNI\\Sem8\\WS\\physionet.org\\files\\chbmit\\1.0.0\\chb18\\chb18_33.edf...\n",
      "EDF file detected\n",
      "Setting channel info structure...\n",
      "Creating raw.info structure...\n",
      "<ipython-input-3-0a23d589a01a>:4: RuntimeWarning: Channel names are not unique, found duplicates for: {'T8-P8', '.'}. Applying running numbers for duplicates.\n",
      "  edf = mne.io.read_raw_edf(edf_filename,stim_channel=None)\n",
      "<ipython-input-3-0a23d589a01a>:4: RuntimeWarning: Number of records from the header does not match the file size (perhaps the recording was not stopped before exiting). Inferring from the file size.\n",
      "  edf = mne.io.read_raw_edf(edf_filename,stim_channel=None)\n",
      "(23, 1320960)\n",
      "Extracting EDF parameters from d:\\salma\\UNI\\Sem8\\WS\\physionet.org\\files\\chbmit\\1.0.0\\chb18\\chb18_34.edf...\n",
      "EDF file detected\n",
      "Setting channel info structure...\n",
      "Creating raw.info structure...\n",
      "<ipython-input-3-0a23d589a01a>:4: RuntimeWarning: Channel names are not unique, found duplicates for: {'T8-P8', '.'}. Applying running numbers for duplicates.\n",
      "  edf = mne.io.read_raw_edf(edf_filename,stim_channel=None)\n",
      "<ipython-input-3-0a23d589a01a>:4: RuntimeWarning: Number of records from the header does not match the file size (perhaps the recording was not stopped before exiting). Inferring from the file size.\n",
      "  edf = mne.io.read_raw_edf(edf_filename,stim_channel=None)\n",
      "(23, 1146880)\n",
      "Extracting EDF parameters from d:\\salma\\UNI\\Sem8\\WS\\physionet.org\\files\\chbmit\\1.0.0\\chb18\\chb18_35.edf...\n",
      "EDF file detected\n",
      "Setting channel info structure...\n",
      "Creating raw.info structure...\n",
      "<ipython-input-3-0a23d589a01a>:4: RuntimeWarning: Channel names are not unique, found duplicates for: {'T8-P8', '.'}. Applying running numbers for duplicates.\n",
      "  edf = mne.io.read_raw_edf(edf_filename,stim_channel=None)\n",
      "<ipython-input-3-0a23d589a01a>:4: RuntimeWarning: Number of records from the header does not match the file size (perhaps the recording was not stopped before exiting). Inferring from the file size.\n",
      "  edf = mne.io.read_raw_edf(edf_filename,stim_channel=None)\n",
      "(23, 1113600)\n",
      "2196\n",
      "2264\n",
      "Extracting EDF parameters from d:\\salma\\UNI\\Sem8\\WS\\physionet.org\\files\\chbmit\\1.0.0\\chb18\\chb18_36.edf...\n",
      "EDF file detected\n",
      "Setting channel info structure...\n",
      "Creating raw.info structure...\n",
      "<ipython-input-3-0a23d589a01a>:4: RuntimeWarning: Channel names are not unique, found duplicates for: {'T8-P8', '.'}. Applying running numbers for duplicates.\n",
      "  edf = mne.io.read_raw_edf(edf_filename,stim_channel=None)\n",
      "<ipython-input-3-0a23d589a01a>:4: RuntimeWarning: Number of records from the header does not match the file size (perhaps the recording was not stopped before exiting). Inferring from the file size.\n",
      "  edf = mne.io.read_raw_edf(edf_filename,stim_channel=None)\n",
      "(23, 1296384)\n",
      "463\n",
      "509\n",
      "file: 0 , shape: (23, 1000448) \n",
      "total number of windows: 389.0 , number of windows discarded: 0 \n",
      "file: 1 , shape: (23, 1223936) \n",
      "total number of windows: 477.0 , number of windows discarded: 0 \n",
      "file: 2 , shape: (23, 1088000) \n",
      "total number of windows: 423.0 , number of windows discarded: 0 \n",
      "file: 3 , shape: (23, 1196032) \n",
      "total number of windows: 466.0 , number of windows discarded: 0 \n",
      "file: 4 , shape: (23, 959744) \n",
      "total number of windows: 373.0 , number of windows discarded: 0 \n",
      "file: 5 , shape: (23, 1334784) \n",
      "total number of windows: 520.0 , number of windows discarded: 0 \n",
      "file: 6 , shape: (23, 1213952) \n",
      "total number of windows: 473.0 , number of windows discarded: 0 \n",
      "file: 7 , shape: (23, 1111040) \n",
      "total number of windows: 432.0 , number of windows discarded: 0 \n",
      "file: 8 , shape: (23, 1069824) \n",
      "total number of windows: 416.0 , number of windows discarded: 0 \n",
      "file: 9 , shape: (23, 1079808) \n",
      "total number of windows: 420.0 , number of windows discarded: 0 \n",
      "file: 10 , shape: (23, 1012480) \n",
      "total number of windows: 394.0 , number of windows discarded: 0 \n",
      "file: 11 , shape: (23, 1246464) \n",
      "total number of windows: 485.0 , number of windows discarded: 0 \n",
      "file: 12 , shape: (23, 1158656) \n",
      "total number of windows: 451.0 , number of windows discarded: 0 \n",
      "file: 13 , shape: (23, 1132544) \n",
      "total number of windows: 441.0 , number of windows discarded: 0 \n",
      "file: 14 , shape: (23, 1179648) \n",
      "total number of windows: 459.0 , number of windows discarded: 0 \n",
      "file: 15 , shape: (23, 1010432) \n",
      "total number of windows: 393.0 , number of windows discarded: 0 \n",
      "file: 16 , shape: (23, 957440) \n",
      "total number of windows: 372.0 , number of windows discarded: 0 \n",
      "file: 17 , shape: (23, 1143808) \n",
      "total number of windows: 445.0 , number of windows discarded: 0 \n",
      "file: 18 , shape: (23, 922880) \n",
      "total number of windows: 359.0 , number of windows discarded: 0 \n",
      "file: 19 , shape: (23, 940544) \n",
      "total number of windows: 366.0 , number of windows discarded: 0 \n",
      "file: 20 , shape: (23, 947200) \n",
      "total number of windows: 368.0 , number of windows discarded: 0 \n",
      "file: 21 , shape: (23, 957952) \n",
      "total number of windows: 373.0 , number of windows discarded: 0 \n",
      "file: 22 , shape: (23, 961792) \n",
      "total number of windows: 374.0 , number of windows discarded: 0 \n",
      "file: 23 , shape: (23, 1212672) \n",
      "total number of windows: 472.0 , number of windows discarded: 0 \n",
      "file: 24 , shape: (23, 923648) \n",
      "total number of windows: 359.0 , number of windows discarded: 0 \n",
      "file: 25 , shape: (23, 1126912) \n",
      "total number of windows: 439.0 , number of windows discarded: 0 \n",
      "file: 26 , shape: (23, 1135104) \n",
      "total number of windows: 442.0 , number of windows discarded: 0 \n",
      "file: 27 , shape: (23, 968704) \n",
      "total number of windows: 377.0 , number of windows discarded: 6 \n",
      "file: 28 , shape: (23, 1137664) \n",
      "total number of windows: 443.0 , number of windows discarded: 6 \n",
      "file: 29 , shape: (23, 609792) \n",
      "total number of windows: 237.0 , number of windows discarded: 6 \n",
      "file: 30 , shape: (23, 928768) \n",
      "total number of windows: 361.0 , number of windows discarded: 6 \n",
      "file: 31 , shape: (23, 1320960) \n",
      "total number of windows: 514.0 , number of windows discarded: 0 \n",
      "file: 32 , shape: (23, 1146880) \n",
      "total number of windows: 446.0 , number of windows discarded: 0 \n",
      "file: 33 , shape: (23, 1113600) \n",
      "total number of windows: 433.0 , number of windows discarded: 6 \n",
      "file: 34 , shape: (23, 1296384) \n",
      "total number of windows: 505.0 , number of windows discarded: 4 \n"
     ]
    }
   ],
   "metadata": {
    "tags": [
     "outputPrepend"
    ]
   }
  },
  {
   "cell_type": "markdown",
   "source": [
    "## 5sec_notwelch\n",
    "- 10 minute preictal\n",
    "- 5 sec windows\n",
    "- no overlap"
   ],
   "metadata": {}
  },
  {
   "cell_type": "code",
   "execution_count": 17,
   "source": [
    "patient_no=1#################\n",
    "print('hello')\n",
    "for patient_no in range(1,25):\n",
    "    subject_id = patient_no\n",
    "    base_path = \"physionet.org/files/chbmit/1.0.0/\"\n",
    "    edf_file_names = sorted(glob.glob(os.path.join(base_path, \"chb{:02d}/*.edf\".format(subject_id))))\n",
    "    summary_file = os.path.join(base_path, \"chb{:02d}/chb{:02d}-summary.txt\".format(subject_id, subject_id))\n",
    "\n",
    "\n",
    "    summary_content = open(summary_file,'r').read()\n",
    "\n",
    "    X_all = []\n",
    "    y_all = []\n",
    "    for edf_file_name in edf_file_names:\n",
    "        X, y = extract_data_and_labels(edf_file_name, summary_content)\n",
    "        X_all.append(X)\n",
    "        y_all.append(y)\n",
    "\n",
    "    window_size=int(256*10)\n",
    "    for filno in range(0,len(X_all)):###################\n",
    "        recording=X_all[filno]####################\n",
    "        discarded=0\n",
    "        wins=recording.shape[1]//window_size\n",
    "        print('file: {} , shape: {} '.format(filno,recording.shape))\n",
    "        y=label_series(y_all[filno], 10)#############################33333\n",
    "        datapoints_in=[] #for each file\n",
    "        targets=[]\n",
    "        i=0\n",
    "        while i+window_size<recording.shape[1]:\n",
    "            # n_channels=recording.shape[0]\n",
    "            n_channels=23\n",
    "            features=np.zeros(n_channels*9+1)\n",
    "            features[-1]=patient_no\n",
    "            recording.shape\n",
    "            window=time_differential(recording[:,int(i):int(i+window_size)])\n",
    "            # window=recording[:,int(i):int(i+window_size)]\n",
    "            freqs, psd = signal.periodogram(window, fs=256)\n",
    "            # print(freqs,psd)\n",
    "            # features[-2]=psd.sum()\n",
    "            # features[-3]=np.sqrt(np.mean(psd**2))\n",
    "            #removing electric noise\n",
    "            # psd[:,57:64]=0\n",
    "            # psd[:,117:124]=0\n",
    "            target_range=np.array(y[int(i):int(i+window_size)])\n",
    "            for chi in range (0, n_channels):\n",
    "                set_frequency(freqs, psd[chi],57,64, 0)\n",
    "                set_frequency(freqs, psd[chi],117,124, 0)\n",
    "                # alpha=np.sum(psd[chi,8:14])\n",
    "                alpha =extract_frequency(freqs, psd[chi],8,14)\n",
    "                # beta=np.sum(psd[chi,13:31])\n",
    "                beta = extract_frequency(freqs, psd[chi],13,31)\n",
    "                # delta=np.sum(psd[chi,1:5])\n",
    "                delta =extract_frequency(freqs, psd[chi],0.5,5)\n",
    "                # theta=np.sum(psd[chi, 4:9])\n",
    "                theta =extract_frequency(freqs, psd[chi],4,9)\n",
    "                # gamma0=np.sum(psd[chi,30:48])\n",
    "                gamma0=extract_frequency(freqs, psd[chi],30,48)\n",
    "                # gamma1=np.sum(psd[chi,53:76])\n",
    "                gamma1=extract_frequency(freqs, psd[chi],53,76)\n",
    "                # gamma2=np.sum(psd[chi,75:98])\n",
    "                gamma2=extract_frequency(freqs, psd[chi],75,98)\n",
    "                # gamma3=np.sum(psd[chi,103:])\n",
    "                gamma3=extract_frequency(freqs, psd[chi],103,-1)\n",
    "                features[chi*9:(1+chi)*9-1]=[alpha,beta,delta,theta,gamma0,gamma1,gamma2,gamma3]\n",
    "                # total_power=np.sum(features[chi*9:(1+chi)*9-1])\n",
    "                total_power=np.sum(psd[chi])\n",
    "                features[chi*9:(1+chi)*9-1] /= total_power\n",
    "                features[(1+chi)*9-1]=total_power\n",
    "            if np.all(target_range == target_range[0]):\n",
    "                target=target_range[0]\n",
    "                targets.append(target)\n",
    "                datapoints_in.append(features)\n",
    "            else:\n",
    "                discarded+=1               \n",
    "            i+=(window_size)\n",
    "        # dp=np.array(datapoints_in)\n",
    "        # D:\\salma\\UNI\\Sem8\\WS\\unnormalized\n",
    "        \n",
    "        save(os.path.join('5sec_notwelch','data_chb{:02d}/features_{}_{:02d}'.format(patient_no, patient_no, filno)), datapoints_in)\n",
    "        save(os.path.join('5sec_notwelch','data_chb{:02d}/targets_{}_{:02d}'.format(patient_no,patient_no, filno)) , targets)\n",
    "        print('total number of windows: {} , number of windows discarded: {} '.format(i/(window_size/2), discarded))\n",
    "        \n",
    "\n"
   ],
   "outputs": [
    {
     "output_type": "stream",
     "name": "stdout",
     "text": [
      "edf(edf_filename,stim_channel=None)\n",
      "(23, 921600)\n",
      "3367\n",
      "3425\n",
      "Extracting EDF parameters from d:\\salma\\UNI\\Sem8\\WS\\physionet.org\\files\\chbmit\\1.0.0\\chb22\\chb22_21.edf...\n",
      "EDF file detected\n",
      "Setting channel info structure...\n",
      "Creating raw.info structure...\n",
      "<ipython-input-3-0a23d589a01a>:4: RuntimeWarning: Channel names are not unique, found duplicates for: {'T8-P8', '-'}. Applying running numbers for duplicates.\n",
      "  edf = mne.io.read_raw_edf(edf_filename,stim_channel=None)\n",
      "(23, 921600)\n",
      "Extracting EDF parameters from d:\\salma\\UNI\\Sem8\\WS\\physionet.org\\files\\chbmit\\1.0.0\\chb22\\chb22_22.edf...\n",
      "EDF file detected\n",
      "Setting channel info structure...\n",
      "Creating raw.info structure...\n",
      "<ipython-input-3-0a23d589a01a>:4: RuntimeWarning: Channel names are not unique, found duplicates for: {'T8-P8', '-'}. Applying running numbers for duplicates.\n",
      "  edf = mne.io.read_raw_edf(edf_filename,stim_channel=None)\n",
      "(23, 921600)\n",
      "Extracting EDF parameters from d:\\salma\\UNI\\Sem8\\WS\\physionet.org\\files\\chbmit\\1.0.0\\chb22\\chb22_23.edf...\n",
      "EDF file detected\n",
      "Setting channel info structure...\n",
      "Creating raw.info structure...\n",
      "<ipython-input-3-0a23d589a01a>:4: RuntimeWarning: Channel names are not unique, found duplicates for: {'T8-P8', '-'}. Applying running numbers for duplicates.\n",
      "  edf = mne.io.read_raw_edf(edf_filename,stim_channel=None)\n",
      "(23, 921600)\n",
      "Extracting EDF parameters from d:\\salma\\UNI\\Sem8\\WS\\physionet.org\\files\\chbmit\\1.0.0\\chb22\\chb22_24.edf...\n",
      "EDF file detected\n",
      "Setting channel info structure...\n",
      "Creating raw.info structure...\n",
      "<ipython-input-3-0a23d589a01a>:4: RuntimeWarning: Channel names are not unique, found duplicates for: {'T8-P8', '-'}. Applying running numbers for duplicates.\n",
      "  edf = mne.io.read_raw_edf(edf_filename,stim_channel=None)\n",
      "(23, 921600)\n",
      "Extracting EDF parameters from d:\\salma\\UNI\\Sem8\\WS\\physionet.org\\files\\chbmit\\1.0.0\\chb22\\chb22_25.edf...\n",
      "EDF file detected\n",
      "Setting channel info structure...\n",
      "Creating raw.info structure...\n",
      "<ipython-input-3-0a23d589a01a>:4: RuntimeWarning: Channel names are not unique, found duplicates for: {'T8-P8', '-'}. Applying running numbers for duplicates.\n",
      "  edf = mne.io.read_raw_edf(edf_filename,stim_channel=None)\n",
      "(23, 921600)\n",
      "3139\n",
      "3213\n",
      "Extracting EDF parameters from d:\\salma\\UNI\\Sem8\\WS\\physionet.org\\files\\chbmit\\1.0.0\\chb22\\chb22_26.edf...\n",
      "EDF file detected\n",
      "Setting channel info structure...\n",
      "Creating raw.info structure...\n",
      "<ipython-input-3-0a23d589a01a>:4: RuntimeWarning: Channel names are not unique, found duplicates for: {'T8-P8', '-'}. Applying running numbers for duplicates.\n",
      "  edf = mne.io.read_raw_edf(edf_filename,stim_channel=None)\n",
      "(23, 921600)\n",
      "Extracting EDF parameters from d:\\salma\\UNI\\Sem8\\WS\\physionet.org\\files\\chbmit\\1.0.0\\chb22\\chb22_27.edf...\n",
      "EDF file detected\n",
      "Setting channel info structure...\n",
      "Creating raw.info structure...\n",
      "<ipython-input-3-0a23d589a01a>:4: RuntimeWarning: Channel names are not unique, found duplicates for: {'T8-P8', '-'}. Applying running numbers for duplicates.\n",
      "  edf = mne.io.read_raw_edf(edf_filename,stim_channel=None)\n",
      "(23, 921600)\n",
      "Extracting EDF parameters from d:\\salma\\UNI\\Sem8\\WS\\physionet.org\\files\\chbmit\\1.0.0\\chb22\\chb22_28.edf...\n",
      "EDF file detected\n",
      "Setting channel info structure...\n",
      "Creating raw.info structure...\n",
      "<ipython-input-3-0a23d589a01a>:4: RuntimeWarning: Channel names are not unique, found duplicates for: {'T8-P8', '-'}. Applying running numbers for duplicates.\n",
      "  edf = mne.io.read_raw_edf(edf_filename,stim_channel=None)\n",
      "(23, 921600)\n",
      "Extracting EDF parameters from d:\\salma\\UNI\\Sem8\\WS\\physionet.org\\files\\chbmit\\1.0.0\\chb22\\chb22_29.edf...\n",
      "EDF file detected\n",
      "Setting channel info structure...\n",
      "Creating raw.info structure...\n",
      "<ipython-input-3-0a23d589a01a>:4: RuntimeWarning: Channel names are not unique, found duplicates for: {'T8-P8', '-'}. Applying running numbers for duplicates.\n",
      "  edf = mne.io.read_raw_edf(edf_filename,stim_channel=None)\n",
      "(23, 921600)\n",
      "Extracting EDF parameters from d:\\salma\\UNI\\Sem8\\WS\\physionet.org\\files\\chbmit\\1.0.0\\chb22\\chb22_30.edf...\n",
      "EDF file detected\n",
      "Setting channel info structure...\n",
      "Creating raw.info structure...\n",
      "<ipython-input-3-0a23d589a01a>:4: RuntimeWarning: Channel names are not unique, found duplicates for: {'T8-P8', '-'}. Applying running numbers for duplicates.\n",
      "  edf = mne.io.read_raw_edf(edf_filename,stim_channel=None)\n",
      "(23, 921600)\n",
      "Extracting EDF parameters from d:\\salma\\UNI\\Sem8\\WS\\physionet.org\\files\\chbmit\\1.0.0\\chb22\\chb22_38.edf...\n",
      "EDF file detected\n",
      "Setting channel info structure...\n",
      "Creating raw.info structure...\n",
      "<ipython-input-3-0a23d589a01a>:4: RuntimeWarning: Channel names are not unique, found duplicates for: {'T8-P8', '-'}. Applying running numbers for duplicates.\n",
      "  edf = mne.io.read_raw_edf(edf_filename,stim_channel=None)\n",
      "(23, 921600)\n",
      "1263\n",
      "1335\n",
      "Extracting EDF parameters from d:\\salma\\UNI\\Sem8\\WS\\physionet.org\\files\\chbmit\\1.0.0\\chb22\\chb22_51.edf...\n",
      "EDF file detected\n",
      "Setting channel info structure...\n",
      "Creating raw.info structure...\n",
      "<ipython-input-3-0a23d589a01a>:4: RuntimeWarning: Channel names are not unique, found duplicates for: {'T8-P8', '-'}. Applying running numbers for duplicates.\n",
      "  edf = mne.io.read_raw_edf(edf_filename,stim_channel=None)\n",
      "(23, 921600)\n",
      "Extracting EDF parameters from d:\\salma\\UNI\\Sem8\\WS\\physionet.org\\files\\chbmit\\1.0.0\\chb22\\chb22_54.edf...\n",
      "EDF file detected\n",
      "Setting channel info structure...\n",
      "Creating raw.info structure...\n",
      "<ipython-input-3-0a23d589a01a>:4: RuntimeWarning: Channel names are not unique, found duplicates for: {'T8-P8', '-'}. Applying running numbers for duplicates.\n",
      "  edf = mne.io.read_raw_edf(edf_filename,stim_channel=None)\n",
      "(23, 921600)\n",
      "Extracting EDF parameters from d:\\salma\\UNI\\Sem8\\WS\\physionet.org\\files\\chbmit\\1.0.0\\chb22\\chb22_77.edf...\n",
      "EDF file detected\n",
      "Setting channel info structure...\n",
      "Creating raw.info structure...\n",
      "<ipython-input-3-0a23d589a01a>:4: RuntimeWarning: Channel names are not unique, found duplicates for: {'T8-P8', '-'}. Applying running numbers for duplicates.\n",
      "  edf = mne.io.read_raw_edf(edf_filename,stim_channel=None)\n",
      "(23, 921600)\n",
      "file: 0 , shape: (23, 921600) \n",
      "total number of windows: 718.0 , number of windows discarded: 0 \n",
      "file: 1 , shape: (23, 921600) \n",
      "total number of windows: 718.0 , number of windows discarded: 0 \n",
      "file: 2 , shape: (23, 921600) \n",
      "total number of windows: 718.0 , number of windows discarded: 0 \n",
      "file: 3 , shape: (23, 921600) \n",
      "total number of windows: 718.0 , number of windows discarded: 0 \n",
      "file: 4 , shape: (23, 921600) \n",
      "total number of windows: 718.0 , number of windows discarded: 0 \n",
      "file: 5 , shape: (23, 921600) \n",
      "total number of windows: 718.0 , number of windows discarded: 0 \n",
      "file: 6 , shape: (23, 921600) \n",
      "total number of windows: 718.0 , number of windows discarded: 0 \n",
      "file: 7 , shape: (23, 921600) \n",
      "total number of windows: 718.0 , number of windows discarded: 0 \n",
      "file: 8 , shape: (23, 921600) \n",
      "total number of windows: 718.0 , number of windows discarded: 0 \n",
      "file: 9 , shape: (23, 921600) \n",
      "total number of windows: 718.0 , number of windows discarded: 0 \n",
      "file: 10 , shape: (23, 924416) \n",
      "total number of windows: 722.0 , number of windows discarded: 0 \n",
      "file: 11 , shape: (23, 921600) \n",
      "total number of windows: 718.0 , number of windows discarded: 0 \n",
      "file: 12 , shape: (23, 921600) \n",
      "total number of windows: 718.0 , number of windows discarded: 0 \n",
      "file: 13 , shape: (23, 921600) \n",
      "total number of windows: 718.0 , number of windows discarded: 0 \n",
      "file: 14 , shape: (23, 921600) \n",
      "total number of windows: 718.0 , number of windows discarded: 0 \n",
      "file: 15 , shape: (23, 921600) \n",
      "total number of windows: 718.0 , number of windows discarded: 0 \n",
      "file: 16 , shape: (23, 921600) \n",
      "total number of windows: 718.0 , number of windows discarded: 3 \n",
      "file: 17 , shape: (23, 921600) \n",
      "total number of windows: 718.0 , number of windows discarded: 0 \n",
      "file: 18 , shape: (23, 921600) \n",
      "total number of windows: 718.0 , number of windows discarded: 0 \n",
      "file: 19 , shape: (23, 921600) \n",
      "total number of windows: 718.0 , number of windows discarded: 0 \n",
      "file: 20 , shape: (23, 921600) \n",
      "total number of windows: 718.0 , number of windows discarded: 0 \n",
      "file: 21 , shape: (23, 921600) \n",
      "total number of windows: 718.0 , number of windows discarded: 3 \n",
      "file: 22 , shape: (23, 921600) \n",
      "total number of windows: 718.0 , number of windows discarded: 0 \n",
      "file: 23 , shape: (23, 921600) \n",
      "total number of windows: 718.0 , number of windows discarded: 0 \n",
      "file: 24 , shape: (23, 921600) \n",
      "total number of windows: 718.0 , number of windows discarded: 0 \n",
      "file: 25 , shape: (23, 921600) \n",
      "total number of windows: 718.0 , number of windows discarded: 0 \n",
      "file: 26 , shape: (23, 921600) \n",
      "total number of windows: 718.0 , number of windows discarded: 0 \n",
      "file: 27 , shape: (23, 921600) \n",
      "total number of windows: 718.0 , number of windows discarded: 3 \n",
      "file: 28 , shape: (23, 921600) \n",
      "total number of windows: 718.0 , number of windows discarded: 0 \n",
      "file: 29 , shape: (23, 921600) \n",
      "total number of windows: 718.0 , number of windows discarded: 0 \n",
      "file: 30 , shape: (23, 921600) \n",
      "total number of windows: 718.0 , number of windows discarded: 0 \n",
      "Extracting EDF parameters from d:\\salma\\UNI\\Sem8\\WS\\physionet.org\\files\\chbmit\\1.0.0\\chb23\\chb23_06.edf...\n",
      "EDF file detected\n",
      "Setting channel info structure...\n",
      "Creating raw.info structure...\n",
      "<ipython-input-3-0a23d589a01a>:4: RuntimeWarning: Channel names are not unique, found duplicates for: {'T8-P8'}. Applying running numbers for duplicates.\n",
      "  edf = mne.io.read_raw_edf(edf_filename,stim_channel=None)\n",
      "(23, 1916416)\n",
      "3962\n",
      "4075\n",
      "Extracting EDF parameters from d:\\salma\\UNI\\Sem8\\WS\\physionet.org\\files\\chbmit\\1.0.0\\chb23\\chb23_07.edf...\n",
      "EDF file detected\n",
      "Setting channel info structure...\n",
      "Creating raw.info structure...\n",
      "<ipython-input-3-0a23d589a01a>:4: RuntimeWarning: Channel names are not unique, found duplicates for: {'T8-P8'}. Applying running numbers for duplicates.\n",
      "  edf = mne.io.read_raw_edf(edf_filename,stim_channel=None)\n",
      "(23, 655360)\n",
      "Extracting EDF parameters from d:\\salma\\UNI\\Sem8\\WS\\physionet.org\\files\\chbmit\\1.0.0\\chb23\\chb23_08.edf...\n",
      "EDF file detected\n",
      "Setting channel info structure...\n",
      "Creating raw.info structure...\n",
      "<ipython-input-3-0a23d589a01a>:4: RuntimeWarning: Channel names are not unique, found duplicates for: {'T8-P8'}. Applying running numbers for duplicates.\n",
      "  edf = mne.io.read_raw_edf(edf_filename,stim_channel=None)\n",
      "(23, 2647552)\n",
      "325\n",
      "345\n",
      "5104\n",
      "5151\n",
      "Extracting EDF parameters from d:\\salma\\UNI\\Sem8\\WS\\physionet.org\\files\\chbmit\\1.0.0\\chb23\\chb23_09.edf...\n",
      "EDF file detected\n",
      "Setting channel info structure...\n",
      "Creating raw.info structure...\n",
      "<ipython-input-3-0a23d589a01a>:4: RuntimeWarning: Channel names are not unique, found duplicates for: {'T8-P8'}. Applying running numbers for duplicates.\n",
      "  edf = mne.io.read_raw_edf(edf_filename,stim_channel=None)\n",
      "(23, 3693056)\n",
      "2589\n",
      "2660\n",
      "6885\n",
      "6947\n",
      "8505\n",
      "8532\n",
      "9580\n",
      "9664\n",
      "Extracting EDF parameters from d:\\salma\\UNI\\Sem8\\WS\\physionet.org\\files\\chbmit\\1.0.0\\chb23\\chb23_10.edf...\n",
      "EDF file detected\n",
      "Setting channel info structure...\n",
      "Creating raw.info structure...\n",
      "<ipython-input-3-0a23d589a01a>:4: RuntimeWarning: Channel names are not unique, found duplicates for: {'T8-P8'}. Applying running numbers for duplicates.\n",
      "  edf = mne.io.read_raw_edf(edf_filename,stim_channel=None)\n",
      "(23, 3686400)\n",
      "Extracting EDF parameters from d:\\salma\\UNI\\Sem8\\WS\\physionet.org\\files\\chbmit\\1.0.0\\chb23\\chb23_16.edf...\n",
      "EDF file detected\n",
      "Setting channel info structure...\n",
      "Creating raw.info structure...\n",
      "<ipython-input-3-0a23d589a01a>:4: RuntimeWarning: Channel names are not unique, found duplicates for: {'T8-P8'}. Applying running numbers for duplicates.\n",
      "  edf = mne.io.read_raw_edf(edf_filename,stim_channel=None)\n",
      "(23, 3686400)\n",
      "Extracting EDF parameters from d:\\salma\\UNI\\Sem8\\WS\\physionet.org\\files\\chbmit\\1.0.0\\chb23\\chb23_17.edf...\n",
      "EDF file detected\n",
      "Setting channel info structure...\n",
      "Creating raw.info structure...\n",
      "<ipython-input-3-0a23d589a01a>:4: RuntimeWarning: Channel names are not unique, found duplicates for: {'T8-P8'}. Applying running numbers for duplicates.\n",
      "  edf = mne.io.read_raw_edf(edf_filename,stim_channel=None)\n",
      "(23, 3222272)\n",
      "Extracting EDF parameters from d:\\salma\\UNI\\Sem8\\WS\\physionet.org\\files\\chbmit\\1.0.0\\chb23\\chb23_19.edf...\n",
      "EDF file detected\n",
      "Setting channel info structure...\n",
      "Creating raw.info structure...\n",
      "<ipython-input-3-0a23d589a01a>:4: RuntimeWarning: Channel names are not unique, found duplicates for: {'T8-P8'}. Applying running numbers for duplicates.\n",
      "  edf = mne.io.read_raw_edf(edf_filename,stim_channel=None)\n",
      "(23, 3686400)\n",
      "Extracting EDF parameters from d:\\salma\\UNI\\Sem8\\WS\\physionet.org\\files\\chbmit\\1.0.0\\chb23\\chb23_20.edf...\n",
      "EDF file detected\n",
      "Setting channel info structure...\n",
      "Creating raw.info structure...\n",
      "<ipython-input-3-0a23d589a01a>:4: RuntimeWarning: Channel names are not unique, found duplicates for: {'T8-P8'}. Applying running numbers for duplicates.\n",
      "  edf = mne.io.read_raw_edf(edf_filename,stim_channel=None)\n",
      "(23, 1282304)\n",
      "file: 0 , shape: (23, 1916416) \n",
      "total number of windows: 1496.0 , number of windows discarded: 4 \n",
      "file: 1 , shape: (23, 655360) \n",
      "total number of windows: 510.0 , number of windows discarded: 0 \n",
      "file: 2 , shape: (23, 2647552) \n",
      "total number of windows: 2068.0 , number of windows discarded: 6 \n",
      "file: 3 , shape: (23, 3693056) \n",
      "total number of windows: 2884.0 , number of windows discarded: 11 \n",
      "file: 4 , shape: (23, 3686400) \n",
      "total number of windows: 2878.0 , number of windows discarded: 0 \n",
      "file: 5 , shape: (23, 3686400) \n",
      "total number of windows: 2878.0 , number of windows discarded: 0 \n",
      "file: 6 , shape: (23, 3222272) \n",
      "total number of windows: 2516.0 , number of windows discarded: 0 \n",
      "file: 7 , shape: (23, 3686400) \n",
      "total number of windows: 2878.0 , number of windows discarded: 0 \n",
      "file: 8 , shape: (23, 1282304) \n",
      "total number of windows: 1000.0 , number of windows discarded: 0 \n",
      "Extracting EDF parameters from d:\\salma\\UNI\\Sem8\\WS\\physionet.org\\files\\chbmit\\1.0.0\\chb24\\chb24_01.edf...\n",
      "EDF file detected\n",
      "Setting channel info structure...\n",
      "Creating raw.info structure...\n",
      "<ipython-input-3-0a23d589a01a>:4: RuntimeWarning: Channel names are not unique, found duplicates for: {'T8-P8'}. Applying running numbers for duplicates.\n",
      "  edf = mne.io.read_raw_edf(edf_filename,stim_channel=None)\n",
      "(23, 921600)\n",
      "480\n",
      "505\n",
      "480\n",
      "505\n",
      "Extracting EDF parameters from d:\\salma\\UNI\\Sem8\\WS\\physionet.org\\files\\chbmit\\1.0.0\\chb24\\chb24_03.edf...\n",
      "EDF file detected\n",
      "Setting channel info structure...\n",
      "Creating raw.info structure...\n",
      "<ipython-input-3-0a23d589a01a>:4: RuntimeWarning: Channel names are not unique, found duplicates for: {'T8-P8'}. Applying running numbers for duplicates.\n",
      "  edf = mne.io.read_raw_edf(edf_filename,stim_channel=None)\n",
      "(23, 921600)\n",
      "231\n",
      "260\n",
      "231\n",
      "260\n",
      "Extracting EDF parameters from d:\\salma\\UNI\\Sem8\\WS\\physionet.org\\files\\chbmit\\1.0.0\\chb24\\chb24_04.edf...\n",
      "EDF file detected\n",
      "Setting channel info structure...\n",
      "Creating raw.info structure...\n",
      "<ipython-input-3-0a23d589a01a>:4: RuntimeWarning: Channel names are not unique, found duplicates for: {'T8-P8'}. Applying running numbers for duplicates.\n",
      "  edf = mne.io.read_raw_edf(edf_filename,stim_channel=None)\n",
      "(23, 921600)\n",
      "1088\n",
      "1120\n",
      "1088\n",
      "1120\n",
      "1088\n",
      "1120\n",
      "Extracting EDF parameters from d:\\salma\\UNI\\Sem8\\WS\\physionet.org\\files\\chbmit\\1.0.0\\chb24\\chb24_06.edf...\n",
      "EDF file detected\n",
      "Setting channel info structure...\n",
      "Creating raw.info structure...\n",
      "<ipython-input-3-0a23d589a01a>:4: RuntimeWarning: Channel names are not unique, found duplicates for: {'T8-P8'}. Applying running numbers for duplicates.\n",
      "  edf = mne.io.read_raw_edf(edf_filename,stim_channel=None)\n",
      "(23, 921600)\n",
      "1229\n",
      "1253\n",
      "Extracting EDF parameters from d:\\salma\\UNI\\Sem8\\WS\\physionet.org\\files\\chbmit\\1.0.0\\chb24\\chb24_07.edf...\n",
      "EDF file detected\n",
      "Setting channel info structure...\n",
      "Creating raw.info structure...\n",
      "<ipython-input-3-0a23d589a01a>:4: RuntimeWarning: Channel names are not unique, found duplicates for: {'T8-P8'}. Applying running numbers for duplicates.\n",
      "  edf = mne.io.read_raw_edf(edf_filename,stim_channel=None)\n",
      "(23, 921600)\n",
      "38\n",
      "60\n",
      "Extracting EDF parameters from d:\\salma\\UNI\\Sem8\\WS\\physionet.org\\files\\chbmit\\1.0.0\\chb24\\chb24_09.edf...\n",
      "EDF file detected\n",
      "Setting channel info structure...\n",
      "Creating raw.info structure...\n",
      "<ipython-input-3-0a23d589a01a>:4: RuntimeWarning: Channel names are not unique, found duplicates for: {'T8-P8'}. Applying running numbers for duplicates.\n",
      "  edf = mne.io.read_raw_edf(edf_filename,stim_channel=None)\n",
      "(23, 921600)\n",
      "1745\n",
      "1764\n",
      "Extracting EDF parameters from d:\\salma\\UNI\\Sem8\\WS\\physionet.org\\files\\chbmit\\1.0.0\\chb24\\chb24_11.edf...\n",
      "EDF file detected\n",
      "Setting channel info structure...\n",
      "Creating raw.info structure...\n",
      "<ipython-input-3-0a23d589a01a>:4: RuntimeWarning: Channel names are not unique, found duplicates for: {'T8-P8'}. Applying running numbers for duplicates.\n",
      "  edf = mne.io.read_raw_edf(edf_filename,stim_channel=None)\n",
      "(23, 921600)\n",
      "3527\n",
      "3597\n",
      "Extracting EDF parameters from d:\\salma\\UNI\\Sem8\\WS\\physionet.org\\files\\chbmit\\1.0.0\\chb24\\chb24_13.edf...\n",
      "EDF file detected\n",
      "Setting channel info structure...\n",
      "Creating raw.info structure...\n",
      "<ipython-input-3-0a23d589a01a>:4: RuntimeWarning: Channel names are not unique, found duplicates for: {'T8-P8'}. Applying running numbers for duplicates.\n",
      "  edf = mne.io.read_raw_edf(edf_filename,stim_channel=None)\n",
      "(23, 921600)\n",
      "3288\n",
      "3304\n",
      "Extracting EDF parameters from d:\\salma\\UNI\\Sem8\\WS\\physionet.org\\files\\chbmit\\1.0.0\\chb24\\chb24_14.edf...\n",
      "EDF file detected\n",
      "Setting channel info structure...\n",
      "Creating raw.info structure...\n",
      "<ipython-input-3-0a23d589a01a>:4: RuntimeWarning: Channel names are not unique, found duplicates for: {'T8-P8'}. Applying running numbers for duplicates.\n",
      "  edf = mne.io.read_raw_edf(edf_filename,stim_channel=None)\n",
      "(23, 921600)\n",
      "1939\n",
      "1966\n",
      "Extracting EDF parameters from d:\\salma\\UNI\\Sem8\\WS\\physionet.org\\files\\chbmit\\1.0.0\\chb24\\chb24_15.edf...\n",
      "EDF file detected\n",
      "Setting channel info structure...\n",
      "Creating raw.info structure...\n",
      "<ipython-input-3-0a23d589a01a>:4: RuntimeWarning: Channel names are not unique, found duplicates for: {'T8-P8'}. Applying running numbers for duplicates.\n",
      "  edf = mne.io.read_raw_edf(edf_filename,stim_channel=None)\n",
      "(23, 921600)\n",
      "3552\n",
      "3569\n",
      "Extracting EDF parameters from d:\\salma\\UNI\\Sem8\\WS\\physionet.org\\files\\chbmit\\1.0.0\\chb24\\chb24_17.edf...\n",
      "EDF file detected\n",
      "Setting channel info structure...\n",
      "Creating raw.info structure...\n",
      "<ipython-input-3-0a23d589a01a>:4: RuntimeWarning: Channel names are not unique, found duplicates for: {'T8-P8'}. Applying running numbers for duplicates.\n",
      "  edf = mne.io.read_raw_edf(edf_filename,stim_channel=None)\n",
      "(23, 921600)\n",
      "3515\n",
      "3581\n",
      "Extracting EDF parameters from d:\\salma\\UNI\\Sem8\\WS\\physionet.org\\files\\chbmit\\1.0.0\\chb24\\chb24_21.edf...\n",
      "EDF file detected\n",
      "Setting channel info structure...\n",
      "Creating raw.info structure...\n",
      "<ipython-input-3-0a23d589a01a>:4: RuntimeWarning: Channel names are not unique, found duplicates for: {'T8-P8'}. Applying running numbers for duplicates.\n",
      "  edf = mne.io.read_raw_edf(edf_filename,stim_channel=None)\n",
      "(23, 921600)\n",
      "2804\n",
      "2872\n",
      "file: 0 , shape: (23, 921600) \n",
      "total number of windows: 718.0 , number of windows discarded: 1 \n",
      "file: 1 , shape: (23, 921600) \n",
      "total number of windows: 718.0 , number of windows discarded: 2 \n",
      "file: 2 , shape: (23, 921600) \n",
      "total number of windows: 718.0 , number of windows discarded: 3 \n",
      "file: 3 , shape: (23, 921600) \n",
      "total number of windows: 718.0 , number of windows discarded: 3 \n",
      "file: 4 , shape: (23, 921600) \n",
      "total number of windows: 718.0 , number of windows discarded: 2 \n",
      "file: 5 , shape: (23, 921600) \n",
      "total number of windows: 718.0 , number of windows discarded: 3 \n",
      "file: 6 , shape: (23, 921600) \n",
      "total number of windows: 718.0 , number of windows discarded: 2 \n",
      "file: 7 , shape: (23, 921600) \n",
      "total number of windows: 718.0 , number of windows discarded: 3 \n",
      "file: 8 , shape: (23, 921600) \n",
      "total number of windows: 718.0 , number of windows discarded: 3 \n",
      "file: 9 , shape: (23, 921600) \n",
      "total number of windows: 718.0 , number of windows discarded: 2 \n",
      "file: 10 , shape: (23, 921600) \n",
      "total number of windows: 718.0 , number of windows discarded: 3 \n",
      "file: 11 , shape: (23, 921600) \n",
      "total number of windows: 718.0 , number of windows discarded: 3 \n"
     ]
    }
   ],
   "metadata": {
    "tags": [
     "outputPrepend"
    ]
   }
  },
  {
   "cell_type": "markdown",
   "source": [
    "## sum_5\n",
    "- 10 minute preictal\n",
    "- 5 sec windows\n",
    "- no overlap"
   ],
   "metadata": {}
  },
  {
   "cell_type": "code",
   "execution_count": 18,
   "source": [
    "patient_no=1#################\n",
    "\n",
    "for patient_no in range(1,25):\n",
    "    subject_id = patient_no\n",
    "    base_path = \"physionet.org/files/chbmit/1.0.0/\"\n",
    "    edf_file_names = sorted(glob.glob(os.path.join(base_path, \"chb{:02d}/*.edf\".format(subject_id))))\n",
    "    summary_file = os.path.join(base_path, \"chb{:02d}/chb{:02d}-summary.txt\".format(subject_id, subject_id))\n",
    "\n",
    "\n",
    "    summary_content = open(summary_file,'r').read()\n",
    "\n",
    "    X_all = []\n",
    "    y_all = []\n",
    "    for edf_file_name in edf_file_names:\n",
    "        X, y = extract_data_and_labels(edf_file_name, summary_content)\n",
    "        X_all.append(X)\n",
    "        y_all.append(y)\n",
    "\n",
    "    window_size=int(256*5)\n",
    "    for filno in range(0,len(X_all)):###################\n",
    "        recording=X_all[filno]####################\n",
    "        discarded=0\n",
    "        wins=recording.shape[1]//window_size\n",
    "        print('file: {} , shape: {} '.format(filno,recording.shape))\n",
    "        y=label_series(y_all[filno], 10)#############################33333\n",
    "        datapoints_in=[] #for each file\n",
    "        targets=[]\n",
    "        i=0\n",
    "        while i+window_size<recording.shape[1]:\n",
    "            # n_channels=recording.shape[0]\n",
    "            n_channels=23\n",
    "            features=np.zeros(3)\n",
    "            # features[-1]=patient_no\n",
    "            recording.shape\n",
    "            window=time_differential(recording[:,int(i):int(i+window_size)])\n",
    "            # window=recording[:,int(i):int(i+window_size)]\n",
    "            freqs, psd = signal.periodogram(window, fs=256)\n",
    "            features[0]=psd.sum()\n",
    "            features[1]=np.sqrt(np.mean(psd**2))\n",
    "            features[2]=patient_no\n",
    "            #removing electric noise\n",
    "            # psd[:,57:64]=0\n",
    "            # psd[:,117:124]=0\n",
    "            target_range=np.array(y[int(i):int(i+window_size)])\n",
    "           \n",
    "            if np.all(target_range == target_range[0]):\n",
    "                target=target_range[0]\n",
    "                targets.append(target)\n",
    "                datapoints_in.append(features)\n",
    "            else:\n",
    "                discarded+=1               \n",
    "            i+=(window_size)\n",
    "        # dp=np.array(datapoints_in)\n",
    "        # D:\\salma\\UNI\\Sem8\\WS\\unnormalized\n",
    "        \n",
    "        # mean_sum=np.mean(newdf['rms'][newdf['target']==0])\n",
    "        \n",
    "        \n",
    "        save(os.path.join('sum_5','data_chb{:02d}/features_{}_{:02d}'.format(patient_no, patient_no, filno)), datapoints_in)\n",
    "        save(os.path.join('sum_5','data_chb{:02d}/targets_{}_{:02d}'.format(patient_no,patient_no, filno)) , targets)\n",
    "        print('total number of windows: {} , number of windows discarded: {} '.format(i/(window_size/2), discarded))\n",
    "        \n",
    "\n"
   ],
   "outputs": [
    {
     "output_type": "stream",
     "name": "stdout",
     "text": [
      "1600)\n",
      "3367\n",
      "3425\n",
      "Extracting EDF parameters from d:\\salma\\UNI\\Sem8\\WS\\physionet.org\\files\\chbmit\\1.0.0\\chb22\\chb22_21.edf...\n",
      "EDF file detected\n",
      "Setting channel info structure...\n",
      "Creating raw.info structure...\n",
      "<ipython-input-3-0a23d589a01a>:4: RuntimeWarning: Channel names are not unique, found duplicates for: {'T8-P8', '-'}. Applying running numbers for duplicates.\n",
      "  edf = mne.io.read_raw_edf(edf_filename,stim_channel=None)\n",
      "(23, 921600)\n",
      "Extracting EDF parameters from d:\\salma\\UNI\\Sem8\\WS\\physionet.org\\files\\chbmit\\1.0.0\\chb22\\chb22_22.edf...\n",
      "EDF file detected\n",
      "Setting channel info structure...\n",
      "Creating raw.info structure...\n",
      "<ipython-input-3-0a23d589a01a>:4: RuntimeWarning: Channel names are not unique, found duplicates for: {'T8-P8', '-'}. Applying running numbers for duplicates.\n",
      "  edf = mne.io.read_raw_edf(edf_filename,stim_channel=None)\n",
      "(23, 921600)\n",
      "Extracting EDF parameters from d:\\salma\\UNI\\Sem8\\WS\\physionet.org\\files\\chbmit\\1.0.0\\chb22\\chb22_23.edf...\n",
      "EDF file detected\n",
      "Setting channel info structure...\n",
      "Creating raw.info structure...\n",
      "<ipython-input-3-0a23d589a01a>:4: RuntimeWarning: Channel names are not unique, found duplicates for: {'T8-P8', '-'}. Applying running numbers for duplicates.\n",
      "  edf = mne.io.read_raw_edf(edf_filename,stim_channel=None)\n",
      "(23, 921600)\n",
      "Extracting EDF parameters from d:\\salma\\UNI\\Sem8\\WS\\physionet.org\\files\\chbmit\\1.0.0\\chb22\\chb22_24.edf...\n",
      "EDF file detected\n",
      "Setting channel info structure...\n",
      "Creating raw.info structure...\n",
      "<ipython-input-3-0a23d589a01a>:4: RuntimeWarning: Channel names are not unique, found duplicates for: {'T8-P8', '-'}. Applying running numbers for duplicates.\n",
      "  edf = mne.io.read_raw_edf(edf_filename,stim_channel=None)\n",
      "(23, 921600)\n",
      "Extracting EDF parameters from d:\\salma\\UNI\\Sem8\\WS\\physionet.org\\files\\chbmit\\1.0.0\\chb22\\chb22_25.edf...\n",
      "EDF file detected\n",
      "Setting channel info structure...\n",
      "Creating raw.info structure...\n",
      "<ipython-input-3-0a23d589a01a>:4: RuntimeWarning: Channel names are not unique, found duplicates for: {'T8-P8', '-'}. Applying running numbers for duplicates.\n",
      "  edf = mne.io.read_raw_edf(edf_filename,stim_channel=None)\n",
      "(23, 921600)\n",
      "3139\n",
      "3213\n",
      "Extracting EDF parameters from d:\\salma\\UNI\\Sem8\\WS\\physionet.org\\files\\chbmit\\1.0.0\\chb22\\chb22_26.edf...\n",
      "EDF file detected\n",
      "Setting channel info structure...\n",
      "Creating raw.info structure...\n",
      "<ipython-input-3-0a23d589a01a>:4: RuntimeWarning: Channel names are not unique, found duplicates for: {'T8-P8', '-'}. Applying running numbers for duplicates.\n",
      "  edf = mne.io.read_raw_edf(edf_filename,stim_channel=None)\n",
      "(23, 921600)\n",
      "Extracting EDF parameters from d:\\salma\\UNI\\Sem8\\WS\\physionet.org\\files\\chbmit\\1.0.0\\chb22\\chb22_27.edf...\n",
      "EDF file detected\n",
      "Setting channel info structure...\n",
      "Creating raw.info structure...\n",
      "<ipython-input-3-0a23d589a01a>:4: RuntimeWarning: Channel names are not unique, found duplicates for: {'T8-P8', '-'}. Applying running numbers for duplicates.\n",
      "  edf = mne.io.read_raw_edf(edf_filename,stim_channel=None)\n",
      "(23, 921600)\n",
      "Extracting EDF parameters from d:\\salma\\UNI\\Sem8\\WS\\physionet.org\\files\\chbmit\\1.0.0\\chb22\\chb22_28.edf...\n",
      "EDF file detected\n",
      "Setting channel info structure...\n",
      "Creating raw.info structure...\n",
      "<ipython-input-3-0a23d589a01a>:4: RuntimeWarning: Channel names are not unique, found duplicates for: {'T8-P8', '-'}. Applying running numbers for duplicates.\n",
      "  edf = mne.io.read_raw_edf(edf_filename,stim_channel=None)\n",
      "(23, 921600)\n",
      "Extracting EDF parameters from d:\\salma\\UNI\\Sem8\\WS\\physionet.org\\files\\chbmit\\1.0.0\\chb22\\chb22_29.edf...\n",
      "EDF file detected\n",
      "Setting channel info structure...\n",
      "Creating raw.info structure...\n",
      "<ipython-input-3-0a23d589a01a>:4: RuntimeWarning: Channel names are not unique, found duplicates for: {'T8-P8', '-'}. Applying running numbers for duplicates.\n",
      "  edf = mne.io.read_raw_edf(edf_filename,stim_channel=None)\n",
      "(23, 921600)\n",
      "Extracting EDF parameters from d:\\salma\\UNI\\Sem8\\WS\\physionet.org\\files\\chbmit\\1.0.0\\chb22\\chb22_30.edf...\n",
      "EDF file detected\n",
      "Setting channel info structure...\n",
      "Creating raw.info structure...\n",
      "<ipython-input-3-0a23d589a01a>:4: RuntimeWarning: Channel names are not unique, found duplicates for: {'T8-P8', '-'}. Applying running numbers for duplicates.\n",
      "  edf = mne.io.read_raw_edf(edf_filename,stim_channel=None)\n",
      "(23, 921600)\n",
      "Extracting EDF parameters from d:\\salma\\UNI\\Sem8\\WS\\physionet.org\\files\\chbmit\\1.0.0\\chb22\\chb22_38.edf...\n",
      "EDF file detected\n",
      "Setting channel info structure...\n",
      "Creating raw.info structure...\n",
      "<ipython-input-3-0a23d589a01a>:4: RuntimeWarning: Channel names are not unique, found duplicates for: {'T8-P8', '-'}. Applying running numbers for duplicates.\n",
      "  edf = mne.io.read_raw_edf(edf_filename,stim_channel=None)\n",
      "(23, 921600)\n",
      "1263\n",
      "1335\n",
      "Extracting EDF parameters from d:\\salma\\UNI\\Sem8\\WS\\physionet.org\\files\\chbmit\\1.0.0\\chb22\\chb22_51.edf...\n",
      "EDF file detected\n",
      "Setting channel info structure...\n",
      "Creating raw.info structure...\n",
      "<ipython-input-3-0a23d589a01a>:4: RuntimeWarning: Channel names are not unique, found duplicates for: {'T8-P8', '-'}. Applying running numbers for duplicates.\n",
      "  edf = mne.io.read_raw_edf(edf_filename,stim_channel=None)\n",
      "(23, 921600)\n",
      "Extracting EDF parameters from d:\\salma\\UNI\\Sem8\\WS\\physionet.org\\files\\chbmit\\1.0.0\\chb22\\chb22_54.edf...\n",
      "EDF file detected\n",
      "Setting channel info structure...\n",
      "Creating raw.info structure...\n",
      "<ipython-input-3-0a23d589a01a>:4: RuntimeWarning: Channel names are not unique, found duplicates for: {'T8-P8', '-'}. Applying running numbers for duplicates.\n",
      "  edf = mne.io.read_raw_edf(edf_filename,stim_channel=None)\n",
      "(23, 921600)\n",
      "Extracting EDF parameters from d:\\salma\\UNI\\Sem8\\WS\\physionet.org\\files\\chbmit\\1.0.0\\chb22\\chb22_77.edf...\n",
      "EDF file detected\n",
      "Setting channel info structure...\n",
      "Creating raw.info structure...\n",
      "<ipython-input-3-0a23d589a01a>:4: RuntimeWarning: Channel names are not unique, found duplicates for: {'T8-P8', '-'}. Applying running numbers for duplicates.\n",
      "  edf = mne.io.read_raw_edf(edf_filename,stim_channel=None)\n",
      "(23, 921600)\n",
      "file: 0 , shape: (23, 921600) \n",
      "total number of windows: 1438.0 , number of windows discarded: 0 \n",
      "file: 1 , shape: (23, 921600) \n",
      "total number of windows: 1438.0 , number of windows discarded: 0 \n",
      "file: 2 , shape: (23, 921600) \n",
      "total number of windows: 1438.0 , number of windows discarded: 0 \n",
      "file: 3 , shape: (23, 921600) \n",
      "total number of windows: 1438.0 , number of windows discarded: 0 \n",
      "file: 4 , shape: (23, 921600) \n",
      "total number of windows: 1438.0 , number of windows discarded: 0 \n",
      "file: 5 , shape: (23, 921600) \n",
      "total number of windows: 1438.0 , number of windows discarded: 0 \n",
      "file: 6 , shape: (23, 921600) \n",
      "total number of windows: 1438.0 , number of windows discarded: 0 \n",
      "file: 7 , shape: (23, 921600) \n",
      "total number of windows: 1438.0 , number of windows discarded: 0 \n",
      "file: 8 , shape: (23, 921600) \n",
      "total number of windows: 1438.0 , number of windows discarded: 0 \n",
      "file: 9 , shape: (23, 921600) \n",
      "total number of windows: 1438.0 , number of windows discarded: 0 \n",
      "file: 10 , shape: (23, 924416) \n",
      "total number of windows: 1444.0 , number of windows discarded: 0 \n",
      "file: 11 , shape: (23, 921600) \n",
      "total number of windows: 1438.0 , number of windows discarded: 0 \n",
      "file: 12 , shape: (23, 921600) \n",
      "total number of windows: 1438.0 , number of windows discarded: 0 \n",
      "file: 13 , shape: (23, 921600) \n",
      "total number of windows: 1438.0 , number of windows discarded: 0 \n",
      "file: 14 , shape: (23, 921600) \n",
      "total number of windows: 1438.0 , number of windows discarded: 0 \n",
      "file: 15 , shape: (23, 921600) \n",
      "total number of windows: 1438.0 , number of windows discarded: 0 \n",
      "file: 16 , shape: (23, 921600) \n",
      "total number of windows: 1438.0 , number of windows discarded: 3 \n",
      "file: 17 , shape: (23, 921600) \n",
      "total number of windows: 1438.0 , number of windows discarded: 0 \n",
      "file: 18 , shape: (23, 921600) \n",
      "total number of windows: 1438.0 , number of windows discarded: 0 \n",
      "file: 19 , shape: (23, 921600) \n",
      "total number of windows: 1438.0 , number of windows discarded: 0 \n",
      "file: 20 , shape: (23, 921600) \n",
      "total number of windows: 1438.0 , number of windows discarded: 0 \n",
      "file: 21 , shape: (23, 921600) \n",
      "total number of windows: 1438.0 , number of windows discarded: 3 \n",
      "file: 22 , shape: (23, 921600) \n",
      "total number of windows: 1438.0 , number of windows discarded: 0 \n",
      "file: 23 , shape: (23, 921600) \n",
      "total number of windows: 1438.0 , number of windows discarded: 0 \n",
      "file: 24 , shape: (23, 921600) \n",
      "total number of windows: 1438.0 , number of windows discarded: 0 \n",
      "file: 25 , shape: (23, 921600) \n",
      "total number of windows: 1438.0 , number of windows discarded: 0 \n",
      "file: 26 , shape: (23, 921600) \n",
      "total number of windows: 1438.0 , number of windows discarded: 0 \n",
      "file: 27 , shape: (23, 921600) \n",
      "total number of windows: 1438.0 , number of windows discarded: 3 \n",
      "file: 28 , shape: (23, 921600) \n",
      "total number of windows: 1438.0 , number of windows discarded: 0 \n",
      "file: 29 , shape: (23, 921600) \n",
      "total number of windows: 1438.0 , number of windows discarded: 0 \n",
      "file: 30 , shape: (23, 921600) \n",
      "total number of windows: 1438.0 , number of windows discarded: 0 \n",
      "Extracting EDF parameters from d:\\salma\\UNI\\Sem8\\WS\\physionet.org\\files\\chbmit\\1.0.0\\chb23\\chb23_06.edf...\n",
      "EDF file detected\n",
      "Setting channel info structure...\n",
      "Creating raw.info structure...\n",
      "<ipython-input-3-0a23d589a01a>:4: RuntimeWarning: Channel names are not unique, found duplicates for: {'T8-P8'}. Applying running numbers for duplicates.\n",
      "  edf = mne.io.read_raw_edf(edf_filename,stim_channel=None)\n",
      "(23, 1916416)\n",
      "3962\n",
      "4075\n",
      "Extracting EDF parameters from d:\\salma\\UNI\\Sem8\\WS\\physionet.org\\files\\chbmit\\1.0.0\\chb23\\chb23_07.edf...\n",
      "EDF file detected\n",
      "Setting channel info structure...\n",
      "Creating raw.info structure...\n",
      "<ipython-input-3-0a23d589a01a>:4: RuntimeWarning: Channel names are not unique, found duplicates for: {'T8-P8'}. Applying running numbers for duplicates.\n",
      "  edf = mne.io.read_raw_edf(edf_filename,stim_channel=None)\n",
      "(23, 655360)\n",
      "Extracting EDF parameters from d:\\salma\\UNI\\Sem8\\WS\\physionet.org\\files\\chbmit\\1.0.0\\chb23\\chb23_08.edf...\n",
      "EDF file detected\n",
      "Setting channel info structure...\n",
      "Creating raw.info structure...\n",
      "<ipython-input-3-0a23d589a01a>:4: RuntimeWarning: Channel names are not unique, found duplicates for: {'T8-P8'}. Applying running numbers for duplicates.\n",
      "  edf = mne.io.read_raw_edf(edf_filename,stim_channel=None)\n",
      "(23, 2647552)\n",
      "325\n",
      "345\n",
      "5104\n",
      "5151\n",
      "Extracting EDF parameters from d:\\salma\\UNI\\Sem8\\WS\\physionet.org\\files\\chbmit\\1.0.0\\chb23\\chb23_09.edf...\n",
      "EDF file detected\n",
      "Setting channel info structure...\n",
      "Creating raw.info structure...\n",
      "<ipython-input-3-0a23d589a01a>:4: RuntimeWarning: Channel names are not unique, found duplicates for: {'T8-P8'}. Applying running numbers for duplicates.\n",
      "  edf = mne.io.read_raw_edf(edf_filename,stim_channel=None)\n",
      "(23, 3693056)\n",
      "2589\n",
      "2660\n",
      "6885\n",
      "6947\n",
      "8505\n",
      "8532\n",
      "9580\n",
      "9664\n",
      "Extracting EDF parameters from d:\\salma\\UNI\\Sem8\\WS\\physionet.org\\files\\chbmit\\1.0.0\\chb23\\chb23_10.edf...\n",
      "EDF file detected\n",
      "Setting channel info structure...\n",
      "Creating raw.info structure...\n",
      "<ipython-input-3-0a23d589a01a>:4: RuntimeWarning: Channel names are not unique, found duplicates for: {'T8-P8'}. Applying running numbers for duplicates.\n",
      "  edf = mne.io.read_raw_edf(edf_filename,stim_channel=None)\n",
      "(23, 3686400)\n",
      "Extracting EDF parameters from d:\\salma\\UNI\\Sem8\\WS\\physionet.org\\files\\chbmit\\1.0.0\\chb23\\chb23_16.edf...\n",
      "EDF file detected\n",
      "Setting channel info structure...\n",
      "Creating raw.info structure...\n",
      "<ipython-input-3-0a23d589a01a>:4: RuntimeWarning: Channel names are not unique, found duplicates for: {'T8-P8'}. Applying running numbers for duplicates.\n",
      "  edf = mne.io.read_raw_edf(edf_filename,stim_channel=None)\n",
      "(23, 3686400)\n",
      "Extracting EDF parameters from d:\\salma\\UNI\\Sem8\\WS\\physionet.org\\files\\chbmit\\1.0.0\\chb23\\chb23_17.edf...\n",
      "EDF file detected\n",
      "Setting channel info structure...\n",
      "Creating raw.info structure...\n",
      "<ipython-input-3-0a23d589a01a>:4: RuntimeWarning: Channel names are not unique, found duplicates for: {'T8-P8'}. Applying running numbers for duplicates.\n",
      "  edf = mne.io.read_raw_edf(edf_filename,stim_channel=None)\n",
      "(23, 3222272)\n",
      "Extracting EDF parameters from d:\\salma\\UNI\\Sem8\\WS\\physionet.org\\files\\chbmit\\1.0.0\\chb23\\chb23_19.edf...\n",
      "EDF file detected\n",
      "Setting channel info structure...\n",
      "Creating raw.info structure...\n",
      "<ipython-input-3-0a23d589a01a>:4: RuntimeWarning: Channel names are not unique, found duplicates for: {'T8-P8'}. Applying running numbers for duplicates.\n",
      "  edf = mne.io.read_raw_edf(edf_filename,stim_channel=None)\n",
      "(23, 3686400)\n",
      "Extracting EDF parameters from d:\\salma\\UNI\\Sem8\\WS\\physionet.org\\files\\chbmit\\1.0.0\\chb23\\chb23_20.edf...\n",
      "EDF file detected\n",
      "Setting channel info structure...\n",
      "Creating raw.info structure...\n",
      "<ipython-input-3-0a23d589a01a>:4: RuntimeWarning: Channel names are not unique, found duplicates for: {'T8-P8'}. Applying running numbers for duplicates.\n",
      "  edf = mne.io.read_raw_edf(edf_filename,stim_channel=None)\n",
      "(23, 1282304)\n",
      "file: 0 , shape: (23, 1916416) \n",
      "total number of windows: 2994.0 , number of windows discarded: 4 \n",
      "file: 1 , shape: (23, 655360) \n",
      "total number of windows: 1022.0 , number of windows discarded: 0 \n",
      "file: 2 , shape: (23, 2647552) \n",
      "total number of windows: 4136.0 , number of windows discarded: 5 \n",
      "file: 3 , shape: (23, 3693056) \n",
      "total number of windows: 5770.0 , number of windows discarded: 5 \n",
      "file: 4 , shape: (23, 3686400) \n",
      "total number of windows: 5758.0 , number of windows discarded: 0 \n",
      "file: 5 , shape: (23, 3686400) \n",
      "total number of windows: 5758.0 , number of windows discarded: 0 \n",
      "file: 6 , shape: (23, 3222272) \n",
      "total number of windows: 5034.0 , number of windows discarded: 0 \n",
      "file: 7 , shape: (23, 3686400) \n",
      "total number of windows: 5758.0 , number of windows discarded: 0 \n",
      "file: 8 , shape: (23, 1282304) \n",
      "total number of windows: 2002.0 , number of windows discarded: 0 \n",
      "Extracting EDF parameters from d:\\salma\\UNI\\Sem8\\WS\\physionet.org\\files\\chbmit\\1.0.0\\chb24\\chb24_01.edf...\n",
      "EDF file detected\n",
      "Setting channel info structure...\n",
      "Creating raw.info structure...\n",
      "<ipython-input-3-0a23d589a01a>:4: RuntimeWarning: Channel names are not unique, found duplicates for: {'T8-P8'}. Applying running numbers for duplicates.\n",
      "  edf = mne.io.read_raw_edf(edf_filename,stim_channel=None)\n",
      "(23, 921600)\n",
      "480\n",
      "505\n",
      "480\n",
      "505\n",
      "Extracting EDF parameters from d:\\salma\\UNI\\Sem8\\WS\\physionet.org\\files\\chbmit\\1.0.0\\chb24\\chb24_03.edf...\n",
      "EDF file detected\n",
      "Setting channel info structure...\n",
      "Creating raw.info structure...\n",
      "<ipython-input-3-0a23d589a01a>:4: RuntimeWarning: Channel names are not unique, found duplicates for: {'T8-P8'}. Applying running numbers for duplicates.\n",
      "  edf = mne.io.read_raw_edf(edf_filename,stim_channel=None)\n",
      "(23, 921600)\n",
      "231\n",
      "260\n",
      "231\n",
      "260\n",
      "Extracting EDF parameters from d:\\salma\\UNI\\Sem8\\WS\\physionet.org\\files\\chbmit\\1.0.0\\chb24\\chb24_04.edf...\n",
      "EDF file detected\n",
      "Setting channel info structure...\n",
      "Creating raw.info structure...\n",
      "<ipython-input-3-0a23d589a01a>:4: RuntimeWarning: Channel names are not unique, found duplicates for: {'T8-P8'}. Applying running numbers for duplicates.\n",
      "  edf = mne.io.read_raw_edf(edf_filename,stim_channel=None)\n",
      "(23, 921600)\n",
      "1088\n",
      "1120\n",
      "1088\n",
      "1120\n",
      "1088\n",
      "1120\n",
      "Extracting EDF parameters from d:\\salma\\UNI\\Sem8\\WS\\physionet.org\\files\\chbmit\\1.0.0\\chb24\\chb24_06.edf...\n",
      "EDF file detected\n",
      "Setting channel info structure...\n",
      "Creating raw.info structure...\n",
      "<ipython-input-3-0a23d589a01a>:4: RuntimeWarning: Channel names are not unique, found duplicates for: {'T8-P8'}. Applying running numbers for duplicates.\n",
      "  edf = mne.io.read_raw_edf(edf_filename,stim_channel=None)\n",
      "(23, 921600)\n",
      "1229\n",
      "1253\n",
      "Extracting EDF parameters from d:\\salma\\UNI\\Sem8\\WS\\physionet.org\\files\\chbmit\\1.0.0\\chb24\\chb24_07.edf...\n",
      "EDF file detected\n",
      "Setting channel info structure...\n",
      "Creating raw.info structure...\n",
      "<ipython-input-3-0a23d589a01a>:4: RuntimeWarning: Channel names are not unique, found duplicates for: {'T8-P8'}. Applying running numbers for duplicates.\n",
      "  edf = mne.io.read_raw_edf(edf_filename,stim_channel=None)\n",
      "(23, 921600)\n",
      "38\n",
      "60\n",
      "Extracting EDF parameters from d:\\salma\\UNI\\Sem8\\WS\\physionet.org\\files\\chbmit\\1.0.0\\chb24\\chb24_09.edf...\n",
      "EDF file detected\n",
      "Setting channel info structure...\n",
      "Creating raw.info structure...\n",
      "<ipython-input-3-0a23d589a01a>:4: RuntimeWarning: Channel names are not unique, found duplicates for: {'T8-P8'}. Applying running numbers for duplicates.\n",
      "  edf = mne.io.read_raw_edf(edf_filename,stim_channel=None)\n",
      "(23, 921600)\n",
      "1745\n",
      "1764\n",
      "Extracting EDF parameters from d:\\salma\\UNI\\Sem8\\WS\\physionet.org\\files\\chbmit\\1.0.0\\chb24\\chb24_11.edf...\n",
      "EDF file detected\n",
      "Setting channel info structure...\n",
      "Creating raw.info structure...\n",
      "<ipython-input-3-0a23d589a01a>:4: RuntimeWarning: Channel names are not unique, found duplicates for: {'T8-P8'}. Applying running numbers for duplicates.\n",
      "  edf = mne.io.read_raw_edf(edf_filename,stim_channel=None)\n",
      "(23, 921600)\n",
      "3527\n",
      "3597\n",
      "Extracting EDF parameters from d:\\salma\\UNI\\Sem8\\WS\\physionet.org\\files\\chbmit\\1.0.0\\chb24\\chb24_13.edf...\n",
      "EDF file detected\n",
      "Setting channel info structure...\n",
      "Creating raw.info structure...\n",
      "<ipython-input-3-0a23d589a01a>:4: RuntimeWarning: Channel names are not unique, found duplicates for: {'T8-P8'}. Applying running numbers for duplicates.\n",
      "  edf = mne.io.read_raw_edf(edf_filename,stim_channel=None)\n",
      "(23, 921600)\n",
      "3288\n",
      "3304\n",
      "Extracting EDF parameters from d:\\salma\\UNI\\Sem8\\WS\\physionet.org\\files\\chbmit\\1.0.0\\chb24\\chb24_14.edf...\n",
      "EDF file detected\n",
      "Setting channel info structure...\n",
      "Creating raw.info structure...\n",
      "<ipython-input-3-0a23d589a01a>:4: RuntimeWarning: Channel names are not unique, found duplicates for: {'T8-P8'}. Applying running numbers for duplicates.\n",
      "  edf = mne.io.read_raw_edf(edf_filename,stim_channel=None)\n",
      "(23, 921600)\n",
      "1939\n",
      "1966\n",
      "Extracting EDF parameters from d:\\salma\\UNI\\Sem8\\WS\\physionet.org\\files\\chbmit\\1.0.0\\chb24\\chb24_15.edf...\n",
      "EDF file detected\n",
      "Setting channel info structure...\n",
      "Creating raw.info structure...\n",
      "<ipython-input-3-0a23d589a01a>:4: RuntimeWarning: Channel names are not unique, found duplicates for: {'T8-P8'}. Applying running numbers for duplicates.\n",
      "  edf = mne.io.read_raw_edf(edf_filename,stim_channel=None)\n",
      "(23, 921600)\n",
      "3552\n",
      "3569\n",
      "Extracting EDF parameters from d:\\salma\\UNI\\Sem8\\WS\\physionet.org\\files\\chbmit\\1.0.0\\chb24\\chb24_17.edf...\n",
      "EDF file detected\n",
      "Setting channel info structure...\n",
      "Creating raw.info structure...\n",
      "<ipython-input-3-0a23d589a01a>:4: RuntimeWarning: Channel names are not unique, found duplicates for: {'T8-P8'}. Applying running numbers for duplicates.\n",
      "  edf = mne.io.read_raw_edf(edf_filename,stim_channel=None)\n",
      "(23, 921600)\n",
      "3515\n",
      "3581\n",
      "Extracting EDF parameters from d:\\salma\\UNI\\Sem8\\WS\\physionet.org\\files\\chbmit\\1.0.0\\chb24\\chb24_21.edf...\n",
      "EDF file detected\n",
      "Setting channel info structure...\n",
      "Creating raw.info structure...\n",
      "<ipython-input-3-0a23d589a01a>:4: RuntimeWarning: Channel names are not unique, found duplicates for: {'T8-P8'}. Applying running numbers for duplicates.\n",
      "  edf = mne.io.read_raw_edf(edf_filename,stim_channel=None)\n",
      "(23, 921600)\n",
      "2804\n",
      "2872\n",
      "file: 0 , shape: (23, 921600) \n",
      "total number of windows: 1438.0 , number of windows discarded: 1 \n",
      "file: 1 , shape: (23, 921600) \n",
      "total number of windows: 1438.0 , number of windows discarded: 2 \n",
      "file: 2 , shape: (23, 921600) \n",
      "total number of windows: 1438.0 , number of windows discarded: 3 \n",
      "file: 3 , shape: (23, 921600) \n",
      "total number of windows: 1438.0 , number of windows discarded: 3 \n",
      "file: 4 , shape: (23, 921600) \n",
      "total number of windows: 1438.0 , number of windows discarded: 2 \n",
      "file: 5 , shape: (23, 921600) \n",
      "total number of windows: 1438.0 , number of windows discarded: 0 \n",
      "file: 6 , shape: (23, 921600) \n",
      "total number of windows: 1438.0 , number of windows discarded: 2 \n",
      "file: 7 , shape: (23, 921600) \n",
      "total number of windows: 1438.0 , number of windows discarded: 2 \n",
      "file: 8 , shape: (23, 921600) \n",
      "total number of windows: 1438.0 , number of windows discarded: 3 \n",
      "file: 9 , shape: (23, 921600) \n",
      "total number of windows: 1438.0 , number of windows discarded: 2 \n",
      "file: 10 , shape: (23, 921600) \n",
      "total number of windows: 1438.0 , number of windows discarded: 1 \n",
      "file: 11 , shape: (23, 921600) \n",
      "total number of windows: 1438.0 , number of windows discarded: 3 \n"
     ]
    }
   ],
   "metadata": {
    "tags": [
     "outputPrepend"
    ]
   }
  },
  {
   "cell_type": "markdown",
   "source": [
    "## nodiff_normalised\n",
    "- preictal interval is 10 mins before a seizure\n",
    "- no time differential done\n",
    "- PSD method: welch\n",
    "- normalised data"
   ],
   "metadata": {}
  },
  {
   "cell_type": "code",
   "execution_count": 16,
   "source": [
    "patient_no=1#################\n",
    "\n",
    "for patient_no in range(6,25):\n",
    "    subject_id = patient_no\n",
    "    base_path = \"physionet.org/files/chbmit/1.0.0/\"\n",
    "    edf_file_names = sorted(glob.glob(os.path.join(base_path, \"chb{:02d}/*.edf\".format(subject_id))))\n",
    "    summary_file = os.path.join(base_path, \"chb{:02d}/chb{:02d}-summary.txt\".format(subject_id, subject_id))\n",
    "\n",
    "\n",
    "    summary_content = open(summary_file,'r').read()\n",
    "\n",
    "    X_all = []\n",
    "    y_all = []\n",
    "    for edf_file_name in edf_file_names:\n",
    "        X, y = extract_data_and_labels(edf_file_name, summary_content)\n",
    "        X_all.append(X)\n",
    "        y_all.append(y)\n",
    "\n",
    "    window_size=int(256*20)\n",
    "    for filno in range(0,len(X_all)):###################\n",
    "        recording=X_all[filno]####################\n",
    "        discarded=0\n",
    "        wins=recording.shape[1]//window_size\n",
    "        print('file: {} , shape: {} '.format(filno,recording.shape))\n",
    "        y=label_series(y_all[filno], 10)#############################33333\n",
    "        datapoints_in=[] #for each file\n",
    "        targets=[]\n",
    "        i=0\n",
    "        while i+window_size<recording.shape[1]:\n",
    "            # n_channels=recording.shape[0]\n",
    "            n_channels=23\n",
    "            features=np.zeros(n_channels*9+1)\n",
    "            features[-1]=patient_no\n",
    "            recording.shape\n",
    "            window=recording[:,int(i):int(i+window_size)]\n",
    "            # window=recording[:,int(i):int(i+window_size)]\n",
    "            freqs, psd = signal.welch(window, fs=256)\n",
    "            # features[-2]=psd.sum()\n",
    "            # features[-3]=np.sqrt(np.mean(psd**2))\n",
    "            #removing electric noise\n",
    "            psd[:,57:64]=0\n",
    "            psd[:,117:124]=0\n",
    "            target_range=np.array(y[int(i):int(i+window_size)])\n",
    "            for chi in range (0, n_channels):\n",
    "                # set_frequency(freqs, psd[chi],57,64, 0)\n",
    "                # set_frequency(freqs, psd[chi],117,124, 0)\n",
    "                alpha=np.sum(psd[chi,8:14])\n",
    "                # alpha =extract_frequency(freqs, psd[chi],8,14)\n",
    "                beta=np.sum(psd[chi,13:31])\n",
    "                # beta = extract_frequency(freqs, psd[chi],13,31)\n",
    "                delta=np.sum(psd[chi,1:5])\n",
    "                # delta =extract_frequency(freqs, psd[chi],0.5,5)\n",
    "                theta=np.sum(psd[chi, 4:9])\n",
    "                # theta =extract_frequency(freqs, psd[chi],4,9)\n",
    "                gamma0=np.sum(psd[chi,30:48])\n",
    "                # gamma0=extract_frequency(freqs, psd[chi],30,48)\n",
    "                gamma1=np.sum(psd[chi,53:76])\n",
    "                # gamma1=extract_frequency(freqs, psd[chi],53,76)\n",
    "                gamma2=np.sum(psd[chi,75:98])\n",
    "                # gamma2=extract_frequency(freqs, psd[chi],75,98)\n",
    "                gamma3=np.sum(psd[chi,103:])\n",
    "                # gamma3=extract_frequency(freqs, psd[chi],103,-1)\n",
    "                features[chi*9:(1+chi)*9-1]=[alpha,beta,delta,theta,gamma0,gamma1,gamma2,gamma3]\n",
    "                # total_power=np.sum(features[chi*9:(1+chi)*9-1])\n",
    "                total_power=np.sum(psd[chi])\n",
    "                features[chi*9:(1+chi)*9-1] /= total_power\n",
    "                features[(1+chi)*9-1]=total_power\n",
    "            if np.all(target_range == target_range[0]):\n",
    "                target=target_range[0]\n",
    "                targets.append(target)\n",
    "                datapoints_in.append(features)\n",
    "            else:\n",
    "                discarded+=1               \n",
    "            i+=(window_size/2)\n",
    "        # dp=np.array(datapoints_in)\n",
    "        # D:\\salma\\UNI\\Sem8\\WS\\unnormalized\n",
    "        \n",
    "        save(os.path.join('nodiff_normalised','data_chb{:02d}/features_{}_{:02d}'.format(patient_no, patient_no, filno)), datapoints_in)\n",
    "        save(os.path.join('nodiff_normalised','data_chb{:02d}/targets_{}_{:02d}'.format(patient_no,patient_no, filno)) , targets)\n",
    "        print('total number of windows: {} , number of windows discarded: {} '.format(i/(window_size/2), discarded))\n",
    "        \n",
    "\n"
   ],
   "outputs": [
    {
     "output_type": "stream",
     "name": "stdout",
     "text": [
      "_edf(edf_filename,stim_channel=None)\n",
      "(23, 921600)\n",
      "3367\n",
      "3425\n",
      "Extracting EDF parameters from d:\\salma\\UNI\\Sem8\\WS\\physionet.org\\files\\chbmit\\1.0.0\\chb22\\chb22_21.edf...\n",
      "EDF file detected\n",
      "Setting channel info structure...\n",
      "Creating raw.info structure...\n",
      "<ipython-input-3-0a23d589a01a>:4: RuntimeWarning: Channel names are not unique, found duplicates for: {'-', 'T8-P8'}. Applying running numbers for duplicates.\n",
      "  edf = mne.io.read_raw_edf(edf_filename,stim_channel=None)\n",
      "(23, 921600)\n",
      "Extracting EDF parameters from d:\\salma\\UNI\\Sem8\\WS\\physionet.org\\files\\chbmit\\1.0.0\\chb22\\chb22_22.edf...\n",
      "EDF file detected\n",
      "Setting channel info structure...\n",
      "Creating raw.info structure...\n",
      "<ipython-input-3-0a23d589a01a>:4: RuntimeWarning: Channel names are not unique, found duplicates for: {'-', 'T8-P8'}. Applying running numbers for duplicates.\n",
      "  edf = mne.io.read_raw_edf(edf_filename,stim_channel=None)\n",
      "(23, 921600)\n",
      "Extracting EDF parameters from d:\\salma\\UNI\\Sem8\\WS\\physionet.org\\files\\chbmit\\1.0.0\\chb22\\chb22_23.edf...\n",
      "EDF file detected\n",
      "Setting channel info structure...\n",
      "Creating raw.info structure...\n",
      "<ipython-input-3-0a23d589a01a>:4: RuntimeWarning: Channel names are not unique, found duplicates for: {'-', 'T8-P8'}. Applying running numbers for duplicates.\n",
      "  edf = mne.io.read_raw_edf(edf_filename,stim_channel=None)\n",
      "(23, 921600)\n",
      "Extracting EDF parameters from d:\\salma\\UNI\\Sem8\\WS\\physionet.org\\files\\chbmit\\1.0.0\\chb22\\chb22_24.edf...\n",
      "EDF file detected\n",
      "Setting channel info structure...\n",
      "Creating raw.info structure...\n",
      "<ipython-input-3-0a23d589a01a>:4: RuntimeWarning: Channel names are not unique, found duplicates for: {'-', 'T8-P8'}. Applying running numbers for duplicates.\n",
      "  edf = mne.io.read_raw_edf(edf_filename,stim_channel=None)\n",
      "(23, 921600)\n",
      "Extracting EDF parameters from d:\\salma\\UNI\\Sem8\\WS\\physionet.org\\files\\chbmit\\1.0.0\\chb22\\chb22_25.edf...\n",
      "EDF file detected\n",
      "Setting channel info structure...\n",
      "Creating raw.info structure...\n",
      "<ipython-input-3-0a23d589a01a>:4: RuntimeWarning: Channel names are not unique, found duplicates for: {'-', 'T8-P8'}. Applying running numbers for duplicates.\n",
      "  edf = mne.io.read_raw_edf(edf_filename,stim_channel=None)\n",
      "(23, 921600)\n",
      "3139\n",
      "3213\n",
      "Extracting EDF parameters from d:\\salma\\UNI\\Sem8\\WS\\physionet.org\\files\\chbmit\\1.0.0\\chb22\\chb22_26.edf...\n",
      "EDF file detected\n",
      "Setting channel info structure...\n",
      "Creating raw.info structure...\n",
      "<ipython-input-3-0a23d589a01a>:4: RuntimeWarning: Channel names are not unique, found duplicates for: {'-', 'T8-P8'}. Applying running numbers for duplicates.\n",
      "  edf = mne.io.read_raw_edf(edf_filename,stim_channel=None)\n",
      "(23, 921600)\n",
      "Extracting EDF parameters from d:\\salma\\UNI\\Sem8\\WS\\physionet.org\\files\\chbmit\\1.0.0\\chb22\\chb22_27.edf...\n",
      "EDF file detected\n",
      "Setting channel info structure...\n",
      "Creating raw.info structure...\n",
      "<ipython-input-3-0a23d589a01a>:4: RuntimeWarning: Channel names are not unique, found duplicates for: {'-', 'T8-P8'}. Applying running numbers for duplicates.\n",
      "  edf = mne.io.read_raw_edf(edf_filename,stim_channel=None)\n",
      "(23, 921600)\n",
      "Extracting EDF parameters from d:\\salma\\UNI\\Sem8\\WS\\physionet.org\\files\\chbmit\\1.0.0\\chb22\\chb22_28.edf...\n",
      "EDF file detected\n",
      "Setting channel info structure...\n",
      "Creating raw.info structure...\n",
      "<ipython-input-3-0a23d589a01a>:4: RuntimeWarning: Channel names are not unique, found duplicates for: {'-', 'T8-P8'}. Applying running numbers for duplicates.\n",
      "  edf = mne.io.read_raw_edf(edf_filename,stim_channel=None)\n",
      "(23, 921600)\n",
      "Extracting EDF parameters from d:\\salma\\UNI\\Sem8\\WS\\physionet.org\\files\\chbmit\\1.0.0\\chb22\\chb22_29.edf...\n",
      "EDF file detected\n",
      "Setting channel info structure...\n",
      "Creating raw.info structure...\n",
      "<ipython-input-3-0a23d589a01a>:4: RuntimeWarning: Channel names are not unique, found duplicates for: {'-', 'T8-P8'}. Applying running numbers for duplicates.\n",
      "  edf = mne.io.read_raw_edf(edf_filename,stim_channel=None)\n",
      "(23, 921600)\n",
      "Extracting EDF parameters from d:\\salma\\UNI\\Sem8\\WS\\physionet.org\\files\\chbmit\\1.0.0\\chb22\\chb22_30.edf...\n",
      "EDF file detected\n",
      "Setting channel info structure...\n",
      "Creating raw.info structure...\n",
      "<ipython-input-3-0a23d589a01a>:4: RuntimeWarning: Channel names are not unique, found duplicates for: {'-', 'T8-P8'}. Applying running numbers for duplicates.\n",
      "  edf = mne.io.read_raw_edf(edf_filename,stim_channel=None)\n",
      "(23, 921600)\n",
      "Extracting EDF parameters from d:\\salma\\UNI\\Sem8\\WS\\physionet.org\\files\\chbmit\\1.0.0\\chb22\\chb22_38.edf...\n",
      "EDF file detected\n",
      "Setting channel info structure...\n",
      "Creating raw.info structure...\n",
      "<ipython-input-3-0a23d589a01a>:4: RuntimeWarning: Channel names are not unique, found duplicates for: {'-', 'T8-P8'}. Applying running numbers for duplicates.\n",
      "  edf = mne.io.read_raw_edf(edf_filename,stim_channel=None)\n",
      "(23, 921600)\n",
      "1263\n",
      "1335\n",
      "Extracting EDF parameters from d:\\salma\\UNI\\Sem8\\WS\\physionet.org\\files\\chbmit\\1.0.0\\chb22\\chb22_51.edf...\n",
      "EDF file detected\n",
      "Setting channel info structure...\n",
      "Creating raw.info structure...\n",
      "<ipython-input-3-0a23d589a01a>:4: RuntimeWarning: Channel names are not unique, found duplicates for: {'-', 'T8-P8'}. Applying running numbers for duplicates.\n",
      "  edf = mne.io.read_raw_edf(edf_filename,stim_channel=None)\n",
      "(23, 921600)\n",
      "Extracting EDF parameters from d:\\salma\\UNI\\Sem8\\WS\\physionet.org\\files\\chbmit\\1.0.0\\chb22\\chb22_54.edf...\n",
      "EDF file detected\n",
      "Setting channel info structure...\n",
      "Creating raw.info structure...\n",
      "<ipython-input-3-0a23d589a01a>:4: RuntimeWarning: Channel names are not unique, found duplicates for: {'-', 'T8-P8'}. Applying running numbers for duplicates.\n",
      "  edf = mne.io.read_raw_edf(edf_filename,stim_channel=None)\n",
      "(23, 921600)\n",
      "Extracting EDF parameters from d:\\salma\\UNI\\Sem8\\WS\\physionet.org\\files\\chbmit\\1.0.0\\chb22\\chb22_77.edf...\n",
      "EDF file detected\n",
      "Setting channel info structure...\n",
      "Creating raw.info structure...\n",
      "<ipython-input-3-0a23d589a01a>:4: RuntimeWarning: Channel names are not unique, found duplicates for: {'-', 'T8-P8'}. Applying running numbers for duplicates.\n",
      "  edf = mne.io.read_raw_edf(edf_filename,stim_channel=None)\n",
      "(23, 921600)\n",
      "file: 0 , shape: (23, 921600) \n",
      "total number of windows: 358.0 , number of windows discarded: 0 \n",
      "file: 1 , shape: (23, 921600) \n",
      "total number of windows: 358.0 , number of windows discarded: 0 \n",
      "file: 2 , shape: (23, 921600) \n",
      "total number of windows: 358.0 , number of windows discarded: 0 \n",
      "file: 3 , shape: (23, 921600) \n",
      "total number of windows: 358.0 , number of windows discarded: 0 \n",
      "file: 4 , shape: (23, 921600) \n",
      "total number of windows: 358.0 , number of windows discarded: 0 \n",
      "file: 5 , shape: (23, 921600) \n",
      "total number of windows: 358.0 , number of windows discarded: 0 \n",
      "file: 6 , shape: (23, 921600) \n",
      "total number of windows: 358.0 , number of windows discarded: 0 \n",
      "file: 7 , shape: (23, 921600) \n",
      "total number of windows: 358.0 , number of windows discarded: 0 \n",
      "file: 8 , shape: (23, 921600) \n",
      "total number of windows: 358.0 , number of windows discarded: 0 \n",
      "file: 9 , shape: (23, 921600) \n",
      "total number of windows: 358.0 , number of windows discarded: 0 \n",
      "file: 10 , shape: (23, 924416) \n",
      "total number of windows: 360.0 , number of windows discarded: 0 \n",
      "file: 11 , shape: (23, 921600) \n",
      "total number of windows: 358.0 , number of windows discarded: 0 \n",
      "file: 12 , shape: (23, 921600) \n",
      "total number of windows: 358.0 , number of windows discarded: 0 \n",
      "file: 13 , shape: (23, 921600) \n",
      "total number of windows: 358.0 , number of windows discarded: 0 \n",
      "file: 14 , shape: (23, 921600) \n",
      "total number of windows: 358.0 , number of windows discarded: 0 \n",
      "file: 15 , shape: (23, 921600) \n",
      "total number of windows: 358.0 , number of windows discarded: 0 \n",
      "file: 16 , shape: (23, 921600) \n",
      "total number of windows: 358.0 , number of windows discarded: 6 \n",
      "file: 17 , shape: (23, 921600) \n",
      "total number of windows: 358.0 , number of windows discarded: 0 \n",
      "file: 18 , shape: (23, 921600) \n",
      "total number of windows: 358.0 , number of windows discarded: 0 \n",
      "file: 19 , shape: (23, 921600) \n",
      "total number of windows: 358.0 , number of windows discarded: 0 \n",
      "file: 20 , shape: (23, 921600) \n",
      "total number of windows: 358.0 , number of windows discarded: 0 \n",
      "file: 21 , shape: (23, 921600) \n",
      "total number of windows: 358.0 , number of windows discarded: 6 \n",
      "file: 22 , shape: (23, 921600) \n",
      "total number of windows: 358.0 , number of windows discarded: 0 \n",
      "file: 23 , shape: (23, 921600) \n",
      "total number of windows: 358.0 , number of windows discarded: 0 \n",
      "file: 24 , shape: (23, 921600) \n",
      "total number of windows: 358.0 , number of windows discarded: 0 \n",
      "file: 25 , shape: (23, 921600) \n",
      "total number of windows: 358.0 , number of windows discarded: 0 \n",
      "file: 26 , shape: (23, 921600) \n",
      "total number of windows: 358.0 , number of windows discarded: 0 \n",
      "file: 27 , shape: (23, 921600) \n",
      "total number of windows: 358.0 , number of windows discarded: 6 \n",
      "file: 28 , shape: (23, 921600) \n",
      "total number of windows: 358.0 , number of windows discarded: 0 \n",
      "file: 29 , shape: (23, 921600) \n",
      "total number of windows: 358.0 , number of windows discarded: 0 \n",
      "file: 30 , shape: (23, 921600) \n",
      "total number of windows: 358.0 , number of windows discarded: 0 \n",
      "Extracting EDF parameters from d:\\salma\\UNI\\Sem8\\WS\\physionet.org\\files\\chbmit\\1.0.0\\chb23\\chb23_06.edf...\n",
      "EDF file detected\n",
      "Setting channel info structure...\n",
      "Creating raw.info structure...\n",
      "<ipython-input-3-0a23d589a01a>:4: RuntimeWarning: Channel names are not unique, found duplicates for: {'T8-P8'}. Applying running numbers for duplicates.\n",
      "  edf = mne.io.read_raw_edf(edf_filename,stim_channel=None)\n",
      "(23, 1916416)\n",
      "3962\n",
      "4075\n",
      "Extracting EDF parameters from d:\\salma\\UNI\\Sem8\\WS\\physionet.org\\files\\chbmit\\1.0.0\\chb23\\chb23_07.edf...\n",
      "EDF file detected\n",
      "Setting channel info structure...\n",
      "Creating raw.info structure...\n",
      "<ipython-input-3-0a23d589a01a>:4: RuntimeWarning: Channel names are not unique, found duplicates for: {'T8-P8'}. Applying running numbers for duplicates.\n",
      "  edf = mne.io.read_raw_edf(edf_filename,stim_channel=None)\n",
      "(23, 655360)\n",
      "Extracting EDF parameters from d:\\salma\\UNI\\Sem8\\WS\\physionet.org\\files\\chbmit\\1.0.0\\chb23\\chb23_08.edf...\n",
      "EDF file detected\n",
      "Setting channel info structure...\n",
      "Creating raw.info structure...\n",
      "<ipython-input-3-0a23d589a01a>:4: RuntimeWarning: Channel names are not unique, found duplicates for: {'T8-P8'}. Applying running numbers for duplicates.\n",
      "  edf = mne.io.read_raw_edf(edf_filename,stim_channel=None)\n",
      "(23, 2647552)\n",
      "325\n",
      "345\n",
      "5104\n",
      "5151\n",
      "Extracting EDF parameters from d:\\salma\\UNI\\Sem8\\WS\\physionet.org\\files\\chbmit\\1.0.0\\chb23\\chb23_09.edf...\n",
      "EDF file detected\n",
      "Setting channel info structure...\n",
      "Creating raw.info structure...\n",
      "<ipython-input-3-0a23d589a01a>:4: RuntimeWarning: Channel names are not unique, found duplicates for: {'T8-P8'}. Applying running numbers for duplicates.\n",
      "  edf = mne.io.read_raw_edf(edf_filename,stim_channel=None)\n",
      "(23, 3693056)\n",
      "2589\n",
      "2660\n",
      "6885\n",
      "6947\n",
      "8505\n",
      "8532\n",
      "9580\n",
      "9664\n",
      "Extracting EDF parameters from d:\\salma\\UNI\\Sem8\\WS\\physionet.org\\files\\chbmit\\1.0.0\\chb23\\chb23_10.edf...\n",
      "EDF file detected\n",
      "Setting channel info structure...\n",
      "Creating raw.info structure...\n",
      "<ipython-input-3-0a23d589a01a>:4: RuntimeWarning: Channel names are not unique, found duplicates for: {'T8-P8'}. Applying running numbers for duplicates.\n",
      "  edf = mne.io.read_raw_edf(edf_filename,stim_channel=None)\n",
      "(23, 3686400)\n",
      "Extracting EDF parameters from d:\\salma\\UNI\\Sem8\\WS\\physionet.org\\files\\chbmit\\1.0.0\\chb23\\chb23_16.edf...\n",
      "EDF file detected\n",
      "Setting channel info structure...\n",
      "Creating raw.info structure...\n",
      "<ipython-input-3-0a23d589a01a>:4: RuntimeWarning: Channel names are not unique, found duplicates for: {'T8-P8'}. Applying running numbers for duplicates.\n",
      "  edf = mne.io.read_raw_edf(edf_filename,stim_channel=None)\n",
      "(23, 3686400)\n",
      "Extracting EDF parameters from d:\\salma\\UNI\\Sem8\\WS\\physionet.org\\files\\chbmit\\1.0.0\\chb23\\chb23_17.edf...\n",
      "EDF file detected\n",
      "Setting channel info structure...\n",
      "Creating raw.info structure...\n",
      "<ipython-input-3-0a23d589a01a>:4: RuntimeWarning: Channel names are not unique, found duplicates for: {'T8-P8'}. Applying running numbers for duplicates.\n",
      "  edf = mne.io.read_raw_edf(edf_filename,stim_channel=None)\n",
      "(23, 3222272)\n",
      "Extracting EDF parameters from d:\\salma\\UNI\\Sem8\\WS\\physionet.org\\files\\chbmit\\1.0.0\\chb23\\chb23_19.edf...\n",
      "EDF file detected\n",
      "Setting channel info structure...\n",
      "Creating raw.info structure...\n",
      "<ipython-input-3-0a23d589a01a>:4: RuntimeWarning: Channel names are not unique, found duplicates for: {'T8-P8'}. Applying running numbers for duplicates.\n",
      "  edf = mne.io.read_raw_edf(edf_filename,stim_channel=None)\n",
      "(23, 3686400)\n",
      "Extracting EDF parameters from d:\\salma\\UNI\\Sem8\\WS\\physionet.org\\files\\chbmit\\1.0.0\\chb23\\chb23_20.edf...\n",
      "EDF file detected\n",
      "Setting channel info structure...\n",
      "Creating raw.info structure...\n",
      "<ipython-input-3-0a23d589a01a>:4: RuntimeWarning: Channel names are not unique, found duplicates for: {'T8-P8'}. Applying running numbers for duplicates.\n",
      "  edf = mne.io.read_raw_edf(edf_filename,stim_channel=None)\n",
      "(23, 1282304)\n",
      "file: 0 , shape: (23, 1916416) \n",
      "total number of windows: 747.0 , number of windows discarded: 8 \n",
      "file: 1 , shape: (23, 655360) \n",
      "total number of windows: 254.0 , number of windows discarded: 0 \n",
      "file: 2 , shape: (23, 2647552) \n",
      "total number of windows: 1033.0 , number of windows discarded: 12 \n",
      "file: 3 , shape: (23, 3693056) \n",
      "total number of windows: 1441.0 , number of windows discarded: 24 \n",
      "file: 4 , shape: (23, 3686400) \n",
      "total number of windows: 1438.0 , number of windows discarded: 0 \n",
      "file: 5 , shape: (23, 3686400) \n",
      "total number of windows: 1438.0 , number of windows discarded: 0 \n",
      "file: 6 , shape: (23, 3222272) \n",
      "total number of windows: 1257.0 , number of windows discarded: 0 \n",
      "file: 7 , shape: (23, 3686400) \n",
      "total number of windows: 1438.0 , number of windows discarded: 0 \n",
      "file: 8 , shape: (23, 1282304) \n",
      "total number of windows: 499.0 , number of windows discarded: 0 \n",
      "Extracting EDF parameters from d:\\salma\\UNI\\Sem8\\WS\\physionet.org\\files\\chbmit\\1.0.0\\chb24\\chb24_01.edf...\n",
      "EDF file detected\n",
      "Setting channel info structure...\n",
      "Creating raw.info structure...\n",
      "<ipython-input-3-0a23d589a01a>:4: RuntimeWarning: Channel names are not unique, found duplicates for: {'T8-P8'}. Applying running numbers for duplicates.\n",
      "  edf = mne.io.read_raw_edf(edf_filename,stim_channel=None)\n",
      "(23, 921600)\n",
      "480\n",
      "505\n",
      "480\n",
      "505\n",
      "Extracting EDF parameters from d:\\salma\\UNI\\Sem8\\WS\\physionet.org\\files\\chbmit\\1.0.0\\chb24\\chb24_03.edf...\n",
      "EDF file detected\n",
      "Setting channel info structure...\n",
      "Creating raw.info structure...\n",
      "<ipython-input-3-0a23d589a01a>:4: RuntimeWarning: Channel names are not unique, found duplicates for: {'T8-P8'}. Applying running numbers for duplicates.\n",
      "  edf = mne.io.read_raw_edf(edf_filename,stim_channel=None)\n",
      "(23, 921600)\n",
      "231\n",
      "260\n",
      "231\n",
      "260\n",
      "Extracting EDF parameters from d:\\salma\\UNI\\Sem8\\WS\\physionet.org\\files\\chbmit\\1.0.0\\chb24\\chb24_04.edf...\n",
      "EDF file detected\n",
      "Setting channel info structure...\n",
      "Creating raw.info structure...\n",
      "<ipython-input-3-0a23d589a01a>:4: RuntimeWarning: Channel names are not unique, found duplicates for: {'T8-P8'}. Applying running numbers for duplicates.\n",
      "  edf = mne.io.read_raw_edf(edf_filename,stim_channel=None)\n",
      "(23, 921600)\n",
      "1088\n",
      "1120\n",
      "1088\n",
      "1120\n",
      "1088\n",
      "1120\n",
      "Extracting EDF parameters from d:\\salma\\UNI\\Sem8\\WS\\physionet.org\\files\\chbmit\\1.0.0\\chb24\\chb24_06.edf...\n",
      "EDF file detected\n",
      "Setting channel info structure...\n",
      "Creating raw.info structure...\n",
      "<ipython-input-3-0a23d589a01a>:4: RuntimeWarning: Channel names are not unique, found duplicates for: {'T8-P8'}. Applying running numbers for duplicates.\n",
      "  edf = mne.io.read_raw_edf(edf_filename,stim_channel=None)\n",
      "(23, 921600)\n",
      "1229\n",
      "1253\n",
      "Extracting EDF parameters from d:\\salma\\UNI\\Sem8\\WS\\physionet.org\\files\\chbmit\\1.0.0\\chb24\\chb24_07.edf...\n",
      "EDF file detected\n",
      "Setting channel info structure...\n",
      "Creating raw.info structure...\n",
      "<ipython-input-3-0a23d589a01a>:4: RuntimeWarning: Channel names are not unique, found duplicates for: {'T8-P8'}. Applying running numbers for duplicates.\n",
      "  edf = mne.io.read_raw_edf(edf_filename,stim_channel=None)\n",
      "(23, 921600)\n",
      "38\n",
      "60\n",
      "Extracting EDF parameters from d:\\salma\\UNI\\Sem8\\WS\\physionet.org\\files\\chbmit\\1.0.0\\chb24\\chb24_09.edf...\n",
      "EDF file detected\n",
      "Setting channel info structure...\n",
      "Creating raw.info structure...\n",
      "<ipython-input-3-0a23d589a01a>:4: RuntimeWarning: Channel names are not unique, found duplicates for: {'T8-P8'}. Applying running numbers for duplicates.\n",
      "  edf = mne.io.read_raw_edf(edf_filename,stim_channel=None)\n",
      "(23, 921600)\n",
      "1745\n",
      "1764\n",
      "Extracting EDF parameters from d:\\salma\\UNI\\Sem8\\WS\\physionet.org\\files\\chbmit\\1.0.0\\chb24\\chb24_11.edf...\n",
      "EDF file detected\n",
      "Setting channel info structure...\n",
      "Creating raw.info structure...\n",
      "<ipython-input-3-0a23d589a01a>:4: RuntimeWarning: Channel names are not unique, found duplicates for: {'T8-P8'}. Applying running numbers for duplicates.\n",
      "  edf = mne.io.read_raw_edf(edf_filename,stim_channel=None)\n",
      "(23, 921600)\n",
      "3527\n",
      "3597\n",
      "Extracting EDF parameters from d:\\salma\\UNI\\Sem8\\WS\\physionet.org\\files\\chbmit\\1.0.0\\chb24\\chb24_13.edf...\n",
      "EDF file detected\n",
      "Setting channel info structure...\n",
      "Creating raw.info structure...\n",
      "<ipython-input-3-0a23d589a01a>:4: RuntimeWarning: Channel names are not unique, found duplicates for: {'T8-P8'}. Applying running numbers for duplicates.\n",
      "  edf = mne.io.read_raw_edf(edf_filename,stim_channel=None)\n",
      "(23, 921600)\n",
      "3288\n",
      "3304\n",
      "Extracting EDF parameters from d:\\salma\\UNI\\Sem8\\WS\\physionet.org\\files\\chbmit\\1.0.0\\chb24\\chb24_14.edf...\n",
      "EDF file detected\n",
      "Setting channel info structure...\n",
      "Creating raw.info structure...\n",
      "<ipython-input-3-0a23d589a01a>:4: RuntimeWarning: Channel names are not unique, found duplicates for: {'T8-P8'}. Applying running numbers for duplicates.\n",
      "  edf = mne.io.read_raw_edf(edf_filename,stim_channel=None)\n",
      "(23, 921600)\n",
      "1939\n",
      "1966\n",
      "Extracting EDF parameters from d:\\salma\\UNI\\Sem8\\WS\\physionet.org\\files\\chbmit\\1.0.0\\chb24\\chb24_15.edf...\n",
      "EDF file detected\n",
      "Setting channel info structure...\n",
      "Creating raw.info structure...\n",
      "<ipython-input-3-0a23d589a01a>:4: RuntimeWarning: Channel names are not unique, found duplicates for: {'T8-P8'}. Applying running numbers for duplicates.\n",
      "  edf = mne.io.read_raw_edf(edf_filename,stim_channel=None)\n",
      "(23, 921600)\n",
      "3552\n",
      "3569\n",
      "Extracting EDF parameters from d:\\salma\\UNI\\Sem8\\WS\\physionet.org\\files\\chbmit\\1.0.0\\chb24\\chb24_17.edf...\n",
      "EDF file detected\n",
      "Setting channel info structure...\n",
      "Creating raw.info structure...\n",
      "<ipython-input-3-0a23d589a01a>:4: RuntimeWarning: Channel names are not unique, found duplicates for: {'T8-P8'}. Applying running numbers for duplicates.\n",
      "  edf = mne.io.read_raw_edf(edf_filename,stim_channel=None)\n",
      "(23, 921600)\n",
      "3515\n",
      "3581\n",
      "Extracting EDF parameters from d:\\salma\\UNI\\Sem8\\WS\\physionet.org\\files\\chbmit\\1.0.0\\chb24\\chb24_21.edf...\n",
      "EDF file detected\n",
      "Setting channel info structure...\n",
      "Creating raw.info structure...\n",
      "<ipython-input-3-0a23d589a01a>:4: RuntimeWarning: Channel names are not unique, found duplicates for: {'T8-P8'}. Applying running numbers for duplicates.\n",
      "  edf = mne.io.read_raw_edf(edf_filename,stim_channel=None)\n",
      "(23, 921600)\n",
      "2804\n",
      "2872\n",
      "file: 0 , shape: (23, 921600) \n",
      "total number of windows: 358.0 , number of windows discarded: 3 \n",
      "file: 1 , shape: (23, 921600) \n",
      "total number of windows: 358.0 , number of windows discarded: 4 \n",
      "file: 2 , shape: (23, 921600) \n",
      "total number of windows: 358.0 , number of windows discarded: 6 \n",
      "file: 3 , shape: (23, 921600) \n",
      "total number of windows: 358.0 , number of windows discarded: 6 \n",
      "file: 4 , shape: (23, 921600) \n",
      "total number of windows: 358.0 , number of windows discarded: 4 \n",
      "file: 5 , shape: (23, 921600) \n",
      "total number of windows: 358.0 , number of windows discarded: 6 \n",
      "file: 6 , shape: (23, 921600) \n",
      "total number of windows: 358.0 , number of windows discarded: 4 \n",
      "file: 7 , shape: (23, 921600) \n",
      "total number of windows: 358.0 , number of windows discarded: 6 \n",
      "file: 8 , shape: (23, 921600) \n",
      "total number of windows: 358.0 , number of windows discarded: 6 \n",
      "file: 9 , shape: (23, 921600) \n",
      "total number of windows: 358.0 , number of windows discarded: 5 \n",
      "file: 10 , shape: (23, 921600) \n",
      "total number of windows: 358.0 , number of windows discarded: 5 \n",
      "file: 11 , shape: (23, 921600) \n",
      "total number of windows: 358.0 , number of windows discarded: 6 \n"
     ]
    }
   ],
   "metadata": {
    "tags": [
     "outputPrepend"
    ]
   }
  },
  {
   "cell_type": "markdown",
   "source": [
    "## nodiff_normalised_10\n",
    "- preictal interval is 10 mins before a seizure\n",
    "- no time differential done\n",
    "- PSD method: welch\n",
    "- normalised data\n",
    "- 10sec windows"
   ],
   "metadata": {}
  },
  {
   "cell_type": "code",
   "execution_count": 15,
   "source": [
    "patient_no=1#################\n",
    "\n",
    "for patient_no in range(1,25):\n",
    "    subject_id = patient_no\n",
    "    base_path = \"physionet.org/files/chbmit/1.0.0/\"\n",
    "    edf_file_names = sorted(glob.glob(os.path.join(base_path, \"chb{:02d}/*.edf\".format(subject_id))))\n",
    "    summary_file = os.path.join(base_path, \"chb{:02d}/chb{:02d}-summary.txt\".format(subject_id, subject_id))\n",
    "\n",
    "\n",
    "    summary_content = open(summary_file,'r').read()\n",
    "\n",
    "    X_all = []\n",
    "    y_all = []\n",
    "    for edf_file_name in edf_file_names:\n",
    "        X, y = extract_data_and_labels(edf_file_name, summary_content)\n",
    "        X_all.append(X)\n",
    "        y_all.append(y)\n",
    "\n",
    "    window_size=int(256*5)\n",
    "    for filno in range(0,len(X_all)):###################\n",
    "        recording=X_all[filno]####################\n",
    "        discarded=0\n",
    "        wins=recording.shape[1]//window_size\n",
    "        print('file: {} , shape: {} '.format(filno,recording.shape))\n",
    "        y=label_series(y_all[filno], 10)#############################33333\n",
    "        datapoints_in=[] #for each file\n",
    "        targets=[]\n",
    "        i=0\n",
    "        while i+window_size<recording.shape[1]:\n",
    "            # n_channels=recording.shape[0]\n",
    "            n_channels=23\n",
    "            features=np.zeros(n_channels*9+1)\n",
    "            features[-1]=patient_no\n",
    "            recording.shape\n",
    "            window=recording[:,int(i):int(i+window_size)]\n",
    "            # window=recording[:,int(i):int(i+window_size)]\n",
    "            freqs, psd = signal.welch(window, fs=256)\n",
    "            # features[-2]=psd.sum()\n",
    "            # features[-3]=np.sqrt(np.mean(psd**2))\n",
    "            #removing electric noise\n",
    "            psd[:,57:64]=0\n",
    "            psd[:,117:124]=0\n",
    "            target_range=np.array(y[int(i):int(i+window_size)])\n",
    "            for chi in range (0, n_channels):\n",
    "                # set_frequency(freqs, psd[chi],57,64, 0)\n",
    "                # set_frequency(freqs, psd[chi],117,124, 0)\n",
    "                alpha=np.sum(psd[chi,8:14])\n",
    "                # alpha =extract_frequency(freqs, psd[chi],8,14)\n",
    "                beta=np.sum(psd[chi,13:31])\n",
    "                # beta = extract_frequency(freqs, psd[chi],13,31)\n",
    "                delta=np.sum(psd[chi,1:5])\n",
    "                # delta =extract_frequency(freqs, psd[chi],0.5,5)\n",
    "                theta=np.sum(psd[chi, 4:9])\n",
    "                # theta =extract_frequency(freqs, psd[chi],4,9)\n",
    "                gamma0=np.sum(psd[chi,30:48])\n",
    "                # gamma0=extract_frequency(freqs, psd[chi],30,48)\n",
    "                gamma1=np.sum(psd[chi,53:76])\n",
    "                # gamma1=extract_frequency(freqs, psd[chi],53,76)\n",
    "                gamma2=np.sum(psd[chi,75:98])\n",
    "                # gamma2=extract_frequency(freqs, psd[chi],75,98)\n",
    "                gamma3=np.sum(psd[chi,103:])\n",
    "                # gamma3=extract_frequency(freqs, psd[chi],103,-1)\n",
    "                features[chi*9:(1+chi)*9-1]=[alpha,beta,delta,theta,gamma0,gamma1,gamma2,gamma3]\n",
    "                # total_power=np.sum(features[chi*9:(1+chi)*9-1])\n",
    "                total_power=np.sum(psd[chi])\n",
    "                features[chi*9:(1+chi)*9-1] /= total_power\n",
    "                features[(1+chi)*9-1]=total_power\n",
    "            if np.all(target_range == target_range[0]):\n",
    "                target=target_range[0]\n",
    "                targets.append(target)\n",
    "                datapoints_in.append(features)\n",
    "            else:\n",
    "                discarded+=1               \n",
    "            i+=(window_size/2)\n",
    "        # dp=np.array(datapoints_in)\n",
    "        # D:\\salma\\UNI\\Sem8\\WS\\unnormalized\n",
    "        \n",
    "        save(os.path.join('nodiff_normalised_5_overlap','data_chb{:02d}/features_{}_{:02d}'.format(patient_no, patient_no, filno)), datapoints_in)\n",
    "        save(os.path.join('nodiff_normalised_5_overlap','data_chb{:02d}/targets_{}_{:02d}'.format(patient_no,patient_no, filno)) , targets)\n",
    "        print('total number of windows: {} , number of windows discarded: {} '.format(i/(window_size/2), discarded))\n",
    "        \n",
    "\n"
   ],
   "outputs": [
    {
     "output_type": "stream",
     "name": "stdout",
     "text": [
      "00)\n",
      "3367\n",
      "3425\n",
      "Extracting EDF parameters from d:\\salma\\UNI\\Sem8\\WS\\physionet.org\\files\\chbmit\\1.0.0\\chb22\\chb22_21.edf...\n",
      "EDF file detected\n",
      "Setting channel info structure...\n",
      "Creating raw.info structure...\n",
      "<ipython-input-3-0a23d589a01a>:4: RuntimeWarning: Channel names are not unique, found duplicates for: {'-', 'T8-P8'}. Applying running numbers for duplicates.\n",
      "  edf = mne.io.read_raw_edf(edf_filename,stim_channel=None)\n",
      "(23, 921600)\n",
      "Extracting EDF parameters from d:\\salma\\UNI\\Sem8\\WS\\physionet.org\\files\\chbmit\\1.0.0\\chb22\\chb22_22.edf...\n",
      "EDF file detected\n",
      "Setting channel info structure...\n",
      "Creating raw.info structure...\n",
      "<ipython-input-3-0a23d589a01a>:4: RuntimeWarning: Channel names are not unique, found duplicates for: {'-', 'T8-P8'}. Applying running numbers for duplicates.\n",
      "  edf = mne.io.read_raw_edf(edf_filename,stim_channel=None)\n",
      "(23, 921600)\n",
      "Extracting EDF parameters from d:\\salma\\UNI\\Sem8\\WS\\physionet.org\\files\\chbmit\\1.0.0\\chb22\\chb22_23.edf...\n",
      "EDF file detected\n",
      "Setting channel info structure...\n",
      "Creating raw.info structure...\n",
      "<ipython-input-3-0a23d589a01a>:4: RuntimeWarning: Channel names are not unique, found duplicates for: {'-', 'T8-P8'}. Applying running numbers for duplicates.\n",
      "  edf = mne.io.read_raw_edf(edf_filename,stim_channel=None)\n",
      "(23, 921600)\n",
      "Extracting EDF parameters from d:\\salma\\UNI\\Sem8\\WS\\physionet.org\\files\\chbmit\\1.0.0\\chb22\\chb22_24.edf...\n",
      "EDF file detected\n",
      "Setting channel info structure...\n",
      "Creating raw.info structure...\n",
      "<ipython-input-3-0a23d589a01a>:4: RuntimeWarning: Channel names are not unique, found duplicates for: {'-', 'T8-P8'}. Applying running numbers for duplicates.\n",
      "  edf = mne.io.read_raw_edf(edf_filename,stim_channel=None)\n",
      "(23, 921600)\n",
      "Extracting EDF parameters from d:\\salma\\UNI\\Sem8\\WS\\physionet.org\\files\\chbmit\\1.0.0\\chb22\\chb22_25.edf...\n",
      "EDF file detected\n",
      "Setting channel info structure...\n",
      "Creating raw.info structure...\n",
      "<ipython-input-3-0a23d589a01a>:4: RuntimeWarning: Channel names are not unique, found duplicates for: {'-', 'T8-P8'}. Applying running numbers for duplicates.\n",
      "  edf = mne.io.read_raw_edf(edf_filename,stim_channel=None)\n",
      "(23, 921600)\n",
      "3139\n",
      "3213\n",
      "Extracting EDF parameters from d:\\salma\\UNI\\Sem8\\WS\\physionet.org\\files\\chbmit\\1.0.0\\chb22\\chb22_26.edf...\n",
      "EDF file detected\n",
      "Setting channel info structure...\n",
      "Creating raw.info structure...\n",
      "<ipython-input-3-0a23d589a01a>:4: RuntimeWarning: Channel names are not unique, found duplicates for: {'-', 'T8-P8'}. Applying running numbers for duplicates.\n",
      "  edf = mne.io.read_raw_edf(edf_filename,stim_channel=None)\n",
      "(23, 921600)\n",
      "Extracting EDF parameters from d:\\salma\\UNI\\Sem8\\WS\\physionet.org\\files\\chbmit\\1.0.0\\chb22\\chb22_27.edf...\n",
      "EDF file detected\n",
      "Setting channel info structure...\n",
      "Creating raw.info structure...\n",
      "<ipython-input-3-0a23d589a01a>:4: RuntimeWarning: Channel names are not unique, found duplicates for: {'-', 'T8-P8'}. Applying running numbers for duplicates.\n",
      "  edf = mne.io.read_raw_edf(edf_filename,stim_channel=None)\n",
      "(23, 921600)\n",
      "Extracting EDF parameters from d:\\salma\\UNI\\Sem8\\WS\\physionet.org\\files\\chbmit\\1.0.0\\chb22\\chb22_28.edf...\n",
      "EDF file detected\n",
      "Setting channel info structure...\n",
      "Creating raw.info structure...\n",
      "<ipython-input-3-0a23d589a01a>:4: RuntimeWarning: Channel names are not unique, found duplicates for: {'-', 'T8-P8'}. Applying running numbers for duplicates.\n",
      "  edf = mne.io.read_raw_edf(edf_filename,stim_channel=None)\n",
      "(23, 921600)\n",
      "Extracting EDF parameters from d:\\salma\\UNI\\Sem8\\WS\\physionet.org\\files\\chbmit\\1.0.0\\chb22\\chb22_29.edf...\n",
      "EDF file detected\n",
      "Setting channel info structure...\n",
      "Creating raw.info structure...\n",
      "<ipython-input-3-0a23d589a01a>:4: RuntimeWarning: Channel names are not unique, found duplicates for: {'-', 'T8-P8'}. Applying running numbers for duplicates.\n",
      "  edf = mne.io.read_raw_edf(edf_filename,stim_channel=None)\n",
      "(23, 921600)\n",
      "Extracting EDF parameters from d:\\salma\\UNI\\Sem8\\WS\\physionet.org\\files\\chbmit\\1.0.0\\chb22\\chb22_30.edf...\n",
      "EDF file detected\n",
      "Setting channel info structure...\n",
      "Creating raw.info structure...\n",
      "<ipython-input-3-0a23d589a01a>:4: RuntimeWarning: Channel names are not unique, found duplicates for: {'-', 'T8-P8'}. Applying running numbers for duplicates.\n",
      "  edf = mne.io.read_raw_edf(edf_filename,stim_channel=None)\n",
      "(23, 921600)\n",
      "Extracting EDF parameters from d:\\salma\\UNI\\Sem8\\WS\\physionet.org\\files\\chbmit\\1.0.0\\chb22\\chb22_38.edf...\n",
      "EDF file detected\n",
      "Setting channel info structure...\n",
      "Creating raw.info structure...\n",
      "<ipython-input-3-0a23d589a01a>:4: RuntimeWarning: Channel names are not unique, found duplicates for: {'-', 'T8-P8'}. Applying running numbers for duplicates.\n",
      "  edf = mne.io.read_raw_edf(edf_filename,stim_channel=None)\n",
      "(23, 921600)\n",
      "1263\n",
      "1335\n",
      "Extracting EDF parameters from d:\\salma\\UNI\\Sem8\\WS\\physionet.org\\files\\chbmit\\1.0.0\\chb22\\chb22_51.edf...\n",
      "EDF file detected\n",
      "Setting channel info structure...\n",
      "Creating raw.info structure...\n",
      "<ipython-input-3-0a23d589a01a>:4: RuntimeWarning: Channel names are not unique, found duplicates for: {'-', 'T8-P8'}. Applying running numbers for duplicates.\n",
      "  edf = mne.io.read_raw_edf(edf_filename,stim_channel=None)\n",
      "(23, 921600)\n",
      "Extracting EDF parameters from d:\\salma\\UNI\\Sem8\\WS\\physionet.org\\files\\chbmit\\1.0.0\\chb22\\chb22_54.edf...\n",
      "EDF file detected\n",
      "Setting channel info structure...\n",
      "Creating raw.info structure...\n",
      "<ipython-input-3-0a23d589a01a>:4: RuntimeWarning: Channel names are not unique, found duplicates for: {'-', 'T8-P8'}. Applying running numbers for duplicates.\n",
      "  edf = mne.io.read_raw_edf(edf_filename,stim_channel=None)\n",
      "(23, 921600)\n",
      "Extracting EDF parameters from d:\\salma\\UNI\\Sem8\\WS\\physionet.org\\files\\chbmit\\1.0.0\\chb22\\chb22_77.edf...\n",
      "EDF file detected\n",
      "Setting channel info structure...\n",
      "Creating raw.info structure...\n",
      "<ipython-input-3-0a23d589a01a>:4: RuntimeWarning: Channel names are not unique, found duplicates for: {'-', 'T8-P8'}. Applying running numbers for duplicates.\n",
      "  edf = mne.io.read_raw_edf(edf_filename,stim_channel=None)\n",
      "(23, 921600)\n",
      "file: 0 , shape: (23, 921600) \n",
      "total number of windows: 1438.0 , number of windows discarded: 0 \n",
      "file: 1 , shape: (23, 921600) \n",
      "total number of windows: 1438.0 , number of windows discarded: 0 \n",
      "file: 2 , shape: (23, 921600) \n",
      "total number of windows: 1438.0 , number of windows discarded: 0 \n",
      "file: 3 , shape: (23, 921600) \n",
      "total number of windows: 1438.0 , number of windows discarded: 0 \n",
      "file: 4 , shape: (23, 921600) \n",
      "total number of windows: 1438.0 , number of windows discarded: 0 \n",
      "file: 5 , shape: (23, 921600) \n",
      "total number of windows: 1438.0 , number of windows discarded: 0 \n",
      "file: 6 , shape: (23, 921600) \n",
      "total number of windows: 1438.0 , number of windows discarded: 0 \n",
      "file: 7 , shape: (23, 921600) \n",
      "total number of windows: 1438.0 , number of windows discarded: 0 \n",
      "file: 8 , shape: (23, 921600) \n",
      "total number of windows: 1438.0 , number of windows discarded: 0 \n",
      "file: 9 , shape: (23, 921600) \n",
      "total number of windows: 1438.0 , number of windows discarded: 0 \n",
      "file: 10 , shape: (23, 924416) \n",
      "total number of windows: 1443.0 , number of windows discarded: 0 \n",
      "file: 11 , shape: (23, 921600) \n",
      "total number of windows: 1438.0 , number of windows discarded: 0 \n",
      "file: 12 , shape: (23, 921600) \n",
      "total number of windows: 1438.0 , number of windows discarded: 0 \n",
      "file: 13 , shape: (23, 921600) \n",
      "total number of windows: 1438.0 , number of windows discarded: 0 \n",
      "file: 14 , shape: (23, 921600) \n",
      "total number of windows: 1438.0 , number of windows discarded: 0 \n",
      "file: 15 , shape: (23, 921600) \n",
      "total number of windows: 1438.0 , number of windows discarded: 0 \n",
      "file: 16 , shape: (23, 921600) \n",
      "total number of windows: 1438.0 , number of windows discarded: 6 \n",
      "file: 17 , shape: (23, 921600) \n",
      "total number of windows: 1438.0 , number of windows discarded: 0 \n",
      "file: 18 , shape: (23, 921600) \n",
      "total number of windows: 1438.0 , number of windows discarded: 0 \n",
      "file: 19 , shape: (23, 921600) \n",
      "total number of windows: 1438.0 , number of windows discarded: 0 \n",
      "file: 20 , shape: (23, 921600) \n",
      "total number of windows: 1438.0 , number of windows discarded: 0 \n",
      "file: 21 , shape: (23, 921600) \n",
      "total number of windows: 1438.0 , number of windows discarded: 6 \n",
      "file: 22 , shape: (23, 921600) \n",
      "total number of windows: 1438.0 , number of windows discarded: 0 \n",
      "file: 23 , shape: (23, 921600) \n",
      "total number of windows: 1438.0 , number of windows discarded: 0 \n",
      "file: 24 , shape: (23, 921600) \n",
      "total number of windows: 1438.0 , number of windows discarded: 0 \n",
      "file: 25 , shape: (23, 921600) \n",
      "total number of windows: 1438.0 , number of windows discarded: 0 \n",
      "file: 26 , shape: (23, 921600) \n",
      "total number of windows: 1438.0 , number of windows discarded: 0 \n",
      "file: 27 , shape: (23, 921600) \n",
      "total number of windows: 1438.0 , number of windows discarded: 6 \n",
      "file: 28 , shape: (23, 921600) \n",
      "total number of windows: 1438.0 , number of windows discarded: 0 \n",
      "file: 29 , shape: (23, 921600) \n",
      "total number of windows: 1438.0 , number of windows discarded: 0 \n",
      "file: 30 , shape: (23, 921600) \n",
      "total number of windows: 1438.0 , number of windows discarded: 0 \n",
      "Extracting EDF parameters from d:\\salma\\UNI\\Sem8\\WS\\physionet.org\\files\\chbmit\\1.0.0\\chb23\\chb23_06.edf...\n",
      "EDF file detected\n",
      "Setting channel info structure...\n",
      "Creating raw.info structure...\n",
      "<ipython-input-3-0a23d589a01a>:4: RuntimeWarning: Channel names are not unique, found duplicates for: {'T8-P8'}. Applying running numbers for duplicates.\n",
      "  edf = mne.io.read_raw_edf(edf_filename,stim_channel=None)\n",
      "(23, 1916416)\n",
      "3962\n",
      "4075\n",
      "Extracting EDF parameters from d:\\salma\\UNI\\Sem8\\WS\\physionet.org\\files\\chbmit\\1.0.0\\chb23\\chb23_07.edf...\n",
      "EDF file detected\n",
      "Setting channel info structure...\n",
      "Creating raw.info structure...\n",
      "<ipython-input-3-0a23d589a01a>:4: RuntimeWarning: Channel names are not unique, found duplicates for: {'T8-P8'}. Applying running numbers for duplicates.\n",
      "  edf = mne.io.read_raw_edf(edf_filename,stim_channel=None)\n",
      "(23, 655360)\n",
      "Extracting EDF parameters from d:\\salma\\UNI\\Sem8\\WS\\physionet.org\\files\\chbmit\\1.0.0\\chb23\\chb23_08.edf...\n",
      "EDF file detected\n",
      "Setting channel info structure...\n",
      "Creating raw.info structure...\n",
      "<ipython-input-3-0a23d589a01a>:4: RuntimeWarning: Channel names are not unique, found duplicates for: {'T8-P8'}. Applying running numbers for duplicates.\n",
      "  edf = mne.io.read_raw_edf(edf_filename,stim_channel=None)\n",
      "(23, 2647552)\n",
      "325\n",
      "345\n",
      "5104\n",
      "5151\n",
      "Extracting EDF parameters from d:\\salma\\UNI\\Sem8\\WS\\physionet.org\\files\\chbmit\\1.0.0\\chb23\\chb23_09.edf...\n",
      "EDF file detected\n",
      "Setting channel info structure...\n",
      "Creating raw.info structure...\n",
      "<ipython-input-3-0a23d589a01a>:4: RuntimeWarning: Channel names are not unique, found duplicates for: {'T8-P8'}. Applying running numbers for duplicates.\n",
      "  edf = mne.io.read_raw_edf(edf_filename,stim_channel=None)\n",
      "(23, 3693056)\n",
      "2589\n",
      "2660\n",
      "6885\n",
      "6947\n",
      "8505\n",
      "8532\n",
      "9580\n",
      "9664\n",
      "Extracting EDF parameters from d:\\salma\\UNI\\Sem8\\WS\\physionet.org\\files\\chbmit\\1.0.0\\chb23\\chb23_10.edf...\n",
      "EDF file detected\n",
      "Setting channel info structure...\n",
      "Creating raw.info structure...\n",
      "<ipython-input-3-0a23d589a01a>:4: RuntimeWarning: Channel names are not unique, found duplicates for: {'T8-P8'}. Applying running numbers for duplicates.\n",
      "  edf = mne.io.read_raw_edf(edf_filename,stim_channel=None)\n",
      "(23, 3686400)\n",
      "Extracting EDF parameters from d:\\salma\\UNI\\Sem8\\WS\\physionet.org\\files\\chbmit\\1.0.0\\chb23\\chb23_16.edf...\n",
      "EDF file detected\n",
      "Setting channel info structure...\n",
      "Creating raw.info structure...\n",
      "<ipython-input-3-0a23d589a01a>:4: RuntimeWarning: Channel names are not unique, found duplicates for: {'T8-P8'}. Applying running numbers for duplicates.\n",
      "  edf = mne.io.read_raw_edf(edf_filename,stim_channel=None)\n",
      "(23, 3686400)\n",
      "Extracting EDF parameters from d:\\salma\\UNI\\Sem8\\WS\\physionet.org\\files\\chbmit\\1.0.0\\chb23\\chb23_17.edf...\n",
      "EDF file detected\n",
      "Setting channel info structure...\n",
      "Creating raw.info structure...\n",
      "<ipython-input-3-0a23d589a01a>:4: RuntimeWarning: Channel names are not unique, found duplicates for: {'T8-P8'}. Applying running numbers for duplicates.\n",
      "  edf = mne.io.read_raw_edf(edf_filename,stim_channel=None)\n",
      "(23, 3222272)\n",
      "Extracting EDF parameters from d:\\salma\\UNI\\Sem8\\WS\\physionet.org\\files\\chbmit\\1.0.0\\chb23\\chb23_19.edf...\n",
      "EDF file detected\n",
      "Setting channel info structure...\n",
      "Creating raw.info structure...\n",
      "<ipython-input-3-0a23d589a01a>:4: RuntimeWarning: Channel names are not unique, found duplicates for: {'T8-P8'}. Applying running numbers for duplicates.\n",
      "  edf = mne.io.read_raw_edf(edf_filename,stim_channel=None)\n",
      "(23, 3686400)\n",
      "Extracting EDF parameters from d:\\salma\\UNI\\Sem8\\WS\\physionet.org\\files\\chbmit\\1.0.0\\chb23\\chb23_20.edf...\n",
      "EDF file detected\n",
      "Setting channel info structure...\n",
      "Creating raw.info structure...\n",
      "<ipython-input-3-0a23d589a01a>:4: RuntimeWarning: Channel names are not unique, found duplicates for: {'T8-P8'}. Applying running numbers for duplicates.\n",
      "  edf = mne.io.read_raw_edf(edf_filename,stim_channel=None)\n",
      "(23, 1282304)\n",
      "file: 0 , shape: (23, 1916416) \n",
      "total number of windows: 2993.0 , number of windows discarded: 8 \n",
      "file: 1 , shape: (23, 655360) \n",
      "total number of windows: 1022.0 , number of windows discarded: 0 \n",
      "file: 2 , shape: (23, 2647552) \n",
      "total number of windows: 4135.0 , number of windows discarded: 11 \n",
      "file: 3 , shape: (23, 3693056) \n",
      "total number of windows: 5769.0 , number of windows discarded: 18 \n",
      "file: 4 , shape: (23, 3686400) \n",
      "total number of windows: 5758.0 , number of windows discarded: 0 \n",
      "file: 5 , shape: (23, 3686400) \n",
      "total number of windows: 5758.0 , number of windows discarded: 0 \n",
      "file: 6 , shape: (23, 3222272) \n",
      "total number of windows: 5033.0 , number of windows discarded: 0 \n",
      "file: 7 , shape: (23, 3686400) \n",
      "total number of windows: 5758.0 , number of windows discarded: 0 \n",
      "file: 8 , shape: (23, 1282304) \n",
      "total number of windows: 2002.0 , number of windows discarded: 0 \n",
      "Extracting EDF parameters from d:\\salma\\UNI\\Sem8\\WS\\physionet.org\\files\\chbmit\\1.0.0\\chb24\\chb24_01.edf...\n",
      "EDF file detected\n",
      "Setting channel info structure...\n",
      "Creating raw.info structure...\n",
      "<ipython-input-3-0a23d589a01a>:4: RuntimeWarning: Channel names are not unique, found duplicates for: {'T8-P8'}. Applying running numbers for duplicates.\n",
      "  edf = mne.io.read_raw_edf(edf_filename,stim_channel=None)\n",
      "(23, 921600)\n",
      "480\n",
      "505\n",
      "480\n",
      "505\n",
      "Extracting EDF parameters from d:\\salma\\UNI\\Sem8\\WS\\physionet.org\\files\\chbmit\\1.0.0\\chb24\\chb24_03.edf...\n",
      "EDF file detected\n",
      "Setting channel info structure...\n",
      "Creating raw.info structure...\n",
      "<ipython-input-3-0a23d589a01a>:4: RuntimeWarning: Channel names are not unique, found duplicates for: {'T8-P8'}. Applying running numbers for duplicates.\n",
      "  edf = mne.io.read_raw_edf(edf_filename,stim_channel=None)\n",
      "(23, 921600)\n",
      "231\n",
      "260\n",
      "231\n",
      "260\n",
      "Extracting EDF parameters from d:\\salma\\UNI\\Sem8\\WS\\physionet.org\\files\\chbmit\\1.0.0\\chb24\\chb24_04.edf...\n",
      "EDF file detected\n",
      "Setting channel info structure...\n",
      "Creating raw.info structure...\n",
      "<ipython-input-3-0a23d589a01a>:4: RuntimeWarning: Channel names are not unique, found duplicates for: {'T8-P8'}. Applying running numbers for duplicates.\n",
      "  edf = mne.io.read_raw_edf(edf_filename,stim_channel=None)\n",
      "(23, 921600)\n",
      "1088\n",
      "1120\n",
      "1088\n",
      "1120\n",
      "1088\n",
      "1120\n",
      "Extracting EDF parameters from d:\\salma\\UNI\\Sem8\\WS\\physionet.org\\files\\chbmit\\1.0.0\\chb24\\chb24_06.edf...\n",
      "EDF file detected\n",
      "Setting channel info structure...\n",
      "Creating raw.info structure...\n",
      "<ipython-input-3-0a23d589a01a>:4: RuntimeWarning: Channel names are not unique, found duplicates for: {'T8-P8'}. Applying running numbers for duplicates.\n",
      "  edf = mne.io.read_raw_edf(edf_filename,stim_channel=None)\n",
      "(23, 921600)\n",
      "1229\n",
      "1253\n",
      "Extracting EDF parameters from d:\\salma\\UNI\\Sem8\\WS\\physionet.org\\files\\chbmit\\1.0.0\\chb24\\chb24_07.edf...\n",
      "EDF file detected\n",
      "Setting channel info structure...\n",
      "Creating raw.info structure...\n",
      "<ipython-input-3-0a23d589a01a>:4: RuntimeWarning: Channel names are not unique, found duplicates for: {'T8-P8'}. Applying running numbers for duplicates.\n",
      "  edf = mne.io.read_raw_edf(edf_filename,stim_channel=None)\n",
      "(23, 921600)\n",
      "38\n",
      "60\n",
      "Extracting EDF parameters from d:\\salma\\UNI\\Sem8\\WS\\physionet.org\\files\\chbmit\\1.0.0\\chb24\\chb24_09.edf...\n",
      "EDF file detected\n",
      "Setting channel info structure...\n",
      "Creating raw.info structure...\n",
      "<ipython-input-3-0a23d589a01a>:4: RuntimeWarning: Channel names are not unique, found duplicates for: {'T8-P8'}. Applying running numbers for duplicates.\n",
      "  edf = mne.io.read_raw_edf(edf_filename,stim_channel=None)\n",
      "(23, 921600)\n",
      "1745\n",
      "1764\n",
      "Extracting EDF parameters from d:\\salma\\UNI\\Sem8\\WS\\physionet.org\\files\\chbmit\\1.0.0\\chb24\\chb24_11.edf...\n",
      "EDF file detected\n",
      "Setting channel info structure...\n",
      "Creating raw.info structure...\n",
      "<ipython-input-3-0a23d589a01a>:4: RuntimeWarning: Channel names are not unique, found duplicates for: {'T8-P8'}. Applying running numbers for duplicates.\n",
      "  edf = mne.io.read_raw_edf(edf_filename,stim_channel=None)\n",
      "(23, 921600)\n",
      "3527\n",
      "3597\n",
      "Extracting EDF parameters from d:\\salma\\UNI\\Sem8\\WS\\physionet.org\\files\\chbmit\\1.0.0\\chb24\\chb24_13.edf...\n",
      "EDF file detected\n",
      "Setting channel info structure...\n",
      "Creating raw.info structure...\n",
      "<ipython-input-3-0a23d589a01a>:4: RuntimeWarning: Channel names are not unique, found duplicates for: {'T8-P8'}. Applying running numbers for duplicates.\n",
      "  edf = mne.io.read_raw_edf(edf_filename,stim_channel=None)\n",
      "(23, 921600)\n",
      "3288\n",
      "3304\n",
      "Extracting EDF parameters from d:\\salma\\UNI\\Sem8\\WS\\physionet.org\\files\\chbmit\\1.0.0\\chb24\\chb24_14.edf...\n",
      "EDF file detected\n",
      "Setting channel info structure...\n",
      "Creating raw.info structure...\n",
      "<ipython-input-3-0a23d589a01a>:4: RuntimeWarning: Channel names are not unique, found duplicates for: {'T8-P8'}. Applying running numbers for duplicates.\n",
      "  edf = mne.io.read_raw_edf(edf_filename,stim_channel=None)\n",
      "(23, 921600)\n",
      "1939\n",
      "1966\n",
      "Extracting EDF parameters from d:\\salma\\UNI\\Sem8\\WS\\physionet.org\\files\\chbmit\\1.0.0\\chb24\\chb24_15.edf...\n",
      "EDF file detected\n",
      "Setting channel info structure...\n",
      "Creating raw.info structure...\n",
      "<ipython-input-3-0a23d589a01a>:4: RuntimeWarning: Channel names are not unique, found duplicates for: {'T8-P8'}. Applying running numbers for duplicates.\n",
      "  edf = mne.io.read_raw_edf(edf_filename,stim_channel=None)\n",
      "(23, 921600)\n",
      "3552\n",
      "3569\n",
      "Extracting EDF parameters from d:\\salma\\UNI\\Sem8\\WS\\physionet.org\\files\\chbmit\\1.0.0\\chb24\\chb24_17.edf...\n",
      "EDF file detected\n",
      "Setting channel info structure...\n",
      "Creating raw.info structure...\n",
      "<ipython-input-3-0a23d589a01a>:4: RuntimeWarning: Channel names are not unique, found duplicates for: {'T8-P8'}. Applying running numbers for duplicates.\n",
      "  edf = mne.io.read_raw_edf(edf_filename,stim_channel=None)\n",
      "(23, 921600)\n",
      "3515\n",
      "3581\n",
      "Extracting EDF parameters from d:\\salma\\UNI\\Sem8\\WS\\physionet.org\\files\\chbmit\\1.0.0\\chb24\\chb24_21.edf...\n",
      "EDF file detected\n",
      "Setting channel info structure...\n",
      "Creating raw.info structure...\n",
      "<ipython-input-3-0a23d589a01a>:4: RuntimeWarning: Channel names are not unique, found duplicates for: {'T8-P8'}. Applying running numbers for duplicates.\n",
      "  edf = mne.io.read_raw_edf(edf_filename,stim_channel=None)\n",
      "(23, 921600)\n",
      "2804\n",
      "2872\n",
      "file: 0 , shape: (23, 921600) \n",
      "total number of windows: 1438.0 , number of windows discarded: 3 \n",
      "file: 1 , shape: (23, 921600) \n",
      "total number of windows: 1438.0 , number of windows discarded: 4 \n",
      "file: 2 , shape: (23, 921600) \n",
      "total number of windows: 1438.0 , number of windows discarded: 6 \n",
      "file: 3 , shape: (23, 921600) \n",
      "total number of windows: 1438.0 , number of windows discarded: 6 \n",
      "file: 4 , shape: (23, 921600) \n",
      "total number of windows: 1438.0 , number of windows discarded: 4 \n",
      "file: 5 , shape: (23, 921600) \n",
      "total number of windows: 1438.0 , number of windows discarded: 3 \n",
      "file: 6 , shape: (23, 921600) \n",
      "total number of windows: 1438.0 , number of windows discarded: 4 \n",
      "file: 7 , shape: (23, 921600) \n",
      "total number of windows: 1438.0 , number of windows discarded: 5 \n",
      "file: 8 , shape: (23, 921600) \n",
      "total number of windows: 1438.0 , number of windows discarded: 6 \n",
      "file: 9 , shape: (23, 921600) \n",
      "total number of windows: 1438.0 , number of windows discarded: 5 \n",
      "file: 10 , shape: (23, 921600) \n",
      "total number of windows: 1438.0 , number of windows discarded: 4 \n",
      "file: 11 , shape: (23, 921600) \n",
      "total number of windows: 1438.0 , number of windows discarded: 6 \n"
     ]
    }
   ],
   "metadata": {
    "tags": [
     "outputPrepend"
    ]
   }
  },
  {
   "cell_type": "code",
   "execution_count": 16,
   "source": [
    "patient_no=1#################\n",
    "\n",
    "for patient_no in range(1,25):\n",
    "    subject_id = patient_no\n",
    "    base_path = \"physionet.org/files/chbmit/1.0.0/\"\n",
    "    edf_file_names = sorted(glob.glob(os.path.join(base_path, \"chb{:02d}/*.edf\".format(subject_id))))\n",
    "    summary_file = os.path.join(base_path, \"chb{:02d}/chb{:02d}-summary.txt\".format(subject_id, subject_id))\n",
    "\n",
    "\n",
    "    summary_content = open(summary_file,'r').read()\n",
    "\n",
    "    X_all = []\n",
    "    y_all = []\n",
    "    for edf_file_name in edf_file_names:\n",
    "        X, y = extract_data_and_labels(edf_file_name, summary_content)\n",
    "        X_all.append(X)\n",
    "        y_all.append(y)\n",
    "\n",
    "    window_size=int(256*5)\n",
    "    for filno in range(0,len(X_all)):###################\n",
    "        recording=X_all[filno]####################\n",
    "        discarded=0\n",
    "        wins=recording.shape[1]//window_size\n",
    "        print('file: {} , shape: {} '.format(filno,recording.shape))\n",
    "        y=label_series(y_all[filno], 10)#############################33333\n",
    "        datapoints_in=[] #for each file\n",
    "        targets=[]\n",
    "        i=0\n",
    "        while i+window_size<recording.shape[1]:\n",
    "            # n_channels=recording.shape[0]\n",
    "            n_channels=23\n",
    "            features=np.zeros(n_channels*9+1)\n",
    "            features[-1]=patient_no\n",
    "            recording.shape\n",
    "            window=recording[:,int(i):int(i+window_size)]\n",
    "            # window=recording[:,int(i):int(i+window_size)]\n",
    "            freqs, psd = signal.welch(window, fs=256)\n",
    "            # features[-2]=psd.sum()\n",
    "            # features[-3]=np.sqrt(np.mean(psd**2))\n",
    "            #removing electric noise\n",
    "            psd[:,57:64]=0\n",
    "            psd[:,117:124]=0\n",
    "            target_range=np.array(y[int(i):int(i+window_size)])\n",
    "            for chi in range (0, n_channels):\n",
    "                # set_frequency(freqs, psd[chi],57,64, 0)\n",
    "                # set_frequency(freqs, psd[chi],117,124, 0)\n",
    "                alpha=np.sum(psd[chi,8:14])\n",
    "                # alpha =extract_frequency(freqs, psd[chi],8,14)\n",
    "                beta=np.sum(psd[chi,13:31])\n",
    "                # beta = extract_frequency(freqs, psd[chi],13,31)\n",
    "                delta=np.sum(psd[chi,1:5])\n",
    "                # delta =extract_frequency(freqs, psd[chi],0.5,5)\n",
    "                theta=np.sum(psd[chi, 4:9])\n",
    "                # theta =extract_frequency(freqs, psd[chi],4,9)\n",
    "                gamma0=np.sum(psd[chi,30:48])\n",
    "                # gamma0=extract_frequency(freqs, psd[chi],30,48)\n",
    "                gamma1=np.sum(psd[chi,53:76])\n",
    "                # gamma1=extract_frequency(freqs, psd[chi],53,76)\n",
    "                gamma2=np.sum(psd[chi,75:98])\n",
    "                # gamma2=extract_frequency(freqs, psd[chi],75,98)\n",
    "                gamma3=np.sum(psd[chi,103:])\n",
    "                # gamma3=extract_frequency(freqs, psd[chi],103,-1)\n",
    "                features[chi*9:(1+chi)*9-1]=[alpha,beta,delta,theta,gamma0,gamma1,gamma2,gamma3]\n",
    "                # total_power=np.sum(features[chi*9:(1+chi)*9-1])\n",
    "                total_power=np.sum(psd[chi])\n",
    "                features[chi*9:(1+chi)*9-1] /= total_power\n",
    "                features[(1+chi)*9-1]=total_power\n",
    "            if np.all(target_range == target_range[0]):\n",
    "                target=target_range[0]\n",
    "                targets.append(target)\n",
    "                datapoints_in.append(features)\n",
    "            else:\n",
    "                discarded+=1               \n",
    "            i+=(window_size)\n",
    "        # dp=np.array(datapoints_in)\n",
    "        # D:\\salma\\UNI\\Sem8\\WS\\unnormalized\n",
    "        \n",
    "        save(os.path.join('nodiff_normalised_5','data_chb{:02d}/features_{}_{:02d}'.format(patient_no, patient_no, filno)), datapoints_in)\n",
    "        save(os.path.join('nodiff_normalised_5','data_chb{:02d}/targets_{}_{:02d}'.format(patient_no,patient_no, filno)) , targets)\n",
    "        print('total number of windows: {} , number of windows discarded: {} '.format(i/(window_size/2), discarded))\n",
    "        \n",
    "\n"
   ],
   "outputs": [
    {
     "output_type": "stream",
     "name": "stdout",
     "text": [
      "1600)\n",
      "3367\n",
      "3425\n",
      "Extracting EDF parameters from d:\\salma\\UNI\\Sem8\\WS\\physionet.org\\files\\chbmit\\1.0.0\\chb22\\chb22_21.edf...\n",
      "EDF file detected\n",
      "Setting channel info structure...\n",
      "Creating raw.info structure...\n",
      "<ipython-input-3-0a23d589a01a>:4: RuntimeWarning: Channel names are not unique, found duplicates for: {'-', 'T8-P8'}. Applying running numbers for duplicates.\n",
      "  edf = mne.io.read_raw_edf(edf_filename,stim_channel=None)\n",
      "(23, 921600)\n",
      "Extracting EDF parameters from d:\\salma\\UNI\\Sem8\\WS\\physionet.org\\files\\chbmit\\1.0.0\\chb22\\chb22_22.edf...\n",
      "EDF file detected\n",
      "Setting channel info structure...\n",
      "Creating raw.info structure...\n",
      "<ipython-input-3-0a23d589a01a>:4: RuntimeWarning: Channel names are not unique, found duplicates for: {'-', 'T8-P8'}. Applying running numbers for duplicates.\n",
      "  edf = mne.io.read_raw_edf(edf_filename,stim_channel=None)\n",
      "(23, 921600)\n",
      "Extracting EDF parameters from d:\\salma\\UNI\\Sem8\\WS\\physionet.org\\files\\chbmit\\1.0.0\\chb22\\chb22_23.edf...\n",
      "EDF file detected\n",
      "Setting channel info structure...\n",
      "Creating raw.info structure...\n",
      "<ipython-input-3-0a23d589a01a>:4: RuntimeWarning: Channel names are not unique, found duplicates for: {'-', 'T8-P8'}. Applying running numbers for duplicates.\n",
      "  edf = mne.io.read_raw_edf(edf_filename,stim_channel=None)\n",
      "(23, 921600)\n",
      "Extracting EDF parameters from d:\\salma\\UNI\\Sem8\\WS\\physionet.org\\files\\chbmit\\1.0.0\\chb22\\chb22_24.edf...\n",
      "EDF file detected\n",
      "Setting channel info structure...\n",
      "Creating raw.info structure...\n",
      "<ipython-input-3-0a23d589a01a>:4: RuntimeWarning: Channel names are not unique, found duplicates for: {'-', 'T8-P8'}. Applying running numbers for duplicates.\n",
      "  edf = mne.io.read_raw_edf(edf_filename,stim_channel=None)\n",
      "(23, 921600)\n",
      "Extracting EDF parameters from d:\\salma\\UNI\\Sem8\\WS\\physionet.org\\files\\chbmit\\1.0.0\\chb22\\chb22_25.edf...\n",
      "EDF file detected\n",
      "Setting channel info structure...\n",
      "Creating raw.info structure...\n",
      "<ipython-input-3-0a23d589a01a>:4: RuntimeWarning: Channel names are not unique, found duplicates for: {'-', 'T8-P8'}. Applying running numbers for duplicates.\n",
      "  edf = mne.io.read_raw_edf(edf_filename,stim_channel=None)\n",
      "(23, 921600)\n",
      "3139\n",
      "3213\n",
      "Extracting EDF parameters from d:\\salma\\UNI\\Sem8\\WS\\physionet.org\\files\\chbmit\\1.0.0\\chb22\\chb22_26.edf...\n",
      "EDF file detected\n",
      "Setting channel info structure...\n",
      "Creating raw.info structure...\n",
      "<ipython-input-3-0a23d589a01a>:4: RuntimeWarning: Channel names are not unique, found duplicates for: {'-', 'T8-P8'}. Applying running numbers for duplicates.\n",
      "  edf = mne.io.read_raw_edf(edf_filename,stim_channel=None)\n",
      "(23, 921600)\n",
      "Extracting EDF parameters from d:\\salma\\UNI\\Sem8\\WS\\physionet.org\\files\\chbmit\\1.0.0\\chb22\\chb22_27.edf...\n",
      "EDF file detected\n",
      "Setting channel info structure...\n",
      "Creating raw.info structure...\n",
      "<ipython-input-3-0a23d589a01a>:4: RuntimeWarning: Channel names are not unique, found duplicates for: {'-', 'T8-P8'}. Applying running numbers for duplicates.\n",
      "  edf = mne.io.read_raw_edf(edf_filename,stim_channel=None)\n",
      "(23, 921600)\n",
      "Extracting EDF parameters from d:\\salma\\UNI\\Sem8\\WS\\physionet.org\\files\\chbmit\\1.0.0\\chb22\\chb22_28.edf...\n",
      "EDF file detected\n",
      "Setting channel info structure...\n",
      "Creating raw.info structure...\n",
      "<ipython-input-3-0a23d589a01a>:4: RuntimeWarning: Channel names are not unique, found duplicates for: {'-', 'T8-P8'}. Applying running numbers for duplicates.\n",
      "  edf = mne.io.read_raw_edf(edf_filename,stim_channel=None)\n",
      "(23, 921600)\n",
      "Extracting EDF parameters from d:\\salma\\UNI\\Sem8\\WS\\physionet.org\\files\\chbmit\\1.0.0\\chb22\\chb22_29.edf...\n",
      "EDF file detected\n",
      "Setting channel info structure...\n",
      "Creating raw.info structure...\n",
      "<ipython-input-3-0a23d589a01a>:4: RuntimeWarning: Channel names are not unique, found duplicates for: {'-', 'T8-P8'}. Applying running numbers for duplicates.\n",
      "  edf = mne.io.read_raw_edf(edf_filename,stim_channel=None)\n",
      "(23, 921600)\n",
      "Extracting EDF parameters from d:\\salma\\UNI\\Sem8\\WS\\physionet.org\\files\\chbmit\\1.0.0\\chb22\\chb22_30.edf...\n",
      "EDF file detected\n",
      "Setting channel info structure...\n",
      "Creating raw.info structure...\n",
      "<ipython-input-3-0a23d589a01a>:4: RuntimeWarning: Channel names are not unique, found duplicates for: {'-', 'T8-P8'}. Applying running numbers for duplicates.\n",
      "  edf = mne.io.read_raw_edf(edf_filename,stim_channel=None)\n",
      "(23, 921600)\n",
      "Extracting EDF parameters from d:\\salma\\UNI\\Sem8\\WS\\physionet.org\\files\\chbmit\\1.0.0\\chb22\\chb22_38.edf...\n",
      "EDF file detected\n",
      "Setting channel info structure...\n",
      "Creating raw.info structure...\n",
      "<ipython-input-3-0a23d589a01a>:4: RuntimeWarning: Channel names are not unique, found duplicates for: {'-', 'T8-P8'}. Applying running numbers for duplicates.\n",
      "  edf = mne.io.read_raw_edf(edf_filename,stim_channel=None)\n",
      "(23, 921600)\n",
      "1263\n",
      "1335\n",
      "Extracting EDF parameters from d:\\salma\\UNI\\Sem8\\WS\\physionet.org\\files\\chbmit\\1.0.0\\chb22\\chb22_51.edf...\n",
      "EDF file detected\n",
      "Setting channel info structure...\n",
      "Creating raw.info structure...\n",
      "<ipython-input-3-0a23d589a01a>:4: RuntimeWarning: Channel names are not unique, found duplicates for: {'-', 'T8-P8'}. Applying running numbers for duplicates.\n",
      "  edf = mne.io.read_raw_edf(edf_filename,stim_channel=None)\n",
      "(23, 921600)\n",
      "Extracting EDF parameters from d:\\salma\\UNI\\Sem8\\WS\\physionet.org\\files\\chbmit\\1.0.0\\chb22\\chb22_54.edf...\n",
      "EDF file detected\n",
      "Setting channel info structure...\n",
      "Creating raw.info structure...\n",
      "<ipython-input-3-0a23d589a01a>:4: RuntimeWarning: Channel names are not unique, found duplicates for: {'-', 'T8-P8'}. Applying running numbers for duplicates.\n",
      "  edf = mne.io.read_raw_edf(edf_filename,stim_channel=None)\n",
      "(23, 921600)\n",
      "Extracting EDF parameters from d:\\salma\\UNI\\Sem8\\WS\\physionet.org\\files\\chbmit\\1.0.0\\chb22\\chb22_77.edf...\n",
      "EDF file detected\n",
      "Setting channel info structure...\n",
      "Creating raw.info structure...\n",
      "<ipython-input-3-0a23d589a01a>:4: RuntimeWarning: Channel names are not unique, found duplicates for: {'-', 'T8-P8'}. Applying running numbers for duplicates.\n",
      "  edf = mne.io.read_raw_edf(edf_filename,stim_channel=None)\n",
      "(23, 921600)\n",
      "file: 0 , shape: (23, 921600) \n",
      "total number of windows: 1438.0 , number of windows discarded: 0 \n",
      "file: 1 , shape: (23, 921600) \n",
      "total number of windows: 1438.0 , number of windows discarded: 0 \n",
      "file: 2 , shape: (23, 921600) \n",
      "total number of windows: 1438.0 , number of windows discarded: 0 \n",
      "file: 3 , shape: (23, 921600) \n",
      "total number of windows: 1438.0 , number of windows discarded: 0 \n",
      "file: 4 , shape: (23, 921600) \n",
      "total number of windows: 1438.0 , number of windows discarded: 0 \n",
      "file: 5 , shape: (23, 921600) \n",
      "total number of windows: 1438.0 , number of windows discarded: 0 \n",
      "file: 6 , shape: (23, 921600) \n",
      "total number of windows: 1438.0 , number of windows discarded: 0 \n",
      "file: 7 , shape: (23, 921600) \n",
      "total number of windows: 1438.0 , number of windows discarded: 0 \n",
      "file: 8 , shape: (23, 921600) \n",
      "total number of windows: 1438.0 , number of windows discarded: 0 \n",
      "file: 9 , shape: (23, 921600) \n",
      "total number of windows: 1438.0 , number of windows discarded: 0 \n",
      "file: 10 , shape: (23, 924416) \n",
      "total number of windows: 1444.0 , number of windows discarded: 0 \n",
      "file: 11 , shape: (23, 921600) \n",
      "total number of windows: 1438.0 , number of windows discarded: 0 \n",
      "file: 12 , shape: (23, 921600) \n",
      "total number of windows: 1438.0 , number of windows discarded: 0 \n",
      "file: 13 , shape: (23, 921600) \n",
      "total number of windows: 1438.0 , number of windows discarded: 0 \n",
      "file: 14 , shape: (23, 921600) \n",
      "total number of windows: 1438.0 , number of windows discarded: 0 \n",
      "file: 15 , shape: (23, 921600) \n",
      "total number of windows: 1438.0 , number of windows discarded: 0 \n",
      "file: 16 , shape: (23, 921600) \n",
      "total number of windows: 1438.0 , number of windows discarded: 3 \n",
      "file: 17 , shape: (23, 921600) \n",
      "total number of windows: 1438.0 , number of windows discarded: 0 \n",
      "file: 18 , shape: (23, 921600) \n",
      "total number of windows: 1438.0 , number of windows discarded: 0 \n",
      "file: 19 , shape: (23, 921600) \n",
      "total number of windows: 1438.0 , number of windows discarded: 0 \n",
      "file: 20 , shape: (23, 921600) \n",
      "total number of windows: 1438.0 , number of windows discarded: 0 \n",
      "file: 21 , shape: (23, 921600) \n",
      "total number of windows: 1438.0 , number of windows discarded: 3 \n",
      "file: 22 , shape: (23, 921600) \n",
      "total number of windows: 1438.0 , number of windows discarded: 0 \n",
      "file: 23 , shape: (23, 921600) \n",
      "total number of windows: 1438.0 , number of windows discarded: 0 \n",
      "file: 24 , shape: (23, 921600) \n",
      "total number of windows: 1438.0 , number of windows discarded: 0 \n",
      "file: 25 , shape: (23, 921600) \n",
      "total number of windows: 1438.0 , number of windows discarded: 0 \n",
      "file: 26 , shape: (23, 921600) \n",
      "total number of windows: 1438.0 , number of windows discarded: 0 \n",
      "file: 27 , shape: (23, 921600) \n",
      "total number of windows: 1438.0 , number of windows discarded: 3 \n",
      "file: 28 , shape: (23, 921600) \n",
      "total number of windows: 1438.0 , number of windows discarded: 0 \n",
      "file: 29 , shape: (23, 921600) \n",
      "total number of windows: 1438.0 , number of windows discarded: 0 \n",
      "file: 30 , shape: (23, 921600) \n",
      "total number of windows: 1438.0 , number of windows discarded: 0 \n",
      "Extracting EDF parameters from d:\\salma\\UNI\\Sem8\\WS\\physionet.org\\files\\chbmit\\1.0.0\\chb23\\chb23_06.edf...\n",
      "EDF file detected\n",
      "Setting channel info structure...\n",
      "Creating raw.info structure...\n",
      "<ipython-input-3-0a23d589a01a>:4: RuntimeWarning: Channel names are not unique, found duplicates for: {'T8-P8'}. Applying running numbers for duplicates.\n",
      "  edf = mne.io.read_raw_edf(edf_filename,stim_channel=None)\n",
      "(23, 1916416)\n",
      "3962\n",
      "4075\n",
      "Extracting EDF parameters from d:\\salma\\UNI\\Sem8\\WS\\physionet.org\\files\\chbmit\\1.0.0\\chb23\\chb23_07.edf...\n",
      "EDF file detected\n",
      "Setting channel info structure...\n",
      "Creating raw.info structure...\n",
      "<ipython-input-3-0a23d589a01a>:4: RuntimeWarning: Channel names are not unique, found duplicates for: {'T8-P8'}. Applying running numbers for duplicates.\n",
      "  edf = mne.io.read_raw_edf(edf_filename,stim_channel=None)\n",
      "(23, 655360)\n",
      "Extracting EDF parameters from d:\\salma\\UNI\\Sem8\\WS\\physionet.org\\files\\chbmit\\1.0.0\\chb23\\chb23_08.edf...\n",
      "EDF file detected\n",
      "Setting channel info structure...\n",
      "Creating raw.info structure...\n",
      "<ipython-input-3-0a23d589a01a>:4: RuntimeWarning: Channel names are not unique, found duplicates for: {'T8-P8'}. Applying running numbers for duplicates.\n",
      "  edf = mne.io.read_raw_edf(edf_filename,stim_channel=None)\n",
      "(23, 2647552)\n",
      "325\n",
      "345\n",
      "5104\n",
      "5151\n",
      "Extracting EDF parameters from d:\\salma\\UNI\\Sem8\\WS\\physionet.org\\files\\chbmit\\1.0.0\\chb23\\chb23_09.edf...\n",
      "EDF file detected\n",
      "Setting channel info structure...\n",
      "Creating raw.info structure...\n",
      "<ipython-input-3-0a23d589a01a>:4: RuntimeWarning: Channel names are not unique, found duplicates for: {'T8-P8'}. Applying running numbers for duplicates.\n",
      "  edf = mne.io.read_raw_edf(edf_filename,stim_channel=None)\n",
      "(23, 3693056)\n",
      "2589\n",
      "2660\n",
      "6885\n",
      "6947\n",
      "8505\n",
      "8532\n",
      "9580\n",
      "9664\n",
      "Extracting EDF parameters from d:\\salma\\UNI\\Sem8\\WS\\physionet.org\\files\\chbmit\\1.0.0\\chb23\\chb23_10.edf...\n",
      "EDF file detected\n",
      "Setting channel info structure...\n",
      "Creating raw.info structure...\n",
      "<ipython-input-3-0a23d589a01a>:4: RuntimeWarning: Channel names are not unique, found duplicates for: {'T8-P8'}. Applying running numbers for duplicates.\n",
      "  edf = mne.io.read_raw_edf(edf_filename,stim_channel=None)\n",
      "(23, 3686400)\n",
      "Extracting EDF parameters from d:\\salma\\UNI\\Sem8\\WS\\physionet.org\\files\\chbmit\\1.0.0\\chb23\\chb23_16.edf...\n",
      "EDF file detected\n",
      "Setting channel info structure...\n",
      "Creating raw.info structure...\n",
      "<ipython-input-3-0a23d589a01a>:4: RuntimeWarning: Channel names are not unique, found duplicates for: {'T8-P8'}. Applying running numbers for duplicates.\n",
      "  edf = mne.io.read_raw_edf(edf_filename,stim_channel=None)\n",
      "(23, 3686400)\n",
      "Extracting EDF parameters from d:\\salma\\UNI\\Sem8\\WS\\physionet.org\\files\\chbmit\\1.0.0\\chb23\\chb23_17.edf...\n",
      "EDF file detected\n",
      "Setting channel info structure...\n",
      "Creating raw.info structure...\n",
      "<ipython-input-3-0a23d589a01a>:4: RuntimeWarning: Channel names are not unique, found duplicates for: {'T8-P8'}. Applying running numbers for duplicates.\n",
      "  edf = mne.io.read_raw_edf(edf_filename,stim_channel=None)\n",
      "(23, 3222272)\n",
      "Extracting EDF parameters from d:\\salma\\UNI\\Sem8\\WS\\physionet.org\\files\\chbmit\\1.0.0\\chb23\\chb23_19.edf...\n",
      "EDF file detected\n",
      "Setting channel info structure...\n",
      "Creating raw.info structure...\n",
      "<ipython-input-3-0a23d589a01a>:4: RuntimeWarning: Channel names are not unique, found duplicates for: {'T8-P8'}. Applying running numbers for duplicates.\n",
      "  edf = mne.io.read_raw_edf(edf_filename,stim_channel=None)\n",
      "(23, 3686400)\n",
      "Extracting EDF parameters from d:\\salma\\UNI\\Sem8\\WS\\physionet.org\\files\\chbmit\\1.0.0\\chb23\\chb23_20.edf...\n",
      "EDF file detected\n",
      "Setting channel info structure...\n",
      "Creating raw.info structure...\n",
      "<ipython-input-3-0a23d589a01a>:4: RuntimeWarning: Channel names are not unique, found duplicates for: {'T8-P8'}. Applying running numbers for duplicates.\n",
      "  edf = mne.io.read_raw_edf(edf_filename,stim_channel=None)\n",
      "(23, 1282304)\n",
      "file: 0 , shape: (23, 1916416) \n",
      "total number of windows: 2994.0 , number of windows discarded: 4 \n",
      "file: 1 , shape: (23, 655360) \n",
      "total number of windows: 1022.0 , number of windows discarded: 0 \n",
      "file: 2 , shape: (23, 2647552) \n",
      "total number of windows: 4136.0 , number of windows discarded: 5 \n",
      "file: 3 , shape: (23, 3693056) \n",
      "total number of windows: 5770.0 , number of windows discarded: 5 \n",
      "file: 4 , shape: (23, 3686400) \n",
      "total number of windows: 5758.0 , number of windows discarded: 0 \n",
      "file: 5 , shape: (23, 3686400) \n",
      "total number of windows: 5758.0 , number of windows discarded: 0 \n",
      "file: 6 , shape: (23, 3222272) \n",
      "total number of windows: 5034.0 , number of windows discarded: 0 \n",
      "file: 7 , shape: (23, 3686400) \n",
      "total number of windows: 5758.0 , number of windows discarded: 0 \n",
      "file: 8 , shape: (23, 1282304) \n",
      "total number of windows: 2002.0 , number of windows discarded: 0 \n",
      "Extracting EDF parameters from d:\\salma\\UNI\\Sem8\\WS\\physionet.org\\files\\chbmit\\1.0.0\\chb24\\chb24_01.edf...\n",
      "EDF file detected\n",
      "Setting channel info structure...\n",
      "Creating raw.info structure...\n",
      "<ipython-input-3-0a23d589a01a>:4: RuntimeWarning: Channel names are not unique, found duplicates for: {'T8-P8'}. Applying running numbers for duplicates.\n",
      "  edf = mne.io.read_raw_edf(edf_filename,stim_channel=None)\n",
      "(23, 921600)\n",
      "480\n",
      "505\n",
      "480\n",
      "505\n",
      "Extracting EDF parameters from d:\\salma\\UNI\\Sem8\\WS\\physionet.org\\files\\chbmit\\1.0.0\\chb24\\chb24_03.edf...\n",
      "EDF file detected\n",
      "Setting channel info structure...\n",
      "Creating raw.info structure...\n",
      "<ipython-input-3-0a23d589a01a>:4: RuntimeWarning: Channel names are not unique, found duplicates for: {'T8-P8'}. Applying running numbers for duplicates.\n",
      "  edf = mne.io.read_raw_edf(edf_filename,stim_channel=None)\n",
      "(23, 921600)\n",
      "231\n",
      "260\n",
      "231\n",
      "260\n",
      "Extracting EDF parameters from d:\\salma\\UNI\\Sem8\\WS\\physionet.org\\files\\chbmit\\1.0.0\\chb24\\chb24_04.edf...\n",
      "EDF file detected\n",
      "Setting channel info structure...\n",
      "Creating raw.info structure...\n",
      "<ipython-input-3-0a23d589a01a>:4: RuntimeWarning: Channel names are not unique, found duplicates for: {'T8-P8'}. Applying running numbers for duplicates.\n",
      "  edf = mne.io.read_raw_edf(edf_filename,stim_channel=None)\n",
      "(23, 921600)\n",
      "1088\n",
      "1120\n",
      "1088\n",
      "1120\n",
      "1088\n",
      "1120\n",
      "Extracting EDF parameters from d:\\salma\\UNI\\Sem8\\WS\\physionet.org\\files\\chbmit\\1.0.0\\chb24\\chb24_06.edf...\n",
      "EDF file detected\n",
      "Setting channel info structure...\n",
      "Creating raw.info structure...\n",
      "<ipython-input-3-0a23d589a01a>:4: RuntimeWarning: Channel names are not unique, found duplicates for: {'T8-P8'}. Applying running numbers for duplicates.\n",
      "  edf = mne.io.read_raw_edf(edf_filename,stim_channel=None)\n",
      "(23, 921600)\n",
      "1229\n",
      "1253\n",
      "Extracting EDF parameters from d:\\salma\\UNI\\Sem8\\WS\\physionet.org\\files\\chbmit\\1.0.0\\chb24\\chb24_07.edf...\n",
      "EDF file detected\n",
      "Setting channel info structure...\n",
      "Creating raw.info structure...\n",
      "<ipython-input-3-0a23d589a01a>:4: RuntimeWarning: Channel names are not unique, found duplicates for: {'T8-P8'}. Applying running numbers for duplicates.\n",
      "  edf = mne.io.read_raw_edf(edf_filename,stim_channel=None)\n",
      "(23, 921600)\n",
      "38\n",
      "60\n",
      "Extracting EDF parameters from d:\\salma\\UNI\\Sem8\\WS\\physionet.org\\files\\chbmit\\1.0.0\\chb24\\chb24_09.edf...\n",
      "EDF file detected\n",
      "Setting channel info structure...\n",
      "Creating raw.info structure...\n",
      "<ipython-input-3-0a23d589a01a>:4: RuntimeWarning: Channel names are not unique, found duplicates for: {'T8-P8'}. Applying running numbers for duplicates.\n",
      "  edf = mne.io.read_raw_edf(edf_filename,stim_channel=None)\n",
      "(23, 921600)\n",
      "1745\n",
      "1764\n",
      "Extracting EDF parameters from d:\\salma\\UNI\\Sem8\\WS\\physionet.org\\files\\chbmit\\1.0.0\\chb24\\chb24_11.edf...\n",
      "EDF file detected\n",
      "Setting channel info structure...\n",
      "Creating raw.info structure...\n",
      "<ipython-input-3-0a23d589a01a>:4: RuntimeWarning: Channel names are not unique, found duplicates for: {'T8-P8'}. Applying running numbers for duplicates.\n",
      "  edf = mne.io.read_raw_edf(edf_filename,stim_channel=None)\n",
      "(23, 921600)\n",
      "3527\n",
      "3597\n",
      "Extracting EDF parameters from d:\\salma\\UNI\\Sem8\\WS\\physionet.org\\files\\chbmit\\1.0.0\\chb24\\chb24_13.edf...\n",
      "EDF file detected\n",
      "Setting channel info structure...\n",
      "Creating raw.info structure...\n",
      "<ipython-input-3-0a23d589a01a>:4: RuntimeWarning: Channel names are not unique, found duplicates for: {'T8-P8'}. Applying running numbers for duplicates.\n",
      "  edf = mne.io.read_raw_edf(edf_filename,stim_channel=None)\n",
      "(23, 921600)\n",
      "3288\n",
      "3304\n",
      "Extracting EDF parameters from d:\\salma\\UNI\\Sem8\\WS\\physionet.org\\files\\chbmit\\1.0.0\\chb24\\chb24_14.edf...\n",
      "EDF file detected\n",
      "Setting channel info structure...\n",
      "Creating raw.info structure...\n",
      "<ipython-input-3-0a23d589a01a>:4: RuntimeWarning: Channel names are not unique, found duplicates for: {'T8-P8'}. Applying running numbers for duplicates.\n",
      "  edf = mne.io.read_raw_edf(edf_filename,stim_channel=None)\n",
      "(23, 921600)\n",
      "1939\n",
      "1966\n",
      "Extracting EDF parameters from d:\\salma\\UNI\\Sem8\\WS\\physionet.org\\files\\chbmit\\1.0.0\\chb24\\chb24_15.edf...\n",
      "EDF file detected\n",
      "Setting channel info structure...\n",
      "Creating raw.info structure...\n",
      "<ipython-input-3-0a23d589a01a>:4: RuntimeWarning: Channel names are not unique, found duplicates for: {'T8-P8'}. Applying running numbers for duplicates.\n",
      "  edf = mne.io.read_raw_edf(edf_filename,stim_channel=None)\n",
      "(23, 921600)\n",
      "3552\n",
      "3569\n",
      "Extracting EDF parameters from d:\\salma\\UNI\\Sem8\\WS\\physionet.org\\files\\chbmit\\1.0.0\\chb24\\chb24_17.edf...\n",
      "EDF file detected\n",
      "Setting channel info structure...\n",
      "Creating raw.info structure...\n",
      "<ipython-input-3-0a23d589a01a>:4: RuntimeWarning: Channel names are not unique, found duplicates for: {'T8-P8'}. Applying running numbers for duplicates.\n",
      "  edf = mne.io.read_raw_edf(edf_filename,stim_channel=None)\n",
      "(23, 921600)\n",
      "3515\n",
      "3581\n",
      "Extracting EDF parameters from d:\\salma\\UNI\\Sem8\\WS\\physionet.org\\files\\chbmit\\1.0.0\\chb24\\chb24_21.edf...\n",
      "EDF file detected\n",
      "Setting channel info structure...\n",
      "Creating raw.info structure...\n",
      "<ipython-input-3-0a23d589a01a>:4: RuntimeWarning: Channel names are not unique, found duplicates for: {'T8-P8'}. Applying running numbers for duplicates.\n",
      "  edf = mne.io.read_raw_edf(edf_filename,stim_channel=None)\n",
      "(23, 921600)\n",
      "2804\n",
      "2872\n",
      "file: 0 , shape: (23, 921600) \n",
      "total number of windows: 1438.0 , number of windows discarded: 1 \n",
      "file: 1 , shape: (23, 921600) \n",
      "total number of windows: 1438.0 , number of windows discarded: 2 \n",
      "file: 2 , shape: (23, 921600) \n",
      "total number of windows: 1438.0 , number of windows discarded: 3 \n",
      "file: 3 , shape: (23, 921600) \n",
      "total number of windows: 1438.0 , number of windows discarded: 3 \n",
      "file: 4 , shape: (23, 921600) \n",
      "total number of windows: 1438.0 , number of windows discarded: 2 \n",
      "file: 5 , shape: (23, 921600) \n",
      "total number of windows: 1438.0 , number of windows discarded: 0 \n",
      "file: 6 , shape: (23, 921600) \n",
      "total number of windows: 1438.0 , number of windows discarded: 2 \n",
      "file: 7 , shape: (23, 921600) \n",
      "total number of windows: 1438.0 , number of windows discarded: 2 \n",
      "file: 8 , shape: (23, 921600) \n",
      "total number of windows: 1438.0 , number of windows discarded: 3 \n",
      "file: 9 , shape: (23, 921600) \n",
      "total number of windows: 1438.0 , number of windows discarded: 2 \n",
      "file: 10 , shape: (23, 921600) \n",
      "total number of windows: 1438.0 , number of windows discarded: 1 \n",
      "file: 11 , shape: (23, 921600) \n",
      "total number of windows: 1438.0 , number of windows discarded: 3 \n"
     ]
    }
   ],
   "metadata": {
    "tags": [
     "outputPrepend"
    ]
   }
  },
  {
   "cell_type": "markdown",
   "source": [
    "## nodiff_sum_10\n",
    "- welch\n",
    "- 10sec\n",
    "- 10 mins\n",
    "- no diferentiaition"
   ],
   "metadata": {}
  },
  {
   "cell_type": "code",
   "execution_count": 17,
   "source": [
    "patient_no=1#################\n",
    "\n",
    "for patient_no in range(1,25):\n",
    "    subject_id = patient_no\n",
    "    base_path = \"physionet.org/files/chbmit/1.0.0/\"\n",
    "    edf_file_names = sorted(glob.glob(os.path.join(base_path, \"chb{:02d}/*.edf\".format(subject_id))))\n",
    "    summary_file = os.path.join(base_path, \"chb{:02d}/chb{:02d}-summary.txt\".format(subject_id, subject_id))\n",
    "\n",
    "\n",
    "    summary_content = open(summary_file,'r').read()\n",
    "\n",
    "    X_all = []\n",
    "    y_all = []\n",
    "    for edf_file_name in edf_file_names:\n",
    "        X, y = extract_data_and_labels(edf_file_name, summary_content)\n",
    "        X_all.append(X)\n",
    "        y_all.append(y)\n",
    "\n",
    "    window_size=int(256*5)\n",
    "    for filno in range(0,len(X_all)):###################\n",
    "        recording=X_all[filno]####################\n",
    "        discarded=0\n",
    "        wins=recording.shape[1]//window_size\n",
    "        print('file: {} , shape: {} '.format(filno,recording.shape))\n",
    "        y=label_series(y_all[filno], 10)#############################33333\n",
    "        datapoints_in=[] #for each file\n",
    "        targets=[]\n",
    "        i=0\n",
    "        while i+window_size<recording.shape[1]:\n",
    "            # n_channels=recording.shape[0]\n",
    "            n_channels=23\n",
    "            features=np.zeros(3)\n",
    "            # features[-1]=patient_no\n",
    "            recording.shape\n",
    "            window=recording[:,int(i):int(i+window_size)]\n",
    "            # window=recording[:,int(i):int(i+window_size)]\n",
    "            freqs, psd = signal.welch(window, fs=256)\n",
    "            features[0]=psd.sum()\n",
    "            features[1]=np.sqrt(np.mean(psd**2))\n",
    "            features[2]=patient_no\n",
    "            #removing electric noise\n",
    "            # psd[:,57:64]=0\n",
    "            # psd[:,117:124]=0\n",
    "            target_range=np.array(y[int(i):int(i+window_size)])\n",
    "           \n",
    "            if np.all(target_range == target_range[0]):\n",
    "                target=target_range[0]\n",
    "                targets.append(target)\n",
    "                datapoints_in.append(features)\n",
    "            else:\n",
    "                discarded+=1               \n",
    "            i+=(window_size/2)\n",
    "        # dp=np.array(datapoints_in)\n",
    "        # D:\\salma\\UNI\\Sem8\\WS\\unnormalized\n",
    "        \n",
    "        # mean_sum=np.mean(newdf['rms'][newdf['target']==0])\n",
    "        \n",
    "        \n",
    "        save(os.path.join('nondiff_sum_5_overlap','data_chb{:02d}/features_{}_{:02d}'.format(patient_no, patient_no, filno)), datapoints_in)\n",
    "        save(os.path.join('nondiff_sum_5_overlap','data_chb{:02d}/targets_{}_{:02d}'.format(patient_no,patient_no, filno)) , targets)\n",
    "        print('total number of windows: {} , number of windows discarded: {} '.format(i/(window_size/2), discarded))\n",
    "        \n",
    "\n"
   ],
   "outputs": [
    {
     "output_type": "stream",
     "name": "stdout",
     "text": [
      "00)\n",
      "3367\n",
      "3425\n",
      "Extracting EDF parameters from d:\\salma\\UNI\\Sem8\\WS\\physionet.org\\files\\chbmit\\1.0.0\\chb22\\chb22_21.edf...\n",
      "EDF file detected\n",
      "Setting channel info structure...\n",
      "Creating raw.info structure...\n",
      "<ipython-input-3-0a23d589a01a>:4: RuntimeWarning: Channel names are not unique, found duplicates for: {'-', 'T8-P8'}. Applying running numbers for duplicates.\n",
      "  edf = mne.io.read_raw_edf(edf_filename,stim_channel=None)\n",
      "(23, 921600)\n",
      "Extracting EDF parameters from d:\\salma\\UNI\\Sem8\\WS\\physionet.org\\files\\chbmit\\1.0.0\\chb22\\chb22_22.edf...\n",
      "EDF file detected\n",
      "Setting channel info structure...\n",
      "Creating raw.info structure...\n",
      "<ipython-input-3-0a23d589a01a>:4: RuntimeWarning: Channel names are not unique, found duplicates for: {'-', 'T8-P8'}. Applying running numbers for duplicates.\n",
      "  edf = mne.io.read_raw_edf(edf_filename,stim_channel=None)\n",
      "(23, 921600)\n",
      "Extracting EDF parameters from d:\\salma\\UNI\\Sem8\\WS\\physionet.org\\files\\chbmit\\1.0.0\\chb22\\chb22_23.edf...\n",
      "EDF file detected\n",
      "Setting channel info structure...\n",
      "Creating raw.info structure...\n",
      "<ipython-input-3-0a23d589a01a>:4: RuntimeWarning: Channel names are not unique, found duplicates for: {'-', 'T8-P8'}. Applying running numbers for duplicates.\n",
      "  edf = mne.io.read_raw_edf(edf_filename,stim_channel=None)\n",
      "(23, 921600)\n",
      "Extracting EDF parameters from d:\\salma\\UNI\\Sem8\\WS\\physionet.org\\files\\chbmit\\1.0.0\\chb22\\chb22_24.edf...\n",
      "EDF file detected\n",
      "Setting channel info structure...\n",
      "Creating raw.info structure...\n",
      "<ipython-input-3-0a23d589a01a>:4: RuntimeWarning: Channel names are not unique, found duplicates for: {'-', 'T8-P8'}. Applying running numbers for duplicates.\n",
      "  edf = mne.io.read_raw_edf(edf_filename,stim_channel=None)\n",
      "(23, 921600)\n",
      "Extracting EDF parameters from d:\\salma\\UNI\\Sem8\\WS\\physionet.org\\files\\chbmit\\1.0.0\\chb22\\chb22_25.edf...\n",
      "EDF file detected\n",
      "Setting channel info structure...\n",
      "Creating raw.info structure...\n",
      "<ipython-input-3-0a23d589a01a>:4: RuntimeWarning: Channel names are not unique, found duplicates for: {'-', 'T8-P8'}. Applying running numbers for duplicates.\n",
      "  edf = mne.io.read_raw_edf(edf_filename,stim_channel=None)\n",
      "(23, 921600)\n",
      "3139\n",
      "3213\n",
      "Extracting EDF parameters from d:\\salma\\UNI\\Sem8\\WS\\physionet.org\\files\\chbmit\\1.0.0\\chb22\\chb22_26.edf...\n",
      "EDF file detected\n",
      "Setting channel info structure...\n",
      "Creating raw.info structure...\n",
      "<ipython-input-3-0a23d589a01a>:4: RuntimeWarning: Channel names are not unique, found duplicates for: {'-', 'T8-P8'}. Applying running numbers for duplicates.\n",
      "  edf = mne.io.read_raw_edf(edf_filename,stim_channel=None)\n",
      "(23, 921600)\n",
      "Extracting EDF parameters from d:\\salma\\UNI\\Sem8\\WS\\physionet.org\\files\\chbmit\\1.0.0\\chb22\\chb22_27.edf...\n",
      "EDF file detected\n",
      "Setting channel info structure...\n",
      "Creating raw.info structure...\n",
      "<ipython-input-3-0a23d589a01a>:4: RuntimeWarning: Channel names are not unique, found duplicates for: {'-', 'T8-P8'}. Applying running numbers for duplicates.\n",
      "  edf = mne.io.read_raw_edf(edf_filename,stim_channel=None)\n",
      "(23, 921600)\n",
      "Extracting EDF parameters from d:\\salma\\UNI\\Sem8\\WS\\physionet.org\\files\\chbmit\\1.0.0\\chb22\\chb22_28.edf...\n",
      "EDF file detected\n",
      "Setting channel info structure...\n",
      "Creating raw.info structure...\n",
      "<ipython-input-3-0a23d589a01a>:4: RuntimeWarning: Channel names are not unique, found duplicates for: {'-', 'T8-P8'}. Applying running numbers for duplicates.\n",
      "  edf = mne.io.read_raw_edf(edf_filename,stim_channel=None)\n",
      "(23, 921600)\n",
      "Extracting EDF parameters from d:\\salma\\UNI\\Sem8\\WS\\physionet.org\\files\\chbmit\\1.0.0\\chb22\\chb22_29.edf...\n",
      "EDF file detected\n",
      "Setting channel info structure...\n",
      "Creating raw.info structure...\n",
      "<ipython-input-3-0a23d589a01a>:4: RuntimeWarning: Channel names are not unique, found duplicates for: {'-', 'T8-P8'}. Applying running numbers for duplicates.\n",
      "  edf = mne.io.read_raw_edf(edf_filename,stim_channel=None)\n",
      "(23, 921600)\n",
      "Extracting EDF parameters from d:\\salma\\UNI\\Sem8\\WS\\physionet.org\\files\\chbmit\\1.0.0\\chb22\\chb22_30.edf...\n",
      "EDF file detected\n",
      "Setting channel info structure...\n",
      "Creating raw.info structure...\n",
      "<ipython-input-3-0a23d589a01a>:4: RuntimeWarning: Channel names are not unique, found duplicates for: {'-', 'T8-P8'}. Applying running numbers for duplicates.\n",
      "  edf = mne.io.read_raw_edf(edf_filename,stim_channel=None)\n",
      "(23, 921600)\n",
      "Extracting EDF parameters from d:\\salma\\UNI\\Sem8\\WS\\physionet.org\\files\\chbmit\\1.0.0\\chb22\\chb22_38.edf...\n",
      "EDF file detected\n",
      "Setting channel info structure...\n",
      "Creating raw.info structure...\n",
      "<ipython-input-3-0a23d589a01a>:4: RuntimeWarning: Channel names are not unique, found duplicates for: {'-', 'T8-P8'}. Applying running numbers for duplicates.\n",
      "  edf = mne.io.read_raw_edf(edf_filename,stim_channel=None)\n",
      "(23, 921600)\n",
      "1263\n",
      "1335\n",
      "Extracting EDF parameters from d:\\salma\\UNI\\Sem8\\WS\\physionet.org\\files\\chbmit\\1.0.0\\chb22\\chb22_51.edf...\n",
      "EDF file detected\n",
      "Setting channel info structure...\n",
      "Creating raw.info structure...\n",
      "<ipython-input-3-0a23d589a01a>:4: RuntimeWarning: Channel names are not unique, found duplicates for: {'-', 'T8-P8'}. Applying running numbers for duplicates.\n",
      "  edf = mne.io.read_raw_edf(edf_filename,stim_channel=None)\n",
      "(23, 921600)\n",
      "Extracting EDF parameters from d:\\salma\\UNI\\Sem8\\WS\\physionet.org\\files\\chbmit\\1.0.0\\chb22\\chb22_54.edf...\n",
      "EDF file detected\n",
      "Setting channel info structure...\n",
      "Creating raw.info structure...\n",
      "<ipython-input-3-0a23d589a01a>:4: RuntimeWarning: Channel names are not unique, found duplicates for: {'-', 'T8-P8'}. Applying running numbers for duplicates.\n",
      "  edf = mne.io.read_raw_edf(edf_filename,stim_channel=None)\n",
      "(23, 921600)\n",
      "Extracting EDF parameters from d:\\salma\\UNI\\Sem8\\WS\\physionet.org\\files\\chbmit\\1.0.0\\chb22\\chb22_77.edf...\n",
      "EDF file detected\n",
      "Setting channel info structure...\n",
      "Creating raw.info structure...\n",
      "<ipython-input-3-0a23d589a01a>:4: RuntimeWarning: Channel names are not unique, found duplicates for: {'-', 'T8-P8'}. Applying running numbers for duplicates.\n",
      "  edf = mne.io.read_raw_edf(edf_filename,stim_channel=None)\n",
      "(23, 921600)\n",
      "file: 0 , shape: (23, 921600) \n",
      "total number of windows: 1438.0 , number of windows discarded: 0 \n",
      "file: 1 , shape: (23, 921600) \n",
      "total number of windows: 1438.0 , number of windows discarded: 0 \n",
      "file: 2 , shape: (23, 921600) \n",
      "total number of windows: 1438.0 , number of windows discarded: 0 \n",
      "file: 3 , shape: (23, 921600) \n",
      "total number of windows: 1438.0 , number of windows discarded: 0 \n",
      "file: 4 , shape: (23, 921600) \n",
      "total number of windows: 1438.0 , number of windows discarded: 0 \n",
      "file: 5 , shape: (23, 921600) \n",
      "total number of windows: 1438.0 , number of windows discarded: 0 \n",
      "file: 6 , shape: (23, 921600) \n",
      "total number of windows: 1438.0 , number of windows discarded: 0 \n",
      "file: 7 , shape: (23, 921600) \n",
      "total number of windows: 1438.0 , number of windows discarded: 0 \n",
      "file: 8 , shape: (23, 921600) \n",
      "total number of windows: 1438.0 , number of windows discarded: 0 \n",
      "file: 9 , shape: (23, 921600) \n",
      "total number of windows: 1438.0 , number of windows discarded: 0 \n",
      "file: 10 , shape: (23, 924416) \n",
      "total number of windows: 1443.0 , number of windows discarded: 0 \n",
      "file: 11 , shape: (23, 921600) \n",
      "total number of windows: 1438.0 , number of windows discarded: 0 \n",
      "file: 12 , shape: (23, 921600) \n",
      "total number of windows: 1438.0 , number of windows discarded: 0 \n",
      "file: 13 , shape: (23, 921600) \n",
      "total number of windows: 1438.0 , number of windows discarded: 0 \n",
      "file: 14 , shape: (23, 921600) \n",
      "total number of windows: 1438.0 , number of windows discarded: 0 \n",
      "file: 15 , shape: (23, 921600) \n",
      "total number of windows: 1438.0 , number of windows discarded: 0 \n",
      "file: 16 , shape: (23, 921600) \n",
      "total number of windows: 1438.0 , number of windows discarded: 6 \n",
      "file: 17 , shape: (23, 921600) \n",
      "total number of windows: 1438.0 , number of windows discarded: 0 \n",
      "file: 18 , shape: (23, 921600) \n",
      "total number of windows: 1438.0 , number of windows discarded: 0 \n",
      "file: 19 , shape: (23, 921600) \n",
      "total number of windows: 1438.0 , number of windows discarded: 0 \n",
      "file: 20 , shape: (23, 921600) \n",
      "total number of windows: 1438.0 , number of windows discarded: 0 \n",
      "file: 21 , shape: (23, 921600) \n",
      "total number of windows: 1438.0 , number of windows discarded: 6 \n",
      "file: 22 , shape: (23, 921600) \n",
      "total number of windows: 1438.0 , number of windows discarded: 0 \n",
      "file: 23 , shape: (23, 921600) \n",
      "total number of windows: 1438.0 , number of windows discarded: 0 \n",
      "file: 24 , shape: (23, 921600) \n",
      "total number of windows: 1438.0 , number of windows discarded: 0 \n",
      "file: 25 , shape: (23, 921600) \n",
      "total number of windows: 1438.0 , number of windows discarded: 0 \n",
      "file: 26 , shape: (23, 921600) \n",
      "total number of windows: 1438.0 , number of windows discarded: 0 \n",
      "file: 27 , shape: (23, 921600) \n",
      "total number of windows: 1438.0 , number of windows discarded: 6 \n",
      "file: 28 , shape: (23, 921600) \n",
      "total number of windows: 1438.0 , number of windows discarded: 0 \n",
      "file: 29 , shape: (23, 921600) \n",
      "total number of windows: 1438.0 , number of windows discarded: 0 \n",
      "file: 30 , shape: (23, 921600) \n",
      "total number of windows: 1438.0 , number of windows discarded: 0 \n",
      "Extracting EDF parameters from d:\\salma\\UNI\\Sem8\\WS\\physionet.org\\files\\chbmit\\1.0.0\\chb23\\chb23_06.edf...\n",
      "EDF file detected\n",
      "Setting channel info structure...\n",
      "Creating raw.info structure...\n",
      "<ipython-input-3-0a23d589a01a>:4: RuntimeWarning: Channel names are not unique, found duplicates for: {'T8-P8'}. Applying running numbers for duplicates.\n",
      "  edf = mne.io.read_raw_edf(edf_filename,stim_channel=None)\n",
      "(23, 1916416)\n",
      "3962\n",
      "4075\n",
      "Extracting EDF parameters from d:\\salma\\UNI\\Sem8\\WS\\physionet.org\\files\\chbmit\\1.0.0\\chb23\\chb23_07.edf...\n",
      "EDF file detected\n",
      "Setting channel info structure...\n",
      "Creating raw.info structure...\n",
      "<ipython-input-3-0a23d589a01a>:4: RuntimeWarning: Channel names are not unique, found duplicates for: {'T8-P8'}. Applying running numbers for duplicates.\n",
      "  edf = mne.io.read_raw_edf(edf_filename,stim_channel=None)\n",
      "(23, 655360)\n",
      "Extracting EDF parameters from d:\\salma\\UNI\\Sem8\\WS\\physionet.org\\files\\chbmit\\1.0.0\\chb23\\chb23_08.edf...\n",
      "EDF file detected\n",
      "Setting channel info structure...\n",
      "Creating raw.info structure...\n",
      "<ipython-input-3-0a23d589a01a>:4: RuntimeWarning: Channel names are not unique, found duplicates for: {'T8-P8'}. Applying running numbers for duplicates.\n",
      "  edf = mne.io.read_raw_edf(edf_filename,stim_channel=None)\n",
      "(23, 2647552)\n",
      "325\n",
      "345\n",
      "5104\n",
      "5151\n",
      "Extracting EDF parameters from d:\\salma\\UNI\\Sem8\\WS\\physionet.org\\files\\chbmit\\1.0.0\\chb23\\chb23_09.edf...\n",
      "EDF file detected\n",
      "Setting channel info structure...\n",
      "Creating raw.info structure...\n",
      "<ipython-input-3-0a23d589a01a>:4: RuntimeWarning: Channel names are not unique, found duplicates for: {'T8-P8'}. Applying running numbers for duplicates.\n",
      "  edf = mne.io.read_raw_edf(edf_filename,stim_channel=None)\n",
      "(23, 3693056)\n",
      "2589\n",
      "2660\n",
      "6885\n",
      "6947\n",
      "8505\n",
      "8532\n",
      "9580\n",
      "9664\n",
      "Extracting EDF parameters from d:\\salma\\UNI\\Sem8\\WS\\physionet.org\\files\\chbmit\\1.0.0\\chb23\\chb23_10.edf...\n",
      "EDF file detected\n",
      "Setting channel info structure...\n",
      "Creating raw.info structure...\n",
      "<ipython-input-3-0a23d589a01a>:4: RuntimeWarning: Channel names are not unique, found duplicates for: {'T8-P8'}. Applying running numbers for duplicates.\n",
      "  edf = mne.io.read_raw_edf(edf_filename,stim_channel=None)\n",
      "(23, 3686400)\n",
      "Extracting EDF parameters from d:\\salma\\UNI\\Sem8\\WS\\physionet.org\\files\\chbmit\\1.0.0\\chb23\\chb23_16.edf...\n",
      "EDF file detected\n",
      "Setting channel info structure...\n",
      "Creating raw.info structure...\n",
      "<ipython-input-3-0a23d589a01a>:4: RuntimeWarning: Channel names are not unique, found duplicates for: {'T8-P8'}. Applying running numbers for duplicates.\n",
      "  edf = mne.io.read_raw_edf(edf_filename,stim_channel=None)\n",
      "(23, 3686400)\n",
      "Extracting EDF parameters from d:\\salma\\UNI\\Sem8\\WS\\physionet.org\\files\\chbmit\\1.0.0\\chb23\\chb23_17.edf...\n",
      "EDF file detected\n",
      "Setting channel info structure...\n",
      "Creating raw.info structure...\n",
      "<ipython-input-3-0a23d589a01a>:4: RuntimeWarning: Channel names are not unique, found duplicates for: {'T8-P8'}. Applying running numbers for duplicates.\n",
      "  edf = mne.io.read_raw_edf(edf_filename,stim_channel=None)\n",
      "(23, 3222272)\n",
      "Extracting EDF parameters from d:\\salma\\UNI\\Sem8\\WS\\physionet.org\\files\\chbmit\\1.0.0\\chb23\\chb23_19.edf...\n",
      "EDF file detected\n",
      "Setting channel info structure...\n",
      "Creating raw.info structure...\n",
      "<ipython-input-3-0a23d589a01a>:4: RuntimeWarning: Channel names are not unique, found duplicates for: {'T8-P8'}. Applying running numbers for duplicates.\n",
      "  edf = mne.io.read_raw_edf(edf_filename,stim_channel=None)\n",
      "(23, 3686400)\n",
      "Extracting EDF parameters from d:\\salma\\UNI\\Sem8\\WS\\physionet.org\\files\\chbmit\\1.0.0\\chb23\\chb23_20.edf...\n",
      "EDF file detected\n",
      "Setting channel info structure...\n",
      "Creating raw.info structure...\n",
      "<ipython-input-3-0a23d589a01a>:4: RuntimeWarning: Channel names are not unique, found duplicates for: {'T8-P8'}. Applying running numbers for duplicates.\n",
      "  edf = mne.io.read_raw_edf(edf_filename,stim_channel=None)\n",
      "(23, 1282304)\n",
      "file: 0 , shape: (23, 1916416) \n",
      "total number of windows: 2993.0 , number of windows discarded: 8 \n",
      "file: 1 , shape: (23, 655360) \n",
      "total number of windows: 1022.0 , number of windows discarded: 0 \n",
      "file: 2 , shape: (23, 2647552) \n",
      "total number of windows: 4135.0 , number of windows discarded: 11 \n",
      "file: 3 , shape: (23, 3693056) \n",
      "total number of windows: 5769.0 , number of windows discarded: 18 \n",
      "file: 4 , shape: (23, 3686400) \n",
      "total number of windows: 5758.0 , number of windows discarded: 0 \n",
      "file: 5 , shape: (23, 3686400) \n",
      "total number of windows: 5758.0 , number of windows discarded: 0 \n",
      "file: 6 , shape: (23, 3222272) \n",
      "total number of windows: 5033.0 , number of windows discarded: 0 \n",
      "file: 7 , shape: (23, 3686400) \n",
      "total number of windows: 5758.0 , number of windows discarded: 0 \n",
      "file: 8 , shape: (23, 1282304) \n",
      "total number of windows: 2002.0 , number of windows discarded: 0 \n",
      "Extracting EDF parameters from d:\\salma\\UNI\\Sem8\\WS\\physionet.org\\files\\chbmit\\1.0.0\\chb24\\chb24_01.edf...\n",
      "EDF file detected\n",
      "Setting channel info structure...\n",
      "Creating raw.info structure...\n",
      "<ipython-input-3-0a23d589a01a>:4: RuntimeWarning: Channel names are not unique, found duplicates for: {'T8-P8'}. Applying running numbers for duplicates.\n",
      "  edf = mne.io.read_raw_edf(edf_filename,stim_channel=None)\n",
      "(23, 921600)\n",
      "480\n",
      "505\n",
      "480\n",
      "505\n",
      "Extracting EDF parameters from d:\\salma\\UNI\\Sem8\\WS\\physionet.org\\files\\chbmit\\1.0.0\\chb24\\chb24_03.edf...\n",
      "EDF file detected\n",
      "Setting channel info structure...\n",
      "Creating raw.info structure...\n",
      "<ipython-input-3-0a23d589a01a>:4: RuntimeWarning: Channel names are not unique, found duplicates for: {'T8-P8'}. Applying running numbers for duplicates.\n",
      "  edf = mne.io.read_raw_edf(edf_filename,stim_channel=None)\n",
      "(23, 921600)\n",
      "231\n",
      "260\n",
      "231\n",
      "260\n",
      "Extracting EDF parameters from d:\\salma\\UNI\\Sem8\\WS\\physionet.org\\files\\chbmit\\1.0.0\\chb24\\chb24_04.edf...\n",
      "EDF file detected\n",
      "Setting channel info structure...\n",
      "Creating raw.info structure...\n",
      "<ipython-input-3-0a23d589a01a>:4: RuntimeWarning: Channel names are not unique, found duplicates for: {'T8-P8'}. Applying running numbers for duplicates.\n",
      "  edf = mne.io.read_raw_edf(edf_filename,stim_channel=None)\n",
      "(23, 921600)\n",
      "1088\n",
      "1120\n",
      "1088\n",
      "1120\n",
      "1088\n",
      "1120\n",
      "Extracting EDF parameters from d:\\salma\\UNI\\Sem8\\WS\\physionet.org\\files\\chbmit\\1.0.0\\chb24\\chb24_06.edf...\n",
      "EDF file detected\n",
      "Setting channel info structure...\n",
      "Creating raw.info structure...\n",
      "<ipython-input-3-0a23d589a01a>:4: RuntimeWarning: Channel names are not unique, found duplicates for: {'T8-P8'}. Applying running numbers for duplicates.\n",
      "  edf = mne.io.read_raw_edf(edf_filename,stim_channel=None)\n",
      "(23, 921600)\n",
      "1229\n",
      "1253\n",
      "Extracting EDF parameters from d:\\salma\\UNI\\Sem8\\WS\\physionet.org\\files\\chbmit\\1.0.0\\chb24\\chb24_07.edf...\n",
      "EDF file detected\n",
      "Setting channel info structure...\n",
      "Creating raw.info structure...\n",
      "<ipython-input-3-0a23d589a01a>:4: RuntimeWarning: Channel names are not unique, found duplicates for: {'T8-P8'}. Applying running numbers for duplicates.\n",
      "  edf = mne.io.read_raw_edf(edf_filename,stim_channel=None)\n",
      "(23, 921600)\n",
      "38\n",
      "60\n",
      "Extracting EDF parameters from d:\\salma\\UNI\\Sem8\\WS\\physionet.org\\files\\chbmit\\1.0.0\\chb24\\chb24_09.edf...\n",
      "EDF file detected\n",
      "Setting channel info structure...\n",
      "Creating raw.info structure...\n",
      "<ipython-input-3-0a23d589a01a>:4: RuntimeWarning: Channel names are not unique, found duplicates for: {'T8-P8'}. Applying running numbers for duplicates.\n",
      "  edf = mne.io.read_raw_edf(edf_filename,stim_channel=None)\n",
      "(23, 921600)\n",
      "1745\n",
      "1764\n",
      "Extracting EDF parameters from d:\\salma\\UNI\\Sem8\\WS\\physionet.org\\files\\chbmit\\1.0.0\\chb24\\chb24_11.edf...\n",
      "EDF file detected\n",
      "Setting channel info structure...\n",
      "Creating raw.info structure...\n",
      "<ipython-input-3-0a23d589a01a>:4: RuntimeWarning: Channel names are not unique, found duplicates for: {'T8-P8'}. Applying running numbers for duplicates.\n",
      "  edf = mne.io.read_raw_edf(edf_filename,stim_channel=None)\n",
      "(23, 921600)\n",
      "3527\n",
      "3597\n",
      "Extracting EDF parameters from d:\\salma\\UNI\\Sem8\\WS\\physionet.org\\files\\chbmit\\1.0.0\\chb24\\chb24_13.edf...\n",
      "EDF file detected\n",
      "Setting channel info structure...\n",
      "Creating raw.info structure...\n",
      "<ipython-input-3-0a23d589a01a>:4: RuntimeWarning: Channel names are not unique, found duplicates for: {'T8-P8'}. Applying running numbers for duplicates.\n",
      "  edf = mne.io.read_raw_edf(edf_filename,stim_channel=None)\n",
      "(23, 921600)\n",
      "3288\n",
      "3304\n",
      "Extracting EDF parameters from d:\\salma\\UNI\\Sem8\\WS\\physionet.org\\files\\chbmit\\1.0.0\\chb24\\chb24_14.edf...\n",
      "EDF file detected\n",
      "Setting channel info structure...\n",
      "Creating raw.info structure...\n",
      "<ipython-input-3-0a23d589a01a>:4: RuntimeWarning: Channel names are not unique, found duplicates for: {'T8-P8'}. Applying running numbers for duplicates.\n",
      "  edf = mne.io.read_raw_edf(edf_filename,stim_channel=None)\n",
      "(23, 921600)\n",
      "1939\n",
      "1966\n",
      "Extracting EDF parameters from d:\\salma\\UNI\\Sem8\\WS\\physionet.org\\files\\chbmit\\1.0.0\\chb24\\chb24_15.edf...\n",
      "EDF file detected\n",
      "Setting channel info structure...\n",
      "Creating raw.info structure...\n",
      "<ipython-input-3-0a23d589a01a>:4: RuntimeWarning: Channel names are not unique, found duplicates for: {'T8-P8'}. Applying running numbers for duplicates.\n",
      "  edf = mne.io.read_raw_edf(edf_filename,stim_channel=None)\n",
      "(23, 921600)\n",
      "3552\n",
      "3569\n",
      "Extracting EDF parameters from d:\\salma\\UNI\\Sem8\\WS\\physionet.org\\files\\chbmit\\1.0.0\\chb24\\chb24_17.edf...\n",
      "EDF file detected\n",
      "Setting channel info structure...\n",
      "Creating raw.info structure...\n",
      "<ipython-input-3-0a23d589a01a>:4: RuntimeWarning: Channel names are not unique, found duplicates for: {'T8-P8'}. Applying running numbers for duplicates.\n",
      "  edf = mne.io.read_raw_edf(edf_filename,stim_channel=None)\n",
      "(23, 921600)\n",
      "3515\n",
      "3581\n",
      "Extracting EDF parameters from d:\\salma\\UNI\\Sem8\\WS\\physionet.org\\files\\chbmit\\1.0.0\\chb24\\chb24_21.edf...\n",
      "EDF file detected\n",
      "Setting channel info structure...\n",
      "Creating raw.info structure...\n",
      "<ipython-input-3-0a23d589a01a>:4: RuntimeWarning: Channel names are not unique, found duplicates for: {'T8-P8'}. Applying running numbers for duplicates.\n",
      "  edf = mne.io.read_raw_edf(edf_filename,stim_channel=None)\n",
      "(23, 921600)\n",
      "2804\n",
      "2872\n",
      "file: 0 , shape: (23, 921600) \n",
      "total number of windows: 1438.0 , number of windows discarded: 3 \n",
      "file: 1 , shape: (23, 921600) \n",
      "total number of windows: 1438.0 , number of windows discarded: 4 \n",
      "file: 2 , shape: (23, 921600) \n",
      "total number of windows: 1438.0 , number of windows discarded: 6 \n",
      "file: 3 , shape: (23, 921600) \n",
      "total number of windows: 1438.0 , number of windows discarded: 6 \n",
      "file: 4 , shape: (23, 921600) \n",
      "total number of windows: 1438.0 , number of windows discarded: 4 \n",
      "file: 5 , shape: (23, 921600) \n",
      "total number of windows: 1438.0 , number of windows discarded: 3 \n",
      "file: 6 , shape: (23, 921600) \n",
      "total number of windows: 1438.0 , number of windows discarded: 4 \n",
      "file: 7 , shape: (23, 921600) \n",
      "total number of windows: 1438.0 , number of windows discarded: 5 \n",
      "file: 8 , shape: (23, 921600) \n",
      "total number of windows: 1438.0 , number of windows discarded: 6 \n",
      "file: 9 , shape: (23, 921600) \n",
      "total number of windows: 1438.0 , number of windows discarded: 5 \n",
      "file: 10 , shape: (23, 921600) \n",
      "total number of windows: 1438.0 , number of windows discarded: 4 \n",
      "file: 11 , shape: (23, 921600) \n",
      "total number of windows: 1438.0 , number of windows discarded: 6 \n"
     ]
    }
   ],
   "metadata": {
    "tags": [
     "outputPrepend"
    ]
   }
  },
  {
   "cell_type": "code",
   "execution_count": 18,
   "source": [
    "patient_no=1#################\n",
    "\n",
    "for patient_no in range(1,25):\n",
    "    subject_id = patient_no\n",
    "    base_path = \"physionet.org/files/chbmit/1.0.0/\"\n",
    "    edf_file_names = sorted(glob.glob(os.path.join(base_path, \"chb{:02d}/*.edf\".format(subject_id))))\n",
    "    summary_file = os.path.join(base_path, \"chb{:02d}/chb{:02d}-summary.txt\".format(subject_id, subject_id))\n",
    "\n",
    "\n",
    "    summary_content = open(summary_file,'r').read()\n",
    "\n",
    "    X_all = []\n",
    "    y_all = []\n",
    "    for edf_file_name in edf_file_names:\n",
    "        X, y = extract_data_and_labels(edf_file_name, summary_content)\n",
    "        X_all.append(X)\n",
    "        y_all.append(y)\n",
    "\n",
    "    window_size=int(256*5)\n",
    "    for filno in range(0,len(X_all)):###################\n",
    "        recording=X_all[filno]####################\n",
    "        discarded=0\n",
    "        wins=recording.shape[1]//window_size\n",
    "        print('file: {} , shape: {} '.format(filno,recording.shape))\n",
    "        y=label_series(y_all[filno], 10)#############################33333\n",
    "        datapoints_in=[] #for each file\n",
    "        targets=[]\n",
    "        i=0\n",
    "        while i+window_size<recording.shape[1]:\n",
    "            # n_channels=recording.shape[0]\n",
    "            n_channels=23\n",
    "            features=np.zeros(3)\n",
    "            # features[-1]=patient_no\n",
    "            recording.shape\n",
    "            window=recording[:,int(i):int(i+window_size)]\n",
    "            # window=recording[:,int(i):int(i+window_size)]\n",
    "            freqs, psd = signal.welch(window, fs=256)\n",
    "            features[0]=psd.sum()\n",
    "            features[1]=np.sqrt(np.mean(psd**2))\n",
    "            features[2]=patient_no\n",
    "            #removing electric noise\n",
    "            # psd[:,57:64]=0\n",
    "            # psd[:,117:124]=0\n",
    "            target_range=np.array(y[int(i):int(i+window_size)])\n",
    "           \n",
    "            if np.all(target_range == target_range[0]):\n",
    "                target=target_range[0]\n",
    "                targets.append(target)\n",
    "                datapoints_in.append(features)\n",
    "            else:\n",
    "                discarded+=1               \n",
    "            i+=(window_size)\n",
    "        # dp=np.array(datapoints_in)\n",
    "        # D:\\salma\\UNI\\Sem8\\WS\\unnormalized\n",
    "        \n",
    "        # mean_sum=np.mean(newdf['rms'][newdf['target']==0])\n",
    "        \n",
    "        \n",
    "        save(os.path.join('nondiff_sum_5','data_chb{:02d}/features_{}_{:02d}'.format(patient_no, patient_no, filno)), datapoints_in)\n",
    "        save(os.path.join('nondiff_sum_5','data_chb{:02d}/targets_{}_{:02d}'.format(patient_no,patient_no, filno)) , targets)\n",
    "        print('total number of windows: {} , number of windows discarded: {} '.format(i/(window_size/2), discarded))\n",
    "        \n",
    "\n"
   ],
   "outputs": [
    {
     "output_type": "stream",
     "name": "stdout",
     "text": [
      "1600)\n",
      "3367\n",
      "3425\n",
      "Extracting EDF parameters from d:\\salma\\UNI\\Sem8\\WS\\physionet.org\\files\\chbmit\\1.0.0\\chb22\\chb22_21.edf...\n",
      "EDF file detected\n",
      "Setting channel info structure...\n",
      "Creating raw.info structure...\n",
      "<ipython-input-3-0a23d589a01a>:4: RuntimeWarning: Channel names are not unique, found duplicates for: {'-', 'T8-P8'}. Applying running numbers for duplicates.\n",
      "  edf = mne.io.read_raw_edf(edf_filename,stim_channel=None)\n",
      "(23, 921600)\n",
      "Extracting EDF parameters from d:\\salma\\UNI\\Sem8\\WS\\physionet.org\\files\\chbmit\\1.0.0\\chb22\\chb22_22.edf...\n",
      "EDF file detected\n",
      "Setting channel info structure...\n",
      "Creating raw.info structure...\n",
      "<ipython-input-3-0a23d589a01a>:4: RuntimeWarning: Channel names are not unique, found duplicates for: {'-', 'T8-P8'}. Applying running numbers for duplicates.\n",
      "  edf = mne.io.read_raw_edf(edf_filename,stim_channel=None)\n",
      "(23, 921600)\n",
      "Extracting EDF parameters from d:\\salma\\UNI\\Sem8\\WS\\physionet.org\\files\\chbmit\\1.0.0\\chb22\\chb22_23.edf...\n",
      "EDF file detected\n",
      "Setting channel info structure...\n",
      "Creating raw.info structure...\n",
      "<ipython-input-3-0a23d589a01a>:4: RuntimeWarning: Channel names are not unique, found duplicates for: {'-', 'T8-P8'}. Applying running numbers for duplicates.\n",
      "  edf = mne.io.read_raw_edf(edf_filename,stim_channel=None)\n",
      "(23, 921600)\n",
      "Extracting EDF parameters from d:\\salma\\UNI\\Sem8\\WS\\physionet.org\\files\\chbmit\\1.0.0\\chb22\\chb22_24.edf...\n",
      "EDF file detected\n",
      "Setting channel info structure...\n",
      "Creating raw.info structure...\n",
      "<ipython-input-3-0a23d589a01a>:4: RuntimeWarning: Channel names are not unique, found duplicates for: {'-', 'T8-P8'}. Applying running numbers for duplicates.\n",
      "  edf = mne.io.read_raw_edf(edf_filename,stim_channel=None)\n",
      "(23, 921600)\n",
      "Extracting EDF parameters from d:\\salma\\UNI\\Sem8\\WS\\physionet.org\\files\\chbmit\\1.0.0\\chb22\\chb22_25.edf...\n",
      "EDF file detected\n",
      "Setting channel info structure...\n",
      "Creating raw.info structure...\n",
      "<ipython-input-3-0a23d589a01a>:4: RuntimeWarning: Channel names are not unique, found duplicates for: {'-', 'T8-P8'}. Applying running numbers for duplicates.\n",
      "  edf = mne.io.read_raw_edf(edf_filename,stim_channel=None)\n",
      "(23, 921600)\n",
      "3139\n",
      "3213\n",
      "Extracting EDF parameters from d:\\salma\\UNI\\Sem8\\WS\\physionet.org\\files\\chbmit\\1.0.0\\chb22\\chb22_26.edf...\n",
      "EDF file detected\n",
      "Setting channel info structure...\n",
      "Creating raw.info structure...\n",
      "<ipython-input-3-0a23d589a01a>:4: RuntimeWarning: Channel names are not unique, found duplicates for: {'-', 'T8-P8'}. Applying running numbers for duplicates.\n",
      "  edf = mne.io.read_raw_edf(edf_filename,stim_channel=None)\n",
      "(23, 921600)\n",
      "Extracting EDF parameters from d:\\salma\\UNI\\Sem8\\WS\\physionet.org\\files\\chbmit\\1.0.0\\chb22\\chb22_27.edf...\n",
      "EDF file detected\n",
      "Setting channel info structure...\n",
      "Creating raw.info structure...\n",
      "<ipython-input-3-0a23d589a01a>:4: RuntimeWarning: Channel names are not unique, found duplicates for: {'-', 'T8-P8'}. Applying running numbers for duplicates.\n",
      "  edf = mne.io.read_raw_edf(edf_filename,stim_channel=None)\n",
      "(23, 921600)\n",
      "Extracting EDF parameters from d:\\salma\\UNI\\Sem8\\WS\\physionet.org\\files\\chbmit\\1.0.0\\chb22\\chb22_28.edf...\n",
      "EDF file detected\n",
      "Setting channel info structure...\n",
      "Creating raw.info structure...\n",
      "<ipython-input-3-0a23d589a01a>:4: RuntimeWarning: Channel names are not unique, found duplicates for: {'-', 'T8-P8'}. Applying running numbers for duplicates.\n",
      "  edf = mne.io.read_raw_edf(edf_filename,stim_channel=None)\n",
      "(23, 921600)\n",
      "Extracting EDF parameters from d:\\salma\\UNI\\Sem8\\WS\\physionet.org\\files\\chbmit\\1.0.0\\chb22\\chb22_29.edf...\n",
      "EDF file detected\n",
      "Setting channel info structure...\n",
      "Creating raw.info structure...\n",
      "<ipython-input-3-0a23d589a01a>:4: RuntimeWarning: Channel names are not unique, found duplicates for: {'-', 'T8-P8'}. Applying running numbers for duplicates.\n",
      "  edf = mne.io.read_raw_edf(edf_filename,stim_channel=None)\n",
      "(23, 921600)\n",
      "Extracting EDF parameters from d:\\salma\\UNI\\Sem8\\WS\\physionet.org\\files\\chbmit\\1.0.0\\chb22\\chb22_30.edf...\n",
      "EDF file detected\n",
      "Setting channel info structure...\n",
      "Creating raw.info structure...\n",
      "<ipython-input-3-0a23d589a01a>:4: RuntimeWarning: Channel names are not unique, found duplicates for: {'-', 'T8-P8'}. Applying running numbers for duplicates.\n",
      "  edf = mne.io.read_raw_edf(edf_filename,stim_channel=None)\n",
      "(23, 921600)\n",
      "Extracting EDF parameters from d:\\salma\\UNI\\Sem8\\WS\\physionet.org\\files\\chbmit\\1.0.0\\chb22\\chb22_38.edf...\n",
      "EDF file detected\n",
      "Setting channel info structure...\n",
      "Creating raw.info structure...\n",
      "<ipython-input-3-0a23d589a01a>:4: RuntimeWarning: Channel names are not unique, found duplicates for: {'-', 'T8-P8'}. Applying running numbers for duplicates.\n",
      "  edf = mne.io.read_raw_edf(edf_filename,stim_channel=None)\n",
      "(23, 921600)\n",
      "1263\n",
      "1335\n",
      "Extracting EDF parameters from d:\\salma\\UNI\\Sem8\\WS\\physionet.org\\files\\chbmit\\1.0.0\\chb22\\chb22_51.edf...\n",
      "EDF file detected\n",
      "Setting channel info structure...\n",
      "Creating raw.info structure...\n",
      "<ipython-input-3-0a23d589a01a>:4: RuntimeWarning: Channel names are not unique, found duplicates for: {'-', 'T8-P8'}. Applying running numbers for duplicates.\n",
      "  edf = mne.io.read_raw_edf(edf_filename,stim_channel=None)\n",
      "(23, 921600)\n",
      "Extracting EDF parameters from d:\\salma\\UNI\\Sem8\\WS\\physionet.org\\files\\chbmit\\1.0.0\\chb22\\chb22_54.edf...\n",
      "EDF file detected\n",
      "Setting channel info structure...\n",
      "Creating raw.info structure...\n",
      "<ipython-input-3-0a23d589a01a>:4: RuntimeWarning: Channel names are not unique, found duplicates for: {'-', 'T8-P8'}. Applying running numbers for duplicates.\n",
      "  edf = mne.io.read_raw_edf(edf_filename,stim_channel=None)\n",
      "(23, 921600)\n",
      "Extracting EDF parameters from d:\\salma\\UNI\\Sem8\\WS\\physionet.org\\files\\chbmit\\1.0.0\\chb22\\chb22_77.edf...\n",
      "EDF file detected\n",
      "Setting channel info structure...\n",
      "Creating raw.info structure...\n",
      "<ipython-input-3-0a23d589a01a>:4: RuntimeWarning: Channel names are not unique, found duplicates for: {'-', 'T8-P8'}. Applying running numbers for duplicates.\n",
      "  edf = mne.io.read_raw_edf(edf_filename,stim_channel=None)\n",
      "(23, 921600)\n",
      "file: 0 , shape: (23, 921600) \n",
      "total number of windows: 1438.0 , number of windows discarded: 0 \n",
      "file: 1 , shape: (23, 921600) \n",
      "total number of windows: 1438.0 , number of windows discarded: 0 \n",
      "file: 2 , shape: (23, 921600) \n",
      "total number of windows: 1438.0 , number of windows discarded: 0 \n",
      "file: 3 , shape: (23, 921600) \n",
      "total number of windows: 1438.0 , number of windows discarded: 0 \n",
      "file: 4 , shape: (23, 921600) \n",
      "total number of windows: 1438.0 , number of windows discarded: 0 \n",
      "file: 5 , shape: (23, 921600) \n",
      "total number of windows: 1438.0 , number of windows discarded: 0 \n",
      "file: 6 , shape: (23, 921600) \n",
      "total number of windows: 1438.0 , number of windows discarded: 0 \n",
      "file: 7 , shape: (23, 921600) \n",
      "total number of windows: 1438.0 , number of windows discarded: 0 \n",
      "file: 8 , shape: (23, 921600) \n",
      "total number of windows: 1438.0 , number of windows discarded: 0 \n",
      "file: 9 , shape: (23, 921600) \n",
      "total number of windows: 1438.0 , number of windows discarded: 0 \n",
      "file: 10 , shape: (23, 924416) \n",
      "total number of windows: 1444.0 , number of windows discarded: 0 \n",
      "file: 11 , shape: (23, 921600) \n",
      "total number of windows: 1438.0 , number of windows discarded: 0 \n",
      "file: 12 , shape: (23, 921600) \n",
      "total number of windows: 1438.0 , number of windows discarded: 0 \n",
      "file: 13 , shape: (23, 921600) \n",
      "total number of windows: 1438.0 , number of windows discarded: 0 \n",
      "file: 14 , shape: (23, 921600) \n",
      "total number of windows: 1438.0 , number of windows discarded: 0 \n",
      "file: 15 , shape: (23, 921600) \n",
      "total number of windows: 1438.0 , number of windows discarded: 0 \n",
      "file: 16 , shape: (23, 921600) \n",
      "total number of windows: 1438.0 , number of windows discarded: 3 \n",
      "file: 17 , shape: (23, 921600) \n",
      "total number of windows: 1438.0 , number of windows discarded: 0 \n",
      "file: 18 , shape: (23, 921600) \n",
      "total number of windows: 1438.0 , number of windows discarded: 0 \n",
      "file: 19 , shape: (23, 921600) \n",
      "total number of windows: 1438.0 , number of windows discarded: 0 \n",
      "file: 20 , shape: (23, 921600) \n",
      "total number of windows: 1438.0 , number of windows discarded: 0 \n",
      "file: 21 , shape: (23, 921600) \n",
      "total number of windows: 1438.0 , number of windows discarded: 3 \n",
      "file: 22 , shape: (23, 921600) \n",
      "total number of windows: 1438.0 , number of windows discarded: 0 \n",
      "file: 23 , shape: (23, 921600) \n",
      "total number of windows: 1438.0 , number of windows discarded: 0 \n",
      "file: 24 , shape: (23, 921600) \n",
      "total number of windows: 1438.0 , number of windows discarded: 0 \n",
      "file: 25 , shape: (23, 921600) \n",
      "total number of windows: 1438.0 , number of windows discarded: 0 \n",
      "file: 26 , shape: (23, 921600) \n",
      "total number of windows: 1438.0 , number of windows discarded: 0 \n",
      "file: 27 , shape: (23, 921600) \n",
      "total number of windows: 1438.0 , number of windows discarded: 3 \n",
      "file: 28 , shape: (23, 921600) \n",
      "total number of windows: 1438.0 , number of windows discarded: 0 \n",
      "file: 29 , shape: (23, 921600) \n",
      "total number of windows: 1438.0 , number of windows discarded: 0 \n",
      "file: 30 , shape: (23, 921600) \n",
      "total number of windows: 1438.0 , number of windows discarded: 0 \n",
      "Extracting EDF parameters from d:\\salma\\UNI\\Sem8\\WS\\physionet.org\\files\\chbmit\\1.0.0\\chb23\\chb23_06.edf...\n",
      "EDF file detected\n",
      "Setting channel info structure...\n",
      "Creating raw.info structure...\n",
      "<ipython-input-3-0a23d589a01a>:4: RuntimeWarning: Channel names are not unique, found duplicates for: {'T8-P8'}. Applying running numbers for duplicates.\n",
      "  edf = mne.io.read_raw_edf(edf_filename,stim_channel=None)\n",
      "(23, 1916416)\n",
      "3962\n",
      "4075\n",
      "Extracting EDF parameters from d:\\salma\\UNI\\Sem8\\WS\\physionet.org\\files\\chbmit\\1.0.0\\chb23\\chb23_07.edf...\n",
      "EDF file detected\n",
      "Setting channel info structure...\n",
      "Creating raw.info structure...\n",
      "<ipython-input-3-0a23d589a01a>:4: RuntimeWarning: Channel names are not unique, found duplicates for: {'T8-P8'}. Applying running numbers for duplicates.\n",
      "  edf = mne.io.read_raw_edf(edf_filename,stim_channel=None)\n",
      "(23, 655360)\n",
      "Extracting EDF parameters from d:\\salma\\UNI\\Sem8\\WS\\physionet.org\\files\\chbmit\\1.0.0\\chb23\\chb23_08.edf...\n",
      "EDF file detected\n",
      "Setting channel info structure...\n",
      "Creating raw.info structure...\n",
      "<ipython-input-3-0a23d589a01a>:4: RuntimeWarning: Channel names are not unique, found duplicates for: {'T8-P8'}. Applying running numbers for duplicates.\n",
      "  edf = mne.io.read_raw_edf(edf_filename,stim_channel=None)\n",
      "(23, 2647552)\n",
      "325\n",
      "345\n",
      "5104\n",
      "5151\n",
      "Extracting EDF parameters from d:\\salma\\UNI\\Sem8\\WS\\physionet.org\\files\\chbmit\\1.0.0\\chb23\\chb23_09.edf...\n",
      "EDF file detected\n",
      "Setting channel info structure...\n",
      "Creating raw.info structure...\n",
      "<ipython-input-3-0a23d589a01a>:4: RuntimeWarning: Channel names are not unique, found duplicates for: {'T8-P8'}. Applying running numbers for duplicates.\n",
      "  edf = mne.io.read_raw_edf(edf_filename,stim_channel=None)\n",
      "(23, 3693056)\n",
      "2589\n",
      "2660\n",
      "6885\n",
      "6947\n",
      "8505\n",
      "8532\n",
      "9580\n",
      "9664\n",
      "Extracting EDF parameters from d:\\salma\\UNI\\Sem8\\WS\\physionet.org\\files\\chbmit\\1.0.0\\chb23\\chb23_10.edf...\n",
      "EDF file detected\n",
      "Setting channel info structure...\n",
      "Creating raw.info structure...\n",
      "<ipython-input-3-0a23d589a01a>:4: RuntimeWarning: Channel names are not unique, found duplicates for: {'T8-P8'}. Applying running numbers for duplicates.\n",
      "  edf = mne.io.read_raw_edf(edf_filename,stim_channel=None)\n",
      "(23, 3686400)\n",
      "Extracting EDF parameters from d:\\salma\\UNI\\Sem8\\WS\\physionet.org\\files\\chbmit\\1.0.0\\chb23\\chb23_16.edf...\n",
      "EDF file detected\n",
      "Setting channel info structure...\n",
      "Creating raw.info structure...\n",
      "<ipython-input-3-0a23d589a01a>:4: RuntimeWarning: Channel names are not unique, found duplicates for: {'T8-P8'}. Applying running numbers for duplicates.\n",
      "  edf = mne.io.read_raw_edf(edf_filename,stim_channel=None)\n",
      "(23, 3686400)\n",
      "Extracting EDF parameters from d:\\salma\\UNI\\Sem8\\WS\\physionet.org\\files\\chbmit\\1.0.0\\chb23\\chb23_17.edf...\n",
      "EDF file detected\n",
      "Setting channel info structure...\n",
      "Creating raw.info structure...\n",
      "<ipython-input-3-0a23d589a01a>:4: RuntimeWarning: Channel names are not unique, found duplicates for: {'T8-P8'}. Applying running numbers for duplicates.\n",
      "  edf = mne.io.read_raw_edf(edf_filename,stim_channel=None)\n",
      "(23, 3222272)\n",
      "Extracting EDF parameters from d:\\salma\\UNI\\Sem8\\WS\\physionet.org\\files\\chbmit\\1.0.0\\chb23\\chb23_19.edf...\n",
      "EDF file detected\n",
      "Setting channel info structure...\n",
      "Creating raw.info structure...\n",
      "<ipython-input-3-0a23d589a01a>:4: RuntimeWarning: Channel names are not unique, found duplicates for: {'T8-P8'}. Applying running numbers for duplicates.\n",
      "  edf = mne.io.read_raw_edf(edf_filename,stim_channel=None)\n",
      "(23, 3686400)\n",
      "Extracting EDF parameters from d:\\salma\\UNI\\Sem8\\WS\\physionet.org\\files\\chbmit\\1.0.0\\chb23\\chb23_20.edf...\n",
      "EDF file detected\n",
      "Setting channel info structure...\n",
      "Creating raw.info structure...\n",
      "<ipython-input-3-0a23d589a01a>:4: RuntimeWarning: Channel names are not unique, found duplicates for: {'T8-P8'}. Applying running numbers for duplicates.\n",
      "  edf = mne.io.read_raw_edf(edf_filename,stim_channel=None)\n",
      "(23, 1282304)\n",
      "file: 0 , shape: (23, 1916416) \n",
      "total number of windows: 2994.0 , number of windows discarded: 4 \n",
      "file: 1 , shape: (23, 655360) \n",
      "total number of windows: 1022.0 , number of windows discarded: 0 \n",
      "file: 2 , shape: (23, 2647552) \n",
      "total number of windows: 4136.0 , number of windows discarded: 5 \n",
      "file: 3 , shape: (23, 3693056) \n",
      "total number of windows: 5770.0 , number of windows discarded: 5 \n",
      "file: 4 , shape: (23, 3686400) \n",
      "total number of windows: 5758.0 , number of windows discarded: 0 \n",
      "file: 5 , shape: (23, 3686400) \n",
      "total number of windows: 5758.0 , number of windows discarded: 0 \n",
      "file: 6 , shape: (23, 3222272) \n",
      "total number of windows: 5034.0 , number of windows discarded: 0 \n",
      "file: 7 , shape: (23, 3686400) \n",
      "total number of windows: 5758.0 , number of windows discarded: 0 \n",
      "file: 8 , shape: (23, 1282304) \n",
      "total number of windows: 2002.0 , number of windows discarded: 0 \n",
      "Extracting EDF parameters from d:\\salma\\UNI\\Sem8\\WS\\physionet.org\\files\\chbmit\\1.0.0\\chb24\\chb24_01.edf...\n",
      "EDF file detected\n",
      "Setting channel info structure...\n",
      "Creating raw.info structure...\n",
      "<ipython-input-3-0a23d589a01a>:4: RuntimeWarning: Channel names are not unique, found duplicates for: {'T8-P8'}. Applying running numbers for duplicates.\n",
      "  edf = mne.io.read_raw_edf(edf_filename,stim_channel=None)\n",
      "(23, 921600)\n",
      "480\n",
      "505\n",
      "480\n",
      "505\n",
      "Extracting EDF parameters from d:\\salma\\UNI\\Sem8\\WS\\physionet.org\\files\\chbmit\\1.0.0\\chb24\\chb24_03.edf...\n",
      "EDF file detected\n",
      "Setting channel info structure...\n",
      "Creating raw.info structure...\n",
      "<ipython-input-3-0a23d589a01a>:4: RuntimeWarning: Channel names are not unique, found duplicates for: {'T8-P8'}. Applying running numbers for duplicates.\n",
      "  edf = mne.io.read_raw_edf(edf_filename,stim_channel=None)\n",
      "(23, 921600)\n",
      "231\n",
      "260\n",
      "231\n",
      "260\n",
      "Extracting EDF parameters from d:\\salma\\UNI\\Sem8\\WS\\physionet.org\\files\\chbmit\\1.0.0\\chb24\\chb24_04.edf...\n",
      "EDF file detected\n",
      "Setting channel info structure...\n",
      "Creating raw.info structure...\n",
      "<ipython-input-3-0a23d589a01a>:4: RuntimeWarning: Channel names are not unique, found duplicates for: {'T8-P8'}. Applying running numbers for duplicates.\n",
      "  edf = mne.io.read_raw_edf(edf_filename,stim_channel=None)\n",
      "(23, 921600)\n",
      "1088\n",
      "1120\n",
      "1088\n",
      "1120\n",
      "1088\n",
      "1120\n",
      "Extracting EDF parameters from d:\\salma\\UNI\\Sem8\\WS\\physionet.org\\files\\chbmit\\1.0.0\\chb24\\chb24_06.edf...\n",
      "EDF file detected\n",
      "Setting channel info structure...\n",
      "Creating raw.info structure...\n",
      "<ipython-input-3-0a23d589a01a>:4: RuntimeWarning: Channel names are not unique, found duplicates for: {'T8-P8'}. Applying running numbers for duplicates.\n",
      "  edf = mne.io.read_raw_edf(edf_filename,stim_channel=None)\n",
      "(23, 921600)\n",
      "1229\n",
      "1253\n",
      "Extracting EDF parameters from d:\\salma\\UNI\\Sem8\\WS\\physionet.org\\files\\chbmit\\1.0.0\\chb24\\chb24_07.edf...\n",
      "EDF file detected\n",
      "Setting channel info structure...\n",
      "Creating raw.info structure...\n",
      "<ipython-input-3-0a23d589a01a>:4: RuntimeWarning: Channel names are not unique, found duplicates for: {'T8-P8'}. Applying running numbers for duplicates.\n",
      "  edf = mne.io.read_raw_edf(edf_filename,stim_channel=None)\n",
      "(23, 921600)\n",
      "38\n",
      "60\n",
      "Extracting EDF parameters from d:\\salma\\UNI\\Sem8\\WS\\physionet.org\\files\\chbmit\\1.0.0\\chb24\\chb24_09.edf...\n",
      "EDF file detected\n",
      "Setting channel info structure...\n",
      "Creating raw.info structure...\n",
      "<ipython-input-3-0a23d589a01a>:4: RuntimeWarning: Channel names are not unique, found duplicates for: {'T8-P8'}. Applying running numbers for duplicates.\n",
      "  edf = mne.io.read_raw_edf(edf_filename,stim_channel=None)\n",
      "(23, 921600)\n",
      "1745\n",
      "1764\n",
      "Extracting EDF parameters from d:\\salma\\UNI\\Sem8\\WS\\physionet.org\\files\\chbmit\\1.0.0\\chb24\\chb24_11.edf...\n",
      "EDF file detected\n",
      "Setting channel info structure...\n",
      "Creating raw.info structure...\n",
      "<ipython-input-3-0a23d589a01a>:4: RuntimeWarning: Channel names are not unique, found duplicates for: {'T8-P8'}. Applying running numbers for duplicates.\n",
      "  edf = mne.io.read_raw_edf(edf_filename,stim_channel=None)\n",
      "(23, 921600)\n",
      "3527\n",
      "3597\n",
      "Extracting EDF parameters from d:\\salma\\UNI\\Sem8\\WS\\physionet.org\\files\\chbmit\\1.0.0\\chb24\\chb24_13.edf...\n",
      "EDF file detected\n",
      "Setting channel info structure...\n",
      "Creating raw.info structure...\n",
      "<ipython-input-3-0a23d589a01a>:4: RuntimeWarning: Channel names are not unique, found duplicates for: {'T8-P8'}. Applying running numbers for duplicates.\n",
      "  edf = mne.io.read_raw_edf(edf_filename,stim_channel=None)\n",
      "(23, 921600)\n",
      "3288\n",
      "3304\n",
      "Extracting EDF parameters from d:\\salma\\UNI\\Sem8\\WS\\physionet.org\\files\\chbmit\\1.0.0\\chb24\\chb24_14.edf...\n",
      "EDF file detected\n",
      "Setting channel info structure...\n",
      "Creating raw.info structure...\n",
      "<ipython-input-3-0a23d589a01a>:4: RuntimeWarning: Channel names are not unique, found duplicates for: {'T8-P8'}. Applying running numbers for duplicates.\n",
      "  edf = mne.io.read_raw_edf(edf_filename,stim_channel=None)\n",
      "(23, 921600)\n",
      "1939\n",
      "1966\n",
      "Extracting EDF parameters from d:\\salma\\UNI\\Sem8\\WS\\physionet.org\\files\\chbmit\\1.0.0\\chb24\\chb24_15.edf...\n",
      "EDF file detected\n",
      "Setting channel info structure...\n",
      "Creating raw.info structure...\n",
      "<ipython-input-3-0a23d589a01a>:4: RuntimeWarning: Channel names are not unique, found duplicates for: {'T8-P8'}. Applying running numbers for duplicates.\n",
      "  edf = mne.io.read_raw_edf(edf_filename,stim_channel=None)\n",
      "(23, 921600)\n",
      "3552\n",
      "3569\n",
      "Extracting EDF parameters from d:\\salma\\UNI\\Sem8\\WS\\physionet.org\\files\\chbmit\\1.0.0\\chb24\\chb24_17.edf...\n",
      "EDF file detected\n",
      "Setting channel info structure...\n",
      "Creating raw.info structure...\n",
      "<ipython-input-3-0a23d589a01a>:4: RuntimeWarning: Channel names are not unique, found duplicates for: {'T8-P8'}. Applying running numbers for duplicates.\n",
      "  edf = mne.io.read_raw_edf(edf_filename,stim_channel=None)\n",
      "(23, 921600)\n",
      "3515\n",
      "3581\n",
      "Extracting EDF parameters from d:\\salma\\UNI\\Sem8\\WS\\physionet.org\\files\\chbmit\\1.0.0\\chb24\\chb24_21.edf...\n",
      "EDF file detected\n",
      "Setting channel info structure...\n",
      "Creating raw.info structure...\n",
      "<ipython-input-3-0a23d589a01a>:4: RuntimeWarning: Channel names are not unique, found duplicates for: {'T8-P8'}. Applying running numbers for duplicates.\n",
      "  edf = mne.io.read_raw_edf(edf_filename,stim_channel=None)\n",
      "(23, 921600)\n",
      "2804\n",
      "2872\n",
      "file: 0 , shape: (23, 921600) \n",
      "total number of windows: 1438.0 , number of windows discarded: 1 \n",
      "file: 1 , shape: (23, 921600) \n",
      "total number of windows: 1438.0 , number of windows discarded: 2 \n",
      "file: 2 , shape: (23, 921600) \n",
      "total number of windows: 1438.0 , number of windows discarded: 3 \n",
      "file: 3 , shape: (23, 921600) \n",
      "total number of windows: 1438.0 , number of windows discarded: 3 \n",
      "file: 4 , shape: (23, 921600) \n",
      "total number of windows: 1438.0 , number of windows discarded: 2 \n",
      "file: 5 , shape: (23, 921600) \n",
      "total number of windows: 1438.0 , number of windows discarded: 0 \n",
      "file: 6 , shape: (23, 921600) \n",
      "total number of windows: 1438.0 , number of windows discarded: 2 \n",
      "file: 7 , shape: (23, 921600) \n",
      "total number of windows: 1438.0 , number of windows discarded: 2 \n",
      "file: 8 , shape: (23, 921600) \n",
      "total number of windows: 1438.0 , number of windows discarded: 3 \n",
      "file: 9 , shape: (23, 921600) \n",
      "total number of windows: 1438.0 , number of windows discarded: 2 \n",
      "file: 10 , shape: (23, 921600) \n",
      "total number of windows: 1438.0 , number of windows discarded: 1 \n",
      "file: 11 , shape: (23, 921600) \n",
      "total number of windows: 1438.0 , number of windows discarded: 3 \n"
     ]
    }
   ],
   "metadata": {
    "tags": [
     "outputPrepend"
    ]
   }
  },
  {
   "cell_type": "code",
   "execution_count": 19,
   "source": [
    "\n",
    "data = load('raw/data_chb01/features_1_00.npy')\n",
    "# data2 = load('features/data_chb01/targets_1_0.npy')\n",
    "data.shape"
   ],
   "outputs": [
    {
     "output_type": "execute_result",
     "data": {
      "text/plain": [
       "(408, 23, 5120)"
      ]
     },
     "metadata": {},
     "execution_count": 19
    }
   ],
   "metadata": {}
  },
  {
   "cell_type": "code",
   "execution_count": 63,
   "source": [
    "save('features_{}_{}.npy'.format(17, 12), data)\n"
   ],
   "outputs": [],
   "metadata": {}
  },
  {
   "cell_type": "code",
   "execution_count": 65,
   "source": [
    "data.shape"
   ],
   "outputs": [
    {
     "output_type": "execute_result",
     "data": {
      "text/plain": [
       "(358,)"
      ]
     },
     "metadata": {},
     "execution_count": 65
    }
   ],
   "metadata": {}
  },
  {
   "cell_type": "code",
   "execution_count": 61,
   "source": [
    "data=data[0:147]"
   ],
   "outputs": [],
   "metadata": {}
  },
  {
   "cell_type": "code",
   "execution_count": 32,
   "source": [
    "np.isnan(data).argmax()"
   ],
   "outputs": [
    {
     "output_type": "execute_result",
     "data": {
      "text/plain": [
       "30576"
      ]
     },
     "metadata": {},
     "execution_count": 32
    }
   ],
   "metadata": {}
  },
  {
   "cell_type": "code",
   "execution_count": 33,
   "source": [
    "30576"
   ],
   "outputs": [
    {
     "output_type": "execute_result",
     "data": {
      "text/plain": [
       "147.0"
      ]
     },
     "metadata": {},
     "execution_count": 33
    }
   ],
   "metadata": {}
  },
  {
   "cell_type": "code",
   "execution_count": 152,
   "source": [
    "y_06[0][13525*256:13526*256]"
   ],
   "outputs": [
    {
     "output_type": "execute_result",
     "data": {
      "text/plain": [
       "array([1, 1, 1, 1, 1, 1, 1, 1, 1, 1, 1, 1, 1, 1, 1, 1, 1, 1, 1, 1, 1, 1,\n",
       "       1, 1, 1, 1, 1, 1, 1, 1, 1, 1, 1, 1, 1, 1, 1, 1, 1, 1, 1, 1, 1, 1,\n",
       "       1, 1, 1, 1, 1, 1, 1, 1, 1, 1, 1, 1, 1, 1, 1, 1, 1, 1, 1, 1, 1, 1,\n",
       "       1, 1, 1, 1, 1, 1, 1, 1, 1, 1, 1, 1, 1, 1, 1, 1, 1, 1, 1, 1, 1, 1,\n",
       "       1, 1, 1, 1, 1, 1, 1, 1, 1, 1, 1, 1, 1, 1, 1, 1, 1, 1, 1, 1, 1, 1,\n",
       "       1, 1, 1, 1, 1, 1, 1, 1, 1, 1, 1, 1, 1, 1, 1, 1, 1, 1, 1, 1, 1, 1,\n",
       "       1, 1, 1, 1, 1, 1, 1, 1, 1, 1, 1, 1, 1, 1, 1, 1, 1, 1, 1, 1, 1, 1,\n",
       "       1, 1, 1, 1, 1, 1, 1, 1, 1, 1, 1, 1, 1, 1, 1, 1, 1, 1, 1, 1, 1, 1,\n",
       "       1, 1, 1, 1, 1, 1, 1, 1, 1, 1, 1, 1, 1, 1, 1, 1, 1, 1, 1, 1, 1, 1,\n",
       "       1, 1, 1, 1, 1, 1, 1, 1, 1, 1, 1, 1, 1, 1, 1, 1, 1, 1, 1, 1, 1, 1,\n",
       "       1, 1, 1, 1, 1, 1, 1, 1, 1, 1, 1, 1, 1, 1, 1, 1, 1, 1, 1, 1, 1, 1,\n",
       "       1, 1, 1, 1, 1, 1, 1, 1, 1, 1, 1, 1, 1, 1], dtype=int64)"
      ]
     },
     "metadata": {},
     "execution_count": 152
    }
   ],
   "metadata": {}
  },
  {
   "cell_type": "code",
   "execution_count": 53,
   "source": [
    "50344/208"
   ],
   "outputs": [
    {
     "output_type": "execute_result",
     "data": {
      "text/plain": [
       "242.03846153846155"
      ]
     },
     "metadata": {},
     "execution_count": 53
    }
   ],
   "metadata": {}
  },
  {
   "cell_type": "code",
   "execution_count": 2,
   "source": [
    "256*60\n"
   ],
   "outputs": [
    {
     "output_type": "execute_result",
     "data": {
      "text/plain": [
       "15360"
      ]
     },
     "metadata": {},
     "execution_count": 2
    }
   ],
   "metadata": {}
  },
  {
   "cell_type": "code",
   "execution_count": 91,
   "source": [
    "y_01[3]\n",
    "np.savetxt(\"array_3d.csv\",[y_01[3]],delimiter='\\n',fmt=\"%d\")\n"
   ],
   "outputs": [],
   "metadata": {}
  },
  {
   "cell_type": "code",
   "execution_count": null,
   "source": [
    "edf_filename= 'physionet.org/files/chbmit/1.0.0/chb12/chb12_32.edf'\n",
    "edf = mne.io.read_raw_edf(edf_filename,stim_channel=None)\n",
    "X = edf.get_data().astype(np.float32) * 1e6 # to mV\n",
    "print(edf.get_data()[10])\n",
    "check_channel_match(edf.ch_names)\n",
    "print(shuffle_channels(edf)[10])\n"
   ],
   "outputs": [],
   "metadata": {}
  }
 ],
 "metadata": {
  "interpreter": {
   "hash": "4b3fe4e430614ae3e36b8912aa67966595d32d796c9f5e46d3c96e8e35c078a4"
  },
  "kernelspec": {
   "display_name": "Python 3.7.3 64-bit ('tf-gpu': conda)",
   "name": "python3"
  },
  "language_info": {
   "name": "python",
   "version": ""
  },
  "metadata": {
   "interpreter": {
    "hash": "4b3fe4e430614ae3e36b8912aa67966595d32d796c9f5e46d3c96e8e35c078a4"
   }
  },
  "orig_nbformat": 2
 },
 "nbformat": 4,
 "nbformat_minor": 2
}