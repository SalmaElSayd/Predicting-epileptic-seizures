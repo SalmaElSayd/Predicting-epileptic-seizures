{
 "metadata": {
  "language_info": {
   "codemirror_mode": {
    "name": "ipython",
    "version": 3
   },
   "file_extension": ".py",
   "mimetype": "text/x-python",
   "name": "python",
   "nbconvert_exporter": "python",
   "pygments_lexer": "ipython3",
   "version": "3.7.3"
  },
  "orig_nbformat": 2,
  "kernelspec": {
   "name": "python37364bittfgpucondac099bc5da9054a33945af826af1262b9",
   "display_name": "Python 3.7.3 64-bit ('tf-gpu': conda)"
  },
  "metadata": {
   "interpreter": {
    "hash": "4b3fe4e430614ae3e36b8912aa67966595d32d796c9f5e46d3c96e8e35c078a4"
   }
  }
 },
 "nbformat": 4,
 "nbformat_minor": 2,
 "cells": [
  {
   "source": [
    "## Steps\n",
    "1. read data\n",
    "2. time differential\n",
    "3. PSD (using welch)\n",
    "4. extract features\n",
    "5. match labels (target)\n",
    "6. add patient id"
   ],
   "cell_type": "markdown",
   "metadata": {}
  },
  {
   "cell_type": "code",
   "execution_count": null,
   "metadata": {},
   "outputs": [],
   "source": [
    "import os\n",
    "import glob\n",
    "import re\n",
    "import numpy as np\n",
    "import numpy.fft as fft\n",
    "import mne\n",
    "import matplotlib.pyplot as plt\n",
    "from scipy import stats, signal\n",
    "from numpy import save, load"
   ]
  },
  {
   "cell_type": "code",
   "execution_count": 2,
   "metadata": {},
   "outputs": [
    {
     "output_type": "stream",
     "name": "stdout",
     "text": [
      "num gpus available 1\n"
     ]
    }
   ],
   "source": [
    "import tensorflow as tf\n",
    "gpus=tf.config.experimental.list_physical_devices('GPU')\n",
    "print(\"num gpus available\", len(gpus))\n",
    "tf.config.experimental.set_memory_growth(gpus[0], True)"
   ]
  },
  {
   "cell_type": "code",
   "execution_count": 3,
   "metadata": {},
   "outputs": [],
   "source": [
    "subject_id = 10\n",
    "base_path = \"physionet.org/files/chbmit/1.0.0/\"\n",
    "edf_file_names = sorted(glob.glob(os.path.join(base_path, \"chb{:02d}/*.edf\".format(subject_id))))\n",
    "summary_file = os.path.join(base_path, \"chb{:02d}/chb{:02d}-summary.txt\".format(subject_id, subject_id))\n",
    "\n",
    "\n",
    "summary_content = open(summary_file,'r').read()"
   ]
  },
  {
   "cell_type": "code",
   "execution_count": 4,
   "metadata": {},
   "outputs": [],
   "source": [
    "def extract_data_and_labels(edf_filename, summary_text):\n",
    "    folder, basename = os.path.split(edf_filename)\n",
    "    \n",
    "    edf = mne.io.read_raw_edf(edf_filename,stim_channel=None)\n",
    "    # X = edf.get_data().astype(np.float32) * 1e6 # to mV\n",
    "    X= shuffle_channels(edf).astype(np.float32)\n",
    "    print (X.shape)\n",
    "    y = np.zeros(X.shape[1], dtype=np.int64)\n",
    "    i_text_start = summary_text.index(basename)\n",
    "\n",
    "    if 'File Name' in summary_text[i_text_start:]:\n",
    "        i_text_stop = summary_text.index('File Name', i_text_start)\n",
    "    else:\n",
    "        i_text_stop = len(summary_text)\n",
    "    assert i_text_stop > i_text_start\n",
    "\n",
    "    file_text = summary_text[i_text_start:i_text_stop]\n",
    "    # print(file_text)\n",
    "    num_seizures = int(re.search(r\"Number of Seizures in File: ([0-9]*)\", file_text).group(1))\n",
    "    \n",
    "    # if 'Seizure ' in file_text:\n",
    "    if num_seizures>0:\n",
    "        for sez in range(1, num_seizures+1):\n",
    "            # print(re.search(rf\"Seizure[\\s]*[{str(sez)}]* Start Time:[\\s]* ([0-9]*) seconds\", file_text))\n",
    "            start_sec = int(re.search(rf\"Seizure[\\s]*[{str(sez)}]* Start Time:[\\s]* ([0-9]*) seconds\", file_text).group(1))\n",
    "            print(start_sec)\n",
    "            end_sec = int(re.search(rf\"Seizure[\\s]*[{str(sez)}]* End Time:[\\s]* ([0-9]*) seconds\", file_text).group(1))\n",
    "            print(end_sec)\n",
    "            i_seizure_start = int(round(start_sec * edf.info['sfreq']))\n",
    "            i_seizure_stop = int(round((end_sec + 1) * edf.info['sfreq']))\n",
    "            y[i_seizure_start:i_seizure_stop] = 1\n",
    "    assert X.shape[1] == len(y)\n",
    "    return X,y"
   ]
  },
  {
   "cell_type": "code",
   "execution_count": 5,
   "metadata": {},
   "outputs": [],
   "source": [
    "channel_order= {'FP1-F7':0, 'F7-T7':1, 'T7-P7':2, 'P7-O1':3, 'FP1-F3':4, 'F3-C3':5, 'C3-P3':6, 'P3-O1':7, 'FP2-F4':8, 'F4-C4':9, 'C4-P4':10, 'P4-O2':11, 'FP2-F8':12, 'F8-T8':13, 'T8-P8-0':14, 'P8-O2':15, 'FZ-CZ':16, 'CZ-PZ':17, 'P7-T7':18, 'T7-FT9':19, 'FT9-FT10':20, 'FT10-T8':21 ,'T8-P8-1':22 }"
   ]
  },
  {
   "cell_type": "code",
   "execution_count": 6,
   "metadata": {},
   "outputs": [],
   "source": [
    "\n",
    "def shuffle_channels(data):\n",
    "    channels=data.ch_names\n",
    "    d=data.get_data().astype(np.float32) * 1e6 \n",
    "    res= [0]*23\n",
    "    # res=np.zeros_like(res)\n",
    "    i=0\n",
    "    for ch in channels:\n",
    "        if channel_order.get(ch)!=None:\n",
    "            idx=channel_order[ch]\n",
    "            res[idx]=np.array(d[i])\n",
    "        i+=1\n",
    "    r=np.zeros_like(res)\n",
    "    for i in range(0,23):\n",
    "        r[i]=res[i]\n",
    "    return r"
   ]
  },
  {
   "cell_type": "code",
   "execution_count": 7,
   "metadata": {},
   "outputs": [
    {
     "output_type": "stream",
     "name": "stdout",
     "text": [
      "Extracting EDF parameters from d:\\salma\\UNI\\Sem8\\WS\\physionet.org\\files\\chbmit\\1.0.0\\chb10\\chb10_01.edf...\n",
      "EDF file detected\n",
      "Setting channel info structure...\n",
      "Creating raw.info structure...\n",
      "<ipython-input-4-0a23d589a01a>:4: RuntimeWarning: Channel names are not unique, found duplicates for: {'T8-P8'}. Applying running numbers for duplicates.\n",
      "  edf = mne.io.read_raw_edf(edf_filename,stim_channel=None)\n",
      "(23, 1848320)\n",
      "Extracting EDF parameters from d:\\salma\\UNI\\Sem8\\WS\\physionet.org\\files\\chbmit\\1.0.0\\chb10\\chb10_02.edf...\n",
      "EDF file detected\n",
      "Setting channel info structure...\n",
      "Creating raw.info structure...\n",
      "<ipython-input-4-0a23d589a01a>:4: RuntimeWarning: Channel names are not unique, found duplicates for: {'T8-P8'}. Applying running numbers for duplicates.\n",
      "  edf = mne.io.read_raw_edf(edf_filename,stim_channel=None)\n",
      "(23, 1843200)\n",
      "Extracting EDF parameters from d:\\salma\\UNI\\Sem8\\WS\\physionet.org\\files\\chbmit\\1.0.0\\chb10\\chb10_03.edf...\n",
      "EDF file detected\n",
      "Setting channel info structure...\n",
      "Creating raw.info structure...\n",
      "<ipython-input-4-0a23d589a01a>:4: RuntimeWarning: Channel names are not unique, found duplicates for: {'T8-P8'}. Applying running numbers for duplicates.\n",
      "  edf = mne.io.read_raw_edf(edf_filename,stim_channel=None)\n",
      "(23, 1843200)\n",
      "Extracting EDF parameters from d:\\salma\\UNI\\Sem8\\WS\\physionet.org\\files\\chbmit\\1.0.0\\chb10\\chb10_04.edf...\n",
      "EDF file detected\n",
      "Setting channel info structure...\n",
      "Creating raw.info structure...\n",
      "<ipython-input-4-0a23d589a01a>:4: RuntimeWarning: Channel names are not unique, found duplicates for: {'T8-P8'}. Applying running numbers for duplicates.\n",
      "  edf = mne.io.read_raw_edf(edf_filename,stim_channel=None)\n",
      "(23, 1843200)\n",
      "Extracting EDF parameters from d:\\salma\\UNI\\Sem8\\WS\\physionet.org\\files\\chbmit\\1.0.0\\chb10\\chb10_05.edf...\n",
      "EDF file detected\n",
      "Setting channel info structure...\n",
      "Creating raw.info structure...\n",
      "<ipython-input-4-0a23d589a01a>:4: RuntimeWarning: Channel names are not unique, found duplicates for: {'T8-P8'}. Applying running numbers for duplicates.\n",
      "  edf = mne.io.read_raw_edf(edf_filename,stim_channel=None)\n",
      "(23, 1843200)\n",
      "Extracting EDF parameters from d:\\salma\\UNI\\Sem8\\WS\\physionet.org\\files\\chbmit\\1.0.0\\chb10\\chb10_06.edf...\n",
      "EDF file detected\n",
      "Setting channel info structure...\n",
      "Creating raw.info structure...\n",
      "<ipython-input-4-0a23d589a01a>:4: RuntimeWarning: Channel names are not unique, found duplicates for: {'T8-P8'}. Applying running numbers for duplicates.\n",
      "  edf = mne.io.read_raw_edf(edf_filename,stim_channel=None)\n",
      "(23, 1843200)\n",
      "Extracting EDF parameters from d:\\salma\\UNI\\Sem8\\WS\\physionet.org\\files\\chbmit\\1.0.0\\chb10\\chb10_07.edf...\n",
      "EDF file detected\n",
      "Setting channel info structure...\n",
      "Creating raw.info structure...\n",
      "<ipython-input-4-0a23d589a01a>:4: RuntimeWarning: Channel names are not unique, found duplicates for: {'T8-P8'}. Applying running numbers for duplicates.\n",
      "  edf = mne.io.read_raw_edf(edf_filename,stim_channel=None)\n",
      "(23, 1843200)\n",
      "Extracting EDF parameters from d:\\salma\\UNI\\Sem8\\WS\\physionet.org\\files\\chbmit\\1.0.0\\chb10\\chb10_08.edf...\n",
      "EDF file detected\n",
      "Setting channel info structure...\n",
      "Creating raw.info structure...\n",
      "<ipython-input-4-0a23d589a01a>:4: RuntimeWarning: Channel names are not unique, found duplicates for: {'T8-P8'}. Applying running numbers for duplicates.\n",
      "  edf = mne.io.read_raw_edf(edf_filename,stim_channel=None)\n",
      "(23, 1843200)\n",
      "Extracting EDF parameters from d:\\salma\\UNI\\Sem8\\WS\\physionet.org\\files\\chbmit\\1.0.0\\chb10\\chb10_12.edf...\n",
      "EDF file detected\n",
      "Setting channel info structure...\n",
      "Creating raw.info structure...\n",
      "<ipython-input-4-0a23d589a01a>:4: RuntimeWarning: Channel names are not unique, found duplicates for: {'T8-P8'}. Applying running numbers for duplicates.\n",
      "  edf = mne.io.read_raw_edf(edf_filename,stim_channel=None)\n",
      "(23, 1843200)\n",
      "6313\n",
      "6348\n",
      "Extracting EDF parameters from d:\\salma\\UNI\\Sem8\\WS\\physionet.org\\files\\chbmit\\1.0.0\\chb10\\chb10_13.edf...\n",
      "EDF file detected\n",
      "Setting channel info structure...\n",
      "Creating raw.info structure...\n",
      "<ipython-input-4-0a23d589a01a>:4: RuntimeWarning: Channel names are not unique, found duplicates for: {'T8-P8'}. Applying running numbers for duplicates.\n",
      "  edf = mne.io.read_raw_edf(edf_filename,stim_channel=None)\n",
      "(23, 1843200)\n",
      "Extracting EDF parameters from d:\\salma\\UNI\\Sem8\\WS\\physionet.org\\files\\chbmit\\1.0.0\\chb10\\chb10_14.edf...\n",
      "EDF file detected\n",
      "Setting channel info structure...\n",
      "Creating raw.info structure...\n",
      "<ipython-input-4-0a23d589a01a>:4: RuntimeWarning: Channel names are not unique, found duplicates for: {'T8-P8'}. Applying running numbers for duplicates.\n",
      "  edf = mne.io.read_raw_edf(edf_filename,stim_channel=None)\n",
      "(23, 1843200)\n",
      "Extracting EDF parameters from d:\\salma\\UNI\\Sem8\\WS\\physionet.org\\files\\chbmit\\1.0.0\\chb10\\chb10_15.edf...\n",
      "EDF file detected\n",
      "Setting channel info structure...\n",
      "Creating raw.info structure...\n",
      "<ipython-input-4-0a23d589a01a>:4: RuntimeWarning: Channel names are not unique, found duplicates for: {'T8-P8'}. Applying running numbers for duplicates.\n",
      "  edf = mne.io.read_raw_edf(edf_filename,stim_channel=None)\n",
      "(23, 1843200)\n",
      "Extracting EDF parameters from d:\\salma\\UNI\\Sem8\\WS\\physionet.org\\files\\chbmit\\1.0.0\\chb10\\chb10_16.edf...\n",
      "EDF file detected\n",
      "Setting channel info structure...\n",
      "Creating raw.info structure...\n",
      "<ipython-input-4-0a23d589a01a>:4: RuntimeWarning: Channel names are not unique, found duplicates for: {'T8-P8'}. Applying running numbers for duplicates.\n",
      "  edf = mne.io.read_raw_edf(edf_filename,stim_channel=None)\n",
      "(23, 1843200)\n",
      "Extracting EDF parameters from d:\\salma\\UNI\\Sem8\\WS\\physionet.org\\files\\chbmit\\1.0.0\\chb10\\chb10_17.edf...\n",
      "EDF file detected\n",
      "Setting channel info structure...\n",
      "Creating raw.info structure...\n",
      "<ipython-input-4-0a23d589a01a>:4: RuntimeWarning: Channel names are not unique, found duplicates for: {'T8-P8'}. Applying running numbers for duplicates.\n",
      "  edf = mne.io.read_raw_edf(edf_filename,stim_channel=None)\n",
      "(23, 1843200)\n",
      "Extracting EDF parameters from d:\\salma\\UNI\\Sem8\\WS\\physionet.org\\files\\chbmit\\1.0.0\\chb10\\chb10_18.edf...\n",
      "EDF file detected\n",
      "Setting channel info structure...\n",
      "Creating raw.info structure...\n",
      "<ipython-input-4-0a23d589a01a>:4: RuntimeWarning: Channel names are not unique, found duplicates for: {'T8-P8'}. Applying running numbers for duplicates.\n",
      "  edf = mne.io.read_raw_edf(edf_filename,stim_channel=None)\n",
      "(23, 1843200)\n",
      "Extracting EDF parameters from d:\\salma\\UNI\\Sem8\\WS\\physionet.org\\files\\chbmit\\1.0.0\\chb10\\chb10_19.edf...\n",
      "EDF file detected\n",
      "Setting channel info structure...\n",
      "Creating raw.info structure...\n",
      "<ipython-input-4-0a23d589a01a>:4: RuntimeWarning: Channel names are not unique, found duplicates for: {'T8-P8'}. Applying running numbers for duplicates.\n",
      "  edf = mne.io.read_raw_edf(edf_filename,stim_channel=None)\n",
      "(23, 1843200)\n",
      "Extracting EDF parameters from d:\\salma\\UNI\\Sem8\\WS\\physionet.org\\files\\chbmit\\1.0.0\\chb10\\chb10_20.edf...\n",
      "EDF file detected\n",
      "Setting channel info structure...\n",
      "Creating raw.info structure...\n",
      "<ipython-input-4-0a23d589a01a>:4: RuntimeWarning: Channel names are not unique, found duplicates for: {'T8-P8'}. Applying running numbers for duplicates.\n",
      "  edf = mne.io.read_raw_edf(edf_filename,stim_channel=None)\n",
      "(23, 1846272)\n",
      "6888\n",
      "6958\n",
      "Extracting EDF parameters from d:\\salma\\UNI\\Sem8\\WS\\physionet.org\\files\\chbmit\\1.0.0\\chb10\\chb10_21.edf...\n",
      "EDF file detected\n",
      "Setting channel info structure...\n",
      "Creating raw.info structure...\n",
      "<ipython-input-4-0a23d589a01a>:4: RuntimeWarning: Channel names are not unique, found duplicates for: {'T8-P8'}. Applying running numbers for duplicates.\n",
      "  edf = mne.io.read_raw_edf(edf_filename,stim_channel=None)\n",
      "(23, 1843200)\n",
      "Extracting EDF parameters from d:\\salma\\UNI\\Sem8\\WS\\physionet.org\\files\\chbmit\\1.0.0\\chb10\\chb10_22.edf...\n",
      "EDF file detected\n",
      "Setting channel info structure...\n",
      "Creating raw.info structure...\n",
      "<ipython-input-4-0a23d589a01a>:4: RuntimeWarning: Channel names are not unique, found duplicates for: {'T8-P8'}. Applying running numbers for duplicates.\n",
      "  edf = mne.io.read_raw_edf(edf_filename,stim_channel=None)\n",
      "(23, 1843200)\n",
      "Extracting EDF parameters from d:\\salma\\UNI\\Sem8\\WS\\physionet.org\\files\\chbmit\\1.0.0\\chb10\\chb10_27.edf...\n",
      "EDF file detected\n",
      "Setting channel info structure...\n",
      "Creating raw.info structure...\n",
      "<ipython-input-4-0a23d589a01a>:4: RuntimeWarning: Channel names are not unique, found duplicates for: {'T8-P8'}. Applying running numbers for duplicates.\n",
      "  edf = mne.io.read_raw_edf(edf_filename,stim_channel=None)\n",
      "(23, 1847808)\n",
      "2382\n",
      "2447\n",
      "Extracting EDF parameters from d:\\salma\\UNI\\Sem8\\WS\\physionet.org\\files\\chbmit\\1.0.0\\chb10\\chb10_28.edf...\n",
      "EDF file detected\n",
      "Setting channel info structure...\n",
      "Creating raw.info structure...\n",
      "<ipython-input-4-0a23d589a01a>:4: RuntimeWarning: Channel names are not unique, found duplicates for: {'T8-P8'}. Applying running numbers for duplicates.\n",
      "  edf = mne.io.read_raw_edf(edf_filename,stim_channel=None)\n",
      "(23, 1843200)\n",
      "Extracting EDF parameters from d:\\salma\\UNI\\Sem8\\WS\\physionet.org\\files\\chbmit\\1.0.0\\chb10\\chb10_30.edf...\n",
      "EDF file detected\n",
      "Setting channel info structure...\n",
      "Creating raw.info structure...\n",
      "<ipython-input-4-0a23d589a01a>:4: RuntimeWarning: Channel names are not unique, found duplicates for: {'T8-P8'}. Applying running numbers for duplicates.\n",
      "  edf = mne.io.read_raw_edf(edf_filename,stim_channel=None)\n",
      "(23, 1846528)\n",
      "3021\n",
      "3079\n",
      "Extracting EDF parameters from d:\\salma\\UNI\\Sem8\\WS\\physionet.org\\files\\chbmit\\1.0.0\\chb10\\chb10_31.edf...\n",
      "EDF file detected\n",
      "Setting channel info structure...\n",
      "Creating raw.info structure...\n",
      "<ipython-input-4-0a23d589a01a>:4: RuntimeWarning: Channel names are not unique, found duplicates for: {'T8-P8'}. Applying running numbers for duplicates.\n",
      "  edf = mne.io.read_raw_edf(edf_filename,stim_channel=None)\n",
      "(23, 1848576)\n",
      "3801\n",
      "3877\n",
      "Extracting EDF parameters from d:\\salma\\UNI\\Sem8\\WS\\physionet.org\\files\\chbmit\\1.0.0\\chb10\\chb10_38.edf...\n",
      "EDF file detected\n",
      "Setting channel info structure...\n",
      "Creating raw.info structure...\n",
      "<ipython-input-4-0a23d589a01a>:4: RuntimeWarning: Channel names are not unique, found duplicates for: {'T8-P8'}. Applying running numbers for duplicates.\n",
      "  edf = mne.io.read_raw_edf(edf_filename,stim_channel=None)\n",
      "(23, 1843200)\n",
      "4618\n",
      "4707\n",
      "Extracting EDF parameters from d:\\salma\\UNI\\Sem8\\WS\\physionet.org\\files\\chbmit\\1.0.0\\chb10\\chb10_89.edf...\n",
      "EDF file detected\n",
      "Setting channel info structure...\n",
      "Creating raw.info structure...\n",
      "<ipython-input-4-0a23d589a01a>:4: RuntimeWarning: Channel names are not unique, found duplicates for: {'T8-P8'}. Applying running numbers for duplicates.\n",
      "  edf = mne.io.read_raw_edf(edf_filename,stim_channel=None)\n",
      "(23, 1843200)\n",
      "1383\n",
      "1437\n"
     ]
    }
   ],
   "source": [
    "X_10 = []\n",
    "y_10 = []\n",
    "for edf_file_name in edf_file_names:\n",
    "    X, y = extract_data_and_labels(edf_file_name, summary_content)\n",
    "    X_10.append(X)\n",
    "    y_10.append(y)"
   ]
  },
  {
   "cell_type": "code",
   "execution_count": 8,
   "metadata": {},
   "outputs": [
    {
     "output_type": "execute_result",
     "data": {
      "text/plain": [
       "25"
      ]
     },
     "metadata": {},
     "execution_count": 8
    }
   ],
   "source": [
    "len(X_10)"
   ]
  },
  {
   "cell_type": "code",
   "execution_count": 9,
   "metadata": {},
   "outputs": [],
   "source": [
    "def time_differential(x_series):\n",
    "    a=[]\n",
    "    for ch in x_series:\n",
    "        c=np.zeros_like(ch)\n",
    "        for i in range (1,len(ch)):\n",
    "            c[i]=ch[i]-ch[i-1]\n",
    "        a.append(c)\n",
    "    return np.array(a)\n",
    "\n",
    "    "
   ]
  },
  {
   "source": [
    "label_dict ={0: 'interictal', 1: 'ictal', 2: 'preictal', 3: 'dismiss'}"
   ],
   "cell_type": "code",
   "metadata": {},
   "execution_count": 83,
   "outputs": []
  },
  {
   "cell_type": "code",
   "execution_count": 10,
   "metadata": {},
   "outputs": [],
   "source": [
    "def label_series(labels):\n",
    "    interictal=60*60*256\n",
    "    preictal=30*60*256\n",
    "    # interictal=4\n",
    "    # preictal=2\n",
    "    seizure_starts=[]\n",
    "    seizure_ends=[]\n",
    "    if labels[0]==1:\n",
    "        seizure_starts.append(0)\n",
    "    for i in range(1,len(labels)):\n",
    "        if labels[i]==1 and labels[i-1]==0:\n",
    "            seizure_starts.append(i)\n",
    "        if labels[i]==0 and labels[i-1]==1:\n",
    "            seizure_ends.append(i)\n",
    "    # print(seizure_starts)\n",
    "    # print(seizure_ends)\n",
    "    for point in seizure_starts:\n",
    "        # print(point)\n",
    "        for j in range(max(0, point-preictal), point):\n",
    "            if labels[j]!=1:\n",
    "                labels[j]=2\n",
    "        for k in range(max(0, point-interictal), point):\n",
    "            if labels[k]==0:\n",
    "                labels[k]=3\n",
    "    for point in seizure_ends:\n",
    "        for j in range(point, min(interictal+ point, len(labels))):\n",
    "            if labels[j]==0:\n",
    "                labels[j]=3\n",
    "    return labels\n",
    "        \n",
    "\n",
    "           \n",
    "\n"
   ]
  },
  {
   "cell_type": "code",
   "execution_count": 85,
   "metadata": {},
   "outputs": [],
   "source": [
    "def check_channel_match(channels):\n",
    "    i=0\n",
    "    for ch in channels:\n",
    "        if channel_order.get(ch)==None or channel_order[ch]!=i:\n",
    "            return False\n",
    "        i+=1\n",
    "    return True\n"
   ]
  },
  {
   "cell_type": "code",
   "execution_count": 58,
   "metadata": {},
   "outputs": [
    {
     "output_type": "stream",
     "name": "stdout",
     "text": [
      "Extracting EDF parameters from d:\\salma\\UNI\\Sem8\\WS\\physionet.org\\files\\chbmit\\1.0.0\\chb12\\chb12_32.edf...\n",
      "EDF file detected\n",
      "Setting channel info structure...\n",
      "Creating raw.info structure...\n",
      "<ipython-input-58-3e75d53f8f34>:2: RuntimeWarning: Channel names are not unique, found duplicates for: {'T8-P8', '-'}. Applying running numbers for duplicates.\n",
      "  edf = mne.io.read_raw_edf(edf_filename,stim_channel=None)\n",
      "<ipython-input-58-3e75d53f8f34>:2: RuntimeWarning: Number of records from the header does not match the file size (perhaps the recording was not stopped before exiting). Inferring from the file size.\n",
      "  edf = mne.io.read_raw_edf(edf_filename,stim_channel=None)\n",
      "<ipython-input-58-3e75d53f8f34>:2: RuntimeWarning: Scaling factor is not defined in following channels:\n",
      "--0, --1, --2, --3, --4\n",
      "  edf = mne.io.read_raw_edf(edf_filename,stim_channel=None)\n",
      "[-1.95360195e-07  1.95360195e-07  1.95360195e-07 ... -1.20048840e-03\n",
      "  1.00004884e-03  3.60107448e-03]\n",
      "C:\\Users\\salma\\AppData\\Roaming\\Python\\Python37\\site-packages\\ipykernel_launcher.py:8: VisibleDeprecationWarning: Creating an ndarray from ragged nested sequences (which is a list-or-tuple of lists-or-tuples-or ndarrays with different lengths or shapes) is deprecated. If you meant to do this, you must specify 'dtype=object' when creating the ndarray\n",
      "  \n",
      "[array([[ 2.12942613e-05,  1.95360195e-07,  1.95360195e-07, ...,\n",
      "        -5.20146520e-03, -4.20122100e-03, -3.00092796e-03]])\n",
      " array([0.00000000e+00, 3.90625000e-03, 7.81250000e-03, ...,\n",
      "       3.96498828e+03, 3.96499219e+03, 3.96499609e+03])]\n"
     ]
    }
   ],
   "source": [
    "edf_filename= 'physionet.org/files/chbmit/1.0.0/chb12/chb12_32.edf'\n",
    "edf = mne.io.read_raw_edf(edf_filename,stim_channel=None)\n",
    "X = edf.get_data().astype(np.float32) * 1e6 # to mV\n",
    "print(edf.get_data()[10])\n",
    "check_channel_match(edf.ch_names)\n",
    "print(shuffle_channels(edf)[10])\n"
   ]
  },
  {
   "source": [
    "- Channel 1: FP1-F7  ----0\n",
    "- Channel 2: F7-T7   ----1\n",
    "- Channel 3: T7-P7   ----2\n",
    "- Channel 4: P7-O1   ----3\n",
    "- Channel 5: -\n",
    "- Channel 6: FP1-F3  ----4\n",
    "- Channel 7: F3-C3   ----5\n",
    "- Channel 8: C3-P3   ----6\n",
    "- Channel 9: P3-O1   ----7\n",
    "- Channel 10: -\n",
    "- Channel 11: FZ-CZ   ----16\n",
    "- Channel 12: CZ-PZ   ----17\n",
    "- Channel 13: -\n",
    "- Channel 14: FP2-F4   ----8\n",
    "- Channel 15: F4-C4   ----9\n",
    "- Channel 16: C4-P4  ----10\n",
    "- Channel 17: P4-O2   ----11\n",
    "- Channel 18: -\n",
    "- Channel 19: FP2-F8   ----12\n",
    "- Channel 20: F8-T8   ----13\n",
    "- Channel 21: T8-P8   ----14\n",
    "- Channel 22: P8-O2   ----15\n",
    "- Channel 23: -\n",
    "- Channel 24: P7-T7   ----18\n",
    "- Channel 25: T7-FT9   ----19\n",
    "- Channel 26: FT9-FT10   ----20\n",
    "- Channel 27: FT10-T8   ----21\n",
    "- Channel 28: T8-P8   ----22\n"
   ],
   "cell_type": "markdown",
   "metadata": {}
  },
  {
   "cell_type": "code",
   "execution_count": 11,
   "metadata": {},
   "outputs": [
    {
     "output_type": "stream",
     "name": "stdout",
     "text": [
      "file: 0 , shape: (23, 1848320) \n",
      "total number of windows: 720.0 , number of windows discarded: 0 \n",
      "file: 1 , shape: (23, 1843200) \n",
      "total number of windows: 718.0 , number of windows discarded: 0 \n",
      "file: 2 , shape: (23, 1843200) \n",
      "total number of windows: 718.0 , number of windows discarded: 0 \n",
      "file: 3 , shape: (23, 1843200) \n",
      "total number of windows: 718.0 , number of windows discarded: 0 \n",
      "file: 4 , shape: (23, 1843200) \n",
      "total number of windows: 718.0 , number of windows discarded: 0 \n",
      "file: 5 , shape: (23, 1843200) \n",
      "total number of windows: 718.0 , number of windows discarded: 0 \n",
      "file: 6 , shape: (23, 1843200) \n",
      "total number of windows: 718.0 , number of windows discarded: 0 \n",
      "file: 7 , shape: (23, 1843200) \n",
      "total number of windows: 718.0 , number of windows discarded: 0 \n",
      "file: 8 , shape: (23, 1843200) \n",
      "total number of windows: 718.0 , number of windows discarded: 8 \n",
      "file: 9 , shape: (23, 1843200) \n",
      "total number of windows: 718.0 , number of windows discarded: 0 \n",
      "file: 10 , shape: (23, 1843200) \n",
      "total number of windows: 718.0 , number of windows discarded: 0 \n",
      "file: 11 , shape: (23, 1843200) \n",
      "total number of windows: 718.0 , number of windows discarded: 0 \n",
      "file: 12 , shape: (23, 1843200) \n",
      "total number of windows: 718.0 , number of windows discarded: 0 \n",
      "file: 13 , shape: (23, 1843200) \n",
      "total number of windows: 718.0 , number of windows discarded: 0 \n",
      "file: 14 , shape: (23, 1843200) \n",
      "total number of windows: 718.0 , number of windows discarded: 0 \n",
      "file: 15 , shape: (23, 1843200) \n",
      "total number of windows: 718.0 , number of windows discarded: 0 \n",
      "file: 16 , shape: (23, 1846272) \n",
      "total number of windows: 720.0 , number of windows discarded: 8 \n",
      "file: 17 , shape: (23, 1843200) \n",
      "total number of windows: 718.0 , number of windows discarded: 0 \n",
      "file: 18 , shape: (23, 1843200) \n",
      "total number of windows: 718.0 , number of windows discarded: 0 \n",
      "file: 19 , shape: (23, 1847808) \n",
      "total number of windows: 720.0 , number of windows discarded: 8 \n",
      "file: 20 , shape: (23, 1843200) \n",
      "total number of windows: 718.0 , number of windows discarded: 0 \n",
      "file: 21 , shape: (23, 1846528) \n",
      "total number of windows: 720.0 , number of windows discarded: 6 \n",
      "file: 22 , shape: (23, 1848576) \n",
      "total number of windows: 721.0 , number of windows discarded: 8 \n",
      "file: 23 , shape: (23, 1843200) \n",
      "total number of windows: 718.0 , number of windows discarded: 8 \n",
      "file: 24 , shape: (23, 1843200) \n",
      "total number of windows: 718.0 , number of windows discarded: 6 \n"
     ]
    }
   ],
   "source": [
    "patient_no=10#################\n",
    "for filno in range(0,len(X_10)):###################\n",
    "    recording=X_10[filno]####################\n",
    "    discarded=0\n",
    "    wins=recording.shape[1]//5120\n",
    "    print('file: {} , shape: {} '.format(filno,recording.shape))\n",
    "    y=label_series(y_10[filno])#############################33333\n",
    "    datapoints_in=[] #for each file\n",
    "    targets=[]\n",
    "    i=0\n",
    "    while i+5120<recording.shape[1]:\n",
    "        # n_channels=recording.shape[0]\n",
    "        n_channels=23\n",
    "        features=np.zeros(n_channels*9+1)\n",
    "        features[-1]=patient_no\n",
    "        window=time_differential(recording[:,i:5120+i])\n",
    "        freqs, psd = signal.welch(window, fs=256)\n",
    "        psd[:,57:64]=0\n",
    "        psd[:,117:124]=0\n",
    "        target_range=np.array(y[i:i+5120])\n",
    "        for chi in range (0, n_channels):\n",
    "            alpha=np.sum(psd[chi,8:14])\n",
    "            beta=np.sum(psd[chi,13:31])\n",
    "            delta=np.sum(psd[chi,1:5])\n",
    "            theta=np.sum(psd[chi, 4:9])\n",
    "            gamma0=np.sum(psd[chi,30:48])\n",
    "            gamma1=np.sum(psd[chi,53:76])\n",
    "            gamma2=np.sum(psd[chi,75:98])\n",
    "            gamma3=np.sum(psd[chi,103:])\n",
    "            features[chi*9:(1+chi)*9-1]=[alpha,beta,delta,theta,gamma0,gamma1,gamma2,gamma3]\n",
    "            total_power=np.sum(features[chi*9:(1+chi)*9-1])\n",
    "            features[chi*9:(1+chi)*9-1] /= total_power\n",
    "            features[(1+chi)*9-1]=total_power\n",
    "        if np.all(target_range == target_range[0]):\n",
    "            target=target_range[0]\n",
    "            targets.append(target)\n",
    "            datapoints_in.append(features)\n",
    "        else:\n",
    "            discarded+=1               \n",
    "        i+=2560\n",
    "    # dp=np.array(datapoints_in)\n",
    "    save('features_{}_{}.npy'.format(patient_no, filno), datapoints_in)\n",
    "    save('targets_{}_{}.npy'.format(patient_no, filno), targets)\n",
    "    print('total number of windows: {} , number of windows discarded: {} '.format(i/2560, discarded))\n",
    "    \n",
    "\n"
   ]
  },
  {
   "cell_type": "code",
   "execution_count": 241,
   "metadata": {},
   "outputs": [
    {
     "output_type": "execute_result",
     "data": {
      "text/plain": [
       "1424"
      ]
     },
     "metadata": {},
     "execution_count": 241
    }
   ],
   "source": [
    "\n",
    "data = load('targets_9_7.npy')\n",
    "# data2 = load('features/data_chb01/targets_1_0.npy')\n",
    "len(data)"
   ]
  },
  {
   "cell_type": "code",
   "execution_count": 244,
   "metadata": {},
   "outputs": [
    {
     "output_type": "execute_result",
     "data": {
      "text/plain": [
       "array([2, 2, 2, 2, 2, 1, 1, 1, 1, 1, 3, 3, 3, 3, 3, 3, 3, 3, 3, 3, 3, 3,\n",
       "       3, 3, 3], dtype=int64)"
      ]
     },
     "metadata": {},
     "execution_count": 244
    }
   ],
   "source": [
    "data[905:930]"
   ]
  },
  {
   "cell_type": "code",
   "execution_count": 215,
   "metadata": {},
   "outputs": [
    {
     "output_type": "execute_result",
     "data": {
      "text/plain": [
       "118406"
      ]
     },
     "metadata": {},
     "execution_count": 215
    }
   ],
   "source": [
    "np.isnan(data).argmax()"
   ]
  },
  {
   "cell_type": "code",
   "execution_count": 216,
   "metadata": {},
   "outputs": [
    {
     "output_type": "execute_result",
     "data": {
      "text/plain": [
       "569.2596153846154"
      ]
     },
     "metadata": {},
     "execution_count": 216
    }
   ],
   "source": [
    "118406/208"
   ]
  },
  {
   "cell_type": "code",
   "execution_count": 152,
   "metadata": {},
   "outputs": [
    {
     "output_type": "execute_result",
     "data": {
      "text/plain": [
       "array([1, 1, 1, 1, 1, 1, 1, 1, 1, 1, 1, 1, 1, 1, 1, 1, 1, 1, 1, 1, 1, 1,\n",
       "       1, 1, 1, 1, 1, 1, 1, 1, 1, 1, 1, 1, 1, 1, 1, 1, 1, 1, 1, 1, 1, 1,\n",
       "       1, 1, 1, 1, 1, 1, 1, 1, 1, 1, 1, 1, 1, 1, 1, 1, 1, 1, 1, 1, 1, 1,\n",
       "       1, 1, 1, 1, 1, 1, 1, 1, 1, 1, 1, 1, 1, 1, 1, 1, 1, 1, 1, 1, 1, 1,\n",
       "       1, 1, 1, 1, 1, 1, 1, 1, 1, 1, 1, 1, 1, 1, 1, 1, 1, 1, 1, 1, 1, 1,\n",
       "       1, 1, 1, 1, 1, 1, 1, 1, 1, 1, 1, 1, 1, 1, 1, 1, 1, 1, 1, 1, 1, 1,\n",
       "       1, 1, 1, 1, 1, 1, 1, 1, 1, 1, 1, 1, 1, 1, 1, 1, 1, 1, 1, 1, 1, 1,\n",
       "       1, 1, 1, 1, 1, 1, 1, 1, 1, 1, 1, 1, 1, 1, 1, 1, 1, 1, 1, 1, 1, 1,\n",
       "       1, 1, 1, 1, 1, 1, 1, 1, 1, 1, 1, 1, 1, 1, 1, 1, 1, 1, 1, 1, 1, 1,\n",
       "       1, 1, 1, 1, 1, 1, 1, 1, 1, 1, 1, 1, 1, 1, 1, 1, 1, 1, 1, 1, 1, 1,\n",
       "       1, 1, 1, 1, 1, 1, 1, 1, 1, 1, 1, 1, 1, 1, 1, 1, 1, 1, 1, 1, 1, 1,\n",
       "       1, 1, 1, 1, 1, 1, 1, 1, 1, 1, 1, 1, 1, 1], dtype=int64)"
      ]
     },
     "metadata": {},
     "execution_count": 152
    }
   ],
   "source": [
    "y_06[0][13525*256:13526*256]"
   ]
  },
  {
   "cell_type": "code",
   "execution_count": 53,
   "metadata": {},
   "outputs": [
    {
     "output_type": "execute_result",
     "data": {
      "text/plain": [
       "242.03846153846155"
      ]
     },
     "metadata": {},
     "execution_count": 53
    }
   ],
   "source": [
    "50344/208"
   ]
  },
  {
   "cell_type": "code",
   "execution_count": 34,
   "metadata": {},
   "outputs": [
    {
     "output_type": "stream",
     "name": "stdout",
     "text": [
      "num gpus available 1\n"
     ]
    }
   ],
   "source": [
    "import tensorflow as tf\n",
    "gpus=tf.config.experimental.list_physical_devices('GPU')\n",
    "print(\"num gpus available\", len(gpus))\n",
    "tf.config.experimental.set_memory_growth(gpus[0], True)"
   ]
  },
  {
   "cell_type": "code",
   "execution_count": 123,
   "metadata": {},
   "outputs": [
    {
     "output_type": "execute_result",
     "data": {
      "text/plain": [
       "35"
      ]
     },
     "metadata": {},
     "execution_count": 123
    }
   ],
   "source": [
    " len([2, 2, 2, 2, 2, 2, 2, 2, 2, 2, 2, 2, 2, 2, 2, 2, 2, 2, 2, 2, 2, 2,\n",
    "       2, 2, 2, 2, 2, 2, 2, 2, 2, 2, 2, 2, 2])"
   ]
  },
  {
   "cell_type": "code",
   "execution_count": 91,
   "metadata": {},
   "outputs": [],
   "source": [
    "y_01[3]\n",
    "np.savetxt(\"array_3d.csv\",[y_01[3]],delimiter='\\n',fmt=\"%d\")\n"
   ]
  },
  {
   "cell_type": "code",
   "execution_count": null,
   "metadata": {},
   "outputs": [],
   "source": []
  }
 ]
}