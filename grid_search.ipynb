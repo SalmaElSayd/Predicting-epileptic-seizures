{
 "metadata": {
  "language_info": {
   "codemirror_mode": {
    "name": "ipython",
    "version": 3
   },
   "file_extension": ".py",
   "mimetype": "text/x-python",
   "name": "python",
   "nbconvert_exporter": "python",
   "pygments_lexer": "ipython3",
   "version": "3.7.3"
  },
  "orig_nbformat": 2,
  "kernelspec": {
   "name": "python37364bittfgpucondac099bc5da9054a33945af826af1262b9",
   "display_name": "Python 3.7.3 64-bit ('tf-gpu': conda)"
  },
  "metadata": {
   "interpreter": {
    "hash": "4b3fe4e430614ae3e36b8912aa67966595d32d796c9f5e46d3c96e8e35c078a4"
   }
  }
 },
 "nbformat": 4,
 "nbformat_minor": 2,
 "cells": [
  {
   "cell_type": "code",
   "execution_count": 4,
   "metadata": {},
   "outputs": [],
   "source": [
    "import os\n",
    "import glob\n",
    "import re\n",
    "import numpy as np\n",
    "import numpy.fft as fft\n",
    "import mne\n",
    "import matplotlib.pyplot as plt\n",
    "from scipy import stats, signal\n",
    "from numpy import save, load\n",
    "import pandas as pd\n",
    "import sklearn\n",
    "from sklearn.svm import SVC\n",
    "from sklearn.model_selection import train_test_split\n",
    "from numpy import mean\n",
    "from sklearn.model_selection import GridSearchCV\n",
    "from sklearn.model_selection import RepeatedStratifiedKFold"
   ]
  },
  {
   "cell_type": "code",
   "execution_count": 61,
   "metadata": {},
   "outputs": [],
   "source": [
    "def read_patient(subject_id):\n",
    "    base_path = \"features/\"\n",
    "    X=load('features/data_chb{:02d}/features_{}_00.npy'.format(subject_id, subject_id))\n",
    "    y=load('features/data_chb{:02d}/targets_{}_00.npy'.format(subject_id, subject_id))\n",
    "    edf_file_names = sorted(glob.glob(os.path.join(base_path, \"data_chb{:02d}/*.npy\".format(subject_id))))\n",
    "    files=len(edf_file_names)\n",
    "    print(files)\n",
    "    print(X.shape)\n",
    "    start=1\n",
    "    for fileno in range(start, files//2):\n",
    "        X=np.concatenate((X, load('features/data_chb{:02d}/features_{}_{:02d}.npy'.format(subject_id, subject_id,   fileno))))\n",
    "        y=np.concatenate((y, load('features/data_chb{:02d}/targets_{}_{:02d}.npy'.format(subject_id,subject_id,     fileno))))\n",
    "    return X,y\n"
   ]
  },
  {
   "cell_type": "code",
   "execution_count": 33,
   "metadata": {},
   "outputs": [
    {
     "output_type": "execute_result",
     "data": {
      "text/plain": [
       "Empty DataFrame\n",
       "Columns: [train_acc, test_acc, interictal, preictal, tn, fp, fn, tp, spec, sen, f1, C, w0, w2]\n",
       "Index: []"
      ],
      "text/html": "<div>\n<style scoped>\n    .dataframe tbody tr th:only-of-type {\n        vertical-align: middle;\n    }\n\n    .dataframe tbody tr th {\n        vertical-align: top;\n    }\n\n    .dataframe thead th {\n        text-align: right;\n    }\n</style>\n<table border=\"1\" class=\"dataframe\">\n  <thead>\n    <tr style=\"text-align: right;\">\n      <th></th>\n      <th>train_acc</th>\n      <th>test_acc</th>\n      <th>interictal</th>\n      <th>preictal</th>\n      <th>tn</th>\n      <th>fp</th>\n      <th>fn</th>\n      <th>tp</th>\n      <th>spec</th>\n      <th>sen</th>\n      <th>f1</th>\n      <th>C</th>\n      <th>w0</th>\n      <th>w2</th>\n    </tr>\n  </thead>\n  <tbody>\n  </tbody>\n</table>\n</div>"
     },
     "metadata": {},
     "execution_count": 33
    }
   ],
   "source": [
    "grid_df=pd.DataFrame(columns=['train_acc', 'test_acc', 'interictal', 'preictal', 'tn', 'fp', 'fn', 'tp', 'spec', 'sen', 'f1', 'C', 'w0', 'w2'])\n",
    "grid_df"
   ]
  },
  {
   "cell_type": "code",
   "execution_count": 126,
   "metadata": {},
   "outputs": [
    {
     "output_type": "stream",
     "name": "stdout",
     "text": [
      "38\n",
      "(1440, 208)\n",
      "(24082, 208) (24082,)\n"
     ]
    }
   ],
   "source": [
    "patient_id=7\n",
    "X, y = read_patient(patient_id)\n",
    "X_shape, y_shape = X.shape, y.shape\n",
    "print(X_shape, y_shape)"
   ]
  },
  {
   "cell_type": "code",
   "execution_count": 127,
   "metadata": {},
   "outputs": [
    {
     "output_type": "stream",
     "name": "stdout",
     "text": [
      "(24082, 209)\n(24082, 209)\n"
     ]
    }
   ],
   "source": [
    "df=pd.DataFrame(data=X)\n",
    "df['target']=y\n",
    "print(df.shape)\n",
    "df=df.dropna()\n",
    "print(df.shape)"
   ]
  },
  {
   "cell_type": "code",
   "execution_count": 128,
   "metadata": {},
   "outputs": [
    {
     "output_type": "stream",
     "name": "stdout",
     "text": [
      "(22569, 209) (535, 209)\n"
     ]
    }
   ],
   "source": [
    "df_interictal=df[df['target']==0]\n",
    "# print(df_interictal.shape)\n",
    "# df_interictal=df_interictal.sample(frac=0.7)\n",
    "df_preictal=df[df['target']==2]\n",
    "interictal_shape, preictal_shape = df_interictal.shape, df_preictal.shape\n",
    "print(df_interictal.shape, df_preictal.shape)"
   ]
  },
  {
   "cell_type": "code",
   "execution_count": 129,
   "metadata": {},
   "outputs": [
    {
     "output_type": "stream",
     "name": "stdout",
     "text": [
      "(22569, 208)\n(22569,)\n(535, 208)\n(535,)\n"
     ]
    }
   ],
   "source": [
    "X_interictal=np.array(df_interictal[df.columns[:-1]]).astype('float32')\n",
    "y_interictal=np.array(df_interictal['target']).astype('float32')\n",
    "X_preictal  =np.array(df_preictal[df.columns[:-1]]).astype('float32')\n",
    "y_preictal  =np.array(df_preictal['target']).astype('float32')\n",
    "print(X_interictal.shape)\n",
    "print(y_interictal.shape)\n",
    "print(X_preictal.shape)\n",
    "print(y_preictal.shape)"
   ]
  },
  {
   "cell_type": "code",
   "execution_count": 130,
   "metadata": {},
   "outputs": [],
   "source": [
    "X_interictal_train, X_interictal_test, y_interictal_train, y_interictal_test =train_test_split(X_interictal,y_interictal,test_size=0.1, random_state=42)\n",
    "X_preictal_train, X_preictal_test, y_preictal_train, y_preictal_test=train_test_split(X_preictal, y_preictal,test_size=0.1, random_state=42)"
   ]
  },
  {
   "cell_type": "code",
   "execution_count": 131,
   "metadata": {},
   "outputs": [
    {
     "output_type": "stream",
     "name": "stdout",
     "text": [
      "(20793, 208)\n(2311, 208)\n(20793,)\n(2311,)\n"
     ]
    }
   ],
   "source": [
    "X_train = np.concatenate((X_interictal_train, X_preictal_train))\n",
    "X_test = np.concatenate((X_interictal_test, X_preictal_test))\n",
    "y_train = np.concatenate((y_interictal_train, y_preictal_train))\n",
    "y_test = np.concatenate((y_interictal_test, y_preictal_test))\n",
    "X_train_shape =X_train.shape\n",
    "X_test_shape = X_test.shape\n",
    "y_train_shape =y_train.shape \n",
    "y_test_shape = y_test.shape\n",
    "print(X_train_shape)\n",
    "print(X_test_shape)\n",
    "print(y_train_shape)\n",
    "print(y_test_shape)"
   ]
  },
  {
   "cell_type": "code",
   "execution_count": 132,
   "metadata": {},
   "outputs": [
    {
     "output_type": "stream",
     "name": "stdout",
     "text": [
      "**SVM Results:**\n",
      "Training Accuracy: 96%\n",
      "Testing Accuracy: 95%\n",
      "TN:2182, FP:75, FN:24, TP:30\n",
      "specificity= 0.9667700487372618 , sensitivity= 0.5555555555555556\n"
     ]
    }
   ],
   "source": [
    "clf = SVC(C=100, class_weight={0: 1, 2: 10})\n",
    "clf.fit(X_train, y_train)\n",
    "trainAcc = clf.score(X_train, y_train)\n",
    "testAcc = clf.score(X_test, y_test)\n",
    "print(\"**SVM Results:**\")\n",
    "print(\"Training Accuracy: %d\"%(trainAcc*100)+\"%\")\n",
    "print(\"Testing Accuracy: %d\"%(testAcc *100)+\"%\")\n",
    "y_pred=clf.predict(X_test)\n",
    "tn, fp, fn, tp = sklearn.metrics.confusion_matrix(y_test, y_pred).ravel()\n",
    "print(\"TN:{}, FP:{}, FN:{}, TP:{}\".format(tn, fp, fn, tp))\n",
    "specificity=(tn)/(tn+fp)\n",
    "sensitivity=(tp)/(tp+fn)\n",
    "print('specificity= {} , sensitivity= {}'.format(specificity, sensitivity))"
   ]
  },
  {
   "cell_type": "code",
   "execution_count": 133,
   "metadata": {},
   "outputs": [],
   "source": [
    "balance = [{0:1,2:1}, {0:1,2:8}, {0:1,2:10}, {0:1,2:12}, {0:1,2:15}]\n",
    "costs=[100.0, 150.0, 200.0]\n",
    "param_grid = dict(C=costs, class_weight=balance)"
   ]
  },
  {
   "cell_type": "code",
   "execution_count": 134,
   "metadata": {},
   "outputs": [],
   "source": [
    "cv = RepeatedStratifiedKFold(n_splits=5, n_repeats=1, random_state=1)\n",
    "grid = GridSearchCV(estimator=clf, param_grid=param_grid, n_jobs=-1, cv=cv, scoring='f1_weighted')\n"
   ]
  },
  {
   "cell_type": "code",
   "execution_count": 135,
   "metadata": {},
   "outputs": [],
   "source": [
    "grid_result = grid.fit(X_train, y_train)"
   ]
  },
  {
   "cell_type": "code",
   "execution_count": 136,
   "metadata": {},
   "outputs": [
    {
     "output_type": "stream",
     "name": "stdout",
     "text": [
      "Best: 0.970223 using {'C': 200.0, 'class_weight': {0: 1, 2: 8}}\n0.965436 (0.000142) with: {'C': 100.0, 'class_weight': {0: 1, 2: 1}}\n0.968628 (0.002234) with: {'C': 100.0, 'class_weight': {0: 1, 2: 8}}\n0.966235 (0.001687) with: {'C': 100.0, 'class_weight': {0: 1, 2: 10}}\n0.963678 (0.002105) with: {'C': 100.0, 'class_weight': {0: 1, 2: 12}}\n0.959618 (0.002186) with: {'C': 100.0, 'class_weight': {0: 1, 2: 15}}\n0.965436 (0.000142) with: {'C': 150.0, 'class_weight': {0: 1, 2: 1}}\n0.969324 (0.001697) with: {'C': 150.0, 'class_weight': {0: 1, 2: 8}}\n0.966522 (0.002147) with: {'C': 150.0, 'class_weight': {0: 1, 2: 10}}\n0.964040 (0.001871) with: {'C': 150.0, 'class_weight': {0: 1, 2: 12}}\n0.960182 (0.001884) with: {'C': 150.0, 'class_weight': {0: 1, 2: 15}}\n0.965672 (0.000329) with: {'C': 200.0, 'class_weight': {0: 1, 2: 1}}\n0.970223 (0.001626) with: {'C': 200.0, 'class_weight': {0: 1, 2: 8}}\n0.966720 (0.002143) with: {'C': 200.0, 'class_weight': {0: 1, 2: 10}}\n0.964475 (0.002031) with: {'C': 200.0, 'class_weight': {0: 1, 2: 12}}\n0.959986 (0.001936) with: {'C': 200.0, 'class_weight': {0: 1, 2: 15}}\n"
     ]
    }
   ],
   "source": [
    "print(\"Best: %f using %s\" % (grid_result.best_score_, grid_result.best_params_))\n",
    "means = grid_result.cv_results_['mean_test_score']\n",
    "stds = grid_result.cv_results_['std_test_score']\n",
    "params = grid_result.cv_results_['params']\n",
    "for mean, stdev, param in zip(means, stds, params):\n",
    "    print(\"%f (%f) with: %r\" % (mean, stdev, param))"
   ]
  },
  {
   "cell_type": "code",
   "execution_count": 137,
   "metadata": {},
   "outputs": [
    {
     "output_type": "execute_result",
     "data": {
      "text/plain": [
       "   train_acc  test_acc  interictal  preictal      tn     fp    fn     tp  \\\n",
       "1   0.875654  0.888383     12188.0     975.0  1073.0  146.0   1.0   97.0   \n",
       "2   0.970446  0.955701     11814.0     368.0  1136.0   46.0   8.0   29.0   \n",
       "3   0.976759  0.979933     11099.0     854.0  1100.0   10.0  14.0   72.0   \n",
       "4   0.956899  0.950843     13875.0     356.0  1342.0   46.0  24.0   12.0   \n",
       "5   0.948236  0.947529     12457.0     681.0  1246.0    0.0  69.0    0.0   \n",
       "6   0.707487  0.718227     18791.0    1498.0  1354.0  526.0  46.0  104.0   \n",
       "7   0.961958  0.957161     22569.0     535.0  2182.0   75.0  24.0   30.0   \n",
       "\n",
       "       spec       sen        f1      C   w0    w2  \n",
       "1  0.880230  0.989796  0.901247  150.0  1.0  10.0  \n",
       "2  0.961083  0.783784  0.977954  100.0  1.0   1.0  \n",
       "3  0.990991  0.837209  0.978225  200.0  1.0   1.0  \n",
       "4  0.966859  0.333333  0.962679  100.0  1.0   1.0  \n",
       "5  1.000000  0.000000  0.923042  100.0  1.0   1.0  \n",
       "6  0.720213  0.693333  0.897937  100.0  1.0   1.0  \n",
       "7  0.966770  0.555556  0.970223  200.0  1.0   8.0  "
      ],
      "text/html": "<div>\n<style scoped>\n    .dataframe tbody tr th:only-of-type {\n        vertical-align: middle;\n    }\n\n    .dataframe tbody tr th {\n        vertical-align: top;\n    }\n\n    .dataframe thead th {\n        text-align: right;\n    }\n</style>\n<table border=\"1\" class=\"dataframe\">\n  <thead>\n    <tr style=\"text-align: right;\">\n      <th></th>\n      <th>train_acc</th>\n      <th>test_acc</th>\n      <th>interictal</th>\n      <th>preictal</th>\n      <th>tn</th>\n      <th>fp</th>\n      <th>fn</th>\n      <th>tp</th>\n      <th>spec</th>\n      <th>sen</th>\n      <th>f1</th>\n      <th>C</th>\n      <th>w0</th>\n      <th>w2</th>\n    </tr>\n  </thead>\n  <tbody>\n    <tr>\n      <th>1</th>\n      <td>0.875654</td>\n      <td>0.888383</td>\n      <td>12188.0</td>\n      <td>975.0</td>\n      <td>1073.0</td>\n      <td>146.0</td>\n      <td>1.0</td>\n      <td>97.0</td>\n      <td>0.880230</td>\n      <td>0.989796</td>\n      <td>0.901247</td>\n      <td>150.0</td>\n      <td>1.0</td>\n      <td>10.0</td>\n    </tr>\n    <tr>\n      <th>2</th>\n      <td>0.970446</td>\n      <td>0.955701</td>\n      <td>11814.0</td>\n      <td>368.0</td>\n      <td>1136.0</td>\n      <td>46.0</td>\n      <td>8.0</td>\n      <td>29.0</td>\n      <td>0.961083</td>\n      <td>0.783784</td>\n      <td>0.977954</td>\n      <td>100.0</td>\n      <td>1.0</td>\n      <td>1.0</td>\n    </tr>\n    <tr>\n      <th>3</th>\n      <td>0.976759</td>\n      <td>0.979933</td>\n      <td>11099.0</td>\n      <td>854.0</td>\n      <td>1100.0</td>\n      <td>10.0</td>\n      <td>14.0</td>\n      <td>72.0</td>\n      <td>0.990991</td>\n      <td>0.837209</td>\n      <td>0.978225</td>\n      <td>200.0</td>\n      <td>1.0</td>\n      <td>1.0</td>\n    </tr>\n    <tr>\n      <th>4</th>\n      <td>0.956899</td>\n      <td>0.950843</td>\n      <td>13875.0</td>\n      <td>356.0</td>\n      <td>1342.0</td>\n      <td>46.0</td>\n      <td>24.0</td>\n      <td>12.0</td>\n      <td>0.966859</td>\n      <td>0.333333</td>\n      <td>0.962679</td>\n      <td>100.0</td>\n      <td>1.0</td>\n      <td>1.0</td>\n    </tr>\n    <tr>\n      <th>5</th>\n      <td>0.948236</td>\n      <td>0.947529</td>\n      <td>12457.0</td>\n      <td>681.0</td>\n      <td>1246.0</td>\n      <td>0.0</td>\n      <td>69.0</td>\n      <td>0.0</td>\n      <td>1.000000</td>\n      <td>0.000000</td>\n      <td>0.923042</td>\n      <td>100.0</td>\n      <td>1.0</td>\n      <td>1.0</td>\n    </tr>\n    <tr>\n      <th>6</th>\n      <td>0.707487</td>\n      <td>0.718227</td>\n      <td>18791.0</td>\n      <td>1498.0</td>\n      <td>1354.0</td>\n      <td>526.0</td>\n      <td>46.0</td>\n      <td>104.0</td>\n      <td>0.720213</td>\n      <td>0.693333</td>\n      <td>0.897937</td>\n      <td>100.0</td>\n      <td>1.0</td>\n      <td>1.0</td>\n    </tr>\n    <tr>\n      <th>7</th>\n      <td>0.961958</td>\n      <td>0.957161</td>\n      <td>22569.0</td>\n      <td>535.0</td>\n      <td>2182.0</td>\n      <td>75.0</td>\n      <td>24.0</td>\n      <td>30.0</td>\n      <td>0.966770</td>\n      <td>0.555556</td>\n      <td>0.970223</td>\n      <td>200.0</td>\n      <td>1.0</td>\n      <td>8.0</td>\n    </tr>\n  </tbody>\n</table>\n</div>"
     },
     "metadata": {},
     "execution_count": 137
    }
   ],
   "source": [
    "grid_df.loc[patient_id]=[trainAcc, testAcc, interictal_shape[0], preictal_shape[0], tn, fp, fn, tp, specificity, sensitivity,grid_result.best_score_,  grid_result.best_params_['C'], grid_result.best_params_['class_weight'][0],grid_result.best_params_['class_weight'][2] ]\n",
    "grid_df"
   ]
  },
  {
   "cell_type": "code",
   "execution_count": 138,
   "metadata": {},
   "outputs": [],
   "source": [
    "grid_df.to_csv(r'grid_search.csv')\n"
   ]
  },
  {
   "cell_type": "code",
   "execution_count": null,
   "metadata": {},
   "outputs": [],
   "source": []
  }
 ]
}