{
 "metadata": {
  "language_info": {
   "codemirror_mode": {
    "name": "ipython",
    "version": 3
   },
   "file_extension": ".py",
   "mimetype": "text/x-python",
   "name": "python",
   "nbconvert_exporter": "python",
   "pygments_lexer": "ipython3",
   "version": "3.7.3"
  },
  "orig_nbformat": 2,
  "kernelspec": {
   "name": "python37364bittfgpucondac099bc5da9054a33945af826af1262b9",
   "display_name": "Python 3.7.3 64-bit ('tf-gpu': conda)"
  },
  "metadata": {
   "interpreter": {
    "hash": "4b3fe4e430614ae3e36b8912aa67966595d32d796c9f5e46d3c96e8e35c078a4"
   }
  }
 },
 "nbformat": 4,
 "nbformat_minor": 2,
 "cells": [
  {
   "source": [
    "## Steps\n",
    "1. read data\n",
    "2. time differential\n",
    "3. PSD (using welch)\n",
    "4. extract features\n",
    "5. match labels (target)\n",
    "6. add patient id"
   ],
   "cell_type": "markdown",
   "metadata": {}
  },
  {
   "cell_type": "code",
   "execution_count": 1,
   "metadata": {},
   "outputs": [],
   "source": [
    "import os\n",
    "import glob\n",
    "import re\n",
    "import numpy as np\n",
    "import numpy.fft as fft\n",
    "import mne\n",
    "import matplotlib.pyplot as plt\n",
    "from scipy import stats, signal\n",
    "from numpy import save, load\n",
    "import pandas as pd\n",
    "from scipy.stats import entropy\n",
    "from sampen import sampen2\n"
   ]
  },
  {
   "cell_type": "code",
   "execution_count": 2,
   "metadata": {},
   "outputs": [],
   "source": [
    "# subject_id = 23\n",
    "# base_path = \"physionet.org/files/chbmit/1.0.0/\"\n",
    "# edf_file_names = sorted(glob.glob(os.path.join(base_path, \"chb{:02d}/*.edf\".format(subject_id))))\n",
    "# summary_file = os.path.join(base_path, \"chb{:02d}/chb{:02d}-summary.txt\".format(subject_id, subject_id))\n",
    "\n",
    "\n",
    "# summary_content = open(summary_file,'r').read()"
   ]
  },
  {
   "cell_type": "code",
   "execution_count": 3,
   "metadata": {},
   "outputs": [],
   "source": [
    "def extract_data_and_labels(edf_filename, summary_text):\n",
    "    folder, basename = os.path.split(edf_filename)\n",
    "    \n",
    "    edf = mne.io.read_raw_edf(edf_filename,stim_channel=None)\n",
    "    # X = edf.get_data().astype(np.float32) * 1e6 # to mV\n",
    "    X= shuffle_channels(edf).astype(np.float32)\n",
    "    print (X.shape)\n",
    "    y = np.zeros(X.shape[1], dtype=np.int64)\n",
    "    i_text_start = summary_text.index(basename)\n",
    "\n",
    "    if 'File Name' in summary_text[i_text_start:]:\n",
    "        i_text_stop = summary_text.index('File Name', i_text_start)\n",
    "    else:\n",
    "        i_text_stop = len(summary_text)\n",
    "    assert i_text_stop > i_text_start\n",
    "\n",
    "    file_text = summary_text[i_text_start:i_text_stop]\n",
    "    # print(file_text)\n",
    "    num_seizures = int(re.search(r\"Number of Seizures in File: ([0-9]*)\", file_text).group(1))\n",
    "    \n",
    "    # if 'Seizure ' in file_text:\n",
    "    if num_seizures>0:\n",
    "        for sez in range(1, num_seizures+1):\n",
    "            # print(re.search(rf\"Seizure[\\s]*[{str(sez)}]* Start Time:[\\s]* ([0-9]*) seconds\", file_text))\n",
    "            start_sec = int(re.search(rf\"Seizure[\\s]*[{str(sez)}]* Start Time:[\\s]* ([0-9]*) seconds\", file_text).group(1))\n",
    "            print(start_sec)\n",
    "            end_sec = int(re.search(rf\"Seizure[\\s]*[{str(sez)}]* End Time:[\\s]* ([0-9]*) seconds\", file_text).group(1))\n",
    "            print(end_sec)\n",
    "            i_seizure_start = int(round(start_sec * edf.info['sfreq']))\n",
    "            i_seizure_stop = int(round((end_sec + 1) * edf.info['sfreq']))\n",
    "            y[i_seizure_start:i_seizure_stop] = 1\n",
    "    assert X.shape[1] == len(y)\n",
    "    return X,y"
   ]
  },
  {
   "cell_type": "code",
   "execution_count": 4,
   "metadata": {},
   "outputs": [],
   "source": [
    "channel_order= {'FP1-F7':0, 'F7-T7':1, 'T7-P7':2, 'P7-O1':3, 'FP1-F3':4, 'F3-C3':5, 'C3-P3':6, 'P3-O1':7, 'FP2-F4':8, 'F4-C4':9, 'C4-P4':10, 'P4-O2':11, 'FP2-F8':12, 'F8-T8':13, 'T8-P8-0':14, 'P8-O2':15, 'FZ-CZ':16, 'CZ-PZ':17, 'P7-T7':18, 'T7-FT9':19, 'FT9-FT10':20, 'FT10-T8':21 ,'T8-P8-1':22 }\n",
    "def shuffle_channels(data):\n",
    "    channels=data.ch_names\n",
    "    d=data.get_data().astype(np.float32) * 1e6 \n",
    "    res= [0]*23\n",
    "    # res=np.zeros_like(res)\n",
    "    i=0\n",
    "    for ch in channels:\n",
    "        if channel_order.get(ch)!=None:\n",
    "            idx=channel_order[ch]\n",
    "            res[idx]=np.array(d[i])\n",
    "        i+=1\n",
    "    r=np.zeros_like(res)\n",
    "    for i in range(0,23):\n",
    "        r[i]=res[i]\n",
    "    return r"
   ]
  },
  {
   "cell_type": "code",
   "execution_count": 5,
   "metadata": {
    "tags": []
   },
   "outputs": [],
   "source": [
    "# X_23 = []\n",
    "# y_23 = []\n",
    "# for edf_file_name in edf_file_names:\n",
    "#     X, y = extract_data_and_labels(edf_file_name, summary_content)\n",
    "#     X_23.append(X)\n",
    "#     y_23.append(y)"
   ]
  },
  {
   "cell_type": "code",
   "execution_count": 6,
   "metadata": {},
   "outputs": [],
   "source": [
    "# len(X_23)"
   ]
  },
  {
   "cell_type": "code",
   "execution_count": 7,
   "metadata": {},
   "outputs": [],
   "source": [
    "def time_differential(x_series):\n",
    "    a=[]\n",
    "    for ch in x_series:\n",
    "        c=np.zeros_like(ch)\n",
    "        for i in range (1,len(ch)):\n",
    "            c[i]=ch[i]-ch[i-1]\n",
    "        a.append(c)\n",
    "    return np.array(a)\n",
    "\n",
    "    "
   ]
  },
  {
   "source": [
    "label_dict ={0: 'interictal', 1: 'ictal', 2: 'preictal', 3: 'dismiss'}"
   ],
   "cell_type": "code",
   "metadata": {},
   "execution_count": 8,
   "outputs": []
  },
  {
   "cell_type": "code",
   "execution_count": 9,
   "metadata": {},
   "outputs": [],
   "source": [
    "def label_series(labels, preictalmins):\n",
    "    interictal=60*60*256\n",
    "    preictal=preictalmins*60*256\n",
    "    # interictal=4\n",
    "    # preictal=2\n",
    "    seizure_starts=[]\n",
    "    seizure_ends=[]\n",
    "    if labels[0]==1:\n",
    "        seizure_starts.append(0)\n",
    "    for i in range(1,len(labels)):\n",
    "        if labels[i]==1 and labels[i-1]==0:\n",
    "            seizure_starts.append(i)\n",
    "        if labels[i]==0 and labels[i-1]==1:\n",
    "            seizure_ends.append(i)\n",
    "    # print(seizure_starts)\n",
    "    # print(seizure_ends)\n",
    "    for point in seizure_starts:\n",
    "        # print(point)\n",
    "        for j in range(max(0, point-preictal), point):\n",
    "            if labels[j]!=1:\n",
    "                labels[j]=2\n",
    "        for k in range(max(0, point-interictal), point):\n",
    "            if labels[k]==0:\n",
    "                labels[k]=3\n",
    "    for point in seizure_ends:\n",
    "        for j in range(point, min(interictal+ point, len(labels))):\n",
    "            if labels[j]==0:\n",
    "                labels[j]=3\n",
    "    return labels\n",
    "        \n",
    "\n",
    "           \n",
    "\n"
   ]
  },
  {
   "cell_type": "code",
   "execution_count": 10,
   "metadata": {},
   "outputs": [],
   "source": [
    "def check_channel_match(channels):\n",
    "    i=0\n",
    "    for ch in channels:\n",
    "        if channel_order.get(ch)==None or channel_order[ch]!=i:\n",
    "            return False\n",
    "        i+=1\n",
    "    return True\n"
   ]
  },
  {
   "cell_type": "code",
   "execution_count": 11,
   "metadata": {},
   "outputs": [],
   "source": [
    "def extract_frequency(freqs, psd, start, end):\n",
    "    start_idx=np.where(np.isclose(freqs, start))[0][0]\n",
    "    if end==-1:\n",
    "        end_idx=-1\n",
    "    else:\n",
    "        end_idx=np.where(np.isclose(freqs, end))[0][0]\n",
    "    return psd[start_idx:end_idx]\n"
   ]
  },
  {
   "cell_type": "code",
   "execution_count": 12,
   "metadata": {},
   "outputs": [],
   "source": [
    "def set_frequency(freqs, psd, start, end, value):\n",
    "    start_idx=np.where(np.isclose(freqs, start))[0][0]\n",
    "    if end==-1:\n",
    "        end_idx=-1\n",
    "    else:\n",
    "        end_idx=np.where(np.isclose(freqs, end))[0][0]    \n",
    "    psd[start_idx:end_idx]=value"
   ]
  },
  {
   "cell_type": "code",
   "execution_count": 13,
   "metadata": {},
   "outputs": [],
   "source": [
    "from scipy.stats.stats import pearsonr\n",
    "\n",
    "def order_correlation(data, target):\n",
    "    df=pd.DataFrame(data=data, columns=generate_column_names())\n",
    "    df['target']=target\n",
    "    df=df.dropna()\n",
    "    df=df[(df['target']!=3)]\n",
    "    coefs=np.zeros(len(df.columns)-2)\n",
    "    p_vals=np.zeros(len(df.columns)-2)\n",
    "    for i in range(0,len(df.columns)-2):\n",
    "        (coefs[i], p_vals[i])=pearsonr(df[df.columns[i]], df['target'])\n",
    "    corr_df=pd.DataFrame(data={'corr01':coefs,'p01': p_vals})\n",
    "    corr_df['feature']=df.columns[:-2]\n",
    "    corr_df=corr_df.sort_values('corr01', ascending=False)\n",
    "    return np.append(corr_df['feature'], 'patient')"
   ]
  },
  {
   "cell_type": "code",
   "execution_count": 14,
   "metadata": {},
   "outputs": [],
   "source": [
    "def generate_column_names():\n",
    "    channel_order= {'FP1-F7':0, 'F7-T7':1, 'T7-P7':2, 'P7-O1':3, 'FP1-F3':4, 'F3-C3':5, 'C3-P3':6, 'P3-O1':7, 'FP2-F4':8, 'F4-C4':9, 'C4-P4':10, 'P4-O2':11, 'FP2-F8':12, 'F8-T8':13, 'T8-P8-0':14, 'P8-O2':15, 'FZ-CZ':16, 'CZ-PZ':17, 'P7-T7':18, 'T7-FT9':19, 'FT9-FT10':20, 'FT10-T8':21 ,'T8-P8-1':22 }\n",
    "    col_names=[]\n",
    "    for ch in channel_order:\n",
    "        # print(ch)\n",
    "        for i in range(0,9):\n",
    "            col_names.append(str(ch)+'-'+str(i))\n",
    "    col_names.append('patient')\n",
    "    return col_names"
   ]
  },
  {
   "cell_type": "code",
   "execution_count": 15,
   "metadata": {
    "tags": []
   },
   "outputs": [],
   "source": [
    "# patient_no=1#################\n",
    "\n",
    "# for patient_no in range(1,6):\n",
    "#     subject_id = patient_no\n",
    "#     base_path = \"physionet.org/files/chbmit/1.0.0/\"\n",
    "#     edf_file_names = sorted(glob.glob(os.path.join(base_path, \"chb{:02d}/*.edf\".format(subject_id))))\n",
    "#     summary_file = os.path.join(base_path, \"chb{:02d}/chb{:02d}-summary.txt\".format(subject_id, subject_id))\n",
    "\n",
    "\n",
    "#     summary_content = open(summary_file,'r').read()\n",
    "\n",
    "#     X_all = []\n",
    "#     y_all = []\n",
    "#     for edf_file_name in edf_file_names:\n",
    "#         X, y = extract_data_and_labels(edf_file_name, summary_content)\n",
    "#         X_all.append(X)\n",
    "#         y_all.append(y)\n",
    "\n",
    "#     window_size=int(256*20)\n",
    "#     for filno in range(0,len(X_all)):###################\n",
    "#         recording=X_all[filno]####################\n",
    "#         discarded=0\n",
    "#         wins=recording.shape[1]//window_size\n",
    "#         print('file: {} , shape: {} '.format(filno,recording.shape))\n",
    "#         y=label_series(y_all[filno], 10)#############################33333\n",
    "#         datapoints_in=[] #for each file\n",
    "#         targets=[]\n",
    "#         i=0\n",
    "#         while i+window_size<recording.shape[1]:\n",
    "#             # n_channels=recording.shape[0]\n",
    "#             n_channels=23\n",
    "#             # features=np.zeros(n_channels*9+1)\n",
    "#             features=np.zeros(3)\n",
    "#             features[2]=patient_no\n",
    "#             recording.shape\n",
    "#             window=time_differential(recording[:,int(i):int(i+window_size)])\n",
    "#             # window=recording[:,int(i):int(i+window_size)]\n",
    "#             freqs, psd = signal.periodogram(window, fs=256)\n",
    "#             features[0]=psd.sum()\n",
    "#             features[1]=np.sqrt(np.mean(psd**2))\n",
    "#             target_range=np.array(y[int(i):int(i+window_size)])\n",
    "\n",
    "#             if np.all(target_range == target_range[0]):\n",
    "#                 target=target_range[0]\n",
    "#                 targets.append(target)\n",
    "#                 datapoints_in.append(features)\n",
    "#             else:\n",
    "#                 discarded+=1               \n",
    "#             i+=(window_size/2)\n",
    "#         # dp=np.array(datapoints_in)\n",
    "#         # D:\\salma\\UNI\\Sem8\\WS\\unnormalized\n",
    "#         save(os.path.join('sum_only','data_chb{:02d}/features_{}_{:02d}'.format(patient_no, patient_no, filno)), datapoints_in)\n",
    "#         save(os.path.join('sum_only','data_chb{:02d}/targets_{}_{:02d}'.format(patient_no,patient_no, filno)) , targets)\n",
    "#         print('total number of windows: {} , number of windows discarded: {} '.format(i/(window_size/2), discarded))\n",
    "        \n",
    "\n"
   ]
  },
  {
   "source": [
    "- Channel 1: FP1-F7  ----0\n",
    "- Channel 2: F7-T7   ----1\n",
    "- Channel 3: T7-P7   ----2\n",
    "- Channel 4: P7-O1   ----3\n",
    "- Channel 5: -\n",
    "- Channel 6: FP1-F3  ----4\n",
    "- Channel 7: F3-C3   ----5\n",
    "- Channel 8: C3-P3   ----6\n",
    "- Channel 9: P3-O1   ----7\n",
    "- Channel 10: -\n",
    "- Channel 11: FZ-CZ   ----16\n",
    "- Channel 12: CZ-PZ   ----17\n",
    "- Channel 13: -\n",
    "- Channel 14: FP2-F4   ----8\n",
    "- Channel 15: F4-C4   ----9\n",
    "- Channel 16: C4-P4  ----10\n",
    "- Channel 17: P4-O2   ----11\n",
    "- Channel 18: -\n",
    "- Channel 19: FP2-F8   ----12\n",
    "- Channel 20: F8-T8   ----13\n",
    "- Channel 21: T8-P8   ----14\n",
    "- Channel 22: P8-O2   ----15\n",
    "- Channel 23: -\n",
    "- Channel 24: P7-T7   ----18\n",
    "- Channel 25: T7-FT9   ----19\n",
    "- Channel 26: FT9-FT10   ----20\n",
    "- Channel 27: FT10-T8   ----21\n",
    "- Channel 28: T8-P8   ----22\n"
   ],
   "cell_type": "markdown",
   "metadata": {}
  },
  {
   "cell_type": "code",
   "execution_count": 18,
   "metadata": {
    "tags": []
   },
   "outputs": [
    {
     "output_type": "stream",
     "name": "stdout",
     "text": [
      "Extracting EDF parameters from d:\\salma\\UNI\\Sem8\\WS\\physionet.org\\files\\chbmit\\1.0.0\\chb06\\chb06_01.edf...\n",
      "EDF file detected\n",
      "Setting channel info structure...\n",
      "Creating raw.info structure...\n",
      "<ipython-input-3-0a23d589a01a>:4: RuntimeWarning: Channel names are not unique, found duplicates for: {'T8-P8'}. Applying running numbers for duplicates.\n",
      "  edf = mne.io.read_raw_edf(edf_filename,stim_channel=None)\n",
      "(23, 3693312)\n",
      "1724\n",
      "1738\n",
      "7461\n",
      "7476\n",
      "13525\n",
      "13540\n",
      "Extracting EDF parameters from d:\\salma\\UNI\\Sem8\\WS\\physionet.org\\files\\chbmit\\1.0.0\\chb06\\chb06_02.edf...\n",
      "EDF file detected\n",
      "Setting channel info structure...\n",
      "Creating raw.info structure...\n",
      "<ipython-input-3-0a23d589a01a>:4: RuntimeWarning: Channel names are not unique, found duplicates for: {'T8-P8'}. Applying running numbers for duplicates.\n",
      "  edf = mne.io.read_raw_edf(edf_filename,stim_channel=None)\n",
      "(23, 3686400)\n",
      "Extracting EDF parameters from d:\\salma\\UNI\\Sem8\\WS\\physionet.org\\files\\chbmit\\1.0.0\\chb06\\chb06_03.edf...\n",
      "EDF file detected\n",
      "Setting channel info structure...\n",
      "Creating raw.info structure...\n",
      "<ipython-input-3-0a23d589a01a>:4: RuntimeWarning: Channel names are not unique, found duplicates for: {'T8-P8'}. Applying running numbers for duplicates.\n",
      "  edf = mne.io.read_raw_edf(edf_filename,stim_channel=None)\n",
      "(23, 3686400)\n",
      "Extracting EDF parameters from d:\\salma\\UNI\\Sem8\\WS\\physionet.org\\files\\chbmit\\1.0.0\\chb06\\chb06_04.edf...\n",
      "EDF file detected\n",
      "Setting channel info structure...\n",
      "Creating raw.info structure...\n",
      "<ipython-input-3-0a23d589a01a>:4: RuntimeWarning: Channel names are not unique, found duplicates for: {'T8-P8'}. Applying running numbers for duplicates.\n",
      "  edf = mne.io.read_raw_edf(edf_filename,stim_channel=None)\n",
      "(23, 3394816)\n",
      "327\n",
      "347\n",
      "6211\n",
      "6231\n",
      "Extracting EDF parameters from d:\\salma\\UNI\\Sem8\\WS\\physionet.org\\files\\chbmit\\1.0.0\\chb06\\chb06_05.edf...\n",
      "EDF file detected\n",
      "Setting channel info structure...\n",
      "Creating raw.info structure...\n",
      "<ipython-input-3-0a23d589a01a>:4: RuntimeWarning: Channel names are not unique, found duplicates for: {'T8-P8'}. Applying running numbers for duplicates.\n",
      "  edf = mne.io.read_raw_edf(edf_filename,stim_channel=None)\n",
      "(23, 3686400)\n",
      "Extracting EDF parameters from d:\\salma\\UNI\\Sem8\\WS\\physionet.org\\files\\chbmit\\1.0.0\\chb06\\chb06_06.edf...\n",
      "EDF file detected\n",
      "Setting channel info structure...\n",
      "Creating raw.info structure...\n",
      "<ipython-input-3-0a23d589a01a>:4: RuntimeWarning: Channel names are not unique, found duplicates for: {'T8-P8'}. Applying running numbers for duplicates.\n",
      "  edf = mne.io.read_raw_edf(edf_filename,stim_channel=None)\n",
      "(23, 3686400)\n",
      "Extracting EDF parameters from d:\\salma\\UNI\\Sem8\\WS\\physionet.org\\files\\chbmit\\1.0.0\\chb06\\chb06_07.edf...\n",
      "EDF file detected\n",
      "Setting channel info structure...\n",
      "Creating raw.info structure...\n",
      "<ipython-input-3-0a23d589a01a>:4: RuntimeWarning: Channel names are not unique, found duplicates for: {'T8-P8'}. Applying running numbers for duplicates.\n",
      "  edf = mne.io.read_raw_edf(edf_filename,stim_channel=None)\n",
      "(23, 3686400)\n",
      "Extracting EDF parameters from d:\\salma\\UNI\\Sem8\\WS\\physionet.org\\files\\chbmit\\1.0.0\\chb06\\chb06_08.edf...\n",
      "EDF file detected\n",
      "Setting channel info structure...\n",
      "Creating raw.info structure...\n",
      "<ipython-input-3-0a23d589a01a>:4: RuntimeWarning: Channel names are not unique, found duplicates for: {'T8-P8'}. Applying running numbers for duplicates.\n",
      "  edf = mne.io.read_raw_edf(edf_filename,stim_channel=None)\n",
      "(23, 3686400)\n",
      "Extracting EDF parameters from d:\\salma\\UNI\\Sem8\\WS\\physionet.org\\files\\chbmit\\1.0.0\\chb06\\chb06_09.edf...\n",
      "EDF file detected\n",
      "Setting channel info structure...\n",
      "Creating raw.info structure...\n",
      "<ipython-input-3-0a23d589a01a>:4: RuntimeWarning: Channel names are not unique, found duplicates for: {'T8-P8'}. Applying running numbers for duplicates.\n",
      "  edf = mne.io.read_raw_edf(edf_filename,stim_channel=None)\n",
      "(23, 3686400)\n",
      "12500\n",
      "12516\n",
      "Extracting EDF parameters from d:\\salma\\UNI\\Sem8\\WS\\physionet.org\\files\\chbmit\\1.0.0\\chb06\\chb06_10.edf...\n",
      "EDF file detected\n",
      "Setting channel info structure...\n",
      "Creating raw.info structure...\n",
      "<ipython-input-3-0a23d589a01a>:4: RuntimeWarning: Channel names are not unique, found duplicates for: {'T8-P8'}. Applying running numbers for duplicates.\n",
      "  edf = mne.io.read_raw_edf(edf_filename,stim_channel=None)\n",
      "(23, 3686400)\n",
      "10833\n",
      "10845\n",
      "Extracting EDF parameters from d:\\salma\\UNI\\Sem8\\WS\\physionet.org\\files\\chbmit\\1.0.0\\chb06\\chb06_12.edf...\n",
      "EDF file detected\n",
      "Setting channel info structure...\n",
      "Creating raw.info structure...\n",
      "<ipython-input-3-0a23d589a01a>:4: RuntimeWarning: Channel names are not unique, found duplicates for: {'T8-P8'}. Applying running numbers for duplicates.\n",
      "  edf = mne.io.read_raw_edf(edf_filename,stim_channel=None)\n",
      "(23, 3686400)\n",
      "Extracting EDF parameters from d:\\salma\\UNI\\Sem8\\WS\\physionet.org\\files\\chbmit\\1.0.0\\chb06\\chb06_13.edf...\n",
      "EDF file detected\n",
      "Setting channel info structure...\n",
      "Creating raw.info structure...\n",
      "<ipython-input-3-0a23d589a01a>:4: RuntimeWarning: Channel names are not unique, found duplicates for: {'T8-P8'}. Applying running numbers for duplicates.\n",
      "  edf = mne.io.read_raw_edf(edf_filename,stim_channel=None)\n",
      "(23, 3686400)\n",
      "506\n",
      "519\n",
      "Extracting EDF parameters from d:\\salma\\UNI\\Sem8\\WS\\physionet.org\\files\\chbmit\\1.0.0\\chb06\\chb06_14.edf...\n",
      "EDF file detected\n",
      "Setting channel info structure...\n",
      "Creating raw.info structure...\n",
      "<ipython-input-3-0a23d589a01a>:4: RuntimeWarning: Channel names are not unique, found duplicates for: {'T8-P8'}. Applying running numbers for duplicates.\n",
      "  edf = mne.io.read_raw_edf(edf_filename,stim_channel=None)\n",
      "(23, 3686400)\n",
      "Extracting EDF parameters from d:\\salma\\UNI\\Sem8\\WS\\physionet.org\\files\\chbmit\\1.0.0\\chb06\\chb06_15.edf...\n",
      "EDF file detected\n",
      "Setting channel info structure...\n",
      "Creating raw.info structure...\n",
      "<ipython-input-3-0a23d589a01a>:4: RuntimeWarning: Channel names are not unique, found duplicates for: {'T8-P8'}. Applying running numbers for duplicates.\n",
      "  edf = mne.io.read_raw_edf(edf_filename,stim_channel=None)\n"
     ]
    },
    {
     "output_type": "error",
     "ename": "KeyboardInterrupt",
     "evalue": "",
     "traceback": [
      "\u001b[1;31m---------------------------------------------------------------------------\u001b[0m",
      "\u001b[1;31mKeyboardInterrupt\u001b[0m                         Traceback (most recent call last)",
      "\u001b[1;32m<ipython-input-18-082292ab2adc>\u001b[0m in \u001b[0;36m<module>\u001b[1;34m\u001b[0m\n\u001b[0;32m     13\u001b[0m     \u001b[0my_all\u001b[0m \u001b[1;33m=\u001b[0m \u001b[1;33m[\u001b[0m\u001b[1;33m]\u001b[0m\u001b[1;33m\u001b[0m\u001b[1;33m\u001b[0m\u001b[0m\n\u001b[0;32m     14\u001b[0m     \u001b[1;32mfor\u001b[0m \u001b[0medf_file_name\u001b[0m \u001b[1;32min\u001b[0m \u001b[0medf_file_names\u001b[0m\u001b[1;33m:\u001b[0m\u001b[1;33m\u001b[0m\u001b[1;33m\u001b[0m\u001b[0m\n\u001b[1;32m---> 15\u001b[1;33m         \u001b[0mX\u001b[0m\u001b[1;33m,\u001b[0m \u001b[0my\u001b[0m \u001b[1;33m=\u001b[0m \u001b[0mextract_data_and_labels\u001b[0m\u001b[1;33m(\u001b[0m\u001b[0medf_file_name\u001b[0m\u001b[1;33m,\u001b[0m \u001b[0msummary_content\u001b[0m\u001b[1;33m)\u001b[0m\u001b[1;33m\u001b[0m\u001b[1;33m\u001b[0m\u001b[0m\n\u001b[0m\u001b[0;32m     16\u001b[0m         \u001b[0mX_all\u001b[0m\u001b[1;33m.\u001b[0m\u001b[0mappend\u001b[0m\u001b[1;33m(\u001b[0m\u001b[0mX\u001b[0m\u001b[1;33m)\u001b[0m\u001b[1;33m\u001b[0m\u001b[1;33m\u001b[0m\u001b[0m\n\u001b[0;32m     17\u001b[0m         \u001b[0my_all\u001b[0m\u001b[1;33m.\u001b[0m\u001b[0mappend\u001b[0m\u001b[1;33m(\u001b[0m\u001b[0my\u001b[0m\u001b[1;33m)\u001b[0m\u001b[1;33m\u001b[0m\u001b[1;33m\u001b[0m\u001b[0m\n",
      "\u001b[1;32m<ipython-input-3-0a23d589a01a>\u001b[0m in \u001b[0;36mextract_data_and_labels\u001b[1;34m(edf_filename, summary_text)\u001b[0m\n\u001b[0;32m      4\u001b[0m     \u001b[0medf\u001b[0m \u001b[1;33m=\u001b[0m \u001b[0mmne\u001b[0m\u001b[1;33m.\u001b[0m\u001b[0mio\u001b[0m\u001b[1;33m.\u001b[0m\u001b[0mread_raw_edf\u001b[0m\u001b[1;33m(\u001b[0m\u001b[0medf_filename\u001b[0m\u001b[1;33m,\u001b[0m\u001b[0mstim_channel\u001b[0m\u001b[1;33m=\u001b[0m\u001b[1;32mNone\u001b[0m\u001b[1;33m)\u001b[0m\u001b[1;33m\u001b[0m\u001b[1;33m\u001b[0m\u001b[0m\n\u001b[0;32m      5\u001b[0m     \u001b[1;31m# X = edf.get_data().astype(np.float32) * 1e6 # to mV\u001b[0m\u001b[1;33m\u001b[0m\u001b[1;33m\u001b[0m\u001b[1;33m\u001b[0m\u001b[0m\n\u001b[1;32m----> 6\u001b[1;33m     \u001b[0mX\u001b[0m\u001b[1;33m=\u001b[0m \u001b[0mshuffle_channels\u001b[0m\u001b[1;33m(\u001b[0m\u001b[0medf\u001b[0m\u001b[1;33m)\u001b[0m\u001b[1;33m.\u001b[0m\u001b[0mastype\u001b[0m\u001b[1;33m(\u001b[0m\u001b[0mnp\u001b[0m\u001b[1;33m.\u001b[0m\u001b[0mfloat32\u001b[0m\u001b[1;33m)\u001b[0m\u001b[1;33m\u001b[0m\u001b[1;33m\u001b[0m\u001b[0m\n\u001b[0m\u001b[0;32m      7\u001b[0m     \u001b[0mprint\u001b[0m \u001b[1;33m(\u001b[0m\u001b[0mX\u001b[0m\u001b[1;33m.\u001b[0m\u001b[0mshape\u001b[0m\u001b[1;33m)\u001b[0m\u001b[1;33m\u001b[0m\u001b[1;33m\u001b[0m\u001b[0m\n\u001b[0;32m      8\u001b[0m     \u001b[0my\u001b[0m \u001b[1;33m=\u001b[0m \u001b[0mnp\u001b[0m\u001b[1;33m.\u001b[0m\u001b[0mzeros\u001b[0m\u001b[1;33m(\u001b[0m\u001b[0mX\u001b[0m\u001b[1;33m.\u001b[0m\u001b[0mshape\u001b[0m\u001b[1;33m[\u001b[0m\u001b[1;36m1\u001b[0m\u001b[1;33m]\u001b[0m\u001b[1;33m,\u001b[0m \u001b[0mdtype\u001b[0m\u001b[1;33m=\u001b[0m\u001b[0mnp\u001b[0m\u001b[1;33m.\u001b[0m\u001b[0mint64\u001b[0m\u001b[1;33m)\u001b[0m\u001b[1;33m\u001b[0m\u001b[1;33m\u001b[0m\u001b[0m\n",
      "\u001b[1;32m<ipython-input-4-feb3ba644d54>\u001b[0m in \u001b[0;36mshuffle_channels\u001b[1;34m(data)\u001b[0m\n\u001b[0;32m      2\u001b[0m \u001b[1;32mdef\u001b[0m \u001b[0mshuffle_channels\u001b[0m\u001b[1;33m(\u001b[0m\u001b[0mdata\u001b[0m\u001b[1;33m)\u001b[0m\u001b[1;33m:\u001b[0m\u001b[1;33m\u001b[0m\u001b[1;33m\u001b[0m\u001b[0m\n\u001b[0;32m      3\u001b[0m     \u001b[0mchannels\u001b[0m\u001b[1;33m=\u001b[0m\u001b[0mdata\u001b[0m\u001b[1;33m.\u001b[0m\u001b[0mch_names\u001b[0m\u001b[1;33m\u001b[0m\u001b[1;33m\u001b[0m\u001b[0m\n\u001b[1;32m----> 4\u001b[1;33m     \u001b[0md\u001b[0m\u001b[1;33m=\u001b[0m\u001b[0mdata\u001b[0m\u001b[1;33m.\u001b[0m\u001b[0mget_data\u001b[0m\u001b[1;33m(\u001b[0m\u001b[1;33m)\u001b[0m\u001b[1;33m.\u001b[0m\u001b[0mastype\u001b[0m\u001b[1;33m(\u001b[0m\u001b[0mnp\u001b[0m\u001b[1;33m.\u001b[0m\u001b[0mfloat32\u001b[0m\u001b[1;33m)\u001b[0m \u001b[1;33m*\u001b[0m \u001b[1;36m1e6\u001b[0m\u001b[1;33m\u001b[0m\u001b[1;33m\u001b[0m\u001b[0m\n\u001b[0m\u001b[0;32m      5\u001b[0m     \u001b[0mres\u001b[0m\u001b[1;33m=\u001b[0m \u001b[1;33m[\u001b[0m\u001b[1;36m0\u001b[0m\u001b[1;33m]\u001b[0m\u001b[1;33m*\u001b[0m\u001b[1;36m23\u001b[0m\u001b[1;33m\u001b[0m\u001b[1;33m\u001b[0m\u001b[0m\n\u001b[0;32m      6\u001b[0m     \u001b[1;31m# res=np.zeros_like(res)\u001b[0m\u001b[1;33m\u001b[0m\u001b[1;33m\u001b[0m\u001b[1;33m\u001b[0m\u001b[0m\n",
      "\u001b[1;32m<decorator-gen-184>\u001b[0m in \u001b[0;36mget_data\u001b[1;34m(self, picks, start, stop, reject_by_annotation, return_times, units, verbose)\u001b[0m\n",
      "\u001b[1;32m~\\anaconda3\\envs\\tf-gpu\\lib\\site-packages\\mne\\io\\base.py\u001b[0m in \u001b[0;36mget_data\u001b[1;34m(self, picks, start, stop, reject_by_annotation, return_times, units, verbose)\u001b[0m\n\u001b[0;32m    886\u001b[0m         \u001b[1;32mif\u001b[0m \u001b[0mlen\u001b[0m\u001b[1;33m(\u001b[0m\u001b[0mself\u001b[0m\u001b[1;33m.\u001b[0m\u001b[0mannotations\u001b[0m\u001b[1;33m)\u001b[0m \u001b[1;33m==\u001b[0m \u001b[1;36m0\u001b[0m \u001b[1;32mor\u001b[0m \u001b[0mreject_by_annotation\u001b[0m \u001b[1;32mis\u001b[0m \u001b[1;32mNone\u001b[0m\u001b[1;33m:\u001b[0m\u001b[1;33m\u001b[0m\u001b[1;33m\u001b[0m\u001b[0m\n\u001b[0;32m    887\u001b[0m             getitem = self._getitem(\n\u001b[1;32m--> 888\u001b[1;33m                 (picks, slice(start, stop)), return_times=return_times)\n\u001b[0m\u001b[0;32m    889\u001b[0m             \u001b[1;32mif\u001b[0m \u001b[0mreturn_times\u001b[0m\u001b[1;33m:\u001b[0m\u001b[1;33m\u001b[0m\u001b[1;33m\u001b[0m\u001b[0m\n\u001b[0;32m    890\u001b[0m                 \u001b[0mdata\u001b[0m\u001b[1;33m,\u001b[0m \u001b[0mtimes\u001b[0m \u001b[1;33m=\u001b[0m \u001b[0mgetitem\u001b[0m\u001b[1;33m\u001b[0m\u001b[1;33m\u001b[0m\u001b[0m\n",
      "\u001b[1;32m~\\anaconda3\\envs\\tf-gpu\\lib\\site-packages\\mne\\io\\base.py\u001b[0m in \u001b[0;36m_getitem\u001b[1;34m(self, item, return_times)\u001b[0m\n\u001b[0;32m    782\u001b[0m         \u001b[1;32melse\u001b[0m\u001b[1;33m:\u001b[0m\u001b[1;33m\u001b[0m\u001b[1;33m\u001b[0m\u001b[0m\n\u001b[0;32m    783\u001b[0m             data = self._read_segment(start=start, stop=stop, sel=sel,\n\u001b[1;32m--> 784\u001b[1;33m                                       projector=self._projector)\n\u001b[0m\u001b[0;32m    785\u001b[0m \u001b[1;33m\u001b[0m\u001b[0m\n\u001b[0;32m    786\u001b[0m         \u001b[1;32mif\u001b[0m \u001b[0mreturn_times\u001b[0m\u001b[1;33m:\u001b[0m\u001b[1;33m\u001b[0m\u001b[1;33m\u001b[0m\u001b[0m\n",
      "\u001b[1;32m<decorator-gen-181>\u001b[0m in \u001b[0;36m_read_segment\u001b[1;34m(self, start, stop, sel, data_buffer, projector, verbose)\u001b[0m\n",
      "\u001b[1;32m~\\anaconda3\\envs\\tf-gpu\\lib\\site-packages\\mne\\io\\base.py\u001b[0m in \u001b[0;36m_read_segment\u001b[1;34m(***failed resolving arguments***)\u001b[0m\n\u001b[0;32m    422\u001b[0m             _ReadSegmentFileProtector(self)._read_segment_file(\n\u001b[0;32m    423\u001b[0m                 \u001b[0mdata\u001b[0m\u001b[1;33m[\u001b[0m\u001b[1;33m:\u001b[0m\u001b[1;33m,\u001b[0m \u001b[0mthis_sl\u001b[0m\u001b[1;33m]\u001b[0m\u001b[1;33m,\u001b[0m \u001b[0morig_idx\u001b[0m\u001b[1;33m,\u001b[0m \u001b[0mfi\u001b[0m\u001b[1;33m,\u001b[0m\u001b[1;33m\u001b[0m\u001b[1;33m\u001b[0m\u001b[0m\n\u001b[1;32m--> 424\u001b[1;33m                 int(start_file), int(stop_file), cals, mult)\n\u001b[0m\u001b[0;32m    425\u001b[0m             \u001b[0moffset\u001b[0m \u001b[1;33m+=\u001b[0m \u001b[0mn_read\u001b[0m\u001b[1;33m\u001b[0m\u001b[1;33m\u001b[0m\u001b[0m\n\u001b[0;32m    426\u001b[0m         \u001b[1;32mreturn\u001b[0m \u001b[0mdata\u001b[0m\u001b[1;33m\u001b[0m\u001b[1;33m\u001b[0m\u001b[0m\n",
      "\u001b[1;32m~\\anaconda3\\envs\\tf-gpu\\lib\\site-packages\\mne\\io\\base.py\u001b[0m in \u001b[0;36m_read_segment_file\u001b[1;34m(self, data, idx, fi, start, stop, cals, mult)\u001b[0m\n\u001b[0;32m   2067\u001b[0m     \u001b[1;32mdef\u001b[0m \u001b[0m_read_segment_file\u001b[0m\u001b[1;33m(\u001b[0m\u001b[0mself\u001b[0m\u001b[1;33m,\u001b[0m \u001b[0mdata\u001b[0m\u001b[1;33m,\u001b[0m \u001b[0midx\u001b[0m\u001b[1;33m,\u001b[0m \u001b[0mfi\u001b[0m\u001b[1;33m,\u001b[0m \u001b[0mstart\u001b[0m\u001b[1;33m,\u001b[0m \u001b[0mstop\u001b[0m\u001b[1;33m,\u001b[0m \u001b[0mcals\u001b[0m\u001b[1;33m,\u001b[0m \u001b[0mmult\u001b[0m\u001b[1;33m)\u001b[0m\u001b[1;33m:\u001b[0m\u001b[1;33m\u001b[0m\u001b[1;33m\u001b[0m\u001b[0m\n\u001b[0;32m   2068\u001b[0m         return self.__raw.__class__._read_segment_file(\n\u001b[1;32m-> 2069\u001b[1;33m             self, data, idx, fi, start, stop, cals, mult)\n\u001b[0m\u001b[0;32m   2070\u001b[0m \u001b[1;33m\u001b[0m\u001b[0m\n\u001b[0;32m   2071\u001b[0m \u001b[1;33m\u001b[0m\u001b[0m\n",
      "\u001b[1;32m~\\anaconda3\\envs\\tf-gpu\\lib\\site-packages\\mne\\io\\edf\\edf.py\u001b[0m in \u001b[0;36m_read_segment_file\u001b[1;34m(self, data, idx, fi, start, stop, cals, mult)\u001b[0m\n\u001b[0;32m    141\u001b[0m         return _read_segment_file(data, idx, fi, start, stop,\n\u001b[0;32m    142\u001b[0m                                   \u001b[0mself\u001b[0m\u001b[1;33m.\u001b[0m\u001b[0m_raw_extras\u001b[0m\u001b[1;33m[\u001b[0m\u001b[0mfi\u001b[0m\u001b[1;33m]\u001b[0m\u001b[1;33m,\u001b[0m \u001b[0mself\u001b[0m\u001b[1;33m.\u001b[0m\u001b[0m_filenames\u001b[0m\u001b[1;33m[\u001b[0m\u001b[0mfi\u001b[0m\u001b[1;33m]\u001b[0m\u001b[1;33m,\u001b[0m\u001b[1;33m\u001b[0m\u001b[1;33m\u001b[0m\u001b[0m\n\u001b[1;32m--> 143\u001b[1;33m                                   cals, mult)\n\u001b[0m\u001b[0;32m    144\u001b[0m \u001b[1;33m\u001b[0m\u001b[0m\n\u001b[0;32m    145\u001b[0m \u001b[1;33m\u001b[0m\u001b[0m\n",
      "\u001b[1;32m~\\anaconda3\\envs\\tf-gpu\\lib\\site-packages\\mne\\io\\edf\\edf.py\u001b[0m in \u001b[0;36m_read_segment_file\u001b[1;34m(data, idx, fi, start, stop, raw_extras, filenames, cals, mult)\u001b[0m\n\u001b[0;32m    276\u001b[0m             \u001b[1;31m# Read and reshape to (n_chunks_read, ch0_ch1_ch2_ch3...)\u001b[0m\u001b[1;33m\u001b[0m\u001b[1;33m\u001b[0m\u001b[1;33m\u001b[0m\u001b[0m\n\u001b[0;32m    277\u001b[0m             many_chunk = _read_ch(fid, subtype, ch_offsets[-1] * n_read,\n\u001b[1;32m--> 278\u001b[1;33m                                   dtype_byte, dtype).reshape(n_read, -1)\n\u001b[0m\u001b[0;32m    279\u001b[0m             \u001b[0mr_sidx\u001b[0m \u001b[1;33m=\u001b[0m \u001b[0mr_lims\u001b[0m\u001b[1;33m[\u001b[0m\u001b[0mai\u001b[0m\u001b[1;33m]\u001b[0m\u001b[1;33m[\u001b[0m\u001b[1;36m0\u001b[0m\u001b[1;33m]\u001b[0m\u001b[1;33m\u001b[0m\u001b[1;33m\u001b[0m\u001b[0m\n\u001b[0;32m    280\u001b[0m             \u001b[0mr_eidx\u001b[0m \u001b[1;33m=\u001b[0m \u001b[1;33m(\u001b[0m\u001b[0mbuf_len\u001b[0m \u001b[1;33m*\u001b[0m \u001b[1;33m(\u001b[0m\u001b[0mn_read\u001b[0m \u001b[1;33m-\u001b[0m \u001b[1;36m1\u001b[0m\u001b[1;33m)\u001b[0m \u001b[1;33m+\u001b[0m \u001b[0mr_lims\u001b[0m\u001b[1;33m[\u001b[0m\u001b[0mai\u001b[0m \u001b[1;33m+\u001b[0m \u001b[0mn_read\u001b[0m \u001b[1;33m-\u001b[0m \u001b[1;36m1\u001b[0m\u001b[1;33m]\u001b[0m\u001b[1;33m[\u001b[0m\u001b[1;36m1\u001b[0m\u001b[1;33m]\u001b[0m\u001b[1;33m)\u001b[0m\u001b[1;33m\u001b[0m\u001b[1;33m\u001b[0m\u001b[0m\n",
      "\u001b[1;32m~\\anaconda3\\envs\\tf-gpu\\lib\\site-packages\\mne\\io\\edf\\edf.py\u001b[0m in \u001b[0;36m_read_ch\u001b[1;34m(fid, subtype, samp, dtype_byte, dtype)\u001b[0m\n\u001b[0;32m    228\u001b[0m     \u001b[1;31m# GDF data and EDF data\u001b[0m\u001b[1;33m\u001b[0m\u001b[1;33m\u001b[0m\u001b[1;33m\u001b[0m\u001b[0m\n\u001b[0;32m    229\u001b[0m     \u001b[1;32melse\u001b[0m\u001b[1;33m:\u001b[0m\u001b[1;33m\u001b[0m\u001b[1;33m\u001b[0m\u001b[0m\n\u001b[1;32m--> 230\u001b[1;33m         \u001b[0mch_data\u001b[0m \u001b[1;33m=\u001b[0m \u001b[0mnp\u001b[0m\u001b[1;33m.\u001b[0m\u001b[0mfromfile\u001b[0m\u001b[1;33m(\u001b[0m\u001b[0mfid\u001b[0m\u001b[1;33m,\u001b[0m \u001b[0mdtype\u001b[0m\u001b[1;33m=\u001b[0m\u001b[0mdtype\u001b[0m\u001b[1;33m,\u001b[0m \u001b[0mcount\u001b[0m\u001b[1;33m=\u001b[0m\u001b[0msamp\u001b[0m\u001b[1;33m)\u001b[0m\u001b[1;33m\u001b[0m\u001b[1;33m\u001b[0m\u001b[0m\n\u001b[0m\u001b[0;32m    231\u001b[0m \u001b[1;33m\u001b[0m\u001b[0m\n\u001b[0;32m    232\u001b[0m     \u001b[1;32mreturn\u001b[0m \u001b[0mch_data\u001b[0m\u001b[1;33m\u001b[0m\u001b[1;33m\u001b[0m\u001b[0m\n",
      "\u001b[1;31mKeyboardInterrupt\u001b[0m: "
     ]
    }
   ],
   "source": [
    "patient_no=1#################\n",
    "\n",
    "for patient_no in range(6,11):\n",
    "    subject_id = patient_no\n",
    "    base_path = \"physionet.org/files/chbmit/1.0.0/\"\n",
    "    edf_file_names = sorted(glob.glob(os.path.join(base_path, \"chb{:02d}/*.edf\".format(subject_id))))\n",
    "    summary_file = os.path.join(base_path, \"chb{:02d}/chb{:02d}-summary.txt\".format(subject_id, subject_id))\n",
    "\n",
    "\n",
    "    summary_content = open(summary_file,'r').read()\n",
    "\n",
    "    X_all = []\n",
    "    y_all = []\n",
    "    for edf_file_name in edf_file_names:\n",
    "        X, y = extract_data_and_labels(edf_file_name, summary_content)\n",
    "        X_all.append(X)\n",
    "        y_all.append(y)\n",
    "\n",
    "    window_size=int(256*20)\n",
    "    for filno in range(0,len(X_all)):###################\n",
    "        recording=X_all[filno]####################\n",
    "        discarded=0\n",
    "        wins=recording.shape[1]//window_size\n",
    "        print('file: {} , shape: {} '.format(filno,recording.shape))\n",
    "        y=label_series(y_all[filno], 10)#############################33333\n",
    "        datapoints_in=[] #for each file\n",
    "        targets=[]\n",
    "        i=0\n",
    "        while i+window_size<recording.shape[1]:\n",
    "            # n_channels=recording.shape[0]\n",
    "            n_channels=23\n",
    "            features=np.zeros(25)\n",
    "            # features[-1]=patient_no\n",
    "            recording.shape\n",
    "            window=time_differential(recording[:,int(i):int(i+window_size)])\n",
    "            # window=recording[:,int(i):int(i+window_size)]\n",
    "            freqs, psd = signal.periodogram(window, fs=256)\n",
    "            #removing electric noise\n",
    "            # psd[:,57:64]=0\n",
    "            # psd[:,117:124]=0\n",
    "            target_range=np.array(y[int(i):int(i+window_size)])\n",
    "            for chi in range (0, n_channels):\n",
    "                set_frequency(freqs, psd[chi],57,64, 0)\n",
    "                set_frequency(freqs, psd[chi],117,124, 0)\n",
    "            features[0]=np.sqrt(np.mean(extract_frequency(freqs, psd[1],0.5, 31)**2))\n",
    "            # print(sampen2(extract_frequency(freqs, psd[1],0.5, 5))[2][1])\n",
    "            try:\n",
    "                features[1]=sampen2(extract_frequency(freqs, psd[1],0.5, 5))[-1][1]\n",
    "            except ZeroDivisionError:\n",
    "                features[1]=float('NaN')\n",
    "            features[2]=np.sqrt(np.mean(extract_frequency(freqs, psd[1],4, 9)**2))\n",
    "            features[3]=np.sqrt(np.mean(extract_frequency(freqs, psd[1],0.5, 5)**2))\n",
    "            try:\n",
    "                features[4]=sampen2(extract_frequency(freqs, psd[0],0.5,5 ))[-1][1]\n",
    "            except ZeroDivisionError:\n",
    "                features[4]=float('NaN')   \n",
    "            features[5]=np.sqrt(np.mean(extract_frequency(freqs, psd[15],0.5, 31)**2))\n",
    "            features[6]=np.sqrt(np.mean(extract_frequency(freqs, psd[15],0.5, 5)**2))\n",
    "            features[7]=np.sqrt(np.mean(extract_frequency(freqs, psd[11],12, 31)**2))\n",
    "            features[8]=np.sqrt(np.mean(extract_frequency(freqs, psd[15],12, 31)**2))\n",
    "            features[9]=np.sqrt(np.mean(extract_frequency(freqs, psd[15],4, 9)**2))\n",
    "            features[10]=np.sqrt(np.mean(extract_frequency(freqs, psd[2],0.5, 31)**2))\n",
    "            features[11]=np.sqrt(np.mean(extract_frequency(freqs, psd[2],0.5, 5)**2))\n",
    "            features[12]=np.sqrt(np.mean(extract_frequency(freqs, psd[3],4, 9)**2))\n",
    "            features[13]=np.median(extract_frequency(freqs, psd[2],0.5, 5))\n",
    "            features[14]=np.sqrt(np.mean(extract_frequency(freqs, psd[3],0.5, 31)**2))\n",
    "            features[15]=np.sqrt(np.mean(extract_frequency(freqs, psd[17],4, 9)**2))\n",
    "            features[16]=np.sqrt(np.mean(extract_frequency(freqs, psd[17],0.5, 31)**2))\n",
    "            features[17]=np.sqrt(np.mean(extract_frequency(freqs, psd[16],0.5, 31)**2))\n",
    "            features[18]=np.sqrt(np.mean(extract_frequency(freqs, psd[16],0.5, 5)**2))\n",
    "            features[19]=np.sqrt(np.mean(extract_frequency(freqs, psd[17],0.5, 5)**2))\n",
    "            features[20]=np.sqrt(np.mean(extract_frequency(freqs, psd[20],0.5, 31)**2))\n",
    "            features[21]=np.sqrt(np.mean(extract_frequency(freqs, psd[20],4, 9)**2))\n",
    "            features[22]=np.sqrt(np.mean(extract_frequency(freqs, psd[20],12, 31)**2))\n",
    "            features[23]=np.sqrt(np.mean(extract_frequency(freqs, psd[20],8, 13)**2))\n",
    "            features[24]=np.sqrt(np.mean(extract_frequency(freqs, psd[20],0.5, 5)**2))\n",
    "\n",
    "\n",
    "\n",
    "                # # alpha=np.sum(psd[chi,8:14])\n",
    "                # alpha =extract_frequency(freqs, psd[chi],8,14)\n",
    "                # # beta=np.sum(psd[chi,13:31])\n",
    "                # beta = extract_frequency(freqs, psd[chi],13,31)\n",
    "                # # delta=np.sum(psd[chi,1:5])\n",
    "                # delta =extract_frequency(freqs, psd[chi],0.5,5)\n",
    "                # # theta=np.sum(psd[chi, 4:9])\n",
    "                # theta =extract_frequency(freqs, psd[chi],4,9)\n",
    "                # # gamma0=np.sum(psd[chi,30:48])\n",
    "                # gamma0=extract_frequency(freqs, psd[chi],30,48)\n",
    "                # # gamma1=np.sum(psd[chi,53:76])\n",
    "                # gamma1=extract_frequency(freqs, psd[chi],53,76)\n",
    "                # # gamma2=np.sum(psd[chi,75:98])\n",
    "                # gamma2=extract_frequency(freqs, psd[chi],75,98)\n",
    "                # # gamma3=np.sum(psd[chi,103:])\n",
    "                # gamma3=extract_frequency(freqs, psd[chi],103,-1)\n",
    "                # features[chi*9:(1+chi)*9-1]=[alpha,beta,delta,theta,gamma0,gamma1,gamma2,gamma3]\n",
    "                # # total_power=np.sum(features[chi*9:(1+chi)*9-1])\n",
    "                # total_power=np.sum(psd[chi])\n",
    "                # features[chi*9:(1+chi)*9-1] /= total_power\n",
    "                # features[(1+chi)*9-1]=total_power\n",
    "            if np.all(target_range == target_range[0]):\n",
    "                target=target_range[0]\n",
    "                targets.append(target)\n",
    "                datapoints_in.append(features)\n",
    "            else:\n",
    "                discarded+=1               \n",
    "            i+=(window_size/2)\n",
    "        # dp=np.array(datapoints_in)\n",
    "        # D:\\salma\\UNI\\Sem8\\WS\\unnormalized\n",
    "        save(os.path.join('top25','data_chb{:02d}/features_{}_{:02d}'.format(patient_no, patient_no, filno)), datapoints_in)\n",
    "        save(os.path.join('top25','data_chb{:02d}/targets_{}_{:02d}'.format(patient_no,patient_no, filno)) , targets)\n",
    "        print('total number of windows: {} , number of windows discarded: {} '.format(i/(window_size/2), discarded))\n",
    "        \n",
    "\n"
   ]
  },
  {
   "source": [
    "\n",
    "data = load('features_17_12.npy')\n",
    "# data2 = load('features/data_chb01/targets_1_0.npy')\n",
    "len(data)"
   ],
   "cell_type": "code",
   "metadata": {},
   "execution_count": 17,
   "outputs": [
    {
     "output_type": "error",
     "ename": "FileNotFoundError",
     "evalue": "[Errno 2] No such file or directory: 'features_17_12.npy'",
     "traceback": [
      "\u001b[1;31m---------------------------------------------------------------------------\u001b[0m",
      "\u001b[1;31mFileNotFoundError\u001b[0m                         Traceback (most recent call last)",
      "\u001b[1;32m<ipython-input-17-77a491d31765>\u001b[0m in \u001b[0;36m<module>\u001b[1;34m\u001b[0m\n\u001b[1;32m----> 1\u001b[1;33m \u001b[0mdata\u001b[0m \u001b[1;33m=\u001b[0m \u001b[0mload\u001b[0m\u001b[1;33m(\u001b[0m\u001b[1;34m'features_17_12.npy'\u001b[0m\u001b[1;33m)\u001b[0m\u001b[1;33m\u001b[0m\u001b[1;33m\u001b[0m\u001b[0m\n\u001b[0m\u001b[0;32m      2\u001b[0m \u001b[1;31m# data2 = load('features/data_chb01/targets_1_0.npy')\u001b[0m\u001b[1;33m\u001b[0m\u001b[1;33m\u001b[0m\u001b[1;33m\u001b[0m\u001b[0m\n\u001b[0;32m      3\u001b[0m \u001b[0mlen\u001b[0m\u001b[1;33m(\u001b[0m\u001b[0mdata\u001b[0m\u001b[1;33m)\u001b[0m\u001b[1;33m\u001b[0m\u001b[1;33m\u001b[0m\u001b[0m\n",
      "\u001b[1;32m~\\anaconda3\\envs\\tf-gpu\\lib\\site-packages\\numpy\\lib\\npyio.py\u001b[0m in \u001b[0;36mload\u001b[1;34m(file, mmap_mode, allow_pickle, fix_imports, encoding)\u001b[0m\n\u001b[0;32m    414\u001b[0m             \u001b[0mown_fid\u001b[0m \u001b[1;33m=\u001b[0m \u001b[1;32mFalse\u001b[0m\u001b[1;33m\u001b[0m\u001b[1;33m\u001b[0m\u001b[0m\n\u001b[0;32m    415\u001b[0m         \u001b[1;32melse\u001b[0m\u001b[1;33m:\u001b[0m\u001b[1;33m\u001b[0m\u001b[1;33m\u001b[0m\u001b[0m\n\u001b[1;32m--> 416\u001b[1;33m             \u001b[0mfid\u001b[0m \u001b[1;33m=\u001b[0m \u001b[0mstack\u001b[0m\u001b[1;33m.\u001b[0m\u001b[0menter_context\u001b[0m\u001b[1;33m(\u001b[0m\u001b[0mopen\u001b[0m\u001b[1;33m(\u001b[0m\u001b[0mos_fspath\u001b[0m\u001b[1;33m(\u001b[0m\u001b[0mfile\u001b[0m\u001b[1;33m)\u001b[0m\u001b[1;33m,\u001b[0m \u001b[1;34m\"rb\"\u001b[0m\u001b[1;33m)\u001b[0m\u001b[1;33m)\u001b[0m\u001b[1;33m\u001b[0m\u001b[1;33m\u001b[0m\u001b[0m\n\u001b[0m\u001b[0;32m    417\u001b[0m             \u001b[0mown_fid\u001b[0m \u001b[1;33m=\u001b[0m \u001b[1;32mTrue\u001b[0m\u001b[1;33m\u001b[0m\u001b[1;33m\u001b[0m\u001b[0m\n\u001b[0;32m    418\u001b[0m \u001b[1;33m\u001b[0m\u001b[0m\n",
      "\u001b[1;31mFileNotFoundError\u001b[0m: [Errno 2] No such file or directory: 'features_17_12.npy'"
     ]
    }
   ]
  },
  {
   "cell_type": "code",
   "execution_count": 63,
   "metadata": {},
   "outputs": [],
   "source": [
    "save('features_{}_{}.npy'.format(17, 12), data)\n"
   ]
  },
  {
   "cell_type": "code",
   "execution_count": 65,
   "metadata": {},
   "outputs": [
    {
     "output_type": "execute_result",
     "data": {
      "text/plain": [
       "(358,)"
      ]
     },
     "metadata": {},
     "execution_count": 65
    }
   ],
   "source": [
    "data.shape"
   ]
  },
  {
   "cell_type": "code",
   "execution_count": 61,
   "metadata": {},
   "outputs": [],
   "source": [
    "data=data[0:147]"
   ]
  },
  {
   "cell_type": "code",
   "execution_count": 32,
   "metadata": {},
   "outputs": [
    {
     "output_type": "execute_result",
     "data": {
      "text/plain": [
       "30576"
      ]
     },
     "metadata": {},
     "execution_count": 32
    }
   ],
   "source": [
    "np.isnan(data).argmax()"
   ]
  },
  {
   "cell_type": "code",
   "execution_count": 33,
   "metadata": {},
   "outputs": [
    {
     "output_type": "execute_result",
     "data": {
      "text/plain": [
       "147.0"
      ]
     },
     "metadata": {},
     "execution_count": 33
    }
   ],
   "source": [
    "30576"
   ]
  },
  {
   "cell_type": "code",
   "execution_count": 152,
   "metadata": {},
   "outputs": [
    {
     "output_type": "execute_result",
     "data": {
      "text/plain": [
       "array([1, 1, 1, 1, 1, 1, 1, 1, 1, 1, 1, 1, 1, 1, 1, 1, 1, 1, 1, 1, 1, 1,\n",
       "       1, 1, 1, 1, 1, 1, 1, 1, 1, 1, 1, 1, 1, 1, 1, 1, 1, 1, 1, 1, 1, 1,\n",
       "       1, 1, 1, 1, 1, 1, 1, 1, 1, 1, 1, 1, 1, 1, 1, 1, 1, 1, 1, 1, 1, 1,\n",
       "       1, 1, 1, 1, 1, 1, 1, 1, 1, 1, 1, 1, 1, 1, 1, 1, 1, 1, 1, 1, 1, 1,\n",
       "       1, 1, 1, 1, 1, 1, 1, 1, 1, 1, 1, 1, 1, 1, 1, 1, 1, 1, 1, 1, 1, 1,\n",
       "       1, 1, 1, 1, 1, 1, 1, 1, 1, 1, 1, 1, 1, 1, 1, 1, 1, 1, 1, 1, 1, 1,\n",
       "       1, 1, 1, 1, 1, 1, 1, 1, 1, 1, 1, 1, 1, 1, 1, 1, 1, 1, 1, 1, 1, 1,\n",
       "       1, 1, 1, 1, 1, 1, 1, 1, 1, 1, 1, 1, 1, 1, 1, 1, 1, 1, 1, 1, 1, 1,\n",
       "       1, 1, 1, 1, 1, 1, 1, 1, 1, 1, 1, 1, 1, 1, 1, 1, 1, 1, 1, 1, 1, 1,\n",
       "       1, 1, 1, 1, 1, 1, 1, 1, 1, 1, 1, 1, 1, 1, 1, 1, 1, 1, 1, 1, 1, 1,\n",
       "       1, 1, 1, 1, 1, 1, 1, 1, 1, 1, 1, 1, 1, 1, 1, 1, 1, 1, 1, 1, 1, 1,\n",
       "       1, 1, 1, 1, 1, 1, 1, 1, 1, 1, 1, 1, 1, 1], dtype=int64)"
      ]
     },
     "metadata": {},
     "execution_count": 152
    }
   ],
   "source": [
    "y_06[0][13525*256:13526*256]"
   ]
  },
  {
   "cell_type": "code",
   "execution_count": 53,
   "metadata": {},
   "outputs": [
    {
     "output_type": "execute_result",
     "data": {
      "text/plain": [
       "242.03846153846155"
      ]
     },
     "metadata": {},
     "execution_count": 53
    }
   ],
   "source": [
    "50344/208"
   ]
  },
  {
   "cell_type": "code",
   "execution_count": 2,
   "metadata": {},
   "outputs": [
    {
     "output_type": "execute_result",
     "data": {
      "text/plain": [
       "15360"
      ]
     },
     "metadata": {},
     "execution_count": 2
    }
   ],
   "source": [
    "256*60\n"
   ]
  },
  {
   "cell_type": "code",
   "execution_count": 91,
   "metadata": {},
   "outputs": [],
   "source": [
    "y_01[3]\n",
    "np.savetxt(\"array_3d.csv\",[y_01[3]],delimiter='\\n',fmt=\"%d\")\n"
   ]
  },
  {
   "cell_type": "code",
   "execution_count": null,
   "metadata": {},
   "outputs": [],
   "source": [
    "edf_filename= 'physionet.org/files/chbmit/1.0.0/chb12/chb12_32.edf'\n",
    "edf = mne.io.read_raw_edf(edf_filename,stim_channel=None)\n",
    "X = edf.get_data().astype(np.float32) * 1e6 # to mV\n",
    "print(edf.get_data()[10])\n",
    "check_channel_match(edf.ch_names)\n",
    "print(shuffle_channels(edf)[10])\n"
   ]
  }
 ]
}